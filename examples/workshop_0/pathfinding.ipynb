{
  "nbformat": 4,
  "nbformat_minor": 0,
  "metadata": {
    "colab": {
      "provenance": []
    },
    "kernelspec": {
      "name": "python3",
      "display_name": "Python 3"
    },
    "language_info": {
      "name": "python"
    }
  },
  "cells": [
    {
      "cell_type": "markdown",
      "source": [
        "# Qu'est-ce que la recherche de trajets ?\n",
        "\n",
        "C'est la recherche d'un trajet qui permet d'aller d'un point A à un point B au travers d'une carte. Dans nos exemples, nous utiliseront les cartes cartésiennes en 2 dimensions, X et Y.\n",
        "\n",
        "// insert image of maps"
      ],
      "metadata": {
        "id": "i_dEAHr2IIDn"
      }
    },
    {
      "cell_type": "markdown",
      "source": [
        "# Représantation d'une carte 2D en python\n",
        "\n",
        "Il est possible de représenter une carte 2D comme un tableau de valeurs en python. Par exemple une carte de 10 en Y à la verticale et 10 en X à l'horizontal peut facilement être écrite en python comme suit:\n",
        "\n"
      ],
      "metadata": {
        "id": "DKYuFQhQKQAm"
      }
    },
    {
      "cell_type": "code",
      "source": [
        "import numpy as np\n",
        "\n",
        "# Ici, Y est en premier et X est en deuxième\n",
        "carte = np.zeros((11, 11))\n",
        "print(carte)"
      ],
      "metadata": {
        "colab": {
          "base_uri": "https://localhost:8080/"
        },
        "id": "dfxgLR1pMa-Z",
        "outputId": "17c1b4e2-643a-4ed0-fdc0-2ec15a3bb9e2"
      },
      "execution_count": null,
      "outputs": [
        {
          "output_type": "stream",
          "name": "stdout",
          "text": [
            "[[0. 0. 0. 0. 0. 0. 0. 0. 0. 0. 0.]\n",
            " [0. 0. 0. 0. 0. 0. 0. 0. 0. 0. 0.]\n",
            " [0. 0. 0. 0. 0. 0. 0. 0. 0. 0. 0.]\n",
            " [0. 0. 0. 0. 0. 0. 0. 0. 0. 0. 0.]\n",
            " [0. 0. 0. 0. 0. 0. 0. 0. 0. 0. 0.]\n",
            " [0. 0. 0. 0. 0. 0. 0. 0. 0. 0. 0.]\n",
            " [0. 0. 0. 0. 0. 0. 0. 0. 0. 0. 0.]\n",
            " [0. 0. 0. 0. 0. 0. 0. 0. 0. 0. 0.]\n",
            " [0. 0. 0. 0. 0. 0. 0. 0. 0. 0. 0.]\n",
            " [0. 0. 0. 0. 0. 0. 0. 0. 0. 0. 0.]\n",
            " [0. 0. 0. 0. 0. 0. 0. 0. 0. 0. 0.]]\n"
          ]
        }
      ]
    },
    {
      "cell_type": "markdown",
      "source": [
        "Par la suite on peut manuellement ajouter des information pour chaque point en changeant des informations contenu dans le tableau. Par exemple, si on veut dire que le point de départ est à Y = 0 et X = 0 on peut assigner la valeur 1 comme suit:"
      ],
      "metadata": {
        "id": "71r_C91zMWSx"
      }
    },
    {
      "cell_type": "code",
      "source": [
        "carte[0, 0] = 1\n",
        "print(carte)"
      ],
      "metadata": {
        "colab": {
          "base_uri": "https://localhost:8080/"
        },
        "id": "rXYzNkWaMmmb",
        "outputId": "508d4512-458f-4097-8cce-0263e551b65c"
      },
      "execution_count": null,
      "outputs": [
        {
          "output_type": "stream",
          "name": "stdout",
          "text": [
            "[[1. 0. 0. 0. 0. 0. 0. 0. 0. 0. 0.]\n",
            " [0. 0. 0. 0. 0. 0. 0. 0. 0. 0. 0.]\n",
            " [0. 0. 0. 0. 0. 0. 0. 0. 0. 0. 0.]\n",
            " [0. 0. 0. 0. 0. 0. 0. 0. 0. 0. 0.]\n",
            " [0. 0. 0. 0. 0. 0. 0. 0. 0. 0. 0.]\n",
            " [0. 0. 0. 0. 0. 0. 0. 0. 0. 0. 0.]\n",
            " [0. 0. 0. 0. 0. 0. 0. 0. 0. 0. 0.]\n",
            " [0. 0. 0. 0. 0. 0. 0. 0. 0. 0. 0.]\n",
            " [0. 0. 0. 0. 0. 0. 0. 0. 0. 0. 0.]\n",
            " [0. 0. 0. 0. 0. 0. 0. 0. 0. 0. 0.]\n",
            " [0. 0. 0. 0. 0. 0. 0. 0. 0. 0. 0.]]\n"
          ]
        }
      ]
    },
    {
      "cell_type": "markdown",
      "source": [
        "Si on veut ajouter un point d'arrivé à Y = 7, X = 9, on peut assigner la valeur 2 comme suit:"
      ],
      "metadata": {
        "id": "s_4TzlR4MY_H"
      }
    },
    {
      "cell_type": "code",
      "execution_count": null,
      "metadata": {
        "colab": {
          "base_uri": "https://localhost:8080/"
        },
        "id": "tegLPt9hIDnJ",
        "outputId": "baac8d16-a1a1-4232-976f-f89868f8bc88"
      },
      "outputs": [
        {
          "output_type": "stream",
          "name": "stdout",
          "text": [
            "[[1. 0. 0. 0. 0. 0. 0. 0. 0. 0. 0.]\n",
            " [0. 0. 0. 0. 0. 0. 0. 0. 0. 0. 0.]\n",
            " [0. 0. 0. 0. 0. 0. 0. 0. 0. 0. 0.]\n",
            " [0. 0. 0. 0. 0. 0. 0. 0. 0. 0. 0.]\n",
            " [0. 0. 0. 0. 0. 0. 0. 0. 0. 0. 0.]\n",
            " [0. 0. 0. 0. 0. 0. 0. 0. 0. 0. 0.]\n",
            " [0. 0. 0. 0. 0. 0. 0. 0. 0. 0. 0.]\n",
            " [0. 0. 0. 0. 0. 0. 0. 0. 0. 2. 0.]\n",
            " [0. 0. 0. 0. 0. 0. 0. 0. 0. 0. 0.]\n",
            " [0. 0. 0. 0. 0. 0. 0. 0. 0. 0. 0.]\n",
            " [0. 0. 0. 0. 0. 0. 0. 0. 0. 0. 0.]]\n"
          ]
        }
      ],
      "source": [
        "carte[7, 9] = 2\n",
        "print(carte)"
      ]
    },
    {
      "cell_type": "markdown",
      "source": [
        "Si on veut ajouter des obstacles dans la colone du centre de la carte, on peut assigner la valeur 3 comme suit:"
      ],
      "metadata": {
        "id": "mtQOuejgOibn"
      }
    },
    {
      "cell_type": "code",
      "source": [
        "carte[:, 5] = 3\n",
        "print(carte)"
      ],
      "metadata": {
        "colab": {
          "base_uri": "https://localhost:8080/"
        },
        "id": "vF5lMcMLOMOE",
        "outputId": "d886aa01-29f8-4da5-dc80-08d5ed832328"
      },
      "execution_count": null,
      "outputs": [
        {
          "output_type": "stream",
          "name": "stdout",
          "text": [
            "[[1. 0. 0. 0. 0. 3. 0. 0. 0. 0. 0.]\n",
            " [0. 0. 0. 0. 0. 3. 0. 0. 0. 0. 0.]\n",
            " [0. 0. 0. 0. 0. 3. 0. 0. 0. 0. 0.]\n",
            " [0. 0. 0. 0. 0. 3. 0. 0. 0. 0. 0.]\n",
            " [0. 0. 0. 0. 0. 3. 0. 0. 0. 0. 0.]\n",
            " [0. 0. 0. 0. 0. 3. 0. 0. 0. 0. 0.]\n",
            " [0. 0. 0. 0. 0. 3. 0. 0. 0. 0. 0.]\n",
            " [0. 0. 0. 0. 0. 3. 0. 0. 0. 2. 0.]\n",
            " [0. 0. 0. 0. 0. 3. 0. 0. 0. 0. 0.]\n",
            " [0. 0. 0. 0. 0. 3. 0. 0. 0. 0. 0.]\n",
            " [0. 0. 0. 0. 0. 3. 0. 0. 0. 0. 0.]]\n"
          ]
        }
      ]
    },
    {
      "cell_type": "markdown",
      "source": [
        "De même que si on veut ajouter des obstacles dans la ligne du centre, on peut assigner la valeur 3 comme suit:"
      ],
      "metadata": {
        "id": "_W5jmikQO47-"
      }
    },
    {
      "cell_type": "code",
      "source": [
        "carte[5, :] = 3\n",
        "print(carte)"
      ],
      "metadata": {
        "colab": {
          "base_uri": "https://localhost:8080/"
        },
        "id": "0mAuJVL6PA14",
        "outputId": "d0ea710a-8ce0-408b-f89a-3d686fc32310"
      },
      "execution_count": null,
      "outputs": [
        {
          "output_type": "stream",
          "name": "stdout",
          "text": [
            "[[1. 0. 0. 0. 0. 3. 0. 0. 0. 0. 0.]\n",
            " [0. 0. 0. 0. 0. 3. 0. 0. 0. 0. 0.]\n",
            " [0. 0. 0. 0. 0. 3. 0. 0. 0. 0. 0.]\n",
            " [0. 0. 0. 0. 0. 3. 0. 0. 0. 0. 0.]\n",
            " [0. 0. 0. 0. 0. 3. 0. 0. 0. 0. 0.]\n",
            " [3. 3. 3. 3. 3. 3. 3. 3. 3. 3. 3.]\n",
            " [0. 0. 0. 0. 0. 3. 0. 0. 0. 0. 0.]\n",
            " [0. 0. 0. 0. 0. 3. 0. 0. 0. 2. 0.]\n",
            " [0. 0. 0. 0. 0. 3. 0. 0. 0. 0. 0.]\n",
            " [0. 0. 0. 0. 0. 3. 0. 0. 0. 0. 0.]\n",
            " [0. 0. 0. 0. 0. 3. 0. 0. 0. 0. 0.]]\n"
          ]
        }
      ]
    },
    {
      "cell_type": "markdown",
      "source": [
        "Maintenant si on veut ajouter des obstacles aléatoires dans la carte, on peut assigner la valeur 4 comme suit:"
      ],
      "metadata": {
        "id": "1zMUvo23PQF6"
      }
    },
    {
      "cell_type": "code",
      "source": [
        "# Il se peut que l'obstacle aléatoire soit par dessus un autre dans la carte\n",
        "random_Y = np.random.randint(0, 11)\n",
        "random_X = np.random.randint(0, 11)\n",
        "carte[random_Y, random_X] = 4\n",
        "print(carte)"
      ],
      "metadata": {
        "colab": {
          "base_uri": "https://localhost:8080/"
        },
        "id": "r-5jYgHhPPmM",
        "outputId": "9c921de5-9763-435a-cb36-5e5cecf9e96d"
      },
      "execution_count": null,
      "outputs": [
        {
          "output_type": "stream",
          "name": "stdout",
          "text": [
            "[[5. 0. 0. 0. 5. 3. 0. 0. 0. 0. 0.]\n",
            " [0. 0. 0. 0. 0. 3. 0. 0. 0. 3. 0.]\n",
            " [0. 0. 0. 0. 0. 3. 0. 0. 0. 0. 0.]\n",
            " [0. 0. 0. 0. 0. 3. 0. 0. 0. 0. 0.]\n",
            " [0. 0. 0. 0. 0. 3. 0. 0. 0. 0. 0.]\n",
            " [3. 4. 3. 3. 3. 3. 3. 3. 3. 3. 3.]\n",
            " [0. 0. 0. 0. 5. 3. 0. 0. 0. 0. 0.]\n",
            " [0. 5. 0. 5. 0. 3. 0. 0. 0. 2. 0.]\n",
            " [5. 5. 0. 0. 5. 3. 0. 0. 0. 5. 0.]\n",
            " [0. 0. 0. 0. 0. 3. 0. 5. 0. 0. 0.]\n",
            " [0. 0. 0. 0. 0. 3. 0. 0. 0. 0. 0.]]\n"
          ]
        }
      ]
    },
    {
      "cell_type": "markdown",
      "source": [
        "Dans si on veut en ajouter 10 obstacles avec la valeur 5 ça donne :"
      ],
      "metadata": {
        "id": "E5Q2ZMmXPlVL"
      }
    },
    {
      "cell_type": "code",
      "source": [
        "for i in range(10):\n",
        "    random_Y = np.random.randint(0, 11)\n",
        "    random_X = np.random.randint(0, 11)\n",
        "    carte[random_Y, random_X] = 5\n",
        "print(carte)"
      ],
      "metadata": {
        "colab": {
          "base_uri": "https://localhost:8080/"
        },
        "id": "yvx_g5MAPNCF",
        "outputId": "5fe80d7c-84d9-47b5-e4bd-8f9d4c08e481"
      },
      "execution_count": null,
      "outputs": [
        {
          "output_type": "stream",
          "name": "stdout",
          "text": [
            "[[5. 0. 0. 0. 5. 3. 0. 0. 0. 0. 0.]\n",
            " [5. 0. 0. 0. 0. 3. 0. 5. 0. 3. 5.]\n",
            " [0. 0. 5. 5. 0. 3. 0. 0. 0. 0. 0.]\n",
            " [0. 0. 0. 0. 5. 3. 0. 0. 0. 0. 0.]\n",
            " [0. 0. 0. 0. 5. 3. 0. 0. 0. 0. 5.]\n",
            " [3. 4. 3. 3. 3. 3. 5. 3. 3. 3. 3.]\n",
            " [0. 0. 0. 0. 5. 3. 0. 0. 0. 0. 0.]\n",
            " [0. 5. 0. 5. 0. 3. 0. 0. 0. 2. 0.]\n",
            " [5. 5. 0. 0. 5. 3. 0. 0. 0. 5. 0.]\n",
            " [0. 0. 0. 0. 0. 3. 0. 5. 0. 5. 0.]\n",
            " [0. 0. 0. 0. 0. 3. 0. 0. 0. 0. 0.]]\n"
          ]
        }
      ]
    },
    {
      "cell_type": "markdown",
      "source": [
        "# ❗ RAPPEL : Peut-on ajouter ou lire une valeur à l'index 11, 11 ?"
      ],
      "metadata": {
        "id": "UNyfUgaDNY3W"
      }
    },
    {
      "cell_type": "code",
      "source": [
        "carte[10, 10] = 3\n",
        "print(carte[10, 10])"
      ],
      "metadata": {
        "colab": {
          "base_uri": "https://localhost:8080/",
          "height": 141
        },
        "id": "fSxAQEhFNpgt",
        "outputId": "88e98c9e-2376-41bc-898e-494d7395303e"
      },
      "execution_count": null,
      "outputs": [
        {
          "output_type": "error",
          "ename": "IndexError",
          "evalue": "index 10 is out of bounds for axis 0 with size 10",
          "traceback": [
            "\u001b[0;31m---------------------------------------------------------------------------\u001b[0m",
            "\u001b[0;31mIndexError\u001b[0m                                Traceback (most recent call last)",
            "\u001b[0;32m/tmp/ipython-input-546174669.py\u001b[0m in \u001b[0;36m<cell line: 0>\u001b[0;34m()\u001b[0m\n\u001b[0;32m----> 1\u001b[0;31m \u001b[0mcarte\u001b[0m\u001b[0;34m[\u001b[0m\u001b[0;36m10\u001b[0m\u001b[0;34m,\u001b[0m \u001b[0;36m10\u001b[0m\u001b[0;34m]\u001b[0m \u001b[0;34m=\u001b[0m \u001b[0;36m3\u001b[0m\u001b[0;34m\u001b[0m\u001b[0;34m\u001b[0m\u001b[0m\n\u001b[0m",
            "\u001b[0;31mIndexError\u001b[0m: index 10 is out of bounds for axis 0 with size 10"
          ]
        }
      ]
    },
    {
      "cell_type": "markdown",
      "source": [
        "# Crée ton labyrinthe!"
      ],
      "metadata": {
        "id": "hhXDtrjzN__d"
      }
    },
    {
      "cell_type": "code",
      "source": [
        "# based on https://inventwithpython.com/recursion/chapter11.html\n",
        "import numpy as np\n",
        "from IPython.display import HTML, display\n",
        "import time\n",
        "\n",
        "# Défini la taille du labyrinthe minimum 3x3 et impair\n",
        "TAILLE_Y = 11\n",
        "TAILLE_X = 21\n",
        "\n",
        "assert TAILLE_Y % 2 == 1 and TAILLE_Y >= 3\n",
        "assert TAILLE_X % 2 == 1 and TAILLE_X >= 3\n",
        "\n",
        "# Permet de regénérer le même labyrinthe\n",
        "import random\n",
        "# SEED = 2\n",
        "# random.seed(SEED)\n",
        "\n",
        "VIDE = ' '\n",
        "MUR = '█'\n",
        "DEBUT = 'D'\n",
        "FIN = 'F'\n",
        "PACMAN = 'c'\n",
        "NORD, SUD, EST, OUEST = 'n', 's', 'e', 'o'\n",
        "\n",
        "labyrinthe = np.full((TAILLE_Y, TAILLE_X), MUR)\n",
        "\n",
        "maze_string = '<br>'.join(''.join(row) for row in labyrinthe)\n",
        "display(HTML(f'''\n",
        "    <div id=\"maze\" style=\"font-family: monospace; white-space: pre; line-height: 1.2;\">\n",
        "    {maze_string}\n",
        "    </div>\n",
        "    <script>\n",
        "    document.getElementById('maze').innerHTML = `{maze_string}`;\n",
        "    </script>\n",
        "    '''))\n",
        "\n",
        "def printLabyrinthe(maze, x, y):\n",
        "    if (x, y) != (0, 0):\n",
        "      maze[y, x] = PACMAN\n",
        "    maze_string = '<br>'.join(''.join(row) for row in maze)\n",
        "\n",
        "    html = f'''\n",
        "    <script>\n",
        "    document.getElementById('maze').innerHTML = `{maze_string}`;\n",
        "    </script>\n",
        "    '''\n",
        "\n",
        "    display(HTML(html))\n",
        "    time.sleep(0.1)\n",
        "\n",
        "\n",
        "def faireChemin(x, y):\n",
        "  \"\"\"Carve out\" empty spaces in the maze at x, y and then\n",
        "    recursively move to neighboring unvisited spaces. This\n",
        "    function backtracks when the mark has reached a dead end.\"\"\"\n",
        "  labyrinthe[y, x] = VIDE\n",
        "  printLabyrinthe(labyrinthe.copy(), x, y)\n",
        "\n",
        "  voisins_non_visites = []\n",
        "  while True:\n",
        "    if y > 1 and (x, y - 2) not in chemin_visites:\n",
        "      voisins_non_visites.append(NORD)\n",
        "    if y < TAILLE_Y - 2 and (x, y + 2) not in chemin_visites:\n",
        "      voisins_non_visites.append(SUD)\n",
        "    if x < TAILLE_X - 2 and (x + 2, y) not in chemin_visites:\n",
        "      voisins_non_visites.append(EST)\n",
        "    if x > 1 and (x - 2, y) not in chemin_visites:\n",
        "      voisins_non_visites.append(OUEST)\n",
        "\n",
        "\n",
        "    if len(voisins_non_visites) == 0:\n",
        "      # dead end\n",
        "      break\n",
        "    else:\n",
        "      # Recursion\n",
        "      prochain_noeud = random.choice(voisins_non_visites)\n",
        "      if prochain_noeud == NORD:\n",
        "        labyrinthe[y - 1, x] = VIDE\n",
        "        y -= 2\n",
        "      elif prochain_noeud == SUD:\n",
        "        labyrinthe[y + 1, x] = VIDE\n",
        "        y += 2\n",
        "      elif prochain_noeud == EST:\n",
        "        labyrinthe[y, x + 1] = VIDE\n",
        "        x += 2\n",
        "      elif prochain_noeud == OUEST:\n",
        "        labyrinthe[y, x - 1] = VIDE\n",
        "        x -= 2\n",
        "      chemin_visites.append((x, y))\n",
        "      voisins_non_visites = []\n",
        "      faireChemin(x, y)\n",
        "\n",
        "\n",
        "chemin_visites = [(1, 1)]\n",
        "faireChemin(1, 1)\n",
        "\n",
        "labyrinthe[1, 1] = DEBUT\n",
        "labyrinthe[-2, -2] = FIN\n",
        "printLabyrinthe(labyrinthe.copy(), 0, 0)\n"
      ],
      "metadata": {
        "colab": {
          "base_uri": "https://localhost:8080/",
          "height": 202
        },
        "id": "d4UjlLUfN60x",
        "outputId": "82dcabd8-ec13-46ff-9b39-b7034b32adb8"
      },
      "execution_count": 16,
      "outputs": [
        {
          "output_type": "display_data",
          "data": {
            "text/plain": [
              "<IPython.core.display.HTML object>"
            ],
            "text/html": [
              "\n",
              "    <div id=\"maze\" style=\"font-family: monospace; white-space: pre; line-height: 1.2;\">\n",
              "    █████████████████████<br>█████████████████████<br>█████████████████████<br>█████████████████████<br>█████████████████████<br>█████████████████████<br>█████████████████████<br>█████████████████████<br>█████████████████████<br>█████████████████████<br>█████████████████████\n",
              "    </div>\n",
              "    <script>\n",
              "    document.getElementById('maze').innerHTML = `█████████████████████<br>█████████████████████<br>█████████████████████<br>█████████████████████<br>█████████████████████<br>█████████████████████<br>█████████████████████<br>█████████████████████<br>█████████████████████<br>█████████████████████<br>█████████████████████`;\n",
              "    </script>\n",
              "    "
            ]
          },
          "metadata": {}
        },
        {
          "output_type": "display_data",
          "data": {
            "text/plain": [
              "<IPython.core.display.HTML object>"
            ],
            "text/html": [
              "\n",
              "    <script>\n",
              "    document.getElementById('maze').innerHTML = `█████████████████████<br>█c███████████████████<br>█████████████████████<br>█████████████████████<br>█████████████████████<br>█████████████████████<br>█████████████████████<br>█████████████████████<br>█████████████████████<br>█████████████████████<br>█████████████████████`;\n",
              "    </script>\n",
              "    "
            ]
          },
          "metadata": {}
        },
        {
          "output_type": "display_data",
          "data": {
            "text/plain": [
              "<IPython.core.display.HTML object>"
            ],
            "text/html": [
              "\n",
              "    <script>\n",
              "    document.getElementById('maze').innerHTML = `█████████████████████<br>█ ███████████████████<br>█ ███████████████████<br>█c███████████████████<br>█████████████████████<br>█████████████████████<br>█████████████████████<br>█████████████████████<br>█████████████████████<br>█████████████████████<br>█████████████████████`;\n",
              "    </script>\n",
              "    "
            ]
          },
          "metadata": {}
        },
        {
          "output_type": "display_data",
          "data": {
            "text/plain": [
              "<IPython.core.display.HTML object>"
            ],
            "text/html": [
              "\n",
              "    <script>\n",
              "    document.getElementById('maze').innerHTML = `█████████████████████<br>█ ███████████████████<br>█ ███████████████████<br>█  c█████████████████<br>█████████████████████<br>█████████████████████<br>█████████████████████<br>█████████████████████<br>█████████████████████<br>█████████████████████<br>█████████████████████`;\n",
              "    </script>\n",
              "    "
            ]
          },
          "metadata": {}
        },
        {
          "output_type": "display_data",
          "data": {
            "text/plain": [
              "<IPython.core.display.HTML object>"
            ],
            "text/html": [
              "\n",
              "    <script>\n",
              "    document.getElementById('maze').innerHTML = `█████████████████████<br>█ ███████████████████<br>█ ███████████████████<br>█   █████████████████<br>███ █████████████████<br>███c█████████████████<br>█████████████████████<br>█████████████████████<br>█████████████████████<br>█████████████████████<br>█████████████████████`;\n",
              "    </script>\n",
              "    "
            ]
          },
          "metadata": {}
        },
        {
          "output_type": "display_data",
          "data": {
            "text/plain": [
              "<IPython.core.display.HTML object>"
            ],
            "text/html": [
              "\n",
              "    <script>\n",
              "    document.getElementById('maze').innerHTML = `█████████████████████<br>█ ███████████████████<br>█ ███████████████████<br>█   █████████████████<br>███ █████████████████<br>███ █████████████████<br>███ █████████████████<br>███c█████████████████<br>█████████████████████<br>█████████████████████<br>█████████████████████`;\n",
              "    </script>\n",
              "    "
            ]
          },
          "metadata": {}
        },
        {
          "output_type": "display_data",
          "data": {
            "text/plain": [
              "<IPython.core.display.HTML object>"
            ],
            "text/html": [
              "\n",
              "    <script>\n",
              "    document.getElementById('maze').innerHTML = `█████████████████████<br>█ ███████████████████<br>█ ███████████████████<br>█   █████████████████<br>███ █████████████████<br>███ █████████████████<br>███ █████████████████<br>███ █████████████████<br>███ █████████████████<br>███c█████████████████<br>█████████████████████`;\n",
              "    </script>\n",
              "    "
            ]
          },
          "metadata": {}
        },
        {
          "output_type": "display_data",
          "data": {
            "text/plain": [
              "<IPython.core.display.HTML object>"
            ],
            "text/html": [
              "\n",
              "    <script>\n",
              "    document.getElementById('maze').innerHTML = `█████████████████████<br>█ ███████████████████<br>█ ███████████████████<br>█   █████████████████<br>███ █████████████████<br>███ █████████████████<br>███ █████████████████<br>███ █████████████████<br>███ █████████████████<br>███  c███████████████<br>█████████████████████`;\n",
              "    </script>\n",
              "    "
            ]
          },
          "metadata": {}
        },
        {
          "output_type": "display_data",
          "data": {
            "text/plain": [
              "<IPython.core.display.HTML object>"
            ],
            "text/html": [
              "\n",
              "    <script>\n",
              "    document.getElementById('maze').innerHTML = `█████████████████████<br>█ ███████████████████<br>█ ███████████████████<br>█   █████████████████<br>███ █████████████████<br>███ █████████████████<br>███ █████████████████<br>███ █c███████████████<br>███ █ ███████████████<br>███   ███████████████<br>█████████████████████`;\n",
              "    </script>\n",
              "    "
            ]
          },
          "metadata": {}
        },
        {
          "output_type": "display_data",
          "data": {
            "text/plain": [
              "<IPython.core.display.HTML object>"
            ],
            "text/html": [
              "\n",
              "    <script>\n",
              "    document.getElementById('maze').innerHTML = `█████████████████████<br>█ ███████████████████<br>█ ███████████████████<br>█   █████████████████<br>███ █████████████████<br>███ █c███████████████<br>███ █ ███████████████<br>███ █ ███████████████<br>███ █ ███████████████<br>███   ███████████████<br>█████████████████████`;\n",
              "    </script>\n",
              "    "
            ]
          },
          "metadata": {}
        },
        {
          "output_type": "display_data",
          "data": {
            "text/plain": [
              "<IPython.core.display.HTML object>"
            ],
            "text/html": [
              "\n",
              "    <script>\n",
              "    document.getElementById('maze').innerHTML = `█████████████████████<br>█ ███████████████████<br>█ ███████████████████<br>█   █████████████████<br>███ █████████████████<br>███ █  c█████████████<br>███ █ ███████████████<br>███ █ ███████████████<br>███ █ ███████████████<br>███   ███████████████<br>█████████████████████`;\n",
              "    </script>\n",
              "    "
            ]
          },
          "metadata": {}
        },
        {
          "output_type": "display_data",
          "data": {
            "text/plain": [
              "<IPython.core.display.HTML object>"
            ],
            "text/html": [
              "\n",
              "    <script>\n",
              "    document.getElementById('maze').innerHTML = `█████████████████████<br>█ ███████████████████<br>█ ███████████████████<br>█   █████████████████<br>███ █████████████████<br>███ █   █████████████<br>███ █ █ █████████████<br>███ █ █c█████████████<br>███ █ ███████████████<br>███   ███████████████<br>█████████████████████`;\n",
              "    </script>\n",
              "    "
            ]
          },
          "metadata": {}
        },
        {
          "output_type": "display_data",
          "data": {
            "text/plain": [
              "<IPython.core.display.HTML object>"
            ],
            "text/html": [
              "\n",
              "    <script>\n",
              "    document.getElementById('maze').innerHTML = `█████████████████████<br>█ ███████████████████<br>█ ███████████████████<br>█   █████████████████<br>███ █████████████████<br>███ █   █████████████<br>███ █ █ █████████████<br>███ █ █ █████████████<br>███ █ █ █████████████<br>███   █c█████████████<br>█████████████████████`;\n",
              "    </script>\n",
              "    "
            ]
          },
          "metadata": {}
        },
        {
          "output_type": "display_data",
          "data": {
            "text/plain": [
              "<IPython.core.display.HTML object>"
            ],
            "text/html": [
              "\n",
              "    <script>\n",
              "    document.getElementById('maze').innerHTML = `█████████████████████<br>█ ███████████████████<br>█ ███████████████████<br>█   █████████████████<br>███ █████████████████<br>███ █   █████████████<br>███ █ █ █████████████<br>███ █ █ █████████████<br>███ █ █ █████████████<br>███   █  c███████████<br>█████████████████████`;\n",
              "    </script>\n",
              "    "
            ]
          },
          "metadata": {}
        },
        {
          "output_type": "display_data",
          "data": {
            "text/plain": [
              "<IPython.core.display.HTML object>"
            ],
            "text/html": [
              "\n",
              "    <script>\n",
              "    document.getElementById('maze').innerHTML = `█████████████████████<br>█ ███████████████████<br>█ ███████████████████<br>█   █████████████████<br>███ █████████████████<br>███ █   █████████████<br>███ █ █ █████████████<br>███ █ █ █████████████<br>███ █ █ █████████████<br>███   █    c█████████<br>█████████████████████`;\n",
              "    </script>\n",
              "    "
            ]
          },
          "metadata": {}
        },
        {
          "output_type": "display_data",
          "data": {
            "text/plain": [
              "<IPython.core.display.HTML object>"
            ],
            "text/html": [
              "\n",
              "    <script>\n",
              "    document.getElementById('maze').innerHTML = `█████████████████████<br>█ ███████████████████<br>█ ███████████████████<br>█   █████████████████<br>███ █████████████████<br>███ █   █████████████<br>███ █ █ █████████████<br>███ █ █ █████████████<br>███ █ █ █████████████<br>███   █      c███████<br>█████████████████████`;\n",
              "    </script>\n",
              "    "
            ]
          },
          "metadata": {}
        },
        {
          "output_type": "display_data",
          "data": {
            "text/plain": [
              "<IPython.core.display.HTML object>"
            ],
            "text/html": [
              "\n",
              "    <script>\n",
              "    document.getElementById('maze').innerHTML = `█████████████████████<br>█ ███████████████████<br>█ ███████████████████<br>█   █████████████████<br>███ █████████████████<br>███ █   █████████████<br>███ █ █ █████████████<br>███ █ █ █████████████<br>███ █ █ █████████████<br>███   █        c█████<br>█████████████████████`;\n",
              "    </script>\n",
              "    "
            ]
          },
          "metadata": {}
        },
        {
          "output_type": "display_data",
          "data": {
            "text/plain": [
              "<IPython.core.display.HTML object>"
            ],
            "text/html": [
              "\n",
              "    <script>\n",
              "    document.getElementById('maze').innerHTML = `█████████████████████<br>█ ███████████████████<br>█ ███████████████████<br>█   █████████████████<br>███ █████████████████<br>███ █   █████████████<br>███ █ █ █████████████<br>███ █ █ █████████████<br>███ █ █ █████████████<br>███   █          c███<br>█████████████████████`;\n",
              "    </script>\n",
              "    "
            ]
          },
          "metadata": {}
        },
        {
          "output_type": "display_data",
          "data": {
            "text/plain": [
              "<IPython.core.display.HTML object>"
            ],
            "text/html": [
              "\n",
              "    <script>\n",
              "    document.getElementById('maze').innerHTML = `█████████████████████<br>█ ███████████████████<br>█ ███████████████████<br>█   █████████████████<br>███ █████████████████<br>███ █   █████████████<br>███ █ █ █████████████<br>███ █ █ █████████c███<br>███ █ █ █████████ ███<br>███   █           ███<br>█████████████████████`;\n",
              "    </script>\n",
              "    "
            ]
          },
          "metadata": {}
        },
        {
          "output_type": "display_data",
          "data": {
            "text/plain": [
              "<IPython.core.display.HTML object>"
            ],
            "text/html": [
              "\n",
              "    <script>\n",
              "    document.getElementById('maze').innerHTML = `█████████████████████<br>█ ███████████████████<br>█ ███████████████████<br>█   █████████████████<br>███ █████████████████<br>███ █   █████████████<br>███ █ █ █████████████<br>███ █ █ ███████c  ███<br>███ █ █ █████████ ███<br>███   █           ███<br>█████████████████████`;\n",
              "    </script>\n",
              "    "
            ]
          },
          "metadata": {}
        },
        {
          "output_type": "display_data",
          "data": {
            "text/plain": [
              "<IPython.core.display.HTML object>"
            ],
            "text/html": [
              "\n",
              "    <script>\n",
              "    document.getElementById('maze').innerHTML = `█████████████████████<br>█ ███████████████████<br>█ ███████████████████<br>█   █████████████████<br>███ █████████████████<br>███ █   █████████████<br>███ █ █ █████████████<br>███ █ █ █████c    ███<br>███ █ █ █████████ ███<br>███   █           ███<br>█████████████████████`;\n",
              "    </script>\n",
              "    "
            ]
          },
          "metadata": {}
        },
        {
          "output_type": "display_data",
          "data": {
            "text/plain": [
              "<IPython.core.display.HTML object>"
            ],
            "text/html": [
              "\n",
              "    <script>\n",
              "    document.getElementById('maze').innerHTML = `█████████████████████<br>█ ███████████████████<br>█ ███████████████████<br>█   █████████████████<br>███ █████████████████<br>███ █   █████c███████<br>███ █ █ █████ ███████<br>███ █ █ █████     ███<br>███ █ █ █████████ ███<br>███   █           ███<br>█████████████████████`;\n",
              "    </script>\n",
              "    "
            ]
          },
          "metadata": {}
        },
        {
          "output_type": "display_data",
          "data": {
            "text/plain": [
              "<IPython.core.display.HTML object>"
            ],
            "text/html": [
              "\n",
              "    <script>\n",
              "    document.getElementById('maze').innerHTML = `█████████████████████<br>█ ███████████████████<br>█ ███████████████████<br>█   █████████c███████<br>███ █████████ ███████<br>███ █   █████ ███████<br>███ █ █ █████ ███████<br>███ █ █ █████     ███<br>███ █ █ █████████ ███<br>███   █           ███<br>█████████████████████`;\n",
              "    </script>\n",
              "    "
            ]
          },
          "metadata": {}
        },
        {
          "output_type": "display_data",
          "data": {
            "text/plain": [
              "<IPython.core.display.HTML object>"
            ],
            "text/html": [
              "\n",
              "    <script>\n",
              "    document.getElementById('maze').innerHTML = `█████████████████████<br>█ ███████████████████<br>█ ███████████████████<br>█   ███████c  ███████<br>███ █████████ ███████<br>███ █   █████ ███████<br>███ █ █ █████ ███████<br>███ █ █ █████     ███<br>███ █ █ █████████ ███<br>███   █           ███<br>█████████████████████`;\n",
              "    </script>\n",
              "    "
            ]
          },
          "metadata": {}
        },
        {
          "output_type": "display_data",
          "data": {
            "text/plain": [
              "<IPython.core.display.HTML object>"
            ],
            "text/html": [
              "\n",
              "    <script>\n",
              "    document.getElementById('maze').innerHTML = `█████████████████████<br>█ ███████████████████<br>█ ███████████████████<br>█   ███████   ███████<br>███ ███████ █ ███████<br>███ █   ███c█ ███████<br>███ █ █ █████ ███████<br>███ █ █ █████     ███<br>███ █ █ █████████ ███<br>███   █           ███<br>█████████████████████`;\n",
              "    </script>\n",
              "    "
            ]
          },
          "metadata": {}
        },
        {
          "output_type": "display_data",
          "data": {
            "text/plain": [
              "<IPython.core.display.HTML object>"
            ],
            "text/html": [
              "\n",
              "    <script>\n",
              "    document.getElementById('maze').innerHTML = `█████████████████████<br>█ ███████████████████<br>█ ███████████████████<br>█   ███████   ███████<br>███ ███████ █ ███████<br>███ █   █c  █ ███████<br>███ █ █ █████ ███████<br>███ █ █ █████     ███<br>███ █ █ █████████ ███<br>███   █           ███<br>█████████████████████`;\n",
              "    </script>\n",
              "    "
            ]
          },
          "metadata": {}
        },
        {
          "output_type": "display_data",
          "data": {
            "text/plain": [
              "<IPython.core.display.HTML object>"
            ],
            "text/html": [
              "\n",
              "    <script>\n",
              "    document.getElementById('maze').innerHTML = `█████████████████████<br>█ ███████████████████<br>█ ███████████████████<br>█   █████c█   ███████<br>███ █████ █ █ ███████<br>███ █   █   █ ███████<br>███ █ █ █████ ███████<br>███ █ █ █████     ███<br>███ █ █ █████████ ███<br>███   █           ███<br>█████████████████████`;\n",
              "    </script>\n",
              "    "
            ]
          },
          "metadata": {}
        },
        {
          "output_type": "display_data",
          "data": {
            "text/plain": [
              "<IPython.core.display.HTML object>"
            ],
            "text/html": [
              "\n",
              "    <script>\n",
              "    document.getElementById('maze').innerHTML = `█████████████████████<br>█ ███████████████████<br>█ ███████████████████<br>█   ███c  █   ███████<br>███ █████ █ █ ███████<br>███ █   █   █ ███████<br>███ █ █ █████ ███████<br>███ █ █ █████     ███<br>███ █ █ █████████ ███<br>███   █           ███<br>█████████████████████`;\n",
              "    </script>\n",
              "    "
            ]
          },
          "metadata": {}
        },
        {
          "output_type": "display_data",
          "data": {
            "text/plain": [
              "<IPython.core.display.HTML object>"
            ],
            "text/html": [
              "\n",
              "    <script>\n",
              "    document.getElementById('maze').innerHTML = `█████████████████████<br>█ █████c█████████████<br>█ █████ █████████████<br>█   ███   █   ███████<br>███ █████ █ █ ███████<br>███ █   █   █ ███████<br>███ █ █ █████ ███████<br>███ █ █ █████     ███<br>███ █ █ █████████ ███<br>███   █           ███<br>█████████████████████`;\n",
              "    </script>\n",
              "    "
            ]
          },
          "metadata": {}
        },
        {
          "output_type": "display_data",
          "data": {
            "text/plain": [
              "<IPython.core.display.HTML object>"
            ],
            "text/html": [
              "\n",
              "    <script>\n",
              "    document.getElementById('maze').innerHTML = `█████████████████████<br>█ ███c  █████████████<br>█ █████ █████████████<br>█   ███   █   ███████<br>███ █████ █ █ ███████<br>███ █   █   █ ███████<br>███ █ █ █████ ███████<br>███ █ █ █████     ███<br>███ █ █ █████████ ███<br>███   █           ███<br>█████████████████████`;\n",
              "    </script>\n",
              "    "
            ]
          },
          "metadata": {}
        },
        {
          "output_type": "display_data",
          "data": {
            "text/plain": [
              "<IPython.core.display.HTML object>"
            ],
            "text/html": [
              "\n",
              "    <script>\n",
              "    document.getElementById('maze').innerHTML = `█████████████████████<br>█ █c    █████████████<br>█ █████ █████████████<br>█   ███   █   ███████<br>███ █████ █ █ ███████<br>███ █   █   █ ███████<br>███ █ █ █████ ███████<br>███ █ █ █████     ███<br>███ █ █ █████████ ███<br>███   █           ███<br>█████████████████████`;\n",
              "    </script>\n",
              "    "
            ]
          },
          "metadata": {}
        },
        {
          "output_type": "display_data",
          "data": {
            "text/plain": [
              "<IPython.core.display.HTML object>"
            ],
            "text/html": [
              "\n",
              "    <script>\n",
              "    document.getElementById('maze').innerHTML = `█████████████████████<br>█ █     █████████████<br>█ ███ █ █████████████<br>█   █c█   █   ███████<br>███ █████ █ █ ███████<br>███ █   █   █ ███████<br>███ █ █ █████ ███████<br>███ █ █ █████     ███<br>███ █ █ █████████ ███<br>███   █           ███<br>█████████████████████`;\n",
              "    </script>\n",
              "    "
            ]
          },
          "metadata": {}
        },
        {
          "output_type": "display_data",
          "data": {
            "text/plain": [
              "<IPython.core.display.HTML object>"
            ],
            "text/html": [
              "\n",
              "    <script>\n",
              "    document.getElementById('maze').innerHTML = `█████████████████████<br>█ █      c███████████<br>█ ███ █ █████████████<br>█   █ █   █   ███████<br>███ █████ █ █ ███████<br>███ █   █   █ ███████<br>███ █ █ █████ ███████<br>███ █ █ █████     ███<br>███ █ █ █████████ ███<br>███   █           ███<br>█████████████████████`;\n",
              "    </script>\n",
              "    "
            ]
          },
          "metadata": {}
        },
        {
          "output_type": "display_data",
          "data": {
            "text/plain": [
              "<IPython.core.display.HTML object>"
            ],
            "text/html": [
              "\n",
              "    <script>\n",
              "    document.getElementById('maze').innerHTML = `█████████████████████<br>█ █        c█████████<br>█ ███ █ █████████████<br>█   █ █   █   ███████<br>███ █████ █ █ ███████<br>███ █   █   █ ███████<br>███ █ █ █████ ███████<br>███ █ █ █████     ███<br>███ █ █ █████████ ███<br>███   █           ███<br>█████████████████████`;\n",
              "    </script>\n",
              "    "
            ]
          },
          "metadata": {}
        },
        {
          "output_type": "display_data",
          "data": {
            "text/plain": [
              "<IPython.core.display.HTML object>"
            ],
            "text/html": [
              "\n",
              "    <script>\n",
              "    document.getElementById('maze').innerHTML = `█████████████████████<br>█ █          c███████<br>█ ███ █ █████████████<br>█   █ █   █   ███████<br>███ █████ █ █ ███████<br>███ █   █   █ ███████<br>███ █ █ █████ ███████<br>███ █ █ █████     ███<br>███ █ █ █████████ ███<br>███   █           ███<br>█████████████████████`;\n",
              "    </script>\n",
              "    "
            ]
          },
          "metadata": {}
        },
        {
          "output_type": "display_data",
          "data": {
            "text/plain": [
              "<IPython.core.display.HTML object>"
            ],
            "text/html": [
              "\n",
              "    <script>\n",
              "    document.getElementById('maze').innerHTML = `█████████████████████<br>█ █            c█████<br>█ ███ █ █████████████<br>█   █ █   █   ███████<br>███ █████ █ █ ███████<br>███ █   █   █ ███████<br>███ █ █ █████ ███████<br>███ █ █ █████     ███<br>███ █ █ █████████ ███<br>███   █           ███<br>█████████████████████`;\n",
              "    </script>\n",
              "    "
            ]
          },
          "metadata": {}
        },
        {
          "output_type": "display_data",
          "data": {
            "text/plain": [
              "<IPython.core.display.HTML object>"
            ],
            "text/html": [
              "\n",
              "    <script>\n",
              "    document.getElementById('maze').innerHTML = `█████████████████████<br>█ █             █████<br>█ ███ █ ███████ █████<br>█   █ █   █   █c█████<br>███ █████ █ █ ███████<br>███ █   █   █ ███████<br>███ █ █ █████ ███████<br>███ █ █ █████     ███<br>███ █ █ █████████ ███<br>███   █           ███<br>█████████████████████`;\n",
              "    </script>\n",
              "    "
            ]
          },
          "metadata": {}
        },
        {
          "output_type": "display_data",
          "data": {
            "text/plain": [
              "<IPython.core.display.HTML object>"
            ],
            "text/html": [
              "\n",
              "    <script>\n",
              "    document.getElementById('maze').innerHTML = `█████████████████████<br>█ █             █████<br>█ ███ █ ███████ █████<br>█   █ █   █   █  c███<br>███ █████ █ █ ███████<br>███ █   █   █ ███████<br>███ █ █ █████ ███████<br>███ █ █ █████     ███<br>███ █ █ █████████ ███<br>███   █           ███<br>█████████████████████`;\n",
              "    </script>\n",
              "    "
            ]
          },
          "metadata": {}
        },
        {
          "output_type": "display_data",
          "data": {
            "text/plain": [
              "<IPython.core.display.HTML object>"
            ],
            "text/html": [
              "\n",
              "    <script>\n",
              "    document.getElementById('maze').innerHTML = `█████████████████████<br>█ █             █c███<br>█ ███ █ ███████ █ ███<br>█   █ █   █   █   ███<br>███ █████ █ █ ███████<br>███ █   █   █ ███████<br>███ █ █ █████ ███████<br>███ █ █ █████     ███<br>███ █ █ █████████ ███<br>███   █           ███<br>█████████████████████`;\n",
              "    </script>\n",
              "    "
            ]
          },
          "metadata": {}
        },
        {
          "output_type": "display_data",
          "data": {
            "text/plain": [
              "<IPython.core.display.HTML object>"
            ],
            "text/html": [
              "\n",
              "    <script>\n",
              "    document.getElementById('maze').innerHTML = `█████████████████████<br>█ █             █  c█<br>█ ███ █ ███████ █ ███<br>█   █ █   █   █   ███<br>███ █████ █ █ ███████<br>███ █   █   █ ███████<br>███ █ █ █████ ███████<br>███ █ █ █████     ███<br>███ █ █ █████████ ███<br>███   █           ███<br>█████████████████████`;\n",
              "    </script>\n",
              "    "
            ]
          },
          "metadata": {}
        },
        {
          "output_type": "display_data",
          "data": {
            "text/plain": [
              "<IPython.core.display.HTML object>"
            ],
            "text/html": [
              "\n",
              "    <script>\n",
              "    document.getElementById('maze').innerHTML = `█████████████████████<br>█ █             █   █<br>█ ███ █ ███████ █ █ █<br>█   █ █   █   █   █c█<br>███ █████ █ █ ███████<br>███ █   █   █ ███████<br>███ █ █ █████ ███████<br>███ █ █ █████     ███<br>███ █ █ █████████ ███<br>███   █           ███<br>█████████████████████`;\n",
              "    </script>\n",
              "    "
            ]
          },
          "metadata": {}
        },
        {
          "output_type": "display_data",
          "data": {
            "text/plain": [
              "<IPython.core.display.HTML object>"
            ],
            "text/html": [
              "\n",
              "    <script>\n",
              "    document.getElementById('maze').innerHTML = `█████████████████████<br>█ █             █   █<br>█ ███ █ ███████ █ █ █<br>█   █ █   █   █   █ █<br>███ █████ █ █ █████ █<br>███ █   █   █ █████c█<br>███ █ █ █████ ███████<br>███ █ █ █████     ███<br>███ █ █ █████████ ███<br>███   █           ███<br>█████████████████████`;\n",
              "    </script>\n",
              "    "
            ]
          },
          "metadata": {}
        },
        {
          "output_type": "display_data",
          "data": {
            "text/plain": [
              "<IPython.core.display.HTML object>"
            ],
            "text/html": [
              "\n",
              "    <script>\n",
              "    document.getElementById('maze').innerHTML = `█████████████████████<br>█ █             █   █<br>█ ███ █ ███████ █ █ █<br>█   █ █   █   █   █ █<br>███ █████ █ █ █████ █<br>███ █   █   █ █████ █<br>███ █ █ █████ █████ █<br>███ █ █ █████     █c█<br>███ █ █ █████████ ███<br>███   █           ███<br>█████████████████████`;\n",
              "    </script>\n",
              "    "
            ]
          },
          "metadata": {}
        },
        {
          "output_type": "display_data",
          "data": {
            "text/plain": [
              "<IPython.core.display.HTML object>"
            ],
            "text/html": [
              "\n",
              "    <script>\n",
              "    document.getElementById('maze').innerHTML = `█████████████████████<br>█ █             █   █<br>█ ███ █ ███████ █ █ █<br>█   █ █   █   █   █ █<br>███ █████ █ █ █████ █<br>███ █   █   █ █████ █<br>███ █ █ █████ █████ █<br>███ █ █ █████     █ █<br>███ █ █ █████████ █ █<br>███   █           █c█<br>█████████████████████`;\n",
              "    </script>\n",
              "    "
            ]
          },
          "metadata": {}
        },
        {
          "output_type": "display_data",
          "data": {
            "text/plain": [
              "<IPython.core.display.HTML object>"
            ],
            "text/html": [
              "\n",
              "    <script>\n",
              "    document.getElementById('maze').innerHTML = `█████████████████████<br>█ █             █   █<br>█ ███ █ ███████ █ █ █<br>█   █ █   █   █   █ █<br>███ █████ █ █ █████ █<br>███ █   █   █ ███c  █<br>███ █ █ █████ █████ █<br>███ █ █ █████     █ █<br>███ █ █ █████████ █ █<br>███   █           █ █<br>█████████████████████`;\n",
              "    </script>\n",
              "    "
            ]
          },
          "metadata": {}
        },
        {
          "output_type": "display_data",
          "data": {
            "text/plain": [
              "<IPython.core.display.HTML object>"
            ],
            "text/html": [
              "\n",
              "    <script>\n",
              "    document.getElementById('maze').innerHTML = `█████████████████████<br>█ █             █   █<br>█ ███ █ ███████ █ █ █<br>█   █ █   █   █   █ █<br>███ █████ █ █ █████ █<br>███ █   █   █ █c    █<br>███ █ █ █████ █████ █<br>███ █ █ █████     █ █<br>███ █ █ █████████ █ █<br>███   █           █ █<br>█████████████████████`;\n",
              "    </script>\n",
              "    "
            ]
          },
          "metadata": {}
        },
        {
          "output_type": "display_data",
          "data": {
            "text/plain": [
              "<IPython.core.display.HTML object>"
            ],
            "text/html": [
              "\n",
              "    <script>\n",
              "    document.getElementById('maze').innerHTML = `█████████████████████<br>█ █             █   █<br>█ ███ █ ███████ █ █ █<br>█   █ █   █   █   █ █<br>███ █████ █ █ █████ █<br>███ █   █   █ █     █<br>███ █ █ █ ███ █████ █<br>███ █ █ █c███     █ █<br>███ █ █ █████████ █ █<br>███   █           █ █<br>█████████████████████`;\n",
              "    </script>\n",
              "    "
            ]
          },
          "metadata": {}
        },
        {
          "output_type": "display_data",
          "data": {
            "text/plain": [
              "<IPython.core.display.HTML object>"
            ],
            "text/html": [
              "\n",
              "    <script>\n",
              "    document.getElementById('maze').innerHTML = `█████████████████████<br>█ █             █   █<br>█ ███ █ ███████ █ █ █<br>█   █ █   █   █   █ █<br>███ █████ █ █ █████ █<br>███ █   █   █ █     █<br>███ █ █ █ ███ █████ █<br>███ █ █ █  c█     █ █<br>███ █ █ █████████ █ █<br>███   █           █ █<br>█████████████████████`;\n",
              "    </script>\n",
              "    "
            ]
          },
          "metadata": {}
        },
        {
          "output_type": "display_data",
          "data": {
            "text/plain": [
              "<IPython.core.display.HTML object>"
            ],
            "text/html": [
              "\n",
              "    <script>\n",
              "    document.getElementById('maze').innerHTML = `█████████████████████<br>█ █             █   █<br>█ ███ █ ███████ █ █ █<br>█   █ █   █   █   █ █<br>███ █████ █ █ █████ █<br>███ █   █   █ █     █<br>███ █ █ █ ███ █████ █<br>███ █ █ █   █     █ █<br>███ █ █ █████████ █ █<br>█c    █           █ █<br>█████████████████████`;\n",
              "    </script>\n",
              "    "
            ]
          },
          "metadata": {}
        },
        {
          "output_type": "display_data",
          "data": {
            "text/plain": [
              "<IPython.core.display.HTML object>"
            ],
            "text/html": [
              "\n",
              "    <script>\n",
              "    document.getElementById('maze').innerHTML = `█████████████████████<br>█ █             █   █<br>█ ███ █ ███████ █ █ █<br>█   █ █   █   █   █ █<br>███ █████ █ █ █████ █<br>███ █   █   █ █     █<br>███ █ █ █ ███ █████ █<br>█c█ █ █ █   █     █ █<br>█ █ █ █ █████████ █ █<br>█     █           █ █<br>█████████████████████`;\n",
              "    </script>\n",
              "    "
            ]
          },
          "metadata": {}
        },
        {
          "output_type": "display_data",
          "data": {
            "text/plain": [
              "<IPython.core.display.HTML object>"
            ],
            "text/html": [
              "\n",
              "    <script>\n",
              "    document.getElementById('maze').innerHTML = `█████████████████████<br>█ █             █   █<br>█ ███ █ ███████ █ █ █<br>█   █ █   █   █   █ █<br>███ █████ █ █ █████ █<br>█c█ █   █   █ █     █<br>█ █ █ █ █ ███ █████ █<br>█ █ █ █ █   █     █ █<br>█ █ █ █ █████████ █ █<br>█     █           █ █<br>█████████████████████`;\n",
              "    </script>\n",
              "    "
            ]
          },
          "metadata": {}
        },
        {
          "output_type": "display_data",
          "data": {
            "text/plain": [
              "<IPython.core.display.HTML object>"
            ],
            "text/html": [
              "\n",
              "    <script>\n",
              "    document.getElementById('maze').innerHTML = `█████████████████████<br>█D█             █   █<br>█ ███ █ ███████ █ █ █<br>█   █ █   █   █   █ █<br>███ █████ █ █ █████ █<br>█ █ █   █   █ █     █<br>█ █ █ █ █ ███ █████ █<br>█ █ █ █ █   █     █ █<br>█ █ █ █ █████████ █ █<br>█     █           █F█<br>█████████████████████`;\n",
              "    </script>\n",
              "    "
            ]
          },
          "metadata": {}
        }
      ]
    },
    {
      "cell_type": "markdown",
      "source": [
        "# Depth first search"
      ],
      "metadata": {
        "id": "LllaTbtErX-4"
      }
    },
    {
      "cell_type": "code",
      "source": [],
      "metadata": {
        "colab": {
          "base_uri": "https://localhost:8080/",
          "height": 17
        },
        "id": "_3fxcwQhP2QP",
        "outputId": "b7510485-4cea-418a-8c95-b9667796a7b5"
      },
      "execution_count": null,
      "outputs": [
        {
          "output_type": "display_data",
          "data": {
            "text/plain": [
              "<IPython.core.display.HTML object>"
            ],
            "text/html": [
              "\n",
              "    <script>\n",
              "    document.getElementById('maze').innerHTML = `█████████████████████<br>█D█       █     █   █<br>█ @ ███████ █ ███ █ █<br>█ █     █   █     █ █<br>█ █████ █ █████████ █<br>█ █   █       █   █ █<br>█ █ █ ███████ █ █ █ █<br>█   █ █     █ █ █   █<br>█████ █ ███ ███ ███ █<br>█       █       █  F█<br>█████████████████████`;\n",
              "    </script>\n",
              "    "
            ]
          },
          "metadata": {}
        }
      ]
    },
    {
      "cell_type": "code",
      "source": [
        "maze_string = '<br>'.join(''.join(row) for row in labyrinthe)\n",
        "display(HTML(f'''\n",
        "    <div id=\"maze\" style=\"font-family: monospace; white-space: pre; line-height: 1.2;\">\n",
        "    {maze_string}\n",
        "    </div>\n",
        "    <script>\n",
        "    document.getElementById('maze').innerHTML = `{maze_string}`;\n",
        "    </script>\n",
        "    '''))\n",
        "\n",
        "def rechercheLargeurDabord(labyrinthe):\n",
        "  # Liste des cases déjà visitées initialisé vide\n",
        "  cases_visitees = []\n",
        "  cases_precedentes = []\n",
        "\n",
        "  # Tant qu'on a des cases à visiter\n",
        "  while cases_a_visiter:\n",
        "    time.sleep(0.1)\n",
        "    # Retire la première case à visiter\n",
        "    # et l'ajoute dans les cases déjà visitées\n",
        "    case_courante = cases_a_visiter.pop(0)\n",
        "    cases_visitees.insert(0, case_courante[0])\n",
        "    cases_precedentes.insert(0, case_courante[1])\n",
        "\n",
        "    # Affiche la case courante dans le graph\n",
        "    y, x = case_courante[0][0], case_courante[0][1]\n",
        "    printLabyrinthe(labyrinthe.copy(), x, y)\n",
        "\n",
        "    # Si on trouve la sortie on sort !\n",
        "    if labyrinthe[y, x] == FIN:\n",
        "      return True, cases_visitees, cases_precedentes\n",
        "\n",
        "    # Trouve des cases vide autour de la case courante\n",
        "    # et les ajoute à la liste de case à visiter\n",
        "\n",
        "    # NORD\n",
        "    # print(\"Y a t'il une case vide au nord ? \", labyrinthe[y-1, x] == VIDE)\n",
        "    if labyrinthe[y-1, x] in [VIDE, FIN] and not (y-1, x) in cases_visitees:\n",
        "      cases_a_visiter.append(((y-1, x), (y, x)))\n",
        "\n",
        "    # SUD\n",
        "    # print(\"Y a t'il une case vide au sud ? \", labyrinthe[y+1, x] == VIDE)\n",
        "    if labyrinthe[y+1, x] in [VIDE, FIN] and not (y+1, x) in cases_visitees:\n",
        "      cases_a_visiter.append(((y+1, x), (y, x)))\n",
        "\n",
        "    # EST\n",
        "    # print(\"Y a t'il une case vide à l'est ? \", labyrinthe[y, x+1] == VIDE)\n",
        "    if labyrinthe[y, x+1] in [VIDE, FIN] and not (y, x+1) in cases_visitees:\n",
        "      cases_a_visiter.append(((y, x+1), (y, x)))\n",
        "\n",
        "    # OUEST\n",
        "    # print(\"Y a t'il une case vide à l'ouest ? \", labyrinthe[y, x-1] == VIDE)\n",
        "    if labyrinthe[y, x-1] in [VIDE, FIN] and not (y, x-1) in cases_visitees:\n",
        "      cases_a_visiter.append(((y, x-1), (y, x)))\n",
        "\n",
        "    # Debug\n",
        "    # print('Marqueur ', case_courante)\n",
        "    # print(\"Cases visitées \", cases_visitees)\n",
        "    # print(\"Cases précédentes \", cases_precedentes)\n",
        "    # print(\"Cases à visiter \", cases_a_visiter)\n",
        "    # print(\"# - - - - - - - - - - - - - - - - - - - #\")\n",
        "\n",
        "  return False, cases_visitees, cases_precedentes\n",
        "\n",
        "# Contient la position de la case de départ ainsi que sont parent\n",
        "# Orde (y, x) pour numpy et None pour indiquer que c'est le départ\n",
        "cases_a_visiter = [((1, 1), None)]\n",
        "\n",
        "# La fonction rechercheLargeurDabord(labyrinthe) retourne un status si la sortie a été trouvée.\n",
        "status, cases_visitees, cases_precedentes = rechercheLargeurDabord(labyrinthe)\n",
        "\n",
        "# What's the path ?\n",
        "chemin = []\n",
        "case_precedente = cases_precedentes[0]\n",
        "while case_precedente != None:\n",
        "  chemin.append(case_precedente)\n",
        "  index_precedente = cases_visitees.index(case_precedente)\n",
        "  case_precedente = cases_precedentes[index_precedente]\n",
        "\n",
        "# afficher le chemin trouvé\n",
        "for (y, x) in chemin:\n",
        "  labyrinthe[y, x] = '·'\n",
        "  printLabyrinthe(labyrinthe.copy(), 0, 0)\n"
      ],
      "metadata": {
        "colab": {
          "base_uri": "https://localhost:8080/",
          "height": 202
        },
        "id": "zTz7VsDnrgH1",
        "outputId": "b88a03ed-6d82-4617-90ce-d9307113e75d"
      },
      "execution_count": 17,
      "outputs": [
        {
          "output_type": "display_data",
          "data": {
            "text/plain": [
              "<IPython.core.display.HTML object>"
            ],
            "text/html": [
              "\n",
              "    <div id=\"maze\" style=\"font-family: monospace; white-space: pre; line-height: 1.2;\">\n",
              "    █████████████████████<br>█D█             █   █<br>█ ███ █ ███████ █ █ █<br>█   █ █   █   █   █ █<br>███ █████ █ █ █████ █<br>█ █ █   █   █ █     █<br>█ █ █ █ █ ███ █████ █<br>█ █ █ █ █   █     █ █<br>█ █ █ █ █████████ █ █<br>█     █           █F█<br>█████████████████████\n",
              "    </div>\n",
              "    <script>\n",
              "    document.getElementById('maze').innerHTML = `█████████████████████<br>█D█             █   █<br>█ ███ █ ███████ █ █ █<br>█   █ █   █   █   █ █<br>███ █████ █ █ █████ █<br>█ █ █   █   █ █     █<br>█ █ █ █ █ ███ █████ █<br>█ █ █ █ █   █     █ █<br>█ █ █ █ █████████ █ █<br>█     █           █F█<br>█████████████████████`;\n",
              "    </script>\n",
              "    "
            ]
          },
          "metadata": {}
        },
        {
          "output_type": "display_data",
          "data": {
            "text/plain": [
              "<IPython.core.display.HTML object>"
            ],
            "text/html": [
              "\n",
              "    <script>\n",
              "    document.getElementById('maze').innerHTML = `█████████████████████<br>█c█             █   █<br>█ ███ █ ███████ █ █ █<br>█   █ █   █   █   █ █<br>███ █████ █ █ █████ █<br>█ █ █   █   █ █     █<br>█ █ █ █ █ ███ █████ █<br>█ █ █ █ █   █     █ █<br>█ █ █ █ █████████ █ █<br>█     █           █F█<br>█████████████████████`;\n",
              "    </script>\n",
              "    "
            ]
          },
          "metadata": {}
        },
        {
          "output_type": "display_data",
          "data": {
            "text/plain": [
              "<IPython.core.display.HTML object>"
            ],
            "text/html": [
              "\n",
              "    <script>\n",
              "    document.getElementById('maze').innerHTML = `█████████████████████<br>█D█             █   █<br>█c███ █ ███████ █ █ █<br>█   █ █   █   █   █ █<br>███ █████ █ █ █████ █<br>█ █ █   █   █ █     █<br>█ █ █ █ █ ███ █████ █<br>█ █ █ █ █   █     █ █<br>█ █ █ █ █████████ █ █<br>█     █           █F█<br>█████████████████████`;\n",
              "    </script>\n",
              "    "
            ]
          },
          "metadata": {}
        },
        {
          "output_type": "display_data",
          "data": {
            "text/plain": [
              "<IPython.core.display.HTML object>"
            ],
            "text/html": [
              "\n",
              "    <script>\n",
              "    document.getElementById('maze').innerHTML = `█████████████████████<br>█D█             █   █<br>█ ███ █ ███████ █ █ █<br>█c  █ █   █   █   █ █<br>███ █████ █ █ █████ █<br>█ █ █   █   █ █     █<br>█ █ █ █ █ ███ █████ █<br>█ █ █ █ █   █     █ █<br>█ █ █ █ █████████ █ █<br>█     █           █F█<br>█████████████████████`;\n",
              "    </script>\n",
              "    "
            ]
          },
          "metadata": {}
        },
        {
          "output_type": "display_data",
          "data": {
            "text/plain": [
              "<IPython.core.display.HTML object>"
            ],
            "text/html": [
              "\n",
              "    <script>\n",
              "    document.getElementById('maze').innerHTML = `█████████████████████<br>█D█             █   █<br>█ ███ █ ███████ █ █ █<br>█ c █ █   █   █   █ █<br>███ █████ █ █ █████ █<br>█ █ █   █   █ █     █<br>█ █ █ █ █ ███ █████ █<br>█ █ █ █ █   █     █ █<br>█ █ █ █ █████████ █ █<br>█     █           █F█<br>█████████████████████`;\n",
              "    </script>\n",
              "    "
            ]
          },
          "metadata": {}
        },
        {
          "output_type": "display_data",
          "data": {
            "text/plain": [
              "<IPython.core.display.HTML object>"
            ],
            "text/html": [
              "\n",
              "    <script>\n",
              "    document.getElementById('maze').innerHTML = `█████████████████████<br>█D█             █   █<br>█ ███ █ ███████ █ █ █<br>█  c█ █   █   █   █ █<br>███ █████ █ █ █████ █<br>█ █ █   █   █ █     █<br>█ █ █ █ █ ███ █████ █<br>█ █ █ █ █   █     █ █<br>█ █ █ █ █████████ █ █<br>█     █           █F█<br>█████████████████████`;\n",
              "    </script>\n",
              "    "
            ]
          },
          "metadata": {}
        },
        {
          "output_type": "display_data",
          "data": {
            "text/plain": [
              "<IPython.core.display.HTML object>"
            ],
            "text/html": [
              "\n",
              "    <script>\n",
              "    document.getElementById('maze').innerHTML = `█████████████████████<br>█D█             █   █<br>█ ███ █ ███████ █ █ █<br>█   █ █   █   █   █ █<br>███c█████ █ █ █████ █<br>█ █ █   █   █ █     █<br>█ █ █ █ █ ███ █████ █<br>█ █ █ █ █   █     █ █<br>█ █ █ █ █████████ █ █<br>█     █           █F█<br>█████████████████████`;\n",
              "    </script>\n",
              "    "
            ]
          },
          "metadata": {}
        },
        {
          "output_type": "display_data",
          "data": {
            "text/plain": [
              "<IPython.core.display.HTML object>"
            ],
            "text/html": [
              "\n",
              "    <script>\n",
              "    document.getElementById('maze').innerHTML = `█████████████████████<br>█D█             █   █<br>█ ███ █ ███████ █ █ █<br>█   █ █   █   █   █ █<br>███ █████ █ █ █████ █<br>█ █c█   █   █ █     █<br>█ █ █ █ █ ███ █████ █<br>█ █ █ █ █   █     █ █<br>█ █ █ █ █████████ █ █<br>█     █           █F█<br>█████████████████████`;\n",
              "    </script>\n",
              "    "
            ]
          },
          "metadata": {}
        },
        {
          "output_type": "display_data",
          "data": {
            "text/plain": [
              "<IPython.core.display.HTML object>"
            ],
            "text/html": [
              "\n",
              "    <script>\n",
              "    document.getElementById('maze').innerHTML = `█████████████████████<br>█D█             █   █<br>█ ███ █ ███████ █ █ █<br>█   █ █   █   █   █ █<br>███ █████ █ █ █████ █<br>█ █ █   █   █ █     █<br>█ █c█ █ █ ███ █████ █<br>█ █ █ █ █   █     █ █<br>█ █ █ █ █████████ █ █<br>█     █           █F█<br>█████████████████████`;\n",
              "    </script>\n",
              "    "
            ]
          },
          "metadata": {}
        },
        {
          "output_type": "display_data",
          "data": {
            "text/plain": [
              "<IPython.core.display.HTML object>"
            ],
            "text/html": [
              "\n",
              "    <script>\n",
              "    document.getElementById('maze').innerHTML = `█████████████████████<br>█D█             █   █<br>█ ███ █ ███████ █ █ █<br>█   █ █   █   █   █ █<br>███ █████ █ █ █████ █<br>█ █ █   █   █ █     █<br>█ █ █ █ █ ███ █████ █<br>█ █c█ █ █   █     █ █<br>█ █ █ █ █████████ █ █<br>█     █           █F█<br>█████████████████████`;\n",
              "    </script>\n",
              "    "
            ]
          },
          "metadata": {}
        },
        {
          "output_type": "display_data",
          "data": {
            "text/plain": [
              "<IPython.core.display.HTML object>"
            ],
            "text/html": [
              "\n",
              "    <script>\n",
              "    document.getElementById('maze').innerHTML = `█████████████████████<br>█D█             █   █<br>█ ███ █ ███████ █ █ █<br>█   █ █   █   █   █ █<br>███ █████ █ █ █████ █<br>█ █ █   █   █ █     █<br>█ █ █ █ █ ███ █████ █<br>█ █ █ █ █   █     █ █<br>█ █c█ █ █████████ █ █<br>█     █           █F█<br>█████████████████████`;\n",
              "    </script>\n",
              "    "
            ]
          },
          "metadata": {}
        },
        {
          "output_type": "display_data",
          "data": {
            "text/plain": [
              "<IPython.core.display.HTML object>"
            ],
            "text/html": [
              "\n",
              "    <script>\n",
              "    document.getElementById('maze').innerHTML = `█████████████████████<br>█D█             █   █<br>█ ███ █ ███████ █ █ █<br>█   █ █   █   █   █ █<br>███ █████ █ █ █████ █<br>█ █ █   █   █ █     █<br>█ █ █ █ █ ███ █████ █<br>█ █ █ █ █   █     █ █<br>█ █ █ █ █████████ █ █<br>█  c  █           █F█<br>█████████████████████`;\n",
              "    </script>\n",
              "    "
            ]
          },
          "metadata": {}
        },
        {
          "output_type": "display_data",
          "data": {
            "text/plain": [
              "<IPython.core.display.HTML object>"
            ],
            "text/html": [
              "\n",
              "    <script>\n",
              "    document.getElementById('maze').innerHTML = `█████████████████████<br>█D█             █   █<br>█ ███ █ ███████ █ █ █<br>█   █ █   █   █   █ █<br>███ █████ █ █ █████ █<br>█ █ █   █   █ █     █<br>█ █ █ █ █ ███ █████ █<br>█ █ █ █ █   █     █ █<br>█ █ █ █ █████████ █ █<br>█   c █           █F█<br>█████████████████████`;\n",
              "    </script>\n",
              "    "
            ]
          },
          "metadata": {}
        },
        {
          "output_type": "display_data",
          "data": {
            "text/plain": [
              "<IPython.core.display.HTML object>"
            ],
            "text/html": [
              "\n",
              "    <script>\n",
              "    document.getElementById('maze').innerHTML = `█████████████████████<br>█D█             █   █<br>█ ███ █ ███████ █ █ █<br>█   █ █   █   █   █ █<br>███ █████ █ █ █████ █<br>█ █ █   █   █ █     █<br>█ █ █ █ █ ███ █████ █<br>█ █ █ █ █   █     █ █<br>█ █ █ █ █████████ █ █<br>█ c   █           █F█<br>█████████████████████`;\n",
              "    </script>\n",
              "    "
            ]
          },
          "metadata": {}
        },
        {
          "output_type": "display_data",
          "data": {
            "text/plain": [
              "<IPython.core.display.HTML object>"
            ],
            "text/html": [
              "\n",
              "    <script>\n",
              "    document.getElementById('maze').innerHTML = `█████████████████████<br>█D█             █   █<br>█ ███ █ ███████ █ █ █<br>█   █ █   █   █   █ █<br>███ █████ █ █ █████ █<br>█ █ █   █   █ █     █<br>█ █ █ █ █ ███ █████ █<br>█ █ █ █ █   █     █ █<br>█ █ █ █ █████████ █ █<br>█    c█           █F█<br>█████████████████████`;\n",
              "    </script>\n",
              "    "
            ]
          },
          "metadata": {}
        },
        {
          "output_type": "display_data",
          "data": {
            "text/plain": [
              "<IPython.core.display.HTML object>"
            ],
            "text/html": [
              "\n",
              "    <script>\n",
              "    document.getElementById('maze').innerHTML = `█████████████████████<br>█D█             █   █<br>█ ███ █ ███████ █ █ █<br>█   █ █   █   █   █ █<br>███ █████ █ █ █████ █<br>█ █ █   █   █ █     █<br>█ █ █ █ █ ███ █████ █<br>█ █ █ █ █   █     █ █<br>█ █ █ █ █████████ █ █<br>█c    █           █F█<br>█████████████████████`;\n",
              "    </script>\n",
              "    "
            ]
          },
          "metadata": {}
        },
        {
          "output_type": "display_data",
          "data": {
            "text/plain": [
              "<IPython.core.display.HTML object>"
            ],
            "text/html": [
              "\n",
              "    <script>\n",
              "    document.getElementById('maze').innerHTML = `█████████████████████<br>█D█             █   █<br>█ ███ █ ███████ █ █ █<br>█   █ █   █   █   █ █<br>███ █████ █ █ █████ █<br>█ █ █   █   █ █     █<br>█ █ █ █ █ ███ █████ █<br>█ █ █ █ █   █     █ █<br>█ █ █c█ █████████ █ █<br>█     █           █F█<br>█████████████████████`;\n",
              "    </script>\n",
              "    "
            ]
          },
          "metadata": {}
        },
        {
          "output_type": "display_data",
          "data": {
            "text/plain": [
              "<IPython.core.display.HTML object>"
            ],
            "text/html": [
              "\n",
              "    <script>\n",
              "    document.getElementById('maze').innerHTML = `█████████████████████<br>█D█             █   █<br>█ ███ █ ███████ █ █ █<br>█   █ █   █   █   █ █<br>███ █████ █ █ █████ █<br>█ █ █   █   █ █     █<br>█ █ █ █ █ ███ █████ █<br>█ █ █ █ █   █     █ █<br>█c█ █ █ █████████ █ █<br>█     █           █F█<br>█████████████████████`;\n",
              "    </script>\n",
              "    "
            ]
          },
          "metadata": {}
        },
        {
          "output_type": "display_data",
          "data": {
            "text/plain": [
              "<IPython.core.display.HTML object>"
            ],
            "text/html": [
              "\n",
              "    <script>\n",
              "    document.getElementById('maze').innerHTML = `█████████████████████<br>█D█             █   █<br>█ ███ █ ███████ █ █ █<br>█   █ █   █   █   █ █<br>███ █████ █ █ █████ █<br>█ █ █   █   █ █     █<br>█ █ █ █ █ ███ █████ █<br>█ █ █c█ █   █     █ █<br>█ █ █ █ █████████ █ █<br>█     █           █F█<br>█████████████████████`;\n",
              "    </script>\n",
              "    "
            ]
          },
          "metadata": {}
        },
        {
          "output_type": "display_data",
          "data": {
            "text/plain": [
              "<IPython.core.display.HTML object>"
            ],
            "text/html": [
              "\n",
              "    <script>\n",
              "    document.getElementById('maze').innerHTML = `█████████████████████<br>█D█             █   █<br>█ ███ █ ███████ █ █ █<br>█   █ █   █   █   █ █<br>███ █████ █ █ █████ █<br>█ █ █   █   █ █     █<br>█ █ █ █ █ ███ █████ █<br>█c█ █ █ █   █     █ █<br>█ █ █ █ █████████ █ █<br>█     █           █F█<br>█████████████████████`;\n",
              "    </script>\n",
              "    "
            ]
          },
          "metadata": {}
        },
        {
          "output_type": "display_data",
          "data": {
            "text/plain": [
              "<IPython.core.display.HTML object>"
            ],
            "text/html": [
              "\n",
              "    <script>\n",
              "    document.getElementById('maze').innerHTML = `█████████████████████<br>█D█             █   █<br>█ ███ █ ███████ █ █ █<br>█   █ █   █   █   █ █<br>███ █████ █ █ █████ █<br>█ █ █   █   █ █     █<br>█ █ █c█ █ ███ █████ █<br>█ █ █ █ █   █     █ █<br>█ █ █ █ █████████ █ █<br>█     █           █F█<br>█████████████████████`;\n",
              "    </script>\n",
              "    "
            ]
          },
          "metadata": {}
        },
        {
          "output_type": "display_data",
          "data": {
            "text/plain": [
              "<IPython.core.display.HTML object>"
            ],
            "text/html": [
              "\n",
              "    <script>\n",
              "    document.getElementById('maze').innerHTML = `█████████████████████<br>█D█             █   █<br>█ ███ █ ███████ █ █ █<br>█   █ █   █   █   █ █<br>███ █████ █ █ █████ █<br>█ █ █   █   █ █     █<br>█c█ █ █ █ ███ █████ █<br>█ █ █ █ █   █     █ █<br>█ █ █ █ █████████ █ █<br>█     █           █F█<br>█████████████████████`;\n",
              "    </script>\n",
              "    "
            ]
          },
          "metadata": {}
        },
        {
          "output_type": "display_data",
          "data": {
            "text/plain": [
              "<IPython.core.display.HTML object>"
            ],
            "text/html": [
              "\n",
              "    <script>\n",
              "    document.getElementById('maze').innerHTML = `█████████████████████<br>█D█             █   █<br>█ ███ █ ███████ █ █ █<br>█   █ █   █   █   █ █<br>███ █████ █ █ █████ █<br>█ █ █c  █   █ █     █<br>█ █ █ █ █ ███ █████ █<br>█ █ █ █ █   █     █ █<br>█ █ █ █ █████████ █ █<br>█     █           █F█<br>█████████████████████`;\n",
              "    </script>\n",
              "    "
            ]
          },
          "metadata": {}
        },
        {
          "output_type": "display_data",
          "data": {
            "text/plain": [
              "<IPython.core.display.HTML object>"
            ],
            "text/html": [
              "\n",
              "    <script>\n",
              "    document.getElementById('maze').innerHTML = `█████████████████████<br>█D█             █   █<br>█ ███ █ ███████ █ █ █<br>█   █ █   █   █   █ █<br>███ █████ █ █ █████ █<br>█c█ █   █   █ █     █<br>█ █ █ █ █ ███ █████ █<br>█ █ █ █ █   █     █ █<br>█ █ █ █ █████████ █ █<br>█     █           █F█<br>█████████████████████`;\n",
              "    </script>\n",
              "    "
            ]
          },
          "metadata": {}
        },
        {
          "output_type": "display_data",
          "data": {
            "text/plain": [
              "<IPython.core.display.HTML object>"
            ],
            "text/html": [
              "\n",
              "    <script>\n",
              "    document.getElementById('maze').innerHTML = `█████████████████████<br>█D█             █   █<br>█ ███ █ ███████ █ █ █<br>█   █ █   █   █   █ █<br>███ █████ █ █ █████ █<br>█ █ █ c █   █ █     █<br>█ █ █ █ █ ███ █████ █<br>█ █ █ █ █   █     █ █<br>█ █ █ █ █████████ █ █<br>█     █           █F█<br>█████████████████████`;\n",
              "    </script>\n",
              "    "
            ]
          },
          "metadata": {}
        },
        {
          "output_type": "display_data",
          "data": {
            "text/plain": [
              "<IPython.core.display.HTML object>"
            ],
            "text/html": [
              "\n",
              "    <script>\n",
              "    document.getElementById('maze').innerHTML = `█████████████████████<br>█D█             █   █<br>█ ███ █ ███████ █ █ █<br>█   █ █   █   █   █ █<br>███ █████ █ █ █████ █<br>█ █ █  c█   █ █     █<br>█ █ █ █ █ ███ █████ █<br>█ █ █ █ █   █     █ █<br>█ █ █ █ █████████ █ █<br>█     █           █F█<br>█████████████████████`;\n",
              "    </script>\n",
              "    "
            ]
          },
          "metadata": {}
        },
        {
          "output_type": "display_data",
          "data": {
            "text/plain": [
              "<IPython.core.display.HTML object>"
            ],
            "text/html": [
              "\n",
              "    <script>\n",
              "    document.getElementById('maze').innerHTML = `█████████████████████<br>█D█             █   █<br>█ ███ █ ███████ █ █ █<br>█   █ █   █   █   █ █<br>███ █████ █ █ █████ █<br>█ █ █   █   █ █     █<br>█ █ █ █c█ ███ █████ █<br>█ █ █ █ █   █     █ █<br>█ █ █ █ █████████ █ █<br>█     █           █F█<br>█████████████████████`;\n",
              "    </script>\n",
              "    "
            ]
          },
          "metadata": {}
        },
        {
          "output_type": "display_data",
          "data": {
            "text/plain": [
              "<IPython.core.display.HTML object>"
            ],
            "text/html": [
              "\n",
              "    <script>\n",
              "    document.getElementById('maze').innerHTML = `█████████████████████<br>█D█             █   █<br>█ ███ █ ███████ █ █ █<br>█   █ █   █   █   █ █<br>███ █████ █ █ █████ █<br>█ █ █   █   █ █     █<br>█ █ █ █ █ ███ █████ █<br>█ █ █ █c█   █     █ █<br>█ █ █ █ █████████ █ █<br>█     █           █F█<br>█████████████████████`;\n",
              "    </script>\n",
              "    "
            ]
          },
          "metadata": {}
        },
        {
          "output_type": "display_data",
          "data": {
            "text/plain": [
              "<IPython.core.display.HTML object>"
            ],
            "text/html": [
              "\n",
              "    <script>\n",
              "    document.getElementById('maze').innerHTML = `█████████████████████<br>█D█             █   █<br>█ ███ █ ███████ █ █ █<br>█   █ █   █   █   █ █<br>███ █████ █ █ █████ █<br>█ █ █   █   █ █     █<br>█ █ █ █ █ ███ █████ █<br>█ █ █ █ █   █     █ █<br>█ █ █ █c█████████ █ █<br>█     █           █F█<br>█████████████████████`;\n",
              "    </script>\n",
              "    "
            ]
          },
          "metadata": {}
        },
        {
          "output_type": "display_data",
          "data": {
            "text/plain": [
              "<IPython.core.display.HTML object>"
            ],
            "text/html": [
              "\n",
              "    <script>\n",
              "    document.getElementById('maze').innerHTML = `█████████████████████<br>█D█             █   █<br>█ ███ █ ███████ █ █ █<br>█   █ █   █   █   █ █<br>███ █████ █ █ █████ █<br>█ █ █   █   █ █     █<br>█ █ █ █ █ ███ █████ █<br>█ █ █ █ █   █     █ █<br>█ █ █ █ █████████ █ █<br>█     █c          █F█<br>█████████████████████`;\n",
              "    </script>\n",
              "    "
            ]
          },
          "metadata": {}
        },
        {
          "output_type": "display_data",
          "data": {
            "text/plain": [
              "<IPython.core.display.HTML object>"
            ],
            "text/html": [
              "\n",
              "    <script>\n",
              "    document.getElementById('maze').innerHTML = `█████████████████████<br>█D█             █   █<br>█ ███ █ ███████ █ █ █<br>█   █ █   █   █   █ █<br>███ █████ █ █ █████ █<br>█ █ █   █   █ █     █<br>█ █ █ █ █ ███ █████ █<br>█ █ █ █ █   █     █ █<br>█ █ █ █ █████████ █ █<br>█     █ c         █F█<br>█████████████████████`;\n",
              "    </script>\n",
              "    "
            ]
          },
          "metadata": {}
        },
        {
          "output_type": "display_data",
          "data": {
            "text/plain": [
              "<IPython.core.display.HTML object>"
            ],
            "text/html": [
              "\n",
              "    <script>\n",
              "    document.getElementById('maze').innerHTML = `█████████████████████<br>█D█             █   █<br>█ ███ █ ███████ █ █ █<br>█   █ █   █   █   █ █<br>███ █████ █ █ █████ █<br>█ █ █   █   █ █     █<br>█ █ █ █ █ ███ █████ █<br>█ █ █ █ █   █     █ █<br>█ █ █ █ █████████ █ █<br>█     █  c        █F█<br>█████████████████████`;\n",
              "    </script>\n",
              "    "
            ]
          },
          "metadata": {}
        },
        {
          "output_type": "display_data",
          "data": {
            "text/plain": [
              "<IPython.core.display.HTML object>"
            ],
            "text/html": [
              "\n",
              "    <script>\n",
              "    document.getElementById('maze').innerHTML = `█████████████████████<br>█D█             █   █<br>█ ███ █ ███████ █ █ █<br>█   █ █   █   █   █ █<br>███ █████ █ █ █████ █<br>█ █ █   █   █ █     █<br>█ █ █ █ █ ███ █████ █<br>█ █ █ █ █   █     █ █<br>█ █ █ █ █████████ █ █<br>█     █   c       █F█<br>█████████████████████`;\n",
              "    </script>\n",
              "    "
            ]
          },
          "metadata": {}
        },
        {
          "output_type": "display_data",
          "data": {
            "text/plain": [
              "<IPython.core.display.HTML object>"
            ],
            "text/html": [
              "\n",
              "    <script>\n",
              "    document.getElementById('maze').innerHTML = `█████████████████████<br>█D█             █   █<br>█ ███ █ ███████ █ █ █<br>█   █ █   █   █   █ █<br>███ █████ █ █ █████ █<br>█ █ █   █   █ █     █<br>█ █ █ █ █ ███ █████ █<br>█ █ █ █ █   █     █ █<br>█ █ █ █ █████████ █ █<br>█     █    c      █F█<br>█████████████████████`;\n",
              "    </script>\n",
              "    "
            ]
          },
          "metadata": {}
        },
        {
          "output_type": "display_data",
          "data": {
            "text/plain": [
              "<IPython.core.display.HTML object>"
            ],
            "text/html": [
              "\n",
              "    <script>\n",
              "    document.getElementById('maze').innerHTML = `█████████████████████<br>█D█             █   █<br>█ ███ █ ███████ █ █ █<br>█   █ █   █   █   █ █<br>███ █████ █ █ █████ █<br>█ █ █   █   █ █     █<br>█ █ █ █ █ ███ █████ █<br>█ █ █ █ █   █     █ █<br>█ █ █ █ █████████ █ █<br>█     █     c     █F█<br>█████████████████████`;\n",
              "    </script>\n",
              "    "
            ]
          },
          "metadata": {}
        },
        {
          "output_type": "display_data",
          "data": {
            "text/plain": [
              "<IPython.core.display.HTML object>"
            ],
            "text/html": [
              "\n",
              "    <script>\n",
              "    document.getElementById('maze').innerHTML = `█████████████████████<br>█D█             █   █<br>█ ███ █ ███████ █ █ █<br>█   █ █   █   █   █ █<br>███ █████ █ █ █████ █<br>█ █ █   █   █ █     █<br>█ █ █ █ █ ███ █████ █<br>█ █ █ █ █   █     █ █<br>█ █ █ █ █████████ █ █<br>█     █      c    █F█<br>█████████████████████`;\n",
              "    </script>\n",
              "    "
            ]
          },
          "metadata": {}
        },
        {
          "output_type": "display_data",
          "data": {
            "text/plain": [
              "<IPython.core.display.HTML object>"
            ],
            "text/html": [
              "\n",
              "    <script>\n",
              "    document.getElementById('maze').innerHTML = `█████████████████████<br>█D█             █   █<br>█ ███ █ ███████ █ █ █<br>█   █ █   █   █   █ █<br>███ █████ █ █ █████ █<br>█ █ █   █   █ █     █<br>█ █ █ █ █ ███ █████ █<br>█ █ █ █ █   █     █ █<br>█ █ █ █ █████████ █ █<br>█     █       c   █F█<br>█████████████████████`;\n",
              "    </script>\n",
              "    "
            ]
          },
          "metadata": {}
        },
        {
          "output_type": "display_data",
          "data": {
            "text/plain": [
              "<IPython.core.display.HTML object>"
            ],
            "text/html": [
              "\n",
              "    <script>\n",
              "    document.getElementById('maze').innerHTML = `█████████████████████<br>█D█             █   █<br>█ ███ █ ███████ █ █ █<br>█   █ █   █   █   █ █<br>███ █████ █ █ █████ █<br>█ █ █   █   █ █     █<br>█ █ █ █ █ ███ █████ █<br>█ █ █ █ █   █     █ █<br>█ █ █ █ █████████ █ █<br>█     █        c  █F█<br>█████████████████████`;\n",
              "    </script>\n",
              "    "
            ]
          },
          "metadata": {}
        },
        {
          "output_type": "display_data",
          "data": {
            "text/plain": [
              "<IPython.core.display.HTML object>"
            ],
            "text/html": [
              "\n",
              "    <script>\n",
              "    document.getElementById('maze').innerHTML = `█████████████████████<br>█D█             █   █<br>█ ███ █ ███████ █ █ █<br>█   █ █   █   █   █ █<br>███ █████ █ █ █████ █<br>█ █ █   █   █ █     █<br>█ █ █ █ █ ███ █████ █<br>█ █ █ █ █   █     █ █<br>█ █ █ █ █████████ █ █<br>█     █         c █F█<br>█████████████████████`;\n",
              "    </script>\n",
              "    "
            ]
          },
          "metadata": {}
        },
        {
          "output_type": "display_data",
          "data": {
            "text/plain": [
              "<IPython.core.display.HTML object>"
            ],
            "text/html": [
              "\n",
              "    <script>\n",
              "    document.getElementById('maze').innerHTML = `█████████████████████<br>█D█             █   █<br>█ ███ █ ███████ █ █ █<br>█   █ █   █   █   █ █<br>███ █████ █ █ █████ █<br>█ █ █   █   █ █     █<br>█ █ █ █ █ ███ █████ █<br>█ █ █ █ █   █     █ █<br>█ █ █ █ █████████ █ █<br>█     █          c█F█<br>█████████████████████`;\n",
              "    </script>\n",
              "    "
            ]
          },
          "metadata": {}
        },
        {
          "output_type": "display_data",
          "data": {
            "text/plain": [
              "<IPython.core.display.HTML object>"
            ],
            "text/html": [
              "\n",
              "    <script>\n",
              "    document.getElementById('maze').innerHTML = `█████████████████████<br>█D█             █   █<br>█ ███ █ ███████ █ █ █<br>█   █ █   █   █   █ █<br>███ █████ █ █ █████ █<br>█ █ █   █   █ █     █<br>█ █ █ █ █ ███ █████ █<br>█ █ █ █ █   █     █ █<br>█ █ █ █ █████████c█ █<br>█     █           █F█<br>█████████████████████`;\n",
              "    </script>\n",
              "    "
            ]
          },
          "metadata": {}
        },
        {
          "output_type": "display_data",
          "data": {
            "text/plain": [
              "<IPython.core.display.HTML object>"
            ],
            "text/html": [
              "\n",
              "    <script>\n",
              "    document.getElementById('maze').innerHTML = `█████████████████████<br>█D█             █   █<br>█ ███ █ ███████ █ █ █<br>█   █ █   █   █   █ █<br>███ █████ █ █ █████ █<br>█ █ █   █   █ █     █<br>█ █ █ █ █ ███ █████ █<br>█ █ █ █ █   █    c█ █<br>█ █ █ █ █████████ █ █<br>█     █           █F█<br>█████████████████████`;\n",
              "    </script>\n",
              "    "
            ]
          },
          "metadata": {}
        },
        {
          "output_type": "display_data",
          "data": {
            "text/plain": [
              "<IPython.core.display.HTML object>"
            ],
            "text/html": [
              "\n",
              "    <script>\n",
              "    document.getElementById('maze').innerHTML = `█████████████████████<br>█D█             █   █<br>█ ███ █ ███████ █ █ █<br>█   █ █   █   █   █ █<br>███ █████ █ █ █████ █<br>█ █ █   █   █ █     █<br>█ █ █ █ █ ███ █████ █<br>█ █ █ █ █   █   c █ █<br>█ █ █ █ █████████ █ █<br>█     █           █F█<br>█████████████████████`;\n",
              "    </script>\n",
              "    "
            ]
          },
          "metadata": {}
        },
        {
          "output_type": "display_data",
          "data": {
            "text/plain": [
              "<IPython.core.display.HTML object>"
            ],
            "text/html": [
              "\n",
              "    <script>\n",
              "    document.getElementById('maze').innerHTML = `█████████████████████<br>█D█             █   █<br>█ ███ █ ███████ █ █ █<br>█   █ █   █   █   █ █<br>███ █████ █ █ █████ █<br>█ █ █   █   █ █     █<br>█ █ █ █ █ ███ █████ █<br>█ █ █ █ █   █  c  █ █<br>█ █ █ █ █████████ █ █<br>█     █           █F█<br>█████████████████████`;\n",
              "    </script>\n",
              "    "
            ]
          },
          "metadata": {}
        },
        {
          "output_type": "display_data",
          "data": {
            "text/plain": [
              "<IPython.core.display.HTML object>"
            ],
            "text/html": [
              "\n",
              "    <script>\n",
              "    document.getElementById('maze').innerHTML = `█████████████████████<br>█D█             █   █<br>█ ███ █ ███████ █ █ █<br>█   █ █   █   █   █ █<br>███ █████ █ █ █████ █<br>█ █ █   █   █ █     █<br>█ █ █ █ █ ███ █████ █<br>█ █ █ █ █   █ c   █ █<br>█ █ █ █ █████████ █ █<br>█     █           █F█<br>█████████████████████`;\n",
              "    </script>\n",
              "    "
            ]
          },
          "metadata": {}
        },
        {
          "output_type": "display_data",
          "data": {
            "text/plain": [
              "<IPython.core.display.HTML object>"
            ],
            "text/html": [
              "\n",
              "    <script>\n",
              "    document.getElementById('maze').innerHTML = `█████████████████████<br>█D█             █   █<br>█ ███ █ ███████ █ █ █<br>█   █ █   █   █   █ █<br>███ █████ █ █ █████ █<br>█ █ █   █   █ █     █<br>█ █ █ █ █ ███ █████ █<br>█ █ █ █ █   █c    █ █<br>█ █ █ █ █████████ █ █<br>█     █           █F█<br>█████████████████████`;\n",
              "    </script>\n",
              "    "
            ]
          },
          "metadata": {}
        },
        {
          "output_type": "display_data",
          "data": {
            "text/plain": [
              "<IPython.core.display.HTML object>"
            ],
            "text/html": [
              "\n",
              "    <script>\n",
              "    document.getElementById('maze').innerHTML = `█████████████████████<br>█D█             █   █<br>█ ███ █ ███████ █ █ █<br>█   █ █   █   █   █ █<br>███ █████ █ █ █████ █<br>█ █ █   █   █ █     █<br>█ █ █ █ █ ███c█████ █<br>█ █ █ █ █   █     █ █<br>█ █ █ █ █████████ █ █<br>█     █           █F█<br>█████████████████████`;\n",
              "    </script>\n",
              "    "
            ]
          },
          "metadata": {}
        },
        {
          "output_type": "display_data",
          "data": {
            "text/plain": [
              "<IPython.core.display.HTML object>"
            ],
            "text/html": [
              "\n",
              "    <script>\n",
              "    document.getElementById('maze').innerHTML = `█████████████████████<br>█D█             █   █<br>█ ███ █ ███████ █ █ █<br>█   █ █   █   █   █ █<br>███ █████ █ █ █████ █<br>█ █ █   █   █c█     █<br>█ █ █ █ █ ███ █████ █<br>█ █ █ █ █   █     █ █<br>█ █ █ █ █████████ █ █<br>█     █           █F█<br>█████████████████████`;\n",
              "    </script>\n",
              "    "
            ]
          },
          "metadata": {}
        },
        {
          "output_type": "display_data",
          "data": {
            "text/plain": [
              "<IPython.core.display.HTML object>"
            ],
            "text/html": [
              "\n",
              "    <script>\n",
              "    document.getElementById('maze').innerHTML = `█████████████████████<br>█D█             █   █<br>█ ███ █ ███████ █ █ █<br>█   █ █   █   █   █ █<br>███ █████ █ █c█████ █<br>█ █ █   █   █ █     █<br>█ █ █ █ █ ███ █████ █<br>█ █ █ █ █   █     █ █<br>█ █ █ █ █████████ █ █<br>█     █           █F█<br>█████████████████████`;\n",
              "    </script>\n",
              "    "
            ]
          },
          "metadata": {}
        },
        {
          "output_type": "display_data",
          "data": {
            "text/plain": [
              "<IPython.core.display.HTML object>"
            ],
            "text/html": [
              "\n",
              "    <script>\n",
              "    document.getElementById('maze').innerHTML = `█████████████████████<br>█D█             █   █<br>█ ███ █ ███████ █ █ █<br>█   █ █   █  c█   █ █<br>███ █████ █ █ █████ █<br>█ █ █   █   █ █     █<br>█ █ █ █ █ ███ █████ █<br>█ █ █ █ █   █     █ █<br>█ █ █ █ █████████ █ █<br>█     █           █F█<br>█████████████████████`;\n",
              "    </script>\n",
              "    "
            ]
          },
          "metadata": {}
        },
        {
          "output_type": "display_data",
          "data": {
            "text/plain": [
              "<IPython.core.display.HTML object>"
            ],
            "text/html": [
              "\n",
              "    <script>\n",
              "    document.getElementById('maze').innerHTML = `█████████████████████<br>█D█             █   █<br>█ ███ █ ███████ █ █ █<br>█   █ █   █ c █   █ █<br>███ █████ █ █ █████ █<br>█ █ █   █   █ █     █<br>█ █ █ █ █ ███ █████ █<br>█ █ █ █ █   █     █ █<br>█ █ █ █ █████████ █ █<br>█     █           █F█<br>█████████████████████`;\n",
              "    </script>\n",
              "    "
            ]
          },
          "metadata": {}
        },
        {
          "output_type": "display_data",
          "data": {
            "text/plain": [
              "<IPython.core.display.HTML object>"
            ],
            "text/html": [
              "\n",
              "    <script>\n",
              "    document.getElementById('maze').innerHTML = `█████████████████████<br>█D█             █   █<br>█ ███ █ ███████ █ █ █<br>█   █ █   █c  █   █ █<br>███ █████ █ █ █████ █<br>█ █ █   █   █ █     █<br>█ █ █ █ █ ███ █████ █<br>█ █ █ █ █   █     █ █<br>█ █ █ █ █████████ █ █<br>█     █           █F█<br>█████████████████████`;\n",
              "    </script>\n",
              "    "
            ]
          },
          "metadata": {}
        },
        {
          "output_type": "display_data",
          "data": {
            "text/plain": [
              "<IPython.core.display.HTML object>"
            ],
            "text/html": [
              "\n",
              "    <script>\n",
              "    document.getElementById('maze').innerHTML = `█████████████████████<br>█D█             █   █<br>█ ███ █ ███████ █ █ █<br>█   █ █   █   █   █ █<br>███ █████ █c█ █████ █<br>█ █ █   █   █ █     █<br>█ █ █ █ █ ███ █████ █<br>█ █ █ █ █   █     █ █<br>█ █ █ █ █████████ █ █<br>█     █           █F█<br>█████████████████████`;\n",
              "    </script>\n",
              "    "
            ]
          },
          "metadata": {}
        },
        {
          "output_type": "display_data",
          "data": {
            "text/plain": [
              "<IPython.core.display.HTML object>"
            ],
            "text/html": [
              "\n",
              "    <script>\n",
              "    document.getElementById('maze').innerHTML = `█████████████████████<br>█D█             █   █<br>█ ███ █ ███████ █ █ █<br>█   █ █   █   █   █ █<br>███ █████ █ █ █████ █<br>█ █ █   █  c█ █     █<br>█ █ █ █ █ ███ █████ █<br>█ █ █ █ █   █     █ █<br>█ █ █ █ █████████ █ █<br>█     █           █F█<br>█████████████████████`;\n",
              "    </script>\n",
              "    "
            ]
          },
          "metadata": {}
        },
        {
          "output_type": "display_data",
          "data": {
            "text/plain": [
              "<IPython.core.display.HTML object>"
            ],
            "text/html": [
              "\n",
              "    <script>\n",
              "    document.getElementById('maze').innerHTML = `█████████████████████<br>█D█             █   █<br>█ ███ █ ███████ █ █ █<br>█   █ █   █   █   █ █<br>███ █████ █ █ █████ █<br>█ █ █   █ c █ █     █<br>█ █ █ █ █ ███ █████ █<br>█ █ █ █ █   █     █ █<br>█ █ █ █ █████████ █ █<br>█     █           █F█<br>█████████████████████`;\n",
              "    </script>\n",
              "    "
            ]
          },
          "metadata": {}
        },
        {
          "output_type": "display_data",
          "data": {
            "text/plain": [
              "<IPython.core.display.HTML object>"
            ],
            "text/html": [
              "\n",
              "    <script>\n",
              "    document.getElementById('maze').innerHTML = `█████████████████████<br>█D█             █   █<br>█ ███ █ ███████ █ █ █<br>█   █ █   █   █   █ █<br>███ █████ █ █ █████ █<br>█ █ █   █c  █ █     █<br>█ █ █ █ █ ███ █████ █<br>█ █ █ █ █   █     █ █<br>█ █ █ █ █████████ █ █<br>█     █           █F█<br>█████████████████████`;\n",
              "    </script>\n",
              "    "
            ]
          },
          "metadata": {}
        },
        {
          "output_type": "display_data",
          "data": {
            "text/plain": [
              "<IPython.core.display.HTML object>"
            ],
            "text/html": [
              "\n",
              "    <script>\n",
              "    document.getElementById('maze').innerHTML = `█████████████████████<br>█D█             █   █<br>█ ███ █ ███████ █ █ █<br>█   █ █   █   █   █ █<br>███ █████c█ █ █████ █<br>█ █ █   █   █ █     █<br>█ █ █ █ █ ███ █████ █<br>█ █ █ █ █   █     █ █<br>█ █ █ █ █████████ █ █<br>█     █           █F█<br>█████████████████████`;\n",
              "    </script>\n",
              "    "
            ]
          },
          "metadata": {}
        },
        {
          "output_type": "display_data",
          "data": {
            "text/plain": [
              "<IPython.core.display.HTML object>"
            ],
            "text/html": [
              "\n",
              "    <script>\n",
              "    document.getElementById('maze').innerHTML = `█████████████████████<br>█D█             █   █<br>█ ███ █ ███████ █ █ █<br>█   █ █   █   █   █ █<br>███ █████ █ █ █████ █<br>█ █ █   █   █ █     █<br>█ █ █ █ █c███ █████ █<br>█ █ █ █ █   █     █ █<br>█ █ █ █ █████████ █ █<br>█     █           █F█<br>█████████████████████`;\n",
              "    </script>\n",
              "    "
            ]
          },
          "metadata": {}
        },
        {
          "output_type": "display_data",
          "data": {
            "text/plain": [
              "<IPython.core.display.HTML object>"
            ],
            "text/html": [
              "\n",
              "    <script>\n",
              "    document.getElementById('maze').innerHTML = `█████████████████████<br>█D█             █   █<br>█ ███ █ ███████ █ █ █<br>█   █ █  c█   █   █ █<br>███ █████ █ █ █████ █<br>█ █ █   █   █ █     █<br>█ █ █ █ █ ███ █████ █<br>█ █ █ █ █   █     █ █<br>█ █ █ █ █████████ █ █<br>█     █           █F█<br>█████████████████████`;\n",
              "    </script>\n",
              "    "
            ]
          },
          "metadata": {}
        },
        {
          "output_type": "display_data",
          "data": {
            "text/plain": [
              "<IPython.core.display.HTML object>"
            ],
            "text/html": [
              "\n",
              "    <script>\n",
              "    document.getElementById('maze').innerHTML = `█████████████████████<br>█D█             █   █<br>█ ███ █ ███████ █ █ █<br>█   █ █   █   █   █ █<br>███ █████ █ █ █████ █<br>█ █ █   █   █ █     █<br>█ █ █ █ █ ███ █████ █<br>█ █ █ █ █c  █     █ █<br>█ █ █ █ █████████ █ █<br>█     █           █F█<br>█████████████████████`;\n",
              "    </script>\n",
              "    "
            ]
          },
          "metadata": {}
        },
        {
          "output_type": "display_data",
          "data": {
            "text/plain": [
              "<IPython.core.display.HTML object>"
            ],
            "text/html": [
              "\n",
              "    <script>\n",
              "    document.getElementById('maze').innerHTML = `█████████████████████<br>█D█             █   █<br>█ ███ █ ███████ █ █ █<br>█   █ █ c █   █   █ █<br>███ █████ █ █ █████ █<br>█ █ █   █   █ █     █<br>█ █ █ █ █ ███ █████ █<br>█ █ █ █ █   █     █ █<br>█ █ █ █ █████████ █ █<br>█     █           █F█<br>█████████████████████`;\n",
              "    </script>\n",
              "    "
            ]
          },
          "metadata": {}
        },
        {
          "output_type": "display_data",
          "data": {
            "text/plain": [
              "<IPython.core.display.HTML object>"
            ],
            "text/html": [
              "\n",
              "    <script>\n",
              "    document.getElementById('maze').innerHTML = `█████████████████████<br>█D█             █   █<br>█ ███ █ ███████ █ █ █<br>█   █ █   █   █   █ █<br>███ █████ █ █ █████ █<br>█ █ █   █   █ █     █<br>█ █ █ █ █ ███ █████ █<br>█ █ █ █ █ c █     █ █<br>█ █ █ █ █████████ █ █<br>█     █           █F█<br>█████████████████████`;\n",
              "    </script>\n",
              "    "
            ]
          },
          "metadata": {}
        },
        {
          "output_type": "display_data",
          "data": {
            "text/plain": [
              "<IPython.core.display.HTML object>"
            ],
            "text/html": [
              "\n",
              "    <script>\n",
              "    document.getElementById('maze').innerHTML = `█████████████████████<br>█D█             █   █<br>█ ███ █ ███████ █ █ █<br>█   █ █c  █   █   █ █<br>███ █████ █ █ █████ █<br>█ █ █   █   █ █     █<br>█ █ █ █ █ ███ █████ █<br>█ █ █ █ █   █     █ █<br>█ █ █ █ █████████ █ █<br>█     █           █F█<br>█████████████████████`;\n",
              "    </script>\n",
              "    "
            ]
          },
          "metadata": {}
        },
        {
          "output_type": "display_data",
          "data": {
            "text/plain": [
              "<IPython.core.display.HTML object>"
            ],
            "text/html": [
              "\n",
              "    <script>\n",
              "    document.getElementById('maze').innerHTML = `█████████████████████<br>█D█             █   █<br>█ ███ █ ███████ █ █ █<br>█   █ █   █   █   █ █<br>███ █████ █ █ █████ █<br>█ █ █   █   █ █     █<br>█ █ █ █ █ ███ █████ █<br>█ █ █ █ █  c█     █ █<br>█ █ █ █ █████████ █ █<br>█     █           █F█<br>█████████████████████`;\n",
              "    </script>\n",
              "    "
            ]
          },
          "metadata": {}
        },
        {
          "output_type": "display_data",
          "data": {
            "text/plain": [
              "<IPython.core.display.HTML object>"
            ],
            "text/html": [
              "\n",
              "    <script>\n",
              "    document.getElementById('maze').innerHTML = `█████████████████████<br>█D█             █   █<br>█ ███ █c███████ █ █ █<br>█   █ █   █   █   █ █<br>███ █████ █ █ █████ █<br>█ █ █   █   █ █     █<br>█ █ █ █ █ ███ █████ █<br>█ █ █ █ █   █     █ █<br>█ █ █ █ █████████ █ █<br>█     █           █F█<br>█████████████████████`;\n",
              "    </script>\n",
              "    "
            ]
          },
          "metadata": {}
        },
        {
          "output_type": "display_data",
          "data": {
            "text/plain": [
              "<IPython.core.display.HTML object>"
            ],
            "text/html": [
              "\n",
              "    <script>\n",
              "    document.getElementById('maze').innerHTML = `█████████████████████<br>█D█    c        █   █<br>█ ███ █ ███████ █ █ █<br>█   █ █   █   █   █ █<br>███ █████ █ █ █████ █<br>█ █ █   █   █ █     █<br>█ █ █ █ █ ███ █████ █<br>█ █ █ █ █   █     █ █<br>█ █ █ █ █████████ █ █<br>█     █           █F█<br>█████████████████████`;\n",
              "    </script>\n",
              "    "
            ]
          },
          "metadata": {}
        },
        {
          "output_type": "display_data",
          "data": {
            "text/plain": [
              "<IPython.core.display.HTML object>"
            ],
            "text/html": [
              "\n",
              "    <script>\n",
              "    document.getElementById('maze').innerHTML = `█████████████████████<br>█D█     c       █   █<br>█ ███ █ ███████ █ █ █<br>█   █ █   █   █   █ █<br>███ █████ █ █ █████ █<br>█ █ █   █   █ █     █<br>█ █ █ █ █ ███ █████ █<br>█ █ █ █ █   █     █ █<br>█ █ █ █ █████████ █ █<br>█     █           █F█<br>█████████████████████`;\n",
              "    </script>\n",
              "    "
            ]
          },
          "metadata": {}
        },
        {
          "output_type": "display_data",
          "data": {
            "text/plain": [
              "<IPython.core.display.HTML object>"
            ],
            "text/html": [
              "\n",
              "    <script>\n",
              "    document.getElementById('maze').innerHTML = `█████████████████████<br>█D█   c         █   █<br>█ ███ █ ███████ █ █ █<br>█   █ █   █   █   █ █<br>███ █████ █ █ █████ █<br>█ █ █   █   █ █     █<br>█ █ █ █ █ ███ █████ █<br>█ █ █ █ █   █     █ █<br>█ █ █ █ █████████ █ █<br>█     █           █F█<br>█████████████████████`;\n",
              "    </script>\n",
              "    "
            ]
          },
          "metadata": {}
        },
        {
          "output_type": "display_data",
          "data": {
            "text/plain": [
              "<IPython.core.display.HTML object>"
            ],
            "text/html": [
              "\n",
              "    <script>\n",
              "    document.getElementById('maze').innerHTML = `█████████████████████<br>█D█      c      █   █<br>█ ███ █ ███████ █ █ █<br>█   █ █   █   █   █ █<br>███ █████ █ █ █████ █<br>█ █ █   █   █ █     █<br>█ █ █ █ █ ███ █████ █<br>█ █ █ █ █   █     █ █<br>█ █ █ █ █████████ █ █<br>█     █           █F█<br>█████████████████████`;\n",
              "    </script>\n",
              "    "
            ]
          },
          "metadata": {}
        },
        {
          "output_type": "display_data",
          "data": {
            "text/plain": [
              "<IPython.core.display.HTML object>"
            ],
            "text/html": [
              "\n",
              "    <script>\n",
              "    document.getElementById('maze').innerHTML = `█████████████████████<br>█D█  c          █   █<br>█ ███ █ ███████ █ █ █<br>█   █ █   █   █   █ █<br>███ █████ █ █ █████ █<br>█ █ █   █   █ █     █<br>█ █ █ █ █ ███ █████ █<br>█ █ █ █ █   █     █ █<br>█ █ █ █ █████████ █ █<br>█     █           █F█<br>█████████████████████`;\n",
              "    </script>\n",
              "    "
            ]
          },
          "metadata": {}
        },
        {
          "output_type": "display_data",
          "data": {
            "text/plain": [
              "<IPython.core.display.HTML object>"
            ],
            "text/html": [
              "\n",
              "    <script>\n",
              "    document.getElementById('maze').innerHTML = `█████████████████████<br>█D█       c     █   █<br>█ ███ █ ███████ █ █ █<br>█   █ █   █   █   █ █<br>███ █████ █ █ █████ █<br>█ █ █   █   █ █     █<br>█ █ █ █ █ ███ █████ █<br>█ █ █ █ █   █     █ █<br>█ █ █ █ █████████ █ █<br>█     █           █F█<br>█████████████████████`;\n",
              "    </script>\n",
              "    "
            ]
          },
          "metadata": {}
        },
        {
          "output_type": "display_data",
          "data": {
            "text/plain": [
              "<IPython.core.display.HTML object>"
            ],
            "text/html": [
              "\n",
              "    <script>\n",
              "    document.getElementById('maze').innerHTML = `█████████████████████<br>█D█             █   █<br>█ ███c█ ███████ █ █ █<br>█   █ █   █   █   █ █<br>███ █████ █ █ █████ █<br>█ █ █   █   █ █     █<br>█ █ █ █ █ ███ █████ █<br>█ █ █ █ █   █     █ █<br>█ █ █ █ █████████ █ █<br>█     █           █F█<br>█████████████████████`;\n",
              "    </script>\n",
              "    "
            ]
          },
          "metadata": {}
        },
        {
          "output_type": "display_data",
          "data": {
            "text/plain": [
              "<IPython.core.display.HTML object>"
            ],
            "text/html": [
              "\n",
              "    <script>\n",
              "    document.getElementById('maze').innerHTML = `█████████████████████<br>█D█ c           █   █<br>█ ███ █ ███████ █ █ █<br>█   █ █   █   █   █ █<br>███ █████ █ █ █████ █<br>█ █ █   █   █ █     █<br>█ █ █ █ █ ███ █████ █<br>█ █ █ █ █   █     █ █<br>█ █ █ █ █████████ █ █<br>█     █           █F█<br>█████████████████████`;\n",
              "    </script>\n",
              "    "
            ]
          },
          "metadata": {}
        },
        {
          "output_type": "display_data",
          "data": {
            "text/plain": [
              "<IPython.core.display.HTML object>"
            ],
            "text/html": [
              "\n",
              "    <script>\n",
              "    document.getElementById('maze').innerHTML = `█████████████████████<br>█D█        c    █   █<br>█ ███ █ ███████ █ █ █<br>█   █ █   █   █   █ █<br>███ █████ █ █ █████ █<br>█ █ █   █   █ █     █<br>█ █ █ █ █ ███ █████ █<br>█ █ █ █ █   █     █ █<br>█ █ █ █ █████████ █ █<br>█     █           █F█<br>█████████████████████`;\n",
              "    </script>\n",
              "    "
            ]
          },
          "metadata": {}
        },
        {
          "output_type": "display_data",
          "data": {
            "text/plain": [
              "<IPython.core.display.HTML object>"
            ],
            "text/html": [
              "\n",
              "    <script>\n",
              "    document.getElementById('maze').innerHTML = `█████████████████████<br>█D█             █   █<br>█ ███ █ ███████ █ █ █<br>█   █c█   █   █   █ █<br>███ █████ █ █ █████ █<br>█ █ █   █   █ █     █<br>█ █ █ █ █ ███ █████ █<br>█ █ █ █ █   █     █ █<br>█ █ █ █ █████████ █ █<br>█     █           █F█<br>█████████████████████`;\n",
              "    </script>\n",
              "    "
            ]
          },
          "metadata": {}
        },
        {
          "output_type": "display_data",
          "data": {
            "text/plain": [
              "<IPython.core.display.HTML object>"
            ],
            "text/html": [
              "\n",
              "    <script>\n",
              "    document.getElementById('maze').innerHTML = `█████████████████████<br>█D█c            █   █<br>█ ███ █ ███████ █ █ █<br>█   █ █   █   █   █ █<br>███ █████ █ █ █████ █<br>█ █ █   █   █ █     █<br>█ █ █ █ █ ███ █████ █<br>█ █ █ █ █   █     █ █<br>█ █ █ █ █████████ █ █<br>█     █           █F█<br>█████████████████████`;\n",
              "    </script>\n",
              "    "
            ]
          },
          "metadata": {}
        },
        {
          "output_type": "display_data",
          "data": {
            "text/plain": [
              "<IPython.core.display.HTML object>"
            ],
            "text/html": [
              "\n",
              "    <script>\n",
              "    document.getElementById('maze').innerHTML = `█████████████████████<br>█D█         c   █   █<br>█ ███ █ ███████ █ █ █<br>█   █ █   █   █   █ █<br>███ █████ █ █ █████ █<br>█ █ █   █   █ █     █<br>█ █ █ █ █ ███ █████ █<br>█ █ █ █ █   █     █ █<br>█ █ █ █ █████████ █ █<br>█     █           █F█<br>█████████████████████`;\n",
              "    </script>\n",
              "    "
            ]
          },
          "metadata": {}
        },
        {
          "output_type": "display_data",
          "data": {
            "text/plain": [
              "<IPython.core.display.HTML object>"
            ],
            "text/html": [
              "\n",
              "    <script>\n",
              "    document.getElementById('maze').innerHTML = `█████████████████████<br>█D█          c  █   █<br>█ ███ █ ███████ █ █ █<br>█   █ █   █   █   █ █<br>███ █████ █ █ █████ █<br>█ █ █   █   █ █     █<br>█ █ █ █ █ ███ █████ █<br>█ █ █ █ █   █     █ █<br>█ █ █ █ █████████ █ █<br>█     █           █F█<br>█████████████████████`;\n",
              "    </script>\n",
              "    "
            ]
          },
          "metadata": {}
        },
        {
          "output_type": "display_data",
          "data": {
            "text/plain": [
              "<IPython.core.display.HTML object>"
            ],
            "text/html": [
              "\n",
              "    <script>\n",
              "    document.getElementById('maze').innerHTML = `█████████████████████<br>█D█           c █   █<br>█ ███ █ ███████ █ █ █<br>█   █ █   █   █   █ █<br>███ █████ █ █ █████ █<br>█ █ █   █   █ █     █<br>█ █ █ █ █ ███ █████ █<br>█ █ █ █ █   █     █ █<br>█ █ █ █ █████████ █ █<br>█     █           █F█<br>█████████████████████`;\n",
              "    </script>\n",
              "    "
            ]
          },
          "metadata": {}
        },
        {
          "output_type": "display_data",
          "data": {
            "text/plain": [
              "<IPython.core.display.HTML object>"
            ],
            "text/html": [
              "\n",
              "    <script>\n",
              "    document.getElementById('maze').innerHTML = `█████████████████████<br>█D█            c█   █<br>█ ███ █ ███████ █ █ █<br>█   █ █   █   █   █ █<br>███ █████ █ █ █████ █<br>█ █ █   █   █ █     █<br>█ █ █ █ █ ███ █████ █<br>█ █ █ █ █   █     █ █<br>█ █ █ █ █████████ █ █<br>█     █           █F█<br>█████████████████████`;\n",
              "    </script>\n",
              "    "
            ]
          },
          "metadata": {}
        },
        {
          "output_type": "display_data",
          "data": {
            "text/plain": [
              "<IPython.core.display.HTML object>"
            ],
            "text/html": [
              "\n",
              "    <script>\n",
              "    document.getElementById('maze').innerHTML = `█████████████████████<br>█D█             █   █<br>█ ███ █ ███████c█ █ █<br>█   █ █   █   █   █ █<br>███ █████ █ █ █████ █<br>█ █ █   █   █ █     █<br>█ █ █ █ █ ███ █████ █<br>█ █ █ █ █   █     █ █<br>█ █ █ █ █████████ █ █<br>█     █           █F█<br>█████████████████████`;\n",
              "    </script>\n",
              "    "
            ]
          },
          "metadata": {}
        },
        {
          "output_type": "display_data",
          "data": {
            "text/plain": [
              "<IPython.core.display.HTML object>"
            ],
            "text/html": [
              "\n",
              "    <script>\n",
              "    document.getElementById('maze').innerHTML = `█████████████████████<br>█D█             █   █<br>█ ███ █ ███████ █ █ █<br>█   █ █   █   █c  █ █<br>███ █████ █ █ █████ █<br>█ █ █   █   █ █     █<br>█ █ █ █ █ ███ █████ █<br>█ █ █ █ █   █     █ █<br>█ █ █ █ █████████ █ █<br>█     █           █F█<br>█████████████████████`;\n",
              "    </script>\n",
              "    "
            ]
          },
          "metadata": {}
        },
        {
          "output_type": "display_data",
          "data": {
            "text/plain": [
              "<IPython.core.display.HTML object>"
            ],
            "text/html": [
              "\n",
              "    <script>\n",
              "    document.getElementById('maze').innerHTML = `█████████████████████<br>█D█             █   █<br>█ ███ █ ███████ █ █ █<br>█   █ █   █   █ c █ █<br>███ █████ █ █ █████ █<br>█ █ █   █   █ █     █<br>█ █ █ █ █ ███ █████ █<br>█ █ █ █ █   █     █ █<br>█ █ █ █ █████████ █ █<br>█     █           █F█<br>█████████████████████`;\n",
              "    </script>\n",
              "    "
            ]
          },
          "metadata": {}
        },
        {
          "output_type": "display_data",
          "data": {
            "text/plain": [
              "<IPython.core.display.HTML object>"
            ],
            "text/html": [
              "\n",
              "    <script>\n",
              "    document.getElementById('maze').innerHTML = `█████████████████████<br>█D█             █   █<br>█ ███ █ ███████ █ █ █<br>█   █ █   █   █  c█ █<br>███ █████ █ █ █████ █<br>█ █ █   █   █ █     █<br>█ █ █ █ █ ███ █████ █<br>█ █ █ █ █   █     █ █<br>█ █ █ █ █████████ █ █<br>█     █           █F█<br>█████████████████████`;\n",
              "    </script>\n",
              "    "
            ]
          },
          "metadata": {}
        },
        {
          "output_type": "display_data",
          "data": {
            "text/plain": [
              "<IPython.core.display.HTML object>"
            ],
            "text/html": [
              "\n",
              "    <script>\n",
              "    document.getElementById('maze').innerHTML = `█████████████████████<br>█D█             █   █<br>█ ███ █ ███████ █c█ █<br>█   █ █   █   █   █ █<br>███ █████ █ █ █████ █<br>█ █ █   █   █ █     █<br>█ █ █ █ █ ███ █████ █<br>█ █ █ █ █   █     █ █<br>█ █ █ █ █████████ █ █<br>█     █           █F█<br>█████████████████████`;\n",
              "    </script>\n",
              "    "
            ]
          },
          "metadata": {}
        },
        {
          "output_type": "display_data",
          "data": {
            "text/plain": [
              "<IPython.core.display.HTML object>"
            ],
            "text/html": [
              "\n",
              "    <script>\n",
              "    document.getElementById('maze').innerHTML = `█████████████████████<br>█D█             █c  █<br>█ ███ █ ███████ █ █ █<br>█   █ █   █   █   █ █<br>███ █████ █ █ █████ █<br>█ █ █   █   █ █     █<br>█ █ █ █ █ ███ █████ █<br>█ █ █ █ █   █     █ █<br>█ █ █ █ █████████ █ █<br>█     █           █F█<br>█████████████████████`;\n",
              "    </script>\n",
              "    "
            ]
          },
          "metadata": {}
        },
        {
          "output_type": "display_data",
          "data": {
            "text/plain": [
              "<IPython.core.display.HTML object>"
            ],
            "text/html": [
              "\n",
              "    <script>\n",
              "    document.getElementById('maze').innerHTML = `█████████████████████<br>█D█             █ c █<br>█ ███ █ ███████ █ █ █<br>█   █ █   █   █   █ █<br>███ █████ █ █ █████ █<br>█ █ █   █   █ █     █<br>█ █ █ █ █ ███ █████ █<br>█ █ █ █ █   █     █ █<br>█ █ █ █ █████████ █ █<br>█     █           █F█<br>█████████████████████`;\n",
              "    </script>\n",
              "    "
            ]
          },
          "metadata": {}
        },
        {
          "output_type": "display_data",
          "data": {
            "text/plain": [
              "<IPython.core.display.HTML object>"
            ],
            "text/html": [
              "\n",
              "    <script>\n",
              "    document.getElementById('maze').innerHTML = `█████████████████████<br>█D█             █  c█<br>█ ███ █ ███████ █ █ █<br>█   █ █   █   █   █ █<br>███ █████ █ █ █████ █<br>█ █ █   █   █ █     █<br>█ █ █ █ █ ███ █████ █<br>█ █ █ █ █   █     █ █<br>█ █ █ █ █████████ █ █<br>█     █           █F█<br>█████████████████████`;\n",
              "    </script>\n",
              "    "
            ]
          },
          "metadata": {}
        },
        {
          "output_type": "display_data",
          "data": {
            "text/plain": [
              "<IPython.core.display.HTML object>"
            ],
            "text/html": [
              "\n",
              "    <script>\n",
              "    document.getElementById('maze').innerHTML = `█████████████████████<br>█D█             █   █<br>█ ███ █ ███████ █ █c█<br>█   █ █   █   █   █ █<br>███ █████ █ █ █████ █<br>█ █ █   █   █ █     █<br>█ █ █ █ █ ███ █████ █<br>█ █ █ █ █   █     █ █<br>█ █ █ █ █████████ █ █<br>█     █           █F█<br>█████████████████████`;\n",
              "    </script>\n",
              "    "
            ]
          },
          "metadata": {}
        },
        {
          "output_type": "display_data",
          "data": {
            "text/plain": [
              "<IPython.core.display.HTML object>"
            ],
            "text/html": [
              "\n",
              "    <script>\n",
              "    document.getElementById('maze').innerHTML = `█████████████████████<br>█D█             █   █<br>█ ███ █ ███████ █ █ █<br>█   █ █   █   █   █c█<br>███ █████ █ █ █████ █<br>█ █ █   █   █ █     █<br>█ █ █ █ █ ███ █████ █<br>█ █ █ █ █   █     █ █<br>█ █ █ █ █████████ █ █<br>█     █           █F█<br>█████████████████████`;\n",
              "    </script>\n",
              "    "
            ]
          },
          "metadata": {}
        },
        {
          "output_type": "display_data",
          "data": {
            "text/plain": [
              "<IPython.core.display.HTML object>"
            ],
            "text/html": [
              "\n",
              "    <script>\n",
              "    document.getElementById('maze').innerHTML = `█████████████████████<br>█D█             █   █<br>█ ███ █ ███████ █ █ █<br>█   █ █   █   █   █ █<br>███ █████ █ █ █████c█<br>█ █ █   █   █ █     █<br>█ █ █ █ █ ███ █████ █<br>█ █ █ █ █   █     █ █<br>█ █ █ █ █████████ █ █<br>█     █           █F█<br>█████████████████████`;\n",
              "    </script>\n",
              "    "
            ]
          },
          "metadata": {}
        },
        {
          "output_type": "display_data",
          "data": {
            "text/plain": [
              "<IPython.core.display.HTML object>"
            ],
            "text/html": [
              "\n",
              "    <script>\n",
              "    document.getElementById('maze').innerHTML = `█████████████████████<br>█D█             █   █<br>█ ███ █ ███████ █ █ █<br>█   █ █   █   █   █ █<br>███ █████ █ █ █████ █<br>█ █ █   █   █ █    c█<br>█ █ █ █ █ ███ █████ █<br>█ █ █ █ █   █     █ █<br>█ █ █ █ █████████ █ █<br>█     █           █F█<br>█████████████████████`;\n",
              "    </script>\n",
              "    "
            ]
          },
          "metadata": {}
        },
        {
          "output_type": "display_data",
          "data": {
            "text/plain": [
              "<IPython.core.display.HTML object>"
            ],
            "text/html": [
              "\n",
              "    <script>\n",
              "    document.getElementById('maze').innerHTML = `█████████████████████<br>█D█             █   █<br>█ ███ █ ███████ █ █ █<br>█   █ █   █   █   █ █<br>███ █████ █ █ █████ █<br>█ █ █   █   █ █     █<br>█ █ █ █ █ ███ █████c█<br>█ █ █ █ █   █     █ █<br>█ █ █ █ █████████ █ █<br>█     █           █F█<br>█████████████████████`;\n",
              "    </script>\n",
              "    "
            ]
          },
          "metadata": {}
        },
        {
          "output_type": "display_data",
          "data": {
            "text/plain": [
              "<IPython.core.display.HTML object>"
            ],
            "text/html": [
              "\n",
              "    <script>\n",
              "    document.getElementById('maze').innerHTML = `█████████████████████<br>█D█             █   █<br>█ ███ █ ███████ █ █ █<br>█   █ █   █   █   █ █<br>███ █████ █ █ █████ █<br>█ █ █   █   █ █   c █<br>█ █ █ █ █ ███ █████ █<br>█ █ █ █ █   █     █ █<br>█ █ █ █ █████████ █ █<br>█     █           █F█<br>█████████████████████`;\n",
              "    </script>\n",
              "    "
            ]
          },
          "metadata": {}
        },
        {
          "output_type": "display_data",
          "data": {
            "text/plain": [
              "<IPython.core.display.HTML object>"
            ],
            "text/html": [
              "\n",
              "    <script>\n",
              "    document.getElementById('maze').innerHTML = `█████████████████████<br>█D█             █   █<br>█ ███ █ ███████ █ █ █<br>█   █ █   █   █   █ █<br>███ █████ █ █ █████ █<br>█ █ █   █   █ █     █<br>█ █ █ █ █ ███ █████ █<br>█ █ █ █ █   █     █c█<br>█ █ █ █ █████████ █ █<br>█     █           █F█<br>█████████████████████`;\n",
              "    </script>\n",
              "    "
            ]
          },
          "metadata": {}
        },
        {
          "output_type": "display_data",
          "data": {
            "text/plain": [
              "<IPython.core.display.HTML object>"
            ],
            "text/html": [
              "\n",
              "    <script>\n",
              "    document.getElementById('maze').innerHTML = `█████████████████████<br>█D█             █   █<br>█ ███ █ ███████ █ █ █<br>█   █ █   █   █   █ █<br>███ █████ █ █ █████ █<br>█ █ █   █   █ █  c  █<br>█ █ █ █ █ ███ █████ █<br>█ █ █ █ █   █     █ █<br>█ █ █ █ █████████ █ █<br>█     █           █F█<br>█████████████████████`;\n",
              "    </script>\n",
              "    "
            ]
          },
          "metadata": {}
        },
        {
          "output_type": "display_data",
          "data": {
            "text/plain": [
              "<IPython.core.display.HTML object>"
            ],
            "text/html": [
              "\n",
              "    <script>\n",
              "    document.getElementById('maze').innerHTML = `█████████████████████<br>█D█             █   █<br>█ ███ █ ███████ █ █ █<br>█   █ █   █   █   █ █<br>███ █████ █ █ █████ █<br>█ █ █   █   █ █     █<br>█ █ █ █ █ ███ █████ █<br>█ █ █ █ █   █     █ █<br>█ █ █ █ █████████ █c█<br>█     █           █F█<br>█████████████████████`;\n",
              "    </script>\n",
              "    "
            ]
          },
          "metadata": {}
        },
        {
          "output_type": "display_data",
          "data": {
            "text/plain": [
              "<IPython.core.display.HTML object>"
            ],
            "text/html": [
              "\n",
              "    <script>\n",
              "    document.getElementById('maze').innerHTML = `█████████████████████<br>█D█             █   █<br>█ ███ █ ███████ █ █ █<br>█   █ █   █   █   █ █<br>███ █████ █ █ █████ █<br>█ █ █   █   █ █ c   █<br>█ █ █ █ █ ███ █████ █<br>█ █ █ █ █   █     █ █<br>█ █ █ █ █████████ █ █<br>█     █           █F█<br>█████████████████████`;\n",
              "    </script>\n",
              "    "
            ]
          },
          "metadata": {}
        },
        {
          "output_type": "display_data",
          "data": {
            "text/plain": [
              "<IPython.core.display.HTML object>"
            ],
            "text/html": [
              "\n",
              "    <script>\n",
              "    document.getElementById('maze').innerHTML = `█████████████████████<br>█D█             █   █<br>█ ███ █ ███████ █ █ █<br>█   █ █   █   █   █ █<br>███ █████ █ █ █████ █<br>█ █ █   █   █ █     █<br>█ █ █ █ █ ███ █████ █<br>█ █ █ █ █   █     █ █<br>█ █ █ █ █████████ █ █<br>█     █           █c█<br>█████████████████████`;\n",
              "    </script>\n",
              "    "
            ]
          },
          "metadata": {}
        },
        {
          "output_type": "display_data",
          "data": {
            "text/plain": [
              "<IPython.core.display.HTML object>"
            ],
            "text/html": [
              "\n",
              "    <script>\n",
              "    document.getElementById('maze').innerHTML = `█████████████████████<br>█D█             █   █<br>█ ███ █ ███████ █ █ █<br>█   █ █   █   █   █ █<br>███ █████ █ █ █████ █<br>█ █ █   █   █ █     █<br>█ █ █ █ █ ███ █████ █<br>█ █ █ █ █   █     █ █<br>█ █ █ █ █████████ █·█<br>█     █           █F█<br>█████████████████████`;\n",
              "    </script>\n",
              "    "
            ]
          },
          "metadata": {}
        },
        {
          "output_type": "display_data",
          "data": {
            "text/plain": [
              "<IPython.core.display.HTML object>"
            ],
            "text/html": [
              "\n",
              "    <script>\n",
              "    document.getElementById('maze').innerHTML = `█████████████████████<br>█D█             █   █<br>█ ███ █ ███████ █ █ █<br>█   █ █   █   █   █ █<br>███ █████ █ █ █████ █<br>█ █ █   █   █ █     █<br>█ █ █ █ █ ███ █████ █<br>█ █ █ █ █   █     █·█<br>█ █ █ █ █████████ █·█<br>█     █           █F█<br>█████████████████████`;\n",
              "    </script>\n",
              "    "
            ]
          },
          "metadata": {}
        },
        {
          "output_type": "display_data",
          "data": {
            "text/plain": [
              "<IPython.core.display.HTML object>"
            ],
            "text/html": [
              "\n",
              "    <script>\n",
              "    document.getElementById('maze').innerHTML = `█████████████████████<br>█D█             █   █<br>█ ███ █ ███████ █ █ █<br>█   █ █   █   █   █ █<br>███ █████ █ █ █████ █<br>█ █ █   █   █ █     █<br>█ █ █ █ █ ███ █████·█<br>█ █ █ █ █   █     █·█<br>█ █ █ █ █████████ █·█<br>█     █           █F█<br>█████████████████████`;\n",
              "    </script>\n",
              "    "
            ]
          },
          "metadata": {}
        },
        {
          "output_type": "display_data",
          "data": {
            "text/plain": [
              "<IPython.core.display.HTML object>"
            ],
            "text/html": [
              "\n",
              "    <script>\n",
              "    document.getElementById('maze').innerHTML = `█████████████████████<br>█D█             █   █<br>█ ███ █ ███████ █ █ █<br>█   █ █   █   █   █ █<br>███ █████ █ █ █████ █<br>█ █ █   █   █ █    ·█<br>█ █ █ █ █ ███ █████·█<br>█ █ █ █ █   █     █·█<br>█ █ █ █ █████████ █·█<br>█     █           █F█<br>█████████████████████`;\n",
              "    </script>\n",
              "    "
            ]
          },
          "metadata": {}
        },
        {
          "output_type": "display_data",
          "data": {
            "text/plain": [
              "<IPython.core.display.HTML object>"
            ],
            "text/html": [
              "\n",
              "    <script>\n",
              "    document.getElementById('maze').innerHTML = `█████████████████████<br>█D█             █   █<br>█ ███ █ ███████ █ █ █<br>█   █ █   █   █   █ █<br>███ █████ █ █ █████·█<br>█ █ █   █   █ █    ·█<br>█ █ █ █ █ ███ █████·█<br>█ █ █ █ █   █     █·█<br>█ █ █ █ █████████ █·█<br>█     █           █F█<br>█████████████████████`;\n",
              "    </script>\n",
              "    "
            ]
          },
          "metadata": {}
        },
        {
          "output_type": "display_data",
          "data": {
            "text/plain": [
              "<IPython.core.display.HTML object>"
            ],
            "text/html": [
              "\n",
              "    <script>\n",
              "    document.getElementById('maze').innerHTML = `█████████████████████<br>█D█             █   █<br>█ ███ █ ███████ █ █ █<br>█   █ █   █   █   █·█<br>███ █████ █ █ █████·█<br>█ █ █   █   █ █    ·█<br>█ █ █ █ █ ███ █████·█<br>█ █ █ █ █   █     █·█<br>█ █ █ █ █████████ █·█<br>█     █           █F█<br>█████████████████████`;\n",
              "    </script>\n",
              "    "
            ]
          },
          "metadata": {}
        },
        {
          "output_type": "display_data",
          "data": {
            "text/plain": [
              "<IPython.core.display.HTML object>"
            ],
            "text/html": [
              "\n",
              "    <script>\n",
              "    document.getElementById('maze').innerHTML = `█████████████████████<br>█D█             █   █<br>█ ███ █ ███████ █ █·█<br>█   █ █   █   █   █·█<br>███ █████ █ █ █████·█<br>█ █ █   █   █ █    ·█<br>█ █ █ █ █ ███ █████·█<br>█ █ █ █ █   █     █·█<br>█ █ █ █ █████████ █·█<br>█     █           █F█<br>█████████████████████`;\n",
              "    </script>\n",
              "    "
            ]
          },
          "metadata": {}
        },
        {
          "output_type": "display_data",
          "data": {
            "text/plain": [
              "<IPython.core.display.HTML object>"
            ],
            "text/html": [
              "\n",
              "    <script>\n",
              "    document.getElementById('maze').innerHTML = `█████████████████████<br>█D█             █  ·█<br>█ ███ █ ███████ █ █·█<br>█   █ █   █   █   █·█<br>███ █████ █ █ █████·█<br>█ █ █   █   █ █    ·█<br>█ █ █ █ █ ███ █████·█<br>█ █ █ █ █   █     █·█<br>█ █ █ █ █████████ █·█<br>█     █           █F█<br>█████████████████████`;\n",
              "    </script>\n",
              "    "
            ]
          },
          "metadata": {}
        },
        {
          "output_type": "display_data",
          "data": {
            "text/plain": [
              "<IPython.core.display.HTML object>"
            ],
            "text/html": [
              "\n",
              "    <script>\n",
              "    document.getElementById('maze').innerHTML = `█████████████████████<br>█D█             █ ··█<br>█ ███ █ ███████ █ █·█<br>█   █ █   █   █   █·█<br>███ █████ █ █ █████·█<br>█ █ █   █   █ █    ·█<br>█ █ █ █ █ ███ █████·█<br>█ █ █ █ █   █     █·█<br>█ █ █ █ █████████ █·█<br>█     █           █F█<br>█████████████████████`;\n",
              "    </script>\n",
              "    "
            ]
          },
          "metadata": {}
        },
        {
          "output_type": "display_data",
          "data": {
            "text/plain": [
              "<IPython.core.display.HTML object>"
            ],
            "text/html": [
              "\n",
              "    <script>\n",
              "    document.getElementById('maze').innerHTML = `█████████████████████<br>█D█             █···█<br>█ ███ █ ███████ █ █·█<br>█   █ █   █   █   █·█<br>███ █████ █ █ █████·█<br>█ █ █   █   █ █    ·█<br>█ █ █ █ █ ███ █████·█<br>█ █ █ █ █   █     █·█<br>█ █ █ █ █████████ █·█<br>█     █           █F█<br>█████████████████████`;\n",
              "    </script>\n",
              "    "
            ]
          },
          "metadata": {}
        },
        {
          "output_type": "display_data",
          "data": {
            "text/plain": [
              "<IPython.core.display.HTML object>"
            ],
            "text/html": [
              "\n",
              "    <script>\n",
              "    document.getElementById('maze').innerHTML = `█████████████████████<br>█D█             █···█<br>█ ███ █ ███████ █·█·█<br>█   █ █   █   █   █·█<br>███ █████ █ █ █████·█<br>█ █ █   █   █ █    ·█<br>█ █ █ █ █ ███ █████·█<br>█ █ █ █ █   █     █·█<br>█ █ █ █ █████████ █·█<br>█     █           █F█<br>█████████████████████`;\n",
              "    </script>\n",
              "    "
            ]
          },
          "metadata": {}
        },
        {
          "output_type": "display_data",
          "data": {
            "text/plain": [
              "<IPython.core.display.HTML object>"
            ],
            "text/html": [
              "\n",
              "    <script>\n",
              "    document.getElementById('maze').innerHTML = `█████████████████████<br>█D█             █···█<br>█ ███ █ ███████ █·█·█<br>█   █ █   █   █  ·█·█<br>███ █████ █ █ █████·█<br>█ █ █   █   █ █    ·█<br>█ █ █ █ █ ███ █████·█<br>█ █ █ █ █   █     █·█<br>█ █ █ █ █████████ █·█<br>█     █           █F█<br>█████████████████████`;\n",
              "    </script>\n",
              "    "
            ]
          },
          "metadata": {}
        },
        {
          "output_type": "display_data",
          "data": {
            "text/plain": [
              "<IPython.core.display.HTML object>"
            ],
            "text/html": [
              "\n",
              "    <script>\n",
              "    document.getElementById('maze').innerHTML = `█████████████████████<br>█D█             █···█<br>█ ███ █ ███████ █·█·█<br>█   █ █   █   █ ··█·█<br>███ █████ █ █ █████·█<br>█ █ █   █   █ █    ·█<br>█ █ █ █ █ ███ █████·█<br>█ █ █ █ █   █     █·█<br>█ █ █ █ █████████ █·█<br>█     █           █F█<br>█████████████████████`;\n",
              "    </script>\n",
              "    "
            ]
          },
          "metadata": {}
        },
        {
          "output_type": "display_data",
          "data": {
            "text/plain": [
              "<IPython.core.display.HTML object>"
            ],
            "text/html": [
              "\n",
              "    <script>\n",
              "    document.getElementById('maze').innerHTML = `█████████████████████<br>█D█             █···█<br>█ ███ █ ███████ █·█·█<br>█   █ █   █   █···█·█<br>███ █████ █ █ █████·█<br>█ █ █   █   █ █    ·█<br>█ █ █ █ █ ███ █████·█<br>█ █ █ █ █   █     █·█<br>█ █ █ █ █████████ █·█<br>█     █           █F█<br>█████████████████████`;\n",
              "    </script>\n",
              "    "
            ]
          },
          "metadata": {}
        },
        {
          "output_type": "display_data",
          "data": {
            "text/plain": [
              "<IPython.core.display.HTML object>"
            ],
            "text/html": [
              "\n",
              "    <script>\n",
              "    document.getElementById('maze').innerHTML = `█████████████████████<br>█D█             █···█<br>█ ███ █ ███████·█·█·█<br>█   █ █   █   █···█·█<br>███ █████ █ █ █████·█<br>█ █ █   █   █ █    ·█<br>█ █ █ █ █ ███ █████·█<br>█ █ █ █ █   █     █·█<br>█ █ █ █ █████████ █·█<br>█     █           █F█<br>█████████████████████`;\n",
              "    </script>\n",
              "    "
            ]
          },
          "metadata": {}
        },
        {
          "output_type": "display_data",
          "data": {
            "text/plain": [
              "<IPython.core.display.HTML object>"
            ],
            "text/html": [
              "\n",
              "    <script>\n",
              "    document.getElementById('maze').innerHTML = `█████████████████████<br>█D█            ·█···█<br>█ ███ █ ███████·█·█·█<br>█   █ █   █   █···█·█<br>███ █████ █ █ █████·█<br>█ █ █   █   █ █    ·█<br>█ █ █ █ █ ███ █████·█<br>█ █ █ █ █   █     █·█<br>█ █ █ █ █████████ █·█<br>█     █           █F█<br>█████████████████████`;\n",
              "    </script>\n",
              "    "
            ]
          },
          "metadata": {}
        },
        {
          "output_type": "display_data",
          "data": {
            "text/plain": [
              "<IPython.core.display.HTML object>"
            ],
            "text/html": [
              "\n",
              "    <script>\n",
              "    document.getElementById('maze').innerHTML = `█████████████████████<br>█D█           ··█···█<br>█ ███ █ ███████·█·█·█<br>█   █ █   █   █···█·█<br>███ █████ █ █ █████·█<br>█ █ █   █   █ █    ·█<br>█ █ █ █ █ ███ █████·█<br>█ █ █ █ █   █     █·█<br>█ █ █ █ █████████ █·█<br>█     █           █F█<br>█████████████████████`;\n",
              "    </script>\n",
              "    "
            ]
          },
          "metadata": {}
        },
        {
          "output_type": "display_data",
          "data": {
            "text/plain": [
              "<IPython.core.display.HTML object>"
            ],
            "text/html": [
              "\n",
              "    <script>\n",
              "    document.getElementById('maze').innerHTML = `█████████████████████<br>█D█          ···█···█<br>█ ███ █ ███████·█·█·█<br>█   █ █   █   █···█·█<br>███ █████ █ █ █████·█<br>█ █ █   █   █ █    ·█<br>█ █ █ █ █ ███ █████·█<br>█ █ █ █ █   █     █·█<br>█ █ █ █ █████████ █·█<br>█     █           █F█<br>█████████████████████`;\n",
              "    </script>\n",
              "    "
            ]
          },
          "metadata": {}
        },
        {
          "output_type": "display_data",
          "data": {
            "text/plain": [
              "<IPython.core.display.HTML object>"
            ],
            "text/html": [
              "\n",
              "    <script>\n",
              "    document.getElementById('maze').innerHTML = `█████████████████████<br>█D█         ····█···█<br>█ ███ █ ███████·█·█·█<br>█   █ █   █   █···█·█<br>███ █████ █ █ █████·█<br>█ █ █   █   █ █    ·█<br>█ █ █ █ █ ███ █████·█<br>█ █ █ █ █   █     █·█<br>█ █ █ █ █████████ █·█<br>█     █           █F█<br>█████████████████████`;\n",
              "    </script>\n",
              "    "
            ]
          },
          "metadata": {}
        },
        {
          "output_type": "display_data",
          "data": {
            "text/plain": [
              "<IPython.core.display.HTML object>"
            ],
            "text/html": [
              "\n",
              "    <script>\n",
              "    document.getElementById('maze').innerHTML = `█████████████████████<br>█D█        ·····█···█<br>█ ███ █ ███████·█·█·█<br>█   █ █   █   █···█·█<br>███ █████ █ █ █████·█<br>█ █ █   █   █ █    ·█<br>█ █ █ █ █ ███ █████·█<br>█ █ █ █ █   █     █·█<br>█ █ █ █ █████████ █·█<br>█     █           █F█<br>█████████████████████`;\n",
              "    </script>\n",
              "    "
            ]
          },
          "metadata": {}
        },
        {
          "output_type": "display_data",
          "data": {
            "text/plain": [
              "<IPython.core.display.HTML object>"
            ],
            "text/html": [
              "\n",
              "    <script>\n",
              "    document.getElementById('maze').innerHTML = `█████████████████████<br>█D█       ······█···█<br>█ ███ █ ███████·█·█·█<br>█   █ █   █   █···█·█<br>███ █████ █ █ █████·█<br>█ █ █   █   █ █    ·█<br>█ █ █ █ █ ███ █████·█<br>█ █ █ █ █   █     █·█<br>█ █ █ █ █████████ █·█<br>█     █           █F█<br>█████████████████████`;\n",
              "    </script>\n",
              "    "
            ]
          },
          "metadata": {}
        },
        {
          "output_type": "display_data",
          "data": {
            "text/plain": [
              "<IPython.core.display.HTML object>"
            ],
            "text/html": [
              "\n",
              "    <script>\n",
              "    document.getElementById('maze').innerHTML = `█████████████████████<br>█D█      ·······█···█<br>█ ███ █ ███████·█·█·█<br>█   █ █   █   █···█·█<br>███ █████ █ █ █████·█<br>█ █ █   █   █ █    ·█<br>█ █ █ █ █ ███ █████·█<br>█ █ █ █ █   █     █·█<br>█ █ █ █ █████████ █·█<br>█     █           █F█<br>█████████████████████`;\n",
              "    </script>\n",
              "    "
            ]
          },
          "metadata": {}
        },
        {
          "output_type": "display_data",
          "data": {
            "text/plain": [
              "<IPython.core.display.HTML object>"
            ],
            "text/html": [
              "\n",
              "    <script>\n",
              "    document.getElementById('maze').innerHTML = `█████████████████████<br>█D█     ········█···█<br>█ ███ █ ███████·█·█·█<br>█   █ █   █   █···█·█<br>███ █████ █ █ █████·█<br>█ █ █   █   █ █    ·█<br>█ █ █ █ █ ███ █████·█<br>█ █ █ █ █   █     █·█<br>█ █ █ █ █████████ █·█<br>█     █           █F█<br>█████████████████████`;\n",
              "    </script>\n",
              "    "
            ]
          },
          "metadata": {}
        },
        {
          "output_type": "display_data",
          "data": {
            "text/plain": [
              "<IPython.core.display.HTML object>"
            ],
            "text/html": [
              "\n",
              "    <script>\n",
              "    document.getElementById('maze').innerHTML = `█████████████████████<br>█D█    ·········█···█<br>█ ███ █ ███████·█·█·█<br>█   █ █   █   █···█·█<br>███ █████ █ █ █████·█<br>█ █ █   █   █ █    ·█<br>█ █ █ █ █ ███ █████·█<br>█ █ █ █ █   █     █·█<br>█ █ █ █ █████████ █·█<br>█     █           █F█<br>█████████████████████`;\n",
              "    </script>\n",
              "    "
            ]
          },
          "metadata": {}
        },
        {
          "output_type": "display_data",
          "data": {
            "text/plain": [
              "<IPython.core.display.HTML object>"
            ],
            "text/html": [
              "\n",
              "    <script>\n",
              "    document.getElementById('maze').innerHTML = `█████████████████████<br>█D█    ·········█···█<br>█ ███ █·███████·█·█·█<br>█   █ █   █   █···█·█<br>███ █████ █ █ █████·█<br>█ █ █   █   █ █    ·█<br>█ █ █ █ █ ███ █████·█<br>█ █ █ █ █   █     █·█<br>█ █ █ █ █████████ █·█<br>█     █           █F█<br>█████████████████████`;\n",
              "    </script>\n",
              "    "
            ]
          },
          "metadata": {}
        },
        {
          "output_type": "display_data",
          "data": {
            "text/plain": [
              "<IPython.core.display.HTML object>"
            ],
            "text/html": [
              "\n",
              "    <script>\n",
              "    document.getElementById('maze').innerHTML = `█████████████████████<br>█D█    ·········█···█<br>█ ███ █·███████·█·█·█<br>█   █ █·  █   █···█·█<br>███ █████ █ █ █████·█<br>█ █ █   █   █ █    ·█<br>█ █ █ █ █ ███ █████·█<br>█ █ █ █ █   █     █·█<br>█ █ █ █ █████████ █·█<br>█     █           █F█<br>█████████████████████`;\n",
              "    </script>\n",
              "    "
            ]
          },
          "metadata": {}
        },
        {
          "output_type": "display_data",
          "data": {
            "text/plain": [
              "<IPython.core.display.HTML object>"
            ],
            "text/html": [
              "\n",
              "    <script>\n",
              "    document.getElementById('maze').innerHTML = `█████████████████████<br>█D█    ·········█···█<br>█ ███ █·███████·█·█·█<br>█   █ █·· █   █···█·█<br>███ █████ █ █ █████·█<br>█ █ █   █   █ █    ·█<br>█ █ █ █ █ ███ █████·█<br>█ █ █ █ █   █     █·█<br>█ █ █ █ █████████ █·█<br>█     █           █F█<br>█████████████████████`;\n",
              "    </script>\n",
              "    "
            ]
          },
          "metadata": {}
        },
        {
          "output_type": "display_data",
          "data": {
            "text/plain": [
              "<IPython.core.display.HTML object>"
            ],
            "text/html": [
              "\n",
              "    <script>\n",
              "    document.getElementById('maze').innerHTML = `█████████████████████<br>█D█    ·········█···█<br>█ ███ █·███████·█·█·█<br>█   █ █···█   █···█·█<br>███ █████ █ █ █████·█<br>█ █ █   █   █ █    ·█<br>█ █ █ █ █ ███ █████·█<br>█ █ █ █ █   █     █·█<br>█ █ █ █ █████████ █·█<br>█     █           █F█<br>█████████████████████`;\n",
              "    </script>\n",
              "    "
            ]
          },
          "metadata": {}
        },
        {
          "output_type": "display_data",
          "data": {
            "text/plain": [
              "<IPython.core.display.HTML object>"
            ],
            "text/html": [
              "\n",
              "    <script>\n",
              "    document.getElementById('maze').innerHTML = `█████████████████████<br>█D█    ·········█···█<br>█ ███ █·███████·█·█·█<br>█   █ █···█   █···█·█<br>███ █████·█ █ █████·█<br>█ █ █   █   █ █    ·█<br>█ █ █ █ █ ███ █████·█<br>█ █ █ █ █   █     █·█<br>█ █ █ █ █████████ █·█<br>█     █           █F█<br>█████████████████████`;\n",
              "    </script>\n",
              "    "
            ]
          },
          "metadata": {}
        },
        {
          "output_type": "display_data",
          "data": {
            "text/plain": [
              "<IPython.core.display.HTML object>"
            ],
            "text/html": [
              "\n",
              "    <script>\n",
              "    document.getElementById('maze').innerHTML = `█████████████████████<br>█D█    ·········█···█<br>█ ███ █·███████·█·█·█<br>█   █ █···█   █···█·█<br>███ █████·█ █ █████·█<br>█ █ █   █·  █ █    ·█<br>█ █ █ █ █ ███ █████·█<br>█ █ █ █ █   █     █·█<br>█ █ █ █ █████████ █·█<br>█     █           █F█<br>█████████████████████`;\n",
              "    </script>\n",
              "    "
            ]
          },
          "metadata": {}
        },
        {
          "output_type": "display_data",
          "data": {
            "text/plain": [
              "<IPython.core.display.HTML object>"
            ],
            "text/html": [
              "\n",
              "    <script>\n",
              "    document.getElementById('maze').innerHTML = `█████████████████████<br>█D█    ·········█···█<br>█ ███ █·███████·█·█·█<br>█   █ █···█   █···█·█<br>███ █████·█ █ █████·█<br>█ █ █   █·· █ █    ·█<br>█ █ █ █ █ ███ █████·█<br>█ █ █ █ █   █     █·█<br>█ █ █ █ █████████ █·█<br>█     █           █F█<br>█████████████████████`;\n",
              "    </script>\n",
              "    "
            ]
          },
          "metadata": {}
        },
        {
          "output_type": "display_data",
          "data": {
            "text/plain": [
              "<IPython.core.display.HTML object>"
            ],
            "text/html": [
              "\n",
              "    <script>\n",
              "    document.getElementById('maze').innerHTML = `█████████████████████<br>█D█    ·········█···█<br>█ ███ █·███████·█·█·█<br>█   █ █···█   █···█·█<br>███ █████·█ █ █████·█<br>█ █ █   █···█ █    ·█<br>█ █ █ █ █ ███ █████·█<br>█ █ █ █ █   █     █·█<br>█ █ █ █ █████████ █·█<br>█     █           █F█<br>█████████████████████`;\n",
              "    </script>\n",
              "    "
            ]
          },
          "metadata": {}
        },
        {
          "output_type": "display_data",
          "data": {
            "text/plain": [
              "<IPython.core.display.HTML object>"
            ],
            "text/html": [
              "\n",
              "    <script>\n",
              "    document.getElementById('maze').innerHTML = `█████████████████████<br>█D█    ·········█···█<br>█ ███ █·███████·█·█·█<br>█   █ █···█   █···█·█<br>███ █████·█·█ █████·█<br>█ █ █   █···█ █    ·█<br>█ █ █ █ █ ███ █████·█<br>█ █ █ █ █   █     █·█<br>█ █ █ █ █████████ █·█<br>█     █           █F█<br>█████████████████████`;\n",
              "    </script>\n",
              "    "
            ]
          },
          "metadata": {}
        },
        {
          "output_type": "display_data",
          "data": {
            "text/plain": [
              "<IPython.core.display.HTML object>"
            ],
            "text/html": [
              "\n",
              "    <script>\n",
              "    document.getElementById('maze').innerHTML = `█████████████████████<br>█D█    ·········█···█<br>█ ███ █·███████·█·█·█<br>█   █ █···█·  █···█·█<br>███ █████·█·█ █████·█<br>█ █ █   █···█ █    ·█<br>█ █ █ █ █ ███ █████·█<br>█ █ █ █ █   █     █·█<br>█ █ █ █ █████████ █·█<br>█     █           █F█<br>█████████████████████`;\n",
              "    </script>\n",
              "    "
            ]
          },
          "metadata": {}
        },
        {
          "output_type": "display_data",
          "data": {
            "text/plain": [
              "<IPython.core.display.HTML object>"
            ],
            "text/html": [
              "\n",
              "    <script>\n",
              "    document.getElementById('maze').innerHTML = `█████████████████████<br>█D█    ·········█···█<br>█ ███ █·███████·█·█·█<br>█   █ █···█·· █···█·█<br>███ █████·█·█ █████·█<br>█ █ █   █···█ █    ·█<br>█ █ █ █ █ ███ █████·█<br>█ █ █ █ █   █     █·█<br>█ █ █ █ █████████ █·█<br>█     █           █F█<br>█████████████████████`;\n",
              "    </script>\n",
              "    "
            ]
          },
          "metadata": {}
        },
        {
          "output_type": "display_data",
          "data": {
            "text/plain": [
              "<IPython.core.display.HTML object>"
            ],
            "text/html": [
              "\n",
              "    <script>\n",
              "    document.getElementById('maze').innerHTML = `█████████████████████<br>█D█    ·········█···█<br>█ ███ █·███████·█·█·█<br>█   █ █···█···█···█·█<br>███ █████·█·█ █████·█<br>█ █ █   █···█ █    ·█<br>█ █ █ █ █ ███ █████·█<br>█ █ █ █ █   █     █·█<br>█ █ █ █ █████████ █·█<br>█     █           █F█<br>█████████████████████`;\n",
              "    </script>\n",
              "    "
            ]
          },
          "metadata": {}
        },
        {
          "output_type": "display_data",
          "data": {
            "text/plain": [
              "<IPython.core.display.HTML object>"
            ],
            "text/html": [
              "\n",
              "    <script>\n",
              "    document.getElementById('maze').innerHTML = `█████████████████████<br>█D█    ·········█···█<br>█ ███ █·███████·█·█·█<br>█   █ █···█···█···█·█<br>███ █████·█·█·█████·█<br>█ █ █   █···█ █    ·█<br>█ █ █ █ █ ███ █████·█<br>█ █ █ █ █   █     █·█<br>█ █ █ █ █████████ █·█<br>█     █           █F█<br>█████████████████████`;\n",
              "    </script>\n",
              "    "
            ]
          },
          "metadata": {}
        },
        {
          "output_type": "display_data",
          "data": {
            "text/plain": [
              "<IPython.core.display.HTML object>"
            ],
            "text/html": [
              "\n",
              "    <script>\n",
              "    document.getElementById('maze').innerHTML = `█████████████████████<br>█D█    ·········█···█<br>█ ███ █·███████·█·█·█<br>█   █ █···█···█···█·█<br>███ █████·█·█·█████·█<br>█ █ █   █···█·█    ·█<br>█ █ █ █ █ ███ █████·█<br>█ █ █ █ █   █     █·█<br>█ █ █ █ █████████ █·█<br>█     █           █F█<br>█████████████████████`;\n",
              "    </script>\n",
              "    "
            ]
          },
          "metadata": {}
        },
        {
          "output_type": "display_data",
          "data": {
            "text/plain": [
              "<IPython.core.display.HTML object>"
            ],
            "text/html": [
              "\n",
              "    <script>\n",
              "    document.getElementById('maze').innerHTML = `█████████████████████<br>█D█    ·········█···█<br>█ ███ █·███████·█·█·█<br>█   █ █···█···█···█·█<br>███ █████·█·█·█████·█<br>█ █ █   █···█·█    ·█<br>█ █ █ █ █ ███·█████·█<br>█ █ █ █ █   █     █·█<br>█ █ █ █ █████████ █·█<br>█     █           █F█<br>█████████████████████`;\n",
              "    </script>\n",
              "    "
            ]
          },
          "metadata": {}
        },
        {
          "output_type": "display_data",
          "data": {
            "text/plain": [
              "<IPython.core.display.HTML object>"
            ],
            "text/html": [
              "\n",
              "    <script>\n",
              "    document.getElementById('maze').innerHTML = `█████████████████████<br>█D█    ·········█···█<br>█ ███ █·███████·█·█·█<br>█   █ █···█···█···█·█<br>███ █████·█·█·█████·█<br>█ █ █   █···█·█    ·█<br>█ █ █ █ █ ███·█████·█<br>█ █ █ █ █   █·    █·█<br>█ █ █ █ █████████ █·█<br>█     █           █F█<br>█████████████████████`;\n",
              "    </script>\n",
              "    "
            ]
          },
          "metadata": {}
        },
        {
          "output_type": "display_data",
          "data": {
            "text/plain": [
              "<IPython.core.display.HTML object>"
            ],
            "text/html": [
              "\n",
              "    <script>\n",
              "    document.getElementById('maze').innerHTML = `█████████████████████<br>█D█    ·········█···█<br>█ ███ █·███████·█·█·█<br>█   █ █···█···█···█·█<br>███ █████·█·█·█████·█<br>█ █ █   █···█·█    ·█<br>█ █ █ █ █ ███·█████·█<br>█ █ █ █ █   █··   █·█<br>█ █ █ █ █████████ █·█<br>█     █           █F█<br>█████████████████████`;\n",
              "    </script>\n",
              "    "
            ]
          },
          "metadata": {}
        },
        {
          "output_type": "display_data",
          "data": {
            "text/plain": [
              "<IPython.core.display.HTML object>"
            ],
            "text/html": [
              "\n",
              "    <script>\n",
              "    document.getElementById('maze').innerHTML = `█████████████████████<br>█D█    ·········█···█<br>█ ███ █·███████·█·█·█<br>█   █ █···█···█···█·█<br>███ █████·█·█·█████·█<br>█ █ █   █···█·█    ·█<br>█ █ █ █ █ ███·█████·█<br>█ █ █ █ █   █···  █·█<br>█ █ █ █ █████████ █·█<br>█     █           █F█<br>█████████████████████`;\n",
              "    </script>\n",
              "    "
            ]
          },
          "metadata": {}
        },
        {
          "output_type": "display_data",
          "data": {
            "text/plain": [
              "<IPython.core.display.HTML object>"
            ],
            "text/html": [
              "\n",
              "    <script>\n",
              "    document.getElementById('maze').innerHTML = `█████████████████████<br>█D█    ·········█···█<br>█ ███ █·███████·█·█·█<br>█   █ █···█···█···█·█<br>███ █████·█·█·█████·█<br>█ █ █   █···█·█    ·█<br>█ █ █ █ █ ███·█████·█<br>█ █ █ █ █   █···· █·█<br>█ █ █ █ █████████ █·█<br>█     █           █F█<br>█████████████████████`;\n",
              "    </script>\n",
              "    "
            ]
          },
          "metadata": {}
        },
        {
          "output_type": "display_data",
          "data": {
            "text/plain": [
              "<IPython.core.display.HTML object>"
            ],
            "text/html": [
              "\n",
              "    <script>\n",
              "    document.getElementById('maze').innerHTML = `█████████████████████<br>█D█    ·········█···█<br>█ ███ █·███████·█·█·█<br>█   █ █···█···█···█·█<br>███ █████·█·█·█████·█<br>█ █ █   █···█·█    ·█<br>█ █ █ █ █ ███·█████·█<br>█ █ █ █ █   █·····█·█<br>█ █ █ █ █████████ █·█<br>█     █           █F█<br>█████████████████████`;\n",
              "    </script>\n",
              "    "
            ]
          },
          "metadata": {}
        },
        {
          "output_type": "display_data",
          "data": {
            "text/plain": [
              "<IPython.core.display.HTML object>"
            ],
            "text/html": [
              "\n",
              "    <script>\n",
              "    document.getElementById('maze').innerHTML = `█████████████████████<br>█D█    ·········█···█<br>█ ███ █·███████·█·█·█<br>█   █ █···█···█···█·█<br>███ █████·█·█·█████·█<br>█ █ █   █···█·█    ·█<br>█ █ █ █ █ ███·█████·█<br>█ █ █ █ █   █·····█·█<br>█ █ █ █ █████████·█·█<br>█     █           █F█<br>█████████████████████`;\n",
              "    </script>\n",
              "    "
            ]
          },
          "metadata": {}
        },
        {
          "output_type": "display_data",
          "data": {
            "text/plain": [
              "<IPython.core.display.HTML object>"
            ],
            "text/html": [
              "\n",
              "    <script>\n",
              "    document.getElementById('maze').innerHTML = `█████████████████████<br>█D█    ·········█···█<br>█ ███ █·███████·█·█·█<br>█   █ █···█···█···█·█<br>███ █████·█·█·█████·█<br>█ █ █   █···█·█    ·█<br>█ █ █ █ █ ███·█████·█<br>█ █ █ █ █   █·····█·█<br>█ █ █ █ █████████·█·█<br>█     █          ·█F█<br>█████████████████████`;\n",
              "    </script>\n",
              "    "
            ]
          },
          "metadata": {}
        },
        {
          "output_type": "display_data",
          "data": {
            "text/plain": [
              "<IPython.core.display.HTML object>"
            ],
            "text/html": [
              "\n",
              "    <script>\n",
              "    document.getElementById('maze').innerHTML = `█████████████████████<br>█D█    ·········█···█<br>█ ███ █·███████·█·█·█<br>█   █ █···█···█···█·█<br>███ █████·█·█·█████·█<br>█ █ █   █···█·█    ·█<br>█ █ █ █ █ ███·█████·█<br>█ █ █ █ █   █·····█·█<br>█ █ █ █ █████████·█·█<br>█     █         ··█F█<br>█████████████████████`;\n",
              "    </script>\n",
              "    "
            ]
          },
          "metadata": {}
        },
        {
          "output_type": "display_data",
          "data": {
            "text/plain": [
              "<IPython.core.display.HTML object>"
            ],
            "text/html": [
              "\n",
              "    <script>\n",
              "    document.getElementById('maze').innerHTML = `█████████████████████<br>█D█    ·········█···█<br>█ ███ █·███████·█·█·█<br>█   █ █···█···█···█·█<br>███ █████·█·█·█████·█<br>█ █ █   █···█·█    ·█<br>█ █ █ █ █ ███·█████·█<br>█ █ █ █ █   █·····█·█<br>█ █ █ █ █████████·█·█<br>█     █        ···█F█<br>█████████████████████`;\n",
              "    </script>\n",
              "    "
            ]
          },
          "metadata": {}
        },
        {
          "output_type": "display_data",
          "data": {
            "text/plain": [
              "<IPython.core.display.HTML object>"
            ],
            "text/html": [
              "\n",
              "    <script>\n",
              "    document.getElementById('maze').innerHTML = `█████████████████████<br>█D█    ·········█···█<br>█ ███ █·███████·█·█·█<br>█   █ █···█···█···█·█<br>███ █████·█·█·█████·█<br>█ █ █   █···█·█    ·█<br>█ █ █ █ █ ███·█████·█<br>█ █ █ █ █   █·····█·█<br>█ █ █ █ █████████·█·█<br>█     █       ····█F█<br>█████████████████████`;\n",
              "    </script>\n",
              "    "
            ]
          },
          "metadata": {}
        },
        {
          "output_type": "display_data",
          "data": {
            "text/plain": [
              "<IPython.core.display.HTML object>"
            ],
            "text/html": [
              "\n",
              "    <script>\n",
              "    document.getElementById('maze').innerHTML = `█████████████████████<br>█D█    ·········█···█<br>█ ███ █·███████·█·█·█<br>█   █ █···█···█···█·█<br>███ █████·█·█·█████·█<br>█ █ █   █···█·█    ·█<br>█ █ █ █ █ ███·█████·█<br>█ █ █ █ █   █·····█·█<br>█ █ █ █ █████████·█·█<br>█     █      ·····█F█<br>█████████████████████`;\n",
              "    </script>\n",
              "    "
            ]
          },
          "metadata": {}
        },
        {
          "output_type": "display_data",
          "data": {
            "text/plain": [
              "<IPython.core.display.HTML object>"
            ],
            "text/html": [
              "\n",
              "    <script>\n",
              "    document.getElementById('maze').innerHTML = `█████████████████████<br>█D█    ·········█···█<br>█ ███ █·███████·█·█·█<br>█   █ █···█···█···█·█<br>███ █████·█·█·█████·█<br>█ █ █   █···█·█    ·█<br>█ █ █ █ █ ███·█████·█<br>█ █ █ █ █   █·····█·█<br>█ █ █ █ █████████·█·█<br>█     █     ······█F█<br>█████████████████████`;\n",
              "    </script>\n",
              "    "
            ]
          },
          "metadata": {}
        },
        {
          "output_type": "display_data",
          "data": {
            "text/plain": [
              "<IPython.core.display.HTML object>"
            ],
            "text/html": [
              "\n",
              "    <script>\n",
              "    document.getElementById('maze').innerHTML = `█████████████████████<br>█D█    ·········█···█<br>█ ███ █·███████·█·█·█<br>█   █ █···█···█···█·█<br>███ █████·█·█·█████·█<br>█ █ █   █···█·█    ·█<br>█ █ █ █ █ ███·█████·█<br>█ █ █ █ █   █·····█·█<br>█ █ █ █ █████████·█·█<br>█     █    ·······█F█<br>█████████████████████`;\n",
              "    </script>\n",
              "    "
            ]
          },
          "metadata": {}
        },
        {
          "output_type": "display_data",
          "data": {
            "text/plain": [
              "<IPython.core.display.HTML object>"
            ],
            "text/html": [
              "\n",
              "    <script>\n",
              "    document.getElementById('maze').innerHTML = `█████████████████████<br>█D█    ·········█···█<br>█ ███ █·███████·█·█·█<br>█   █ █···█···█···█·█<br>███ █████·█·█·█████·█<br>█ █ █   █···█·█    ·█<br>█ █ █ █ █ ███·█████·█<br>█ █ █ █ █   █·····█·█<br>█ █ █ █ █████████·█·█<br>█     █   ········█F█<br>█████████████████████`;\n",
              "    </script>\n",
              "    "
            ]
          },
          "metadata": {}
        },
        {
          "output_type": "display_data",
          "data": {
            "text/plain": [
              "<IPython.core.display.HTML object>"
            ],
            "text/html": [
              "\n",
              "    <script>\n",
              "    document.getElementById('maze').innerHTML = `█████████████████████<br>█D█    ·········█···█<br>█ ███ █·███████·█·█·█<br>█   █ █···█···█···█·█<br>███ █████·█·█·█████·█<br>█ █ █   █···█·█    ·█<br>█ █ █ █ █ ███·█████·█<br>█ █ █ █ █   █·····█·█<br>█ █ █ █ █████████·█·█<br>█     █  ·········█F█<br>█████████████████████`;\n",
              "    </script>\n",
              "    "
            ]
          },
          "metadata": {}
        },
        {
          "output_type": "display_data",
          "data": {
            "text/plain": [
              "<IPython.core.display.HTML object>"
            ],
            "text/html": [
              "\n",
              "    <script>\n",
              "    document.getElementById('maze').innerHTML = `█████████████████████<br>█D█    ·········█···█<br>█ ███ █·███████·█·█·█<br>█   █ █···█···█···█·█<br>███ █████·█·█·█████·█<br>█ █ █   █···█·█    ·█<br>█ █ █ █ █ ███·█████·█<br>█ █ █ █ █   █·····█·█<br>█ █ █ █ █████████·█·█<br>█     █ ··········█F█<br>█████████████████████`;\n",
              "    </script>\n",
              "    "
            ]
          },
          "metadata": {}
        },
        {
          "output_type": "display_data",
          "data": {
            "text/plain": [
              "<IPython.core.display.HTML object>"
            ],
            "text/html": [
              "\n",
              "    <script>\n",
              "    document.getElementById('maze').innerHTML = `█████████████████████<br>█D█    ·········█···█<br>█ ███ █·███████·█·█·█<br>█   █ █···█···█···█·█<br>███ █████·█·█·█████·█<br>█ █ █   █···█·█    ·█<br>█ █ █ █ █ ███·█████·█<br>█ █ █ █ █   █·····█·█<br>█ █ █ █ █████████·█·█<br>█     █···········█F█<br>█████████████████████`;\n",
              "    </script>\n",
              "    "
            ]
          },
          "metadata": {}
        },
        {
          "output_type": "display_data",
          "data": {
            "text/plain": [
              "<IPython.core.display.HTML object>"
            ],
            "text/html": [
              "\n",
              "    <script>\n",
              "    document.getElementById('maze').innerHTML = `█████████████████████<br>█D█    ·········█···█<br>█ ███ █·███████·█·█·█<br>█   █ █···█···█···█·█<br>███ █████·█·█·█████·█<br>█ █ █   █···█·█    ·█<br>█ █ █ █ █ ███·█████·█<br>█ █ █ █ █   █·····█·█<br>█ █ █ █·█████████·█·█<br>█     █···········█F█<br>█████████████████████`;\n",
              "    </script>\n",
              "    "
            ]
          },
          "metadata": {}
        },
        {
          "output_type": "display_data",
          "data": {
            "text/plain": [
              "<IPython.core.display.HTML object>"
            ],
            "text/html": [
              "\n",
              "    <script>\n",
              "    document.getElementById('maze').innerHTML = `█████████████████████<br>█D█    ·········█···█<br>█ ███ █·███████·█·█·█<br>█   █ █···█···█···█·█<br>███ █████·█·█·█████·█<br>█ █ █   █···█·█    ·█<br>█ █ █ █ █ ███·█████·█<br>█ █ █ █·█   █·····█·█<br>█ █ █ █·█████████·█·█<br>█     █···········█F█<br>█████████████████████`;\n",
              "    </script>\n",
              "    "
            ]
          },
          "metadata": {}
        },
        {
          "output_type": "display_data",
          "data": {
            "text/plain": [
              "<IPython.core.display.HTML object>"
            ],
            "text/html": [
              "\n",
              "    <script>\n",
              "    document.getElementById('maze').innerHTML = `█████████████████████<br>█D█    ·········█···█<br>█ ███ █·███████·█·█·█<br>█   █ █···█···█···█·█<br>███ █████·█·█·█████·█<br>█ █ █   █···█·█    ·█<br>█ █ █ █·█ ███·█████·█<br>█ █ █ █·█   █·····█·█<br>█ █ █ █·█████████·█·█<br>█     █···········█F█<br>█████████████████████`;\n",
              "    </script>\n",
              "    "
            ]
          },
          "metadata": {}
        },
        {
          "output_type": "display_data",
          "data": {
            "text/plain": [
              "<IPython.core.display.HTML object>"
            ],
            "text/html": [
              "\n",
              "    <script>\n",
              "    document.getElementById('maze').innerHTML = `█████████████████████<br>█D█    ·········█···█<br>█ ███ █·███████·█·█·█<br>█   █ █···█···█···█·█<br>███ █████·█·█·█████·█<br>█ █ █  ·█···█·█    ·█<br>█ █ █ █·█ ███·█████·█<br>█ █ █ █·█   █·····█·█<br>█ █ █ █·█████████·█·█<br>█     █···········█F█<br>█████████████████████`;\n",
              "    </script>\n",
              "    "
            ]
          },
          "metadata": {}
        },
        {
          "output_type": "display_data",
          "data": {
            "text/plain": [
              "<IPython.core.display.HTML object>"
            ],
            "text/html": [
              "\n",
              "    <script>\n",
              "    document.getElementById('maze').innerHTML = `█████████████████████<br>█D█    ·········█···█<br>█ ███ █·███████·█·█·█<br>█   █ █···█···█···█·█<br>███ █████·█·█·█████·█<br>█ █ █ ··█···█·█    ·█<br>█ █ █ █·█ ███·█████·█<br>█ █ █ █·█   █·····█·█<br>█ █ █ █·█████████·█·█<br>█     █···········█F█<br>█████████████████████`;\n",
              "    </script>\n",
              "    "
            ]
          },
          "metadata": {}
        },
        {
          "output_type": "display_data",
          "data": {
            "text/plain": [
              "<IPython.core.display.HTML object>"
            ],
            "text/html": [
              "\n",
              "    <script>\n",
              "    document.getElementById('maze').innerHTML = `█████████████████████<br>█D█    ·········█···█<br>█ ███ █·███████·█·█·█<br>█   █ █···█···█···█·█<br>███ █████·█·█·█████·█<br>█ █ █···█···█·█    ·█<br>█ █ █ █·█ ███·█████·█<br>█ █ █ █·█   █·····█·█<br>█ █ █ █·█████████·█·█<br>█     █···········█F█<br>█████████████████████`;\n",
              "    </script>\n",
              "    "
            ]
          },
          "metadata": {}
        },
        {
          "output_type": "display_data",
          "data": {
            "text/plain": [
              "<IPython.core.display.HTML object>"
            ],
            "text/html": [
              "\n",
              "    <script>\n",
              "    document.getElementById('maze').innerHTML = `█████████████████████<br>█D█    ·········█···█<br>█ ███ █·███████·█·█·█<br>█   █ █···█···█···█·█<br>███ █████·█·█·█████·█<br>█ █ █···█···█·█    ·█<br>█ █ █·█·█ ███·█████·█<br>█ █ █ █·█   █·····█·█<br>█ █ █ █·█████████·█·█<br>█     █···········█F█<br>█████████████████████`;\n",
              "    </script>\n",
              "    "
            ]
          },
          "metadata": {}
        },
        {
          "output_type": "display_data",
          "data": {
            "text/plain": [
              "<IPython.core.display.HTML object>"
            ],
            "text/html": [
              "\n",
              "    <script>\n",
              "    document.getElementById('maze').innerHTML = `█████████████████████<br>█D█    ·········█···█<br>█ ███ █·███████·█·█·█<br>█   █ █···█···█···█·█<br>███ █████·█·█·█████·█<br>█ █ █···█···█·█    ·█<br>█ █ █·█·█ ███·█████·█<br>█ █ █·█·█   █·····█·█<br>█ █ █ █·█████████·█·█<br>█     █···········█F█<br>█████████████████████`;\n",
              "    </script>\n",
              "    "
            ]
          },
          "metadata": {}
        },
        {
          "output_type": "display_data",
          "data": {
            "text/plain": [
              "<IPython.core.display.HTML object>"
            ],
            "text/html": [
              "\n",
              "    <script>\n",
              "    document.getElementById('maze').innerHTML = `█████████████████████<br>█D█    ·········█···█<br>█ ███ █·███████·█·█·█<br>█   █ █···█···█···█·█<br>███ █████·█·█·█████·█<br>█ █ █···█···█·█    ·█<br>█ █ █·█·█ ███·█████·█<br>█ █ █·█·█   █·····█·█<br>█ █ █·█·█████████·█·█<br>█     █···········█F█<br>█████████████████████`;\n",
              "    </script>\n",
              "    "
            ]
          },
          "metadata": {}
        },
        {
          "output_type": "display_data",
          "data": {
            "text/plain": [
              "<IPython.core.display.HTML object>"
            ],
            "text/html": [
              "\n",
              "    <script>\n",
              "    document.getElementById('maze').innerHTML = `█████████████████████<br>█D█    ·········█···█<br>█ ███ █·███████·█·█·█<br>█   █ █···█···█···█·█<br>███ █████·█·█·█████·█<br>█ █ █···█···█·█    ·█<br>█ █ █·█·█ ███·█████·█<br>█ █ █·█·█   █·····█·█<br>█ █ █·█·█████████·█·█<br>█    ·█···········█F█<br>█████████████████████`;\n",
              "    </script>\n",
              "    "
            ]
          },
          "metadata": {}
        },
        {
          "output_type": "display_data",
          "data": {
            "text/plain": [
              "<IPython.core.display.HTML object>"
            ],
            "text/html": [
              "\n",
              "    <script>\n",
              "    document.getElementById('maze').innerHTML = `█████████████████████<br>█D█    ·········█···█<br>█ ███ █·███████·█·█·█<br>█   █ █···█···█···█·█<br>███ █████·█·█·█████·█<br>█ █ █···█···█·█    ·█<br>█ █ █·█·█ ███·█████·█<br>█ █ █·█·█   █·····█·█<br>█ █ █·█·█████████·█·█<br>█   ··█···········█F█<br>█████████████████████`;\n",
              "    </script>\n",
              "    "
            ]
          },
          "metadata": {}
        },
        {
          "output_type": "display_data",
          "data": {
            "text/plain": [
              "<IPython.core.display.HTML object>"
            ],
            "text/html": [
              "\n",
              "    <script>\n",
              "    document.getElementById('maze').innerHTML = `█████████████████████<br>█D█    ·········█···█<br>█ ███ █·███████·█·█·█<br>█   █ █···█···█···█·█<br>███ █████·█·█·█████·█<br>█ █ █···█···█·█    ·█<br>█ █ █·█·█ ███·█████·█<br>█ █ █·█·█   █·····█·█<br>█ █ █·█·█████████·█·█<br>█  ···█···········█F█<br>█████████████████████`;\n",
              "    </script>\n",
              "    "
            ]
          },
          "metadata": {}
        },
        {
          "output_type": "display_data",
          "data": {
            "text/plain": [
              "<IPython.core.display.HTML object>"
            ],
            "text/html": [
              "\n",
              "    <script>\n",
              "    document.getElementById('maze').innerHTML = `█████████████████████<br>█D█    ·········█···█<br>█ ███ █·███████·█·█·█<br>█   █ █···█···█···█·█<br>███ █████·█·█·█████·█<br>█ █ █···█···█·█    ·█<br>█ █ █·█·█ ███·█████·█<br>█ █ █·█·█   █·····█·█<br>█ █·█·█·█████████·█·█<br>█  ···█···········█F█<br>█████████████████████`;\n",
              "    </script>\n",
              "    "
            ]
          },
          "metadata": {}
        },
        {
          "output_type": "display_data",
          "data": {
            "text/plain": [
              "<IPython.core.display.HTML object>"
            ],
            "text/html": [
              "\n",
              "    <script>\n",
              "    document.getElementById('maze').innerHTML = `█████████████████████<br>█D█    ·········█···█<br>█ ███ █·███████·█·█·█<br>█   █ █···█···█···█·█<br>███ █████·█·█·█████·█<br>█ █ █···█···█·█    ·█<br>█ █ █·█·█ ███·█████·█<br>█ █·█·█·█   █·····█·█<br>█ █·█·█·█████████·█·█<br>█  ···█···········█F█<br>█████████████████████`;\n",
              "    </script>\n",
              "    "
            ]
          },
          "metadata": {}
        },
        {
          "output_type": "display_data",
          "data": {
            "text/plain": [
              "<IPython.core.display.HTML object>"
            ],
            "text/html": [
              "\n",
              "    <script>\n",
              "    document.getElementById('maze').innerHTML = `█████████████████████<br>█D█    ·········█···█<br>█ ███ █·███████·█·█·█<br>█   █ █···█···█···█·█<br>███ █████·█·█·█████·█<br>█ █ █···█···█·█    ·█<br>█ █·█·█·█ ███·█████·█<br>█ █·█·█·█   █·····█·█<br>█ █·█·█·█████████·█·█<br>█  ···█···········█F█<br>█████████████████████`;\n",
              "    </script>\n",
              "    "
            ]
          },
          "metadata": {}
        },
        {
          "output_type": "display_data",
          "data": {
            "text/plain": [
              "<IPython.core.display.HTML object>"
            ],
            "text/html": [
              "\n",
              "    <script>\n",
              "    document.getElementById('maze').innerHTML = `█████████████████████<br>█D█    ·········█···█<br>█ ███ █·███████·█·█·█<br>█   █ █···█···█···█·█<br>███ █████·█·█·█████·█<br>█ █·█···█···█·█    ·█<br>█ █·█·█·█ ███·█████·█<br>█ █·█·█·█   █·····█·█<br>█ █·█·█·█████████·█·█<br>█  ···█···········█F█<br>█████████████████████`;\n",
              "    </script>\n",
              "    "
            ]
          },
          "metadata": {}
        },
        {
          "output_type": "display_data",
          "data": {
            "text/plain": [
              "<IPython.core.display.HTML object>"
            ],
            "text/html": [
              "\n",
              "    <script>\n",
              "    document.getElementById('maze').innerHTML = `█████████████████████<br>█D█    ·········█···█<br>█ ███ █·███████·█·█·█<br>█   █ █···█···█···█·█<br>███·█████·█·█·█████·█<br>█ █·█···█···█·█    ·█<br>█ █·█·█·█ ███·█████·█<br>█ █·█·█·█   █·····█·█<br>█ █·█·█·█████████·█·█<br>█  ···█···········█F█<br>█████████████████████`;\n",
              "    </script>\n",
              "    "
            ]
          },
          "metadata": {}
        },
        {
          "output_type": "display_data",
          "data": {
            "text/plain": [
              "<IPython.core.display.HTML object>"
            ],
            "text/html": [
              "\n",
              "    <script>\n",
              "    document.getElementById('maze').innerHTML = `█████████████████████<br>█D█    ·········█···█<br>█ ███ █·███████·█·█·█<br>█  ·█ █···█···█···█·█<br>███·█████·█·█·█████·█<br>█ █·█···█···█·█    ·█<br>█ █·█·█·█ ███·█████·█<br>█ █·█·█·█   █·····█·█<br>█ █·█·█·█████████·█·█<br>█  ···█···········█F█<br>█████████████████████`;\n",
              "    </script>\n",
              "    "
            ]
          },
          "metadata": {}
        },
        {
          "output_type": "display_data",
          "data": {
            "text/plain": [
              "<IPython.core.display.HTML object>"
            ],
            "text/html": [
              "\n",
              "    <script>\n",
              "    document.getElementById('maze').innerHTML = `█████████████████████<br>█D█    ·········█···█<br>█ ███ █·███████·█·█·█<br>█ ··█ █···█···█···█·█<br>███·█████·█·█·█████·█<br>█ █·█···█···█·█    ·█<br>█ █·█·█·█ ███·█████·█<br>█ █·█·█·█   █·····█·█<br>█ █·█·█·█████████·█·█<br>█  ···█···········█F█<br>█████████████████████`;\n",
              "    </script>\n",
              "    "
            ]
          },
          "metadata": {}
        },
        {
          "output_type": "display_data",
          "data": {
            "text/plain": [
              "<IPython.core.display.HTML object>"
            ],
            "text/html": [
              "\n",
              "    <script>\n",
              "    document.getElementById('maze').innerHTML = `█████████████████████<br>█D█    ·········█···█<br>█ ███ █·███████·█·█·█<br>█···█ █···█···█···█·█<br>███·█████·█·█·█████·█<br>█ █·█···█···█·█    ·█<br>█ █·█·█·█ ███·█████·█<br>█ █·█·█·█   █·····█·█<br>█ █·█·█·█████████·█·█<br>█  ···█···········█F█<br>█████████████████████`;\n",
              "    </script>\n",
              "    "
            ]
          },
          "metadata": {}
        },
        {
          "output_type": "display_data",
          "data": {
            "text/plain": [
              "<IPython.core.display.HTML object>"
            ],
            "text/html": [
              "\n",
              "    <script>\n",
              "    document.getElementById('maze').innerHTML = `█████████████████████<br>█D█    ·········█···█<br>█·███ █·███████·█·█·█<br>█···█ █···█···█···█·█<br>███·█████·█·█·█████·█<br>█ █·█···█···█·█    ·█<br>█ █·█·█·█ ███·█████·█<br>█ █·█·█·█   █·····█·█<br>█ █·█·█·█████████·█·█<br>█  ···█···········█F█<br>█████████████████████`;\n",
              "    </script>\n",
              "    "
            ]
          },
          "metadata": {}
        },
        {
          "output_type": "display_data",
          "data": {
            "text/plain": [
              "<IPython.core.display.HTML object>"
            ],
            "text/html": [
              "\n",
              "    <script>\n",
              "    document.getElementById('maze').innerHTML = `█████████████████████<br>█·█    ·········█···█<br>█·███ █·███████·█·█·█<br>█···█ █···█···█···█·█<br>███·█████·█·█·█████·█<br>█ █·█···█···█·█    ·█<br>█ █·█·█·█ ███·█████·█<br>█ █·█·█·█   █·····█·█<br>█ █·█·█·█████████·█·█<br>█  ···█···········█F█<br>█████████████████████`;\n",
              "    </script>\n",
              "    "
            ]
          },
          "metadata": {}
        }
      ]
    },
    {
      "cell_type": "code",
      "source": [
        "maze_string = '<br>'.join(''.join(row) for row in labyrinthe)\n",
        "display(HTML(f'''\n",
        "    <div id=\"maze\" style=\"font-family: monospace; white-space: pre; line-height: 1.2;\">\n",
        "    {maze_string}\n",
        "    </div>\n",
        "    <script>\n",
        "    document.getElementById('maze').innerHTML = `{maze_string}`;\n",
        "    </script>\n",
        "    '''))\n",
        "\n",
        "def rechercheProfondeurDabord(labyrinthe):\n",
        "  # Liste des cases déjà visitées initialisé vide\n",
        "  cases_visitees = []\n",
        "  chemin = []\n",
        "\n",
        "  # Tant qu'on a des cases à visiter\n",
        "  while cases_a_visiter:\n",
        "    time.sleep(0.1)\n",
        "    # Retire la première case à visiter\n",
        "    # et l'ajoute dans les cases déjà visitées et le chemin trouvé\n",
        "    case_courante = cases_a_visiter.pop()\n",
        "    cases_visitees.insert(0, case_courante)\n",
        "    chemin.append(case_courante)\n",
        "\n",
        "    # Affiche la case courante dans le graph\n",
        "    y, x = case_courante[0], case_courante[1]\n",
        "    printLabyrinthe(labyrinthe.copy(), x, y)\n",
        "\n",
        "    # Si on trouve la sortie on sort !\n",
        "    if labyrinthe[y, x] == FIN:\n",
        "      return True, chemin\n",
        "\n",
        "    # Trouve des cases vide autour de la case courante\n",
        "    # et les ajoute à la liste de case à visiter\n",
        "    est_un_cul_de_sac = True\n",
        "\n",
        "    # NORD\n",
        "    # print(\"Y a t'il une case vide au nord ? \", labyrinthe[y-1, x] == VIDE)\n",
        "    if labyrinthe[y-1, x] in [VIDE, FIN] and not (y-1, x) in cases_visitees:\n",
        "      cases_a_visiter.append((y-1, x))\n",
        "      est_un_cul_de_sac = False\n",
        "\n",
        "    # SUD\n",
        "    # print(\"Y a t'il une case vide au sud ? \", labyrinthe[y+1, x] == VIDE)\n",
        "    if labyrinthe[y+1, x] in [VIDE, FIN] and not (y+1, x) in cases_visitees:\n",
        "      cases_a_visiter.append((y+1, x))\n",
        "      est_un_cul_de_sac = False\n",
        "\n",
        "    # EST\n",
        "    # print(\"Y a t'il une case vide à l'est ? \", labyrinthe[y, x+1] == VIDE)\n",
        "    if labyrinthe[y, x+1] in [VIDE, FIN] and not (y, x+1) in cases_visitees:\n",
        "      cases_a_visiter.append((y, x+1))\n",
        "      est_un_cul_de_sac = False\n",
        "\n",
        "    # OUEST\n",
        "    # print(\"Y a t'il une case vide à l'ouest ? \", labyrinthe[y, x-1] == VIDE)\n",
        "    if labyrinthe[y, x-1] in [VIDE, FIN] and not (y, x-1) in cases_visitees:\n",
        "      cases_a_visiter.append((y, x-1))\n",
        "      est_un_cul_de_sac = False\n",
        "\n",
        "    # Si on était dans un cul de sac, on enlève toutes cases jusqu'à la case à visiter\n",
        "    while est_un_cul_de_sac:\n",
        "      case_courante = chemin.pop()\n",
        "      y, x = case_courante[0], case_courante[1]\n",
        "\n",
        "      # NORD\n",
        "      if (y-1, x) in cases_a_visiter:\n",
        "        est_un_cul_de_sac = False\n",
        "      # SUD\n",
        "      if (y+1, x) in cases_a_visiter:\n",
        "        est_un_cul_de_sac = False\n",
        "      # EST\n",
        "      if (y, x+1) in cases_a_visiter:\n",
        "        est_un_cul_de_sac = False\n",
        "      # OUEST\n",
        "      if (y, x-1) in cases_a_visiter:\n",
        "        est_un_cul_de_sac = False\n",
        "\n",
        "      # la case courante fait partie du chemin\n",
        "      if not est_un_cul_de_sac:\n",
        "        case_courante = chemin.append(case_courante)\n",
        "\n",
        "    # Debuggage\n",
        "    # print('Marqueur ', case_courante)\n",
        "    # print(\"Cases visitées \", cases_visitees)\n",
        "    # print(\"Cases à visiter \", cases_a_visiter)\n",
        "    # print(\"# - - - - - - - - - - - - - - - - - - - #\")\n",
        "\n",
        "  return False, chemin\n",
        "\n",
        "\n",
        "# (y, x) pour numpy\n",
        "cases_a_visiter = [(1, 1)]\n",
        "status, chemin = rechercheProfondeurDabord(labyrinthe)\n",
        "\n",
        "# afficher le chemin trouvé?\n",
        "for (y, x) in chemin:\n",
        "  labyrinthe[y, x] = '·'\n",
        "  printLabyrinthe(labyrinthe.copy(), 0, 0)\n"
      ],
      "metadata": {
        "colab": {
          "base_uri": "https://localhost:8080/",
          "height": 202
        },
        "id": "ZVyXwDbHVqJG",
        "outputId": "2a04def6-51f8-4424-f76c-2bd08e1ffc9c"
      },
      "execution_count": null,
      "outputs": [
        {
          "output_type": "display_data",
          "data": {
            "text/plain": [
              "<IPython.core.display.HTML object>"
            ],
            "text/html": [
              "\n",
              "    <div id=\"maze\" style=\"font-family: monospace; white-space: pre; line-height: 1.2;\">\n",
              "    █████████████████████<br>█D█       █     █   █<br>█ █ ███████ █ ███ █ █<br>█ █     █   █     █ █<br>█ █████ █ █████████ █<br>█ █   █       █   █ █<br>█ █ █ ███████ █ █ █ █<br>█   █ █     █ █ █   █<br>█████ █ ███ ███ ███ █<br>█       █       █  F█<br>█████████████████████\n",
              "    </div>\n",
              "    <script>\n",
              "    document.getElementById('maze').innerHTML = `█████████████████████<br>█D█       █     █   █<br>█ █ ███████ █ ███ █ █<br>█ █     █   █     █ █<br>█ █████ █ █████████ █<br>█ █   █       █   █ █<br>█ █ █ ███████ █ █ █ █<br>█   █ █     █ █ █   █<br>█████ █ ███ ███ ███ █<br>█       █       █  F█<br>█████████████████████`;\n",
              "    </script>\n",
              "    "
            ]
          },
          "metadata": {}
        },
        {
          "output_type": "display_data",
          "data": {
            "text/plain": [
              "<IPython.core.display.HTML object>"
            ],
            "text/html": [
              "\n",
              "    <script>\n",
              "    document.getElementById('maze').innerHTML = `█████████████████████<br>█©█       █     █   █<br>█ █ ███████ █ ███ █ █<br>█ █     █   █     █ █<br>█ █████ █ █████████ █<br>█ █   █       █   █ █<br>█ █ █ ███████ █ █ █ █<br>█   █ █     █ █ █   █<br>█████ █ ███ ███ ███ █<br>█       █       █  F█<br>█████████████████████`;\n",
              "    </script>\n",
              "    "
            ]
          },
          "metadata": {}
        },
        {
          "output_type": "display_data",
          "data": {
            "text/plain": [
              "<IPython.core.display.HTML object>"
            ],
            "text/html": [
              "\n",
              "    <script>\n",
              "    document.getElementById('maze').innerHTML = `█████████████████████<br>█D█       █     █   █<br>█©█ ███████ █ ███ █ █<br>█ █     █   █     █ █<br>█ █████ █ █████████ █<br>█ █   █       █   █ █<br>█ █ █ ███████ █ █ █ █<br>█   █ █     █ █ █   █<br>█████ █ ███ ███ ███ █<br>█       █       █  F█<br>█████████████████████`;\n",
              "    </script>\n",
              "    "
            ]
          },
          "metadata": {}
        },
        {
          "output_type": "display_data",
          "data": {
            "text/plain": [
              "<IPython.core.display.HTML object>"
            ],
            "text/html": [
              "\n",
              "    <script>\n",
              "    document.getElementById('maze').innerHTML = `█████████████████████<br>█D█       █     █   █<br>█ █ ███████ █ ███ █ █<br>█©█     █   █     █ █<br>█ █████ █ █████████ █<br>█ █   █       █   █ █<br>█ █ █ ███████ █ █ █ █<br>█   █ █     █ █ █   █<br>█████ █ ███ ███ ███ █<br>█       █       █  F█<br>█████████████████████`;\n",
              "    </script>\n",
              "    "
            ]
          },
          "metadata": {}
        },
        {
          "output_type": "display_data",
          "data": {
            "text/plain": [
              "<IPython.core.display.HTML object>"
            ],
            "text/html": [
              "\n",
              "    <script>\n",
              "    document.getElementById('maze').innerHTML = `█████████████████████<br>█D█       █     █   █<br>█ █ ███████ █ ███ █ █<br>█ █     █   █     █ █<br>█©█████ █ █████████ █<br>█ █   █       █   █ █<br>█ █ █ ███████ █ █ █ █<br>█   █ █     █ █ █   █<br>█████ █ ███ ███ ███ █<br>█       █       █  F█<br>█████████████████████`;\n",
              "    </script>\n",
              "    "
            ]
          },
          "metadata": {}
        },
        {
          "output_type": "display_data",
          "data": {
            "text/plain": [
              "<IPython.core.display.HTML object>"
            ],
            "text/html": [
              "\n",
              "    <script>\n",
              "    document.getElementById('maze').innerHTML = `█████████████████████<br>█D█       █     █   █<br>█ █ ███████ █ ███ █ █<br>█ █     █   █     █ █<br>█ █████ █ █████████ █<br>█©█   █       █   █ █<br>█ █ █ ███████ █ █ █ █<br>█   █ █     █ █ █   █<br>█████ █ ███ ███ ███ █<br>█       █       █  F█<br>█████████████████████`;\n",
              "    </script>\n",
              "    "
            ]
          },
          "metadata": {}
        },
        {
          "output_type": "display_data",
          "data": {
            "text/plain": [
              "<IPython.core.display.HTML object>"
            ],
            "text/html": [
              "\n",
              "    <script>\n",
              "    document.getElementById('maze').innerHTML = `█████████████████████<br>█D█       █     █   █<br>█ █ ███████ █ ███ █ █<br>█ █     █   █     █ █<br>█ █████ █ █████████ █<br>█ █   █       █   █ █<br>█©█ █ ███████ █ █ █ █<br>█   █ █     █ █ █   █<br>█████ █ ███ ███ ███ █<br>█       █       █  F█<br>█████████████████████`;\n",
              "    </script>\n",
              "    "
            ]
          },
          "metadata": {}
        },
        {
          "output_type": "display_data",
          "data": {
            "text/plain": [
              "<IPython.core.display.HTML object>"
            ],
            "text/html": [
              "\n",
              "    <script>\n",
              "    document.getElementById('maze').innerHTML = `█████████████████████<br>█D█       █     █   █<br>█ █ ███████ █ ███ █ █<br>█ █     █   █     █ █<br>█ █████ █ █████████ █<br>█ █   █       █   █ █<br>█ █ █ ███████ █ █ █ █<br>█©  █ █     █ █ █   █<br>█████ █ ███ ███ ███ █<br>█       █       █  F█<br>█████████████████████`;\n",
              "    </script>\n",
              "    "
            ]
          },
          "metadata": {}
        },
        {
          "output_type": "display_data",
          "data": {
            "text/plain": [
              "<IPython.core.display.HTML object>"
            ],
            "text/html": [
              "\n",
              "    <script>\n",
              "    document.getElementById('maze').innerHTML = `█████████████████████<br>█D█       █     █   █<br>█ █ ███████ █ ███ █ █<br>█ █     █   █     █ █<br>█ █████ █ █████████ █<br>█ █   █       █   █ █<br>█ █ █ ███████ █ █ █ █<br>█ © █ █     █ █ █   █<br>█████ █ ███ ███ ███ █<br>█       █       █  F█<br>█████████████████████`;\n",
              "    </script>\n",
              "    "
            ]
          },
          "metadata": {}
        },
        {
          "output_type": "display_data",
          "data": {
            "text/plain": [
              "<IPython.core.display.HTML object>"
            ],
            "text/html": [
              "\n",
              "    <script>\n",
              "    document.getElementById('maze').innerHTML = `█████████████████████<br>█D█       █     █   █<br>█ █ ███████ █ ███ █ █<br>█ █     █   █     █ █<br>█ █████ █ █████████ █<br>█ █   █       █   █ █<br>█ █ █ ███████ █ █ █ █<br>█  ©█ █     █ █ █   █<br>█████ █ ███ ███ ███ █<br>█       █       █  F█<br>█████████████████████`;\n",
              "    </script>\n",
              "    "
            ]
          },
          "metadata": {}
        },
        {
          "output_type": "display_data",
          "data": {
            "text/plain": [
              "<IPython.core.display.HTML object>"
            ],
            "text/html": [
              "\n",
              "    <script>\n",
              "    document.getElementById('maze').innerHTML = `█████████████████████<br>█D█       █     █   █<br>█ █ ███████ █ ███ █ █<br>█ █     █   █     █ █<br>█ █████ █ █████████ █<br>█ █   █       █   █ █<br>█ █©█ ███████ █ █ █ █<br>█   █ █     █ █ █   █<br>█████ █ ███ ███ ███ █<br>█       █       █  F█<br>█████████████████████`;\n",
              "    </script>\n",
              "    "
            ]
          },
          "metadata": {}
        },
        {
          "output_type": "display_data",
          "data": {
            "text/plain": [
              "<IPython.core.display.HTML object>"
            ],
            "text/html": [
              "\n",
              "    <script>\n",
              "    document.getElementById('maze').innerHTML = `█████████████████████<br>█D█       █     █   █<br>█ █ ███████ █ ███ █ █<br>█ █     █   █     █ █<br>█ █████ █ █████████ █<br>█ █©  █       █   █ █<br>█ █ █ ███████ █ █ █ █<br>█   █ █     █ █ █   █<br>█████ █ ███ ███ ███ █<br>█       █       █  F█<br>█████████████████████`;\n",
              "    </script>\n",
              "    "
            ]
          },
          "metadata": {}
        },
        {
          "output_type": "display_data",
          "data": {
            "text/plain": [
              "<IPython.core.display.HTML object>"
            ],
            "text/html": [
              "\n",
              "    <script>\n",
              "    document.getElementById('maze').innerHTML = `█████████████████████<br>█D█       █     █   █<br>█ █ ███████ █ ███ █ █<br>█ █     █   █     █ █<br>█ █████ █ █████████ █<br>█ █ © █       █   █ █<br>█ █ █ ███████ █ █ █ █<br>█   █ █     █ █ █   █<br>█████ █ ███ ███ ███ █<br>█       █       █  F█<br>█████████████████████`;\n",
              "    </script>\n",
              "    "
            ]
          },
          "metadata": {}
        },
        {
          "output_type": "display_data",
          "data": {
            "text/plain": [
              "<IPython.core.display.HTML object>"
            ],
            "text/html": [
              "\n",
              "    <script>\n",
              "    document.getElementById('maze').innerHTML = `█████████████████████<br>█D█       █     █   █<br>█ █ ███████ █ ███ █ █<br>█ █     █   █     █ █<br>█ █████ █ █████████ █<br>█ █  ©█       █   █ █<br>█ █ █ ███████ █ █ █ █<br>█   █ █     █ █ █   █<br>█████ █ ███ ███ ███ █<br>█       █       █  F█<br>█████████████████████`;\n",
              "    </script>\n",
              "    "
            ]
          },
          "metadata": {}
        },
        {
          "output_type": "display_data",
          "data": {
            "text/plain": [
              "<IPython.core.display.HTML object>"
            ],
            "text/html": [
              "\n",
              "    <script>\n",
              "    document.getElementById('maze').innerHTML = `█████████████████████<br>█D█       █     █   █<br>█ █ ███████ █ ███ █ █<br>█ █     █   █     █ █<br>█ █████ █ █████████ █<br>█ █   █       █   █ █<br>█ █ █©███████ █ █ █ █<br>█   █ █     █ █ █   █<br>█████ █ ███ ███ ███ █<br>█       █       █  F█<br>█████████████████████`;\n",
              "    </script>\n",
              "    "
            ]
          },
          "metadata": {}
        },
        {
          "output_type": "display_data",
          "data": {
            "text/plain": [
              "<IPython.core.display.HTML object>"
            ],
            "text/html": [
              "\n",
              "    <script>\n",
              "    document.getElementById('maze').innerHTML = `█████████████████████<br>█D█       █     █   █<br>█ █ ███████ █ ███ █ █<br>█ █     █   █     █ █<br>█ █████ █ █████████ █<br>█ █   █       █   █ █<br>█ █ █ ███████ █ █ █ █<br>█   █©█     █ █ █   █<br>█████ █ ███ ███ ███ █<br>█       █       █  F█<br>█████████████████████`;\n",
              "    </script>\n",
              "    "
            ]
          },
          "metadata": {}
        },
        {
          "output_type": "display_data",
          "data": {
            "text/plain": [
              "<IPython.core.display.HTML object>"
            ],
            "text/html": [
              "\n",
              "    <script>\n",
              "    document.getElementById('maze').innerHTML = `█████████████████████<br>█D█       █     █   █<br>█ █ ███████ █ ███ █ █<br>█ █     █   █     █ █<br>█ █████ █ █████████ █<br>█ █   █       █   █ █<br>█ █ █ ███████ █ █ █ █<br>█   █ █     █ █ █   █<br>█████©█ ███ ███ ███ █<br>█       █       █  F█<br>█████████████████████`;\n",
              "    </script>\n",
              "    "
            ]
          },
          "metadata": {}
        },
        {
          "output_type": "display_data",
          "data": {
            "text/plain": [
              "<IPython.core.display.HTML object>"
            ],
            "text/html": [
              "\n",
              "    <script>\n",
              "    document.getElementById('maze').innerHTML = `█████████████████████<br>█D█       █     █   █<br>█ █ ███████ █ ███ █ █<br>█ █     █   █     █ █<br>█ █████ █ █████████ █<br>█ █   █       █   █ █<br>█ █ █ ███████ █ █ █ █<br>█   █ █     █ █ █   █<br>█████ █ ███ ███ ███ █<br>█    ©  █       █  F█<br>█████████████████████`;\n",
              "    </script>\n",
              "    "
            ]
          },
          "metadata": {}
        },
        {
          "output_type": "display_data",
          "data": {
            "text/plain": [
              "<IPython.core.display.HTML object>"
            ],
            "text/html": [
              "\n",
              "    <script>\n",
              "    document.getElementById('maze').innerHTML = `█████████████████████<br>█D█       █     █   █<br>█ █ ███████ █ ███ █ █<br>█ █     █   █     █ █<br>█ █████ █ █████████ █<br>█ █   █       █   █ █<br>█ █ █ ███████ █ █ █ █<br>█   █ █     █ █ █   █<br>█████ █ ███ ███ ███ █<br>█   ©   █       █  F█<br>█████████████████████`;\n",
              "    </script>\n",
              "    "
            ]
          },
          "metadata": {}
        },
        {
          "output_type": "display_data",
          "data": {
            "text/plain": [
              "<IPython.core.display.HTML object>"
            ],
            "text/html": [
              "\n",
              "    <script>\n",
              "    document.getElementById('maze').innerHTML = `█████████████████████<br>█D█       █     █   █<br>█ █ ███████ █ ███ █ █<br>█ █     █   █     █ █<br>█ █████ █ █████████ █<br>█ █   █       █   █ █<br>█ █ █ ███████ █ █ █ █<br>█   █ █     █ █ █   █<br>█████ █ ███ ███ ███ █<br>█  ©    █       █  F█<br>█████████████████████`;\n",
              "    </script>\n",
              "    "
            ]
          },
          "metadata": {}
        },
        {
          "output_type": "display_data",
          "data": {
            "text/plain": [
              "<IPython.core.display.HTML object>"
            ],
            "text/html": [
              "\n",
              "    <script>\n",
              "    document.getElementById('maze').innerHTML = `█████████████████████<br>█D█       █     █   █<br>█ █ ███████ █ ███ █ █<br>█ █     █   █     █ █<br>█ █████ █ █████████ █<br>█ █   █       █   █ █<br>█ █ █ ███████ █ █ █ █<br>█   █ █     █ █ █   █<br>█████ █ ███ ███ ███ █<br>█ ©     █       █  F█<br>█████████████████████`;\n",
              "    </script>\n",
              "    "
            ]
          },
          "metadata": {}
        },
        {
          "output_type": "display_data",
          "data": {
            "text/plain": [
              "<IPython.core.display.HTML object>"
            ],
            "text/html": [
              "\n",
              "    <script>\n",
              "    document.getElementById('maze').innerHTML = `█████████████████████<br>█D█       █     █   █<br>█ █ ███████ █ ███ █ █<br>█ █     █   █     █ █<br>█ █████ █ █████████ █<br>█ █   █       █   █ █<br>█ █ █ ███████ █ █ █ █<br>█   █ █     █ █ █   █<br>█████ █ ███ ███ ███ █<br>█©      █       █  F█<br>█████████████████████`;\n",
              "    </script>\n",
              "    "
            ]
          },
          "metadata": {}
        },
        {
          "output_type": "display_data",
          "data": {
            "text/plain": [
              "<IPython.core.display.HTML object>"
            ],
            "text/html": [
              "\n",
              "    <script>\n",
              "    document.getElementById('maze').innerHTML = `█████████████████████<br>█D█       █     █   █<br>█ █ ███████ █ ███ █ █<br>█ █     █   █     █ █<br>█ █████ █ █████████ █<br>█ █   █       █   █ █<br>█ █ █ ███████ █ █ █ █<br>█   █ █     █ █ █   █<br>█████ █ ███ ███ ███ █<br>█     © █       █  F█<br>█████████████████████`;\n",
              "    </script>\n",
              "    "
            ]
          },
          "metadata": {}
        },
        {
          "output_type": "display_data",
          "data": {
            "text/plain": [
              "<IPython.core.display.HTML object>"
            ],
            "text/html": [
              "\n",
              "    <script>\n",
              "    document.getElementById('maze').innerHTML = `█████████████████████<br>█D█       █     █   █<br>█ █ ███████ █ ███ █ █<br>█ █     █   █     █ █<br>█ █████ █ █████████ █<br>█ █   █       █   █ █<br>█ █ █ ███████ █ █ █ █<br>█   █ █     █ █ █   █<br>█████ █ ███ ███ ███ █<br>█      ©█       █  F█<br>█████████████████████`;\n",
              "    </script>\n",
              "    "
            ]
          },
          "metadata": {}
        },
        {
          "output_type": "display_data",
          "data": {
            "text/plain": [
              "<IPython.core.display.HTML object>"
            ],
            "text/html": [
              "\n",
              "    <script>\n",
              "    document.getElementById('maze').innerHTML = `█████████████████████<br>█D█       █     █   █<br>█ █ ███████ █ ███ █ █<br>█ █     █   █     █ █<br>█ █████ █ █████████ █<br>█ █   █       █   █ █<br>█ █ █ ███████ █ █ █ █<br>█   █ █     █ █ █   █<br>█████ █©███ ███ ███ █<br>█       █       █  F█<br>█████████████████████`;\n",
              "    </script>\n",
              "    "
            ]
          },
          "metadata": {}
        },
        {
          "output_type": "display_data",
          "data": {
            "text/plain": [
              "<IPython.core.display.HTML object>"
            ],
            "text/html": [
              "\n",
              "    <script>\n",
              "    document.getElementById('maze').innerHTML = `█████████████████████<br>█D█       █     █   █<br>█ █ ███████ █ ███ █ █<br>█ █     █   █     █ █<br>█ █████ █ █████████ █<br>█ █   █       █   █ █<br>█ █ █ ███████ █ █ █ █<br>█   █ █©    █ █ █   █<br>█████ █ ███ ███ ███ █<br>█       █       █  F█<br>█████████████████████`;\n",
              "    </script>\n",
              "    "
            ]
          },
          "metadata": {}
        },
        {
          "output_type": "display_data",
          "data": {
            "text/plain": [
              "<IPython.core.display.HTML object>"
            ],
            "text/html": [
              "\n",
              "    <script>\n",
              "    document.getElementById('maze').innerHTML = `█████████████████████<br>█D█       █     █   █<br>█ █ ███████ █ ███ █ █<br>█ █     █   █     █ █<br>█ █████ █ █████████ █<br>█ █   █       █   █ █<br>█ █ █ ███████ █ █ █ █<br>█   █ █ ©   █ █ █   █<br>█████ █ ███ ███ ███ █<br>█       █       █  F█<br>█████████████████████`;\n",
              "    </script>\n",
              "    "
            ]
          },
          "metadata": {}
        },
        {
          "output_type": "display_data",
          "data": {
            "text/plain": [
              "<IPython.core.display.HTML object>"
            ],
            "text/html": [
              "\n",
              "    <script>\n",
              "    document.getElementById('maze').innerHTML = `█████████████████████<br>█D█       █     █   █<br>█ █ ███████ █ ███ █ █<br>█ █     █   █     █ █<br>█ █████ █ █████████ █<br>█ █   █       █   █ █<br>█ █ █ ███████ █ █ █ █<br>█   █ █  ©  █ █ █   █<br>█████ █ ███ ███ ███ █<br>█       █       █  F█<br>█████████████████████`;\n",
              "    </script>\n",
              "    "
            ]
          },
          "metadata": {}
        },
        {
          "output_type": "display_data",
          "data": {
            "text/plain": [
              "<IPython.core.display.HTML object>"
            ],
            "text/html": [
              "\n",
              "    <script>\n",
              "    document.getElementById('maze').innerHTML = `█████████████████████<br>█D█       █     █   █<br>█ █ ███████ █ ███ █ █<br>█ █     █   █     █ █<br>█ █████ █ █████████ █<br>█ █   █       █   █ █<br>█ █ █ ███████ █ █ █ █<br>█   █ █   © █ █ █   █<br>█████ █ ███ ███ ███ █<br>█       █       █  F█<br>█████████████████████`;\n",
              "    </script>\n",
              "    "
            ]
          },
          "metadata": {}
        },
        {
          "output_type": "display_data",
          "data": {
            "text/plain": [
              "<IPython.core.display.HTML object>"
            ],
            "text/html": [
              "\n",
              "    <script>\n",
              "    document.getElementById('maze').innerHTML = `█████████████████████<br>█D█       █     █   █<br>█ █ ███████ █ ███ █ █<br>█ █     █   █     █ █<br>█ █████ █ █████████ █<br>█ █   █       █   █ █<br>█ █ █ ███████ █ █ █ █<br>█   █ █    ©█ █ █   █<br>█████ █ ███ ███ ███ █<br>█       █       █  F█<br>█████████████████████`;\n",
              "    </script>\n",
              "    "
            ]
          },
          "metadata": {}
        },
        {
          "output_type": "display_data",
          "data": {
            "text/plain": [
              "<IPython.core.display.HTML object>"
            ],
            "text/html": [
              "\n",
              "    <script>\n",
              "    document.getElementById('maze').innerHTML = `█████████████████████<br>█D█       █     █   █<br>█ █ ███████ █ ███ █ █<br>█ █     █   █     █ █<br>█ █████ █ █████████ █<br>█ █   █       █   █ █<br>█ █ █ ███████ █ █ █ █<br>█   █ █     █ █ █   █<br>█████ █ ███©███ ███ █<br>█       █       █  F█<br>█████████████████████`;\n",
              "    </script>\n",
              "    "
            ]
          },
          "metadata": {}
        },
        {
          "output_type": "display_data",
          "data": {
            "text/plain": [
              "<IPython.core.display.HTML object>"
            ],
            "text/html": [
              "\n",
              "    <script>\n",
              "    document.getElementById('maze').innerHTML = `█████████████████████<br>█D█       █     █   █<br>█ █ ███████ █ ███ █ █<br>█ █     █   █     █ █<br>█ █████ █ █████████ █<br>█ █   █       █   █ █<br>█ █ █ ███████ █ █ █ █<br>█   █ █     █ █ █   █<br>█████ █ ███ ███ ███ █<br>█       █  ©    █  F█<br>█████████████████████`;\n",
              "    </script>\n",
              "    "
            ]
          },
          "metadata": {}
        },
        {
          "output_type": "display_data",
          "data": {
            "text/plain": [
              "<IPython.core.display.HTML object>"
            ],
            "text/html": [
              "\n",
              "    <script>\n",
              "    document.getElementById('maze').innerHTML = `█████████████████████<br>█D█       █     █   █<br>█ █ ███████ █ ███ █ █<br>█ █     █   █     █ █<br>█ █████ █ █████████ █<br>█ █   █       █   █ █<br>█ █ █ ███████ █ █ █ █<br>█   █ █     █ █ █   █<br>█████ █ ███ ███ ███ █<br>█       █ ©     █  F█<br>█████████████████████`;\n",
              "    </script>\n",
              "    "
            ]
          },
          "metadata": {}
        },
        {
          "output_type": "display_data",
          "data": {
            "text/plain": [
              "<IPython.core.display.HTML object>"
            ],
            "text/html": [
              "\n",
              "    <script>\n",
              "    document.getElementById('maze').innerHTML = `█████████████████████<br>█D█       █     █   █<br>█ █ ███████ █ ███ █ █<br>█ █     █   █     █ █<br>█ █████ █ █████████ █<br>█ █   █       █   █ █<br>█ █ █ ███████ █ █ █ █<br>█   █ █     █ █ █   █<br>█████ █ ███ ███ ███ █<br>█       █©      █  F█<br>█████████████████████`;\n",
              "    </script>\n",
              "    "
            ]
          },
          "metadata": {}
        },
        {
          "output_type": "display_data",
          "data": {
            "text/plain": [
              "<IPython.core.display.HTML object>"
            ],
            "text/html": [
              "\n",
              "    <script>\n",
              "    document.getElementById('maze').innerHTML = `█████████████████████<br>█D█       █     █   █<br>█ █ ███████ █ ███ █ █<br>█ █     █   █     █ █<br>█ █████ █ █████████ █<br>█ █   █       █   █ █<br>█ █ █ ███████ █ █ █ █<br>█   █ █     █ █ █   █<br>█████ █ ███ ███ ███ █<br>█       █   ©   █  F█<br>█████████████████████`;\n",
              "    </script>\n",
              "    "
            ]
          },
          "metadata": {}
        },
        {
          "output_type": "display_data",
          "data": {
            "text/plain": [
              "<IPython.core.display.HTML object>"
            ],
            "text/html": [
              "\n",
              "    <script>\n",
              "    document.getElementById('maze').innerHTML = `█████████████████████<br>█D█       █     █   █<br>█ █ ███████ █ ███ █ █<br>█ █     █   █     █ █<br>█ █████ █ █████████ █<br>█ █   █       █   █ █<br>█ █ █ ███████ █ █ █ █<br>█   █ █     █ █ █   █<br>█████ █ ███ ███ ███ █<br>█       █    ©  █  F█<br>█████████████████████`;\n",
              "    </script>\n",
              "    "
            ]
          },
          "metadata": {}
        },
        {
          "output_type": "display_data",
          "data": {
            "text/plain": [
              "<IPython.core.display.HTML object>"
            ],
            "text/html": [
              "\n",
              "    <script>\n",
              "    document.getElementById('maze').innerHTML = `█████████████████████<br>█D█       █     █   █<br>█ █ ███████ █ ███ █ █<br>█ █     █   █     █ █<br>█ █████ █ █████████ █<br>█ █   █       █   █ █<br>█ █ █ ███████ █ █ █ █<br>█   █ █     █ █ █   █<br>█████ █ ███ ███ ███ █<br>█       █     © █  F█<br>█████████████████████`;\n",
              "    </script>\n",
              "    "
            ]
          },
          "metadata": {}
        },
        {
          "output_type": "display_data",
          "data": {
            "text/plain": [
              "<IPython.core.display.HTML object>"
            ],
            "text/html": [
              "\n",
              "    <script>\n",
              "    document.getElementById('maze').innerHTML = `█████████████████████<br>█D█       █     █   █<br>█ █ ███████ █ ███ █ █<br>█ █     █   █     █ █<br>█ █████ █ █████████ █<br>█ █   █       █   █ █<br>█ █ █ ███████ █ █ █ █<br>█   █ █     █ █ █   █<br>█████ █ ███ ███ ███ █<br>█       █      ©█  F█<br>█████████████████████`;\n",
              "    </script>\n",
              "    "
            ]
          },
          "metadata": {}
        },
        {
          "output_type": "display_data",
          "data": {
            "text/plain": [
              "<IPython.core.display.HTML object>"
            ],
            "text/html": [
              "\n",
              "    <script>\n",
              "    document.getElementById('maze').innerHTML = `█████████████████████<br>█D█       █     █   █<br>█ █ ███████ █ ███ █ █<br>█ █     █   █     █ █<br>█ █████ █ █████████ █<br>█ █   █       █   █ █<br>█ █ █ ███████ █ █ █ █<br>█   █ █     █ █ █   █<br>█████ █ ███ ███©███ █<br>█       █       █  F█<br>█████████████████████`;\n",
              "    </script>\n",
              "    "
            ]
          },
          "metadata": {}
        },
        {
          "output_type": "display_data",
          "data": {
            "text/plain": [
              "<IPython.core.display.HTML object>"
            ],
            "text/html": [
              "\n",
              "    <script>\n",
              "    document.getElementById('maze').innerHTML = `█████████████████████<br>█D█       █     █   █<br>█ █ ███████ █ ███ █ █<br>█ █     █   █     █ █<br>█ █████ █ █████████ █<br>█ █   █       █   █ █<br>█ █ █ ███████ █ █ █ █<br>█   █ █     █ █©█   █<br>█████ █ ███ ███ ███ █<br>█       █       █  F█<br>█████████████████████`;\n",
              "    </script>\n",
              "    "
            ]
          },
          "metadata": {}
        },
        {
          "output_type": "display_data",
          "data": {
            "text/plain": [
              "<IPython.core.display.HTML object>"
            ],
            "text/html": [
              "\n",
              "    <script>\n",
              "    document.getElementById('maze').innerHTML = `█████████████████████<br>█D█       █     █   █<br>█ █ ███████ █ ███ █ █<br>█ █     █   █     █ █<br>█ █████ █ █████████ █<br>█ █   █       █   █ █<br>█ █ █ ███████ █©█ █ █<br>█   █ █     █ █ █   █<br>█████ █ ███ ███ ███ █<br>█       █       █  F█<br>█████████████████████`;\n",
              "    </script>\n",
              "    "
            ]
          },
          "metadata": {}
        },
        {
          "output_type": "display_data",
          "data": {
            "text/plain": [
              "<IPython.core.display.HTML object>"
            ],
            "text/html": [
              "\n",
              "    <script>\n",
              "    document.getElementById('maze').innerHTML = `█████████████████████<br>█D█       █     █   █<br>█ █ ███████ █ ███ █ █<br>█ █     █   █     █ █<br>█ █████ █ █████████ █<br>█ █   █       █©  █ █<br>█ █ █ ███████ █ █ █ █<br>█   █ █     █ █ █   █<br>█████ █ ███ ███ ███ █<br>█       █       █  F█<br>█████████████████████`;\n",
              "    </script>\n",
              "    "
            ]
          },
          "metadata": {}
        },
        {
          "output_type": "display_data",
          "data": {
            "text/plain": [
              "<IPython.core.display.HTML object>"
            ],
            "text/html": [
              "\n",
              "    <script>\n",
              "    document.getElementById('maze').innerHTML = `█████████████████████<br>█D█       █     █   █<br>█ █ ███████ █ ███ █ █<br>█ █     █   █     █ █<br>█ █████ █ █████████ █<br>█ █   █       █ © █ █<br>█ █ █ ███████ █ █ █ █<br>█   █ █     █ █ █   █<br>█████ █ ███ ███ ███ █<br>█       █       █  F█<br>█████████████████████`;\n",
              "    </script>\n",
              "    "
            ]
          },
          "metadata": {}
        },
        {
          "output_type": "display_data",
          "data": {
            "text/plain": [
              "<IPython.core.display.HTML object>"
            ],
            "text/html": [
              "\n",
              "    <script>\n",
              "    document.getElementById('maze').innerHTML = `█████████████████████<br>█D█       █     █   █<br>█ █ ███████ █ ███ █ █<br>█ █     █   █     █ █<br>█ █████ █ █████████ █<br>█ █   █       █  ©█ █<br>█ █ █ ███████ █ █ █ █<br>█   █ █     █ █ █   █<br>█████ █ ███ ███ ███ █<br>█       █       █  F█<br>█████████████████████`;\n",
              "    </script>\n",
              "    "
            ]
          },
          "metadata": {}
        },
        {
          "output_type": "display_data",
          "data": {
            "text/plain": [
              "<IPython.core.display.HTML object>"
            ],
            "text/html": [
              "\n",
              "    <script>\n",
              "    document.getElementById('maze').innerHTML = `█████████████████████<br>█D█       █     █   █<br>█ █ ███████ █ ███ █ █<br>█ █     █   █     █ █<br>█ █████ █ █████████ █<br>█ █   █       █   █ █<br>█ █ █ ███████ █ █©█ █<br>█   █ █     █ █ █   █<br>█████ █ ███ ███ ███ █<br>█       █       █  F█<br>█████████████████████`;\n",
              "    </script>\n",
              "    "
            ]
          },
          "metadata": {}
        },
        {
          "output_type": "display_data",
          "data": {
            "text/plain": [
              "<IPython.core.display.HTML object>"
            ],
            "text/html": [
              "\n",
              "    <script>\n",
              "    document.getElementById('maze').innerHTML = `█████████████████████<br>█D█       █     █   █<br>█ █ ███████ █ ███ █ █<br>█ █     █   █     █ █<br>█ █████ █ █████████ █<br>█ █   █       █   █ █<br>█ █ █ ███████ █ █ █ █<br>█   █ █     █ █ █©  █<br>█████ █ ███ ███ ███ █<br>█       █       █  F█<br>█████████████████████`;\n",
              "    </script>\n",
              "    "
            ]
          },
          "metadata": {}
        },
        {
          "output_type": "display_data",
          "data": {
            "text/plain": [
              "<IPython.core.display.HTML object>"
            ],
            "text/html": [
              "\n",
              "    <script>\n",
              "    document.getElementById('maze').innerHTML = `█████████████████████<br>█D█       █     █   █<br>█ █ ███████ █ ███ █ █<br>█ █     █   █     █ █<br>█ █████ █ █████████ █<br>█ █   █       █   █ █<br>█ █ █ ███████ █ █ █ █<br>█   █ █     █ █ █ © █<br>█████ █ ███ ███ ███ █<br>█       █       █  F█<br>█████████████████████`;\n",
              "    </script>\n",
              "    "
            ]
          },
          "metadata": {}
        },
        {
          "output_type": "display_data",
          "data": {
            "text/plain": [
              "<IPython.core.display.HTML object>"
            ],
            "text/html": [
              "\n",
              "    <script>\n",
              "    document.getElementById('maze').innerHTML = `█████████████████████<br>█D█       █     █   █<br>█ █ ███████ █ ███ █ █<br>█ █     █   █     █ █<br>█ █████ █ █████████ █<br>█ █   █       █   █ █<br>█ █ █ ███████ █ █ █ █<br>█   █ █     █ █ █  ©█<br>█████ █ ███ ███ ███ █<br>█       █       █  F█<br>█████████████████████`;\n",
              "    </script>\n",
              "    "
            ]
          },
          "metadata": {}
        },
        {
          "output_type": "display_data",
          "data": {
            "text/plain": [
              "<IPython.core.display.HTML object>"
            ],
            "text/html": [
              "\n",
              "    <script>\n",
              "    document.getElementById('maze').innerHTML = `█████████████████████<br>█D█       █     █   █<br>█ █ ███████ █ ███ █ █<br>█ █     █   █     █ █<br>█ █████ █ █████████ █<br>█ █   █       █   █ █<br>█ █ █ ███████ █ █ █ █<br>█   █ █     █ █ █   █<br>█████ █ ███ ███ ███©█<br>█       █       █  F█<br>█████████████████████`;\n",
              "    </script>\n",
              "    "
            ]
          },
          "metadata": {}
        },
        {
          "output_type": "display_data",
          "data": {
            "text/plain": [
              "<IPython.core.display.HTML object>"
            ],
            "text/html": [
              "\n",
              "    <script>\n",
              "    document.getElementById('maze').innerHTML = `█████████████████████<br>█D█       █     █   █<br>█ █ ███████ █ ███ █ █<br>█ █     █   █     █ █<br>█ █████ █ █████████ █<br>█ █   █       █   █ █<br>█ █ █ ███████ █ █ █ █<br>█   █ █     █ █ █   █<br>█████ █ ███ ███ ███ █<br>█       █       █  ©█<br>█████████████████████`;\n",
              "    </script>\n",
              "    "
            ]
          },
          "metadata": {}
        },
        {
          "output_type": "display_data",
          "data": {
            "text/plain": [
              "<IPython.core.display.HTML object>"
            ],
            "text/html": [
              "\n",
              "    <script>\n",
              "    document.getElementById('maze').innerHTML = `█████████████████████<br>█·█       █     █   █<br>█ █ ███████ █ ███ █ █<br>█ █     █   █     █ █<br>█ █████ █ █████████ █<br>█ █   █       █   █ █<br>█ █ █ ███████ █ █ █ █<br>█   █ █     █ █ █   █<br>█████ █ ███ ███ ███ █<br>█       █       █  F█<br>█████████████████████`;\n",
              "    </script>\n",
              "    "
            ]
          },
          "metadata": {}
        },
        {
          "output_type": "display_data",
          "data": {
            "text/plain": [
              "<IPython.core.display.HTML object>"
            ],
            "text/html": [
              "\n",
              "    <script>\n",
              "    document.getElementById('maze').innerHTML = `█████████████████████<br>█·█       █     █   █<br>█·█ ███████ █ ███ █ █<br>█ █     █   █     █ █<br>█ █████ █ █████████ █<br>█ █   █       █   █ █<br>█ █ █ ███████ █ █ █ █<br>█   █ █     █ █ █   █<br>█████ █ ███ ███ ███ █<br>█       █       █  F█<br>█████████████████████`;\n",
              "    </script>\n",
              "    "
            ]
          },
          "metadata": {}
        },
        {
          "output_type": "display_data",
          "data": {
            "text/plain": [
              "<IPython.core.display.HTML object>"
            ],
            "text/html": [
              "\n",
              "    <script>\n",
              "    document.getElementById('maze').innerHTML = `█████████████████████<br>█·█       █     █   █<br>█·█ ███████ █ ███ █ █<br>█·█     █   █     █ █<br>█ █████ █ █████████ █<br>█ █   █       █   █ █<br>█ █ █ ███████ █ █ █ █<br>█   █ █     █ █ █   █<br>█████ █ ███ ███ ███ █<br>█       █       █  F█<br>█████████████████████`;\n",
              "    </script>\n",
              "    "
            ]
          },
          "metadata": {}
        },
        {
          "output_type": "display_data",
          "data": {
            "text/plain": [
              "<IPython.core.display.HTML object>"
            ],
            "text/html": [
              "\n",
              "    <script>\n",
              "    document.getElementById('maze').innerHTML = `█████████████████████<br>█·█       █     █   █<br>█·█ ███████ █ ███ █ █<br>█·█     █   █     █ █<br>█·█████ █ █████████ █<br>█ █   █       █   █ █<br>█ █ █ ███████ █ █ █ █<br>█   █ █     █ █ █   █<br>█████ █ ███ ███ ███ █<br>█       █       █  F█<br>█████████████████████`;\n",
              "    </script>\n",
              "    "
            ]
          },
          "metadata": {}
        },
        {
          "output_type": "display_data",
          "data": {
            "text/plain": [
              "<IPython.core.display.HTML object>"
            ],
            "text/html": [
              "\n",
              "    <script>\n",
              "    document.getElementById('maze').innerHTML = `█████████████████████<br>█·█       █     █   █<br>█·█ ███████ █ ███ █ █<br>█·█     █   █     █ █<br>█·█████ █ █████████ █<br>█·█   █       █   █ █<br>█ █ █ ███████ █ █ █ █<br>█   █ █     █ █ █   █<br>█████ █ ███ ███ ███ █<br>█       █       █  F█<br>█████████████████████`;\n",
              "    </script>\n",
              "    "
            ]
          },
          "metadata": {}
        },
        {
          "output_type": "display_data",
          "data": {
            "text/plain": [
              "<IPython.core.display.HTML object>"
            ],
            "text/html": [
              "\n",
              "    <script>\n",
              "    document.getElementById('maze').innerHTML = `█████████████████████<br>█·█       █     █   █<br>█·█ ███████ █ ███ █ █<br>█·█     █   █     █ █<br>█·█████ █ █████████ █<br>█·█   █       █   █ █<br>█·█ █ ███████ █ █ █ █<br>█   █ █     █ █ █   █<br>█████ █ ███ ███ ███ █<br>█       █       █  F█<br>█████████████████████`;\n",
              "    </script>\n",
              "    "
            ]
          },
          "metadata": {}
        },
        {
          "output_type": "display_data",
          "data": {
            "text/plain": [
              "<IPython.core.display.HTML object>"
            ],
            "text/html": [
              "\n",
              "    <script>\n",
              "    document.getElementById('maze').innerHTML = `█████████████████████<br>█·█       █     █   █<br>█·█ ███████ █ ███ █ █<br>█·█     █   █     █ █<br>█·█████ █ █████████ █<br>█·█   █       █   █ █<br>█·█ █ ███████ █ █ █ █<br>█·  █ █     █ █ █   █<br>█████ █ ███ ███ ███ █<br>█       █       █  F█<br>█████████████████████`;\n",
              "    </script>\n",
              "    "
            ]
          },
          "metadata": {}
        },
        {
          "output_type": "display_data",
          "data": {
            "text/plain": [
              "<IPython.core.display.HTML object>"
            ],
            "text/html": [
              "\n",
              "    <script>\n",
              "    document.getElementById('maze').innerHTML = `█████████████████████<br>█·█       █     █   █<br>█·█ ███████ █ ███ █ █<br>█·█     █   █     █ █<br>█·█████ █ █████████ █<br>█·█   █       █   █ █<br>█·█ █ ███████ █ █ █ █<br>█·· █ █     █ █ █   █<br>█████ █ ███ ███ ███ █<br>█       █       █  F█<br>█████████████████████`;\n",
              "    </script>\n",
              "    "
            ]
          },
          "metadata": {}
        },
        {
          "output_type": "display_data",
          "data": {
            "text/plain": [
              "<IPython.core.display.HTML object>"
            ],
            "text/html": [
              "\n",
              "    <script>\n",
              "    document.getElementById('maze').innerHTML = `█████████████████████<br>█·█       █     █   █<br>█·█ ███████ █ ███ █ █<br>█·█     █   █     █ █<br>█·█████ █ █████████ █<br>█·█   █       █   █ █<br>█·█ █ ███████ █ █ █ █<br>█···█ █     █ █ █   █<br>█████ █ ███ ███ ███ █<br>█       █       █  F█<br>█████████████████████`;\n",
              "    </script>\n",
              "    "
            ]
          },
          "metadata": {}
        },
        {
          "output_type": "display_data",
          "data": {
            "text/plain": [
              "<IPython.core.display.HTML object>"
            ],
            "text/html": [
              "\n",
              "    <script>\n",
              "    document.getElementById('maze').innerHTML = `█████████████████████<br>█·█       █     █   █<br>█·█ ███████ █ ███ █ █<br>█·█     █   █     █ █<br>█·█████ █ █████████ █<br>█·█   █       █   █ █<br>█·█·█ ███████ █ █ █ █<br>█···█ █     █ █ █   █<br>█████ █ ███ ███ ███ █<br>█       █       █  F█<br>█████████████████████`;\n",
              "    </script>\n",
              "    "
            ]
          },
          "metadata": {}
        },
        {
          "output_type": "display_data",
          "data": {
            "text/plain": [
              "<IPython.core.display.HTML object>"
            ],
            "text/html": [
              "\n",
              "    <script>\n",
              "    document.getElementById('maze').innerHTML = `█████████████████████<br>█·█       █     █   █<br>█·█ ███████ █ ███ █ █<br>█·█     █   █     █ █<br>█·█████ █ █████████ █<br>█·█·  █       █   █ █<br>█·█·█ ███████ █ █ █ █<br>█···█ █     █ █ █   █<br>█████ █ ███ ███ ███ █<br>█       █       █  F█<br>█████████████████████`;\n",
              "    </script>\n",
              "    "
            ]
          },
          "metadata": {}
        },
        {
          "output_type": "display_data",
          "data": {
            "text/plain": [
              "<IPython.core.display.HTML object>"
            ],
            "text/html": [
              "\n",
              "    <script>\n",
              "    document.getElementById('maze').innerHTML = `█████████████████████<br>█·█       █     █   █<br>█·█ ███████ █ ███ █ █<br>█·█     █   █     █ █<br>█·█████ █ █████████ █<br>█·█·· █       █   █ █<br>█·█·█ ███████ █ █ █ █<br>█···█ █     █ █ █   █<br>█████ █ ███ ███ ███ █<br>█       █       █  F█<br>█████████████████████`;\n",
              "    </script>\n",
              "    "
            ]
          },
          "metadata": {}
        },
        {
          "output_type": "display_data",
          "data": {
            "text/plain": [
              "<IPython.core.display.HTML object>"
            ],
            "text/html": [
              "\n",
              "    <script>\n",
              "    document.getElementById('maze').innerHTML = `█████████████████████<br>█·█       █     █   █<br>█·█ ███████ █ ███ █ █<br>█·█     █   █     █ █<br>█·█████ █ █████████ █<br>█·█···█       █   █ █<br>█·█·█ ███████ █ █ █ █<br>█···█ █     █ █ █   █<br>█████ █ ███ ███ ███ █<br>█       █       █  F█<br>█████████████████████`;\n",
              "    </script>\n",
              "    "
            ]
          },
          "metadata": {}
        },
        {
          "output_type": "display_data",
          "data": {
            "text/plain": [
              "<IPython.core.display.HTML object>"
            ],
            "text/html": [
              "\n",
              "    <script>\n",
              "    document.getElementById('maze').innerHTML = `█████████████████████<br>█·█       █     █   █<br>█·█ ███████ █ ███ █ █<br>█·█     █   █     █ █<br>█·█████ █ █████████ █<br>█·█···█       █   █ █<br>█·█·█·███████ █ █ █ █<br>█···█ █     █ █ █   █<br>█████ █ ███ ███ ███ █<br>█       █       █  F█<br>█████████████████████`;\n",
              "    </script>\n",
              "    "
            ]
          },
          "metadata": {}
        },
        {
          "output_type": "display_data",
          "data": {
            "text/plain": [
              "<IPython.core.display.HTML object>"
            ],
            "text/html": [
              "\n",
              "    <script>\n",
              "    document.getElementById('maze').innerHTML = `█████████████████████<br>█·█       █     █   █<br>█·█ ███████ █ ███ █ █<br>█·█     █   █     █ █<br>█·█████ █ █████████ █<br>█·█···█       █   █ █<br>█·█·█·███████ █ █ █ █<br>█···█·█     █ █ █   █<br>█████ █ ███ ███ ███ █<br>█       █       █  F█<br>█████████████████████`;\n",
              "    </script>\n",
              "    "
            ]
          },
          "metadata": {}
        },
        {
          "output_type": "display_data",
          "data": {
            "text/plain": [
              "<IPython.core.display.HTML object>"
            ],
            "text/html": [
              "\n",
              "    <script>\n",
              "    document.getElementById('maze').innerHTML = `█████████████████████<br>█·█       █     █   █<br>█·█ ███████ █ ███ █ █<br>█·█     █   █     █ █<br>█·█████ █ █████████ █<br>█·█···█       █   █ █<br>█·█·█·███████ █ █ █ █<br>█···█·█     █ █ █   █<br>█████·█ ███ ███ ███ █<br>█       █       █  F█<br>█████████████████████`;\n",
              "    </script>\n",
              "    "
            ]
          },
          "metadata": {}
        },
        {
          "output_type": "display_data",
          "data": {
            "text/plain": [
              "<IPython.core.display.HTML object>"
            ],
            "text/html": [
              "\n",
              "    <script>\n",
              "    document.getElementById('maze').innerHTML = `█████████████████████<br>█·█       █     █   █<br>█·█ ███████ █ ███ █ █<br>█·█     █   █     █ █<br>█·█████ █ █████████ █<br>█·█···█       █   █ █<br>█·█·█·███████ █ █ █ █<br>█···█·█     █ █ █   █<br>█████·█ ███ ███ ███ █<br>█    ·  █       █  F█<br>█████████████████████`;\n",
              "    </script>\n",
              "    "
            ]
          },
          "metadata": {}
        },
        {
          "output_type": "display_data",
          "data": {
            "text/plain": [
              "<IPython.core.display.HTML object>"
            ],
            "text/html": [
              "\n",
              "    <script>\n",
              "    document.getElementById('maze').innerHTML = `█████████████████████<br>█·█       █     █   █<br>█·█ ███████ █ ███ █ █<br>█·█     █   █     █ █<br>█·█████ █ █████████ █<br>█·█···█       █   █ █<br>█·█·█·███████ █ █ █ █<br>█···█·█     █ █ █   █<br>█████·█ ███ ███ ███ █<br>█    ·· █       █  F█<br>█████████████████████`;\n",
              "    </script>\n",
              "    "
            ]
          },
          "metadata": {}
        },
        {
          "output_type": "display_data",
          "data": {
            "text/plain": [
              "<IPython.core.display.HTML object>"
            ],
            "text/html": [
              "\n",
              "    <script>\n",
              "    document.getElementById('maze').innerHTML = `█████████████████████<br>█·█       █     █   █<br>█·█ ███████ █ ███ █ █<br>█·█     █   █     █ █<br>█·█████ █ █████████ █<br>█·█···█       █   █ █<br>█·█·█·███████ █ █ █ █<br>█···█·█     █ █ █   █<br>█████·█ ███ ███ ███ █<br>█    ···█       █  F█<br>█████████████████████`;\n",
              "    </script>\n",
              "    "
            ]
          },
          "metadata": {}
        },
        {
          "output_type": "display_data",
          "data": {
            "text/plain": [
              "<IPython.core.display.HTML object>"
            ],
            "text/html": [
              "\n",
              "    <script>\n",
              "    document.getElementById('maze').innerHTML = `█████████████████████<br>█·█       █     █   █<br>█·█ ███████ █ ███ █ █<br>█·█     █   █     █ █<br>█·█████ █ █████████ █<br>█·█···█       █   █ █<br>█·█·█·███████ █ █ █ █<br>█···█·█     █ █ █   █<br>█████·█·███ ███ ███ █<br>█    ···█       █  F█<br>█████████████████████`;\n",
              "    </script>\n",
              "    "
            ]
          },
          "metadata": {}
        },
        {
          "output_type": "display_data",
          "data": {
            "text/plain": [
              "<IPython.core.display.HTML object>"
            ],
            "text/html": [
              "\n",
              "    <script>\n",
              "    document.getElementById('maze').innerHTML = `█████████████████████<br>█·█       █     █   █<br>█·█ ███████ █ ███ █ █<br>█·█     █   █     █ █<br>█·█████ █ █████████ █<br>█·█···█       █   █ █<br>█·█·█·███████ █ █ █ █<br>█···█·█·    █ █ █   █<br>█████·█·███ ███ ███ █<br>█    ···█       █  F█<br>█████████████████████`;\n",
              "    </script>\n",
              "    "
            ]
          },
          "metadata": {}
        },
        {
          "output_type": "display_data",
          "data": {
            "text/plain": [
              "<IPython.core.display.HTML object>"
            ],
            "text/html": [
              "\n",
              "    <script>\n",
              "    document.getElementById('maze').innerHTML = `█████████████████████<br>█·█       █     █   █<br>█·█ ███████ █ ███ █ █<br>█·█     █   █     █ █<br>█·█████ █ █████████ █<br>█·█···█       █   █ █<br>█·█·█·███████ █ █ █ █<br>█···█·█··   █ █ █   █<br>█████·█·███ ███ ███ █<br>█    ···█       █  F█<br>█████████████████████`;\n",
              "    </script>\n",
              "    "
            ]
          },
          "metadata": {}
        },
        {
          "output_type": "display_data",
          "data": {
            "text/plain": [
              "<IPython.core.display.HTML object>"
            ],
            "text/html": [
              "\n",
              "    <script>\n",
              "    document.getElementById('maze').innerHTML = `█████████████████████<br>█·█       █     █   █<br>█·█ ███████ █ ███ █ █<br>█·█     █   █     █ █<br>█·█████ █ █████████ █<br>█·█···█       █   █ █<br>█·█·█·███████ █ █ █ █<br>█···█·█···  █ █ █   █<br>█████·█·███ ███ ███ █<br>█    ···█       █  F█<br>█████████████████████`;\n",
              "    </script>\n",
              "    "
            ]
          },
          "metadata": {}
        },
        {
          "output_type": "display_data",
          "data": {
            "text/plain": [
              "<IPython.core.display.HTML object>"
            ],
            "text/html": [
              "\n",
              "    <script>\n",
              "    document.getElementById('maze').innerHTML = `█████████████████████<br>█·█       █     █   █<br>█·█ ███████ █ ███ █ █<br>█·█     █   █     █ █<br>█·█████ █ █████████ █<br>█·█···█       █   █ █<br>█·█·█·███████ █ █ █ █<br>█···█·█···· █ █ █   █<br>█████·█·███ ███ ███ █<br>█    ···█       █  F█<br>█████████████████████`;\n",
              "    </script>\n",
              "    "
            ]
          },
          "metadata": {}
        },
        {
          "output_type": "display_data",
          "data": {
            "text/plain": [
              "<IPython.core.display.HTML object>"
            ],
            "text/html": [
              "\n",
              "    <script>\n",
              "    document.getElementById('maze').innerHTML = `█████████████████████<br>█·█       █     █   █<br>█·█ ███████ █ ███ █ █<br>█·█     █   █     █ █<br>█·█████ █ █████████ █<br>█·█···█       █   █ █<br>█·█·█·███████ █ █ █ █<br>█···█·█·····█ █ █   █<br>█████·█·███ ███ ███ █<br>█    ···█       █  F█<br>█████████████████████`;\n",
              "    </script>\n",
              "    "
            ]
          },
          "metadata": {}
        },
        {
          "output_type": "display_data",
          "data": {
            "text/plain": [
              "<IPython.core.display.HTML object>"
            ],
            "text/html": [
              "\n",
              "    <script>\n",
              "    document.getElementById('maze').innerHTML = `█████████████████████<br>█·█       █     █   █<br>█·█ ███████ █ ███ █ █<br>█·█     █   █     █ █<br>█·█████ █ █████████ █<br>█·█···█       █   █ █<br>█·█·█·███████ █ █ █ █<br>█···█·█·····█ █ █   █<br>█████·█·███·███ ███ █<br>█    ···█       █  F█<br>█████████████████████`;\n",
              "    </script>\n",
              "    "
            ]
          },
          "metadata": {}
        },
        {
          "output_type": "display_data",
          "data": {
            "text/plain": [
              "<IPython.core.display.HTML object>"
            ],
            "text/html": [
              "\n",
              "    <script>\n",
              "    document.getElementById('maze').innerHTML = `█████████████████████<br>█·█       █     █   █<br>█·█ ███████ █ ███ █ █<br>█·█     █   █     █ █<br>█·█████ █ █████████ █<br>█·█···█       █   █ █<br>█·█·█·███████ █ █ █ █<br>█···█·█·····█ █ █   █<br>█████·█·███·███ ███ █<br>█    ···█  ·    █  F█<br>█████████████████████`;\n",
              "    </script>\n",
              "    "
            ]
          },
          "metadata": {}
        },
        {
          "output_type": "display_data",
          "data": {
            "text/plain": [
              "<IPython.core.display.HTML object>"
            ],
            "text/html": [
              "\n",
              "    <script>\n",
              "    document.getElementById('maze').innerHTML = `█████████████████████<br>█·█       █     █   █<br>█·█ ███████ █ ███ █ █<br>█·█     █   █     █ █<br>█·█████ █ █████████ █<br>█·█···█       █   █ █<br>█·█·█·███████ █ █ █ █<br>█···█·█·····█ █ █   █<br>█████·█·███·███ ███ █<br>█    ···█  ··   █  F█<br>█████████████████████`;\n",
              "    </script>\n",
              "    "
            ]
          },
          "metadata": {}
        },
        {
          "output_type": "display_data",
          "data": {
            "text/plain": [
              "<IPython.core.display.HTML object>"
            ],
            "text/html": [
              "\n",
              "    <script>\n",
              "    document.getElementById('maze').innerHTML = `█████████████████████<br>█·█       █     █   █<br>█·█ ███████ █ ███ █ █<br>█·█     █   █     █ █<br>█·█████ █ █████████ █<br>█·█···█       █   █ █<br>█·█·█·███████ █ █ █ █<br>█···█·█·····█ █ █   █<br>█████·█·███·███ ███ █<br>█    ···█  ···  █  F█<br>█████████████████████`;\n",
              "    </script>\n",
              "    "
            ]
          },
          "metadata": {}
        },
        {
          "output_type": "display_data",
          "data": {
            "text/plain": [
              "<IPython.core.display.HTML object>"
            ],
            "text/html": [
              "\n",
              "    <script>\n",
              "    document.getElementById('maze').innerHTML = `█████████████████████<br>█·█       █     █   █<br>█·█ ███████ █ ███ █ █<br>█·█     █   █     █ █<br>█·█████ █ █████████ █<br>█·█···█       █   █ █<br>█·█·█·███████ █ █ █ █<br>█···█·█·····█ █ █   █<br>█████·█·███·███ ███ █<br>█    ···█  ···· █  F█<br>█████████████████████`;\n",
              "    </script>\n",
              "    "
            ]
          },
          "metadata": {}
        },
        {
          "output_type": "display_data",
          "data": {
            "text/plain": [
              "<IPython.core.display.HTML object>"
            ],
            "text/html": [
              "\n",
              "    <script>\n",
              "    document.getElementById('maze').innerHTML = `█████████████████████<br>█·█       █     █   █<br>█·█ ███████ █ ███ █ █<br>█·█     █   █     █ █<br>█·█████ █ █████████ █<br>█·█···█       █   █ █<br>█·█·█·███████ █ █ █ █<br>█···█·█·····█ █ █   █<br>█████·█·███·███ ███ █<br>█    ···█  ·····█  F█<br>█████████████████████`;\n",
              "    </script>\n",
              "    "
            ]
          },
          "metadata": {}
        },
        {
          "output_type": "display_data",
          "data": {
            "text/plain": [
              "<IPython.core.display.HTML object>"
            ],
            "text/html": [
              "\n",
              "    <script>\n",
              "    document.getElementById('maze').innerHTML = `█████████████████████<br>█·█       █     █   █<br>█·█ ███████ █ ███ █ █<br>█·█     █   █     █ █<br>█·█████ █ █████████ █<br>█·█···█       █   █ █<br>█·█·█·███████ █ █ █ █<br>█···█·█·····█ █ █   █<br>█████·█·███·███·███ █<br>█    ···█  ·····█  F█<br>█████████████████████`;\n",
              "    </script>\n",
              "    "
            ]
          },
          "metadata": {}
        },
        {
          "output_type": "display_data",
          "data": {
            "text/plain": [
              "<IPython.core.display.HTML object>"
            ],
            "text/html": [
              "\n",
              "    <script>\n",
              "    document.getElementById('maze').innerHTML = `█████████████████████<br>█·█       █     █   █<br>█·█ ███████ █ ███ █ █<br>█·█     █   █     █ █<br>█·█████ █ █████████ █<br>█·█···█       █   █ █<br>█·█·█·███████ █ █ █ █<br>█···█·█·····█ █·█   █<br>█████·█·███·███·███ █<br>█    ···█  ·····█  F█<br>█████████████████████`;\n",
              "    </script>\n",
              "    "
            ]
          },
          "metadata": {}
        },
        {
          "output_type": "display_data",
          "data": {
            "text/plain": [
              "<IPython.core.display.HTML object>"
            ],
            "text/html": [
              "\n",
              "    <script>\n",
              "    document.getElementById('maze').innerHTML = `█████████████████████<br>█·█       █     █   █<br>█·█ ███████ █ ███ █ █<br>█·█     █   █     █ █<br>█·█████ █ █████████ █<br>█·█···█       █   █ █<br>█·█·█·███████ █·█ █ █<br>█···█·█·····█ █·█   █<br>█████·█·███·███·███ █<br>█    ···█  ·····█  F█<br>█████████████████████`;\n",
              "    </script>\n",
              "    "
            ]
          },
          "metadata": {}
        },
        {
          "output_type": "display_data",
          "data": {
            "text/plain": [
              "<IPython.core.display.HTML object>"
            ],
            "text/html": [
              "\n",
              "    <script>\n",
              "    document.getElementById('maze').innerHTML = `█████████████████████<br>█·█       █     █   █<br>█·█ ███████ █ ███ █ █<br>█·█     █   █     █ █<br>█·█████ █ █████████ █<br>█·█···█       █·  █ █<br>█·█·█·███████ █·█ █ █<br>█···█·█·····█ █·█   █<br>█████·█·███·███·███ █<br>█    ···█  ·····█  F█<br>█████████████████████`;\n",
              "    </script>\n",
              "    "
            ]
          },
          "metadata": {}
        },
        {
          "output_type": "display_data",
          "data": {
            "text/plain": [
              "<IPython.core.display.HTML object>"
            ],
            "text/html": [
              "\n",
              "    <script>\n",
              "    document.getElementById('maze').innerHTML = `█████████████████████<br>█·█       █     █   █<br>█·█ ███████ █ ███ █ █<br>█·█     █   █     █ █<br>█·█████ █ █████████ █<br>█·█···█       █·· █ █<br>█·█·█·███████ █·█ █ █<br>█···█·█·····█ █·█   █<br>█████·█·███·███·███ █<br>█    ···█  ·····█  F█<br>█████████████████████`;\n",
              "    </script>\n",
              "    "
            ]
          },
          "metadata": {}
        },
        {
          "output_type": "display_data",
          "data": {
            "text/plain": [
              "<IPython.core.display.HTML object>"
            ],
            "text/html": [
              "\n",
              "    <script>\n",
              "    document.getElementById('maze').innerHTML = `█████████████████████<br>█·█       █     █   █<br>█·█ ███████ █ ███ █ █<br>█·█     █   █     █ █<br>█·█████ █ █████████ █<br>█·█···█       █···█ █<br>█·█·█·███████ █·█ █ █<br>█···█·█·····█ █·█   █<br>█████·█·███·███·███ █<br>█    ···█  ·····█  F█<br>█████████████████████`;\n",
              "    </script>\n",
              "    "
            ]
          },
          "metadata": {}
        },
        {
          "output_type": "display_data",
          "data": {
            "text/plain": [
              "<IPython.core.display.HTML object>"
            ],
            "text/html": [
              "\n",
              "    <script>\n",
              "    document.getElementById('maze').innerHTML = `█████████████████████<br>█·█       █     █   █<br>█·█ ███████ █ ███ █ █<br>█·█     █   █     █ █<br>█·█████ █ █████████ █<br>█·█···█       █···█ █<br>█·█·█·███████ █·█·█ █<br>█···█·█·····█ █·█   █<br>█████·█·███·███·███ █<br>█    ···█  ·····█  F█<br>█████████████████████`;\n",
              "    </script>\n",
              "    "
            ]
          },
          "metadata": {}
        },
        {
          "output_type": "display_data",
          "data": {
            "text/plain": [
              "<IPython.core.display.HTML object>"
            ],
            "text/html": [
              "\n",
              "    <script>\n",
              "    document.getElementById('maze').innerHTML = `█████████████████████<br>█·█       █     █   █<br>█·█ ███████ █ ███ █ █<br>█·█     █   █     █ █<br>█·█████ █ █████████ █<br>█·█···█       █···█ █<br>█·█·█·███████ █·█·█ █<br>█···█·█·····█ █·█·  █<br>█████·█·███·███·███ █<br>█    ···█  ·····█  F█<br>█████████████████████`;\n",
              "    </script>\n",
              "    "
            ]
          },
          "metadata": {}
        },
        {
          "output_type": "display_data",
          "data": {
            "text/plain": [
              "<IPython.core.display.HTML object>"
            ],
            "text/html": [
              "\n",
              "    <script>\n",
              "    document.getElementById('maze').innerHTML = `█████████████████████<br>█·█       █     █   █<br>█·█ ███████ █ ███ █ █<br>█·█     █   █     █ █<br>█·█████ █ █████████ █<br>█·█···█       █···█ █<br>█·█·█·███████ █·█·█ █<br>█···█·█·····█ █·█·· █<br>█████·█·███·███·███ █<br>█    ···█  ·····█  F█<br>█████████████████████`;\n",
              "    </script>\n",
              "    "
            ]
          },
          "metadata": {}
        },
        {
          "output_type": "display_data",
          "data": {
            "text/plain": [
              "<IPython.core.display.HTML object>"
            ],
            "text/html": [
              "\n",
              "    <script>\n",
              "    document.getElementById('maze').innerHTML = `█████████████████████<br>█·█       █     █   █<br>█·█ ███████ █ ███ █ █<br>█·█     █   █     █ █<br>█·█████ █ █████████ █<br>█·█···█       █···█ █<br>█·█·█·███████ █·█·█ █<br>█···█·█·····█ █·█···█<br>█████·█·███·███·███ █<br>█    ···█  ·····█  F█<br>█████████████████████`;\n",
              "    </script>\n",
              "    "
            ]
          },
          "metadata": {}
        },
        {
          "output_type": "display_data",
          "data": {
            "text/plain": [
              "<IPython.core.display.HTML object>"
            ],
            "text/html": [
              "\n",
              "    <script>\n",
              "    document.getElementById('maze').innerHTML = `█████████████████████<br>█·█       █     █   █<br>█·█ ███████ █ ███ █ █<br>█·█     █   █     █ █<br>█·█████ █ █████████ █<br>█·█···█       █···█ █<br>█·█·█·███████ █·█·█ █<br>█···█·█·····█ █·█···█<br>█████·█·███·███·███·█<br>█    ···█  ·····█  F█<br>█████████████████████`;\n",
              "    </script>\n",
              "    "
            ]
          },
          "metadata": {}
        },
        {
          "output_type": "display_data",
          "data": {
            "text/plain": [
              "<IPython.core.display.HTML object>"
            ],
            "text/html": [
              "\n",
              "    <script>\n",
              "    document.getElementById('maze').innerHTML = `█████████████████████<br>█·█       █     █   █<br>█·█ ███████ █ ███ █ █<br>█·█     █   █     █ █<br>█·█████ █ █████████ █<br>█·█···█       █···█ █<br>█·█·█·███████ █·█·█ █<br>█···█·█·····█ █·█···█<br>█████·█·███·███·███·█<br>█    ···█  ·····█  ·█<br>█████████████████████`;\n",
              "    </script>\n",
              "    "
            ]
          },
          "metadata": {}
        }
      ]
    },
    {
      "cell_type": "markdown",
      "source": [
        "# Recherche avec heuristique A* (A star) !"
      ],
      "metadata": {
        "id": "R2f1SI-jy-It"
      }
    },
    {
      "cell_type": "code",
      "source": [
        "maze_string = '<br>'.join(''.join(row) for row in labyrinthe)\n",
        "display(HTML(f'''\n",
        "    <div id=\"maze\" style=\"font-family: monospace; white-space: pre; line-height: 1.2;\">\n",
        "    {maze_string}\n",
        "    </div>\n",
        "    <script>\n",
        "    document.getElementById('maze').innerHTML = `{maze_string}`;\n",
        "    </script>\n",
        "    '''))\n",
        "\n",
        "\n",
        "# Fonction qui trouve le chemin entre\n",
        "# une case visitée et la case départ\n",
        "def trouverChemin(cases_visitees, cases_precedentes, case_actuelle):\n",
        "  chemin = []\n",
        "  # Tant qu'on n'est pas rendu à la case départ (None)\n",
        "  index_precedente = cases_visitees.index(case_actuelle)\n",
        "  case_precedente = cases_precedentes[index_precedente]\n",
        "  while case_precedente != None:\n",
        "    # On ajoute la case précédente à la liste qui forme le chemin\n",
        "    chemin.append(case_precedente)\n",
        "    # On trouve l'index de la case précédente dans la listes de cases visitées\n",
        "    index_precedente = cases_visitees.index(case_precedente)\n",
        "    # On trouve la nouvelle case précédente dans la liste de cases précédentes\n",
        "    case_precedente = cases_precedentes[index_precedente]\n",
        "\n",
        "  # On retourne la liste de cases qui forme le chemin\n",
        "  return chemin\n",
        "\n",
        "\n",
        "# Fonction qui estime le coût entre la position finale et la position courante\n",
        "# Ici on le fait à vol d'oiseau\n",
        "def heuristique(position, fin):\n",
        "  pos_y, pos_x = position\n",
        "  fin_y, fin_x = fin\n",
        "  # L'hypothénuse d'un triangle (c) est donnée par c² = a² + b²\n",
        "  a2 = abs(fin_y - pos_y)\n",
        "  b2 = abs(fin_x - pos_x)\n",
        "  c2 = a2 + b2\n",
        "  return np.sqrt(c2)\n",
        "\n",
        "# Fonction qui calcul le coût d'une case\n",
        "def fonctionDeCout(cout_actuel, cout_estime):\n",
        "  # La fonction de cout est le cout actuel + le cout estimé par heuristique\n",
        "  return cout_actuel + cout_estime\n",
        "\n",
        "def rechercheHeuristiqueAStar(labyrinthe, debut, fin):\n",
        "  # Initialisation des listes\n",
        "  cases_a_visiter = [(debut, None)]\n",
        "  cases_visitees = []\n",
        "  cases_precedentes = []\n",
        "\n",
        "  # Tant qu'on a des cases à visiter\n",
        "  while cases_a_visiter:\n",
        "    time.sleep(0.1)\n",
        "\n",
        "    # S'il faut choisir entre deux cases à visiter\n",
        "    if len(cases_a_visiter) > 1:\n",
        "      couts_de_deplacement = []\n",
        "      # Pour chaque case potentielle à visiter, on calcule le coût.\n",
        "      for case_potentielle in cases_a_visiter:\n",
        "        # Le cout actuel est le nombre de déplacement depuis la case départ.\n",
        "        # Bref la longueur du chemin parcouru entre la case actuel et la case départ.\n",
        "        chemin = trouverChemin(cases_visitees, cases_precedentes, case_potentielle[1])\n",
        "        cout_actuel = len(chemin) + 1 # comptant la case potentielle\n",
        "        cout_estime = heuristique(case_potentielle[0], (-2,-2))\n",
        "        couts_de_deplacement.append(fonctionDeCout(cout_actuel, cout_estime))\n",
        "\n",
        "      # Choisir le minimum dans la liste de couts de déplacement\n",
        "      index_cout_min = couts_de_deplacement.index(min(couts_de_deplacement))\n",
        "      case_courante = cases_a_visiter.pop(index_cout_min)\n",
        "\n",
        "    # Sinon il n'y a qu'une case à visiter\n",
        "    else:\n",
        "      case_courante = cases_a_visiter.pop()\n",
        "\n",
        "    # On ajoute la case courante aux listes des cases visitées et précédentes\n",
        "    cases_visitees.insert(0, case_courante[0])\n",
        "    cases_precedentes.insert(0, case_courante[1])\n",
        "\n",
        "    # Affiche la case courante dans le graph\n",
        "    y, x = case_courante[0][0], case_courante[0][1]\n",
        "    printLabyrinthe(labyrinthe.copy(), x, y)\n",
        "\n",
        "    # Si on trouve la sortie on sort !\n",
        "    if labyrinthe[y, x] == FIN:\n",
        "      return True, trouverChemin(cases_visitees, cases_precedentes, (y, x))\n",
        "\n",
        "    # Trouve des cases vide autour de la case courante\n",
        "    # et les ajoute à la liste de case à visiter\n",
        "\n",
        "    # NORD\n",
        "    # print(\"Y a t'il une case vide au nord ? \", labyrinthe[y-1, x] == VIDE)\n",
        "    if labyrinthe[y-1, x] in [VIDE, FIN] and not (y-1, x) in cases_visitees:\n",
        "      cases_a_visiter.append(((y-1, x), (y, x)))\n",
        "\n",
        "    # SUD\n",
        "    # print(\"Y a t'il une case vide au sud ? \", labyrinthe[y+1, x] == VIDE)\n",
        "    if labyrinthe[y+1, x] in [VIDE, FIN] and not (y+1, x) in cases_visitees:\n",
        "      cases_a_visiter.append(((y+1, x), (y, x)))\n",
        "\n",
        "    # EST\n",
        "    # print(\"Y a t'il une case vide à l'est ? \", labyrinthe[y, x+1] == VIDE)\n",
        "    if labyrinthe[y, x+1] in [VIDE, FIN] and not (y, x+1) in cases_visitees:\n",
        "      cases_a_visiter.append(((y, x+1), (y, x)))\n",
        "\n",
        "    # OUEST\n",
        "    # print(\"Y a t'il une case vide à l'ouest ? \", labyrinthe[y, x-1] == VIDE)\n",
        "    if labyrinthe[y, x-1] in [VIDE, FIN] and not (y, x-1) in cases_visitees:\n",
        "      cases_a_visiter.append(((y, x-1), (y, x)))\n",
        "\n",
        "    # Debug\n",
        "    # print('Marqueur ', case_courante)\n",
        "    # print(\"Cases visitées \", cases_visitees)\n",
        "    # print(\"Cases précédentes \", cases_precedentes)\n",
        "    # print(\"Cases à visiter \", cases_a_visiter)\n",
        "    # print(\"# - - - - - - - - - - - - - - - - - - - #\")\n",
        "\n",
        "  return False, []\n",
        "\n",
        "# Orde (y, x) pour numpy et None pour indiquer que c'est le départ\n",
        "debut = (1, 1)\n",
        "fin = (TAILLE_Y - 2, TAILLE_X - 2)\n",
        "\n",
        "# La fonction rechercheHeuristiqueAStar(labyrinthe, debut, fin)\n",
        "# retourne un status si la sortie a été trouvé ainsi que la liste de case\n",
        "# qu'il faut prendre pour se rendre à sortie.\n",
        "status, chemin = rechercheHeuristiqueAStar(labyrinthe, debut, fin)\n",
        "\n",
        "# afficher le chemin trouvé\n",
        "for (y, x) in chemin:\n",
        "  labyrinthe[y, x] = '·'\n",
        "  printLabyrinthe(labyrinthe.copy(), 0, 0)\n",
        "\n",
        "\n",
        "\n"
      ],
      "metadata": {
        "colab": {
          "base_uri": "https://localhost:8080/",
          "height": 202
        },
        "id": "f-RgXvkiy9G9",
        "outputId": "b34a1374-81fd-4747-f8a6-bd42e0ed0ebf"
      },
      "execution_count": 11,
      "outputs": [
        {
          "output_type": "display_data",
          "data": {
            "text/plain": [
              "<IPython.core.display.HTML object>"
            ],
            "text/html": [
              "\n",
              "    <div id=\"maze\" style=\"font-family: monospace; white-space: pre; line-height: 1.2;\">\n",
              "    █████████████████████<br>█D  █     █         █<br>███ █ ███ █████ ███ █<br>█   █ █ █ █     █ █ █<br>█ ███ █ █ █ █████ █ █<br>█ █   █ █   █     █ █<br>█ █ ███ █████ █████ █<br>█ █ █   █     █   █ █<br>█ █ █ ███ ███ █ █ █ █<br>█   █       █   █  F█<br>█████████████████████\n",
              "    </div>\n",
              "    <script>\n",
              "    document.getElementById('maze').innerHTML = `█████████████████████<br>█D  █     █         █<br>███ █ ███ █████ ███ █<br>█   █ █ █ █     █ █ █<br>█ ███ █ █ █ █████ █ █<br>█ █   █ █   █     █ █<br>█ █ ███ █████ █████ █<br>█ █ █   █     █   █ █<br>█ █ █ ███ ███ █ █ █ █<br>█   █       █   █  F█<br>█████████████████████`;\n",
              "    </script>\n",
              "    "
            ]
          },
          "metadata": {}
        },
        {
          "output_type": "display_data",
          "data": {
            "text/plain": [
              "<IPython.core.display.HTML object>"
            ],
            "text/html": [
              "\n",
              "    <script>\n",
              "    document.getElementById('maze').innerHTML = `█████████████████████<br>█©  █     █         █<br>███ █ ███ █████ ███ █<br>█   █ █ █ █     █ █ █<br>█ ███ █ █ █ █████ █ █<br>█ █   █ █   █     █ █<br>█ █ ███ █████ █████ █<br>█ █ █   █     █   █ █<br>█ █ █ ███ ███ █ █ █ █<br>█   █       █   █  F█<br>█████████████████████`;\n",
              "    </script>\n",
              "    "
            ]
          },
          "metadata": {}
        },
        {
          "output_type": "display_data",
          "data": {
            "text/plain": [
              "<IPython.core.display.HTML object>"
            ],
            "text/html": [
              "\n",
              "    <script>\n",
              "    document.getElementById('maze').innerHTML = `█████████████████████<br>█D© █     █         █<br>███ █ ███ █████ ███ █<br>█   █ █ █ █     █ █ █<br>█ ███ █ █ █ █████ █ █<br>█ █   █ █   █     █ █<br>█ █ ███ █████ █████ █<br>█ █ █   █     █   █ █<br>█ █ █ ███ ███ █ █ █ █<br>█   █       █   █  F█<br>█████████████████████`;\n",
              "    </script>\n",
              "    "
            ]
          },
          "metadata": {}
        },
        {
          "output_type": "display_data",
          "data": {
            "text/plain": [
              "<IPython.core.display.HTML object>"
            ],
            "text/html": [
              "\n",
              "    <script>\n",
              "    document.getElementById('maze').innerHTML = `█████████████████████<br>█D ©█     █         █<br>███ █ ███ █████ ███ █<br>█   █ █ █ █     █ █ █<br>█ ███ █ █ █ █████ █ █<br>█ █   █ █   █     █ █<br>█ █ ███ █████ █████ █<br>█ █ █   █     █   █ █<br>█ █ █ ███ ███ █ █ █ █<br>█   █       █   █  F█<br>█████████████████████`;\n",
              "    </script>\n",
              "    "
            ]
          },
          "metadata": {}
        },
        {
          "output_type": "display_data",
          "data": {
            "text/plain": [
              "<IPython.core.display.HTML object>"
            ],
            "text/html": [
              "\n",
              "    <script>\n",
              "    document.getElementById('maze').innerHTML = `█████████████████████<br>█D  █     █         █<br>███©█ ███ █████ ███ █<br>█   █ █ █ █     █ █ █<br>█ ███ █ █ █ █████ █ █<br>█ █   █ █   █     █ █<br>█ █ ███ █████ █████ █<br>█ █ █   █     █   █ █<br>█ █ █ ███ ███ █ █ █ █<br>█   █       █   █  F█<br>█████████████████████`;\n",
              "    </script>\n",
              "    "
            ]
          },
          "metadata": {}
        },
        {
          "output_type": "display_data",
          "data": {
            "text/plain": [
              "<IPython.core.display.HTML object>"
            ],
            "text/html": [
              "\n",
              "    <script>\n",
              "    document.getElementById('maze').innerHTML = `█████████████████████<br>█D  █     █         █<br>███ █ ███ █████ ███ █<br>█  ©█ █ █ █     █ █ █<br>█ ███ █ █ █ █████ █ █<br>█ █   █ █   █     █ █<br>█ █ ███ █████ █████ █<br>█ █ █   █     █   █ █<br>█ █ █ ███ ███ █ █ █ █<br>█   █       █   █  F█<br>█████████████████████`;\n",
              "    </script>\n",
              "    "
            ]
          },
          "metadata": {}
        },
        {
          "output_type": "display_data",
          "data": {
            "text/plain": [
              "<IPython.core.display.HTML object>"
            ],
            "text/html": [
              "\n",
              "    <script>\n",
              "    document.getElementById('maze').innerHTML = `█████████████████████<br>█D  █     █         █<br>███ █ ███ █████ ███ █<br>█ © █ █ █ █     █ █ █<br>█ ███ █ █ █ █████ █ █<br>█ █   █ █   █     █ █<br>█ █ ███ █████ █████ █<br>█ █ █   █     █   █ █<br>█ █ █ ███ ███ █ █ █ █<br>█   █       █   █  F█<br>█████████████████████`;\n",
              "    </script>\n",
              "    "
            ]
          },
          "metadata": {}
        },
        {
          "output_type": "display_data",
          "data": {
            "text/plain": [
              "<IPython.core.display.HTML object>"
            ],
            "text/html": [
              "\n",
              "    <script>\n",
              "    document.getElementById('maze').innerHTML = `█████████████████████<br>█D  █     █         █<br>███ █ ███ █████ ███ █<br>█©  █ █ █ █     █ █ █<br>█ ███ █ █ █ █████ █ █<br>█ █   █ █   █     █ █<br>█ █ ███ █████ █████ █<br>█ █ █   █     █   █ █<br>█ █ █ ███ ███ █ █ █ █<br>█   █       █   █  F█<br>█████████████████████`;\n",
              "    </script>\n",
              "    "
            ]
          },
          "metadata": {}
        },
        {
          "output_type": "display_data",
          "data": {
            "text/plain": [
              "<IPython.core.display.HTML object>"
            ],
            "text/html": [
              "\n",
              "    <script>\n",
              "    document.getElementById('maze').innerHTML = `█████████████████████<br>█D  █     █         █<br>███ █ ███ █████ ███ █<br>█   █ █ █ █     █ █ █<br>█©███ █ █ █ █████ █ █<br>█ █   █ █   █     █ █<br>█ █ ███ █████ █████ █<br>█ █ █   █     █   █ █<br>█ █ █ ███ ███ █ █ █ █<br>█   █       █   █  F█<br>█████████████████████`;\n",
              "    </script>\n",
              "    "
            ]
          },
          "metadata": {}
        },
        {
          "output_type": "display_data",
          "data": {
            "text/plain": [
              "<IPython.core.display.HTML object>"
            ],
            "text/html": [
              "\n",
              "    <script>\n",
              "    document.getElementById('maze').innerHTML = `█████████████████████<br>█D  █     █         █<br>███ █ ███ █████ ███ █<br>█   █ █ █ █     █ █ █<br>█ ███ █ █ █ █████ █ █<br>█©█   █ █   █     █ █<br>█ █ ███ █████ █████ █<br>█ █ █   █     █   █ █<br>█ █ █ ███ ███ █ █ █ █<br>█   █       █   █  F█<br>█████████████████████`;\n",
              "    </script>\n",
              "    "
            ]
          },
          "metadata": {}
        },
        {
          "output_type": "display_data",
          "data": {
            "text/plain": [
              "<IPython.core.display.HTML object>"
            ],
            "text/html": [
              "\n",
              "    <script>\n",
              "    document.getElementById('maze').innerHTML = `█████████████████████<br>█D  █     █         █<br>███ █ ███ █████ ███ █<br>█   █ █ █ █     █ █ █<br>█ ███ █ █ █ █████ █ █<br>█ █   █ █   █     █ █<br>█©█ ███ █████ █████ █<br>█ █ █   █     █   █ █<br>█ █ █ ███ ███ █ █ █ █<br>█   █       █   █  F█<br>█████████████████████`;\n",
              "    </script>\n",
              "    "
            ]
          },
          "metadata": {}
        },
        {
          "output_type": "display_data",
          "data": {
            "text/plain": [
              "<IPython.core.display.HTML object>"
            ],
            "text/html": [
              "\n",
              "    <script>\n",
              "    document.getElementById('maze').innerHTML = `█████████████████████<br>█D  █     █         █<br>███ █ ███ █████ ███ █<br>█   █ █ █ █     █ █ █<br>█ ███ █ █ █ █████ █ █<br>█ █   █ █   █     █ █<br>█ █ ███ █████ █████ █<br>█©█ █   █     █   █ █<br>█ █ █ ███ ███ █ █ █ █<br>█   █       █   █  F█<br>█████████████████████`;\n",
              "    </script>\n",
              "    "
            ]
          },
          "metadata": {}
        },
        {
          "output_type": "display_data",
          "data": {
            "text/plain": [
              "<IPython.core.display.HTML object>"
            ],
            "text/html": [
              "\n",
              "    <script>\n",
              "    document.getElementById('maze').innerHTML = `█████████████████████<br>█D  █     █         █<br>███ █ ███ █████ ███ █<br>█   █ █ █ █     █ █ █<br>█ ███ █ █ █ █████ █ █<br>█ █   █ █   █     █ █<br>█ █ ███ █████ █████ █<br>█ █ █   █     █   █ █<br>█©█ █ ███ ███ █ █ █ █<br>█   █       █   █  F█<br>█████████████████████`;\n",
              "    </script>\n",
              "    "
            ]
          },
          "metadata": {}
        },
        {
          "output_type": "display_data",
          "data": {
            "text/plain": [
              "<IPython.core.display.HTML object>"
            ],
            "text/html": [
              "\n",
              "    <script>\n",
              "    document.getElementById('maze').innerHTML = `█████████████████████<br>█D  █     █         █<br>███ █ ███ █████ ███ █<br>█   █ █ █ █     █ █ █<br>█ ███ █ █ █ █████ █ █<br>█ █   █ █   █     █ █<br>█ █ ███ █████ █████ █<br>█ █ █   █     █   █ █<br>█ █ █ ███ ███ █ █ █ █<br>█©  █       █   █  F█<br>█████████████████████`;\n",
              "    </script>\n",
              "    "
            ]
          },
          "metadata": {}
        },
        {
          "output_type": "display_data",
          "data": {
            "text/plain": [
              "<IPython.core.display.HTML object>"
            ],
            "text/html": [
              "\n",
              "    <script>\n",
              "    document.getElementById('maze').innerHTML = `█████████████████████<br>█D  █     █         █<br>███ █ ███ █████ ███ █<br>█   █ █ █ █     █ █ █<br>█ ███ █ █ █ █████ █ █<br>█ █   █ █   █     █ █<br>█ █ ███ █████ █████ █<br>█ █ █   █     █   █ █<br>█ █ █ ███ ███ █ █ █ █<br>█ © █       █   █  F█<br>█████████████████████`;\n",
              "    </script>\n",
              "    "
            ]
          },
          "metadata": {}
        },
        {
          "output_type": "display_data",
          "data": {
            "text/plain": [
              "<IPython.core.display.HTML object>"
            ],
            "text/html": [
              "\n",
              "    <script>\n",
              "    document.getElementById('maze').innerHTML = `█████████████████████<br>█D  █     █         █<br>███ █ ███ █████ ███ █<br>█   █ █ █ █     █ █ █<br>█ ███ █ █ █ █████ █ █<br>█ █   █ █   █     █ █<br>█ █ ███ █████ █████ █<br>█ █ █   █     █   █ █<br>█ █ █ ███ ███ █ █ █ █<br>█  ©█       █   █  F█<br>█████████████████████`;\n",
              "    </script>\n",
              "    "
            ]
          },
          "metadata": {}
        },
        {
          "output_type": "display_data",
          "data": {
            "text/plain": [
              "<IPython.core.display.HTML object>"
            ],
            "text/html": [
              "\n",
              "    <script>\n",
              "    document.getElementById('maze').innerHTML = `█████████████████████<br>█D  █     █         █<br>███ █ ███ █████ ███ █<br>█   █ █ █ █     █ █ █<br>█ ███ █ █ █ █████ █ █<br>█ █   █ █   █     █ █<br>█ █ ███ █████ █████ █<br>█ █ █   █     █   █ █<br>█ █©█ ███ ███ █ █ █ █<br>█   █       █   █  F█<br>█████████████████████`;\n",
              "    </script>\n",
              "    "
            ]
          },
          "metadata": {}
        },
        {
          "output_type": "display_data",
          "data": {
            "text/plain": [
              "<IPython.core.display.HTML object>"
            ],
            "text/html": [
              "\n",
              "    <script>\n",
              "    document.getElementById('maze').innerHTML = `█████████████████████<br>█D  █     █         █<br>███ █ ███ █████ ███ █<br>█   █ █ █ █     █ █ █<br>█ ███ █ █ █ █████ █ █<br>█ █   █ █   █     █ █<br>█ █ ███ █████ █████ █<br>█ █©█   █     █   █ █<br>█ █ █ ███ ███ █ █ █ █<br>█   █       █   █  F█<br>█████████████████████`;\n",
              "    </script>\n",
              "    "
            ]
          },
          "metadata": {}
        },
        {
          "output_type": "display_data",
          "data": {
            "text/plain": [
              "<IPython.core.display.HTML object>"
            ],
            "text/html": [
              "\n",
              "    <script>\n",
              "    document.getElementById('maze').innerHTML = `█████████████████████<br>█D  █     █         █<br>███ █ ███ █████ ███ █<br>█   █ █ █ █     █ █ █<br>█ ███ █ █ █ █████ █ █<br>█ █   █ █   █     █ █<br>█ █©███ █████ █████ █<br>█ █ █   █     █   █ █<br>█ █ █ ███ ███ █ █ █ █<br>█   █       █   █  F█<br>█████████████████████`;\n",
              "    </script>\n",
              "    "
            ]
          },
          "metadata": {}
        },
        {
          "output_type": "display_data",
          "data": {
            "text/plain": [
              "<IPython.core.display.HTML object>"
            ],
            "text/html": [
              "\n",
              "    <script>\n",
              "    document.getElementById('maze').innerHTML = `█████████████████████<br>█D  █     █         █<br>███ █ ███ █████ ███ █<br>█   █ █ █ █     █ █ █<br>█ ███ █ █ █ █████ █ █<br>█ █©  █ █   █     █ █<br>█ █ ███ █████ █████ █<br>█ █ █   █     █   █ █<br>█ █ █ ███ ███ █ █ █ █<br>█   █       █   █  F█<br>█████████████████████`;\n",
              "    </script>\n",
              "    "
            ]
          },
          "metadata": {}
        },
        {
          "output_type": "display_data",
          "data": {
            "text/plain": [
              "<IPython.core.display.HTML object>"
            ],
            "text/html": [
              "\n",
              "    <script>\n",
              "    document.getElementById('maze').innerHTML = `█████████████████████<br>█D  █     █         █<br>███ █ ███ █████ ███ █<br>█   █ █ █ █     █ █ █<br>█ ███ █ █ █ █████ █ █<br>█ █ © █ █   █     █ █<br>█ █ ███ █████ █████ █<br>█ █ █   █     █   █ █<br>█ █ █ ███ ███ █ █ █ █<br>█   █       █   █  F█<br>█████████████████████`;\n",
              "    </script>\n",
              "    "
            ]
          },
          "metadata": {}
        },
        {
          "output_type": "display_data",
          "data": {
            "text/plain": [
              "<IPython.core.display.HTML object>"
            ],
            "text/html": [
              "\n",
              "    <script>\n",
              "    document.getElementById('maze').innerHTML = `█████████████████████<br>█D  █     █         █<br>███ █ ███ █████ ███ █<br>█   █ █ █ █     █ █ █<br>█ ███ █ █ █ █████ █ █<br>█ █  ©█ █   █     █ █<br>█ █ ███ █████ █████ █<br>█ █ █   █     █   █ █<br>█ █ █ ███ ███ █ █ █ █<br>█   █       █   █  F█<br>█████████████████████`;\n",
              "    </script>\n",
              "    "
            ]
          },
          "metadata": {}
        },
        {
          "output_type": "display_data",
          "data": {
            "text/plain": [
              "<IPython.core.display.HTML object>"
            ],
            "text/html": [
              "\n",
              "    <script>\n",
              "    document.getElementById('maze').innerHTML = `█████████████████████<br>█D  █     █         █<br>███ █ ███ █████ ███ █<br>█   █ █ █ █     █ █ █<br>█ ███©█ █ █ █████ █ █<br>█ █   █ █   █     █ █<br>█ █ ███ █████ █████ █<br>█ █ █   █     █   █ █<br>█ █ █ ███ ███ █ █ █ █<br>█   █       █   █  F█<br>█████████████████████`;\n",
              "    </script>\n",
              "    "
            ]
          },
          "metadata": {}
        },
        {
          "output_type": "display_data",
          "data": {
            "text/plain": [
              "<IPython.core.display.HTML object>"
            ],
            "text/html": [
              "\n",
              "    <script>\n",
              "    document.getElementById('maze').innerHTML = `█████████████████████<br>█D  █     █         █<br>███ █ ███ █████ ███ █<br>█   █©█ █ █     █ █ █<br>█ ███ █ █ █ █████ █ █<br>█ █   █ █   █     █ █<br>█ █ ███ █████ █████ █<br>█ █ █   █     █   █ █<br>█ █ █ ███ ███ █ █ █ █<br>█   █       █   █  F█<br>█████████████████████`;\n",
              "    </script>\n",
              "    "
            ]
          },
          "metadata": {}
        },
        {
          "output_type": "display_data",
          "data": {
            "text/plain": [
              "<IPython.core.display.HTML object>"
            ],
            "text/html": [
              "\n",
              "    <script>\n",
              "    document.getElementById('maze').innerHTML = `█████████████████████<br>█D  █     █         █<br>███ █©███ █████ ███ █<br>█   █ █ █ █     █ █ █<br>█ ███ █ █ █ █████ █ █<br>█ █   █ █   █     █ █<br>█ █ ███ █████ █████ █<br>█ █ █   █     █   █ █<br>█ █ █ ███ ███ █ █ █ █<br>█   █       █   █  F█<br>█████████████████████`;\n",
              "    </script>\n",
              "    "
            ]
          },
          "metadata": {}
        },
        {
          "output_type": "display_data",
          "data": {
            "text/plain": [
              "<IPython.core.display.HTML object>"
            ],
            "text/html": [
              "\n",
              "    <script>\n",
              "    document.getElementById('maze').innerHTML = `█████████████████████<br>█D  █©    █         █<br>███ █ ███ █████ ███ █<br>█   █ █ █ █     █ █ █<br>█ ███ █ █ █ █████ █ █<br>█ █   █ █   █     █ █<br>█ █ ███ █████ █████ █<br>█ █ █   █     █   █ █<br>█ █ █ ███ ███ █ █ █ █<br>█   █       █   █  F█<br>█████████████████████`;\n",
              "    </script>\n",
              "    "
            ]
          },
          "metadata": {}
        },
        {
          "output_type": "display_data",
          "data": {
            "text/plain": [
              "<IPython.core.display.HTML object>"
            ],
            "text/html": [
              "\n",
              "    <script>\n",
              "    document.getElementById('maze').innerHTML = `█████████████████████<br>█D  █ ©   █         █<br>███ █ ███ █████ ███ █<br>█   █ █ █ █     █ █ █<br>█ ███ █ █ █ █████ █ █<br>█ █   █ █   █     █ █<br>█ █ ███ █████ █████ █<br>█ █ █   █     █   █ █<br>█ █ █ ███ ███ █ █ █ █<br>█   █       █   █  F█<br>█████████████████████`;\n",
              "    </script>\n",
              "    "
            ]
          },
          "metadata": {}
        },
        {
          "output_type": "display_data",
          "data": {
            "text/plain": [
              "<IPython.core.display.HTML object>"
            ],
            "text/html": [
              "\n",
              "    <script>\n",
              "    document.getElementById('maze').innerHTML = `█████████████████████<br>█D  █  ©  █         █<br>███ █ ███ █████ ███ █<br>█   █ █ █ █     █ █ █<br>█ ███ █ █ █ █████ █ █<br>█ █   █ █   █     █ █<br>█ █ ███ █████ █████ █<br>█ █ █   █     █   █ █<br>█ █ █ ███ ███ █ █ █ █<br>█   █       █   █  F█<br>█████████████████████`;\n",
              "    </script>\n",
              "    "
            ]
          },
          "metadata": {}
        },
        {
          "output_type": "display_data",
          "data": {
            "text/plain": [
              "<IPython.core.display.HTML object>"
            ],
            "text/html": [
              "\n",
              "    <script>\n",
              "    document.getElementById('maze').innerHTML = `█████████████████████<br>█D  █   © █         █<br>███ █ ███ █████ ███ █<br>█   █ █ █ █     █ █ █<br>█ ███ █ █ █ █████ █ █<br>█ █   █ █   █     █ █<br>█ █ ███ █████ █████ █<br>█ █ █   █     █   █ █<br>█ █ █ ███ ███ █ █ █ █<br>█   █       █   █  F█<br>█████████████████████`;\n",
              "    </script>\n",
              "    "
            ]
          },
          "metadata": {}
        },
        {
          "output_type": "display_data",
          "data": {
            "text/plain": [
              "<IPython.core.display.HTML object>"
            ],
            "text/html": [
              "\n",
              "    <script>\n",
              "    document.getElementById('maze').innerHTML = `█████████████████████<br>█D  █    ©█         █<br>███ █ ███ █████ ███ █<br>█   █ █ █ █     █ █ █<br>█ ███ █ █ █ █████ █ █<br>█ █   █ █   █     █ █<br>█ █ ███ █████ █████ █<br>█ █ █   █     █   █ █<br>█ █ █ ███ ███ █ █ █ █<br>█   █       █   █  F█<br>█████████████████████`;\n",
              "    </script>\n",
              "    "
            ]
          },
          "metadata": {}
        },
        {
          "output_type": "display_data",
          "data": {
            "text/plain": [
              "<IPython.core.display.HTML object>"
            ],
            "text/html": [
              "\n",
              "    <script>\n",
              "    document.getElementById('maze').innerHTML = `█████████████████████<br>█D  █     █         █<br>███ █ ███©█████ ███ █<br>█   █ █ █ █     █ █ █<br>█ ███ █ █ █ █████ █ █<br>█ █   █ █   █     █ █<br>█ █ ███ █████ █████ █<br>█ █ █   █     █   █ █<br>█ █ █ ███ ███ █ █ █ █<br>█   █       █   █  F█<br>█████████████████████`;\n",
              "    </script>\n",
              "    "
            ]
          },
          "metadata": {}
        },
        {
          "output_type": "display_data",
          "data": {
            "text/plain": [
              "<IPython.core.display.HTML object>"
            ],
            "text/html": [
              "\n",
              "    <script>\n",
              "    document.getElementById('maze').innerHTML = `█████████████████████<br>█D  █     █         █<br>███ █ ███ █████ ███ █<br>█   █ █ █©█     █ █ █<br>█ ███ █ █ █ █████ █ █<br>█ █   █ █   █     █ █<br>█ █ ███ █████ █████ █<br>█ █ █   █     █   █ █<br>█ █ █ ███ ███ █ █ █ █<br>█   █       █   █  F█<br>█████████████████████`;\n",
              "    </script>\n",
              "    "
            ]
          },
          "metadata": {}
        },
        {
          "output_type": "display_data",
          "data": {
            "text/plain": [
              "<IPython.core.display.HTML object>"
            ],
            "text/html": [
              "\n",
              "    <script>\n",
              "    document.getElementById('maze').innerHTML = `█████████████████████<br>█D  █     █         █<br>███ █ ███ █████ ███ █<br>█   █ █ █ █     █ █ █<br>█ ███ █ █©█ █████ █ █<br>█ █   █ █   █     █ █<br>█ █ ███ █████ █████ █<br>█ █ █   █     █   █ █<br>█ █ █ ███ ███ █ █ █ █<br>█   █       █   █  F█<br>█████████████████████`;\n",
              "    </script>\n",
              "    "
            ]
          },
          "metadata": {}
        },
        {
          "output_type": "display_data",
          "data": {
            "text/plain": [
              "<IPython.core.display.HTML object>"
            ],
            "text/html": [
              "\n",
              "    <script>\n",
              "    document.getElementById('maze').innerHTML = `█████████████████████<br>█D  █     █         █<br>███ █ ███ █████ ███ █<br>█   █ █ █ █     █ █ █<br>█ ███ █ █ █ █████ █ █<br>█ █   █ █©  █     █ █<br>█ █ ███ █████ █████ █<br>█ █ █   █     █   █ █<br>█ █ █ ███ ███ █ █ █ █<br>█   █       █   █  F█<br>█████████████████████`;\n",
              "    </script>\n",
              "    "
            ]
          },
          "metadata": {}
        },
        {
          "output_type": "display_data",
          "data": {
            "text/plain": [
              "<IPython.core.display.HTML object>"
            ],
            "text/html": [
              "\n",
              "    <script>\n",
              "    document.getElementById('maze').innerHTML = `█████████████████████<br>█D  █     █         █<br>███ █ ███ █████ ███ █<br>█   █ █ █ █     █ █ █<br>█ ███ █ █ █ █████ █ █<br>█ █   █ █ © █     █ █<br>█ █ ███ █████ █████ █<br>█ █ █   █     █   █ █<br>█ █ █ ███ ███ █ █ █ █<br>█   █       █   █  F█<br>█████████████████████`;\n",
              "    </script>\n",
              "    "
            ]
          },
          "metadata": {}
        },
        {
          "output_type": "display_data",
          "data": {
            "text/plain": [
              "<IPython.core.display.HTML object>"
            ],
            "text/html": [
              "\n",
              "    <script>\n",
              "    document.getElementById('maze').innerHTML = `█████████████████████<br>█D  █     █         █<br>███ █ ███ █████ ███ █<br>█   █ █ █ █     █ █ █<br>█ ███ █ █ █ █████ █ █<br>█ █   █ █  ©█     █ █<br>█ █ ███ █████ █████ █<br>█ █ █   █     █   █ █<br>█ █ █ ███ ███ █ █ █ █<br>█   █       █   █  F█<br>█████████████████████`;\n",
              "    </script>\n",
              "    "
            ]
          },
          "metadata": {}
        },
        {
          "output_type": "display_data",
          "data": {
            "text/plain": [
              "<IPython.core.display.HTML object>"
            ],
            "text/html": [
              "\n",
              "    <script>\n",
              "    document.getElementById('maze').innerHTML = `█████████████████████<br>█D  █     █         █<br>███ █ ███ █████ ███ █<br>█   █ █ █ █     █ █ █<br>█ ███ █ █ █©█████ █ █<br>█ █   █ █   █     █ █<br>█ █ ███ █████ █████ █<br>█ █ █   █     █   █ █<br>█ █ █ ███ ███ █ █ █ █<br>█   █       █   █  F█<br>█████████████████████`;\n",
              "    </script>\n",
              "    "
            ]
          },
          "metadata": {}
        },
        {
          "output_type": "display_data",
          "data": {
            "text/plain": [
              "<IPython.core.display.HTML object>"
            ],
            "text/html": [
              "\n",
              "    <script>\n",
              "    document.getElementById('maze').innerHTML = `█████████████████████<br>█D  █     █         █<br>███ █ ███ █████ ███ █<br>█   █ █ █ █©    █ █ █<br>█ ███ █ █ █ █████ █ █<br>█ █   █ █   █     █ █<br>█ █ ███ █████ █████ █<br>█ █ █   █     █   █ █<br>█ █ █ ███ ███ █ █ █ █<br>█   █       █   █  F█<br>█████████████████████`;\n",
              "    </script>\n",
              "    "
            ]
          },
          "metadata": {}
        },
        {
          "output_type": "display_data",
          "data": {
            "text/plain": [
              "<IPython.core.display.HTML object>"
            ],
            "text/html": [
              "\n",
              "    <script>\n",
              "    document.getElementById('maze').innerHTML = `█████████████████████<br>█D  █     █         █<br>███ █ ███ █████ ███ █<br>█   █ █ █ █ ©   █ █ █<br>█ ███ █ █ █ █████ █ █<br>█ █   █ █   █     █ █<br>█ █ ███ █████ █████ █<br>█ █ █   █     █   █ █<br>█ █ █ ███ ███ █ █ █ █<br>█   █       █   █  F█<br>█████████████████████`;\n",
              "    </script>\n",
              "    "
            ]
          },
          "metadata": {}
        },
        {
          "output_type": "display_data",
          "data": {
            "text/plain": [
              "<IPython.core.display.HTML object>"
            ],
            "text/html": [
              "\n",
              "    <script>\n",
              "    document.getElementById('maze').innerHTML = `█████████████████████<br>█D  █     █         █<br>███ █ ███ █████ ███ █<br>█   █ █ █ █  ©  █ █ █<br>█ ███ █ █ █ █████ █ █<br>█ █   █ █   █     █ █<br>█ █ ███ █████ █████ █<br>█ █ █   █     █   █ █<br>█ █ █ ███ ███ █ █ █ █<br>█   █       █   █  F█<br>█████████████████████`;\n",
              "    </script>\n",
              "    "
            ]
          },
          "metadata": {}
        },
        {
          "output_type": "display_data",
          "data": {
            "text/plain": [
              "<IPython.core.display.HTML object>"
            ],
            "text/html": [
              "\n",
              "    <script>\n",
              "    document.getElementById('maze').innerHTML = `█████████████████████<br>█D  █     █         █<br>███ █ ███ █████ ███ █<br>█   █ █ █ █   © █ █ █<br>█ ███ █ █ █ █████ █ █<br>█ █   █ █   █     █ █<br>█ █ ███ █████ █████ █<br>█ █ █   █     █   █ █<br>█ █ █ ███ ███ █ █ █ █<br>█   █       █   █  F█<br>█████████████████████`;\n",
              "    </script>\n",
              "    "
            ]
          },
          "metadata": {}
        },
        {
          "output_type": "display_data",
          "data": {
            "text/plain": [
              "<IPython.core.display.HTML object>"
            ],
            "text/html": [
              "\n",
              "    <script>\n",
              "    document.getElementById('maze').innerHTML = `█████████████████████<br>█D  █     █         █<br>███ █ ███ █████ ███ █<br>█   █ █ █ █    ©█ █ █<br>█ ███ █ █ █ █████ █ █<br>█ █   █ █   █     █ █<br>█ █ ███ █████ █████ █<br>█ █ █   █     █   █ █<br>█ █ █ ███ ███ █ █ █ █<br>█   █       █   █  F█<br>█████████████████████`;\n",
              "    </script>\n",
              "    "
            ]
          },
          "metadata": {}
        },
        {
          "output_type": "display_data",
          "data": {
            "text/plain": [
              "<IPython.core.display.HTML object>"
            ],
            "text/html": [
              "\n",
              "    <script>\n",
              "    document.getElementById('maze').innerHTML = `█████████████████████<br>█D  █     █         █<br>███ █ ███ █████©███ █<br>█   █ █ █ █     █ █ █<br>█ ███ █ █ █ █████ █ █<br>█ █   █ █   █     █ █<br>█ █ ███ █████ █████ █<br>█ █ █   █     █   █ █<br>█ █ █ ███ ███ █ █ █ █<br>█   █       █   █  F█<br>█████████████████████`;\n",
              "    </script>\n",
              "    "
            ]
          },
          "metadata": {}
        },
        {
          "output_type": "display_data",
          "data": {
            "text/plain": [
              "<IPython.core.display.HTML object>"
            ],
            "text/html": [
              "\n",
              "    <script>\n",
              "    document.getElementById('maze').innerHTML = `█████████████████████<br>█D  █     █    ©    █<br>███ █ ███ █████ ███ █<br>█   █ █ █ █     █ █ █<br>█ ███ █ █ █ █████ █ █<br>█ █   █ █   █     █ █<br>█ █ ███ █████ █████ █<br>█ █ █   █     █   █ █<br>█ █ █ ███ ███ █ █ █ █<br>█   █       █   █  F█<br>█████████████████████`;\n",
              "    </script>\n",
              "    "
            ]
          },
          "metadata": {}
        },
        {
          "output_type": "display_data",
          "data": {
            "text/plain": [
              "<IPython.core.display.HTML object>"
            ],
            "text/html": [
              "\n",
              "    <script>\n",
              "    document.getElementById('maze').innerHTML = `█████████████████████<br>█D  █     █   ©     █<br>███ █ ███ █████ ███ █<br>█   █ █ █ █     █ █ █<br>█ ███ █ █ █ █████ █ █<br>█ █   █ █   █     █ █<br>█ █ ███ █████ █████ █<br>█ █ █   █     █   █ █<br>█ █ █ ███ ███ █ █ █ █<br>█   █       █   █  F█<br>█████████████████████`;\n",
              "    </script>\n",
              "    "
            ]
          },
          "metadata": {}
        },
        {
          "output_type": "display_data",
          "data": {
            "text/plain": [
              "<IPython.core.display.HTML object>"
            ],
            "text/html": [
              "\n",
              "    <script>\n",
              "    document.getElementById('maze').innerHTML = `█████████████████████<br>█D  █     █     ©   █<br>███ █ ███ █████ ███ █<br>█   █ █ █ █     █ █ █<br>█ ███ █ █ █ █████ █ █<br>█ █   █ █   █     █ █<br>█ █ ███ █████ █████ █<br>█ █ █   █     █   █ █<br>█ █ █ ███ ███ █ █ █ █<br>█   █       █   █  F█<br>█████████████████████`;\n",
              "    </script>\n",
              "    "
            ]
          },
          "metadata": {}
        },
        {
          "output_type": "display_data",
          "data": {
            "text/plain": [
              "<IPython.core.display.HTML object>"
            ],
            "text/html": [
              "\n",
              "    <script>\n",
              "    document.getElementById('maze').innerHTML = `█████████████████████<br>█D  █     █  ©      █<br>███ █ ███ █████ ███ █<br>█   █ █ █ █     █ █ █<br>█ ███ █ █ █ █████ █ █<br>█ █   █ █   █     █ █<br>█ █ ███ █████ █████ █<br>█ █ █   █     █   █ █<br>█ █ █ ███ ███ █ █ █ █<br>█   █       █   █  F█<br>█████████████████████`;\n",
              "    </script>\n",
              "    "
            ]
          },
          "metadata": {}
        },
        {
          "output_type": "display_data",
          "data": {
            "text/plain": [
              "<IPython.core.display.HTML object>"
            ],
            "text/html": [
              "\n",
              "    <script>\n",
              "    document.getElementById('maze').innerHTML = `█████████████████████<br>█D  █     █      ©  █<br>███ █ ███ █████ ███ █<br>█   █ █ █ █     █ █ █<br>█ ███ █ █ █ █████ █ █<br>█ █   █ █   █     █ █<br>█ █ ███ █████ █████ █<br>█ █ █   █     █   █ █<br>█ █ █ ███ ███ █ █ █ █<br>█   █       █   █  F█<br>█████████████████████`;\n",
              "    </script>\n",
              "    "
            ]
          },
          "metadata": {}
        },
        {
          "output_type": "display_data",
          "data": {
            "text/plain": [
              "<IPython.core.display.HTML object>"
            ],
            "text/html": [
              "\n",
              "    <script>\n",
              "    document.getElementById('maze').innerHTML = `█████████████████████<br>█D  █     █ ©       █<br>███ █ ███ █████ ███ █<br>█   █ █ █ █     █ █ █<br>█ ███ █ █ █ █████ █ █<br>█ █   █ █   █     █ █<br>█ █ ███ █████ █████ █<br>█ █ █   █     █   █ █<br>█ █ █ ███ ███ █ █ █ █<br>█   █       █   █  F█<br>█████████████████████`;\n",
              "    </script>\n",
              "    "
            ]
          },
          "metadata": {}
        },
        {
          "output_type": "display_data",
          "data": {
            "text/plain": [
              "<IPython.core.display.HTML object>"
            ],
            "text/html": [
              "\n",
              "    <script>\n",
              "    document.getElementById('maze').innerHTML = `█████████████████████<br>█D  █     █       © █<br>███ █ ███ █████ ███ █<br>█   █ █ █ █     █ █ █<br>█ ███ █ █ █ █████ █ █<br>█ █   █ █   █     █ █<br>█ █ ███ █████ █████ █<br>█ █ █   █     █   █ █<br>█ █ █ ███ ███ █ █ █ █<br>█   █       █   █  F█<br>█████████████████████`;\n",
              "    </script>\n",
              "    "
            ]
          },
          "metadata": {}
        },
        {
          "output_type": "display_data",
          "data": {
            "text/plain": [
              "<IPython.core.display.HTML object>"
            ],
            "text/html": [
              "\n",
              "    <script>\n",
              "    document.getElementById('maze').innerHTML = `█████████████████████<br>█D  █     █©        █<br>███ █ ███ █████ ███ █<br>█   █ █ █ █     █ █ █<br>█ ███ █ █ █ █████ █ █<br>█ █   █ █   █     █ █<br>█ █ ███ █████ █████ █<br>█ █ █   █     █   █ █<br>█ █ █ ███ ███ █ █ █ █<br>█   █       █   █  F█<br>█████████████████████`;\n",
              "    </script>\n",
              "    "
            ]
          },
          "metadata": {}
        },
        {
          "output_type": "display_data",
          "data": {
            "text/plain": [
              "<IPython.core.display.HTML object>"
            ],
            "text/html": [
              "\n",
              "    <script>\n",
              "    document.getElementById('maze').innerHTML = `█████████████████████<br>█D  █     █        ©█<br>███ █ ███ █████ ███ █<br>█   █ █ █ █     █ █ █<br>█ ███ █ █ █ █████ █ █<br>█ █   █ █   █     █ █<br>█ █ ███ █████ █████ █<br>█ █ █   █     █   █ █<br>█ █ █ ███ ███ █ █ █ █<br>█   █       █   █  F█<br>█████████████████████`;\n",
              "    </script>\n",
              "    "
            ]
          },
          "metadata": {}
        },
        {
          "output_type": "display_data",
          "data": {
            "text/plain": [
              "<IPython.core.display.HTML object>"
            ],
            "text/html": [
              "\n",
              "    <script>\n",
              "    document.getElementById('maze').innerHTML = `█████████████████████<br>█D  █     █         █<br>███ █ ███ █████ ███©█<br>█   █ █ █ █     █ █ █<br>█ ███ █ █ █ █████ █ █<br>█ █   █ █   █     █ █<br>█ █ ███ █████ █████ █<br>█ █ █   █     █   █ █<br>█ █ █ ███ ███ █ █ █ █<br>█   █       █   █  F█<br>█████████████████████`;\n",
              "    </script>\n",
              "    "
            ]
          },
          "metadata": {}
        },
        {
          "output_type": "display_data",
          "data": {
            "text/plain": [
              "<IPython.core.display.HTML object>"
            ],
            "text/html": [
              "\n",
              "    <script>\n",
              "    document.getElementById('maze').innerHTML = `█████████████████████<br>█D  █     █         █<br>███ █ ███ █████ ███ █<br>█   █ █ █ █     █ █©█<br>█ ███ █ █ █ █████ █ █<br>█ █   █ █   █     █ █<br>█ █ ███ █████ █████ █<br>█ █ █   █     █   █ █<br>█ █ █ ███ ███ █ █ █ █<br>█   █       █   █  F█<br>█████████████████████`;\n",
              "    </script>\n",
              "    "
            ]
          },
          "metadata": {}
        },
        {
          "output_type": "display_data",
          "data": {
            "text/plain": [
              "<IPython.core.display.HTML object>"
            ],
            "text/html": [
              "\n",
              "    <script>\n",
              "    document.getElementById('maze').innerHTML = `█████████████████████<br>█D  █     █         █<br>███ █ ███ █████ ███ █<br>█   █ █ █ █     █ █ █<br>█ ███ █ █ █ █████ █©█<br>█ █   █ █   █     █ █<br>█ █ ███ █████ █████ █<br>█ █ █   █     █   █ █<br>█ █ █ ███ ███ █ █ █ █<br>█   █       █   █  F█<br>█████████████████████`;\n",
              "    </script>\n",
              "    "
            ]
          },
          "metadata": {}
        },
        {
          "output_type": "display_data",
          "data": {
            "text/plain": [
              "<IPython.core.display.HTML object>"
            ],
            "text/html": [
              "\n",
              "    <script>\n",
              "    document.getElementById('maze').innerHTML = `█████████████████████<br>█D  █     █         █<br>███ █ ███ █████ ███ █<br>█   █ █ █ █     █ █ █<br>█ ███ █ █ █ █████ █ █<br>█ █   █ █   █     █©█<br>█ █ ███ █████ █████ █<br>█ █ █   █     █   █ █<br>█ █ █ ███ ███ █ █ █ █<br>█   █       █   █  F█<br>█████████████████████`;\n",
              "    </script>\n",
              "    "
            ]
          },
          "metadata": {}
        },
        {
          "output_type": "display_data",
          "data": {
            "text/plain": [
              "<IPython.core.display.HTML object>"
            ],
            "text/html": [
              "\n",
              "    <script>\n",
              "    document.getElementById('maze').innerHTML = `█████████████████████<br>█D  █     █         █<br>███ █ ███ █████ ███ █<br>█   █ █ █ █     █ █ █<br>█ ███ █ █ █ █████ █ █<br>█ █   █ █   █     █ █<br>█ █ ███ █████ █████©█<br>█ █ █   █     █   █ █<br>█ █ █ ███ ███ █ █ █ █<br>█   █       █   █  F█<br>█████████████████████`;\n",
              "    </script>\n",
              "    "
            ]
          },
          "metadata": {}
        },
        {
          "output_type": "display_data",
          "data": {
            "text/plain": [
              "<IPython.core.display.HTML object>"
            ],
            "text/html": [
              "\n",
              "    <script>\n",
              "    document.getElementById('maze').innerHTML = `█████████████████████<br>█D  █     █         █<br>███ █ ███ █████ ███ █<br>█   █ █ █ █     █ █ █<br>█ ███ █ █ █ █████ █ █<br>█ █   █ █   █     █ █<br>█ █ ███ █████ █████ █<br>█ █ █   █     █   █©█<br>█ █ █ ███ ███ █ █ █ █<br>█   █       █   █  F█<br>█████████████████████`;\n",
              "    </script>\n",
              "    "
            ]
          },
          "metadata": {}
        },
        {
          "output_type": "display_data",
          "data": {
            "text/plain": [
              "<IPython.core.display.HTML object>"
            ],
            "text/html": [
              "\n",
              "    <script>\n",
              "    document.getElementById('maze').innerHTML = `█████████████████████<br>█D  █     █         █<br>███ █ ███ █████ ███ █<br>█   █ █ █ █     █ █ █<br>█ ███ █ █ █ █████ █ █<br>█ █   █ █   █     █ █<br>█ █ ███ █████ █████ █<br>█ █ █   █     █   █ █<br>█ █ █ ███ ███ █ █ █©█<br>█   █       █   █  F█<br>█████████████████████`;\n",
              "    </script>\n",
              "    "
            ]
          },
          "metadata": {}
        },
        {
          "output_type": "display_data",
          "data": {
            "text/plain": [
              "<IPython.core.display.HTML object>"
            ],
            "text/html": [
              "\n",
              "    <script>\n",
              "    document.getElementById('maze').innerHTML = `█████████████████████<br>█D  █     █         █<br>███ █ ███ █████ ███ █<br>█   █ █ █ █     █ █ █<br>█ ███ █ █ █ █████ █ █<br>█ █   █ █   █     █ █<br>█ █ ███ █████ █████ █<br>█ █ █   █     █   █ █<br>█ █ █ ███ ███ █ █ █ █<br>█   █       █   █  ©█<br>█████████████████████`;\n",
              "    </script>\n",
              "    "
            ]
          },
          "metadata": {}
        },
        {
          "output_type": "display_data",
          "data": {
            "text/plain": [
              "<IPython.core.display.HTML object>"
            ],
            "text/html": [
              "\n",
              "    <script>\n",
              "    document.getElementById('maze').innerHTML = `█████████████████████<br>█D  █     █         █<br>███ █ ███ █████ ███ █<br>█   █ █ █ █     █ █ █<br>█ ███ █ █ █ █████ █ █<br>█ █   █ █   █     █ █<br>█ █ ███ █████ █████ █<br>█ █ █   █     █   █ █<br>█ █ █ ███ ███ █ █ █·█<br>█   █       █   █  F█<br>█████████████████████`;\n",
              "    </script>\n",
              "    "
            ]
          },
          "metadata": {}
        },
        {
          "output_type": "display_data",
          "data": {
            "text/plain": [
              "<IPython.core.display.HTML object>"
            ],
            "text/html": [
              "\n",
              "    <script>\n",
              "    document.getElementById('maze').innerHTML = `█████████████████████<br>█D  █     █         █<br>███ █ ███ █████ ███ █<br>█   █ █ █ █     █ █ █<br>█ ███ █ █ █ █████ █ █<br>█ █   █ █   █     █ █<br>█ █ ███ █████ █████ █<br>█ █ █   █     █   █·█<br>█ █ █ ███ ███ █ █ █·█<br>█   █       █   █  F█<br>█████████████████████`;\n",
              "    </script>\n",
              "    "
            ]
          },
          "metadata": {}
        },
        {
          "output_type": "display_data",
          "data": {
            "text/plain": [
              "<IPython.core.display.HTML object>"
            ],
            "text/html": [
              "\n",
              "    <script>\n",
              "    document.getElementById('maze').innerHTML = `█████████████████████<br>█D  █     █         █<br>███ █ ███ █████ ███ █<br>█   █ █ █ █     █ █ █<br>█ ███ █ █ █ █████ █ █<br>█ █   █ █   █     █ █<br>█ █ ███ █████ █████·█<br>█ █ █   █     █   █·█<br>█ █ █ ███ ███ █ █ █·█<br>█   █       █   █  F█<br>█████████████████████`;\n",
              "    </script>\n",
              "    "
            ]
          },
          "metadata": {}
        },
        {
          "output_type": "display_data",
          "data": {
            "text/plain": [
              "<IPython.core.display.HTML object>"
            ],
            "text/html": [
              "\n",
              "    <script>\n",
              "    document.getElementById('maze').innerHTML = `█████████████████████<br>█D  █     █         █<br>███ █ ███ █████ ███ █<br>█   █ █ █ █     █ █ █<br>█ ███ █ █ █ █████ █ █<br>█ █   █ █   █     █·█<br>█ █ ███ █████ █████·█<br>█ █ █   █     █   █·█<br>█ █ █ ███ ███ █ █ █·█<br>█   █       █   █  F█<br>█████████████████████`;\n",
              "    </script>\n",
              "    "
            ]
          },
          "metadata": {}
        },
        {
          "output_type": "display_data",
          "data": {
            "text/plain": [
              "<IPython.core.display.HTML object>"
            ],
            "text/html": [
              "\n",
              "    <script>\n",
              "    document.getElementById('maze').innerHTML = `█████████████████████<br>█D  █     █         █<br>███ █ ███ █████ ███ █<br>█   █ █ █ █     █ █ █<br>█ ███ █ █ █ █████ █·█<br>█ █   █ █   █     █·█<br>█ █ ███ █████ █████·█<br>█ █ █   █     █   █·█<br>█ █ █ ███ ███ █ █ █·█<br>█   █       █   █  F█<br>█████████████████████`;\n",
              "    </script>\n",
              "    "
            ]
          },
          "metadata": {}
        },
        {
          "output_type": "display_data",
          "data": {
            "text/plain": [
              "<IPython.core.display.HTML object>"
            ],
            "text/html": [
              "\n",
              "    <script>\n",
              "    document.getElementById('maze').innerHTML = `█████████████████████<br>█D  █     █         █<br>███ █ ███ █████ ███ █<br>█   █ █ █ █     █ █·█<br>█ ███ █ █ █ █████ █·█<br>█ █   █ █   █     █·█<br>█ █ ███ █████ █████·█<br>█ █ █   █     █   █·█<br>█ █ █ ███ ███ █ █ █·█<br>█   █       █   █  F█<br>█████████████████████`;\n",
              "    </script>\n",
              "    "
            ]
          },
          "metadata": {}
        },
        {
          "output_type": "display_data",
          "data": {
            "text/plain": [
              "<IPython.core.display.HTML object>"
            ],
            "text/html": [
              "\n",
              "    <script>\n",
              "    document.getElementById('maze').innerHTML = `█████████████████████<br>█D  █     █         █<br>███ █ ███ █████ ███·█<br>█   █ █ █ █     █ █·█<br>█ ███ █ █ █ █████ █·█<br>█ █   █ █   █     █·█<br>█ █ ███ █████ █████·█<br>█ █ █   █     █   █·█<br>█ █ █ ███ ███ █ █ █·█<br>█   █       █   █  F█<br>█████████████████████`;\n",
              "    </script>\n",
              "    "
            ]
          },
          "metadata": {}
        },
        {
          "output_type": "display_data",
          "data": {
            "text/plain": [
              "<IPython.core.display.HTML object>"
            ],
            "text/html": [
              "\n",
              "    <script>\n",
              "    document.getElementById('maze').innerHTML = `█████████████████████<br>█D  █     █        ·█<br>███ █ ███ █████ ███·█<br>█   █ █ █ █     █ █·█<br>█ ███ █ █ █ █████ █·█<br>█ █   █ █   █     █·█<br>█ █ ███ █████ █████·█<br>█ █ █   █     █   █·█<br>█ █ █ ███ ███ █ █ █·█<br>█   █       █   █  F█<br>█████████████████████`;\n",
              "    </script>\n",
              "    "
            ]
          },
          "metadata": {}
        },
        {
          "output_type": "display_data",
          "data": {
            "text/plain": [
              "<IPython.core.display.HTML object>"
            ],
            "text/html": [
              "\n",
              "    <script>\n",
              "    document.getElementById('maze').innerHTML = `█████████████████████<br>█D  █     █       ··█<br>███ █ ███ █████ ███·█<br>█   █ █ █ █     █ █·█<br>█ ███ █ █ █ █████ █·█<br>█ █   █ █   █     █·█<br>█ █ ███ █████ █████·█<br>█ █ █   █     █   █·█<br>█ █ █ ███ ███ █ █ █·█<br>█   █       █   █  F█<br>█████████████████████`;\n",
              "    </script>\n",
              "    "
            ]
          },
          "metadata": {}
        },
        {
          "output_type": "display_data",
          "data": {
            "text/plain": [
              "<IPython.core.display.HTML object>"
            ],
            "text/html": [
              "\n",
              "    <script>\n",
              "    document.getElementById('maze').innerHTML = `█████████████████████<br>█D  █     █      ···█<br>███ █ ███ █████ ███·█<br>█   █ █ █ █     █ █·█<br>█ ███ █ █ █ █████ █·█<br>█ █   █ █   █     █·█<br>█ █ ███ █████ █████·█<br>█ █ █   █     █   █·█<br>█ █ █ ███ ███ █ █ █·█<br>█   █       █   █  F█<br>█████████████████████`;\n",
              "    </script>\n",
              "    "
            ]
          },
          "metadata": {}
        },
        {
          "output_type": "display_data",
          "data": {
            "text/plain": [
              "<IPython.core.display.HTML object>"
            ],
            "text/html": [
              "\n",
              "    <script>\n",
              "    document.getElementById('maze').innerHTML = `█████████████████████<br>█D  █     █     ····█<br>███ █ ███ █████ ███·█<br>█   █ █ █ █     █ █·█<br>█ ███ █ █ █ █████ █·█<br>█ █   █ █   █     █·█<br>█ █ ███ █████ █████·█<br>█ █ █   █     █   █·█<br>█ █ █ ███ ███ █ █ █·█<br>█   █       █   █  F█<br>█████████████████████`;\n",
              "    </script>\n",
              "    "
            ]
          },
          "metadata": {}
        },
        {
          "output_type": "display_data",
          "data": {
            "text/plain": [
              "<IPython.core.display.HTML object>"
            ],
            "text/html": [
              "\n",
              "    <script>\n",
              "    document.getElementById('maze').innerHTML = `█████████████████████<br>█D  █     █    ·····█<br>███ █ ███ █████ ███·█<br>█   █ █ █ █     █ █·█<br>█ ███ █ █ █ █████ █·█<br>█ █   █ █   █     █·█<br>█ █ ███ █████ █████·█<br>█ █ █   █     █   █·█<br>█ █ █ ███ ███ █ █ █·█<br>█   █       █   █  F█<br>█████████████████████`;\n",
              "    </script>\n",
              "    "
            ]
          },
          "metadata": {}
        },
        {
          "output_type": "display_data",
          "data": {
            "text/plain": [
              "<IPython.core.display.HTML object>"
            ],
            "text/html": [
              "\n",
              "    <script>\n",
              "    document.getElementById('maze').innerHTML = `█████████████████████<br>█D  █     █    ·····█<br>███ █ ███ █████·███·█<br>█   █ █ █ █     █ █·█<br>█ ███ █ █ █ █████ █·█<br>█ █   █ █   █     █·█<br>█ █ ███ █████ █████·█<br>█ █ █   █     █   █·█<br>█ █ █ ███ ███ █ █ █·█<br>█   █       █   █  F█<br>█████████████████████`;\n",
              "    </script>\n",
              "    "
            ]
          },
          "metadata": {}
        },
        {
          "output_type": "display_data",
          "data": {
            "text/plain": [
              "<IPython.core.display.HTML object>"
            ],
            "text/html": [
              "\n",
              "    <script>\n",
              "    document.getElementById('maze').innerHTML = `█████████████████████<br>█D  █     █    ·····█<br>███ █ ███ █████·███·█<br>█   █ █ █ █    ·█ █·█<br>█ ███ █ █ █ █████ █·█<br>█ █   █ █   █     █·█<br>█ █ ███ █████ █████·█<br>█ █ █   █     █   █·█<br>█ █ █ ███ ███ █ █ █·█<br>█   █       █   █  F█<br>█████████████████████`;\n",
              "    </script>\n",
              "    "
            ]
          },
          "metadata": {}
        },
        {
          "output_type": "display_data",
          "data": {
            "text/plain": [
              "<IPython.core.display.HTML object>"
            ],
            "text/html": [
              "\n",
              "    <script>\n",
              "    document.getElementById('maze').innerHTML = `█████████████████████<br>█D  █     █    ·····█<br>███ █ ███ █████·███·█<br>█   █ █ █ █   ··█ █·█<br>█ ███ █ █ █ █████ █·█<br>█ █   █ █   █     █·█<br>█ █ ███ █████ █████·█<br>█ █ █   █     █   █·█<br>█ █ █ ███ ███ █ █ █·█<br>█   █       █   █  F█<br>█████████████████████`;\n",
              "    </script>\n",
              "    "
            ]
          },
          "metadata": {}
        },
        {
          "output_type": "display_data",
          "data": {
            "text/plain": [
              "<IPython.core.display.HTML object>"
            ],
            "text/html": [
              "\n",
              "    <script>\n",
              "    document.getElementById('maze').innerHTML = `█████████████████████<br>█D  █     █    ·····█<br>███ █ ███ █████·███·█<br>█   █ █ █ █  ···█ █·█<br>█ ███ █ █ █ █████ █·█<br>█ █   █ █   █     █·█<br>█ █ ███ █████ █████·█<br>█ █ █   █     █   █·█<br>█ █ █ ███ ███ █ █ █·█<br>█   █       █   █  F█<br>█████████████████████`;\n",
              "    </script>\n",
              "    "
            ]
          },
          "metadata": {}
        },
        {
          "output_type": "display_data",
          "data": {
            "text/plain": [
              "<IPython.core.display.HTML object>"
            ],
            "text/html": [
              "\n",
              "    <script>\n",
              "    document.getElementById('maze').innerHTML = `█████████████████████<br>█D  █     █    ·····█<br>███ █ ███ █████·███·█<br>█   █ █ █ █ ····█ █·█<br>█ ███ █ █ █ █████ █·█<br>█ █   █ █   █     █·█<br>█ █ ███ █████ █████·█<br>█ █ █   █     █   █·█<br>█ █ █ ███ ███ █ █ █·█<br>█   █       █   █  F█<br>█████████████████████`;\n",
              "    </script>\n",
              "    "
            ]
          },
          "metadata": {}
        },
        {
          "output_type": "display_data",
          "data": {
            "text/plain": [
              "<IPython.core.display.HTML object>"
            ],
            "text/html": [
              "\n",
              "    <script>\n",
              "    document.getElementById('maze').innerHTML = `█████████████████████<br>█D  █     █    ·····█<br>███ █ ███ █████·███·█<br>█   █ █ █ █·····█ █·█<br>█ ███ █ █ █ █████ █·█<br>█ █   █ █   █     █·█<br>█ █ ███ █████ █████·█<br>█ █ █   █     █   █·█<br>█ █ █ ███ ███ █ █ █·█<br>█   █       █   █  F█<br>█████████████████████`;\n",
              "    </script>\n",
              "    "
            ]
          },
          "metadata": {}
        },
        {
          "output_type": "display_data",
          "data": {
            "text/plain": [
              "<IPython.core.display.HTML object>"
            ],
            "text/html": [
              "\n",
              "    <script>\n",
              "    document.getElementById('maze').innerHTML = `█████████████████████<br>█D  █     █    ·····█<br>███ █ ███ █████·███·█<br>█   █ █ █ █·····█ █·█<br>█ ███ █ █ █·█████ █·█<br>█ █   █ █   █     █·█<br>█ █ ███ █████ █████·█<br>█ █ █   █     █   █·█<br>█ █ █ ███ ███ █ █ █·█<br>█   █       █   █  F█<br>█████████████████████`;\n",
              "    </script>\n",
              "    "
            ]
          },
          "metadata": {}
        },
        {
          "output_type": "display_data",
          "data": {
            "text/plain": [
              "<IPython.core.display.HTML object>"
            ],
            "text/html": [
              "\n",
              "    <script>\n",
              "    document.getElementById('maze').innerHTML = `█████████████████████<br>█D  █     █    ·····█<br>███ █ ███ █████·███·█<br>█   █ █ █ █·····█ █·█<br>█ ███ █ █ █·█████ █·█<br>█ █   █ █  ·█     █·█<br>█ █ ███ █████ █████·█<br>█ █ █   █     █   █·█<br>█ █ █ ███ ███ █ █ █·█<br>█   █       █   █  F█<br>█████████████████████`;\n",
              "    </script>\n",
              "    "
            ]
          },
          "metadata": {}
        },
        {
          "output_type": "display_data",
          "data": {
            "text/plain": [
              "<IPython.core.display.HTML object>"
            ],
            "text/html": [
              "\n",
              "    <script>\n",
              "    document.getElementById('maze').innerHTML = `█████████████████████<br>█D  █     █    ·····█<br>███ █ ███ █████·███·█<br>█   █ █ █ █·····█ █·█<br>█ ███ █ █ █·█████ █·█<br>█ █   █ █ ··█     █·█<br>█ █ ███ █████ █████·█<br>█ █ █   █     █   █·█<br>█ █ █ ███ ███ █ █ █·█<br>█   █       █   █  F█<br>█████████████████████`;\n",
              "    </script>\n",
              "    "
            ]
          },
          "metadata": {}
        },
        {
          "output_type": "display_data",
          "data": {
            "text/plain": [
              "<IPython.core.display.HTML object>"
            ],
            "text/html": [
              "\n",
              "    <script>\n",
              "    document.getElementById('maze').innerHTML = `█████████████████████<br>█D  █     █    ·····█<br>███ █ ███ █████·███·█<br>█   █ █ █ █·····█ █·█<br>█ ███ █ █ █·█████ █·█<br>█ █   █ █···█     █·█<br>█ █ ███ █████ █████·█<br>█ █ █   █     █   █·█<br>█ █ █ ███ ███ █ █ █·█<br>█   █       █   █  F█<br>█████████████████████`;\n",
              "    </script>\n",
              "    "
            ]
          },
          "metadata": {}
        },
        {
          "output_type": "display_data",
          "data": {
            "text/plain": [
              "<IPython.core.display.HTML object>"
            ],
            "text/html": [
              "\n",
              "    <script>\n",
              "    document.getElementById('maze').innerHTML = `█████████████████████<br>█D  █     █    ·····█<br>███ █ ███ █████·███·█<br>█   █ █ █ █·····█ █·█<br>█ ███ █ █·█·█████ █·█<br>█ █   █ █···█     █·█<br>█ █ ███ █████ █████·█<br>█ █ █   █     █   █·█<br>█ █ █ ███ ███ █ █ █·█<br>█   █       █   █  F█<br>█████████████████████`;\n",
              "    </script>\n",
              "    "
            ]
          },
          "metadata": {}
        },
        {
          "output_type": "display_data",
          "data": {
            "text/plain": [
              "<IPython.core.display.HTML object>"
            ],
            "text/html": [
              "\n",
              "    <script>\n",
              "    document.getElementById('maze').innerHTML = `█████████████████████<br>█D  █     █    ·····█<br>███ █ ███ █████·███·█<br>█   █ █ █·█·····█ █·█<br>█ ███ █ █·█·█████ █·█<br>█ █   █ █···█     █·█<br>█ █ ███ █████ █████·█<br>█ █ █   █     █   █·█<br>█ █ █ ███ ███ █ █ █·█<br>█   █       █   █  F█<br>█████████████████████`;\n",
              "    </script>\n",
              "    "
            ]
          },
          "metadata": {}
        },
        {
          "output_type": "display_data",
          "data": {
            "text/plain": [
              "<IPython.core.display.HTML object>"
            ],
            "text/html": [
              "\n",
              "    <script>\n",
              "    document.getElementById('maze').innerHTML = `█████████████████████<br>█D  █     █    ·····█<br>███ █ ███·█████·███·█<br>█   █ █ █·█·····█ █·█<br>█ ███ █ █·█·█████ █·█<br>█ █   █ █···█     █·█<br>█ █ ███ █████ █████·█<br>█ █ █   █     █   █·█<br>█ █ █ ███ ███ █ █ █·█<br>█   █       █   █  F█<br>█████████████████████`;\n",
              "    </script>\n",
              "    "
            ]
          },
          "metadata": {}
        },
        {
          "output_type": "display_data",
          "data": {
            "text/plain": [
              "<IPython.core.display.HTML object>"
            ],
            "text/html": [
              "\n",
              "    <script>\n",
              "    document.getElementById('maze').innerHTML = `█████████████████████<br>█D  █    ·█    ·····█<br>███ █ ███·█████·███·█<br>█   █ █ █·█·····█ █·█<br>█ ███ █ █·█·█████ █·█<br>█ █   █ █···█     █·█<br>█ █ ███ █████ █████·█<br>█ █ █   █     █   █·█<br>█ █ █ ███ ███ █ █ █·█<br>█   █       █   █  F█<br>█████████████████████`;\n",
              "    </script>\n",
              "    "
            ]
          },
          "metadata": {}
        },
        {
          "output_type": "display_data",
          "data": {
            "text/plain": [
              "<IPython.core.display.HTML object>"
            ],
            "text/html": [
              "\n",
              "    <script>\n",
              "    document.getElementById('maze').innerHTML = `█████████████████████<br>█D  █   ··█    ·····█<br>███ █ ███·█████·███·█<br>█   █ █ █·█·····█ █·█<br>█ ███ █ █·█·█████ █·█<br>█ █   █ █···█     █·█<br>█ █ ███ █████ █████·█<br>█ █ █   █     █   █·█<br>█ █ █ ███ ███ █ █ █·█<br>█   █       █   █  F█<br>█████████████████████`;\n",
              "    </script>\n",
              "    "
            ]
          },
          "metadata": {}
        },
        {
          "output_type": "display_data",
          "data": {
            "text/plain": [
              "<IPython.core.display.HTML object>"
            ],
            "text/html": [
              "\n",
              "    <script>\n",
              "    document.getElementById('maze').innerHTML = `█████████████████████<br>█D  █  ···█    ·····█<br>███ █ ███·█████·███·█<br>█   █ █ █·█·····█ █·█<br>█ ███ █ █·█·█████ █·█<br>█ █   █ █···█     █·█<br>█ █ ███ █████ █████·█<br>█ █ █   █     █   █·█<br>█ █ █ ███ ███ █ █ █·█<br>█   █       █   █  F█<br>█████████████████████`;\n",
              "    </script>\n",
              "    "
            ]
          },
          "metadata": {}
        },
        {
          "output_type": "display_data",
          "data": {
            "text/plain": [
              "<IPython.core.display.HTML object>"
            ],
            "text/html": [
              "\n",
              "    <script>\n",
              "    document.getElementById('maze').innerHTML = `█████████████████████<br>█D  █ ····█    ·····█<br>███ █ ███·█████·███·█<br>█   █ █ █·█·····█ █·█<br>█ ███ █ █·█·█████ █·█<br>█ █   █ █···█     █·█<br>█ █ ███ █████ █████·█<br>█ █ █   █     █   █·█<br>█ █ █ ███ ███ █ █ █·█<br>█   █       █   █  F█<br>█████████████████████`;\n",
              "    </script>\n",
              "    "
            ]
          },
          "metadata": {}
        },
        {
          "output_type": "display_data",
          "data": {
            "text/plain": [
              "<IPython.core.display.HTML object>"
            ],
            "text/html": [
              "\n",
              "    <script>\n",
              "    document.getElementById('maze').innerHTML = `█████████████████████<br>█D  █·····█    ·····█<br>███ █ ███·█████·███·█<br>█   █ █ █·█·····█ █·█<br>█ ███ █ █·█·█████ █·█<br>█ █   █ █···█     █·█<br>█ █ ███ █████ █████·█<br>█ █ █   █     █   █·█<br>█ █ █ ███ ███ █ █ █·█<br>█   █       █   █  F█<br>█████████████████████`;\n",
              "    </script>\n",
              "    "
            ]
          },
          "metadata": {}
        },
        {
          "output_type": "display_data",
          "data": {
            "text/plain": [
              "<IPython.core.display.HTML object>"
            ],
            "text/html": [
              "\n",
              "    <script>\n",
              "    document.getElementById('maze').innerHTML = `█████████████████████<br>█D  █·····█    ·····█<br>███ █·███·█████·███·█<br>█   █ █ █·█·····█ █·█<br>█ ███ █ █·█·█████ █·█<br>█ █   █ █···█     █·█<br>█ █ ███ █████ █████·█<br>█ █ █   █     █   █·█<br>█ █ █ ███ ███ █ █ █·█<br>█   █       █   █  F█<br>█████████████████████`;\n",
              "    </script>\n",
              "    "
            ]
          },
          "metadata": {}
        },
        {
          "output_type": "display_data",
          "data": {
            "text/plain": [
              "<IPython.core.display.HTML object>"
            ],
            "text/html": [
              "\n",
              "    <script>\n",
              "    document.getElementById('maze').innerHTML = `█████████████████████<br>█D  █·····█    ·····█<br>███ █·███·█████·███·█<br>█   █·█ █·█·····█ █·█<br>█ ███ █ █·█·█████ █·█<br>█ █   █ █···█     █·█<br>█ █ ███ █████ █████·█<br>█ █ █   █     █   █·█<br>█ █ █ ███ ███ █ █ █·█<br>█   █       █   █  F█<br>█████████████████████`;\n",
              "    </script>\n",
              "    "
            ]
          },
          "metadata": {}
        },
        {
          "output_type": "display_data",
          "data": {
            "text/plain": [
              "<IPython.core.display.HTML object>"
            ],
            "text/html": [
              "\n",
              "    <script>\n",
              "    document.getElementById('maze').innerHTML = `█████████████████████<br>█D  █·····█    ·····█<br>███ █·███·█████·███·█<br>█   █·█ █·█·····█ █·█<br>█ ███·█ █·█·█████ █·█<br>█ █   █ █···█     █·█<br>█ █ ███ █████ █████·█<br>█ █ █   █     █   █·█<br>█ █ █ ███ ███ █ █ █·█<br>█   █       █   █  F█<br>█████████████████████`;\n",
              "    </script>\n",
              "    "
            ]
          },
          "metadata": {}
        },
        {
          "output_type": "display_data",
          "data": {
            "text/plain": [
              "<IPython.core.display.HTML object>"
            ],
            "text/html": [
              "\n",
              "    <script>\n",
              "    document.getElementById('maze').innerHTML = `█████████████████████<br>█D  █·····█    ·····█<br>███ █·███·█████·███·█<br>█   █·█ █·█·····█ █·█<br>█ ███·█ █·█·█████ █·█<br>█ █  ·█ █···█     █·█<br>█ █ ███ █████ █████·█<br>█ █ █   █     █   █·█<br>█ █ █ ███ ███ █ █ █·█<br>█   █       █   █  F█<br>█████████████████████`;\n",
              "    </script>\n",
              "    "
            ]
          },
          "metadata": {}
        },
        {
          "output_type": "display_data",
          "data": {
            "text/plain": [
              "<IPython.core.display.HTML object>"
            ],
            "text/html": [
              "\n",
              "    <script>\n",
              "    document.getElementById('maze').innerHTML = `█████████████████████<br>█D  █·····█    ·····█<br>███ █·███·█████·███·█<br>█   █·█ █·█·····█ █·█<br>█ ███·█ █·█·█████ █·█<br>█ █ ··█ █···█     █·█<br>█ █ ███ █████ █████·█<br>█ █ █   █     █   █·█<br>█ █ █ ███ ███ █ █ █·█<br>█   █       █   █  F█<br>█████████████████████`;\n",
              "    </script>\n",
              "    "
            ]
          },
          "metadata": {}
        },
        {
          "output_type": "display_data",
          "data": {
            "text/plain": [
              "<IPython.core.display.HTML object>"
            ],
            "text/html": [
              "\n",
              "    <script>\n",
              "    document.getElementById('maze').innerHTML = `█████████████████████<br>█D  █·····█    ·····█<br>███ █·███·█████·███·█<br>█   █·█ █·█·····█ █·█<br>█ ███·█ █·█·█████ █·█<br>█ █···█ █···█     █·█<br>█ █ ███ █████ █████·█<br>█ █ █   █     █   █·█<br>█ █ █ ███ ███ █ █ █·█<br>█   █       █   █  F█<br>█████████████████████`;\n",
              "    </script>\n",
              "    "
            ]
          },
          "metadata": {}
        },
        {
          "output_type": "display_data",
          "data": {
            "text/plain": [
              "<IPython.core.display.HTML object>"
            ],
            "text/html": [
              "\n",
              "    <script>\n",
              "    document.getElementById('maze').innerHTML = `█████████████████████<br>█D  █·····█    ·····█<br>███ █·███·█████·███·█<br>█   █·█ █·█·····█ █·█<br>█ ███·█ █·█·█████ █·█<br>█ █···█ █···█     █·█<br>█ █·███ █████ █████·█<br>█ █ █   █     █   █·█<br>█ █ █ ███ ███ █ █ █·█<br>█   █       █   █  F█<br>█████████████████████`;\n",
              "    </script>\n",
              "    "
            ]
          },
          "metadata": {}
        },
        {
          "output_type": "display_data",
          "data": {
            "text/plain": [
              "<IPython.core.display.HTML object>"
            ],
            "text/html": [
              "\n",
              "    <script>\n",
              "    document.getElementById('maze').innerHTML = `█████████████████████<br>█D  █·····█    ·····█<br>███ █·███·█████·███·█<br>█   █·█ █·█·····█ █·█<br>█ ███·█ █·█·█████ █·█<br>█ █···█ █···█     █·█<br>█ █·███ █████ █████·█<br>█ █·█   █     █   █·█<br>█ █ █ ███ ███ █ █ █·█<br>█   █       █   █  F█<br>█████████████████████`;\n",
              "    </script>\n",
              "    "
            ]
          },
          "metadata": {}
        },
        {
          "output_type": "display_data",
          "data": {
            "text/plain": [
              "<IPython.core.display.HTML object>"
            ],
            "text/html": [
              "\n",
              "    <script>\n",
              "    document.getElementById('maze').innerHTML = `█████████████████████<br>█D  █·····█    ·····█<br>███ █·███·█████·███·█<br>█   █·█ █·█·····█ █·█<br>█ ███·█ █·█·█████ █·█<br>█ █···█ █···█     █·█<br>█ █·███ █████ █████·█<br>█ █·█   █     █   █·█<br>█ █·█ ███ ███ █ █ █·█<br>█   █       █   █  F█<br>█████████████████████`;\n",
              "    </script>\n",
              "    "
            ]
          },
          "metadata": {}
        },
        {
          "output_type": "display_data",
          "data": {
            "text/plain": [
              "<IPython.core.display.HTML object>"
            ],
            "text/html": [
              "\n",
              "    <script>\n",
              "    document.getElementById('maze').innerHTML = `█████████████████████<br>█D  █·····█    ·····█<br>███ █·███·█████·███·█<br>█   █·█ █·█·····█ █·█<br>█ ███·█ █·█·█████ █·█<br>█ █···█ █···█     █·█<br>█ █·███ █████ █████·█<br>█ █·█   █     █   █·█<br>█ █·█ ███ ███ █ █ █·█<br>█  ·█       █   █  F█<br>█████████████████████`;\n",
              "    </script>\n",
              "    "
            ]
          },
          "metadata": {}
        },
        {
          "output_type": "display_data",
          "data": {
            "text/plain": [
              "<IPython.core.display.HTML object>"
            ],
            "text/html": [
              "\n",
              "    <script>\n",
              "    document.getElementById('maze').innerHTML = `█████████████████████<br>█D  █·····█    ·····█<br>███ █·███·█████·███·█<br>█   █·█ █·█·····█ █·█<br>█ ███·█ █·█·█████ █·█<br>█ █···█ █···█     █·█<br>█ █·███ █████ █████·█<br>█ █·█   █     █   █·█<br>█ █·█ ███ ███ █ █ █·█<br>█ ··█       █   █  F█<br>█████████████████████`;\n",
              "    </script>\n",
              "    "
            ]
          },
          "metadata": {}
        },
        {
          "output_type": "display_data",
          "data": {
            "text/plain": [
              "<IPython.core.display.HTML object>"
            ],
            "text/html": [
              "\n",
              "    <script>\n",
              "    document.getElementById('maze').innerHTML = `█████████████████████<br>█D  █·····█    ·····█<br>███ █·███·█████·███·█<br>█   █·█ █·█·····█ █·█<br>█ ███·█ █·█·█████ █·█<br>█ █···█ █···█     █·█<br>█ █·███ █████ █████·█<br>█ █·█   █     █   █·█<br>█ █·█ ███ ███ █ █ █·█<br>█···█       █   █  F█<br>█████████████████████`;\n",
              "    </script>\n",
              "    "
            ]
          },
          "metadata": {}
        },
        {
          "output_type": "display_data",
          "data": {
            "text/plain": [
              "<IPython.core.display.HTML object>"
            ],
            "text/html": [
              "\n",
              "    <script>\n",
              "    document.getElementById('maze').innerHTML = `█████████████████████<br>█D  █·····█    ·····█<br>███ █·███·█████·███·█<br>█   █·█ █·█·····█ █·█<br>█ ███·█ █·█·█████ █·█<br>█ █···█ █···█     █·█<br>█ █·███ █████ █████·█<br>█ █·█   █     █   █·█<br>█·█·█ ███ ███ █ █ █·█<br>█···█       █   █  F█<br>█████████████████████`;\n",
              "    </script>\n",
              "    "
            ]
          },
          "metadata": {}
        },
        {
          "output_type": "display_data",
          "data": {
            "text/plain": [
              "<IPython.core.display.HTML object>"
            ],
            "text/html": [
              "\n",
              "    <script>\n",
              "    document.getElementById('maze').innerHTML = `█████████████████████<br>█D  █·····█    ·····█<br>███ █·███·█████·███·█<br>█   █·█ █·█·····█ █·█<br>█ ███·█ █·█·█████ █·█<br>█ █···█ █···█     █·█<br>█ █·███ █████ █████·█<br>█·█·█   █     █   █·█<br>█·█·█ ███ ███ █ █ █·█<br>█···█       █   █  F█<br>█████████████████████`;\n",
              "    </script>\n",
              "    "
            ]
          },
          "metadata": {}
        },
        {
          "output_type": "display_data",
          "data": {
            "text/plain": [
              "<IPython.core.display.HTML object>"
            ],
            "text/html": [
              "\n",
              "    <script>\n",
              "    document.getElementById('maze').innerHTML = `█████████████████████<br>█D  █·····█    ·····█<br>███ █·███·█████·███·█<br>█   █·█ █·█·····█ █·█<br>█ ███·█ █·█·█████ █·█<br>█ █···█ █···█     █·█<br>█·█·███ █████ █████·█<br>█·█·█   █     █   █·█<br>█·█·█ ███ ███ █ █ █·█<br>█···█       █   █  F█<br>█████████████████████`;\n",
              "    </script>\n",
              "    "
            ]
          },
          "metadata": {}
        },
        {
          "output_type": "display_data",
          "data": {
            "text/plain": [
              "<IPython.core.display.HTML object>"
            ],
            "text/html": [
              "\n",
              "    <script>\n",
              "    document.getElementById('maze').innerHTML = `█████████████████████<br>█D  █·····█    ·····█<br>███ █·███·█████·███·█<br>█   █·█ █·█·····█ █·█<br>█ ███·█ █·█·█████ █·█<br>█·█···█ █···█     █·█<br>█·█·███ █████ █████·█<br>█·█·█   █     █   █·█<br>█·█·█ ███ ███ █ █ █·█<br>█···█       █   █  F█<br>█████████████████████`;\n",
              "    </script>\n",
              "    "
            ]
          },
          "metadata": {}
        },
        {
          "output_type": "display_data",
          "data": {
            "text/plain": [
              "<IPython.core.display.HTML object>"
            ],
            "text/html": [
              "\n",
              "    <script>\n",
              "    document.getElementById('maze').innerHTML = `█████████████████████<br>█D  █·····█    ·····█<br>███ █·███·█████·███·█<br>█   █·█ █·█·····█ █·█<br>█·███·█ █·█·█████ █·█<br>█·█···█ █···█     █·█<br>█·█·███ █████ █████·█<br>█·█·█   █     █   █·█<br>█·█·█ ███ ███ █ █ █·█<br>█···█       █   █  F█<br>█████████████████████`;\n",
              "    </script>\n",
              "    "
            ]
          },
          "metadata": {}
        },
        {
          "output_type": "display_data",
          "data": {
            "text/plain": [
              "<IPython.core.display.HTML object>"
            ],
            "text/html": [
              "\n",
              "    <script>\n",
              "    document.getElementById('maze').innerHTML = `█████████████████████<br>█D  █·····█    ·····█<br>███ █·███·█████·███·█<br>█·  █·█ █·█·····█ █·█<br>█·███·█ █·█·█████ █·█<br>█·█···█ █···█     █·█<br>█·█·███ █████ █████·█<br>█·█·█   █     █   █·█<br>█·█·█ ███ ███ █ █ █·█<br>█···█       █   █  F█<br>█████████████████████`;\n",
              "    </script>\n",
              "    "
            ]
          },
          "metadata": {}
        },
        {
          "output_type": "display_data",
          "data": {
            "text/plain": [
              "<IPython.core.display.HTML object>"
            ],
            "text/html": [
              "\n",
              "    <script>\n",
              "    document.getElementById('maze').innerHTML = `█████████████████████<br>█D  █·····█    ·····█<br>███ █·███·█████·███·█<br>█·· █·█ █·█·····█ █·█<br>█·███·█ █·█·█████ █·█<br>█·█···█ █···█     █·█<br>█·█·███ █████ █████·█<br>█·█·█   █     █   █·█<br>█·█·█ ███ ███ █ █ █·█<br>█···█       █   █  F█<br>█████████████████████`;\n",
              "    </script>\n",
              "    "
            ]
          },
          "metadata": {}
        },
        {
          "output_type": "display_data",
          "data": {
            "text/plain": [
              "<IPython.core.display.HTML object>"
            ],
            "text/html": [
              "\n",
              "    <script>\n",
              "    document.getElementById('maze').innerHTML = `█████████████████████<br>█D  █·····█    ·····█<br>███ █·███·█████·███·█<br>█···█·█ █·█·····█ █·█<br>█·███·█ █·█·█████ █·█<br>█·█···█ █···█     █·█<br>█·█·███ █████ █████·█<br>█·█·█   █     █   █·█<br>█·█·█ ███ ███ █ █ █·█<br>█···█       █   █  F█<br>█████████████████████`;\n",
              "    </script>\n",
              "    "
            ]
          },
          "metadata": {}
        },
        {
          "output_type": "display_data",
          "data": {
            "text/plain": [
              "<IPython.core.display.HTML object>"
            ],
            "text/html": [
              "\n",
              "    <script>\n",
              "    document.getElementById('maze').innerHTML = `█████████████████████<br>█D  █·····█    ·····█<br>███·█·███·█████·███·█<br>█···█·█ █·█·····█ █·█<br>█·███·█ █·█·█████ █·█<br>█·█···█ █···█     █·█<br>█·█·███ █████ █████·█<br>█·█·█   █     █   █·█<br>█·█·█ ███ ███ █ █ █·█<br>█···█       █   █  F█<br>█████████████████████`;\n",
              "    </script>\n",
              "    "
            ]
          },
          "metadata": {}
        },
        {
          "output_type": "display_data",
          "data": {
            "text/plain": [
              "<IPython.core.display.HTML object>"
            ],
            "text/html": [
              "\n",
              "    <script>\n",
              "    document.getElementById('maze').innerHTML = `█████████████████████<br>█D ·█·····█    ·····█<br>███·█·███·█████·███·█<br>█···█·█ █·█·····█ █·█<br>█·███·█ █·█·█████ █·█<br>█·█···█ █···█     █·█<br>█·█·███ █████ █████·█<br>█·█·█   █     █   █·█<br>█·█·█ ███ ███ █ █ █·█<br>█···█       █   █  F█<br>█████████████████████`;\n",
              "    </script>\n",
              "    "
            ]
          },
          "metadata": {}
        },
        {
          "output_type": "display_data",
          "data": {
            "text/plain": [
              "<IPython.core.display.HTML object>"
            ],
            "text/html": [
              "\n",
              "    <script>\n",
              "    document.getElementById('maze').innerHTML = `█████████████████████<br>█D··█·····█    ·····█<br>███·█·███·█████·███·█<br>█···█·█ █·█·····█ █·█<br>█·███·█ █·█·█████ █·█<br>█·█···█ █···█     █·█<br>█·█·███ █████ █████·█<br>█·█·█   █     █   █·█<br>█·█·█ ███ ███ █ █ █·█<br>█···█       █   █  F█<br>█████████████████████`;\n",
              "    </script>\n",
              "    "
            ]
          },
          "metadata": {}
        },
        {
          "output_type": "display_data",
          "data": {
            "text/plain": [
              "<IPython.core.display.HTML object>"
            ],
            "text/html": [
              "\n",
              "    <script>\n",
              "    document.getElementById('maze').innerHTML = `█████████████████████<br>█···█·····█    ·····█<br>███·█·███·█████·███·█<br>█···█·█ █·█·····█ █·█<br>█·███·█ █·█·█████ █·█<br>█·█···█ █···█     █·█<br>█·█·███ █████ █████·█<br>█·█·█   █     █   █·█<br>█·█·█ ███ ███ █ █ █·█<br>█···█       █   █  F█<br>█████████████████████`;\n",
              "    </script>\n",
              "    "
            ]
          },
          "metadata": {}
        }
      ]
    }
  ]
}