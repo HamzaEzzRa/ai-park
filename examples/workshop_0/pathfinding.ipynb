{
  "cells": [
    {
      "cell_type": "markdown",
      "metadata": {
        "id": "i_dEAHr2IIDn"
      },
      "source": [
        "# Qu'est-ce que la recherche de trajets ?\n",
        "\n",
        "C'est la recherche d'un trajet qui permet d'aller d'un point A à un point B au travers d'une carte.\n",
        "\n",
        "Les algorithmes que nous allons voir aujourd'hui sont les suivants.\n",
        "\n",
        "1. Recherche profondeur d'abord (DFS)\n",
        "2. Recherche Largeur d'abord (BFS)\n",
        "3. Recherche par heuristique avec A* \n",
        "\n",
        "Pour avoir une bonne intuition sur ces algorithmes ouvre [ce lien](https://pathfindout.com/).\n",
        "\n",
        "### Se déplacer en voiture au Québec\n",
        "\n",
        "![Villes de la province de Québec](images/TSPquebec.png \"Villes de la province de Québec\")\n",
        "\n",
        "Original de l'image disponible à https://freevectormaps.com/canada/quebec/CA-QC-EPS-01-0001?ref=atr\n"
      ]
    },
    {
      "cell_type": "markdown",
      "metadata": {
        "id": "DKYuFQhQKQAm"
      },
      "source": [
        "# Représantation d'une carte 2D en python\n",
        "\n",
        "Il existe beaucoups de manières de représenter une carte en python. \n",
        "\n",
        "- Un tableau de valeurs en python. (numpy)\n",
        "- Une liste de tuples\n",
        "- Une double liste\n",
        "- Un dictionnaire\n",
        "- Etc.\n",
        "\n",
        "Par exemple une carte de 10 en Y à la verticale et 10 en X à l'horizontal peut facilement être écrite en python comme suit:"
      ]
    },
    {
      "cell_type": "code",
      "execution_count": 61,
      "metadata": {
        "colab": {
          "base_uri": "https://localhost:8080/"
        },
        "id": "dfxgLR1pMa-Z",
        "outputId": "17c1b4e2-643a-4ed0-fdc0-2ec15a3bb9e2"
      },
      "outputs": [
        {
          "name": "stdout",
          "output_type": "stream",
          "text": [
            "[[0. 0. 0. 0. 0. 0. 0. 0. 0. 0. 0.]\n",
            " [0. 0. 0. 0. 0. 0. 0. 0. 0. 0. 0.]\n",
            " [0. 0. 0. 0. 0. 0. 0. 0. 0. 0. 0.]\n",
            " [0. 0. 0. 0. 0. 0. 0. 0. 0. 0. 0.]\n",
            " [0. 0. 0. 0. 0. 0. 0. 0. 0. 0. 0.]\n",
            " [0. 0. 0. 0. 0. 0. 0. 0. 0. 0. 0.]\n",
            " [0. 0. 0. 0. 0. 0. 0. 0. 0. 0. 0.]\n",
            " [0. 0. 0. 0. 0. 0. 0. 0. 0. 0. 0.]\n",
            " [0. 0. 0. 0. 0. 0. 0. 0. 0. 0. 0.]\n",
            " [0. 0. 0. 0. 0. 0. 0. 0. 0. 0. 0.]\n",
            " [0. 0. 0. 0. 0. 0. 0. 0. 0. 0. 0.]]\n"
          ]
        }
      ],
      "source": [
        "import numpy as np\n",
        "\n",
        "# Ici, Y est en premier et représente les lignes et X est en deuxième représentant les colonnes\n",
        "carte = np.zeros((11, 11))\n",
        "print(carte)"
      ]
    },
    {
      "cell_type": "markdown",
      "metadata": {
        "id": "71r_C91zMWSx"
      },
      "source": [
        "Par la suite on peut manuellement ajouter des information pour chaque point en changeant des informations contenu dans le tableau. \n",
        "\n",
        "Par exemple, si on veut dire que le point de départ est à Y = 0 et X = 0 on peut assigner la valeur 1 comme suit:"
      ]
    },
    {
      "cell_type": "code",
      "execution_count": null,
      "metadata": {
        "colab": {
          "base_uri": "https://localhost:8080/"
        },
        "id": "rXYzNkWaMmmb",
        "outputId": "508d4512-458f-4097-8cce-0263e551b65c"
      },
      "outputs": [],
      "source": [
        "carte[0, 0] = 1\n",
        "print(carte)"
      ]
    },
    {
      "cell_type": "markdown",
      "metadata": {
        "id": "s_4TzlR4MY_H"
      },
      "source": [
        "Si on veut ajouter un point d'arrivé à Y = 7, X = 9, on peut assigner la valeur 2 comme suit:"
      ]
    },
    {
      "cell_type": "code",
      "execution_count": null,
      "metadata": {
        "colab": {
          "base_uri": "https://localhost:8080/"
        },
        "id": "tegLPt9hIDnJ",
        "outputId": "baac8d16-a1a1-4232-976f-f89868f8bc88"
      },
      "outputs": [],
      "source": [
        "carte[7, 9] = 2\n",
        "print(carte)"
      ]
    },
    {
      "cell_type": "markdown",
      "metadata": {
        "id": "mtQOuejgOibn"
      },
      "source": [
        "Si on veut ajouter des obstacles dans la colone du centre de la carte, on peut assigner la valeur 3 comme suit:"
      ]
    },
    {
      "cell_type": "code",
      "execution_count": null,
      "metadata": {
        "colab": {
          "base_uri": "https://localhost:8080/"
        },
        "id": "vF5lMcMLOMOE",
        "outputId": "d886aa01-29f8-4da5-dc80-08d5ed832328"
      },
      "outputs": [],
      "source": [
        "carte[:, 5] = 3\n",
        "print(carte)"
      ]
    },
    {
      "cell_type": "markdown",
      "metadata": {
        "id": "_W5jmikQO47-"
      },
      "source": [
        "De même que si on veut ajouter des obstacles dans la ligne du centre, on peut assigner la valeur 3 comme suit:"
      ]
    },
    {
      "cell_type": "code",
      "execution_count": null,
      "metadata": {
        "colab": {
          "base_uri": "https://localhost:8080/"
        },
        "id": "0mAuJVL6PA14",
        "outputId": "d0ea710a-8ce0-408b-f89a-3d686fc32310"
      },
      "outputs": [],
      "source": [
        "carte[5, :] = 3\n",
        "print(carte)"
      ]
    },
    {
      "cell_type": "markdown",
      "metadata": {
        "id": "1zMUvo23PQF6"
      },
      "source": [
        "Maintenant si on veut ajouter des obstacles aléatoires dans la carte, on peut assigner la valeur 4 comme suit:"
      ]
    },
    {
      "cell_type": "code",
      "execution_count": null,
      "metadata": {
        "colab": {
          "base_uri": "https://localhost:8080/"
        },
        "id": "r-5jYgHhPPmM",
        "outputId": "9c921de5-9763-435a-cb36-5e5cecf9e96d"
      },
      "outputs": [],
      "source": [
        "# Il se peut que l'obstacle aléatoire soit généré par dessus un autre dans la carte!\n",
        "random_Y = np.random.randint(0, 11)\n",
        "random_X = np.random.randint(0, 11)\n",
        "carte[random_Y, random_X] = \"4\"\n",
        "print(carte)"
      ]
    },
    {
      "cell_type": "markdown",
      "metadata": {
        "id": "E5Q2ZMmXPlVL"
      },
      "source": [
        "Dans si on veut en ajouter 10 obstacles avec la valeur 5 ça donne :"
      ]
    },
    {
      "cell_type": "code",
      "execution_count": 63,
      "metadata": {
        "colab": {
          "base_uri": "https://localhost:8080/"
        },
        "id": "yvx_g5MAPNCF",
        "outputId": "5fe80d7c-84d9-47b5-e4bd-8f9d4c08e481"
      },
      "outputs": [
        {
          "name": "stdout",
          "output_type": "stream",
          "text": [
            "[[0. 0. 0. 5. 0. 0. 0. 0. 0. 0. 0.]\n",
            " [0. 0. 0. 0. 0. 0. 5. 0. 0. 0. 0.]\n",
            " [0. 0. 0. 0. 0. 0. 0. 0. 5. 0. 0.]\n",
            " [0. 0. 0. 0. 0. 0. 0. 0. 0. 0. 0.]\n",
            " [0. 0. 0. 0. 0. 0. 0. 0. 5. 0. 0.]\n",
            " [0. 5. 0. 0. 0. 0. 0. 0. 0. 0. 0.]\n",
            " [0. 0. 0. 0. 0. 0. 0. 0. 0. 0. 0.]\n",
            " [0. 0. 0. 0. 0. 0. 5. 0. 0. 0. 0.]\n",
            " [0. 0. 0. 5. 0. 0. 0. 5. 0. 0. 0.]\n",
            " [0. 0. 0. 0. 5. 0. 0. 0. 0. 0. 0.]\n",
            " [0. 0. 0. 0. 5. 0. 0. 0. 0. 0. 0.]]\n"
          ]
        }
      ],
      "source": [
        "for i in range(10):\n",
        "    random_Y = np.random.randint(0, 11)\n",
        "    random_X = np.random.randint(0, 11)\n",
        "    carte[random_Y, random_X] = 5\n",
        "print(carte)"
      ]
    },
    {
      "cell_type": "markdown",
      "metadata": {
        "id": "UNyfUgaDNY3W"
      },
      "source": [
        "## ❗ RAPPEL : Peut-on ajouter ou lire une valeur à l'index 11, 11 ?"
      ]
    },
    {
      "cell_type": "code",
      "execution_count": null,
      "metadata": {
        "colab": {
          "base_uri": "https://localhost:8080/",
          "height": 141
        },
        "id": "fSxAQEhFNpgt",
        "outputId": "88e98c9e-2376-41bc-898e-494d7395303e"
      },
      "outputs": [],
      "source": [
        "carte[11, 11] = 6\n",
        "print(carte[11, 11])"
      ]
    },
    {
      "cell_type": "markdown",
      "metadata": {},
      "source": [
        "## Représentation `Grid2D`, `Node` et `Vector2D`\n",
        "\n",
        "Pour sauver la Ronde 2.0 et ses robots, il faudrat se familiariser avec la représentation de la carte.\n",
        "Dans l'ancien code de la Ronde 2.0 qu'il vous faudra réparer, deux structures de données sont très importantes pour les robots.\n",
        "\n",
        "\n",
        "#### 1. Classe `Vector2D`\n",
        "\n",
        "##### **Description:**\n",
        "Le rôle de la classe `Vector2D` est de représenter un point **x** et **y** dans la carte des robots.\n",
        "\n",
        "##### **Attributs:**\n",
        "- `x` : La coordonnée horizontale du point.\n",
        "- `y` : La coordonnée verticale du point.\n",
        "\n",
        "##### **Méthodes importantes:**\n",
        "Plusieurs méthode sont déjà écrite qui vous permettent d'additionner, soustraire, multiplier et diviser deux points entre eux.\n",
        "La méthode la plus importante pour les robots est celle qui permet le calcul de la distance entre deux points.\n",
        "\n",
        "1. **Distance entre deux points:**\n",
        "\n",
        "    La méthode `distance_from(Vector2D)` permet de calculer la **distance entre deux points** dans la carte :\n",
        "    \n",
        "    ${distance} = \\sqrt{(\\Delta x)^2 + (\\Delta y)^2}$\n",
        "\n",
        "    qui est l'équivalent de :\n",
        "\n",
        "    ${distance} = \\sqrt{(x_2 - x_1)^2 + (y_2 - y_1)^2}$\n",
        "\n",
        "    La méthode s'applique à un point `Vector2D` et prend en paramètre un autre point `Vector2D`.\n",
        "\n",
        "    Par exemple en code ça donne:  \n",
        "    ```python\n",
        "    point1 = Vector2D(0, 0)\n",
        "    point2 = Vector2D(3, 4)\n",
        "    print(point1.distance_from(point2))  # Résultat : 5.0\n",
        "    ```"
      ]
    },
    {
      "cell_type": "code",
      "execution_count": null,
      "metadata": {},
      "outputs": [],
      "source": [
        "# Affiche la distance entre un point en x = 23, y = 42 et un autre en x = 331, y = 71\n",
        "point1 = Vector2D(23, 42)\n",
        "point2 = Vector2D(331, 71)\n",
        "print(point1.distance_from(point2))\n",
        "\n",
        "# C'est trop facile ? affiche la distance entre deux points généré aléatoirement:\n",
        "point1 = Vector2D(random.randint(1000), random.randint(1000))\n",
        "point2 = Vector2D(random.randint(1000), random.randint(1000))\n",
        "print(f\"La distance entre les points {point1} et {point2} est {point1.distance_from(point2)}\")"
      ]
    },
    {
      "cell_type": "markdown",
      "metadata": {},
      "source": [
        "#### 1. Classe `Node`\n",
        "\n",
        "##### **Description:**\n",
        "Le rôle de la classe `Node` est de représenter un cercle autour d'un point central **x** et **y** dans la carte des robots.\n",
        "Cette zone peut être occupée ou libre, indiquant ainsi si elle contient d'autres robots, des manèges ou bien des visiteurs.\n",
        "\n",
        "##### **Attributs:**\n",
        "- `center` : Les coordonnées centrales du cercle défini par un objets `Vector2D`.\n",
        "- `radius` : Le rayon du cercle.\n",
        "- `was_occupied` : Indique si le cercle était occupé.\n",
        "- `occupants` : Liste des choses qui sont dans le cercle.\n",
        "\n",
        "##### **Méthodes importantes:**\n",
        "Plusieurs méthode sont déjà écrite qui vous permettent d'obtenir le diamètre du cercle ou la diagonale du carré dans lequel le cercle rentre.\n",
        "La méthode la plus importante dans pour les robots est celle qui évalue si on peut marcher dans cette zone.\n",
        "\n",
        "1. **Peux t'on marcher dans ce cercle:**\n",
        "\n",
        "    La méthode `walkable()` permet de savoir si **l'on marcher dans ce cercle**. \n",
        "    Autrement dit \n",
        "    \n",
        "    ${distance} = \\sqrt{(\\Delta x)^2 + (\\Delta y)^2}$\n",
        "\n",
        "    qui est l'équivalent de :\n",
        "\n",
        "    ${distance} = \\sqrt{(x_2 - x_1)^2 + (y_2 - y_1)^2}$\n",
        "\n",
        "    La méthode s'applique à un point `Vector2D` et prend en paramètre un autre point `Vector2D`.\n",
        "\n",
        "    Par exemple en code ça donne:  \n",
        "    ```python\n",
        "    point1 = Vector2D(0, 0)\n",
        "    point2 = Vector2D(3, 4)\n",
        "    print(point1.distance_from(point2))  # Résultat : 5.0\n",
        "    ```"
      ]
    },
    {
      "cell_type": "code",
      "execution_count": null,
      "metadata": {},
      "outputs": [],
      "source": []
    },
    {
      "cell_type": "markdown",
      "metadata": {},
      "source": [
        "##### Grid2 Liste of Nodes."
      ]
    },
    {
      "cell_type": "markdown",
      "metadata": {
        "id": "hhXDtrjzN__d"
      },
      "source": [
        "# Crée ton labyrinthe!"
      ]
    },
    {
      "cell_type": "code",
      "execution_count": 89,
      "metadata": {
        "colab": {
          "base_uri": "https://localhost:8080/",
          "height": 202
        },
        "id": "d4UjlLUfN60x",
        "outputId": "82dcabd8-ec13-46ff-9b39-b7034b32adb8"
      },
      "outputs": [
        {
          "data": {
            "text/html": [
              "\n",
              "    <div id=\"maze\" style=\"font-family: monospace; white-space: pre; line-height: 1.2;\">\n",
              "    🟦🟦🟦🟦🟦🟦🟦🟦🟦🟦🟦🟦🟦🟦🟦🟦🟦🟦🟦🟦🟦<br>🟦🟦🟦🟦🟦🟦🟦🟦🟦🟦🟦🟦🟦🟦🟦🟦🟦🟦🟦🟦🟦<br>🟦🟦🟦🟦🟦🟦🟦🟦🟦🟦🟦🟦🟦🟦🟦🟦🟦🟦🟦🟦🟦<br>🟦🟦🟦🟦🟦🟦🟦🟦🟦🟦🟦🟦🟦🟦🟦🟦🟦🟦🟦🟦🟦<br>🟦🟦🟦🟦🟦🟦🟦🟦🟦🟦🟦🟦🟦🟦🟦🟦🟦🟦🟦🟦🟦<br>🟦🟦🟦🟦🟦🟦🟦🟦🟦🟦🟦🟦🟦🟦🟦🟦🟦🟦🟦🟦🟦<br>🟦🟦🟦🟦🟦🟦🟦🟦🟦🟦🟦🟦🟦🟦🟦🟦🟦🟦🟦🟦🟦<br>🟦🟦🟦🟦🟦🟦🟦🟦🟦🟦🟦🟦🟦🟦🟦🟦🟦🟦🟦🟦🟦<br>🟦🟦🟦🟦🟦🟦🟦🟦🟦🟦🟦🟦🟦🟦🟦🟦🟦🟦🟦🟦🟦<br>🟦🟦🟦🟦🟦🟦🟦🟦🟦🟦🟦🟦🟦🟦🟦🟦🟦🟦🟦🟦🟦<br>🟦🟦🟦🟦🟦🟦🟦🟦🟦🟦🟦🟦🟦🟦🟦🟦🟦🟦🟦🟦🟦\n",
              "    </div>\n",
              "    <script>\n",
              "    document.getElementById('maze').innerHTML = `🟦🟦🟦🟦🟦🟦🟦🟦🟦🟦🟦🟦🟦🟦🟦🟦🟦🟦🟦🟦🟦<br>🟦🟦🟦🟦🟦🟦🟦🟦🟦🟦🟦🟦🟦🟦🟦🟦🟦🟦🟦🟦🟦<br>🟦🟦🟦🟦🟦🟦🟦🟦🟦🟦🟦🟦🟦🟦🟦🟦🟦🟦🟦🟦🟦<br>🟦🟦🟦🟦🟦🟦🟦🟦🟦🟦🟦🟦🟦🟦🟦🟦🟦🟦🟦🟦🟦<br>🟦🟦🟦🟦🟦🟦🟦🟦🟦🟦🟦🟦🟦🟦🟦🟦🟦🟦🟦🟦🟦<br>🟦🟦🟦🟦🟦🟦🟦🟦🟦🟦🟦🟦🟦🟦🟦🟦🟦🟦🟦🟦🟦<br>🟦🟦🟦🟦🟦🟦🟦🟦🟦🟦🟦🟦🟦🟦🟦🟦🟦🟦🟦🟦🟦<br>🟦🟦🟦🟦🟦🟦🟦🟦🟦🟦🟦🟦🟦🟦🟦🟦🟦🟦🟦🟦🟦<br>🟦🟦🟦🟦🟦🟦🟦🟦🟦🟦🟦🟦🟦🟦🟦🟦🟦🟦🟦🟦🟦<br>🟦🟦🟦🟦🟦🟦🟦🟦🟦🟦🟦🟦🟦🟦🟦🟦🟦🟦🟦🟦🟦<br>🟦🟦🟦🟦🟦🟦🟦🟦🟦🟦🟦🟦🟦🟦🟦🟦🟦🟦🟦🟦🟦`;\n",
              "    </script>\n",
              "    "
            ],
            "text/plain": [
              "<IPython.core.display.HTML object>"
            ]
          },
          "metadata": {},
          "output_type": "display_data"
        },
        {
          "data": {
            "text/html": [
              "\n",
              "    <script>\n",
              "    document.getElementById('maze').innerHTML = `🟦🟦🟦🟦🟦🟦🟦🟦🟦🟦🟦🟦🟦🟦🟦🟦🟦🟦🟦🟦🟦<br>🟦😼🟦🟦🟦🟦🟦🟦🟦🟦🟦🟦🟦🟦🟦🟦🟦🟦🟦🟦🟦<br>🟦🟦🟦🟦🟦🟦🟦🟦🟦🟦🟦🟦🟦🟦🟦🟦🟦🟦🟦🟦🟦<br>🟦🟦🟦🟦🟦🟦🟦🟦🟦🟦🟦🟦🟦🟦🟦🟦🟦🟦🟦🟦🟦<br>🟦🟦🟦🟦🟦🟦🟦🟦🟦🟦🟦🟦🟦🟦🟦🟦🟦🟦🟦🟦🟦<br>🟦🟦🟦🟦🟦🟦🟦🟦🟦🟦🟦🟦🟦🟦🟦🟦🟦🟦🟦🟦🟦<br>🟦🟦🟦🟦🟦🟦🟦🟦🟦🟦🟦🟦🟦🟦🟦🟦🟦🟦🟦🟦🟦<br>🟦🟦🟦🟦🟦🟦🟦🟦🟦🟦🟦🟦🟦🟦🟦🟦🟦🟦🟦🟦🟦<br>🟦🟦🟦🟦🟦🟦🟦🟦🟦🟦🟦🟦🟦🟦🟦🟦🟦🟦🟦🟦🟦<br>🟦🟦🟦🟦🟦🟦🟦🟦🟦🟦🟦🟦🟦🟦🟦🟦🟦🟦🟦🟦🟦<br>🟦🟦🟦🟦🟦🟦🟦🟦🟦🟦🟦🟦🟦🟦🟦🟦🟦🟦🟦🟦🟦`;\n",
              "    </script>\n",
              "    "
            ],
            "text/plain": [
              "<IPython.core.display.HTML object>"
            ]
          },
          "metadata": {},
          "output_type": "display_data"
        },
        {
          "data": {
            "text/html": [
              "\n",
              "    <script>\n",
              "    document.getElementById('maze').innerHTML = `🟦🟦🟦🟦🟦🟦🟦🟦🟦🟦🟦🟦🟦🟦🟦🟦🟦🟦🟦🟦🟦<br>🟦⬜🟦🟦🟦🟦🟦🟦🟦🟦🟦🟦🟦🟦🟦🟦🟦🟦🟦🟦🟦<br>🟦⬜🟦🟦🟦🟦🟦🟦🟦🟦🟦🟦🟦🟦🟦🟦🟦🟦🟦🟦🟦<br>🟦😼🟦🟦🟦🟦🟦🟦🟦🟦🟦🟦🟦🟦🟦🟦🟦🟦🟦🟦🟦<br>🟦🟦🟦🟦🟦🟦🟦🟦🟦🟦🟦🟦🟦🟦🟦🟦🟦🟦🟦🟦🟦<br>🟦🟦🟦🟦🟦🟦🟦🟦🟦🟦🟦🟦🟦🟦🟦🟦🟦🟦🟦🟦🟦<br>🟦🟦🟦🟦🟦🟦🟦🟦🟦🟦🟦🟦🟦🟦🟦🟦🟦🟦🟦🟦🟦<br>🟦🟦🟦🟦🟦🟦🟦🟦🟦🟦🟦🟦🟦🟦🟦🟦🟦🟦🟦🟦🟦<br>🟦🟦🟦🟦🟦🟦🟦🟦🟦🟦🟦🟦🟦🟦🟦🟦🟦🟦🟦🟦🟦<br>🟦🟦🟦🟦🟦🟦🟦🟦🟦🟦🟦🟦🟦🟦🟦🟦🟦🟦🟦🟦🟦<br>🟦🟦🟦🟦🟦🟦🟦🟦🟦🟦🟦🟦🟦🟦🟦🟦🟦🟦🟦🟦🟦`;\n",
              "    </script>\n",
              "    "
            ],
            "text/plain": [
              "<IPython.core.display.HTML object>"
            ]
          },
          "metadata": {},
          "output_type": "display_data"
        },
        {
          "data": {
            "text/html": [
              "\n",
              "    <script>\n",
              "    document.getElementById('maze').innerHTML = `🟦🟦🟦🟦🟦🟦🟦🟦🟦🟦🟦🟦🟦🟦🟦🟦🟦🟦🟦🟦🟦<br>🟦⬜🟦🟦🟦🟦🟦🟦🟦🟦🟦🟦🟦🟦🟦🟦🟦🟦🟦🟦🟦<br>🟦⬜🟦🟦🟦🟦🟦🟦🟦🟦🟦🟦🟦🟦🟦🟦🟦🟦🟦🟦🟦<br>🟦⬜⬜😼🟦🟦🟦🟦🟦🟦🟦🟦🟦🟦🟦🟦🟦🟦🟦🟦🟦<br>🟦🟦🟦🟦🟦🟦🟦🟦🟦🟦🟦🟦🟦🟦🟦🟦🟦🟦🟦🟦🟦<br>🟦🟦🟦🟦🟦🟦🟦🟦🟦🟦🟦🟦🟦🟦🟦🟦🟦🟦🟦🟦🟦<br>🟦🟦🟦🟦🟦🟦🟦🟦🟦🟦🟦🟦🟦🟦🟦🟦🟦🟦🟦🟦🟦<br>🟦🟦🟦🟦🟦🟦🟦🟦🟦🟦🟦🟦🟦🟦🟦🟦🟦🟦🟦🟦🟦<br>🟦🟦🟦🟦🟦🟦🟦🟦🟦🟦🟦🟦🟦🟦🟦🟦🟦🟦🟦🟦🟦<br>🟦🟦🟦🟦🟦🟦🟦🟦🟦🟦🟦🟦🟦🟦🟦🟦🟦🟦🟦🟦🟦<br>🟦🟦🟦🟦🟦🟦🟦🟦🟦🟦🟦🟦🟦🟦🟦🟦🟦🟦🟦🟦🟦`;\n",
              "    </script>\n",
              "    "
            ],
            "text/plain": [
              "<IPython.core.display.HTML object>"
            ]
          },
          "metadata": {},
          "output_type": "display_data"
        },
        {
          "data": {
            "text/html": [
              "\n",
              "    <script>\n",
              "    document.getElementById('maze').innerHTML = `🟦🟦🟦🟦🟦🟦🟦🟦🟦🟦🟦🟦🟦🟦🟦🟦🟦🟦🟦🟦🟦<br>🟦⬜🟦😼🟦🟦🟦🟦🟦🟦🟦🟦🟦🟦🟦🟦🟦🟦🟦🟦🟦<br>🟦⬜🟦⬜🟦🟦🟦🟦🟦🟦🟦🟦🟦🟦🟦🟦🟦🟦🟦🟦🟦<br>🟦⬜⬜⬜🟦🟦🟦🟦🟦🟦🟦🟦🟦🟦🟦🟦🟦🟦🟦🟦🟦<br>🟦🟦🟦🟦🟦🟦🟦🟦🟦🟦🟦🟦🟦🟦🟦🟦🟦🟦🟦🟦🟦<br>🟦🟦🟦🟦🟦🟦🟦🟦🟦🟦🟦🟦🟦🟦🟦🟦🟦🟦🟦🟦🟦<br>🟦🟦🟦🟦🟦🟦🟦🟦🟦🟦🟦🟦🟦🟦🟦🟦🟦🟦🟦🟦🟦<br>🟦🟦🟦🟦🟦🟦🟦🟦🟦🟦🟦🟦🟦🟦🟦🟦🟦🟦🟦🟦🟦<br>🟦🟦🟦🟦🟦🟦🟦🟦🟦🟦🟦🟦🟦🟦🟦🟦🟦🟦🟦🟦🟦<br>🟦🟦🟦🟦🟦🟦🟦🟦🟦🟦🟦🟦🟦🟦🟦🟦🟦🟦🟦🟦🟦<br>🟦🟦🟦🟦🟦🟦🟦🟦🟦🟦🟦🟦🟦🟦🟦🟦🟦🟦🟦🟦🟦`;\n",
              "    </script>\n",
              "    "
            ],
            "text/plain": [
              "<IPython.core.display.HTML object>"
            ]
          },
          "metadata": {},
          "output_type": "display_data"
        },
        {
          "data": {
            "text/html": [
              "\n",
              "    <script>\n",
              "    document.getElementById('maze').innerHTML = `🟦🟦🟦🟦🟦🟦🟦🟦🟦🟦🟦🟦🟦🟦🟦🟦🟦🟦🟦🟦🟦<br>🟦⬜🟦⬜⬜😼🟦🟦🟦🟦🟦🟦🟦🟦🟦🟦🟦🟦🟦🟦🟦<br>🟦⬜🟦⬜🟦🟦🟦🟦🟦🟦🟦🟦🟦🟦🟦🟦🟦🟦🟦🟦🟦<br>🟦⬜⬜⬜🟦🟦🟦🟦🟦🟦🟦🟦🟦🟦🟦🟦🟦🟦🟦🟦🟦<br>🟦🟦🟦🟦🟦🟦🟦🟦🟦🟦🟦🟦🟦🟦🟦🟦🟦🟦🟦🟦🟦<br>🟦🟦🟦🟦🟦🟦🟦🟦🟦🟦🟦🟦🟦🟦🟦🟦🟦🟦🟦🟦🟦<br>🟦🟦🟦🟦🟦🟦🟦🟦🟦🟦🟦🟦🟦🟦🟦🟦🟦🟦🟦🟦🟦<br>🟦🟦🟦🟦🟦🟦🟦🟦🟦🟦🟦🟦🟦🟦🟦🟦🟦🟦🟦🟦🟦<br>🟦🟦🟦🟦🟦🟦🟦🟦🟦🟦🟦🟦🟦🟦🟦🟦🟦🟦🟦🟦🟦<br>🟦🟦🟦🟦🟦🟦🟦🟦🟦🟦🟦🟦🟦🟦🟦🟦🟦🟦🟦🟦🟦<br>🟦🟦🟦🟦🟦🟦🟦🟦🟦🟦🟦🟦🟦🟦🟦🟦🟦🟦🟦🟦🟦`;\n",
              "    </script>\n",
              "    "
            ],
            "text/plain": [
              "<IPython.core.display.HTML object>"
            ]
          },
          "metadata": {},
          "output_type": "display_data"
        },
        {
          "data": {
            "text/html": [
              "\n",
              "    <script>\n",
              "    document.getElementById('maze').innerHTML = `🟦🟦🟦🟦🟦🟦🟦🟦🟦🟦🟦🟦🟦🟦🟦🟦🟦🟦🟦🟦🟦<br>🟦⬜🟦⬜⬜⬜⬜😼🟦🟦🟦🟦🟦🟦🟦🟦🟦🟦🟦🟦🟦<br>🟦⬜🟦⬜🟦🟦🟦🟦🟦🟦🟦🟦🟦🟦🟦🟦🟦🟦🟦🟦🟦<br>🟦⬜⬜⬜🟦🟦🟦🟦🟦🟦🟦🟦🟦🟦🟦🟦🟦🟦🟦🟦🟦<br>🟦🟦🟦🟦🟦🟦🟦🟦🟦🟦🟦🟦🟦🟦🟦🟦🟦🟦🟦🟦🟦<br>🟦🟦🟦🟦🟦🟦🟦🟦🟦🟦🟦🟦🟦🟦🟦🟦🟦🟦🟦🟦🟦<br>🟦🟦🟦🟦🟦🟦🟦🟦🟦🟦🟦🟦🟦🟦🟦🟦🟦🟦🟦🟦🟦<br>🟦🟦🟦🟦🟦🟦🟦🟦🟦🟦🟦🟦🟦🟦🟦🟦🟦🟦🟦🟦🟦<br>🟦🟦🟦🟦🟦🟦🟦🟦🟦🟦🟦🟦🟦🟦🟦🟦🟦🟦🟦🟦🟦<br>🟦🟦🟦🟦🟦🟦🟦🟦🟦🟦🟦🟦🟦🟦🟦🟦🟦🟦🟦🟦🟦<br>🟦🟦🟦🟦🟦🟦🟦🟦🟦🟦🟦🟦🟦🟦🟦🟦🟦🟦🟦🟦🟦`;\n",
              "    </script>\n",
              "    "
            ],
            "text/plain": [
              "<IPython.core.display.HTML object>"
            ]
          },
          "metadata": {},
          "output_type": "display_data"
        },
        {
          "data": {
            "text/html": [
              "\n",
              "    <script>\n",
              "    document.getElementById('maze').innerHTML = `🟦🟦🟦🟦🟦🟦🟦🟦🟦🟦🟦🟦🟦🟦🟦🟦🟦🟦🟦🟦🟦<br>🟦⬜🟦⬜⬜⬜⬜⬜⬜😼🟦🟦🟦🟦🟦🟦🟦🟦🟦🟦🟦<br>🟦⬜🟦⬜🟦🟦🟦🟦🟦🟦🟦🟦🟦🟦🟦🟦🟦🟦🟦🟦🟦<br>🟦⬜⬜⬜🟦🟦🟦🟦🟦🟦🟦🟦🟦🟦🟦🟦🟦🟦🟦🟦🟦<br>🟦🟦🟦🟦🟦🟦🟦🟦🟦🟦🟦🟦🟦🟦🟦🟦🟦🟦🟦🟦🟦<br>🟦🟦🟦🟦🟦🟦🟦🟦🟦🟦🟦🟦🟦🟦🟦🟦🟦🟦🟦🟦🟦<br>🟦🟦🟦🟦🟦🟦🟦🟦🟦🟦🟦🟦🟦🟦🟦🟦🟦🟦🟦🟦🟦<br>🟦🟦🟦🟦🟦🟦🟦🟦🟦🟦🟦🟦🟦🟦🟦🟦🟦🟦🟦🟦🟦<br>🟦🟦🟦🟦🟦🟦🟦🟦🟦🟦🟦🟦🟦🟦🟦🟦🟦🟦🟦🟦🟦<br>🟦🟦🟦🟦🟦🟦🟦🟦🟦🟦🟦🟦🟦🟦🟦🟦🟦🟦🟦🟦🟦<br>🟦🟦🟦🟦🟦🟦🟦🟦🟦🟦🟦🟦🟦🟦🟦🟦🟦🟦🟦🟦🟦`;\n",
              "    </script>\n",
              "    "
            ],
            "text/plain": [
              "<IPython.core.display.HTML object>"
            ]
          },
          "metadata": {},
          "output_type": "display_data"
        },
        {
          "data": {
            "text/html": [
              "\n",
              "    <script>\n",
              "    document.getElementById('maze').innerHTML = `🟦🟦🟦🟦🟦🟦🟦🟦🟦🟦🟦🟦🟦🟦🟦🟦🟦🟦🟦🟦🟦<br>🟦⬜🟦⬜⬜⬜⬜⬜⬜⬜⬜😼🟦🟦🟦🟦🟦🟦🟦🟦🟦<br>🟦⬜🟦⬜🟦🟦🟦🟦🟦🟦🟦🟦🟦🟦🟦🟦🟦🟦🟦🟦🟦<br>🟦⬜⬜⬜🟦🟦🟦🟦🟦🟦🟦🟦🟦🟦🟦🟦🟦🟦🟦🟦🟦<br>🟦🟦🟦🟦🟦🟦🟦🟦🟦🟦🟦🟦🟦🟦🟦🟦🟦🟦🟦🟦🟦<br>🟦🟦🟦🟦🟦🟦🟦🟦🟦🟦🟦🟦🟦🟦🟦🟦🟦🟦🟦🟦🟦<br>🟦🟦🟦🟦🟦🟦🟦🟦🟦🟦🟦🟦🟦🟦🟦🟦🟦🟦🟦🟦🟦<br>🟦🟦🟦🟦🟦🟦🟦🟦🟦🟦🟦🟦🟦🟦🟦🟦🟦🟦🟦🟦🟦<br>🟦🟦🟦🟦🟦🟦🟦🟦🟦🟦🟦🟦🟦🟦🟦🟦🟦🟦🟦🟦🟦<br>🟦🟦🟦🟦🟦🟦🟦🟦🟦🟦🟦🟦🟦🟦🟦🟦🟦🟦🟦🟦🟦<br>🟦🟦🟦🟦🟦🟦🟦🟦🟦🟦🟦🟦🟦🟦🟦🟦🟦🟦🟦🟦🟦`;\n",
              "    </script>\n",
              "    "
            ],
            "text/plain": [
              "<IPython.core.display.HTML object>"
            ]
          },
          "metadata": {},
          "output_type": "display_data"
        },
        {
          "data": {
            "text/html": [
              "\n",
              "    <script>\n",
              "    document.getElementById('maze').innerHTML = `🟦🟦🟦🟦🟦🟦🟦🟦🟦🟦🟦🟦🟦🟦🟦🟦🟦🟦🟦🟦🟦<br>🟦⬜🟦⬜⬜⬜⬜⬜⬜⬜⬜⬜🟦🟦🟦🟦🟦🟦🟦🟦🟦<br>🟦⬜🟦⬜🟦🟦🟦🟦🟦🟦🟦⬜🟦🟦🟦🟦🟦🟦🟦🟦🟦<br>🟦⬜⬜⬜🟦🟦🟦🟦🟦🟦🟦😼🟦🟦🟦🟦🟦🟦🟦🟦🟦<br>🟦🟦🟦🟦🟦🟦🟦🟦🟦🟦🟦🟦🟦🟦🟦🟦🟦🟦🟦🟦🟦<br>🟦🟦🟦🟦🟦🟦🟦🟦🟦🟦🟦🟦🟦🟦🟦🟦🟦🟦🟦🟦🟦<br>🟦🟦🟦🟦🟦🟦🟦🟦🟦🟦🟦🟦🟦🟦🟦🟦🟦🟦🟦🟦🟦<br>🟦🟦🟦🟦🟦🟦🟦🟦🟦🟦🟦🟦🟦🟦🟦🟦🟦🟦🟦🟦🟦<br>🟦🟦🟦🟦🟦🟦🟦🟦🟦🟦🟦🟦🟦🟦🟦🟦🟦🟦🟦🟦🟦<br>🟦🟦🟦🟦🟦🟦🟦🟦🟦🟦🟦🟦🟦🟦🟦🟦🟦🟦🟦🟦🟦<br>🟦🟦🟦🟦🟦🟦🟦🟦🟦🟦🟦🟦🟦🟦🟦🟦🟦🟦🟦🟦🟦`;\n",
              "    </script>\n",
              "    "
            ],
            "text/plain": [
              "<IPython.core.display.HTML object>"
            ]
          },
          "metadata": {},
          "output_type": "display_data"
        },
        {
          "data": {
            "text/html": [
              "\n",
              "    <script>\n",
              "    document.getElementById('maze').innerHTML = `🟦🟦🟦🟦🟦🟦🟦🟦🟦🟦🟦🟦🟦🟦🟦🟦🟦🟦🟦🟦🟦<br>🟦⬜🟦⬜⬜⬜⬜⬜⬜⬜⬜⬜🟦🟦🟦🟦🟦🟦🟦🟦🟦<br>🟦⬜🟦⬜🟦🟦🟦🟦🟦🟦🟦⬜🟦🟦🟦🟦🟦🟦🟦🟦🟦<br>🟦⬜⬜⬜🟦🟦🟦🟦🟦🟦🟦⬜⬜😼🟦🟦🟦🟦🟦🟦🟦<br>🟦🟦🟦🟦🟦🟦🟦🟦🟦🟦🟦🟦🟦🟦🟦🟦🟦🟦🟦🟦🟦<br>🟦🟦🟦🟦🟦🟦🟦🟦🟦🟦🟦🟦🟦🟦🟦🟦🟦🟦🟦🟦🟦<br>🟦🟦🟦🟦🟦🟦🟦🟦🟦🟦🟦🟦🟦🟦🟦🟦🟦🟦🟦🟦🟦<br>🟦🟦🟦🟦🟦🟦🟦🟦🟦🟦🟦🟦🟦🟦🟦🟦🟦🟦🟦🟦🟦<br>🟦🟦🟦🟦🟦🟦🟦🟦🟦🟦🟦🟦🟦🟦🟦🟦🟦🟦🟦🟦🟦<br>🟦🟦🟦🟦🟦🟦🟦🟦🟦🟦🟦🟦🟦🟦🟦🟦🟦🟦🟦🟦🟦<br>🟦🟦🟦🟦🟦🟦🟦🟦🟦🟦🟦🟦🟦🟦🟦🟦🟦🟦🟦🟦🟦`;\n",
              "    </script>\n",
              "    "
            ],
            "text/plain": [
              "<IPython.core.display.HTML object>"
            ]
          },
          "metadata": {},
          "output_type": "display_data"
        },
        {
          "data": {
            "text/html": [
              "\n",
              "    <script>\n",
              "    document.getElementById('maze').innerHTML = `🟦🟦🟦🟦🟦🟦🟦🟦🟦🟦🟦🟦🟦🟦🟦🟦🟦🟦🟦🟦🟦<br>🟦⬜🟦⬜⬜⬜⬜⬜⬜⬜⬜⬜🟦😼🟦🟦🟦🟦🟦🟦🟦<br>🟦⬜🟦⬜🟦🟦🟦🟦🟦🟦🟦⬜🟦⬜🟦🟦🟦🟦🟦🟦🟦<br>🟦⬜⬜⬜🟦🟦🟦🟦🟦🟦🟦⬜⬜⬜🟦🟦🟦🟦🟦🟦🟦<br>🟦🟦🟦🟦🟦🟦🟦🟦🟦🟦🟦🟦🟦🟦🟦🟦🟦🟦🟦🟦🟦<br>🟦🟦🟦🟦🟦🟦🟦🟦🟦🟦🟦🟦🟦🟦🟦🟦🟦🟦🟦🟦🟦<br>🟦🟦🟦🟦🟦🟦🟦🟦🟦🟦🟦🟦🟦🟦🟦🟦🟦🟦🟦🟦🟦<br>🟦🟦🟦🟦🟦🟦🟦🟦🟦🟦🟦🟦🟦🟦🟦🟦🟦🟦🟦🟦🟦<br>🟦🟦🟦🟦🟦🟦🟦🟦🟦🟦🟦🟦🟦🟦🟦🟦🟦🟦🟦🟦🟦<br>🟦🟦🟦🟦🟦🟦🟦🟦🟦🟦🟦🟦🟦🟦🟦🟦🟦🟦🟦🟦🟦<br>🟦🟦🟦🟦🟦🟦🟦🟦🟦🟦🟦🟦🟦🟦🟦🟦🟦🟦🟦🟦🟦`;\n",
              "    </script>\n",
              "    "
            ],
            "text/plain": [
              "<IPython.core.display.HTML object>"
            ]
          },
          "metadata": {},
          "output_type": "display_data"
        },
        {
          "data": {
            "text/html": [
              "\n",
              "    <script>\n",
              "    document.getElementById('maze').innerHTML = `🟦🟦🟦🟦🟦🟦🟦🟦🟦🟦🟦🟦🟦🟦🟦🟦🟦🟦🟦🟦🟦<br>🟦⬜🟦⬜⬜⬜⬜⬜⬜⬜⬜⬜🟦⬜⬜😼🟦🟦🟦🟦🟦<br>🟦⬜🟦⬜🟦🟦🟦🟦🟦🟦🟦⬜🟦⬜🟦🟦🟦🟦🟦🟦🟦<br>🟦⬜⬜⬜🟦🟦🟦🟦🟦🟦🟦⬜⬜⬜🟦🟦🟦🟦🟦🟦🟦<br>🟦🟦🟦🟦🟦🟦🟦🟦🟦🟦🟦🟦🟦🟦🟦🟦🟦🟦🟦🟦🟦<br>🟦🟦🟦🟦🟦🟦🟦🟦🟦🟦🟦🟦🟦🟦🟦🟦🟦🟦🟦🟦🟦<br>🟦🟦🟦🟦🟦🟦🟦🟦🟦🟦🟦🟦🟦🟦🟦🟦🟦🟦🟦🟦🟦<br>🟦🟦🟦🟦🟦🟦🟦🟦🟦🟦🟦🟦🟦🟦🟦🟦🟦🟦🟦🟦🟦<br>🟦🟦🟦🟦🟦🟦🟦🟦🟦🟦🟦🟦🟦🟦🟦🟦🟦🟦🟦🟦🟦<br>🟦🟦🟦🟦🟦🟦🟦🟦🟦🟦🟦🟦🟦🟦🟦🟦🟦🟦🟦🟦🟦<br>🟦🟦🟦🟦🟦🟦🟦🟦🟦🟦🟦🟦🟦🟦🟦🟦🟦🟦🟦🟦🟦`;\n",
              "    </script>\n",
              "    "
            ],
            "text/plain": [
              "<IPython.core.display.HTML object>"
            ]
          },
          "metadata": {},
          "output_type": "display_data"
        },
        {
          "data": {
            "text/html": [
              "\n",
              "    <script>\n",
              "    document.getElementById('maze').innerHTML = `🟦🟦🟦🟦🟦🟦🟦🟦🟦🟦🟦🟦🟦🟦🟦🟦🟦🟦🟦🟦🟦<br>🟦⬜🟦⬜⬜⬜⬜⬜⬜⬜⬜⬜🟦⬜⬜⬜⬜😼🟦🟦🟦<br>🟦⬜🟦⬜🟦🟦🟦🟦🟦🟦🟦⬜🟦⬜🟦🟦🟦🟦🟦🟦🟦<br>🟦⬜⬜⬜🟦🟦🟦🟦🟦🟦🟦⬜⬜⬜🟦🟦🟦🟦🟦🟦🟦<br>🟦🟦🟦🟦🟦🟦🟦🟦🟦🟦🟦🟦🟦🟦🟦🟦🟦🟦🟦🟦🟦<br>🟦🟦🟦🟦🟦🟦🟦🟦🟦🟦🟦🟦🟦🟦🟦🟦🟦🟦🟦🟦🟦<br>🟦🟦🟦🟦🟦🟦🟦🟦🟦🟦🟦🟦🟦🟦🟦🟦🟦🟦🟦🟦🟦<br>🟦🟦🟦🟦🟦🟦🟦🟦🟦🟦🟦🟦🟦🟦🟦🟦🟦🟦🟦🟦🟦<br>🟦🟦🟦🟦🟦🟦🟦🟦🟦🟦🟦🟦🟦🟦🟦🟦🟦🟦🟦🟦🟦<br>🟦🟦🟦🟦🟦🟦🟦🟦🟦🟦🟦🟦🟦🟦🟦🟦🟦🟦🟦🟦🟦<br>🟦🟦🟦🟦🟦🟦🟦🟦🟦🟦🟦🟦🟦🟦🟦🟦🟦🟦🟦🟦🟦`;\n",
              "    </script>\n",
              "    "
            ],
            "text/plain": [
              "<IPython.core.display.HTML object>"
            ]
          },
          "metadata": {},
          "output_type": "display_data"
        },
        {
          "data": {
            "text/html": [
              "\n",
              "    <script>\n",
              "    document.getElementById('maze').innerHTML = `🟦🟦🟦🟦🟦🟦🟦🟦🟦🟦🟦🟦🟦🟦🟦🟦🟦🟦🟦🟦🟦<br>🟦⬜🟦⬜⬜⬜⬜⬜⬜⬜⬜⬜🟦⬜⬜⬜⬜⬜⬜😼🟦<br>🟦⬜🟦⬜🟦🟦🟦🟦🟦🟦🟦⬜🟦⬜🟦🟦🟦🟦🟦🟦🟦<br>🟦⬜⬜⬜🟦🟦🟦🟦🟦🟦🟦⬜⬜⬜🟦🟦🟦🟦🟦🟦🟦<br>🟦🟦🟦🟦🟦🟦🟦🟦🟦🟦🟦🟦🟦🟦🟦🟦🟦🟦🟦🟦🟦<br>🟦🟦🟦🟦🟦🟦🟦🟦🟦🟦🟦🟦🟦🟦🟦🟦🟦🟦🟦🟦🟦<br>🟦🟦🟦🟦🟦🟦🟦🟦🟦🟦🟦🟦🟦🟦🟦🟦🟦🟦🟦🟦🟦<br>🟦🟦🟦🟦🟦🟦🟦🟦🟦🟦🟦🟦🟦🟦🟦🟦🟦🟦🟦🟦🟦<br>🟦🟦🟦🟦🟦🟦🟦🟦🟦🟦🟦🟦🟦🟦🟦🟦🟦🟦🟦🟦🟦<br>🟦🟦🟦🟦🟦🟦🟦🟦🟦🟦🟦🟦🟦🟦🟦🟦🟦🟦🟦🟦🟦<br>🟦🟦🟦🟦🟦🟦🟦🟦🟦🟦🟦🟦🟦🟦🟦🟦🟦🟦🟦🟦🟦`;\n",
              "    </script>\n",
              "    "
            ],
            "text/plain": [
              "<IPython.core.display.HTML object>"
            ]
          },
          "metadata": {},
          "output_type": "display_data"
        },
        {
          "data": {
            "text/html": [
              "\n",
              "    <script>\n",
              "    document.getElementById('maze').innerHTML = `🟦🟦🟦🟦🟦🟦🟦🟦🟦🟦🟦🟦🟦🟦🟦🟦🟦🟦🟦🟦🟦<br>🟦⬜🟦⬜⬜⬜⬜⬜⬜⬜⬜⬜🟦⬜⬜⬜⬜⬜⬜⬜🟦<br>🟦⬜🟦⬜🟦🟦🟦🟦🟦🟦🟦⬜🟦⬜🟦🟦🟦🟦🟦⬜🟦<br>🟦⬜⬜⬜🟦🟦🟦🟦🟦🟦🟦⬜⬜⬜🟦🟦🟦🟦🟦😼🟦<br>🟦🟦🟦🟦🟦🟦🟦🟦🟦🟦🟦🟦🟦🟦🟦🟦🟦🟦🟦🟦🟦<br>🟦🟦🟦🟦🟦🟦🟦🟦🟦🟦🟦🟦🟦🟦🟦🟦🟦🟦🟦🟦🟦<br>🟦🟦🟦🟦🟦🟦🟦🟦🟦🟦🟦🟦🟦🟦🟦🟦🟦🟦🟦🟦🟦<br>🟦🟦🟦🟦🟦🟦🟦🟦🟦🟦🟦🟦🟦🟦🟦🟦🟦🟦🟦🟦🟦<br>🟦🟦🟦🟦🟦🟦🟦🟦🟦🟦🟦🟦🟦🟦🟦🟦🟦🟦🟦🟦🟦<br>🟦🟦🟦🟦🟦🟦🟦🟦🟦🟦🟦🟦🟦🟦🟦🟦🟦🟦🟦🟦🟦<br>🟦🟦🟦🟦🟦🟦🟦🟦🟦🟦🟦🟦🟦🟦🟦🟦🟦🟦🟦🟦🟦`;\n",
              "    </script>\n",
              "    "
            ],
            "text/plain": [
              "<IPython.core.display.HTML object>"
            ]
          },
          "metadata": {},
          "output_type": "display_data"
        },
        {
          "data": {
            "text/html": [
              "\n",
              "    <script>\n",
              "    document.getElementById('maze').innerHTML = `🟦🟦🟦🟦🟦🟦🟦🟦🟦🟦🟦🟦🟦🟦🟦🟦🟦🟦🟦🟦🟦<br>🟦⬜🟦⬜⬜⬜⬜⬜⬜⬜⬜⬜🟦⬜⬜⬜⬜⬜⬜⬜🟦<br>🟦⬜🟦⬜🟦🟦🟦🟦🟦🟦🟦⬜🟦⬜🟦🟦🟦🟦🟦⬜🟦<br>🟦⬜⬜⬜🟦🟦🟦🟦🟦🟦🟦⬜⬜⬜🟦🟦🟦😼⬜⬜🟦<br>🟦🟦🟦🟦🟦🟦🟦🟦🟦🟦🟦🟦🟦🟦🟦🟦🟦🟦🟦🟦🟦<br>🟦🟦🟦🟦🟦🟦🟦🟦🟦🟦🟦🟦🟦🟦🟦🟦🟦🟦🟦🟦🟦<br>🟦🟦🟦🟦🟦🟦🟦🟦🟦🟦🟦🟦🟦🟦🟦🟦🟦🟦🟦🟦🟦<br>🟦🟦🟦🟦🟦🟦🟦🟦🟦🟦🟦🟦🟦🟦🟦🟦🟦🟦🟦🟦🟦<br>🟦🟦🟦🟦🟦🟦🟦🟦🟦🟦🟦🟦🟦🟦🟦🟦🟦🟦🟦🟦🟦<br>🟦🟦🟦🟦🟦🟦🟦🟦🟦🟦🟦🟦🟦🟦🟦🟦🟦🟦🟦🟦🟦<br>🟦🟦🟦🟦🟦🟦🟦🟦🟦🟦🟦🟦🟦🟦🟦🟦🟦🟦🟦🟦🟦`;\n",
              "    </script>\n",
              "    "
            ],
            "text/plain": [
              "<IPython.core.display.HTML object>"
            ]
          },
          "metadata": {},
          "output_type": "display_data"
        },
        {
          "data": {
            "text/html": [
              "\n",
              "    <script>\n",
              "    document.getElementById('maze').innerHTML = `🟦🟦🟦🟦🟦🟦🟦🟦🟦🟦🟦🟦🟦🟦🟦🟦🟦🟦🟦🟦🟦<br>🟦⬜🟦⬜⬜⬜⬜⬜⬜⬜⬜⬜🟦⬜⬜⬜⬜⬜⬜⬜🟦<br>🟦⬜🟦⬜🟦🟦🟦🟦🟦🟦🟦⬜🟦⬜🟦🟦🟦🟦🟦⬜🟦<br>🟦⬜⬜⬜🟦🟦🟦🟦🟦🟦🟦⬜⬜⬜🟦🟦🟦⬜⬜⬜🟦<br>🟦🟦🟦🟦🟦🟦🟦🟦🟦🟦🟦🟦🟦🟦🟦🟦🟦⬜🟦🟦🟦<br>🟦🟦🟦🟦🟦🟦🟦🟦🟦🟦🟦🟦🟦🟦🟦🟦🟦😼🟦🟦🟦<br>🟦🟦🟦🟦🟦🟦🟦🟦🟦🟦🟦🟦🟦🟦🟦🟦🟦🟦🟦🟦🟦<br>🟦🟦🟦🟦🟦🟦🟦🟦🟦🟦🟦🟦🟦🟦🟦🟦🟦🟦🟦🟦🟦<br>🟦🟦🟦🟦🟦🟦🟦🟦🟦🟦🟦🟦🟦🟦🟦🟦🟦🟦🟦🟦🟦<br>🟦🟦🟦🟦🟦🟦🟦🟦🟦🟦🟦🟦🟦🟦🟦🟦🟦🟦🟦🟦🟦<br>🟦🟦🟦🟦🟦🟦🟦🟦🟦🟦🟦🟦🟦🟦🟦🟦🟦🟦🟦🟦🟦`;\n",
              "    </script>\n",
              "    "
            ],
            "text/plain": [
              "<IPython.core.display.HTML object>"
            ]
          },
          "metadata": {},
          "output_type": "display_data"
        },
        {
          "data": {
            "text/html": [
              "\n",
              "    <script>\n",
              "    document.getElementById('maze').innerHTML = `🟦🟦🟦🟦🟦🟦🟦🟦🟦🟦🟦🟦🟦🟦🟦🟦🟦🟦🟦🟦🟦<br>🟦⬜🟦⬜⬜⬜⬜⬜⬜⬜⬜⬜🟦⬜⬜⬜⬜⬜⬜⬜🟦<br>🟦⬜🟦⬜🟦🟦🟦🟦🟦🟦🟦⬜🟦⬜🟦🟦🟦🟦🟦⬜🟦<br>🟦⬜⬜⬜🟦🟦🟦🟦🟦🟦🟦⬜⬜⬜🟦🟦🟦⬜⬜⬜🟦<br>🟦🟦🟦🟦🟦🟦🟦🟦🟦🟦🟦🟦🟦🟦🟦🟦🟦⬜🟦🟦🟦<br>🟦🟦🟦🟦🟦🟦🟦🟦🟦🟦🟦🟦🟦🟦🟦🟦🟦⬜🟦🟦🟦<br>🟦🟦🟦🟦🟦🟦🟦🟦🟦🟦🟦🟦🟦🟦🟦🟦🟦⬜🟦🟦🟦<br>🟦🟦🟦🟦🟦🟦🟦🟦🟦🟦🟦🟦🟦🟦🟦🟦🟦😼🟦🟦🟦<br>🟦🟦🟦🟦🟦🟦🟦🟦🟦🟦🟦🟦🟦🟦🟦🟦🟦🟦🟦🟦🟦<br>🟦🟦🟦🟦🟦🟦🟦🟦🟦🟦🟦🟦🟦🟦🟦🟦🟦🟦🟦🟦🟦<br>🟦🟦🟦🟦🟦🟦🟦🟦🟦🟦🟦🟦🟦🟦🟦🟦🟦🟦🟦🟦🟦`;\n",
              "    </script>\n",
              "    "
            ],
            "text/plain": [
              "<IPython.core.display.HTML object>"
            ]
          },
          "metadata": {},
          "output_type": "display_data"
        },
        {
          "data": {
            "text/html": [
              "\n",
              "    <script>\n",
              "    document.getElementById('maze').innerHTML = `🟦🟦🟦🟦🟦🟦🟦🟦🟦🟦🟦🟦🟦🟦🟦🟦🟦🟦🟦🟦🟦<br>🟦⬜🟦⬜⬜⬜⬜⬜⬜⬜⬜⬜🟦⬜⬜⬜⬜⬜⬜⬜🟦<br>🟦⬜🟦⬜🟦🟦🟦🟦🟦🟦🟦⬜🟦⬜🟦🟦🟦🟦🟦⬜🟦<br>🟦⬜⬜⬜🟦🟦🟦🟦🟦🟦🟦⬜⬜⬜🟦🟦🟦⬜⬜⬜🟦<br>🟦🟦🟦🟦🟦🟦🟦🟦🟦🟦🟦🟦🟦🟦🟦🟦🟦⬜🟦🟦🟦<br>🟦🟦🟦🟦🟦🟦🟦🟦🟦🟦🟦🟦🟦🟦🟦🟦🟦⬜🟦🟦🟦<br>🟦🟦🟦🟦🟦🟦🟦🟦🟦🟦🟦🟦🟦🟦🟦🟦🟦⬜🟦🟦🟦<br>🟦🟦🟦🟦🟦🟦🟦🟦🟦🟦🟦🟦🟦🟦🟦😼⬜⬜🟦🟦🟦<br>🟦🟦🟦🟦🟦🟦🟦🟦🟦🟦🟦🟦🟦🟦🟦🟦🟦🟦🟦🟦🟦<br>🟦🟦🟦🟦🟦🟦🟦🟦🟦🟦🟦🟦🟦🟦🟦🟦🟦🟦🟦🟦🟦<br>🟦🟦🟦🟦🟦🟦🟦🟦🟦🟦🟦🟦🟦🟦🟦🟦🟦🟦🟦🟦🟦`;\n",
              "    </script>\n",
              "    "
            ],
            "text/plain": [
              "<IPython.core.display.HTML object>"
            ]
          },
          "metadata": {},
          "output_type": "display_data"
        },
        {
          "data": {
            "text/html": [
              "\n",
              "    <script>\n",
              "    document.getElementById('maze').innerHTML = `🟦🟦🟦🟦🟦🟦🟦🟦🟦🟦🟦🟦🟦🟦🟦🟦🟦🟦🟦🟦🟦<br>🟦⬜🟦⬜⬜⬜⬜⬜⬜⬜⬜⬜🟦⬜⬜⬜⬜⬜⬜⬜🟦<br>🟦⬜🟦⬜🟦🟦🟦🟦🟦🟦🟦⬜🟦⬜🟦🟦🟦🟦🟦⬜🟦<br>🟦⬜⬜⬜🟦🟦🟦🟦🟦🟦🟦⬜⬜⬜🟦🟦🟦⬜⬜⬜🟦<br>🟦🟦🟦🟦🟦🟦🟦🟦🟦🟦🟦🟦🟦🟦🟦🟦🟦⬜🟦🟦🟦<br>🟦🟦🟦🟦🟦🟦🟦🟦🟦🟦🟦🟦🟦🟦🟦🟦🟦⬜🟦🟦🟦<br>🟦🟦🟦🟦🟦🟦🟦🟦🟦🟦🟦🟦🟦🟦🟦🟦🟦⬜🟦🟦🟦<br>🟦🟦🟦🟦🟦🟦🟦🟦🟦🟦🟦🟦🟦😼⬜⬜⬜⬜🟦🟦🟦<br>🟦🟦🟦🟦🟦🟦🟦🟦🟦🟦🟦🟦🟦🟦🟦🟦🟦🟦🟦🟦🟦<br>🟦🟦🟦🟦🟦🟦🟦🟦🟦🟦🟦🟦🟦🟦🟦🟦🟦🟦🟦🟦🟦<br>🟦🟦🟦🟦🟦🟦🟦🟦🟦🟦🟦🟦🟦🟦🟦🟦🟦🟦🟦🟦🟦`;\n",
              "    </script>\n",
              "    "
            ],
            "text/plain": [
              "<IPython.core.display.HTML object>"
            ]
          },
          "metadata": {},
          "output_type": "display_data"
        },
        {
          "data": {
            "text/html": [
              "\n",
              "    <script>\n",
              "    document.getElementById('maze').innerHTML = `🟦🟦🟦🟦🟦🟦🟦🟦🟦🟦🟦🟦🟦🟦🟦🟦🟦🟦🟦🟦🟦<br>🟦⬜🟦⬜⬜⬜⬜⬜⬜⬜⬜⬜🟦⬜⬜⬜⬜⬜⬜⬜🟦<br>🟦⬜🟦⬜🟦🟦🟦🟦🟦🟦🟦⬜🟦⬜🟦🟦🟦🟦🟦⬜🟦<br>🟦⬜⬜⬜🟦🟦🟦🟦🟦🟦🟦⬜⬜⬜🟦🟦🟦⬜⬜⬜🟦<br>🟦🟦🟦🟦🟦🟦🟦🟦🟦🟦🟦🟦🟦🟦🟦🟦🟦⬜🟦🟦🟦<br>🟦🟦🟦🟦🟦🟦🟦🟦🟦🟦🟦🟦🟦😼🟦🟦🟦⬜🟦🟦🟦<br>🟦🟦🟦🟦🟦🟦🟦🟦🟦🟦🟦🟦🟦⬜🟦🟦🟦⬜🟦🟦🟦<br>🟦🟦🟦🟦🟦🟦🟦🟦🟦🟦🟦🟦🟦⬜⬜⬜⬜⬜🟦🟦🟦<br>🟦🟦🟦🟦🟦🟦🟦🟦🟦🟦🟦🟦🟦🟦🟦🟦🟦🟦🟦🟦🟦<br>🟦🟦🟦🟦🟦🟦🟦🟦🟦🟦🟦🟦🟦🟦🟦🟦🟦🟦🟦🟦🟦<br>🟦🟦🟦🟦🟦🟦🟦🟦🟦🟦🟦🟦🟦🟦🟦🟦🟦🟦🟦🟦🟦`;\n",
              "    </script>\n",
              "    "
            ],
            "text/plain": [
              "<IPython.core.display.HTML object>"
            ]
          },
          "metadata": {},
          "output_type": "display_data"
        },
        {
          "data": {
            "text/html": [
              "\n",
              "    <script>\n",
              "    document.getElementById('maze').innerHTML = `🟦🟦🟦🟦🟦🟦🟦🟦🟦🟦🟦🟦🟦🟦🟦🟦🟦🟦🟦🟦🟦<br>🟦⬜🟦⬜⬜⬜⬜⬜⬜⬜⬜⬜🟦⬜⬜⬜⬜⬜⬜⬜🟦<br>🟦⬜🟦⬜🟦🟦🟦🟦🟦🟦🟦⬜🟦⬜🟦🟦🟦🟦🟦⬜🟦<br>🟦⬜⬜⬜🟦🟦🟦🟦🟦🟦🟦⬜⬜⬜🟦🟦🟦⬜⬜⬜🟦<br>🟦🟦🟦🟦🟦🟦🟦🟦🟦🟦🟦🟦🟦🟦🟦🟦🟦⬜🟦🟦🟦<br>🟦🟦🟦🟦🟦🟦🟦🟦🟦🟦🟦😼⬜⬜🟦🟦🟦⬜🟦🟦🟦<br>🟦🟦🟦🟦🟦🟦🟦🟦🟦🟦🟦🟦🟦⬜🟦🟦🟦⬜🟦🟦🟦<br>🟦🟦🟦🟦🟦🟦🟦🟦🟦🟦🟦🟦🟦⬜⬜⬜⬜⬜🟦🟦🟦<br>🟦🟦🟦🟦🟦🟦🟦🟦🟦🟦🟦🟦🟦🟦🟦🟦🟦🟦🟦🟦🟦<br>🟦🟦🟦🟦🟦🟦🟦🟦🟦🟦🟦🟦🟦🟦🟦🟦🟦🟦🟦🟦🟦<br>🟦🟦🟦🟦🟦🟦🟦🟦🟦🟦🟦🟦🟦🟦🟦🟦🟦🟦🟦🟦🟦`;\n",
              "    </script>\n",
              "    "
            ],
            "text/plain": [
              "<IPython.core.display.HTML object>"
            ]
          },
          "metadata": {},
          "output_type": "display_data"
        },
        {
          "data": {
            "text/html": [
              "\n",
              "    <script>\n",
              "    document.getElementById('maze').innerHTML = `🟦🟦🟦🟦🟦🟦🟦🟦🟦🟦🟦🟦🟦🟦🟦🟦🟦🟦🟦🟦🟦<br>🟦⬜🟦⬜⬜⬜⬜⬜⬜⬜⬜⬜🟦⬜⬜⬜⬜⬜⬜⬜🟦<br>🟦⬜🟦⬜🟦🟦🟦🟦🟦🟦🟦⬜🟦⬜🟦🟦🟦🟦🟦⬜🟦<br>🟦⬜⬜⬜🟦🟦🟦🟦🟦🟦🟦⬜⬜⬜🟦🟦🟦⬜⬜⬜🟦<br>🟦🟦🟦🟦🟦🟦🟦🟦🟦🟦🟦🟦🟦🟦🟦🟦🟦⬜🟦🟦🟦<br>🟦🟦🟦🟦🟦🟦🟦🟦🟦🟦🟦⬜⬜⬜🟦🟦🟦⬜🟦🟦🟦<br>🟦🟦🟦🟦🟦🟦🟦🟦🟦🟦🟦⬜🟦⬜🟦🟦🟦⬜🟦🟦🟦<br>🟦🟦🟦🟦🟦🟦🟦🟦🟦🟦🟦😼🟦⬜⬜⬜⬜⬜🟦🟦🟦<br>🟦🟦🟦🟦🟦🟦🟦🟦🟦🟦🟦🟦🟦🟦🟦🟦🟦🟦🟦🟦🟦<br>🟦🟦🟦🟦🟦🟦🟦🟦🟦🟦🟦🟦🟦🟦🟦🟦🟦🟦🟦🟦🟦<br>🟦🟦🟦🟦🟦🟦🟦🟦🟦🟦🟦🟦🟦🟦🟦🟦🟦🟦🟦🟦🟦`;\n",
              "    </script>\n",
              "    "
            ],
            "text/plain": [
              "<IPython.core.display.HTML object>"
            ]
          },
          "metadata": {},
          "output_type": "display_data"
        },
        {
          "data": {
            "text/html": [
              "\n",
              "    <script>\n",
              "    document.getElementById('maze').innerHTML = `🟦🟦🟦🟦🟦🟦🟦🟦🟦🟦🟦🟦🟦🟦🟦🟦🟦🟦🟦🟦🟦<br>🟦⬜🟦⬜⬜⬜⬜⬜⬜⬜⬜⬜🟦⬜⬜⬜⬜⬜⬜⬜🟦<br>🟦⬜🟦⬜🟦🟦🟦🟦🟦🟦🟦⬜🟦⬜🟦🟦🟦🟦🟦⬜🟦<br>🟦⬜⬜⬜🟦🟦🟦🟦🟦🟦🟦⬜⬜⬜🟦🟦🟦⬜⬜⬜🟦<br>🟦🟦🟦🟦🟦🟦🟦🟦🟦🟦🟦🟦🟦🟦🟦🟦🟦⬜🟦🟦🟦<br>🟦🟦🟦🟦🟦🟦🟦🟦🟦🟦🟦⬜⬜⬜🟦🟦🟦⬜🟦🟦🟦<br>🟦🟦🟦🟦🟦🟦🟦🟦🟦🟦🟦⬜🟦⬜🟦🟦🟦⬜🟦🟦🟦<br>🟦🟦🟦🟦🟦🟦🟦🟦🟦😼⬜⬜🟦⬜⬜⬜⬜⬜🟦🟦🟦<br>🟦🟦🟦🟦🟦🟦🟦🟦🟦🟦🟦🟦🟦🟦🟦🟦🟦🟦🟦🟦🟦<br>🟦🟦🟦🟦🟦🟦🟦🟦🟦🟦🟦🟦🟦🟦🟦🟦🟦🟦🟦🟦🟦<br>🟦🟦🟦🟦🟦🟦🟦🟦🟦🟦🟦🟦🟦🟦🟦🟦🟦🟦🟦🟦🟦`;\n",
              "    </script>\n",
              "    "
            ],
            "text/plain": [
              "<IPython.core.display.HTML object>"
            ]
          },
          "metadata": {},
          "output_type": "display_data"
        },
        {
          "data": {
            "text/html": [
              "\n",
              "    <script>\n",
              "    document.getElementById('maze').innerHTML = `🟦🟦🟦🟦🟦🟦🟦🟦🟦🟦🟦🟦🟦🟦🟦🟦🟦🟦🟦🟦🟦<br>🟦⬜🟦⬜⬜⬜⬜⬜⬜⬜⬜⬜🟦⬜⬜⬜⬜⬜⬜⬜🟦<br>🟦⬜🟦⬜🟦🟦🟦🟦🟦🟦🟦⬜🟦⬜🟦🟦🟦🟦🟦⬜🟦<br>🟦⬜⬜⬜🟦🟦🟦🟦🟦🟦🟦⬜⬜⬜🟦🟦🟦⬜⬜⬜🟦<br>🟦🟦🟦🟦🟦🟦🟦🟦🟦🟦🟦🟦🟦🟦🟦🟦🟦⬜🟦🟦🟦<br>🟦🟦🟦🟦🟦🟦🟦🟦🟦🟦🟦⬜⬜⬜🟦🟦🟦⬜🟦🟦🟦<br>🟦🟦🟦🟦🟦🟦🟦🟦🟦🟦🟦⬜🟦⬜🟦🟦🟦⬜🟦🟦🟦<br>🟦🟦🟦🟦🟦🟦🟦🟦🟦⬜⬜⬜🟦⬜⬜⬜⬜⬜🟦🟦🟦<br>🟦🟦🟦🟦🟦🟦🟦🟦🟦⬜🟦🟦🟦🟦🟦🟦🟦🟦🟦🟦🟦<br>🟦🟦🟦🟦🟦🟦🟦🟦🟦😼🟦🟦🟦🟦🟦🟦🟦🟦🟦🟦🟦<br>🟦🟦🟦🟦🟦🟦🟦🟦🟦🟦🟦🟦🟦🟦🟦🟦🟦🟦🟦🟦🟦`;\n",
              "    </script>\n",
              "    "
            ],
            "text/plain": [
              "<IPython.core.display.HTML object>"
            ]
          },
          "metadata": {},
          "output_type": "display_data"
        },
        {
          "data": {
            "text/html": [
              "\n",
              "    <script>\n",
              "    document.getElementById('maze').innerHTML = `🟦🟦🟦🟦🟦🟦🟦🟦🟦🟦🟦🟦🟦🟦🟦🟦🟦🟦🟦🟦🟦<br>🟦⬜🟦⬜⬜⬜⬜⬜⬜⬜⬜⬜🟦⬜⬜⬜⬜⬜⬜⬜🟦<br>🟦⬜🟦⬜🟦🟦🟦🟦🟦🟦🟦⬜🟦⬜🟦🟦🟦🟦🟦⬜🟦<br>🟦⬜⬜⬜🟦🟦🟦🟦🟦🟦🟦⬜⬜⬜🟦🟦🟦⬜⬜⬜🟦<br>🟦🟦🟦🟦🟦🟦🟦🟦🟦🟦🟦🟦🟦🟦🟦🟦🟦⬜🟦🟦🟦<br>🟦🟦🟦🟦🟦🟦🟦🟦🟦🟦🟦⬜⬜⬜🟦🟦🟦⬜🟦🟦🟦<br>🟦🟦🟦🟦🟦🟦🟦🟦🟦🟦🟦⬜🟦⬜🟦🟦🟦⬜🟦🟦🟦<br>🟦🟦🟦🟦🟦🟦🟦🟦🟦⬜⬜⬜🟦⬜⬜⬜⬜⬜🟦🟦🟦<br>🟦🟦🟦🟦🟦🟦🟦🟦🟦⬜🟦🟦🟦🟦🟦🟦🟦🟦🟦🟦🟦<br>🟦🟦🟦🟦🟦🟦🟦😼⬜⬜🟦🟦🟦🟦🟦🟦🟦🟦🟦🟦🟦<br>🟦🟦🟦🟦🟦🟦🟦🟦🟦🟦🟦🟦🟦🟦🟦🟦🟦🟦🟦🟦🟦`;\n",
              "    </script>\n",
              "    "
            ],
            "text/plain": [
              "<IPython.core.display.HTML object>"
            ]
          },
          "metadata": {},
          "output_type": "display_data"
        },
        {
          "data": {
            "text/html": [
              "\n",
              "    <script>\n",
              "    document.getElementById('maze').innerHTML = `🟦🟦🟦🟦🟦🟦🟦🟦🟦🟦🟦🟦🟦🟦🟦🟦🟦🟦🟦🟦🟦<br>🟦⬜🟦⬜⬜⬜⬜⬜⬜⬜⬜⬜🟦⬜⬜⬜⬜⬜⬜⬜🟦<br>🟦⬜🟦⬜🟦🟦🟦🟦🟦🟦🟦⬜🟦⬜🟦🟦🟦🟦🟦⬜🟦<br>🟦⬜⬜⬜🟦🟦🟦🟦🟦🟦🟦⬜⬜⬜🟦🟦🟦⬜⬜⬜🟦<br>🟦🟦🟦🟦🟦🟦🟦🟦🟦🟦🟦🟦🟦🟦🟦🟦🟦⬜🟦🟦🟦<br>🟦🟦🟦🟦🟦🟦🟦🟦🟦🟦🟦⬜⬜⬜🟦🟦🟦⬜🟦🟦🟦<br>🟦🟦🟦🟦🟦🟦🟦🟦🟦🟦🟦⬜🟦⬜🟦🟦🟦⬜🟦🟦🟦<br>🟦🟦🟦🟦🟦🟦🟦😼🟦⬜⬜⬜🟦⬜⬜⬜⬜⬜🟦🟦🟦<br>🟦🟦🟦🟦🟦🟦🟦⬜🟦⬜🟦🟦🟦🟦🟦🟦🟦🟦🟦🟦🟦<br>🟦🟦🟦🟦🟦🟦🟦⬜⬜⬜🟦🟦🟦🟦🟦🟦🟦🟦🟦🟦🟦<br>🟦🟦🟦🟦🟦🟦🟦🟦🟦🟦🟦🟦🟦🟦🟦🟦🟦🟦🟦🟦🟦`;\n",
              "    </script>\n",
              "    "
            ],
            "text/plain": [
              "<IPython.core.display.HTML object>"
            ]
          },
          "metadata": {},
          "output_type": "display_data"
        },
        {
          "data": {
            "text/html": [
              "\n",
              "    <script>\n",
              "    document.getElementById('maze').innerHTML = `🟦🟦🟦🟦🟦🟦🟦🟦🟦🟦🟦🟦🟦🟦🟦🟦🟦🟦🟦🟦🟦<br>🟦⬜🟦⬜⬜⬜⬜⬜⬜⬜⬜⬜🟦⬜⬜⬜⬜⬜⬜⬜🟦<br>🟦⬜🟦⬜🟦🟦🟦🟦🟦🟦🟦⬜🟦⬜🟦🟦🟦🟦🟦⬜🟦<br>🟦⬜⬜⬜🟦🟦🟦🟦🟦🟦🟦⬜⬜⬜🟦🟦🟦⬜⬜⬜🟦<br>🟦🟦🟦🟦🟦🟦🟦🟦🟦🟦🟦🟦🟦🟦🟦🟦🟦⬜🟦🟦🟦<br>🟦🟦🟦🟦🟦🟦🟦🟦🟦🟦🟦⬜⬜⬜🟦🟦🟦⬜🟦🟦🟦<br>🟦🟦🟦🟦🟦🟦🟦🟦🟦🟦🟦⬜🟦⬜🟦🟦🟦⬜🟦🟦🟦<br>🟦🟦🟦🟦🟦😼⬜⬜🟦⬜⬜⬜🟦⬜⬜⬜⬜⬜🟦🟦🟦<br>🟦🟦🟦🟦🟦🟦🟦⬜🟦⬜🟦🟦🟦🟦🟦🟦🟦🟦🟦🟦🟦<br>🟦🟦🟦🟦🟦🟦🟦⬜⬜⬜🟦🟦🟦🟦🟦🟦🟦🟦🟦🟦🟦<br>🟦🟦🟦🟦🟦🟦🟦🟦🟦🟦🟦🟦🟦🟦🟦🟦🟦🟦🟦🟦🟦`;\n",
              "    </script>\n",
              "    "
            ],
            "text/plain": [
              "<IPython.core.display.HTML object>"
            ]
          },
          "metadata": {},
          "output_type": "display_data"
        },
        {
          "data": {
            "text/html": [
              "\n",
              "    <script>\n",
              "    document.getElementById('maze').innerHTML = `🟦🟦🟦🟦🟦🟦🟦🟦🟦🟦🟦🟦🟦🟦🟦🟦🟦🟦🟦🟦🟦<br>🟦⬜🟦⬜⬜⬜⬜⬜⬜⬜⬜⬜🟦⬜⬜⬜⬜⬜⬜⬜🟦<br>🟦⬜🟦⬜🟦🟦🟦🟦🟦🟦🟦⬜🟦⬜🟦🟦🟦🟦🟦⬜🟦<br>🟦⬜⬜⬜🟦🟦🟦🟦🟦🟦🟦⬜⬜⬜🟦🟦🟦⬜⬜⬜🟦<br>🟦🟦🟦🟦🟦🟦🟦🟦🟦🟦🟦🟦🟦🟦🟦🟦🟦⬜🟦🟦🟦<br>🟦🟦🟦🟦🟦🟦🟦🟦🟦🟦🟦⬜⬜⬜🟦🟦🟦⬜🟦🟦🟦<br>🟦🟦🟦🟦🟦🟦🟦🟦🟦🟦🟦⬜🟦⬜🟦🟦🟦⬜🟦🟦🟦<br>🟦🟦🟦😼⬜⬜⬜⬜🟦⬜⬜⬜🟦⬜⬜⬜⬜⬜🟦🟦🟦<br>🟦🟦🟦🟦🟦🟦🟦⬜🟦⬜🟦🟦🟦🟦🟦🟦🟦🟦🟦🟦🟦<br>🟦🟦🟦🟦🟦🟦🟦⬜⬜⬜🟦🟦🟦🟦🟦🟦🟦🟦🟦🟦🟦<br>🟦🟦🟦🟦🟦🟦🟦🟦🟦🟦🟦🟦🟦🟦🟦🟦🟦🟦🟦🟦🟦`;\n",
              "    </script>\n",
              "    "
            ],
            "text/plain": [
              "<IPython.core.display.HTML object>"
            ]
          },
          "metadata": {},
          "output_type": "display_data"
        },
        {
          "data": {
            "text/html": [
              "\n",
              "    <script>\n",
              "    document.getElementById('maze').innerHTML = `🟦🟦🟦🟦🟦🟦🟦🟦🟦🟦🟦🟦🟦🟦🟦🟦🟦🟦🟦🟦🟦<br>🟦⬜🟦⬜⬜⬜⬜⬜⬜⬜⬜⬜🟦⬜⬜⬜⬜⬜⬜⬜🟦<br>🟦⬜🟦⬜🟦🟦🟦🟦🟦🟦🟦⬜🟦⬜🟦🟦🟦🟦🟦⬜🟦<br>🟦⬜⬜⬜🟦🟦🟦🟦🟦🟦🟦⬜⬜⬜🟦🟦🟦⬜⬜⬜🟦<br>🟦🟦🟦🟦🟦🟦🟦🟦🟦🟦🟦🟦🟦🟦🟦🟦🟦⬜🟦🟦🟦<br>🟦🟦🟦🟦🟦🟦🟦🟦🟦🟦🟦⬜⬜⬜🟦🟦🟦⬜🟦🟦🟦<br>🟦🟦🟦🟦🟦🟦🟦🟦🟦🟦🟦⬜🟦⬜🟦🟦🟦⬜🟦🟦🟦<br>🟦🟦🟦⬜⬜⬜⬜⬜🟦⬜⬜⬜🟦⬜⬜⬜⬜⬜🟦🟦🟦<br>🟦🟦🟦⬜🟦🟦🟦⬜🟦⬜🟦🟦🟦🟦🟦🟦🟦🟦🟦🟦🟦<br>🟦🟦🟦😼🟦🟦🟦⬜⬜⬜🟦🟦🟦🟦🟦🟦🟦🟦🟦🟦🟦<br>🟦🟦🟦🟦🟦🟦🟦🟦🟦🟦🟦🟦🟦🟦🟦🟦🟦🟦🟦🟦🟦`;\n",
              "    </script>\n",
              "    "
            ],
            "text/plain": [
              "<IPython.core.display.HTML object>"
            ]
          },
          "metadata": {},
          "output_type": "display_data"
        },
        {
          "data": {
            "text/html": [
              "\n",
              "    <script>\n",
              "    document.getElementById('maze').innerHTML = `🟦🟦🟦🟦🟦🟦🟦🟦🟦🟦🟦🟦🟦🟦🟦🟦🟦🟦🟦🟦🟦<br>🟦⬜🟦⬜⬜⬜⬜⬜⬜⬜⬜⬜🟦⬜⬜⬜⬜⬜⬜⬜🟦<br>🟦⬜🟦⬜🟦🟦🟦🟦🟦🟦🟦⬜🟦⬜🟦🟦🟦🟦🟦⬜🟦<br>🟦⬜⬜⬜🟦🟦🟦🟦🟦🟦🟦⬜⬜⬜🟦🟦🟦⬜⬜⬜🟦<br>🟦🟦🟦🟦🟦🟦🟦🟦🟦🟦🟦🟦🟦🟦🟦🟦🟦⬜🟦🟦🟦<br>🟦🟦🟦🟦🟦🟦🟦🟦🟦🟦🟦⬜⬜⬜🟦🟦🟦⬜🟦🟦🟦<br>🟦🟦🟦🟦🟦🟦🟦🟦🟦🟦🟦⬜🟦⬜🟦🟦🟦⬜🟦🟦🟦<br>🟦🟦🟦⬜⬜⬜⬜⬜🟦⬜⬜⬜🟦⬜⬜⬜⬜⬜🟦🟦🟦<br>🟦🟦🟦⬜🟦🟦🟦⬜🟦⬜🟦🟦🟦🟦🟦🟦🟦🟦🟦🟦🟦<br>🟦🟦🟦⬜⬜😼🟦⬜⬜⬜🟦🟦🟦🟦🟦🟦🟦🟦🟦🟦🟦<br>🟦🟦🟦🟦🟦🟦🟦🟦🟦🟦🟦🟦🟦🟦🟦🟦🟦🟦🟦🟦🟦`;\n",
              "    </script>\n",
              "    "
            ],
            "text/plain": [
              "<IPython.core.display.HTML object>"
            ]
          },
          "metadata": {},
          "output_type": "display_data"
        },
        {
          "data": {
            "text/html": [
              "\n",
              "    <script>\n",
              "    document.getElementById('maze').innerHTML = `🟦🟦🟦🟦🟦🟦🟦🟦🟦🟦🟦🟦🟦🟦🟦🟦🟦🟦🟦🟦🟦<br>🟦⬜🟦⬜⬜⬜⬜⬜⬜⬜⬜⬜🟦⬜⬜⬜⬜⬜⬜⬜🟦<br>🟦⬜🟦⬜🟦🟦🟦🟦🟦🟦🟦⬜🟦⬜🟦🟦🟦🟦🟦⬜🟦<br>🟦⬜⬜⬜🟦🟦🟦🟦🟦🟦🟦⬜⬜⬜🟦🟦🟦⬜⬜⬜🟦<br>🟦🟦🟦🟦🟦🟦🟦🟦🟦🟦🟦🟦🟦🟦🟦🟦🟦⬜🟦🟦🟦<br>🟦🟦🟦🟦🟦🟦🟦🟦🟦🟦🟦⬜⬜⬜🟦🟦🟦⬜🟦🟦🟦<br>🟦🟦🟦🟦🟦🟦🟦🟦🟦🟦🟦⬜🟦⬜🟦🟦🟦⬜🟦🟦🟦<br>🟦🟦🟦⬜⬜⬜⬜⬜🟦⬜⬜⬜🟦⬜⬜⬜⬜⬜🟦🟦🟦<br>🟦🟦🟦⬜🟦🟦🟦⬜🟦⬜🟦🟦🟦🟦🟦🟦🟦🟦🟦🟦🟦<br>🟦😼⬜⬜⬜⬜🟦⬜⬜⬜🟦🟦🟦🟦🟦🟦🟦🟦🟦🟦🟦<br>🟦🟦🟦🟦🟦🟦🟦🟦🟦🟦🟦🟦🟦🟦🟦🟦🟦🟦🟦🟦🟦`;\n",
              "    </script>\n",
              "    "
            ],
            "text/plain": [
              "<IPython.core.display.HTML object>"
            ]
          },
          "metadata": {},
          "output_type": "display_data"
        },
        {
          "data": {
            "text/html": [
              "\n",
              "    <script>\n",
              "    document.getElementById('maze').innerHTML = `🟦🟦🟦🟦🟦🟦🟦🟦🟦🟦🟦🟦🟦🟦🟦🟦🟦🟦🟦🟦🟦<br>🟦⬜🟦⬜⬜⬜⬜⬜⬜⬜⬜⬜🟦⬜⬜⬜⬜⬜⬜⬜🟦<br>🟦⬜🟦⬜🟦🟦🟦🟦🟦🟦🟦⬜🟦⬜🟦🟦🟦🟦🟦⬜🟦<br>🟦⬜⬜⬜🟦🟦🟦🟦🟦🟦🟦⬜⬜⬜🟦🟦🟦⬜⬜⬜🟦<br>🟦🟦🟦🟦🟦🟦🟦🟦🟦🟦🟦🟦🟦🟦🟦🟦🟦⬜🟦🟦🟦<br>🟦🟦🟦🟦🟦🟦🟦🟦🟦🟦🟦⬜⬜⬜🟦🟦🟦⬜🟦🟦🟦<br>🟦🟦🟦🟦🟦🟦🟦🟦🟦🟦🟦⬜🟦⬜🟦🟦🟦⬜🟦🟦🟦<br>🟦😼🟦⬜⬜⬜⬜⬜🟦⬜⬜⬜🟦⬜⬜⬜⬜⬜🟦🟦🟦<br>🟦⬜🟦⬜🟦🟦🟦⬜🟦⬜🟦🟦🟦🟦🟦🟦🟦🟦🟦🟦🟦<br>🟦⬜⬜⬜⬜⬜🟦⬜⬜⬜🟦🟦🟦🟦🟦🟦🟦🟦🟦🟦🟦<br>🟦🟦🟦🟦🟦🟦🟦🟦🟦🟦🟦🟦🟦🟦🟦🟦🟦🟦🟦🟦🟦`;\n",
              "    </script>\n",
              "    "
            ],
            "text/plain": [
              "<IPython.core.display.HTML object>"
            ]
          },
          "metadata": {},
          "output_type": "display_data"
        },
        {
          "data": {
            "text/html": [
              "\n",
              "    <script>\n",
              "    document.getElementById('maze').innerHTML = `🟦🟦🟦🟦🟦🟦🟦🟦🟦🟦🟦🟦🟦🟦🟦🟦🟦🟦🟦🟦🟦<br>🟦⬜🟦⬜⬜⬜⬜⬜⬜⬜⬜⬜🟦⬜⬜⬜⬜⬜⬜⬜🟦<br>🟦⬜🟦⬜🟦🟦🟦🟦🟦🟦🟦⬜🟦⬜🟦🟦🟦🟦🟦⬜🟦<br>🟦⬜⬜⬜🟦🟦🟦🟦🟦🟦🟦⬜⬜⬜🟦🟦🟦⬜⬜⬜🟦<br>🟦🟦🟦🟦🟦🟦🟦🟦🟦🟦🟦🟦🟦🟦🟦🟦🟦⬜🟦🟦🟦<br>🟦😼🟦🟦🟦🟦🟦🟦🟦🟦🟦⬜⬜⬜🟦🟦🟦⬜🟦🟦🟦<br>🟦⬜🟦🟦🟦🟦🟦🟦🟦🟦🟦⬜🟦⬜🟦🟦🟦⬜🟦🟦🟦<br>🟦⬜🟦⬜⬜⬜⬜⬜🟦⬜⬜⬜🟦⬜⬜⬜⬜⬜🟦🟦🟦<br>🟦⬜🟦⬜🟦🟦🟦⬜🟦⬜🟦🟦🟦🟦🟦🟦🟦🟦🟦🟦🟦<br>🟦⬜⬜⬜⬜⬜🟦⬜⬜⬜🟦🟦🟦🟦🟦🟦🟦🟦🟦🟦🟦<br>🟦🟦🟦🟦🟦🟦🟦🟦🟦🟦🟦🟦🟦🟦🟦🟦🟦🟦🟦🟦🟦`;\n",
              "    </script>\n",
              "    "
            ],
            "text/plain": [
              "<IPython.core.display.HTML object>"
            ]
          },
          "metadata": {},
          "output_type": "display_data"
        },
        {
          "data": {
            "text/html": [
              "\n",
              "    <script>\n",
              "    document.getElementById('maze').innerHTML = `🟦🟦🟦🟦🟦🟦🟦🟦🟦🟦🟦🟦🟦🟦🟦🟦🟦🟦🟦🟦🟦<br>🟦⬜🟦⬜⬜⬜⬜⬜⬜⬜⬜⬜🟦⬜⬜⬜⬜⬜⬜⬜🟦<br>🟦⬜🟦⬜🟦🟦🟦🟦🟦🟦🟦⬜🟦⬜🟦🟦🟦🟦🟦⬜🟦<br>🟦⬜⬜⬜🟦🟦🟦🟦🟦🟦🟦⬜⬜⬜🟦🟦🟦⬜⬜⬜🟦<br>🟦🟦🟦🟦🟦🟦🟦🟦🟦🟦🟦🟦🟦🟦🟦🟦🟦⬜🟦🟦🟦<br>🟦⬜⬜😼🟦🟦🟦🟦🟦🟦🟦⬜⬜⬜🟦🟦🟦⬜🟦🟦🟦<br>🟦⬜🟦🟦🟦🟦🟦🟦🟦🟦🟦⬜🟦⬜🟦🟦🟦⬜🟦🟦🟦<br>🟦⬜🟦⬜⬜⬜⬜⬜🟦⬜⬜⬜🟦⬜⬜⬜⬜⬜🟦🟦🟦<br>🟦⬜🟦⬜🟦🟦🟦⬜🟦⬜🟦🟦🟦🟦🟦🟦🟦🟦🟦🟦🟦<br>🟦⬜⬜⬜⬜⬜🟦⬜⬜⬜🟦🟦🟦🟦🟦🟦🟦🟦🟦🟦🟦<br>🟦🟦🟦🟦🟦🟦🟦🟦🟦🟦🟦🟦🟦🟦🟦🟦🟦🟦🟦🟦🟦`;\n",
              "    </script>\n",
              "    "
            ],
            "text/plain": [
              "<IPython.core.display.HTML object>"
            ]
          },
          "metadata": {},
          "output_type": "display_data"
        },
        {
          "data": {
            "text/html": [
              "\n",
              "    <script>\n",
              "    document.getElementById('maze').innerHTML = `🟦🟦🟦🟦🟦🟦🟦🟦🟦🟦🟦🟦🟦🟦🟦🟦🟦🟦🟦🟦🟦<br>🟦⬜🟦⬜⬜⬜⬜⬜⬜⬜⬜⬜🟦⬜⬜⬜⬜⬜⬜⬜🟦<br>🟦⬜🟦⬜🟦🟦🟦🟦🟦🟦🟦⬜🟦⬜🟦🟦🟦🟦🟦⬜🟦<br>🟦⬜⬜⬜🟦🟦🟦🟦🟦🟦🟦⬜⬜⬜🟦🟦🟦⬜⬜⬜🟦<br>🟦🟦🟦🟦🟦🟦🟦🟦🟦🟦🟦🟦🟦🟦🟦🟦🟦⬜🟦🟦🟦<br>🟦⬜⬜⬜⬜😼🟦🟦🟦🟦🟦⬜⬜⬜🟦🟦🟦⬜🟦🟦🟦<br>🟦⬜🟦🟦🟦🟦🟦🟦🟦🟦🟦⬜🟦⬜🟦🟦🟦⬜🟦🟦🟦<br>🟦⬜🟦⬜⬜⬜⬜⬜🟦⬜⬜⬜🟦⬜⬜⬜⬜⬜🟦🟦🟦<br>🟦⬜🟦⬜🟦🟦🟦⬜🟦⬜🟦🟦🟦🟦🟦🟦🟦🟦🟦🟦🟦<br>🟦⬜⬜⬜⬜⬜🟦⬜⬜⬜🟦🟦🟦🟦🟦🟦🟦🟦🟦🟦🟦<br>🟦🟦🟦🟦🟦🟦🟦🟦🟦🟦🟦🟦🟦🟦🟦🟦🟦🟦🟦🟦🟦`;\n",
              "    </script>\n",
              "    "
            ],
            "text/plain": [
              "<IPython.core.display.HTML object>"
            ]
          },
          "metadata": {},
          "output_type": "display_data"
        },
        {
          "data": {
            "text/html": [
              "\n",
              "    <script>\n",
              "    document.getElementById('maze').innerHTML = `🟦🟦🟦🟦🟦🟦🟦🟦🟦🟦🟦🟦🟦🟦🟦🟦🟦🟦🟦🟦🟦<br>🟦⬜🟦⬜⬜⬜⬜⬜⬜⬜⬜⬜🟦⬜⬜⬜⬜⬜⬜⬜🟦<br>🟦⬜🟦⬜🟦🟦🟦🟦🟦🟦🟦⬜🟦⬜🟦🟦🟦🟦🟦⬜🟦<br>🟦⬜⬜⬜🟦🟦🟦🟦🟦🟦🟦⬜⬜⬜🟦🟦🟦⬜⬜⬜🟦<br>🟦🟦🟦🟦🟦🟦🟦🟦🟦🟦🟦🟦🟦🟦🟦🟦🟦⬜🟦🟦🟦<br>🟦⬜⬜⬜⬜⬜⬜😼🟦🟦🟦⬜⬜⬜🟦🟦🟦⬜🟦🟦🟦<br>🟦⬜🟦🟦🟦🟦🟦🟦🟦🟦🟦⬜🟦⬜🟦🟦🟦⬜🟦🟦🟦<br>🟦⬜🟦⬜⬜⬜⬜⬜🟦⬜⬜⬜🟦⬜⬜⬜⬜⬜🟦🟦🟦<br>🟦⬜🟦⬜🟦🟦🟦⬜🟦⬜🟦🟦🟦🟦🟦🟦🟦🟦🟦🟦🟦<br>🟦⬜⬜⬜⬜⬜🟦⬜⬜⬜🟦🟦🟦🟦🟦🟦🟦🟦🟦🟦🟦<br>🟦🟦🟦🟦🟦🟦🟦🟦🟦🟦🟦🟦🟦🟦🟦🟦🟦🟦🟦🟦🟦`;\n",
              "    </script>\n",
              "    "
            ],
            "text/plain": [
              "<IPython.core.display.HTML object>"
            ]
          },
          "metadata": {},
          "output_type": "display_data"
        },
        {
          "data": {
            "text/html": [
              "\n",
              "    <script>\n",
              "    document.getElementById('maze').innerHTML = `🟦🟦🟦🟦🟦🟦🟦🟦🟦🟦🟦🟦🟦🟦🟦🟦🟦🟦🟦🟦🟦<br>🟦⬜🟦⬜⬜⬜⬜⬜⬜⬜⬜⬜🟦⬜⬜⬜⬜⬜⬜⬜🟦<br>🟦⬜🟦⬜🟦🟦🟦🟦🟦🟦🟦⬜🟦⬜🟦🟦🟦🟦🟦⬜🟦<br>🟦⬜⬜⬜🟦🟦🟦🟦🟦🟦🟦⬜⬜⬜🟦🟦🟦⬜⬜⬜🟦<br>🟦🟦🟦🟦🟦🟦🟦🟦🟦🟦🟦🟦🟦🟦🟦🟦🟦⬜🟦🟦🟦<br>🟦⬜⬜⬜⬜⬜⬜⬜⬜😼🟦⬜⬜⬜🟦🟦🟦⬜🟦🟦🟦<br>🟦⬜🟦🟦🟦🟦🟦🟦🟦🟦🟦⬜🟦⬜🟦🟦🟦⬜🟦🟦🟦<br>🟦⬜🟦⬜⬜⬜⬜⬜🟦⬜⬜⬜🟦⬜⬜⬜⬜⬜🟦🟦🟦<br>🟦⬜🟦⬜🟦🟦🟦⬜🟦⬜🟦🟦🟦🟦🟦🟦🟦🟦🟦🟦🟦<br>🟦⬜⬜⬜⬜⬜🟦⬜⬜⬜🟦🟦🟦🟦🟦🟦🟦🟦🟦🟦🟦<br>🟦🟦🟦🟦🟦🟦🟦🟦🟦🟦🟦🟦🟦🟦🟦🟦🟦🟦🟦🟦🟦`;\n",
              "    </script>\n",
              "    "
            ],
            "text/plain": [
              "<IPython.core.display.HTML object>"
            ]
          },
          "metadata": {},
          "output_type": "display_data"
        },
        {
          "data": {
            "text/html": [
              "\n",
              "    <script>\n",
              "    document.getElementById('maze').innerHTML = `🟦🟦🟦🟦🟦🟦🟦🟦🟦🟦🟦🟦🟦🟦🟦🟦🟦🟦🟦🟦🟦<br>🟦⬜🟦⬜⬜⬜⬜⬜⬜⬜⬜⬜🟦⬜⬜⬜⬜⬜⬜⬜🟦<br>🟦⬜🟦⬜🟦🟦🟦🟦🟦🟦🟦⬜🟦⬜🟦🟦🟦🟦🟦⬜🟦<br>🟦⬜⬜⬜🟦🟦🟦🟦🟦😼🟦⬜⬜⬜🟦🟦🟦⬜⬜⬜🟦<br>🟦🟦🟦🟦🟦🟦🟦🟦🟦⬜🟦🟦🟦🟦🟦🟦🟦⬜🟦🟦🟦<br>🟦⬜⬜⬜⬜⬜⬜⬜⬜⬜🟦⬜⬜⬜🟦🟦🟦⬜🟦🟦🟦<br>🟦⬜🟦🟦🟦🟦🟦🟦🟦🟦🟦⬜🟦⬜🟦🟦🟦⬜🟦🟦🟦<br>🟦⬜🟦⬜⬜⬜⬜⬜🟦⬜⬜⬜🟦⬜⬜⬜⬜⬜🟦🟦🟦<br>🟦⬜🟦⬜🟦🟦🟦⬜🟦⬜🟦🟦🟦🟦🟦🟦🟦🟦🟦🟦🟦<br>🟦⬜⬜⬜⬜⬜🟦⬜⬜⬜🟦🟦🟦🟦🟦🟦🟦🟦🟦🟦🟦<br>🟦🟦🟦🟦🟦🟦🟦🟦🟦🟦🟦🟦🟦🟦🟦🟦🟦🟦🟦🟦🟦`;\n",
              "    </script>\n",
              "    "
            ],
            "text/plain": [
              "<IPython.core.display.HTML object>"
            ]
          },
          "metadata": {},
          "output_type": "display_data"
        },
        {
          "data": {
            "text/html": [
              "\n",
              "    <script>\n",
              "    document.getElementById('maze').innerHTML = `🟦🟦🟦🟦🟦🟦🟦🟦🟦🟦🟦🟦🟦🟦🟦🟦🟦🟦🟦🟦🟦<br>🟦⬜🟦⬜⬜⬜⬜⬜⬜⬜⬜⬜🟦⬜⬜⬜⬜⬜⬜⬜🟦<br>🟦⬜🟦⬜🟦🟦🟦🟦🟦🟦🟦⬜🟦⬜🟦🟦🟦🟦🟦⬜🟦<br>🟦⬜⬜⬜🟦🟦🟦😼⬜⬜🟦⬜⬜⬜🟦🟦🟦⬜⬜⬜🟦<br>🟦🟦🟦🟦🟦🟦🟦🟦🟦⬜🟦🟦🟦🟦🟦🟦🟦⬜🟦🟦🟦<br>🟦⬜⬜⬜⬜⬜⬜⬜⬜⬜🟦⬜⬜⬜🟦🟦🟦⬜🟦🟦🟦<br>🟦⬜🟦🟦🟦🟦🟦🟦🟦🟦🟦⬜🟦⬜🟦🟦🟦⬜🟦🟦🟦<br>🟦⬜🟦⬜⬜⬜⬜⬜🟦⬜⬜⬜🟦⬜⬜⬜⬜⬜🟦🟦🟦<br>🟦⬜🟦⬜🟦🟦🟦⬜🟦⬜🟦🟦🟦🟦🟦🟦🟦🟦🟦🟦🟦<br>🟦⬜⬜⬜⬜⬜🟦⬜⬜⬜🟦🟦🟦🟦🟦🟦🟦🟦🟦🟦🟦<br>🟦🟦🟦🟦🟦🟦🟦🟦🟦🟦🟦🟦🟦🟦🟦🟦🟦🟦🟦🟦🟦`;\n",
              "    </script>\n",
              "    "
            ],
            "text/plain": [
              "<IPython.core.display.HTML object>"
            ]
          },
          "metadata": {},
          "output_type": "display_data"
        },
        {
          "data": {
            "text/html": [
              "\n",
              "    <script>\n",
              "    document.getElementById('maze').innerHTML = `🟦🟦🟦🟦🟦🟦🟦🟦🟦🟦🟦🟦🟦🟦🟦🟦🟦🟦🟦🟦🟦<br>🟦⬜🟦⬜⬜⬜⬜⬜⬜⬜⬜⬜🟦⬜⬜⬜⬜⬜⬜⬜🟦<br>🟦⬜🟦⬜🟦🟦🟦🟦🟦🟦🟦⬜🟦⬜🟦🟦🟦🟦🟦⬜🟦<br>🟦⬜⬜⬜🟦😼⬜⬜⬜⬜🟦⬜⬜⬜🟦🟦🟦⬜⬜⬜🟦<br>🟦🟦🟦🟦🟦🟦🟦🟦🟦⬜🟦🟦🟦🟦🟦🟦🟦⬜🟦🟦🟦<br>🟦⬜⬜⬜⬜⬜⬜⬜⬜⬜🟦⬜⬜⬜🟦🟦🟦⬜🟦🟦🟦<br>🟦⬜🟦🟦🟦🟦🟦🟦🟦🟦🟦⬜🟦⬜🟦🟦🟦⬜🟦🟦🟦<br>🟦⬜🟦⬜⬜⬜⬜⬜🟦⬜⬜⬜🟦⬜⬜⬜⬜⬜🟦🟦🟦<br>🟦⬜🟦⬜🟦🟦🟦⬜🟦⬜🟦🟦🟦🟦🟦🟦🟦🟦🟦🟦🟦<br>🟦⬜⬜⬜⬜⬜🟦⬜⬜⬜🟦🟦🟦🟦🟦🟦🟦🟦🟦🟦🟦<br>🟦🟦🟦🟦🟦🟦🟦🟦🟦🟦🟦🟦🟦🟦🟦🟦🟦🟦🟦🟦🟦`;\n",
              "    </script>\n",
              "    "
            ],
            "text/plain": [
              "<IPython.core.display.HTML object>"
            ]
          },
          "metadata": {},
          "output_type": "display_data"
        },
        {
          "data": {
            "text/html": [
              "\n",
              "    <script>\n",
              "    document.getElementById('maze').innerHTML = `🟦🟦🟦🟦🟦🟦🟦🟦🟦🟦🟦🟦🟦🟦🟦🟦🟦🟦🟦🟦🟦<br>🟦⬜🟦⬜⬜⬜⬜⬜⬜⬜⬜⬜🟦⬜⬜⬜⬜⬜⬜⬜🟦<br>🟦⬜🟦⬜🟦🟦🟦🟦🟦🟦🟦⬜🟦⬜🟦🟦🟦🟦🟦⬜🟦<br>🟦⬜⬜⬜🟦⬜⬜⬜⬜⬜🟦⬜⬜⬜🟦🟦🟦⬜⬜⬜🟦<br>🟦🟦🟦🟦🟦🟦🟦🟦🟦⬜🟦🟦🟦🟦🟦🟦🟦⬜🟦🟦🟦<br>🟦⬜⬜⬜⬜⬜⬜⬜⬜⬜🟦⬜⬜⬜🟦🟦🟦⬜🟦🟦🟦<br>🟦⬜🟦🟦🟦🟦🟦🟦🟦🟦🟦⬜🟦⬜🟦🟦🟦⬜🟦🟦🟦<br>🟦⬜🟦⬜⬜⬜⬜⬜🟦⬜⬜⬜🟦⬜⬜⬜⬜⬜🟦🟦🟦<br>🟦⬜🟦⬜🟦🟦🟦⬜🟦⬜🟦🟦🟦🟦🟦🟦🟦🟦🟦🟦🟦<br>🟦⬜⬜⬜⬜⬜🟦⬜⬜⬜⬜😼🟦🟦🟦🟦🟦🟦🟦🟦🟦<br>🟦🟦🟦🟦🟦🟦🟦🟦🟦🟦🟦🟦🟦🟦🟦🟦🟦🟦🟦🟦🟦`;\n",
              "    </script>\n",
              "    "
            ],
            "text/plain": [
              "<IPython.core.display.HTML object>"
            ]
          },
          "metadata": {},
          "output_type": "display_data"
        },
        {
          "data": {
            "text/html": [
              "\n",
              "    <script>\n",
              "    document.getElementById('maze').innerHTML = `🟦🟦🟦🟦🟦🟦🟦🟦🟦🟦🟦🟦🟦🟦🟦🟦🟦🟦🟦🟦🟦<br>🟦⬜🟦⬜⬜⬜⬜⬜⬜⬜⬜⬜🟦⬜⬜⬜⬜⬜⬜⬜🟦<br>🟦⬜🟦⬜🟦🟦🟦🟦🟦🟦🟦⬜🟦⬜🟦🟦🟦🟦🟦⬜🟦<br>🟦⬜⬜⬜🟦⬜⬜⬜⬜⬜🟦⬜⬜⬜🟦🟦🟦⬜⬜⬜🟦<br>🟦🟦🟦🟦🟦🟦🟦🟦🟦⬜🟦🟦🟦🟦🟦🟦🟦⬜🟦🟦🟦<br>🟦⬜⬜⬜⬜⬜⬜⬜⬜⬜🟦⬜⬜⬜🟦🟦🟦⬜🟦🟦🟦<br>🟦⬜🟦🟦🟦🟦🟦🟦🟦🟦🟦⬜🟦⬜🟦🟦🟦⬜🟦🟦🟦<br>🟦⬜🟦⬜⬜⬜⬜⬜🟦⬜⬜⬜🟦⬜⬜⬜⬜⬜🟦🟦🟦<br>🟦⬜🟦⬜🟦🟦🟦⬜🟦⬜🟦🟦🟦🟦🟦🟦🟦🟦🟦🟦🟦<br>🟦⬜⬜⬜⬜⬜🟦⬜⬜⬜⬜⬜⬜😼🟦🟦🟦🟦🟦🟦🟦<br>🟦🟦🟦🟦🟦🟦🟦🟦🟦🟦🟦🟦🟦🟦🟦🟦🟦🟦🟦🟦🟦`;\n",
              "    </script>\n",
              "    "
            ],
            "text/plain": [
              "<IPython.core.display.HTML object>"
            ]
          },
          "metadata": {},
          "output_type": "display_data"
        },
        {
          "data": {
            "text/html": [
              "\n",
              "    <script>\n",
              "    document.getElementById('maze').innerHTML = `🟦🟦🟦🟦🟦🟦🟦🟦🟦🟦🟦🟦🟦🟦🟦🟦🟦🟦🟦🟦🟦<br>🟦⬜🟦⬜⬜⬜⬜⬜⬜⬜⬜⬜🟦⬜⬜⬜⬜⬜⬜⬜🟦<br>🟦⬜🟦⬜🟦🟦🟦🟦🟦🟦🟦⬜🟦⬜🟦🟦🟦🟦🟦⬜🟦<br>🟦⬜⬜⬜🟦⬜⬜⬜⬜⬜🟦⬜⬜⬜🟦🟦🟦⬜⬜⬜🟦<br>🟦🟦🟦🟦🟦🟦🟦🟦🟦⬜🟦🟦🟦🟦🟦🟦🟦⬜🟦🟦🟦<br>🟦⬜⬜⬜⬜⬜⬜⬜⬜⬜🟦⬜⬜⬜🟦🟦🟦⬜🟦🟦🟦<br>🟦⬜🟦🟦🟦🟦🟦🟦🟦🟦🟦⬜🟦⬜🟦🟦🟦⬜🟦🟦🟦<br>🟦⬜🟦⬜⬜⬜⬜⬜🟦⬜⬜⬜🟦⬜⬜⬜⬜⬜🟦🟦🟦<br>🟦⬜🟦⬜🟦🟦🟦⬜🟦⬜🟦🟦🟦🟦🟦🟦🟦🟦🟦🟦🟦<br>🟦⬜⬜⬜⬜⬜🟦⬜⬜⬜⬜⬜⬜⬜⬜😼🟦🟦🟦🟦🟦<br>🟦🟦🟦🟦🟦🟦🟦🟦🟦🟦🟦🟦🟦🟦🟦🟦🟦🟦🟦🟦🟦`;\n",
              "    </script>\n",
              "    "
            ],
            "text/plain": [
              "<IPython.core.display.HTML object>"
            ]
          },
          "metadata": {},
          "output_type": "display_data"
        },
        {
          "data": {
            "text/html": [
              "\n",
              "    <script>\n",
              "    document.getElementById('maze').innerHTML = `🟦🟦🟦🟦🟦🟦🟦🟦🟦🟦🟦🟦🟦🟦🟦🟦🟦🟦🟦🟦🟦<br>🟦⬜🟦⬜⬜⬜⬜⬜⬜⬜⬜⬜🟦⬜⬜⬜⬜⬜⬜⬜🟦<br>🟦⬜🟦⬜🟦🟦🟦🟦🟦🟦🟦⬜🟦⬜🟦🟦🟦🟦🟦⬜🟦<br>🟦⬜⬜⬜🟦⬜⬜⬜⬜⬜🟦⬜⬜⬜🟦🟦🟦⬜⬜⬜🟦<br>🟦🟦🟦🟦🟦🟦🟦🟦🟦⬜🟦🟦🟦🟦🟦🟦🟦⬜🟦🟦🟦<br>🟦⬜⬜⬜⬜⬜⬜⬜⬜⬜🟦⬜⬜⬜🟦🟦🟦⬜🟦🟦🟦<br>🟦⬜🟦🟦🟦🟦🟦🟦🟦🟦🟦⬜🟦⬜🟦🟦🟦⬜🟦🟦🟦<br>🟦⬜🟦⬜⬜⬜⬜⬜🟦⬜⬜⬜🟦⬜⬜⬜⬜⬜🟦🟦🟦<br>🟦⬜🟦⬜🟦🟦🟦⬜🟦⬜🟦🟦🟦🟦🟦🟦🟦🟦🟦🟦🟦<br>🟦⬜⬜⬜⬜⬜🟦⬜⬜⬜⬜⬜⬜⬜⬜⬜⬜😼🟦🟦🟦<br>🟦🟦🟦🟦🟦🟦🟦🟦🟦🟦🟦🟦🟦🟦🟦🟦🟦🟦🟦🟦🟦`;\n",
              "    </script>\n",
              "    "
            ],
            "text/plain": [
              "<IPython.core.display.HTML object>"
            ]
          },
          "metadata": {},
          "output_type": "display_data"
        },
        {
          "data": {
            "text/html": [
              "\n",
              "    <script>\n",
              "    document.getElementById('maze').innerHTML = `🟦🟦🟦🟦🟦🟦🟦🟦🟦🟦🟦🟦🟦🟦🟦🟦🟦🟦🟦🟦🟦<br>🟦⬜🟦⬜⬜⬜⬜⬜⬜⬜⬜⬜🟦⬜⬜⬜⬜⬜⬜⬜🟦<br>🟦⬜🟦⬜🟦🟦🟦🟦🟦🟦🟦⬜🟦⬜🟦🟦🟦🟦🟦⬜🟦<br>🟦⬜⬜⬜🟦⬜⬜⬜⬜⬜🟦⬜⬜⬜🟦🟦🟦⬜⬜⬜🟦<br>🟦🟦🟦🟦🟦🟦🟦🟦🟦⬜🟦🟦🟦🟦🟦🟦🟦⬜🟦🟦🟦<br>🟦⬜⬜⬜⬜⬜⬜⬜⬜⬜🟦⬜⬜⬜🟦🟦🟦⬜🟦🟦🟦<br>🟦⬜🟦🟦🟦🟦🟦🟦🟦🟦🟦⬜🟦⬜🟦🟦🟦⬜🟦🟦🟦<br>🟦⬜🟦⬜⬜⬜⬜⬜🟦⬜⬜⬜🟦⬜⬜⬜⬜⬜🟦🟦🟦<br>🟦⬜🟦⬜🟦🟦🟦⬜🟦⬜🟦🟦🟦🟦🟦🟦🟦🟦🟦🟦🟦<br>🟦⬜⬜⬜⬜⬜🟦⬜⬜⬜⬜⬜⬜⬜⬜⬜⬜⬜⬜😼🟦<br>🟦🟦🟦🟦🟦🟦🟦🟦🟦🟦🟦🟦🟦🟦🟦🟦🟦🟦🟦🟦🟦`;\n",
              "    </script>\n",
              "    "
            ],
            "text/plain": [
              "<IPython.core.display.HTML object>"
            ]
          },
          "metadata": {},
          "output_type": "display_data"
        },
        {
          "data": {
            "text/html": [
              "\n",
              "    <script>\n",
              "    document.getElementById('maze').innerHTML = `🟦🟦🟦🟦🟦🟦🟦🟦🟦🟦🟦🟦🟦🟦🟦🟦🟦🟦🟦🟦🟦<br>🟦⬜🟦⬜⬜⬜⬜⬜⬜⬜⬜⬜🟦⬜⬜⬜⬜⬜⬜⬜🟦<br>🟦⬜🟦⬜🟦🟦🟦🟦🟦🟦🟦⬜🟦⬜🟦🟦🟦🟦🟦⬜🟦<br>🟦⬜⬜⬜🟦⬜⬜⬜⬜⬜🟦⬜⬜⬜🟦🟦🟦⬜⬜⬜🟦<br>🟦🟦🟦🟦🟦🟦🟦🟦🟦⬜🟦🟦🟦🟦🟦🟦🟦⬜🟦🟦🟦<br>🟦⬜⬜⬜⬜⬜⬜⬜⬜⬜🟦⬜⬜⬜🟦🟦🟦⬜🟦🟦🟦<br>🟦⬜🟦🟦🟦🟦🟦🟦🟦🟦🟦⬜🟦⬜🟦🟦🟦⬜🟦🟦🟦<br>🟦⬜🟦⬜⬜⬜⬜⬜🟦⬜⬜⬜🟦⬜⬜⬜⬜⬜🟦😼🟦<br>🟦⬜🟦⬜🟦🟦🟦⬜🟦⬜🟦🟦🟦🟦🟦🟦🟦🟦🟦⬜🟦<br>🟦⬜⬜⬜⬜⬜🟦⬜⬜⬜⬜⬜⬜⬜⬜⬜⬜⬜⬜⬜🟦<br>🟦🟦🟦🟦🟦🟦🟦🟦🟦🟦🟦🟦🟦🟦🟦🟦🟦🟦🟦🟦🟦`;\n",
              "    </script>\n",
              "    "
            ],
            "text/plain": [
              "<IPython.core.display.HTML object>"
            ]
          },
          "metadata": {},
          "output_type": "display_data"
        },
        {
          "data": {
            "text/html": [
              "\n",
              "    <script>\n",
              "    document.getElementById('maze').innerHTML = `🟦🟦🟦🟦🟦🟦🟦🟦🟦🟦🟦🟦🟦🟦🟦🟦🟦🟦🟦🟦🟦<br>🟦⬜🟦⬜⬜⬜⬜⬜⬜⬜⬜⬜🟦⬜⬜⬜⬜⬜⬜⬜🟦<br>🟦⬜🟦⬜🟦🟦🟦🟦🟦🟦🟦⬜🟦⬜🟦🟦🟦🟦🟦⬜🟦<br>🟦⬜⬜⬜🟦⬜⬜⬜⬜⬜🟦⬜⬜⬜🟦🟦🟦⬜⬜⬜🟦<br>🟦🟦🟦🟦🟦🟦🟦🟦🟦⬜🟦🟦🟦🟦🟦🟦🟦⬜🟦🟦🟦<br>🟦⬜⬜⬜⬜⬜⬜⬜⬜⬜🟦⬜⬜⬜🟦🟦🟦⬜🟦😼🟦<br>🟦⬜🟦🟦🟦🟦🟦🟦🟦🟦🟦⬜🟦⬜🟦🟦🟦⬜🟦⬜🟦<br>🟦⬜🟦⬜⬜⬜⬜⬜🟦⬜⬜⬜🟦⬜⬜⬜⬜⬜🟦⬜🟦<br>🟦⬜🟦⬜🟦🟦🟦⬜🟦⬜🟦🟦🟦🟦🟦🟦🟦🟦🟦⬜🟦<br>🟦⬜⬜⬜⬜⬜🟦⬜⬜⬜⬜⬜⬜⬜⬜⬜⬜⬜⬜⬜🟦<br>🟦🟦🟦🟦🟦🟦🟦🟦🟦🟦🟦🟦🟦🟦🟦🟦🟦🟦🟦🟦🟦`;\n",
              "    </script>\n",
              "    "
            ],
            "text/plain": [
              "<IPython.core.display.HTML object>"
            ]
          },
          "metadata": {},
          "output_type": "display_data"
        },
        {
          "data": {
            "text/html": [
              "\n",
              "    <script>\n",
              "    document.getElementById('maze').innerHTML = `🟦🟦🟦🟦🟦🟦🟦🟦🟦🟦🟦🟦🟦🟦🟦🟦🟦🟦🟦🟦🟦<br>🟦⬜🟦⬜⬜⬜⬜⬜⬜⬜⬜⬜🟦⬜⬜⬜⬜⬜⬜⬜🟦<br>🟦⬜🟦⬜🟦🟦🟦🟦🟦🟦🟦⬜🟦⬜🟦🟦🟦🟦🟦⬜🟦<br>🟦⬜⬜⬜🟦⬜⬜⬜⬜⬜🟦⬜⬜⬜🟦🟦🟦⬜⬜⬜🟦<br>🟦🟦🟦🟦🟦🟦🟦🟦🟦⬜🟦🟦🟦🟦🟦🟦🟦⬜🟦🟦🟦<br>🟦⬜⬜⬜⬜⬜⬜⬜⬜⬜🟦⬜⬜⬜⬜😼🟦⬜🟦⬜🟦<br>🟦⬜🟦🟦🟦🟦🟦🟦🟦🟦🟦⬜🟦⬜🟦🟦🟦⬜🟦⬜🟦<br>🟦⬜🟦⬜⬜⬜⬜⬜🟦⬜⬜⬜🟦⬜⬜⬜⬜⬜🟦⬜🟦<br>🟦⬜🟦⬜🟦🟦🟦⬜🟦⬜🟦🟦🟦🟦🟦🟦🟦🟦🟦⬜🟦<br>🟦⬜⬜⬜⬜⬜🟦⬜⬜⬜⬜⬜⬜⬜⬜⬜⬜⬜⬜⬜🟦<br>🟦🟦🟦🟦🟦🟦🟦🟦🟦🟦🟦🟦🟦🟦🟦🟦🟦🟦🟦🟦🟦`;\n",
              "    </script>\n",
              "    "
            ],
            "text/plain": [
              "<IPython.core.display.HTML object>"
            ]
          },
          "metadata": {},
          "output_type": "display_data"
        },
        {
          "data": {
            "text/html": [
              "\n",
              "    <script>\n",
              "    document.getElementById('maze').innerHTML = `🟦🟦🟦🟦🟦🟦🟦🟦🟦🟦🟦🟦🟦🟦🟦🟦🟦🟦🟦🟦🟦<br>🟦⬜🟦⬜⬜⬜⬜⬜⬜⬜⬜⬜🟦⬜⬜⬜⬜⬜⬜⬜🟦<br>🟦⬜🟦⬜🟦🟦🟦🟦🟦🟦🟦⬜🟦⬜🟦🟦🟦🟦🟦⬜🟦<br>🟦⬜⬜⬜🟦⬜⬜⬜⬜⬜🟦⬜⬜⬜🟦😼🟦⬜⬜⬜🟦<br>🟦🟦🟦🟦🟦🟦🟦🟦🟦⬜🟦🟦🟦🟦🟦⬜🟦⬜🟦🟦🟦<br>🟦⬜⬜⬜⬜⬜⬜⬜⬜⬜🟦⬜⬜⬜⬜⬜🟦⬜🟦⬜🟦<br>🟦⬜🟦🟦🟦🟦🟦🟦🟦🟦🟦⬜🟦⬜🟦🟦🟦⬜🟦⬜🟦<br>🟦⬜🟦⬜⬜⬜⬜⬜🟦⬜⬜⬜🟦⬜⬜⬜⬜⬜🟦⬜🟦<br>🟦⬜🟦⬜🟦🟦🟦⬜🟦⬜🟦🟦🟦🟦🟦🟦🟦🟦🟦⬜🟦<br>🟦⬜⬜⬜⬜⬜🟦⬜⬜⬜⬜⬜⬜⬜⬜⬜⬜⬜⬜⬜🟦<br>🟦🟦🟦🟦🟦🟦🟦🟦🟦🟦🟦🟦🟦🟦🟦🟦🟦🟦🟦🟦🟦`;\n",
              "    </script>\n",
              "    "
            ],
            "text/plain": [
              "<IPython.core.display.HTML object>"
            ]
          },
          "metadata": {},
          "output_type": "display_data"
        },
        {
          "data": {
            "text/html": [
              "\n",
              "    <script>\n",
              "    document.getElementById('maze').innerHTML = `🟦🟦🟦🟦🟦🟦🟦🟦🟦🟦🟦🟦🟦🟦🟦🟦🟦🟦🟦🟦🟦<br>🟦🟩🟦⬜⬜⬜⬜⬜⬜⬜⬜⬜🟦⬜⬜⬜⬜⬜⬜⬜🟦<br>🟦⬜🟦⬜🟦🟦🟦🟦🟦🟦🟦⬜🟦⬜🟦🟦🟦🟦🟦⬜🟦<br>🟦⬜⬜⬜🟦⬜⬜⬜⬜⬜🟦⬜⬜⬜🟦⬜🟦⬜⬜⬜🟦<br>🟦🟦🟦🟦🟦🟦🟦🟦🟦⬜🟦🟦🟦🟦🟦⬜🟦⬜🟦🟦🟦<br>🟦⬜⬜⬜⬜⬜⬜⬜⬜⬜🟦⬜⬜⬜⬜⬜🟦⬜🟦⬜🟦<br>🟦⬜🟦🟦🟦🟦🟦🟦🟦🟦🟦⬜🟦⬜🟦🟦🟦⬜🟦⬜🟦<br>🟦⬜🟦⬜⬜⬜⬜⬜🟦⬜⬜⬜🟦⬜⬜⬜⬜⬜🟦⬜🟦<br>🟦⬜🟦⬜🟦🟦🟦⬜🟦⬜🟦🟦🟦🟦🟦🟦🟦🟦🟦⬜🟦<br>🟦⬜⬜⬜⬜⬜🟦⬜⬜⬜⬜⬜⬜⬜⬜⬜⬜⬜⬜🟥🟦<br>🟦🟦🟦🟦🟦🟦🟦🟦🟦🟦🟦🟦🟦🟦🟦🟦🟦🟦🟦🟦🟦`;\n",
              "    </script>\n",
              "    "
            ],
            "text/plain": [
              "<IPython.core.display.HTML object>"
            ]
          },
          "metadata": {},
          "output_type": "display_data"
        },
        {
          "name": "stdout",
          "output_type": "stream",
          "text": [
            "11 21\n",
            "(11, 21)\n",
            "0\n",
            "Vector2D(x=1.5, y=1.5)\n",
            "2\n",
            "20\n",
            "11 21\n"
          ]
        }
      ],
      "source": [
        "# based on https://inventwithpython.com/recursion/chapter11.html\n",
        "import numpy as np\n",
        "from IPython.display import HTML, display\n",
        "import time\n",
        "\n",
        "# Défini la taille du labyrinthe minimum 3x3 et impair\n",
        "TAILLE_Y = 11\n",
        "TAILLE_X = 21\n",
        "\n",
        "assert TAILLE_Y % 2 == 1 and TAILLE_Y >= 3\n",
        "assert TAILLE_X % 2 == 1 and TAILLE_X >= 3\n",
        "\n",
        "# Permet de regénérer le même labyrinthe\n",
        "import random\n",
        "# SEED = 2\n",
        "# random.seed(SEED)\n",
        "\n",
        "VIDE = '⬜'\n",
        "MUR = '🟦'\n",
        "DEBUT = '🟩'\n",
        "FIN = '🟥'\n",
        "PACMAN = '😼'\n",
        "VISITEE = '🟨'\n",
        "CHEMIN = '🔳'\n",
        "NORD, SUD, EST, OUEST = 'n', 's', 'e', 'o'\n",
        "\n",
        "# On rempli un tableau numpy avec des murs partout\n",
        "labyrinthe = np.full((TAILLE_Y, TAILLE_X), MUR)\n",
        "\n",
        "chaine_labyrinthe = '<br>'.join(''.join(row) for row in labyrinthe)\n",
        "display(HTML(f'''\n",
        "    <div id=\"maze\" style=\"font-family: monospace; white-space: pre; line-height: 1.2;\">\n",
        "    {chaine_labyrinthe}\n",
        "    </div>\n",
        "    <script>\n",
        "    document.getElementById('maze').innerHTML = `{chaine_labyrinthe}`;\n",
        "    </script>\n",
        "    '''))\n",
        "\n",
        "def afficherLabyrinthe(labyrinthe, x, y, cases_visitees):\n",
        "    for c in cases_visitees:\n",
        "      labyrinthe[int(c.y), int(c.x)] = VISITEE\n",
        "\n",
        "    if (x, y) != (0, 0):\n",
        "      labyrinthe[y, x] = PACMAN\n",
        "\n",
        "    chaine_labyrinthe = '<br>'.join(''.join(ligne) for ligne in labyrinthe)\n",
        "\n",
        "    html = f'''\n",
        "    <script>\n",
        "    document.getElementById('maze').innerHTML = `{chaine_labyrinthe}`;\n",
        "    </script>\n",
        "    '''\n",
        "\n",
        "    display(HTML(html))\n",
        "\n",
        "\n",
        "# Fonction qui génère le labyrinthe aléatoirement\n",
        "def genererLabyrinthe(x, y):\n",
        "  labyrinthe[y, x] = VIDE\n",
        "  afficherLabyrinthe(labyrinthe.copy(), x, y, [])\n",
        "\n",
        "  voisins_non_visites = []\n",
        "  while True:\n",
        "    if y > 1 and (x, y - 2) not in cases_visitees:\n",
        "      voisins_non_visites.append(NORD)\n",
        "    if y < TAILLE_Y - 2 and (x, y + 2) not in cases_visitees:\n",
        "      voisins_non_visites.append(SUD)\n",
        "    if x < TAILLE_X - 2 and (x + 2, y) not in cases_visitees:\n",
        "      voisins_non_visites.append(EST)\n",
        "    if x > 1 and (x - 2, y) not in cases_visitees:\n",
        "      voisins_non_visites.append(OUEST)\n",
        "\n",
        "\n",
        "    if len(voisins_non_visites) == 0:\n",
        "      # dead end\n",
        "      break\n",
        "    else:\n",
        "      # Recursion\n",
        "      prochain_noeud = random.choice(voisins_non_visites)\n",
        "      if prochain_noeud == NORD:\n",
        "        labyrinthe[y - 1, x] = VIDE\n",
        "        y -= 2\n",
        "      elif prochain_noeud == SUD:\n",
        "        labyrinthe[y + 1, x] = VIDE\n",
        "        y += 2\n",
        "      elif prochain_noeud == EST:\n",
        "        labyrinthe[y, x + 1] = VIDE\n",
        "        x += 2\n",
        "      elif prochain_noeud == OUEST:\n",
        "        labyrinthe[y, x - 1] = VIDE\n",
        "        x -= 2\n",
        "      cases_visitees.append((x, y))\n",
        "      voisins_non_visites = []\n",
        "      genererLabyrinthe(x, y)\n",
        "\n",
        "\n",
        "\n",
        "cases_visitees = [(1, 1)]\n",
        "genererLabyrinthe(1, 1)\n",
        "\n",
        "labyrinthe[1, 1] = DEBUT\n",
        "labyrinthe[-2, -2] = FIN\n",
        "afficherLabyrinthe(labyrinthe.copy(), 0, 0, [])\n",
        "\n",
        "\n",
        "\n",
        "\n",
        "\n",
        "# ADD : Clone project to colab and pip install requirements\n",
        "\n",
        "# Add the project root (ai-park) to the Python path\n",
        "import sys\n",
        "from pathlib import Path\n",
        "project_root = Path.cwd().parent.parent  # Goes up from workshop_0 -> examples -> ai-park\n",
        "sys.path.insert(0, str(project_root))\n",
        "\n",
        "from park.logic.grid import Grid2D\n",
        "from park.logic.node import Node\n",
        "from park.internal.collider import BoxCollider\n",
        "\n",
        "grid = Grid2D(TAILLE_X, TAILLE_Y, 1.0)\n",
        "print(len(grid.nodes), len(grid.nodes[0]))\n",
        "print(labyrinthe.shape)\n",
        "\n",
        "print(int(grid.nodes[0][0].center.x))\n",
        "print(grid.nodes[1][1].center)\n",
        "print(int(grid.nodes[2][2].center.x))\n",
        "print(int(grid.nodes[TAILLE_Y-1][TAILLE_X-1].center.x))\n",
        "\n",
        "print(len(grid.nodes), len(grid.nodes[0]))\n",
        "for i in range(TAILLE_Y):\n",
        "  for j in range(TAILLE_X):\n",
        "    if labyrinthe[i, j] == MUR:\n",
        "      grid.nodes[i][j].occupants.append(BoxCollider)\n",
        "\n",
        "\n"
      ]
    },
    {
      "cell_type": "code",
      "execution_count": 92,
      "metadata": {},
      "outputs": [
        {
          "data": {
            "text/html": [
              "\n",
              "    <script>\n",
              "    document.getElementById('maze').innerHTML = `🟦🟦🟦🟦🟦🟦🟦🟦🟦🟦🟦🟦🟦🟦🟦🟦🟦🟦🟦🟦🟦<br>🟦😼🟦⬜⬜⬜⬜⬜⬜⬜⬜⬜🟦⬜⬜⬜⬜⬜⬜⬜🟦<br>🟦⬜🟦⬜🟦🟦🟦🟦🟦🟦🟦⬜🟦⬜🟦🟦🟦🟦🟦⬜🟦<br>🟦⬜⬜⬜🟦⬜⬜⬜⬜⬜🟦⬜⬜⬜🟦⬜🟦⬜⬜⬜🟦<br>🟦🟦🟦🟦🟦🟦🟦🟦🟦⬜🟦🟦🟦🟦🟦⬜🟦⬜🟦🟦🟦<br>🟦⬜⬜⬜⬜⬜⬜⬜⬜⬜🟦⬜⬜⬜⬜⬜🟦⬜🟦⬜🟦<br>🟦⬜🟦🟦🟦🟦🟦🟦🟦🟦🟦⬜🟦⬜🟦🟦🟦⬜🟦⬜🟦<br>🟦⬜🟦⬜⬜⬜⬜⬜🟦⬜⬜⬜🟦⬜⬜⬜⬜⬜🟦⬜🟦<br>🟦⬜🟦⬜🟦🟦🟦⬜🟦⬜🟦🟦🟦🟦🟦🟦🟦🟦🟦⬜🟦<br>🟦⬜⬜⬜⬜⬜🟦⬜⬜⬜⬜⬜⬜⬜⬜⬜⬜⬜⬜🟥🟦<br>🟦🟦🟦🟦🟦🟦🟦🟦🟦🟦🟦🟦🟦🟦🟦🟦🟦🟦🟦🟦🟦`;\n",
              "    </script>\n",
              "    "
            ],
            "text/plain": [
              "<IPython.core.display.HTML object>"
            ]
          },
          "metadata": {},
          "output_type": "display_data"
        },
        {
          "data": {
            "text/html": [
              "\n",
              "    <script>\n",
              "    document.getElementById('maze').innerHTML = `🟦🟦🟦🟦🟦🟦🟦🟦🟦🟦🟦🟦🟦🟦🟦🟦🟦🟦🟦🟦🟦<br>🟦🟨🟦⬜⬜⬜⬜⬜⬜⬜⬜⬜🟦⬜⬜⬜⬜⬜⬜⬜🟦<br>🟦😼🟦⬜🟦🟦🟦🟦🟦🟦🟦⬜🟦⬜🟦🟦🟦🟦🟦⬜🟦<br>🟦⬜⬜⬜🟦⬜⬜⬜⬜⬜🟦⬜⬜⬜🟦⬜🟦⬜⬜⬜🟦<br>🟦🟦🟦🟦🟦🟦🟦🟦🟦⬜🟦🟦🟦🟦🟦⬜🟦⬜🟦🟦🟦<br>🟦⬜⬜⬜⬜⬜⬜⬜⬜⬜🟦⬜⬜⬜⬜⬜🟦⬜🟦⬜🟦<br>🟦⬜🟦🟦🟦🟦🟦🟦🟦🟦🟦⬜🟦⬜🟦🟦🟦⬜🟦⬜🟦<br>🟦⬜🟦⬜⬜⬜⬜⬜🟦⬜⬜⬜🟦⬜⬜⬜⬜⬜🟦⬜🟦<br>🟦⬜🟦⬜🟦🟦🟦⬜🟦⬜🟦🟦🟦🟦🟦🟦🟦🟦🟦⬜🟦<br>🟦⬜⬜⬜⬜⬜🟦⬜⬜⬜⬜⬜⬜⬜⬜⬜⬜⬜⬜🟥🟦<br>🟦🟦🟦🟦🟦🟦🟦🟦🟦🟦🟦🟦🟦🟦🟦🟦🟦🟦🟦🟦🟦`;\n",
              "    </script>\n",
              "    "
            ],
            "text/plain": [
              "<IPython.core.display.HTML object>"
            ]
          },
          "metadata": {},
          "output_type": "display_data"
        },
        {
          "data": {
            "text/html": [
              "\n",
              "    <script>\n",
              "    document.getElementById('maze').innerHTML = `🟦🟦🟦🟦🟦🟦🟦🟦🟦🟦🟦🟦🟦🟦🟦🟦🟦🟦🟦🟦🟦<br>🟦🟨🟦⬜⬜⬜⬜⬜⬜⬜⬜⬜🟦⬜⬜⬜⬜⬜⬜⬜🟦<br>🟦🟨🟦⬜🟦🟦🟦🟦🟦🟦🟦⬜🟦⬜🟦🟦🟦🟦🟦⬜🟦<br>🟦😼⬜⬜🟦⬜⬜⬜⬜⬜🟦⬜⬜⬜🟦⬜🟦⬜⬜⬜🟦<br>🟦🟦🟦🟦🟦🟦🟦🟦🟦⬜🟦🟦🟦🟦🟦⬜🟦⬜🟦🟦🟦<br>🟦⬜⬜⬜⬜⬜⬜⬜⬜⬜🟦⬜⬜⬜⬜⬜🟦⬜🟦⬜🟦<br>🟦⬜🟦🟦🟦🟦🟦🟦🟦🟦🟦⬜🟦⬜🟦🟦🟦⬜🟦⬜🟦<br>🟦⬜🟦⬜⬜⬜⬜⬜🟦⬜⬜⬜🟦⬜⬜⬜⬜⬜🟦⬜🟦<br>🟦⬜🟦⬜🟦🟦🟦⬜🟦⬜🟦🟦🟦🟦🟦🟦🟦🟦🟦⬜🟦<br>🟦⬜⬜⬜⬜⬜🟦⬜⬜⬜⬜⬜⬜⬜⬜⬜⬜⬜⬜🟥🟦<br>🟦🟦🟦🟦🟦🟦🟦🟦🟦🟦🟦🟦🟦🟦🟦🟦🟦🟦🟦🟦🟦`;\n",
              "    </script>\n",
              "    "
            ],
            "text/plain": [
              "<IPython.core.display.HTML object>"
            ]
          },
          "metadata": {},
          "output_type": "display_data"
        },
        {
          "data": {
            "text/html": [
              "\n",
              "    <script>\n",
              "    document.getElementById('maze').innerHTML = `🟦🟦🟦🟦🟦🟦🟦🟦🟦🟦🟦🟦🟦🟦🟦🟦🟦🟦🟦🟦🟦<br>🟦🟨🟦⬜⬜⬜⬜⬜⬜⬜⬜⬜🟦⬜⬜⬜⬜⬜⬜⬜🟦<br>🟦🟨🟦⬜🟦🟦🟦🟦🟦🟦🟦⬜🟦⬜🟦🟦🟦🟦🟦⬜🟦<br>🟦🟨😼⬜🟦⬜⬜⬜⬜⬜🟦⬜⬜⬜🟦⬜🟦⬜⬜⬜🟦<br>🟦🟦🟦🟦🟦🟦🟦🟦🟦⬜🟦🟦🟦🟦🟦⬜🟦⬜🟦🟦🟦<br>🟦⬜⬜⬜⬜⬜⬜⬜⬜⬜🟦⬜⬜⬜⬜⬜🟦⬜🟦⬜🟦<br>🟦⬜🟦🟦🟦🟦🟦🟦🟦🟦🟦⬜🟦⬜🟦🟦🟦⬜🟦⬜🟦<br>🟦⬜🟦⬜⬜⬜⬜⬜🟦⬜⬜⬜🟦⬜⬜⬜⬜⬜🟦⬜🟦<br>🟦⬜🟦⬜🟦🟦🟦⬜🟦⬜🟦🟦🟦🟦🟦🟦🟦🟦🟦⬜🟦<br>🟦⬜⬜⬜⬜⬜🟦⬜⬜⬜⬜⬜⬜⬜⬜⬜⬜⬜⬜🟥🟦<br>🟦🟦🟦🟦🟦🟦🟦🟦🟦🟦🟦🟦🟦🟦🟦🟦🟦🟦🟦🟦🟦`;\n",
              "    </script>\n",
              "    "
            ],
            "text/plain": [
              "<IPython.core.display.HTML object>"
            ]
          },
          "metadata": {},
          "output_type": "display_data"
        },
        {
          "data": {
            "text/html": [
              "\n",
              "    <script>\n",
              "    document.getElementById('maze').innerHTML = `🟦🟦🟦🟦🟦🟦🟦🟦🟦🟦🟦🟦🟦🟦🟦🟦🟦🟦🟦🟦🟦<br>🟦🟨🟦⬜⬜⬜⬜⬜⬜⬜⬜⬜🟦⬜⬜⬜⬜⬜⬜⬜🟦<br>🟦🟨🟦⬜🟦🟦🟦🟦🟦🟦🟦⬜🟦⬜🟦🟦🟦🟦🟦⬜🟦<br>🟦🟨🟨😼🟦⬜⬜⬜⬜⬜🟦⬜⬜⬜🟦⬜🟦⬜⬜⬜🟦<br>🟦🟦🟦🟦🟦🟦🟦🟦🟦⬜🟦🟦🟦🟦🟦⬜🟦⬜🟦🟦🟦<br>🟦⬜⬜⬜⬜⬜⬜⬜⬜⬜🟦⬜⬜⬜⬜⬜🟦⬜🟦⬜🟦<br>🟦⬜🟦🟦🟦🟦🟦🟦🟦🟦🟦⬜🟦⬜🟦🟦🟦⬜🟦⬜🟦<br>🟦⬜🟦⬜⬜⬜⬜⬜🟦⬜⬜⬜🟦⬜⬜⬜⬜⬜🟦⬜🟦<br>🟦⬜🟦⬜🟦🟦🟦⬜🟦⬜🟦🟦🟦🟦🟦🟦🟦🟦🟦⬜🟦<br>🟦⬜⬜⬜⬜⬜🟦⬜⬜⬜⬜⬜⬜⬜⬜⬜⬜⬜⬜🟥🟦<br>🟦🟦🟦🟦🟦🟦🟦🟦🟦🟦🟦🟦🟦🟦🟦🟦🟦🟦🟦🟦🟦`;\n",
              "    </script>\n",
              "    "
            ],
            "text/plain": [
              "<IPython.core.display.HTML object>"
            ]
          },
          "metadata": {},
          "output_type": "display_data"
        },
        {
          "data": {
            "text/html": [
              "\n",
              "    <script>\n",
              "    document.getElementById('maze').innerHTML = `🟦🟦🟦🟦🟦🟦🟦🟦🟦🟦🟦🟦🟦🟦🟦🟦🟦🟦🟦🟦🟦<br>🟦🟨🟦⬜⬜⬜⬜⬜⬜⬜⬜⬜🟦⬜⬜⬜⬜⬜⬜⬜🟦<br>🟦🟨🟦😼🟦🟦🟦🟦🟦🟦🟦⬜🟦⬜🟦🟦🟦🟦🟦⬜🟦<br>🟦🟨🟨🟨🟦⬜⬜⬜⬜⬜🟦⬜⬜⬜🟦⬜🟦⬜⬜⬜🟦<br>🟦🟦🟦🟦🟦🟦🟦🟦🟦⬜🟦🟦🟦🟦🟦⬜🟦⬜🟦🟦🟦<br>🟦⬜⬜⬜⬜⬜⬜⬜⬜⬜🟦⬜⬜⬜⬜⬜🟦⬜🟦⬜🟦<br>🟦⬜🟦🟦🟦🟦🟦🟦🟦🟦🟦⬜🟦⬜🟦🟦🟦⬜🟦⬜🟦<br>🟦⬜🟦⬜⬜⬜⬜⬜🟦⬜⬜⬜🟦⬜⬜⬜⬜⬜🟦⬜🟦<br>🟦⬜🟦⬜🟦🟦🟦⬜🟦⬜🟦🟦🟦🟦🟦🟦🟦🟦🟦⬜🟦<br>🟦⬜⬜⬜⬜⬜🟦⬜⬜⬜⬜⬜⬜⬜⬜⬜⬜⬜⬜🟥🟦<br>🟦🟦🟦🟦🟦🟦🟦🟦🟦🟦🟦🟦🟦🟦🟦🟦🟦🟦🟦🟦🟦`;\n",
              "    </script>\n",
              "    "
            ],
            "text/plain": [
              "<IPython.core.display.HTML object>"
            ]
          },
          "metadata": {},
          "output_type": "display_data"
        },
        {
          "data": {
            "text/html": [
              "\n",
              "    <script>\n",
              "    document.getElementById('maze').innerHTML = `🟦🟦🟦🟦🟦🟦🟦🟦🟦🟦🟦🟦🟦🟦🟦🟦🟦🟦🟦🟦🟦<br>🟦🟨🟦😼⬜⬜⬜⬜⬜⬜⬜⬜🟦⬜⬜⬜⬜⬜⬜⬜🟦<br>🟦🟨🟦🟨🟦🟦🟦🟦🟦🟦🟦⬜🟦⬜🟦🟦🟦🟦🟦⬜🟦<br>🟦🟨🟨🟨🟦⬜⬜⬜⬜⬜🟦⬜⬜⬜🟦⬜🟦⬜⬜⬜🟦<br>🟦🟦🟦🟦🟦🟦🟦🟦🟦⬜🟦🟦🟦🟦🟦⬜🟦⬜🟦🟦🟦<br>🟦⬜⬜⬜⬜⬜⬜⬜⬜⬜🟦⬜⬜⬜⬜⬜🟦⬜🟦⬜🟦<br>🟦⬜🟦🟦🟦🟦🟦🟦🟦🟦🟦⬜🟦⬜🟦🟦🟦⬜🟦⬜🟦<br>🟦⬜🟦⬜⬜⬜⬜⬜🟦⬜⬜⬜🟦⬜⬜⬜⬜⬜🟦⬜🟦<br>🟦⬜🟦⬜🟦🟦🟦⬜🟦⬜🟦🟦🟦🟦🟦🟦🟦🟦🟦⬜🟦<br>🟦⬜⬜⬜⬜⬜🟦⬜⬜⬜⬜⬜⬜⬜⬜⬜⬜⬜⬜🟥🟦<br>🟦🟦🟦🟦🟦🟦🟦🟦🟦🟦🟦🟦🟦🟦🟦🟦🟦🟦🟦🟦🟦`;\n",
              "    </script>\n",
              "    "
            ],
            "text/plain": [
              "<IPython.core.display.HTML object>"
            ]
          },
          "metadata": {},
          "output_type": "display_data"
        },
        {
          "data": {
            "text/html": [
              "\n",
              "    <script>\n",
              "    document.getElementById('maze').innerHTML = `🟦🟦🟦🟦🟦🟦🟦🟦🟦🟦🟦🟦🟦🟦🟦🟦🟦🟦🟦🟦🟦<br>🟦🟨🟦🟨😼⬜⬜⬜⬜⬜⬜⬜🟦⬜⬜⬜⬜⬜⬜⬜🟦<br>🟦🟨🟦🟨🟦🟦🟦🟦🟦🟦🟦⬜🟦⬜🟦🟦🟦🟦🟦⬜🟦<br>🟦🟨🟨🟨🟦⬜⬜⬜⬜⬜🟦⬜⬜⬜🟦⬜🟦⬜⬜⬜🟦<br>🟦🟦🟦🟦🟦🟦🟦🟦🟦⬜🟦🟦🟦🟦🟦⬜🟦⬜🟦🟦🟦<br>🟦⬜⬜⬜⬜⬜⬜⬜⬜⬜🟦⬜⬜⬜⬜⬜🟦⬜🟦⬜🟦<br>🟦⬜🟦🟦🟦🟦🟦🟦🟦🟦🟦⬜🟦⬜🟦🟦🟦⬜🟦⬜🟦<br>🟦⬜🟦⬜⬜⬜⬜⬜🟦⬜⬜⬜🟦⬜⬜⬜⬜⬜🟦⬜🟦<br>🟦⬜🟦⬜🟦🟦🟦⬜🟦⬜🟦🟦🟦🟦🟦🟦🟦🟦🟦⬜🟦<br>🟦⬜⬜⬜⬜⬜🟦⬜⬜⬜⬜⬜⬜⬜⬜⬜⬜⬜⬜🟥🟦<br>🟦🟦🟦🟦🟦🟦🟦🟦🟦🟦🟦🟦🟦🟦🟦🟦🟦🟦🟦🟦🟦`;\n",
              "    </script>\n",
              "    "
            ],
            "text/plain": [
              "<IPython.core.display.HTML object>"
            ]
          },
          "metadata": {},
          "output_type": "display_data"
        },
        {
          "data": {
            "text/html": [
              "\n",
              "    <script>\n",
              "    document.getElementById('maze').innerHTML = `🟦🟦🟦🟦🟦🟦🟦🟦🟦🟦🟦🟦🟦🟦🟦🟦🟦🟦🟦🟦🟦<br>🟦🟨🟦🟨🟨😼⬜⬜⬜⬜⬜⬜🟦⬜⬜⬜⬜⬜⬜⬜🟦<br>🟦🟨🟦🟨🟦🟦🟦🟦🟦🟦🟦⬜🟦⬜🟦🟦🟦🟦🟦⬜🟦<br>🟦🟨🟨🟨🟦⬜⬜⬜⬜⬜🟦⬜⬜⬜🟦⬜🟦⬜⬜⬜🟦<br>🟦🟦🟦🟦🟦🟦🟦🟦🟦⬜🟦🟦🟦🟦🟦⬜🟦⬜🟦🟦🟦<br>🟦⬜⬜⬜⬜⬜⬜⬜⬜⬜🟦⬜⬜⬜⬜⬜🟦⬜🟦⬜🟦<br>🟦⬜🟦🟦🟦🟦🟦🟦🟦🟦🟦⬜🟦⬜🟦🟦🟦⬜🟦⬜🟦<br>🟦⬜🟦⬜⬜⬜⬜⬜🟦⬜⬜⬜🟦⬜⬜⬜⬜⬜🟦⬜🟦<br>🟦⬜🟦⬜🟦🟦🟦⬜🟦⬜🟦🟦🟦🟦🟦🟦🟦🟦🟦⬜🟦<br>🟦⬜⬜⬜⬜⬜🟦⬜⬜⬜⬜⬜⬜⬜⬜⬜⬜⬜⬜🟥🟦<br>🟦🟦🟦🟦🟦🟦🟦🟦🟦🟦🟦🟦🟦🟦🟦🟦🟦🟦🟦🟦🟦`;\n",
              "    </script>\n",
              "    "
            ],
            "text/plain": [
              "<IPython.core.display.HTML object>"
            ]
          },
          "metadata": {},
          "output_type": "display_data"
        },
        {
          "data": {
            "text/html": [
              "\n",
              "    <script>\n",
              "    document.getElementById('maze').innerHTML = `🟦🟦🟦🟦🟦🟦🟦🟦🟦🟦🟦🟦🟦🟦🟦🟦🟦🟦🟦🟦🟦<br>🟦🟨🟦🟨🟨🟨😼⬜⬜⬜⬜⬜🟦⬜⬜⬜⬜⬜⬜⬜🟦<br>🟦🟨🟦🟨🟦🟦🟦🟦🟦🟦🟦⬜🟦⬜🟦🟦🟦🟦🟦⬜🟦<br>🟦🟨🟨🟨🟦⬜⬜⬜⬜⬜🟦⬜⬜⬜🟦⬜🟦⬜⬜⬜🟦<br>🟦🟦🟦🟦🟦🟦🟦🟦🟦⬜🟦🟦🟦🟦🟦⬜🟦⬜🟦🟦🟦<br>🟦⬜⬜⬜⬜⬜⬜⬜⬜⬜🟦⬜⬜⬜⬜⬜🟦⬜🟦⬜🟦<br>🟦⬜🟦🟦🟦🟦🟦🟦🟦🟦🟦⬜🟦⬜🟦🟦🟦⬜🟦⬜🟦<br>🟦⬜🟦⬜⬜⬜⬜⬜🟦⬜⬜⬜🟦⬜⬜⬜⬜⬜🟦⬜🟦<br>🟦⬜🟦⬜🟦🟦🟦⬜🟦⬜🟦🟦🟦🟦🟦🟦🟦🟦🟦⬜🟦<br>🟦⬜⬜⬜⬜⬜🟦⬜⬜⬜⬜⬜⬜⬜⬜⬜⬜⬜⬜🟥🟦<br>🟦🟦🟦🟦🟦🟦🟦🟦🟦🟦🟦🟦🟦🟦🟦🟦🟦🟦🟦🟦🟦`;\n",
              "    </script>\n",
              "    "
            ],
            "text/plain": [
              "<IPython.core.display.HTML object>"
            ]
          },
          "metadata": {},
          "output_type": "display_data"
        },
        {
          "data": {
            "text/html": [
              "\n",
              "    <script>\n",
              "    document.getElementById('maze').innerHTML = `🟦🟦🟦🟦🟦🟦🟦🟦🟦🟦🟦🟦🟦🟦🟦🟦🟦🟦🟦🟦🟦<br>🟦🟨🟦🟨🟨🟨🟨😼⬜⬜⬜⬜🟦⬜⬜⬜⬜⬜⬜⬜🟦<br>🟦🟨🟦🟨🟦🟦🟦🟦🟦🟦🟦⬜🟦⬜🟦🟦🟦🟦🟦⬜🟦<br>🟦🟨🟨🟨🟦⬜⬜⬜⬜⬜🟦⬜⬜⬜🟦⬜🟦⬜⬜⬜🟦<br>🟦🟦🟦🟦🟦🟦🟦🟦🟦⬜🟦🟦🟦🟦🟦⬜🟦⬜🟦🟦🟦<br>🟦⬜⬜⬜⬜⬜⬜⬜⬜⬜🟦⬜⬜⬜⬜⬜🟦⬜🟦⬜🟦<br>🟦⬜🟦🟦🟦🟦🟦🟦🟦🟦🟦⬜🟦⬜🟦🟦🟦⬜🟦⬜🟦<br>🟦⬜🟦⬜⬜⬜⬜⬜🟦⬜⬜⬜🟦⬜⬜⬜⬜⬜🟦⬜🟦<br>🟦⬜🟦⬜🟦🟦🟦⬜🟦⬜🟦🟦🟦🟦🟦🟦🟦🟦🟦⬜🟦<br>🟦⬜⬜⬜⬜⬜🟦⬜⬜⬜⬜⬜⬜⬜⬜⬜⬜⬜⬜🟥🟦<br>🟦🟦🟦🟦🟦🟦🟦🟦🟦🟦🟦🟦🟦🟦🟦🟦🟦🟦🟦🟦🟦`;\n",
              "    </script>\n",
              "    "
            ],
            "text/plain": [
              "<IPython.core.display.HTML object>"
            ]
          },
          "metadata": {},
          "output_type": "display_data"
        },
        {
          "data": {
            "text/html": [
              "\n",
              "    <script>\n",
              "    document.getElementById('maze').innerHTML = `🟦🟦🟦🟦🟦🟦🟦🟦🟦🟦🟦🟦🟦🟦🟦🟦🟦🟦🟦🟦🟦<br>🟦🟨🟦🟨🟨🟨🟨🟨😼⬜⬜⬜🟦⬜⬜⬜⬜⬜⬜⬜🟦<br>🟦🟨🟦🟨🟦🟦🟦🟦🟦🟦🟦⬜🟦⬜🟦🟦🟦🟦🟦⬜🟦<br>🟦🟨🟨🟨🟦⬜⬜⬜⬜⬜🟦⬜⬜⬜🟦⬜🟦⬜⬜⬜🟦<br>🟦🟦🟦🟦🟦🟦🟦🟦🟦⬜🟦🟦🟦🟦🟦⬜🟦⬜🟦🟦🟦<br>🟦⬜⬜⬜⬜⬜⬜⬜⬜⬜🟦⬜⬜⬜⬜⬜🟦⬜🟦⬜🟦<br>🟦⬜🟦🟦🟦🟦🟦🟦🟦🟦🟦⬜🟦⬜🟦🟦🟦⬜🟦⬜🟦<br>🟦⬜🟦⬜⬜⬜⬜⬜🟦⬜⬜⬜🟦⬜⬜⬜⬜⬜🟦⬜🟦<br>🟦⬜🟦⬜🟦🟦🟦⬜🟦⬜🟦🟦🟦🟦🟦🟦🟦🟦🟦⬜🟦<br>🟦⬜⬜⬜⬜⬜🟦⬜⬜⬜⬜⬜⬜⬜⬜⬜⬜⬜⬜🟥🟦<br>🟦🟦🟦🟦🟦🟦🟦🟦🟦🟦🟦🟦🟦🟦🟦🟦🟦🟦🟦🟦🟦`;\n",
              "    </script>\n",
              "    "
            ],
            "text/plain": [
              "<IPython.core.display.HTML object>"
            ]
          },
          "metadata": {},
          "output_type": "display_data"
        },
        {
          "data": {
            "text/html": [
              "\n",
              "    <script>\n",
              "    document.getElementById('maze').innerHTML = `🟦🟦🟦🟦🟦🟦🟦🟦🟦🟦🟦🟦🟦🟦🟦🟦🟦🟦🟦🟦🟦<br>🟦🟨🟦🟨🟨🟨🟨🟨🟨😼⬜⬜🟦⬜⬜⬜⬜⬜⬜⬜🟦<br>🟦🟨🟦🟨🟦🟦🟦🟦🟦🟦🟦⬜🟦⬜🟦🟦🟦🟦🟦⬜🟦<br>🟦🟨🟨🟨🟦⬜⬜⬜⬜⬜🟦⬜⬜⬜🟦⬜🟦⬜⬜⬜🟦<br>🟦🟦🟦🟦🟦🟦🟦🟦🟦⬜🟦🟦🟦🟦🟦⬜🟦⬜🟦🟦🟦<br>🟦⬜⬜⬜⬜⬜⬜⬜⬜⬜🟦⬜⬜⬜⬜⬜🟦⬜🟦⬜🟦<br>🟦⬜🟦🟦🟦🟦🟦🟦🟦🟦🟦⬜🟦⬜🟦🟦🟦⬜🟦⬜🟦<br>🟦⬜🟦⬜⬜⬜⬜⬜🟦⬜⬜⬜🟦⬜⬜⬜⬜⬜🟦⬜🟦<br>🟦⬜🟦⬜🟦🟦🟦⬜🟦⬜🟦🟦🟦🟦🟦🟦🟦🟦🟦⬜🟦<br>🟦⬜⬜⬜⬜⬜🟦⬜⬜⬜⬜⬜⬜⬜⬜⬜⬜⬜⬜🟥🟦<br>🟦🟦🟦🟦🟦🟦🟦🟦🟦🟦🟦🟦🟦🟦🟦🟦🟦🟦🟦🟦🟦`;\n",
              "    </script>\n",
              "    "
            ],
            "text/plain": [
              "<IPython.core.display.HTML object>"
            ]
          },
          "metadata": {},
          "output_type": "display_data"
        },
        {
          "data": {
            "text/html": [
              "\n",
              "    <script>\n",
              "    document.getElementById('maze').innerHTML = `🟦🟦🟦🟦🟦🟦🟦🟦🟦🟦🟦🟦🟦🟦🟦🟦🟦🟦🟦🟦🟦<br>🟦🟨🟦🟨🟨🟨🟨🟨🟨🟨😼⬜🟦⬜⬜⬜⬜⬜⬜⬜🟦<br>🟦🟨🟦🟨🟦🟦🟦🟦🟦🟦🟦⬜🟦⬜🟦🟦🟦🟦🟦⬜🟦<br>🟦🟨🟨🟨🟦⬜⬜⬜⬜⬜🟦⬜⬜⬜🟦⬜🟦⬜⬜⬜🟦<br>🟦🟦🟦🟦🟦🟦🟦🟦🟦⬜🟦🟦🟦🟦🟦⬜🟦⬜🟦🟦🟦<br>🟦⬜⬜⬜⬜⬜⬜⬜⬜⬜🟦⬜⬜⬜⬜⬜🟦⬜🟦⬜🟦<br>🟦⬜🟦🟦🟦🟦🟦🟦🟦🟦🟦⬜🟦⬜🟦🟦🟦⬜🟦⬜🟦<br>🟦⬜🟦⬜⬜⬜⬜⬜🟦⬜⬜⬜🟦⬜⬜⬜⬜⬜🟦⬜🟦<br>🟦⬜🟦⬜🟦🟦🟦⬜🟦⬜🟦🟦🟦🟦🟦🟦🟦🟦🟦⬜🟦<br>🟦⬜⬜⬜⬜⬜🟦⬜⬜⬜⬜⬜⬜⬜⬜⬜⬜⬜⬜🟥🟦<br>🟦🟦🟦🟦🟦🟦🟦🟦🟦🟦🟦🟦🟦🟦🟦🟦🟦🟦🟦🟦🟦`;\n",
              "    </script>\n",
              "    "
            ],
            "text/plain": [
              "<IPython.core.display.HTML object>"
            ]
          },
          "metadata": {},
          "output_type": "display_data"
        },
        {
          "data": {
            "text/html": [
              "\n",
              "    <script>\n",
              "    document.getElementById('maze').innerHTML = `🟦🟦🟦🟦🟦🟦🟦🟦🟦🟦🟦🟦🟦🟦🟦🟦🟦🟦🟦🟦🟦<br>🟦🟨🟦🟨🟨🟨🟨🟨🟨🟨🟨😼🟦⬜⬜⬜⬜⬜⬜⬜🟦<br>🟦🟨🟦🟨🟦🟦🟦🟦🟦🟦🟦⬜🟦⬜🟦🟦🟦🟦🟦⬜🟦<br>🟦🟨🟨🟨🟦⬜⬜⬜⬜⬜🟦⬜⬜⬜🟦⬜🟦⬜⬜⬜🟦<br>🟦🟦🟦🟦🟦🟦🟦🟦🟦⬜🟦🟦🟦🟦🟦⬜🟦⬜🟦🟦🟦<br>🟦⬜⬜⬜⬜⬜⬜⬜⬜⬜🟦⬜⬜⬜⬜⬜🟦⬜🟦⬜🟦<br>🟦⬜🟦🟦🟦🟦🟦🟦🟦🟦🟦⬜🟦⬜🟦🟦🟦⬜🟦⬜🟦<br>🟦⬜🟦⬜⬜⬜⬜⬜🟦⬜⬜⬜🟦⬜⬜⬜⬜⬜🟦⬜🟦<br>🟦⬜🟦⬜🟦🟦🟦⬜🟦⬜🟦🟦🟦🟦🟦🟦🟦🟦🟦⬜🟦<br>🟦⬜⬜⬜⬜⬜🟦⬜⬜⬜⬜⬜⬜⬜⬜⬜⬜⬜⬜🟥🟦<br>🟦🟦🟦🟦🟦🟦🟦🟦🟦🟦🟦🟦🟦🟦🟦🟦🟦🟦🟦🟦🟦`;\n",
              "    </script>\n",
              "    "
            ],
            "text/plain": [
              "<IPython.core.display.HTML object>"
            ]
          },
          "metadata": {},
          "output_type": "display_data"
        },
        {
          "data": {
            "text/html": [
              "\n",
              "    <script>\n",
              "    document.getElementById('maze').innerHTML = `🟦🟦🟦🟦🟦🟦🟦🟦🟦🟦🟦🟦🟦🟦🟦🟦🟦🟦🟦🟦🟦<br>🟦🟨🟦🟨🟨🟨🟨🟨🟨🟨🟨🟨🟦⬜⬜⬜⬜⬜⬜⬜🟦<br>🟦🟨🟦🟨🟦🟦🟦🟦🟦🟦🟦😼🟦⬜🟦🟦🟦🟦🟦⬜🟦<br>🟦🟨🟨🟨🟦⬜⬜⬜⬜⬜🟦⬜⬜⬜🟦⬜🟦⬜⬜⬜🟦<br>🟦🟦🟦🟦🟦🟦🟦🟦🟦⬜🟦🟦🟦🟦🟦⬜🟦⬜🟦🟦🟦<br>🟦⬜⬜⬜⬜⬜⬜⬜⬜⬜🟦⬜⬜⬜⬜⬜🟦⬜🟦⬜🟦<br>🟦⬜🟦🟦🟦🟦🟦🟦🟦🟦🟦⬜🟦⬜🟦🟦🟦⬜🟦⬜🟦<br>🟦⬜🟦⬜⬜⬜⬜⬜🟦⬜⬜⬜🟦⬜⬜⬜⬜⬜🟦⬜🟦<br>🟦⬜🟦⬜🟦🟦🟦⬜🟦⬜🟦🟦🟦🟦🟦🟦🟦🟦🟦⬜🟦<br>🟦⬜⬜⬜⬜⬜🟦⬜⬜⬜⬜⬜⬜⬜⬜⬜⬜⬜⬜🟥🟦<br>🟦🟦🟦🟦🟦🟦🟦🟦🟦🟦🟦🟦🟦🟦🟦🟦🟦🟦🟦🟦🟦`;\n",
              "    </script>\n",
              "    "
            ],
            "text/plain": [
              "<IPython.core.display.HTML object>"
            ]
          },
          "metadata": {},
          "output_type": "display_data"
        },
        {
          "data": {
            "text/html": [
              "\n",
              "    <script>\n",
              "    document.getElementById('maze').innerHTML = `🟦🟦🟦🟦🟦🟦🟦🟦🟦🟦🟦🟦🟦🟦🟦🟦🟦🟦🟦🟦🟦<br>🟦🟨🟦🟨🟨🟨🟨🟨🟨🟨🟨🟨🟦⬜⬜⬜⬜⬜⬜⬜🟦<br>🟦🟨🟦🟨🟦🟦🟦🟦🟦🟦🟦🟨🟦⬜🟦🟦🟦🟦🟦⬜🟦<br>🟦🟨🟨🟨🟦⬜⬜⬜⬜⬜🟦😼⬜⬜🟦⬜🟦⬜⬜⬜🟦<br>🟦🟦🟦🟦🟦🟦🟦🟦🟦⬜🟦🟦🟦🟦🟦⬜🟦⬜🟦🟦🟦<br>🟦⬜⬜⬜⬜⬜⬜⬜⬜⬜🟦⬜⬜⬜⬜⬜🟦⬜🟦⬜🟦<br>🟦⬜🟦🟦🟦🟦🟦🟦🟦🟦🟦⬜🟦⬜🟦🟦🟦⬜🟦⬜🟦<br>🟦⬜🟦⬜⬜⬜⬜⬜🟦⬜⬜⬜🟦⬜⬜⬜⬜⬜🟦⬜🟦<br>🟦⬜🟦⬜🟦🟦🟦⬜🟦⬜🟦🟦🟦🟦🟦🟦🟦🟦🟦⬜🟦<br>🟦⬜⬜⬜⬜⬜🟦⬜⬜⬜⬜⬜⬜⬜⬜⬜⬜⬜⬜🟥🟦<br>🟦🟦🟦🟦🟦🟦🟦🟦🟦🟦🟦🟦🟦🟦🟦🟦🟦🟦🟦🟦🟦`;\n",
              "    </script>\n",
              "    "
            ],
            "text/plain": [
              "<IPython.core.display.HTML object>"
            ]
          },
          "metadata": {},
          "output_type": "display_data"
        },
        {
          "data": {
            "text/html": [
              "\n",
              "    <script>\n",
              "    document.getElementById('maze').innerHTML = `🟦🟦🟦🟦🟦🟦🟦🟦🟦🟦🟦🟦🟦🟦🟦🟦🟦🟦🟦🟦🟦<br>🟦🟨🟦🟨🟨🟨🟨🟨🟨🟨🟨🟨🟦⬜⬜⬜⬜⬜⬜⬜🟦<br>🟦🟨🟦🟨🟦🟦🟦🟦🟦🟦🟦🟨🟦⬜🟦🟦🟦🟦🟦⬜🟦<br>🟦🟨🟨🟨🟦⬜⬜⬜⬜⬜🟦🟨😼⬜🟦⬜🟦⬜⬜⬜🟦<br>🟦🟦🟦🟦🟦🟦🟦🟦🟦⬜🟦🟦🟦🟦🟦⬜🟦⬜🟦🟦🟦<br>🟦⬜⬜⬜⬜⬜⬜⬜⬜⬜🟦⬜⬜⬜⬜⬜🟦⬜🟦⬜🟦<br>🟦⬜🟦🟦🟦🟦🟦🟦🟦🟦🟦⬜🟦⬜🟦🟦🟦⬜🟦⬜🟦<br>🟦⬜🟦⬜⬜⬜⬜⬜🟦⬜⬜⬜🟦⬜⬜⬜⬜⬜🟦⬜🟦<br>🟦⬜🟦⬜🟦🟦🟦⬜🟦⬜🟦🟦🟦🟦🟦🟦🟦🟦🟦⬜🟦<br>🟦⬜⬜⬜⬜⬜🟦⬜⬜⬜⬜⬜⬜⬜⬜⬜⬜⬜⬜🟥🟦<br>🟦🟦🟦🟦🟦🟦🟦🟦🟦🟦🟦🟦🟦🟦🟦🟦🟦🟦🟦🟦🟦`;\n",
              "    </script>\n",
              "    "
            ],
            "text/plain": [
              "<IPython.core.display.HTML object>"
            ]
          },
          "metadata": {},
          "output_type": "display_data"
        },
        {
          "data": {
            "text/html": [
              "\n",
              "    <script>\n",
              "    document.getElementById('maze').innerHTML = `🟦🟦🟦🟦🟦🟦🟦🟦🟦🟦🟦🟦🟦🟦🟦🟦🟦🟦🟦🟦🟦<br>🟦🟨🟦🟨🟨🟨🟨🟨🟨🟨🟨🟨🟦⬜⬜⬜⬜⬜⬜⬜🟦<br>🟦🟨🟦🟨🟦🟦🟦🟦🟦🟦🟦🟨🟦⬜🟦🟦🟦🟦🟦⬜🟦<br>🟦🟨🟨🟨🟦⬜⬜⬜⬜⬜🟦🟨🟨😼🟦⬜🟦⬜⬜⬜🟦<br>🟦🟦🟦🟦🟦🟦🟦🟦🟦⬜🟦🟦🟦🟦🟦⬜🟦⬜🟦🟦🟦<br>🟦⬜⬜⬜⬜⬜⬜⬜⬜⬜🟦⬜⬜⬜⬜⬜🟦⬜🟦⬜🟦<br>🟦⬜🟦🟦🟦🟦🟦🟦🟦🟦🟦⬜🟦⬜🟦🟦🟦⬜🟦⬜🟦<br>🟦⬜🟦⬜⬜⬜⬜⬜🟦⬜⬜⬜🟦⬜⬜⬜⬜⬜🟦⬜🟦<br>🟦⬜🟦⬜🟦🟦🟦⬜🟦⬜🟦🟦🟦🟦🟦🟦🟦🟦🟦⬜🟦<br>🟦⬜⬜⬜⬜⬜🟦⬜⬜⬜⬜⬜⬜⬜⬜⬜⬜⬜⬜🟥🟦<br>🟦🟦🟦🟦🟦🟦🟦🟦🟦🟦🟦🟦🟦🟦🟦🟦🟦🟦🟦🟦🟦`;\n",
              "    </script>\n",
              "    "
            ],
            "text/plain": [
              "<IPython.core.display.HTML object>"
            ]
          },
          "metadata": {},
          "output_type": "display_data"
        },
        {
          "data": {
            "text/html": [
              "\n",
              "    <script>\n",
              "    document.getElementById('maze').innerHTML = `🟦🟦🟦🟦🟦🟦🟦🟦🟦🟦🟦🟦🟦🟦🟦🟦🟦🟦🟦🟦🟦<br>🟦🟨🟦🟨🟨🟨🟨🟨🟨🟨🟨🟨🟦⬜⬜⬜⬜⬜⬜⬜🟦<br>🟦🟨🟦🟨🟦🟦🟦🟦🟦🟦🟦🟨🟦😼🟦🟦🟦🟦🟦⬜🟦<br>🟦🟨🟨🟨🟦⬜⬜⬜⬜⬜🟦🟨🟨🟨🟦⬜🟦⬜⬜⬜🟦<br>🟦🟦🟦🟦🟦🟦🟦🟦🟦⬜🟦🟦🟦🟦🟦⬜🟦⬜🟦🟦🟦<br>🟦⬜⬜⬜⬜⬜⬜⬜⬜⬜🟦⬜⬜⬜⬜⬜🟦⬜🟦⬜🟦<br>🟦⬜🟦🟦🟦🟦🟦🟦🟦🟦🟦⬜🟦⬜🟦🟦🟦⬜🟦⬜🟦<br>🟦⬜🟦⬜⬜⬜⬜⬜🟦⬜⬜⬜🟦⬜⬜⬜⬜⬜🟦⬜🟦<br>🟦⬜🟦⬜🟦🟦🟦⬜🟦⬜🟦🟦🟦🟦🟦🟦🟦🟦🟦⬜🟦<br>🟦⬜⬜⬜⬜⬜🟦⬜⬜⬜⬜⬜⬜⬜⬜⬜⬜⬜⬜🟥🟦<br>🟦🟦🟦🟦🟦🟦🟦🟦🟦🟦🟦🟦🟦🟦🟦🟦🟦🟦🟦🟦🟦`;\n",
              "    </script>\n",
              "    "
            ],
            "text/plain": [
              "<IPython.core.display.HTML object>"
            ]
          },
          "metadata": {},
          "output_type": "display_data"
        },
        {
          "data": {
            "text/html": [
              "\n",
              "    <script>\n",
              "    document.getElementById('maze').innerHTML = `🟦🟦🟦🟦🟦🟦🟦🟦🟦🟦🟦🟦🟦🟦🟦🟦🟦🟦🟦🟦🟦<br>🟦🟨🟦🟨🟨🟨🟨🟨🟨🟨🟨🟨🟦😼⬜⬜⬜⬜⬜⬜🟦<br>🟦🟨🟦🟨🟦🟦🟦🟦🟦🟦🟦🟨🟦🟨🟦🟦🟦🟦🟦⬜🟦<br>🟦🟨🟨🟨🟦⬜⬜⬜⬜⬜🟦🟨🟨🟨🟦⬜🟦⬜⬜⬜🟦<br>🟦🟦🟦🟦🟦🟦🟦🟦🟦⬜🟦🟦🟦🟦🟦⬜🟦⬜🟦🟦🟦<br>🟦⬜⬜⬜⬜⬜⬜⬜⬜⬜🟦⬜⬜⬜⬜⬜🟦⬜🟦⬜🟦<br>🟦⬜🟦🟦🟦🟦🟦🟦🟦🟦🟦⬜🟦⬜🟦🟦🟦⬜🟦⬜🟦<br>🟦⬜🟦⬜⬜⬜⬜⬜🟦⬜⬜⬜🟦⬜⬜⬜⬜⬜🟦⬜🟦<br>🟦⬜🟦⬜🟦🟦🟦⬜🟦⬜🟦🟦🟦🟦🟦🟦🟦🟦🟦⬜🟦<br>🟦⬜⬜⬜⬜⬜🟦⬜⬜⬜⬜⬜⬜⬜⬜⬜⬜⬜⬜🟥🟦<br>🟦🟦🟦🟦🟦🟦🟦🟦🟦🟦🟦🟦🟦🟦🟦🟦🟦🟦🟦🟦🟦`;\n",
              "    </script>\n",
              "    "
            ],
            "text/plain": [
              "<IPython.core.display.HTML object>"
            ]
          },
          "metadata": {},
          "output_type": "display_data"
        },
        {
          "data": {
            "text/html": [
              "\n",
              "    <script>\n",
              "    document.getElementById('maze').innerHTML = `🟦🟦🟦🟦🟦🟦🟦🟦🟦🟦🟦🟦🟦🟦🟦🟦🟦🟦🟦🟦🟦<br>🟦🟨🟦🟨🟨🟨🟨🟨🟨🟨🟨🟨🟦🟨😼⬜⬜⬜⬜⬜🟦<br>🟦🟨🟦🟨🟦🟦🟦🟦🟦🟦🟦🟨🟦🟨🟦🟦🟦🟦🟦⬜🟦<br>🟦🟨🟨🟨🟦⬜⬜⬜⬜⬜🟦🟨🟨🟨🟦⬜🟦⬜⬜⬜🟦<br>🟦🟦🟦🟦🟦🟦🟦🟦🟦⬜🟦🟦🟦🟦🟦⬜🟦⬜🟦🟦🟦<br>🟦⬜⬜⬜⬜⬜⬜⬜⬜⬜🟦⬜⬜⬜⬜⬜🟦⬜🟦⬜🟦<br>🟦⬜🟦🟦🟦🟦🟦🟦🟦🟦🟦⬜🟦⬜🟦🟦🟦⬜🟦⬜🟦<br>🟦⬜🟦⬜⬜⬜⬜⬜🟦⬜⬜⬜🟦⬜⬜⬜⬜⬜🟦⬜🟦<br>🟦⬜🟦⬜🟦🟦🟦⬜🟦⬜🟦🟦🟦🟦🟦🟦🟦🟦🟦⬜🟦<br>🟦⬜⬜⬜⬜⬜🟦⬜⬜⬜⬜⬜⬜⬜⬜⬜⬜⬜⬜🟥🟦<br>🟦🟦🟦🟦🟦🟦🟦🟦🟦🟦🟦🟦🟦🟦🟦🟦🟦🟦🟦🟦🟦`;\n",
              "    </script>\n",
              "    "
            ],
            "text/plain": [
              "<IPython.core.display.HTML object>"
            ]
          },
          "metadata": {},
          "output_type": "display_data"
        },
        {
          "data": {
            "text/html": [
              "\n",
              "    <script>\n",
              "    document.getElementById('maze').innerHTML = `🟦🟦🟦🟦🟦🟦🟦🟦🟦🟦🟦🟦🟦🟦🟦🟦🟦🟦🟦🟦🟦<br>🟦🟨🟦🟨🟨🟨🟨🟨🟨🟨🟨🟨🟦🟨🟨😼⬜⬜⬜⬜🟦<br>🟦🟨🟦🟨🟦🟦🟦🟦🟦🟦🟦🟨🟦🟨🟦🟦🟦🟦🟦⬜🟦<br>🟦🟨🟨🟨🟦⬜⬜⬜⬜⬜🟦🟨🟨🟨🟦⬜🟦⬜⬜⬜🟦<br>🟦🟦🟦🟦🟦🟦🟦🟦🟦⬜🟦🟦🟦🟦🟦⬜🟦⬜🟦🟦🟦<br>🟦⬜⬜⬜⬜⬜⬜⬜⬜⬜🟦⬜⬜⬜⬜⬜🟦⬜🟦⬜🟦<br>🟦⬜🟦🟦🟦🟦🟦🟦🟦🟦🟦⬜🟦⬜🟦🟦🟦⬜🟦⬜🟦<br>🟦⬜🟦⬜⬜⬜⬜⬜🟦⬜⬜⬜🟦⬜⬜⬜⬜⬜🟦⬜🟦<br>🟦⬜🟦⬜🟦🟦🟦⬜🟦⬜🟦🟦🟦🟦🟦🟦🟦🟦🟦⬜🟦<br>🟦⬜⬜⬜⬜⬜🟦⬜⬜⬜⬜⬜⬜⬜⬜⬜⬜⬜⬜🟥🟦<br>🟦🟦🟦🟦🟦🟦🟦🟦🟦🟦🟦🟦🟦🟦🟦🟦🟦🟦🟦🟦🟦`;\n",
              "    </script>\n",
              "    "
            ],
            "text/plain": [
              "<IPython.core.display.HTML object>"
            ]
          },
          "metadata": {},
          "output_type": "display_data"
        },
        {
          "data": {
            "text/html": [
              "\n",
              "    <script>\n",
              "    document.getElementById('maze').innerHTML = `🟦🟦🟦🟦🟦🟦🟦🟦🟦🟦🟦🟦🟦🟦🟦🟦🟦🟦🟦🟦🟦<br>🟦🟨🟦🟨🟨🟨🟨🟨🟨🟨🟨🟨🟦🟨🟨🟨😼⬜⬜⬜🟦<br>🟦🟨🟦🟨🟦🟦🟦🟦🟦🟦🟦🟨🟦🟨🟦🟦🟦🟦🟦⬜🟦<br>🟦🟨🟨🟨🟦⬜⬜⬜⬜⬜🟦🟨🟨🟨🟦⬜🟦⬜⬜⬜🟦<br>🟦🟦🟦🟦🟦🟦🟦🟦🟦⬜🟦🟦🟦🟦🟦⬜🟦⬜🟦🟦🟦<br>🟦⬜⬜⬜⬜⬜⬜⬜⬜⬜🟦⬜⬜⬜⬜⬜🟦⬜🟦⬜🟦<br>🟦⬜🟦🟦🟦🟦🟦🟦🟦🟦🟦⬜🟦⬜🟦🟦🟦⬜🟦⬜🟦<br>🟦⬜🟦⬜⬜⬜⬜⬜🟦⬜⬜⬜🟦⬜⬜⬜⬜⬜🟦⬜🟦<br>🟦⬜🟦⬜🟦🟦🟦⬜🟦⬜🟦🟦🟦🟦🟦🟦🟦🟦🟦⬜🟦<br>🟦⬜⬜⬜⬜⬜🟦⬜⬜⬜⬜⬜⬜⬜⬜⬜⬜⬜⬜🟥🟦<br>🟦🟦🟦🟦🟦🟦🟦🟦🟦🟦🟦🟦🟦🟦🟦🟦🟦🟦🟦🟦🟦`;\n",
              "    </script>\n",
              "    "
            ],
            "text/plain": [
              "<IPython.core.display.HTML object>"
            ]
          },
          "metadata": {},
          "output_type": "display_data"
        },
        {
          "data": {
            "text/html": [
              "\n",
              "    <script>\n",
              "    document.getElementById('maze').innerHTML = `🟦🟦🟦🟦🟦🟦🟦🟦🟦🟦🟦🟦🟦🟦🟦🟦🟦🟦🟦🟦🟦<br>🟦🟨🟦🟨🟨🟨🟨🟨🟨🟨🟨🟨🟦🟨🟨🟨🟨😼⬜⬜🟦<br>🟦🟨🟦🟨🟦🟦🟦🟦🟦🟦🟦🟨🟦🟨🟦🟦🟦🟦🟦⬜🟦<br>🟦🟨🟨🟨🟦⬜⬜⬜⬜⬜🟦🟨🟨🟨🟦⬜🟦⬜⬜⬜🟦<br>🟦🟦🟦🟦🟦🟦🟦🟦🟦⬜🟦🟦🟦🟦🟦⬜🟦⬜🟦🟦🟦<br>🟦⬜⬜⬜⬜⬜⬜⬜⬜⬜🟦⬜⬜⬜⬜⬜🟦⬜🟦⬜🟦<br>🟦⬜🟦🟦🟦🟦🟦🟦🟦🟦🟦⬜🟦⬜🟦🟦🟦⬜🟦⬜🟦<br>🟦⬜🟦⬜⬜⬜⬜⬜🟦⬜⬜⬜🟦⬜⬜⬜⬜⬜🟦⬜🟦<br>🟦⬜🟦⬜🟦🟦🟦⬜🟦⬜🟦🟦🟦🟦🟦🟦🟦🟦🟦⬜🟦<br>🟦⬜⬜⬜⬜⬜🟦⬜⬜⬜⬜⬜⬜⬜⬜⬜⬜⬜⬜🟥🟦<br>🟦🟦🟦🟦🟦🟦🟦🟦🟦🟦🟦🟦🟦🟦🟦🟦🟦🟦🟦🟦🟦`;\n",
              "    </script>\n",
              "    "
            ],
            "text/plain": [
              "<IPython.core.display.HTML object>"
            ]
          },
          "metadata": {},
          "output_type": "display_data"
        },
        {
          "data": {
            "text/html": [
              "\n",
              "    <script>\n",
              "    document.getElementById('maze').innerHTML = `🟦🟦🟦🟦🟦🟦🟦🟦🟦🟦🟦🟦🟦🟦🟦🟦🟦🟦🟦🟦🟦<br>🟦🟨🟦🟨🟨🟨🟨🟨🟨🟨🟨🟨🟦🟨🟨🟨🟨🟨😼⬜🟦<br>🟦🟨🟦🟨🟦🟦🟦🟦🟦🟦🟦🟨🟦🟨🟦🟦🟦🟦🟦⬜🟦<br>🟦🟨🟨🟨🟦⬜⬜⬜⬜⬜🟦🟨🟨🟨🟦⬜🟦⬜⬜⬜🟦<br>🟦🟦🟦🟦🟦🟦🟦🟦🟦⬜🟦🟦🟦🟦🟦⬜🟦⬜🟦🟦🟦<br>🟦⬜⬜⬜⬜⬜⬜⬜⬜⬜🟦⬜⬜⬜⬜⬜🟦⬜🟦⬜🟦<br>🟦⬜🟦🟦🟦🟦🟦🟦🟦🟦🟦⬜🟦⬜🟦🟦🟦⬜🟦⬜🟦<br>🟦⬜🟦⬜⬜⬜⬜⬜🟦⬜⬜⬜🟦⬜⬜⬜⬜⬜🟦⬜🟦<br>🟦⬜🟦⬜🟦🟦🟦⬜🟦⬜🟦🟦🟦🟦🟦🟦🟦🟦🟦⬜🟦<br>🟦⬜⬜⬜⬜⬜🟦⬜⬜⬜⬜⬜⬜⬜⬜⬜⬜⬜⬜🟥🟦<br>🟦🟦🟦🟦🟦🟦🟦🟦🟦🟦🟦🟦🟦🟦🟦🟦🟦🟦🟦🟦🟦`;\n",
              "    </script>\n",
              "    "
            ],
            "text/plain": [
              "<IPython.core.display.HTML object>"
            ]
          },
          "metadata": {},
          "output_type": "display_data"
        },
        {
          "data": {
            "text/html": [
              "\n",
              "    <script>\n",
              "    document.getElementById('maze').innerHTML = `🟦🟦🟦🟦🟦🟦🟦🟦🟦🟦🟦🟦🟦🟦🟦🟦🟦🟦🟦🟦🟦<br>🟦🟨🟦🟨🟨🟨🟨🟨🟨🟨🟨🟨🟦🟨🟨🟨🟨🟨🟨😼🟦<br>🟦🟨🟦🟨🟦🟦🟦🟦🟦🟦🟦🟨🟦🟨🟦🟦🟦🟦🟦⬜🟦<br>🟦🟨🟨🟨🟦⬜⬜⬜⬜⬜🟦🟨🟨🟨🟦⬜🟦⬜⬜⬜🟦<br>🟦🟦🟦🟦🟦🟦🟦🟦🟦⬜🟦🟦🟦🟦🟦⬜🟦⬜🟦🟦🟦<br>🟦⬜⬜⬜⬜⬜⬜⬜⬜⬜🟦⬜⬜⬜⬜⬜🟦⬜🟦⬜🟦<br>🟦⬜🟦🟦🟦🟦🟦🟦🟦🟦🟦⬜🟦⬜🟦🟦🟦⬜🟦⬜🟦<br>🟦⬜🟦⬜⬜⬜⬜⬜🟦⬜⬜⬜🟦⬜⬜⬜⬜⬜🟦⬜🟦<br>🟦⬜🟦⬜🟦🟦🟦⬜🟦⬜🟦🟦🟦🟦🟦🟦🟦🟦🟦⬜🟦<br>🟦⬜⬜⬜⬜⬜🟦⬜⬜⬜⬜⬜⬜⬜⬜⬜⬜⬜⬜🟥🟦<br>🟦🟦🟦🟦🟦🟦🟦🟦🟦🟦🟦🟦🟦🟦🟦🟦🟦🟦🟦🟦🟦`;\n",
              "    </script>\n",
              "    "
            ],
            "text/plain": [
              "<IPython.core.display.HTML object>"
            ]
          },
          "metadata": {},
          "output_type": "display_data"
        },
        {
          "data": {
            "text/html": [
              "\n",
              "    <script>\n",
              "    document.getElementById('maze').innerHTML = `🟦🟦🟦🟦🟦🟦🟦🟦🟦🟦🟦🟦🟦🟦🟦🟦🟦🟦🟦🟦🟦<br>🟦🟨🟦🟨🟨🟨🟨🟨🟨🟨🟨🟨🟦🟨🟨🟨🟨🟨🟨🟨🟦<br>🟦🟨🟦🟨🟦🟦🟦🟦🟦🟦🟦🟨🟦🟨🟦🟦🟦🟦🟦😼🟦<br>🟦🟨🟨🟨🟦⬜⬜⬜⬜⬜🟦🟨🟨🟨🟦⬜🟦⬜⬜⬜🟦<br>🟦🟦🟦🟦🟦🟦🟦🟦🟦⬜🟦🟦🟦🟦🟦⬜🟦⬜🟦🟦🟦<br>🟦⬜⬜⬜⬜⬜⬜⬜⬜⬜🟦⬜⬜⬜⬜⬜🟦⬜🟦⬜🟦<br>🟦⬜🟦🟦🟦🟦🟦🟦🟦🟦🟦⬜🟦⬜🟦🟦🟦⬜🟦⬜🟦<br>🟦⬜🟦⬜⬜⬜⬜⬜🟦⬜⬜⬜🟦⬜⬜⬜⬜⬜🟦⬜🟦<br>🟦⬜🟦⬜🟦🟦🟦⬜🟦⬜🟦🟦🟦🟦🟦🟦🟦🟦🟦⬜🟦<br>🟦⬜⬜⬜⬜⬜🟦⬜⬜⬜⬜⬜⬜⬜⬜⬜⬜⬜⬜🟥🟦<br>🟦🟦🟦🟦🟦🟦🟦🟦🟦🟦🟦🟦🟦🟦🟦🟦🟦🟦🟦🟦🟦`;\n",
              "    </script>\n",
              "    "
            ],
            "text/plain": [
              "<IPython.core.display.HTML object>"
            ]
          },
          "metadata": {},
          "output_type": "display_data"
        },
        {
          "data": {
            "text/html": [
              "\n",
              "    <script>\n",
              "    document.getElementById('maze').innerHTML = `🟦🟦🟦🟦🟦🟦🟦🟦🟦🟦🟦🟦🟦🟦🟦🟦🟦🟦🟦🟦🟦<br>🟦🟨🟦🟨🟨🟨🟨🟨🟨🟨🟨🟨🟦🟨🟨🟨🟨🟨🟨🟨🟦<br>🟦🟨🟦🟨🟦🟦🟦🟦🟦🟦🟦🟨🟦🟨🟦🟦🟦🟦🟦🟨🟦<br>🟦🟨🟨🟨🟦⬜⬜⬜⬜⬜🟦🟨🟨🟨🟦⬜🟦⬜⬜😼🟦<br>🟦🟦🟦🟦🟦🟦🟦🟦🟦⬜🟦🟦🟦🟦🟦⬜🟦⬜🟦🟦🟦<br>🟦⬜⬜⬜⬜⬜⬜⬜⬜⬜🟦⬜⬜⬜⬜⬜🟦⬜🟦⬜🟦<br>🟦⬜🟦🟦🟦🟦🟦🟦🟦🟦🟦⬜🟦⬜🟦🟦🟦⬜🟦⬜🟦<br>🟦⬜🟦⬜⬜⬜⬜⬜🟦⬜⬜⬜🟦⬜⬜⬜⬜⬜🟦⬜🟦<br>🟦⬜🟦⬜🟦🟦🟦⬜🟦⬜🟦🟦🟦🟦🟦🟦🟦🟦🟦⬜🟦<br>🟦⬜⬜⬜⬜⬜🟦⬜⬜⬜⬜⬜⬜⬜⬜⬜⬜⬜⬜🟥🟦<br>🟦🟦🟦🟦🟦🟦🟦🟦🟦🟦🟦🟦🟦🟦🟦🟦🟦🟦🟦🟦🟦`;\n",
              "    </script>\n",
              "    "
            ],
            "text/plain": [
              "<IPython.core.display.HTML object>"
            ]
          },
          "metadata": {},
          "output_type": "display_data"
        },
        {
          "data": {
            "text/html": [
              "\n",
              "    <script>\n",
              "    document.getElementById('maze').innerHTML = `🟦🟦🟦🟦🟦🟦🟦🟦🟦🟦🟦🟦🟦🟦🟦🟦🟦🟦🟦🟦🟦<br>🟦🟨🟦🟨🟨🟨🟨🟨🟨🟨🟨🟨🟦🟨🟨🟨🟨🟨🟨🟨🟦<br>🟦🟨🟦🟨🟦🟦🟦🟦🟦🟦🟦🟨🟦🟨🟦🟦🟦🟦🟦🟨🟦<br>🟦🟨🟨🟨🟦⬜⬜⬜⬜⬜🟦🟨🟨🟨🟦⬜🟦⬜😼🟨🟦<br>🟦🟦🟦🟦🟦🟦🟦🟦🟦⬜🟦🟦🟦🟦🟦⬜🟦⬜🟦🟦🟦<br>🟦⬜⬜⬜⬜⬜⬜⬜⬜⬜🟦⬜⬜⬜⬜⬜🟦⬜🟦⬜🟦<br>🟦⬜🟦🟦🟦🟦🟦🟦🟦🟦🟦⬜🟦⬜🟦🟦🟦⬜🟦⬜🟦<br>🟦⬜🟦⬜⬜⬜⬜⬜🟦⬜⬜⬜🟦⬜⬜⬜⬜⬜🟦⬜🟦<br>🟦⬜🟦⬜🟦🟦🟦⬜🟦⬜🟦🟦🟦🟦🟦🟦🟦🟦🟦⬜🟦<br>🟦⬜⬜⬜⬜⬜🟦⬜⬜⬜⬜⬜⬜⬜⬜⬜⬜⬜⬜🟥🟦<br>🟦🟦🟦🟦🟦🟦🟦🟦🟦🟦🟦🟦🟦🟦🟦🟦🟦🟦🟦🟦🟦`;\n",
              "    </script>\n",
              "    "
            ],
            "text/plain": [
              "<IPython.core.display.HTML object>"
            ]
          },
          "metadata": {},
          "output_type": "display_data"
        },
        {
          "data": {
            "text/html": [
              "\n",
              "    <script>\n",
              "    document.getElementById('maze').innerHTML = `🟦🟦🟦🟦🟦🟦🟦🟦🟦🟦🟦🟦🟦🟦🟦🟦🟦🟦🟦🟦🟦<br>🟦🟨🟦🟨🟨🟨🟨🟨🟨🟨🟨🟨🟦🟨🟨🟨🟨🟨🟨🟨🟦<br>🟦🟨🟦🟨🟦🟦🟦🟦🟦🟦🟦🟨🟦🟨🟦🟦🟦🟦🟦🟨🟦<br>🟦🟨🟨🟨🟦⬜⬜⬜⬜⬜🟦🟨🟨🟨🟦⬜🟦😼🟨🟨🟦<br>🟦🟦🟦🟦🟦🟦🟦🟦🟦⬜🟦🟦🟦🟦🟦⬜🟦⬜🟦🟦🟦<br>🟦⬜⬜⬜⬜⬜⬜⬜⬜⬜🟦⬜⬜⬜⬜⬜🟦⬜🟦⬜🟦<br>🟦⬜🟦🟦🟦🟦🟦🟦🟦🟦🟦⬜🟦⬜🟦🟦🟦⬜🟦⬜🟦<br>🟦⬜🟦⬜⬜⬜⬜⬜🟦⬜⬜⬜🟦⬜⬜⬜⬜⬜🟦⬜🟦<br>🟦⬜🟦⬜🟦🟦🟦⬜🟦⬜🟦🟦🟦🟦🟦🟦🟦🟦🟦⬜🟦<br>🟦⬜⬜⬜⬜⬜🟦⬜⬜⬜⬜⬜⬜⬜⬜⬜⬜⬜⬜🟥🟦<br>🟦🟦🟦🟦🟦🟦🟦🟦🟦🟦🟦🟦🟦🟦🟦🟦🟦🟦🟦🟦🟦`;\n",
              "    </script>\n",
              "    "
            ],
            "text/plain": [
              "<IPython.core.display.HTML object>"
            ]
          },
          "metadata": {},
          "output_type": "display_data"
        },
        {
          "data": {
            "text/html": [
              "\n",
              "    <script>\n",
              "    document.getElementById('maze').innerHTML = `🟦🟦🟦🟦🟦🟦🟦🟦🟦🟦🟦🟦🟦🟦🟦🟦🟦🟦🟦🟦🟦<br>🟦🟨🟦🟨🟨🟨🟨🟨🟨🟨🟨🟨🟦🟨🟨🟨🟨🟨🟨🟨🟦<br>🟦🟨🟦🟨🟦🟦🟦🟦🟦🟦🟦🟨🟦🟨🟦🟦🟦🟦🟦🟨🟦<br>🟦🟨🟨🟨🟦⬜⬜⬜⬜⬜🟦🟨🟨🟨🟦⬜🟦🟨🟨🟨🟦<br>🟦🟦🟦🟦🟦🟦🟦🟦🟦⬜🟦🟦🟦🟦🟦⬜🟦😼🟦🟦🟦<br>🟦⬜⬜⬜⬜⬜⬜⬜⬜⬜🟦⬜⬜⬜⬜⬜🟦⬜🟦⬜🟦<br>🟦⬜🟦🟦🟦🟦🟦🟦🟦🟦🟦⬜🟦⬜🟦🟦🟦⬜🟦⬜🟦<br>🟦⬜🟦⬜⬜⬜⬜⬜🟦⬜⬜⬜🟦⬜⬜⬜⬜⬜🟦⬜🟦<br>🟦⬜🟦⬜🟦🟦🟦⬜🟦⬜🟦🟦🟦🟦🟦🟦🟦🟦🟦⬜🟦<br>🟦⬜⬜⬜⬜⬜🟦⬜⬜⬜⬜⬜⬜⬜⬜⬜⬜⬜⬜🟥🟦<br>🟦🟦🟦🟦🟦🟦🟦🟦🟦🟦🟦🟦🟦🟦🟦🟦🟦🟦🟦🟦🟦`;\n",
              "    </script>\n",
              "    "
            ],
            "text/plain": [
              "<IPython.core.display.HTML object>"
            ]
          },
          "metadata": {},
          "output_type": "display_data"
        },
        {
          "data": {
            "text/html": [
              "\n",
              "    <script>\n",
              "    document.getElementById('maze').innerHTML = `🟦🟦🟦🟦🟦🟦🟦🟦🟦🟦🟦🟦🟦🟦🟦🟦🟦🟦🟦🟦🟦<br>🟦🟨🟦🟨🟨🟨🟨🟨🟨🟨🟨🟨🟦🟨🟨🟨🟨🟨🟨🟨🟦<br>🟦🟨🟦🟨🟦🟦🟦🟦🟦🟦🟦🟨🟦🟨🟦🟦🟦🟦🟦🟨🟦<br>🟦🟨🟨🟨🟦⬜⬜⬜⬜⬜🟦🟨🟨🟨🟦⬜🟦🟨🟨🟨🟦<br>🟦🟦🟦🟦🟦🟦🟦🟦🟦⬜🟦🟦🟦🟦🟦⬜🟦🟨🟦🟦🟦<br>🟦⬜⬜⬜⬜⬜⬜⬜⬜⬜🟦⬜⬜⬜⬜⬜🟦😼🟦⬜🟦<br>🟦⬜🟦🟦🟦🟦🟦🟦🟦🟦🟦⬜🟦⬜🟦🟦🟦⬜🟦⬜🟦<br>🟦⬜🟦⬜⬜⬜⬜⬜🟦⬜⬜⬜🟦⬜⬜⬜⬜⬜🟦⬜🟦<br>🟦⬜🟦⬜🟦🟦🟦⬜🟦⬜🟦🟦🟦🟦🟦🟦🟦🟦🟦⬜🟦<br>🟦⬜⬜⬜⬜⬜🟦⬜⬜⬜⬜⬜⬜⬜⬜⬜⬜⬜⬜🟥🟦<br>🟦🟦🟦🟦🟦🟦🟦🟦🟦🟦🟦🟦🟦🟦🟦🟦🟦🟦🟦🟦🟦`;\n",
              "    </script>\n",
              "    "
            ],
            "text/plain": [
              "<IPython.core.display.HTML object>"
            ]
          },
          "metadata": {},
          "output_type": "display_data"
        },
        {
          "data": {
            "text/html": [
              "\n",
              "    <script>\n",
              "    document.getElementById('maze').innerHTML = `🟦🟦🟦🟦🟦🟦🟦🟦🟦🟦🟦🟦🟦🟦🟦🟦🟦🟦🟦🟦🟦<br>🟦🟨🟦🟨🟨🟨🟨🟨🟨🟨🟨🟨🟦🟨🟨🟨🟨🟨🟨🟨🟦<br>🟦🟨🟦🟨🟦🟦🟦🟦🟦🟦🟦🟨🟦🟨🟦🟦🟦🟦🟦🟨🟦<br>🟦🟨🟨🟨🟦⬜⬜⬜⬜⬜🟦🟨🟨🟨🟦⬜🟦🟨🟨🟨🟦<br>🟦🟦🟦🟦🟦🟦🟦🟦🟦⬜🟦🟦🟦🟦🟦⬜🟦🟨🟦🟦🟦<br>🟦⬜⬜⬜⬜⬜⬜⬜⬜⬜🟦⬜⬜⬜⬜⬜🟦🟨🟦⬜🟦<br>🟦⬜🟦🟦🟦🟦🟦🟦🟦🟦🟦⬜🟦⬜🟦🟦🟦😼🟦⬜🟦<br>🟦⬜🟦⬜⬜⬜⬜⬜🟦⬜⬜⬜🟦⬜⬜⬜⬜⬜🟦⬜🟦<br>🟦⬜🟦⬜🟦🟦🟦⬜🟦⬜🟦🟦🟦🟦🟦🟦🟦🟦🟦⬜🟦<br>🟦⬜⬜⬜⬜⬜🟦⬜⬜⬜⬜⬜⬜⬜⬜⬜⬜⬜⬜🟥🟦<br>🟦🟦🟦🟦🟦🟦🟦🟦🟦🟦🟦🟦🟦🟦🟦🟦🟦🟦🟦🟦🟦`;\n",
              "    </script>\n",
              "    "
            ],
            "text/plain": [
              "<IPython.core.display.HTML object>"
            ]
          },
          "metadata": {},
          "output_type": "display_data"
        },
        {
          "data": {
            "text/html": [
              "\n",
              "    <script>\n",
              "    document.getElementById('maze').innerHTML = `🟦🟦🟦🟦🟦🟦🟦🟦🟦🟦🟦🟦🟦🟦🟦🟦🟦🟦🟦🟦🟦<br>🟦🟨🟦🟨🟨🟨🟨🟨🟨🟨🟨🟨🟦🟨🟨🟨🟨🟨🟨🟨🟦<br>🟦🟨🟦🟨🟦🟦🟦🟦🟦🟦🟦🟨🟦🟨🟦🟦🟦🟦🟦🟨🟦<br>🟦🟨🟨🟨🟦⬜⬜⬜⬜⬜🟦🟨🟨🟨🟦⬜🟦🟨🟨🟨🟦<br>🟦🟦🟦🟦🟦🟦🟦🟦🟦⬜🟦🟦🟦🟦🟦⬜🟦🟨🟦🟦🟦<br>🟦⬜⬜⬜⬜⬜⬜⬜⬜⬜🟦⬜⬜⬜⬜⬜🟦🟨🟦⬜🟦<br>🟦⬜🟦🟦🟦🟦🟦🟦🟦🟦🟦⬜🟦⬜🟦🟦🟦🟨🟦⬜🟦<br>🟦⬜🟦⬜⬜⬜⬜⬜🟦⬜⬜⬜🟦⬜⬜⬜⬜😼🟦⬜🟦<br>🟦⬜🟦⬜🟦🟦🟦⬜🟦⬜🟦🟦🟦🟦🟦🟦🟦🟦🟦⬜🟦<br>🟦⬜⬜⬜⬜⬜🟦⬜⬜⬜⬜⬜⬜⬜⬜⬜⬜⬜⬜🟥🟦<br>🟦🟦🟦🟦🟦🟦🟦🟦🟦🟦🟦🟦🟦🟦🟦🟦🟦🟦🟦🟦🟦`;\n",
              "    </script>\n",
              "    "
            ],
            "text/plain": [
              "<IPython.core.display.HTML object>"
            ]
          },
          "metadata": {},
          "output_type": "display_data"
        },
        {
          "data": {
            "text/html": [
              "\n",
              "    <script>\n",
              "    document.getElementById('maze').innerHTML = `🟦🟦🟦🟦🟦🟦🟦🟦🟦🟦🟦🟦🟦🟦🟦🟦🟦🟦🟦🟦🟦<br>🟦🟨🟦🟨🟨🟨🟨🟨🟨🟨🟨🟨🟦🟨🟨🟨🟨🟨🟨🟨🟦<br>🟦🟨🟦🟨🟦🟦🟦🟦🟦🟦🟦🟨🟦🟨🟦🟦🟦🟦🟦🟨🟦<br>🟦🟨🟨🟨🟦⬜⬜⬜⬜⬜🟦🟨🟨🟨🟦⬜🟦🟨🟨🟨🟦<br>🟦🟦🟦🟦🟦🟦🟦🟦🟦⬜🟦🟦🟦🟦🟦⬜🟦🟨🟦🟦🟦<br>🟦⬜⬜⬜⬜⬜⬜⬜⬜⬜🟦⬜⬜⬜⬜⬜🟦🟨🟦⬜🟦<br>🟦⬜🟦🟦🟦🟦🟦🟦🟦🟦🟦⬜🟦⬜🟦🟦🟦🟨🟦⬜🟦<br>🟦⬜🟦⬜⬜⬜⬜⬜🟦⬜⬜⬜🟦⬜⬜⬜😼🟨🟦⬜🟦<br>🟦⬜🟦⬜🟦🟦🟦⬜🟦⬜🟦🟦🟦🟦🟦🟦🟦🟦🟦⬜🟦<br>🟦⬜⬜⬜⬜⬜🟦⬜⬜⬜⬜⬜⬜⬜⬜⬜⬜⬜⬜🟥🟦<br>🟦🟦🟦🟦🟦🟦🟦🟦🟦🟦🟦🟦🟦🟦🟦🟦🟦🟦🟦🟦🟦`;\n",
              "    </script>\n",
              "    "
            ],
            "text/plain": [
              "<IPython.core.display.HTML object>"
            ]
          },
          "metadata": {},
          "output_type": "display_data"
        },
        {
          "data": {
            "text/html": [
              "\n",
              "    <script>\n",
              "    document.getElementById('maze').innerHTML = `🟦🟦🟦🟦🟦🟦🟦🟦🟦🟦🟦🟦🟦🟦🟦🟦🟦🟦🟦🟦🟦<br>🟦🟨🟦🟨🟨🟨🟨🟨🟨🟨🟨🟨🟦🟨🟨🟨🟨🟨🟨🟨🟦<br>🟦🟨🟦🟨🟦🟦🟦🟦🟦🟦🟦🟨🟦🟨🟦🟦🟦🟦🟦🟨🟦<br>🟦🟨🟨🟨🟦⬜⬜⬜⬜⬜🟦🟨🟨🟨🟦⬜🟦🟨🟨🟨🟦<br>🟦🟦🟦🟦🟦🟦🟦🟦🟦⬜🟦🟦🟦🟦🟦⬜🟦🟨🟦🟦🟦<br>🟦⬜⬜⬜⬜⬜⬜⬜⬜⬜🟦⬜⬜⬜⬜⬜🟦🟨🟦⬜🟦<br>🟦⬜🟦🟦🟦🟦🟦🟦🟦🟦🟦⬜🟦⬜🟦🟦🟦🟨🟦⬜🟦<br>🟦⬜🟦⬜⬜⬜⬜⬜🟦⬜⬜⬜🟦⬜⬜😼🟨🟨🟦⬜🟦<br>🟦⬜🟦⬜🟦🟦🟦⬜🟦⬜🟦🟦🟦🟦🟦🟦🟦🟦🟦⬜🟦<br>🟦⬜⬜⬜⬜⬜🟦⬜⬜⬜⬜⬜⬜⬜⬜⬜⬜⬜⬜🟥🟦<br>🟦🟦🟦🟦🟦🟦🟦🟦🟦🟦🟦🟦🟦🟦🟦🟦🟦🟦🟦🟦🟦`;\n",
              "    </script>\n",
              "    "
            ],
            "text/plain": [
              "<IPython.core.display.HTML object>"
            ]
          },
          "metadata": {},
          "output_type": "display_data"
        },
        {
          "data": {
            "text/html": [
              "\n",
              "    <script>\n",
              "    document.getElementById('maze').innerHTML = `🟦🟦🟦🟦🟦🟦🟦🟦🟦🟦🟦🟦🟦🟦🟦🟦🟦🟦🟦🟦🟦<br>🟦🟨🟦🟨🟨🟨🟨🟨🟨🟨🟨🟨🟦🟨🟨🟨🟨🟨🟨🟨🟦<br>🟦🟨🟦🟨🟦🟦🟦🟦🟦🟦🟦🟨🟦🟨🟦🟦🟦🟦🟦🟨🟦<br>🟦🟨🟨🟨🟦⬜⬜⬜⬜⬜🟦🟨🟨🟨🟦⬜🟦🟨🟨🟨🟦<br>🟦🟦🟦🟦🟦🟦🟦🟦🟦⬜🟦🟦🟦🟦🟦⬜🟦🟨🟦🟦🟦<br>🟦⬜⬜⬜⬜⬜⬜⬜⬜⬜🟦⬜⬜⬜⬜⬜🟦🟨🟦⬜🟦<br>🟦⬜🟦🟦🟦🟦🟦🟦🟦🟦🟦⬜🟦⬜🟦🟦🟦🟨🟦⬜🟦<br>🟦⬜🟦⬜⬜⬜⬜⬜🟦⬜⬜⬜🟦⬜😼🟨🟨🟨🟦⬜🟦<br>🟦⬜🟦⬜🟦🟦🟦⬜🟦⬜🟦🟦🟦🟦🟦🟦🟦🟦🟦⬜🟦<br>🟦⬜⬜⬜⬜⬜🟦⬜⬜⬜⬜⬜⬜⬜⬜⬜⬜⬜⬜🟥🟦<br>🟦🟦🟦🟦🟦🟦🟦🟦🟦🟦🟦🟦🟦🟦🟦🟦🟦🟦🟦🟦🟦`;\n",
              "    </script>\n",
              "    "
            ],
            "text/plain": [
              "<IPython.core.display.HTML object>"
            ]
          },
          "metadata": {},
          "output_type": "display_data"
        },
        {
          "data": {
            "text/html": [
              "\n",
              "    <script>\n",
              "    document.getElementById('maze').innerHTML = `🟦🟦🟦🟦🟦🟦🟦🟦🟦🟦🟦🟦🟦🟦🟦🟦🟦🟦🟦🟦🟦<br>🟦🟨🟦🟨🟨🟨🟨🟨🟨🟨🟨🟨🟦🟨🟨🟨🟨🟨🟨🟨🟦<br>🟦🟨🟦🟨🟦🟦🟦🟦🟦🟦🟦🟨🟦🟨🟦🟦🟦🟦🟦🟨🟦<br>🟦🟨🟨🟨🟦⬜⬜⬜⬜⬜🟦🟨🟨🟨🟦⬜🟦🟨🟨🟨🟦<br>🟦🟦🟦🟦🟦🟦🟦🟦🟦⬜🟦🟦🟦🟦🟦⬜🟦🟨🟦🟦🟦<br>🟦⬜⬜⬜⬜⬜⬜⬜⬜⬜🟦⬜⬜⬜⬜⬜🟦🟨🟦⬜🟦<br>🟦⬜🟦🟦🟦🟦🟦🟦🟦🟦🟦⬜🟦⬜🟦🟦🟦🟨🟦⬜🟦<br>🟦⬜🟦⬜⬜⬜⬜⬜🟦⬜⬜⬜🟦😼🟨🟨🟨🟨🟦⬜🟦<br>🟦⬜🟦⬜🟦🟦🟦⬜🟦⬜🟦🟦🟦🟦🟦🟦🟦🟦🟦⬜🟦<br>🟦⬜⬜⬜⬜⬜🟦⬜⬜⬜⬜⬜⬜⬜⬜⬜⬜⬜⬜🟥🟦<br>🟦🟦🟦🟦🟦🟦🟦🟦🟦🟦🟦🟦🟦🟦🟦🟦🟦🟦🟦🟦🟦`;\n",
              "    </script>\n",
              "    "
            ],
            "text/plain": [
              "<IPython.core.display.HTML object>"
            ]
          },
          "metadata": {},
          "output_type": "display_data"
        },
        {
          "data": {
            "text/html": [
              "\n",
              "    <script>\n",
              "    document.getElementById('maze').innerHTML = `🟦🟦🟦🟦🟦🟦🟦🟦🟦🟦🟦🟦🟦🟦🟦🟦🟦🟦🟦🟦🟦<br>🟦🟨🟦🟨🟨🟨🟨🟨🟨🟨🟨🟨🟦🟨🟨🟨🟨🟨🟨🟨🟦<br>🟦🟨🟦🟨🟦🟦🟦🟦🟦🟦🟦🟨🟦🟨🟦🟦🟦🟦🟦🟨🟦<br>🟦🟨🟨🟨🟦⬜⬜⬜⬜⬜🟦🟨🟨🟨🟦⬜🟦🟨🟨🟨🟦<br>🟦🟦🟦🟦🟦🟦🟦🟦🟦⬜🟦🟦🟦🟦🟦⬜🟦🟨🟦🟦🟦<br>🟦⬜⬜⬜⬜⬜⬜⬜⬜⬜🟦⬜⬜⬜⬜⬜🟦🟨🟦⬜🟦<br>🟦⬜🟦🟦🟦🟦🟦🟦🟦🟦🟦⬜🟦😼🟦🟦🟦🟨🟦⬜🟦<br>🟦⬜🟦⬜⬜⬜⬜⬜🟦⬜⬜⬜🟦🟨🟨🟨🟨🟨🟦⬜🟦<br>🟦⬜🟦⬜🟦🟦🟦⬜🟦⬜🟦🟦🟦🟦🟦🟦🟦🟦🟦⬜🟦<br>🟦⬜⬜⬜⬜⬜🟦⬜⬜⬜⬜⬜⬜⬜⬜⬜⬜⬜⬜🟥🟦<br>🟦🟦🟦🟦🟦🟦🟦🟦🟦🟦🟦🟦🟦🟦🟦🟦🟦🟦🟦🟦🟦`;\n",
              "    </script>\n",
              "    "
            ],
            "text/plain": [
              "<IPython.core.display.HTML object>"
            ]
          },
          "metadata": {},
          "output_type": "display_data"
        },
        {
          "data": {
            "text/html": [
              "\n",
              "    <script>\n",
              "    document.getElementById('maze').innerHTML = `🟦🟦🟦🟦🟦🟦🟦🟦🟦🟦🟦🟦🟦🟦🟦🟦🟦🟦🟦🟦🟦<br>🟦🟨🟦🟨🟨🟨🟨🟨🟨🟨🟨🟨🟦🟨🟨🟨🟨🟨🟨🟨🟦<br>🟦🟨🟦🟨🟦🟦🟦🟦🟦🟦🟦🟨🟦🟨🟦🟦🟦🟦🟦🟨🟦<br>🟦🟨🟨🟨🟦⬜⬜⬜⬜⬜🟦🟨🟨🟨🟦⬜🟦🟨🟨🟨🟦<br>🟦🟦🟦🟦🟦🟦🟦🟦🟦⬜🟦🟦🟦🟦🟦⬜🟦🟨🟦🟦🟦<br>🟦⬜⬜⬜⬜⬜⬜⬜⬜⬜🟦⬜⬜😼⬜⬜🟦🟨🟦⬜🟦<br>🟦⬜🟦🟦🟦🟦🟦🟦🟦🟦🟦⬜🟦🟨🟦🟦🟦🟨🟦⬜🟦<br>🟦⬜🟦⬜⬜⬜⬜⬜🟦⬜⬜⬜🟦🟨🟨🟨🟨🟨🟦⬜🟦<br>🟦⬜🟦⬜🟦🟦🟦⬜🟦⬜🟦🟦🟦🟦🟦🟦🟦🟦🟦⬜🟦<br>🟦⬜⬜⬜⬜⬜🟦⬜⬜⬜⬜⬜⬜⬜⬜⬜⬜⬜⬜🟥🟦<br>🟦🟦🟦🟦🟦🟦🟦🟦🟦🟦🟦🟦🟦🟦🟦🟦🟦🟦🟦🟦🟦`;\n",
              "    </script>\n",
              "    "
            ],
            "text/plain": [
              "<IPython.core.display.HTML object>"
            ]
          },
          "metadata": {},
          "output_type": "display_data"
        },
        {
          "data": {
            "text/html": [
              "\n",
              "    <script>\n",
              "    document.getElementById('maze').innerHTML = `🟦🟦🟦🟦🟦🟦🟦🟦🟦🟦🟦🟦🟦🟦🟦🟦🟦🟦🟦🟦🟦<br>🟦🟨🟦🟨🟨🟨🟨🟨🟨🟨🟨🟨🟦🟨🟨🟨🟨🟨🟨🟨🟦<br>🟦🟨🟦🟨🟦🟦🟦🟦🟦🟦🟦🟨🟦🟨🟦🟦🟦🟦🟦🟨🟦<br>🟦🟨🟨🟨🟦⬜⬜⬜⬜⬜🟦🟨🟨🟨🟦⬜🟦🟨🟨🟨🟦<br>🟦🟦🟦🟦🟦🟦🟦🟦🟦⬜🟦🟦🟦🟦🟦⬜🟦🟨🟦🟦🟦<br>🟦⬜⬜⬜⬜⬜⬜⬜⬜⬜🟦⬜⬜🟨😼⬜🟦🟨🟦⬜🟦<br>🟦⬜🟦🟦🟦🟦🟦🟦🟦🟦🟦⬜🟦🟨🟦🟦🟦🟨🟦⬜🟦<br>🟦⬜🟦⬜⬜⬜⬜⬜🟦⬜⬜⬜🟦🟨🟨🟨🟨🟨🟦⬜🟦<br>🟦⬜🟦⬜🟦🟦🟦⬜🟦⬜🟦🟦🟦🟦🟦🟦🟦🟦🟦⬜🟦<br>🟦⬜⬜⬜⬜⬜🟦⬜⬜⬜⬜⬜⬜⬜⬜⬜⬜⬜⬜🟥🟦<br>🟦🟦🟦🟦🟦🟦🟦🟦🟦🟦🟦🟦🟦🟦🟦🟦🟦🟦🟦🟦🟦`;\n",
              "    </script>\n",
              "    "
            ],
            "text/plain": [
              "<IPython.core.display.HTML object>"
            ]
          },
          "metadata": {},
          "output_type": "display_data"
        },
        {
          "data": {
            "text/html": [
              "\n",
              "    <script>\n",
              "    document.getElementById('maze').innerHTML = `🟦🟦🟦🟦🟦🟦🟦🟦🟦🟦🟦🟦🟦🟦🟦🟦🟦🟦🟦🟦🟦<br>🟦🟨🟦🟨🟨🟨🟨🟨🟨🟨🟨🟨🟦🟨🟨🟨🟨🟨🟨🟨🟦<br>🟦🟨🟦🟨🟦🟦🟦🟦🟦🟦🟦🟨🟦🟨🟦🟦🟦🟦🟦🟨🟦<br>🟦🟨🟨🟨🟦⬜⬜⬜⬜⬜🟦🟨🟨🟨🟦⬜🟦🟨🟨🟨🟦<br>🟦🟦🟦🟦🟦🟦🟦🟦🟦⬜🟦🟦🟦🟦🟦⬜🟦🟨🟦🟦🟦<br>🟦⬜⬜⬜⬜⬜⬜⬜⬜⬜🟦⬜⬜🟨🟨😼🟦🟨🟦⬜🟦<br>🟦⬜🟦🟦🟦🟦🟦🟦🟦🟦🟦⬜🟦🟨🟦🟦🟦🟨🟦⬜🟦<br>🟦⬜🟦⬜⬜⬜⬜⬜🟦⬜⬜⬜🟦🟨🟨🟨🟨🟨🟦⬜🟦<br>🟦⬜🟦⬜🟦🟦🟦⬜🟦⬜🟦🟦🟦🟦🟦🟦🟦🟦🟦⬜🟦<br>🟦⬜⬜⬜⬜⬜🟦⬜⬜⬜⬜⬜⬜⬜⬜⬜⬜⬜⬜🟥🟦<br>🟦🟦🟦🟦🟦🟦🟦🟦🟦🟦🟦🟦🟦🟦🟦🟦🟦🟦🟦🟦🟦`;\n",
              "    </script>\n",
              "    "
            ],
            "text/plain": [
              "<IPython.core.display.HTML object>"
            ]
          },
          "metadata": {},
          "output_type": "display_data"
        },
        {
          "data": {
            "text/html": [
              "\n",
              "    <script>\n",
              "    document.getElementById('maze').innerHTML = `🟦🟦🟦🟦🟦🟦🟦🟦🟦🟦🟦🟦🟦🟦🟦🟦🟦🟦🟦🟦🟦<br>🟦🟨🟦🟨🟨🟨🟨🟨🟨🟨🟨🟨🟦🟨🟨🟨🟨🟨🟨🟨🟦<br>🟦🟨🟦🟨🟦🟦🟦🟦🟦🟦🟦🟨🟦🟨🟦🟦🟦🟦🟦🟨🟦<br>🟦🟨🟨🟨🟦⬜⬜⬜⬜⬜🟦🟨🟨🟨🟦⬜🟦🟨🟨🟨🟦<br>🟦🟦🟦🟦🟦🟦🟦🟦🟦⬜🟦🟦🟦🟦🟦😼🟦🟨🟦🟦🟦<br>🟦⬜⬜⬜⬜⬜⬜⬜⬜⬜🟦⬜⬜🟨🟨🟨🟦🟨🟦⬜🟦<br>🟦⬜🟦🟦🟦🟦🟦🟦🟦🟦🟦⬜🟦🟨🟦🟦🟦🟨🟦⬜🟦<br>🟦⬜🟦⬜⬜⬜⬜⬜🟦⬜⬜⬜🟦🟨🟨🟨🟨🟨🟦⬜🟦<br>🟦⬜🟦⬜🟦🟦🟦⬜🟦⬜🟦🟦🟦🟦🟦🟦🟦🟦🟦⬜🟦<br>🟦⬜⬜⬜⬜⬜🟦⬜⬜⬜⬜⬜⬜⬜⬜⬜⬜⬜⬜🟥🟦<br>🟦🟦🟦🟦🟦🟦🟦🟦🟦🟦🟦🟦🟦🟦🟦🟦🟦🟦🟦🟦🟦`;\n",
              "    </script>\n",
              "    "
            ],
            "text/plain": [
              "<IPython.core.display.HTML object>"
            ]
          },
          "metadata": {},
          "output_type": "display_data"
        },
        {
          "data": {
            "text/html": [
              "\n",
              "    <script>\n",
              "    document.getElementById('maze').innerHTML = `🟦🟦🟦🟦🟦🟦🟦🟦🟦🟦🟦🟦🟦🟦🟦🟦🟦🟦🟦🟦🟦<br>🟦🟨🟦🟨🟨🟨🟨🟨🟨🟨🟨🟨🟦🟨🟨🟨🟨🟨🟨🟨🟦<br>🟦🟨🟦🟨🟦🟦🟦🟦🟦🟦🟦🟨🟦🟨🟦🟦🟦🟦🟦🟨🟦<br>🟦🟨🟨🟨🟦⬜⬜⬜⬜⬜🟦🟨🟨🟨🟦😼🟦🟨🟨🟨🟦<br>🟦🟦🟦🟦🟦🟦🟦🟦🟦⬜🟦🟦🟦🟦🟦🟨🟦🟨🟦🟦🟦<br>🟦⬜⬜⬜⬜⬜⬜⬜⬜⬜🟦⬜⬜🟨🟨🟨🟦🟨🟦⬜🟦<br>🟦⬜🟦🟦🟦🟦🟦🟦🟦🟦🟦⬜🟦🟨🟦🟦🟦🟨🟦⬜🟦<br>🟦⬜🟦⬜⬜⬜⬜⬜🟦⬜⬜⬜🟦🟨🟨🟨🟨🟨🟦⬜🟦<br>🟦⬜🟦⬜🟦🟦🟦⬜🟦⬜🟦🟦🟦🟦🟦🟦🟦🟦🟦⬜🟦<br>🟦⬜⬜⬜⬜⬜🟦⬜⬜⬜⬜⬜⬜⬜⬜⬜⬜⬜⬜🟥🟦<br>🟦🟦🟦🟦🟦🟦🟦🟦🟦🟦🟦🟦🟦🟦🟦🟦🟦🟦🟦🟦🟦`;\n",
              "    </script>\n",
              "    "
            ],
            "text/plain": [
              "<IPython.core.display.HTML object>"
            ]
          },
          "metadata": {},
          "output_type": "display_data"
        },
        {
          "data": {
            "text/html": [
              "\n",
              "    <script>\n",
              "    document.getElementById('maze').innerHTML = `🟦🟦🟦🟦🟦🟦🟦🟦🟦🟦🟦🟦🟦🟦🟦🟦🟦🟦🟦🟦🟦<br>🟦🟨🟦🟨🟨🟨🟨🟨🟨🟨🟨🟨🟦🟨🟨🟨🟨🟨🟨🟨🟦<br>🟦🟨🟦🟨🟦🟦🟦🟦🟦🟦🟦🟨🟦🟨🟦🟦🟦🟦🟦🟨🟦<br>🟦🟨🟨🟨🟦⬜⬜⬜⬜⬜🟦🟨🟨🟨🟦🟨🟦🟨🟨🟨🟦<br>🟦🟦🟦🟦🟦🟦🟦🟦🟦⬜🟦🟦🟦🟦🟦🟨🟦🟨🟦🟦🟦<br>🟦⬜⬜⬜⬜⬜⬜⬜⬜⬜🟦⬜😼🟨🟨🟨🟦🟨🟦⬜🟦<br>🟦⬜🟦🟦🟦🟦🟦🟦🟦🟦🟦⬜🟦🟨🟦🟦🟦🟨🟦⬜🟦<br>🟦⬜🟦⬜⬜⬜⬜⬜🟦⬜⬜⬜🟦🟨🟨🟨🟨🟨🟦⬜🟦<br>🟦⬜🟦⬜🟦🟦🟦⬜🟦⬜🟦🟦🟦🟦🟦🟦🟦🟦🟦⬜🟦<br>🟦⬜⬜⬜⬜⬜🟦⬜⬜⬜⬜⬜⬜⬜⬜⬜⬜⬜⬜🟥🟦<br>🟦🟦🟦🟦🟦🟦🟦🟦🟦🟦🟦🟦🟦🟦🟦🟦🟦🟦🟦🟦🟦`;\n",
              "    </script>\n",
              "    "
            ],
            "text/plain": [
              "<IPython.core.display.HTML object>"
            ]
          },
          "metadata": {},
          "output_type": "display_data"
        },
        {
          "data": {
            "text/html": [
              "\n",
              "    <script>\n",
              "    document.getElementById('maze').innerHTML = `🟦🟦🟦🟦🟦🟦🟦🟦🟦🟦🟦🟦🟦🟦🟦🟦🟦🟦🟦🟦🟦<br>🟦🟨🟦🟨🟨🟨🟨🟨🟨🟨🟨🟨🟦🟨🟨🟨🟨🟨🟨🟨🟦<br>🟦🟨🟦🟨🟦🟦🟦🟦🟦🟦🟦🟨🟦🟨🟦🟦🟦🟦🟦🟨🟦<br>🟦🟨🟨🟨🟦⬜⬜⬜⬜⬜🟦🟨🟨🟨🟦🟨🟦🟨🟨🟨🟦<br>🟦🟦🟦🟦🟦🟦🟦🟦🟦⬜🟦🟦🟦🟦🟦🟨🟦🟨🟦🟦🟦<br>🟦⬜⬜⬜⬜⬜⬜⬜⬜⬜🟦😼🟨🟨🟨🟨🟦🟨🟦⬜🟦<br>🟦⬜🟦🟦🟦🟦🟦🟦🟦🟦🟦⬜🟦🟨🟦🟦🟦🟨🟦⬜🟦<br>🟦⬜🟦⬜⬜⬜⬜⬜🟦⬜⬜⬜🟦🟨🟨🟨🟨🟨🟦⬜🟦<br>🟦⬜🟦⬜🟦🟦🟦⬜🟦⬜🟦🟦🟦🟦🟦🟦🟦🟦🟦⬜🟦<br>🟦⬜⬜⬜⬜⬜🟦⬜⬜⬜⬜⬜⬜⬜⬜⬜⬜⬜⬜🟥🟦<br>🟦🟦🟦🟦🟦🟦🟦🟦🟦🟦🟦🟦🟦🟦🟦🟦🟦🟦🟦🟦🟦`;\n",
              "    </script>\n",
              "    "
            ],
            "text/plain": [
              "<IPython.core.display.HTML object>"
            ]
          },
          "metadata": {},
          "output_type": "display_data"
        },
        {
          "data": {
            "text/html": [
              "\n",
              "    <script>\n",
              "    document.getElementById('maze').innerHTML = `🟦🟦🟦🟦🟦🟦🟦🟦🟦🟦🟦🟦🟦🟦🟦🟦🟦🟦🟦🟦🟦<br>🟦🟨🟦🟨🟨🟨🟨🟨🟨🟨🟨🟨🟦🟨🟨🟨🟨🟨🟨🟨🟦<br>🟦🟨🟦🟨🟦🟦🟦🟦🟦🟦🟦🟨🟦🟨🟦🟦🟦🟦🟦🟨🟦<br>🟦🟨🟨🟨🟦⬜⬜⬜⬜⬜🟦🟨🟨🟨🟦🟨🟦🟨🟨🟨🟦<br>🟦🟦🟦🟦🟦🟦🟦🟦🟦⬜🟦🟦🟦🟦🟦🟨🟦🟨🟦🟦🟦<br>🟦⬜⬜⬜⬜⬜⬜⬜⬜⬜🟦🟨🟨🟨🟨🟨🟦🟨🟦⬜🟦<br>🟦⬜🟦🟦🟦🟦🟦🟦🟦🟦🟦😼🟦🟨🟦🟦🟦🟨🟦⬜🟦<br>🟦⬜🟦⬜⬜⬜⬜⬜🟦⬜⬜⬜🟦🟨🟨🟨🟨🟨🟦⬜🟦<br>🟦⬜🟦⬜🟦🟦🟦⬜🟦⬜🟦🟦🟦🟦🟦🟦🟦🟦🟦⬜🟦<br>🟦⬜⬜⬜⬜⬜🟦⬜⬜⬜⬜⬜⬜⬜⬜⬜⬜⬜⬜🟥🟦<br>🟦🟦🟦🟦🟦🟦🟦🟦🟦🟦🟦🟦🟦🟦🟦🟦🟦🟦🟦🟦🟦`;\n",
              "    </script>\n",
              "    "
            ],
            "text/plain": [
              "<IPython.core.display.HTML object>"
            ]
          },
          "metadata": {},
          "output_type": "display_data"
        },
        {
          "data": {
            "text/html": [
              "\n",
              "    <script>\n",
              "    document.getElementById('maze').innerHTML = `🟦🟦🟦🟦🟦🟦🟦🟦🟦🟦🟦🟦🟦🟦🟦🟦🟦🟦🟦🟦🟦<br>🟦🟨🟦🟨🟨🟨🟨🟨🟨🟨🟨🟨🟦🟨🟨🟨🟨🟨🟨🟨🟦<br>🟦🟨🟦🟨🟦🟦🟦🟦🟦🟦🟦🟨🟦🟨🟦🟦🟦🟦🟦🟨🟦<br>🟦🟨🟨🟨🟦⬜⬜⬜⬜⬜🟦🟨🟨🟨🟦🟨🟦🟨🟨🟨🟦<br>🟦🟦🟦🟦🟦🟦🟦🟦🟦⬜🟦🟦🟦🟦🟦🟨🟦🟨🟦🟦🟦<br>🟦⬜⬜⬜⬜⬜⬜⬜⬜⬜🟦🟨🟨🟨🟨🟨🟦🟨🟦⬜🟦<br>🟦⬜🟦🟦🟦🟦🟦🟦🟦🟦🟦🟨🟦🟨🟦🟦🟦🟨🟦⬜🟦<br>🟦⬜🟦⬜⬜⬜⬜⬜🟦⬜⬜😼🟦🟨🟨🟨🟨🟨🟦⬜🟦<br>🟦⬜🟦⬜🟦🟦🟦⬜🟦⬜🟦🟦🟦🟦🟦🟦🟦🟦🟦⬜🟦<br>🟦⬜⬜⬜⬜⬜🟦⬜⬜⬜⬜⬜⬜⬜⬜⬜⬜⬜⬜🟥🟦<br>🟦🟦🟦🟦🟦🟦🟦🟦🟦🟦🟦🟦🟦🟦🟦🟦🟦🟦🟦🟦🟦`;\n",
              "    </script>\n",
              "    "
            ],
            "text/plain": [
              "<IPython.core.display.HTML object>"
            ]
          },
          "metadata": {},
          "output_type": "display_data"
        },
        {
          "data": {
            "text/html": [
              "\n",
              "    <script>\n",
              "    document.getElementById('maze').innerHTML = `🟦🟦🟦🟦🟦🟦🟦🟦🟦🟦🟦🟦🟦🟦🟦🟦🟦🟦🟦🟦🟦<br>🟦🟨🟦🟨🟨🟨🟨🟨🟨🟨🟨🟨🟦🟨🟨🟨🟨🟨🟨🟨🟦<br>🟦🟨🟦🟨🟦🟦🟦🟦🟦🟦🟦🟨🟦🟨🟦🟦🟦🟦🟦🟨🟦<br>🟦🟨🟨🟨🟦⬜⬜⬜⬜⬜🟦🟨🟨🟨🟦🟨🟦🟨🟨🟨🟦<br>🟦🟦🟦🟦🟦🟦🟦🟦🟦⬜🟦🟦🟦🟦🟦🟨🟦🟨🟦🟦🟦<br>🟦⬜⬜⬜⬜⬜⬜⬜⬜⬜🟦🟨🟨🟨🟨🟨🟦🟨🟦⬜🟦<br>🟦⬜🟦🟦🟦🟦🟦🟦🟦🟦🟦🟨🟦🟨🟦🟦🟦🟨🟦⬜🟦<br>🟦⬜🟦⬜⬜⬜⬜⬜🟦⬜😼🟨🟦🟨🟨🟨🟨🟨🟦⬜🟦<br>🟦⬜🟦⬜🟦🟦🟦⬜🟦⬜🟦🟦🟦🟦🟦🟦🟦🟦🟦⬜🟦<br>🟦⬜⬜⬜⬜⬜🟦⬜⬜⬜⬜⬜⬜⬜⬜⬜⬜⬜⬜🟥🟦<br>🟦🟦🟦🟦🟦🟦🟦🟦🟦🟦🟦🟦🟦🟦🟦🟦🟦🟦🟦🟦🟦`;\n",
              "    </script>\n",
              "    "
            ],
            "text/plain": [
              "<IPython.core.display.HTML object>"
            ]
          },
          "metadata": {},
          "output_type": "display_data"
        },
        {
          "data": {
            "text/html": [
              "\n",
              "    <script>\n",
              "    document.getElementById('maze').innerHTML = `🟦🟦🟦🟦🟦🟦🟦🟦🟦🟦🟦🟦🟦🟦🟦🟦🟦🟦🟦🟦🟦<br>🟦🟨🟦🟨🟨🟨🟨🟨🟨🟨🟨🟨🟦🟨🟨🟨🟨🟨🟨🟨🟦<br>🟦🟨🟦🟨🟦🟦🟦🟦🟦🟦🟦🟨🟦🟨🟦🟦🟦🟦🟦🟨🟦<br>🟦🟨🟨🟨🟦⬜⬜⬜⬜⬜🟦🟨🟨🟨🟦🟨🟦🟨🟨🟨🟦<br>🟦🟦🟦🟦🟦🟦🟦🟦🟦⬜🟦🟦🟦🟦🟦🟨🟦🟨🟦🟦🟦<br>🟦⬜⬜⬜⬜⬜⬜⬜⬜⬜🟦🟨🟨🟨🟨🟨🟦🟨🟦⬜🟦<br>🟦⬜🟦🟦🟦🟦🟦🟦🟦🟦🟦🟨🟦🟨🟦🟦🟦🟨🟦⬜🟦<br>🟦⬜🟦⬜⬜⬜⬜⬜🟦😼🟨🟨🟦🟨🟨🟨🟨🟨🟦⬜🟦<br>🟦⬜🟦⬜🟦🟦🟦⬜🟦⬜🟦🟦🟦🟦🟦🟦🟦🟦🟦⬜🟦<br>🟦⬜⬜⬜⬜⬜🟦⬜⬜⬜⬜⬜⬜⬜⬜⬜⬜⬜⬜🟥🟦<br>🟦🟦🟦🟦🟦🟦🟦🟦🟦🟦🟦🟦🟦🟦🟦🟦🟦🟦🟦🟦🟦`;\n",
              "    </script>\n",
              "    "
            ],
            "text/plain": [
              "<IPython.core.display.HTML object>"
            ]
          },
          "metadata": {},
          "output_type": "display_data"
        },
        {
          "data": {
            "text/html": [
              "\n",
              "    <script>\n",
              "    document.getElementById('maze').innerHTML = `🟦🟦🟦🟦🟦🟦🟦🟦🟦🟦🟦🟦🟦🟦🟦🟦🟦🟦🟦🟦🟦<br>🟦🟨🟦🟨🟨🟨🟨🟨🟨🟨🟨🟨🟦🟨🟨🟨🟨🟨🟨🟨🟦<br>🟦🟨🟦🟨🟦🟦🟦🟦🟦🟦🟦🟨🟦🟨🟦🟦🟦🟦🟦🟨🟦<br>🟦🟨🟨🟨🟦⬜⬜⬜⬜⬜🟦🟨🟨🟨🟦🟨🟦🟨🟨🟨🟦<br>🟦🟦🟦🟦🟦🟦🟦🟦🟦⬜🟦🟦🟦🟦🟦🟨🟦🟨🟦🟦🟦<br>🟦⬜⬜⬜⬜⬜⬜⬜⬜⬜🟦🟨🟨🟨🟨🟨🟦🟨🟦⬜🟦<br>🟦⬜🟦🟦🟦🟦🟦🟦🟦🟦🟦🟨🟦🟨🟦🟦🟦🟨🟦⬜🟦<br>🟦⬜🟦⬜⬜⬜⬜⬜🟦🟨🟨🟨🟦🟨🟨🟨🟨🟨🟦⬜🟦<br>🟦⬜🟦⬜🟦🟦🟦⬜🟦😼🟦🟦🟦🟦🟦🟦🟦🟦🟦⬜🟦<br>🟦⬜⬜⬜⬜⬜🟦⬜⬜⬜⬜⬜⬜⬜⬜⬜⬜⬜⬜🟥🟦<br>🟦🟦🟦🟦🟦🟦🟦🟦🟦🟦🟦🟦🟦🟦🟦🟦🟦🟦🟦🟦🟦`;\n",
              "    </script>\n",
              "    "
            ],
            "text/plain": [
              "<IPython.core.display.HTML object>"
            ]
          },
          "metadata": {},
          "output_type": "display_data"
        },
        {
          "data": {
            "text/html": [
              "\n",
              "    <script>\n",
              "    document.getElementById('maze').innerHTML = `🟦🟦🟦🟦🟦🟦🟦🟦🟦🟦🟦🟦🟦🟦🟦🟦🟦🟦🟦🟦🟦<br>🟦🟨🟦🟨🟨🟨🟨🟨🟨🟨🟨🟨🟦🟨🟨🟨🟨🟨🟨🟨🟦<br>🟦🟨🟦🟨🟦🟦🟦🟦🟦🟦🟦🟨🟦🟨🟦🟦🟦🟦🟦🟨🟦<br>🟦🟨🟨🟨🟦⬜⬜⬜⬜⬜🟦🟨🟨🟨🟦🟨🟦🟨🟨🟨🟦<br>🟦🟦🟦🟦🟦🟦🟦🟦🟦⬜🟦🟦🟦🟦🟦🟨🟦🟨🟦🟦🟦<br>🟦⬜⬜⬜⬜⬜⬜⬜⬜⬜🟦🟨🟨🟨🟨🟨🟦🟨🟦⬜🟦<br>🟦⬜🟦🟦🟦🟦🟦🟦🟦🟦🟦🟨🟦🟨🟦🟦🟦🟨🟦⬜🟦<br>🟦⬜🟦⬜⬜⬜⬜⬜🟦🟨🟨🟨🟦🟨🟨🟨🟨🟨🟦⬜🟦<br>🟦⬜🟦⬜🟦🟦🟦⬜🟦🟨🟦🟦🟦🟦🟦🟦🟦🟦🟦⬜🟦<br>🟦⬜⬜⬜⬜⬜🟦⬜⬜😼⬜⬜⬜⬜⬜⬜⬜⬜⬜🟥🟦<br>🟦🟦🟦🟦🟦🟦🟦🟦🟦🟦🟦🟦🟦🟦🟦🟦🟦🟦🟦🟦🟦`;\n",
              "    </script>\n",
              "    "
            ],
            "text/plain": [
              "<IPython.core.display.HTML object>"
            ]
          },
          "metadata": {},
          "output_type": "display_data"
        },
        {
          "data": {
            "text/html": [
              "\n",
              "    <script>\n",
              "    document.getElementById('maze').innerHTML = `🟦🟦🟦🟦🟦🟦🟦🟦🟦🟦🟦🟦🟦🟦🟦🟦🟦🟦🟦🟦🟦<br>🟦🟨🟦🟨🟨🟨🟨🟨🟨🟨🟨🟨🟦🟨🟨🟨🟨🟨🟨🟨🟦<br>🟦🟨🟦🟨🟦🟦🟦🟦🟦🟦🟦🟨🟦🟨🟦🟦🟦🟦🟦🟨🟦<br>🟦🟨🟨🟨🟦⬜⬜⬜⬜⬜🟦🟨🟨🟨🟦🟨🟦🟨🟨🟨🟦<br>🟦🟦🟦🟦🟦🟦🟦🟦🟦⬜🟦🟦🟦🟦🟦🟨🟦🟨🟦🟦🟦<br>🟦⬜⬜⬜⬜⬜⬜⬜⬜⬜🟦🟨🟨🟨🟨🟨🟦🟨🟦⬜🟦<br>🟦⬜🟦🟦🟦🟦🟦🟦🟦🟦🟦🟨🟦🟨🟦🟦🟦🟨🟦⬜🟦<br>🟦⬜🟦⬜⬜⬜⬜⬜🟦🟨🟨🟨🟦🟨🟨🟨🟨🟨🟦⬜🟦<br>🟦⬜🟦⬜🟦🟦🟦⬜🟦🟨🟦🟦🟦🟦🟦🟦🟦🟦🟦⬜🟦<br>🟦⬜⬜⬜⬜⬜🟦⬜⬜🟨😼⬜⬜⬜⬜⬜⬜⬜⬜🟥🟦<br>🟦🟦🟦🟦🟦🟦🟦🟦🟦🟦🟦🟦🟦🟦🟦🟦🟦🟦🟦🟦🟦`;\n",
              "    </script>\n",
              "    "
            ],
            "text/plain": [
              "<IPython.core.display.HTML object>"
            ]
          },
          "metadata": {},
          "output_type": "display_data"
        },
        {
          "data": {
            "text/html": [
              "\n",
              "    <script>\n",
              "    document.getElementById('maze').innerHTML = `🟦🟦🟦🟦🟦🟦🟦🟦🟦🟦🟦🟦🟦🟦🟦🟦🟦🟦🟦🟦🟦<br>🟦🟨🟦🟨🟨🟨🟨🟨🟨🟨🟨🟨🟦🟨🟨🟨🟨🟨🟨🟨🟦<br>🟦🟨🟦🟨🟦🟦🟦🟦🟦🟦🟦🟨🟦🟨🟦🟦🟦🟦🟦🟨🟦<br>🟦🟨🟨🟨🟦⬜⬜⬜⬜⬜🟦🟨🟨🟨🟦🟨🟦🟨🟨🟨🟦<br>🟦🟦🟦🟦🟦🟦🟦🟦🟦⬜🟦🟦🟦🟦🟦🟨🟦🟨🟦🟦🟦<br>🟦⬜⬜⬜⬜⬜⬜⬜⬜⬜🟦🟨🟨🟨🟨🟨🟦🟨🟦⬜🟦<br>🟦⬜🟦🟦🟦🟦🟦🟦🟦🟦🟦🟨🟦🟨🟦🟦🟦🟨🟦⬜🟦<br>🟦⬜🟦⬜⬜⬜⬜⬜🟦🟨🟨🟨🟦🟨🟨🟨🟨🟨🟦⬜🟦<br>🟦⬜🟦⬜🟦🟦🟦⬜🟦🟨🟦🟦🟦🟦🟦🟦🟦🟦🟦⬜🟦<br>🟦⬜⬜⬜⬜⬜🟦⬜⬜🟨🟨😼⬜⬜⬜⬜⬜⬜⬜🟥🟦<br>🟦🟦🟦🟦🟦🟦🟦🟦🟦🟦🟦🟦🟦🟦🟦🟦🟦🟦🟦🟦🟦`;\n",
              "    </script>\n",
              "    "
            ],
            "text/plain": [
              "<IPython.core.display.HTML object>"
            ]
          },
          "metadata": {},
          "output_type": "display_data"
        },
        {
          "data": {
            "text/html": [
              "\n",
              "    <script>\n",
              "    document.getElementById('maze').innerHTML = `🟦🟦🟦🟦🟦🟦🟦🟦🟦🟦🟦🟦🟦🟦🟦🟦🟦🟦🟦🟦🟦<br>🟦🟨🟦🟨🟨🟨🟨🟨🟨🟨🟨🟨🟦🟨🟨🟨🟨🟨🟨🟨🟦<br>🟦🟨🟦🟨🟦🟦🟦🟦🟦🟦🟦🟨🟦🟨🟦🟦🟦🟦🟦🟨🟦<br>🟦🟨🟨🟨🟦⬜⬜⬜⬜⬜🟦🟨🟨🟨🟦🟨🟦🟨🟨🟨🟦<br>🟦🟦🟦🟦🟦🟦🟦🟦🟦⬜🟦🟦🟦🟦🟦🟨🟦🟨🟦🟦🟦<br>🟦⬜⬜⬜⬜⬜⬜⬜⬜⬜🟦🟨🟨🟨🟨🟨🟦🟨🟦⬜🟦<br>🟦⬜🟦🟦🟦🟦🟦🟦🟦🟦🟦🟨🟦🟨🟦🟦🟦🟨🟦⬜🟦<br>🟦⬜🟦⬜⬜⬜⬜⬜🟦🟨🟨🟨🟦🟨🟨🟨🟨🟨🟦⬜🟦<br>🟦⬜🟦⬜🟦🟦🟦⬜🟦🟨🟦🟦🟦🟦🟦🟦🟦🟦🟦⬜🟦<br>🟦⬜⬜⬜⬜⬜🟦⬜⬜🟨🟨🟨😼⬜⬜⬜⬜⬜⬜🟥🟦<br>🟦🟦🟦🟦🟦🟦🟦🟦🟦🟦🟦🟦🟦🟦🟦🟦🟦🟦🟦🟦🟦`;\n",
              "    </script>\n",
              "    "
            ],
            "text/plain": [
              "<IPython.core.display.HTML object>"
            ]
          },
          "metadata": {},
          "output_type": "display_data"
        },
        {
          "data": {
            "text/html": [
              "\n",
              "    <script>\n",
              "    document.getElementById('maze').innerHTML = `🟦🟦🟦🟦🟦🟦🟦🟦🟦🟦🟦🟦🟦🟦🟦🟦🟦🟦🟦🟦🟦<br>🟦🟨🟦🟨🟨🟨🟨🟨🟨🟨🟨🟨🟦🟨🟨🟨🟨🟨🟨🟨🟦<br>🟦🟨🟦🟨🟦🟦🟦🟦🟦🟦🟦🟨🟦🟨🟦🟦🟦🟦🟦🟨🟦<br>🟦🟨🟨🟨🟦⬜⬜⬜⬜⬜🟦🟨🟨🟨🟦🟨🟦🟨🟨🟨🟦<br>🟦🟦🟦🟦🟦🟦🟦🟦🟦⬜🟦🟦🟦🟦🟦🟨🟦🟨🟦🟦🟦<br>🟦⬜⬜⬜⬜⬜⬜⬜⬜⬜🟦🟨🟨🟨🟨🟨🟦🟨🟦⬜🟦<br>🟦⬜🟦🟦🟦🟦🟦🟦🟦🟦🟦🟨🟦🟨🟦🟦🟦🟨🟦⬜🟦<br>🟦⬜🟦⬜⬜⬜⬜⬜🟦🟨🟨🟨🟦🟨🟨🟨🟨🟨🟦⬜🟦<br>🟦⬜🟦⬜🟦🟦🟦⬜🟦🟨🟦🟦🟦🟦🟦🟦🟦🟦🟦⬜🟦<br>🟦⬜⬜⬜⬜⬜🟦⬜⬜🟨🟨🟨🟨😼⬜⬜⬜⬜⬜🟥🟦<br>🟦🟦🟦🟦🟦🟦🟦🟦🟦🟦🟦🟦🟦🟦🟦🟦🟦🟦🟦🟦🟦`;\n",
              "    </script>\n",
              "    "
            ],
            "text/plain": [
              "<IPython.core.display.HTML object>"
            ]
          },
          "metadata": {},
          "output_type": "display_data"
        },
        {
          "data": {
            "text/html": [
              "\n",
              "    <script>\n",
              "    document.getElementById('maze').innerHTML = `🟦🟦🟦🟦🟦🟦🟦🟦🟦🟦🟦🟦🟦🟦🟦🟦🟦🟦🟦🟦🟦<br>🟦🟨🟦🟨🟨🟨🟨🟨🟨🟨🟨🟨🟦🟨🟨🟨🟨🟨🟨🟨🟦<br>🟦🟨🟦🟨🟦🟦🟦🟦🟦🟦🟦🟨🟦🟨🟦🟦🟦🟦🟦🟨🟦<br>🟦🟨🟨🟨🟦⬜⬜⬜⬜⬜🟦🟨🟨🟨🟦🟨🟦🟨🟨🟨🟦<br>🟦🟦🟦🟦🟦🟦🟦🟦🟦⬜🟦🟦🟦🟦🟦🟨🟦🟨🟦🟦🟦<br>🟦⬜⬜⬜⬜⬜⬜⬜⬜⬜🟦🟨🟨🟨🟨🟨🟦🟨🟦⬜🟦<br>🟦⬜🟦🟦🟦🟦🟦🟦🟦🟦🟦🟨🟦🟨🟦🟦🟦🟨🟦⬜🟦<br>🟦⬜🟦⬜⬜⬜⬜⬜🟦🟨🟨🟨🟦🟨🟨🟨🟨🟨🟦⬜🟦<br>🟦⬜🟦⬜🟦🟦🟦⬜🟦🟨🟦🟦🟦🟦🟦🟦🟦🟦🟦⬜🟦<br>🟦⬜⬜⬜⬜⬜🟦⬜⬜🟨🟨🟨🟨🟨😼⬜⬜⬜⬜🟥🟦<br>🟦🟦🟦🟦🟦🟦🟦🟦🟦🟦🟦🟦🟦🟦🟦🟦🟦🟦🟦🟦🟦`;\n",
              "    </script>\n",
              "    "
            ],
            "text/plain": [
              "<IPython.core.display.HTML object>"
            ]
          },
          "metadata": {},
          "output_type": "display_data"
        },
        {
          "data": {
            "text/html": [
              "\n",
              "    <script>\n",
              "    document.getElementById('maze').innerHTML = `🟦🟦🟦🟦🟦🟦🟦🟦🟦🟦🟦🟦🟦🟦🟦🟦🟦🟦🟦🟦🟦<br>🟦🟨🟦🟨🟨🟨🟨🟨🟨🟨🟨🟨🟦🟨🟨🟨🟨🟨🟨🟨🟦<br>🟦🟨🟦🟨🟦🟦🟦🟦🟦🟦🟦🟨🟦🟨🟦🟦🟦🟦🟦🟨🟦<br>🟦🟨🟨🟨🟦⬜⬜⬜⬜⬜🟦🟨🟨🟨🟦🟨🟦🟨🟨🟨🟦<br>🟦🟦🟦🟦🟦🟦🟦🟦🟦⬜🟦🟦🟦🟦🟦🟨🟦🟨🟦🟦🟦<br>🟦⬜⬜⬜⬜⬜⬜⬜⬜⬜🟦🟨🟨🟨🟨🟨🟦🟨🟦⬜🟦<br>🟦⬜🟦🟦🟦🟦🟦🟦🟦🟦🟦🟨🟦🟨🟦🟦🟦🟨🟦⬜🟦<br>🟦⬜🟦⬜⬜⬜⬜⬜🟦🟨🟨🟨🟦🟨🟨🟨🟨🟨🟦⬜🟦<br>🟦⬜🟦⬜🟦🟦🟦⬜🟦🟨🟦🟦🟦🟦🟦🟦🟦🟦🟦⬜🟦<br>🟦⬜⬜⬜⬜⬜🟦⬜⬜🟨🟨🟨🟨🟨🟨😼⬜⬜⬜🟥🟦<br>🟦🟦🟦🟦🟦🟦🟦🟦🟦🟦🟦🟦🟦🟦🟦🟦🟦🟦🟦🟦🟦`;\n",
              "    </script>\n",
              "    "
            ],
            "text/plain": [
              "<IPython.core.display.HTML object>"
            ]
          },
          "metadata": {},
          "output_type": "display_data"
        },
        {
          "data": {
            "text/html": [
              "\n",
              "    <script>\n",
              "    document.getElementById('maze').innerHTML = `🟦🟦🟦🟦🟦🟦🟦🟦🟦🟦🟦🟦🟦🟦🟦🟦🟦🟦🟦🟦🟦<br>🟦🟨🟦🟨🟨🟨🟨🟨🟨🟨🟨🟨🟦🟨🟨🟨🟨🟨🟨🟨🟦<br>🟦🟨🟦🟨🟦🟦🟦🟦🟦🟦🟦🟨🟦🟨🟦🟦🟦🟦🟦🟨🟦<br>🟦🟨🟨🟨🟦⬜⬜⬜⬜⬜🟦🟨🟨🟨🟦🟨🟦🟨🟨🟨🟦<br>🟦🟦🟦🟦🟦🟦🟦🟦🟦⬜🟦🟦🟦🟦🟦🟨🟦🟨🟦🟦🟦<br>🟦⬜⬜⬜⬜⬜⬜⬜⬜⬜🟦🟨🟨🟨🟨🟨🟦🟨🟦⬜🟦<br>🟦⬜🟦🟦🟦🟦🟦🟦🟦🟦🟦🟨🟦🟨🟦🟦🟦🟨🟦⬜🟦<br>🟦⬜🟦⬜⬜⬜⬜⬜🟦🟨🟨🟨🟦🟨🟨🟨🟨🟨🟦⬜🟦<br>🟦⬜🟦⬜🟦🟦🟦⬜🟦🟨🟦🟦🟦🟦🟦🟦🟦🟦🟦⬜🟦<br>🟦⬜⬜⬜⬜⬜🟦⬜⬜🟨🟨🟨🟨🟨🟨🟨😼⬜⬜🟥🟦<br>🟦🟦🟦🟦🟦🟦🟦🟦🟦🟦🟦🟦🟦🟦🟦🟦🟦🟦🟦🟦🟦`;\n",
              "    </script>\n",
              "    "
            ],
            "text/plain": [
              "<IPython.core.display.HTML object>"
            ]
          },
          "metadata": {},
          "output_type": "display_data"
        },
        {
          "data": {
            "text/html": [
              "\n",
              "    <script>\n",
              "    document.getElementById('maze').innerHTML = `🟦🟦🟦🟦🟦🟦🟦🟦🟦🟦🟦🟦🟦🟦🟦🟦🟦🟦🟦🟦🟦<br>🟦🟨🟦🟨🟨🟨🟨🟨🟨🟨🟨🟨🟦🟨🟨🟨🟨🟨🟨🟨🟦<br>🟦🟨🟦🟨🟦🟦🟦🟦🟦🟦🟦🟨🟦🟨🟦🟦🟦🟦🟦🟨🟦<br>🟦🟨🟨🟨🟦⬜⬜⬜⬜⬜🟦🟨🟨🟨🟦🟨🟦🟨🟨🟨🟦<br>🟦🟦🟦🟦🟦🟦🟦🟦🟦⬜🟦🟦🟦🟦🟦🟨🟦🟨🟦🟦🟦<br>🟦⬜⬜⬜⬜⬜⬜⬜⬜⬜🟦🟨🟨🟨🟨🟨🟦🟨🟦⬜🟦<br>🟦⬜🟦🟦🟦🟦🟦🟦🟦🟦🟦🟨🟦🟨🟦🟦🟦🟨🟦⬜🟦<br>🟦⬜🟦⬜⬜⬜⬜⬜🟦🟨🟨🟨🟦🟨🟨🟨🟨🟨🟦⬜🟦<br>🟦⬜🟦⬜🟦🟦🟦⬜🟦🟨🟦🟦🟦🟦🟦🟦🟦🟦🟦⬜🟦<br>🟦⬜⬜⬜⬜⬜🟦⬜⬜🟨🟨🟨🟨🟨🟨🟨🟨😼⬜🟥🟦<br>🟦🟦🟦🟦🟦🟦🟦🟦🟦🟦🟦🟦🟦🟦🟦🟦🟦🟦🟦🟦🟦`;\n",
              "    </script>\n",
              "    "
            ],
            "text/plain": [
              "<IPython.core.display.HTML object>"
            ]
          },
          "metadata": {},
          "output_type": "display_data"
        },
        {
          "data": {
            "text/html": [
              "\n",
              "    <script>\n",
              "    document.getElementById('maze').innerHTML = `🟦🟦🟦🟦🟦🟦🟦🟦🟦🟦🟦🟦🟦🟦🟦🟦🟦🟦🟦🟦🟦<br>🟦🟨🟦🟨🟨🟨🟨🟨🟨🟨🟨🟨🟦🟨🟨🟨🟨🟨🟨🟨🟦<br>🟦🟨🟦🟨🟦🟦🟦🟦🟦🟦🟦🟨🟦🟨🟦🟦🟦🟦🟦🟨🟦<br>🟦🟨🟨🟨🟦⬜⬜⬜⬜⬜🟦🟨🟨🟨🟦🟨🟦🟨🟨🟨🟦<br>🟦🟦🟦🟦🟦🟦🟦🟦🟦⬜🟦🟦🟦🟦🟦🟨🟦🟨🟦🟦🟦<br>🟦⬜⬜⬜⬜⬜⬜⬜⬜⬜🟦🟨🟨🟨🟨🟨🟦🟨🟦⬜🟦<br>🟦⬜🟦🟦🟦🟦🟦🟦🟦🟦🟦🟨🟦🟨🟦🟦🟦🟨🟦⬜🟦<br>🟦⬜🟦⬜⬜⬜⬜⬜🟦🟨🟨🟨🟦🟨🟨🟨🟨🟨🟦⬜🟦<br>🟦⬜🟦⬜🟦🟦🟦⬜🟦🟨🟦🟦🟦🟦🟦🟦🟦🟦🟦⬜🟦<br>🟦⬜⬜⬜⬜⬜🟦⬜⬜🟨🟨🟨🟨🟨🟨🟨🟨🟨😼🟥🟦<br>🟦🟦🟦🟦🟦🟦🟦🟦🟦🟦🟦🟦🟦🟦🟦🟦🟦🟦🟦🟦🟦`;\n",
              "    </script>\n",
              "    "
            ],
            "text/plain": [
              "<IPython.core.display.HTML object>"
            ]
          },
          "metadata": {},
          "output_type": "display_data"
        },
        {
          "data": {
            "text/html": [
              "\n",
              "    <script>\n",
              "    document.getElementById('maze').innerHTML = `🟦🟦🟦🟦🟦🟦🟦🟦🟦🟦🟦🟦🟦🟦🟦🟦🟦🟦🟦🟦🟦<br>🟦🟨🟦🟨🟨🟨🟨🟨🟨🟨🟨🟨🟦🟨🟨🟨🟨🟨🟨🟨🟦<br>🟦🟨🟦🟨🟦🟦🟦🟦🟦🟦🟦🟨🟦🟨🟦🟦🟦🟦🟦🟨🟦<br>🟦🟨🟨🟨🟦⬜⬜⬜⬜⬜🟦🟨🟨🟨🟦🟨🟦🟨🟨🟨🟦<br>🟦🟦🟦🟦🟦🟦🟦🟦🟦⬜🟦🟦🟦🟦🟦🟨🟦🟨🟦🟦🟦<br>🟦⬜⬜⬜⬜⬜⬜⬜⬜⬜🟦🟨🟨🟨🟨🟨🟦🟨🟦⬜🟦<br>🟦⬜🟦🟦🟦🟦🟦🟦🟦🟦🟦🟨🟦🟨🟦🟦🟦🟨🟦⬜🟦<br>🟦⬜🟦⬜⬜⬜⬜⬜🟦🟨🟨🟨🟦🟨🟨🟨🟨🟨🟦⬜🟦<br>🟦⬜🟦⬜🟦🟦🟦⬜🟦🟨🟦🟦🟦🟦🟦🟦🟦🟦🟦⬜🟦<br>🟦⬜⬜⬜⬜⬜🟦⬜⬜🟨🟨🟨🟨🟨🟨🟨🟨🟨🟨😼🟦<br>🟦🟦🟦🟦🟦🟦🟦🟦🟦🟦🟦🟦🟦🟦🟦🟦🟦🟦🟦🟦🟦`;\n",
              "    </script>\n",
              "    "
            ],
            "text/plain": [
              "<IPython.core.display.HTML object>"
            ]
          },
          "metadata": {},
          "output_type": "display_data"
        },
        {
          "data": {
            "text/html": [
              "\n",
              "    <script>\n",
              "    document.getElementById('maze').innerHTML = `🟦🟦🟦🟦🟦🟦🟦🟦🟦🟦🟦🟦🟦🟦🟦🟦🟦🟦🟦🟦🟦<br>🟦🔳🟦⬜⬜⬜⬜⬜⬜⬜⬜⬜🟦⬜⬜⬜⬜⬜⬜⬜🟦<br>🟦⬜🟦⬜🟦🟦🟦🟦🟦🟦🟦⬜🟦⬜🟦🟦🟦🟦🟦⬜🟦<br>🟦⬜⬜⬜🟦⬜⬜⬜⬜⬜🟦⬜⬜⬜🟦⬜🟦⬜⬜⬜🟦<br>🟦🟦🟦🟦🟦🟦🟦🟦🟦⬜🟦🟦🟦🟦🟦⬜🟦⬜🟦🟦🟦<br>🟦⬜⬜⬜⬜⬜⬜⬜⬜⬜🟦⬜⬜⬜⬜⬜🟦⬜🟦⬜🟦<br>🟦⬜🟦🟦🟦🟦🟦🟦🟦🟦🟦⬜🟦⬜🟦🟦🟦⬜🟦⬜🟦<br>🟦⬜🟦⬜⬜⬜⬜⬜🟦⬜⬜⬜🟦⬜⬜⬜⬜⬜🟦⬜🟦<br>🟦⬜🟦⬜🟦🟦🟦⬜🟦⬜🟦🟦🟦🟦🟦🟦🟦🟦🟦⬜🟦<br>🟦⬜⬜⬜⬜⬜🟦⬜⬜⬜⬜⬜⬜⬜⬜⬜⬜⬜⬜🟥🟦<br>🟦🟦🟦🟦🟦🟦🟦🟦🟦🟦🟦🟦🟦🟦🟦🟦🟦🟦🟦🟦🟦`;\n",
              "    </script>\n",
              "    "
            ],
            "text/plain": [
              "<IPython.core.display.HTML object>"
            ]
          },
          "metadata": {},
          "output_type": "display_data"
        },
        {
          "data": {
            "text/html": [
              "\n",
              "    <script>\n",
              "    document.getElementById('maze').innerHTML = `🟦🟦🟦🟦🟦🟦🟦🟦🟦🟦🟦🟦🟦🟦🟦🟦🟦🟦🟦🟦🟦<br>🟦🔳🟦⬜⬜⬜⬜⬜⬜⬜⬜⬜🟦⬜⬜⬜⬜⬜⬜⬜🟦<br>🟦🔳🟦⬜🟦🟦🟦🟦🟦🟦🟦⬜🟦⬜🟦🟦🟦🟦🟦⬜🟦<br>🟦⬜⬜⬜🟦⬜⬜⬜⬜⬜🟦⬜⬜⬜🟦⬜🟦⬜⬜⬜🟦<br>🟦🟦🟦🟦🟦🟦🟦🟦🟦⬜🟦🟦🟦🟦🟦⬜🟦⬜🟦🟦🟦<br>🟦⬜⬜⬜⬜⬜⬜⬜⬜⬜🟦⬜⬜⬜⬜⬜🟦⬜🟦⬜🟦<br>🟦⬜🟦🟦🟦🟦🟦🟦🟦🟦🟦⬜🟦⬜🟦🟦🟦⬜🟦⬜🟦<br>🟦⬜🟦⬜⬜⬜⬜⬜🟦⬜⬜⬜🟦⬜⬜⬜⬜⬜🟦⬜🟦<br>🟦⬜🟦⬜🟦🟦🟦⬜🟦⬜🟦🟦🟦🟦🟦🟦🟦🟦🟦⬜🟦<br>🟦⬜⬜⬜⬜⬜🟦⬜⬜⬜⬜⬜⬜⬜⬜⬜⬜⬜⬜🟥🟦<br>🟦🟦🟦🟦🟦🟦🟦🟦🟦🟦🟦🟦🟦🟦🟦🟦🟦🟦🟦🟦🟦`;\n",
              "    </script>\n",
              "    "
            ],
            "text/plain": [
              "<IPython.core.display.HTML object>"
            ]
          },
          "metadata": {},
          "output_type": "display_data"
        },
        {
          "data": {
            "text/html": [
              "\n",
              "    <script>\n",
              "    document.getElementById('maze').innerHTML = `🟦🟦🟦🟦🟦🟦🟦🟦🟦🟦🟦🟦🟦🟦🟦🟦🟦🟦🟦🟦🟦<br>🟦🔳🟦⬜⬜⬜⬜⬜⬜⬜⬜⬜🟦⬜⬜⬜⬜⬜⬜⬜🟦<br>🟦🔳🟦⬜🟦🟦🟦🟦🟦🟦🟦⬜🟦⬜🟦🟦🟦🟦🟦⬜🟦<br>🟦🔳⬜⬜🟦⬜⬜⬜⬜⬜🟦⬜⬜⬜🟦⬜🟦⬜⬜⬜🟦<br>🟦🟦🟦🟦🟦🟦🟦🟦🟦⬜🟦🟦🟦🟦🟦⬜🟦⬜🟦🟦🟦<br>🟦⬜⬜⬜⬜⬜⬜⬜⬜⬜🟦⬜⬜⬜⬜⬜🟦⬜🟦⬜🟦<br>🟦⬜🟦🟦🟦🟦🟦🟦🟦🟦🟦⬜🟦⬜🟦🟦🟦⬜🟦⬜🟦<br>🟦⬜🟦⬜⬜⬜⬜⬜🟦⬜⬜⬜🟦⬜⬜⬜⬜⬜🟦⬜🟦<br>🟦⬜🟦⬜🟦🟦🟦⬜🟦⬜🟦🟦🟦🟦🟦🟦🟦🟦🟦⬜🟦<br>🟦⬜⬜⬜⬜⬜🟦⬜⬜⬜⬜⬜⬜⬜⬜⬜⬜⬜⬜🟥🟦<br>🟦🟦🟦🟦🟦🟦🟦🟦🟦🟦🟦🟦🟦🟦🟦🟦🟦🟦🟦🟦🟦`;\n",
              "    </script>\n",
              "    "
            ],
            "text/plain": [
              "<IPython.core.display.HTML object>"
            ]
          },
          "metadata": {},
          "output_type": "display_data"
        },
        {
          "data": {
            "text/html": [
              "\n",
              "    <script>\n",
              "    document.getElementById('maze').innerHTML = `🟦🟦🟦🟦🟦🟦🟦🟦🟦🟦🟦🟦🟦🟦🟦🟦🟦🟦🟦🟦🟦<br>🟦🔳🟦⬜⬜⬜⬜⬜⬜⬜⬜⬜🟦⬜⬜⬜⬜⬜⬜⬜🟦<br>🟦🔳🟦⬜🟦🟦🟦🟦🟦🟦🟦⬜🟦⬜🟦🟦🟦🟦🟦⬜🟦<br>🟦🔳🔳⬜🟦⬜⬜⬜⬜⬜🟦⬜⬜⬜🟦⬜🟦⬜⬜⬜🟦<br>🟦🟦🟦🟦🟦🟦🟦🟦🟦⬜🟦🟦🟦🟦🟦⬜🟦⬜🟦🟦🟦<br>🟦⬜⬜⬜⬜⬜⬜⬜⬜⬜🟦⬜⬜⬜⬜⬜🟦⬜🟦⬜🟦<br>🟦⬜🟦🟦🟦🟦🟦🟦🟦🟦🟦⬜🟦⬜🟦🟦🟦⬜🟦⬜🟦<br>🟦⬜🟦⬜⬜⬜⬜⬜🟦⬜⬜⬜🟦⬜⬜⬜⬜⬜🟦⬜🟦<br>🟦⬜🟦⬜🟦🟦🟦⬜🟦⬜🟦🟦🟦🟦🟦🟦🟦🟦🟦⬜🟦<br>🟦⬜⬜⬜⬜⬜🟦⬜⬜⬜⬜⬜⬜⬜⬜⬜⬜⬜⬜🟥🟦<br>🟦🟦🟦🟦🟦🟦🟦🟦🟦🟦🟦🟦🟦🟦🟦🟦🟦🟦🟦🟦🟦`;\n",
              "    </script>\n",
              "    "
            ],
            "text/plain": [
              "<IPython.core.display.HTML object>"
            ]
          },
          "metadata": {},
          "output_type": "display_data"
        },
        {
          "data": {
            "text/html": [
              "\n",
              "    <script>\n",
              "    document.getElementById('maze').innerHTML = `🟦🟦🟦🟦🟦🟦🟦🟦🟦🟦🟦🟦🟦🟦🟦🟦🟦🟦🟦🟦🟦<br>🟦🔳🟦⬜⬜⬜⬜⬜⬜⬜⬜⬜🟦⬜⬜⬜⬜⬜⬜⬜🟦<br>🟦🔳🟦⬜🟦🟦🟦🟦🟦🟦🟦⬜🟦⬜🟦🟦🟦🟦🟦⬜🟦<br>🟦🔳🔳🔳🟦⬜⬜⬜⬜⬜🟦⬜⬜⬜🟦⬜🟦⬜⬜⬜🟦<br>🟦🟦🟦🟦🟦🟦🟦🟦🟦⬜🟦🟦🟦🟦🟦⬜🟦⬜🟦🟦🟦<br>🟦⬜⬜⬜⬜⬜⬜⬜⬜⬜🟦⬜⬜⬜⬜⬜🟦⬜🟦⬜🟦<br>🟦⬜🟦🟦🟦🟦🟦🟦🟦🟦🟦⬜🟦⬜🟦🟦🟦⬜🟦⬜🟦<br>🟦⬜🟦⬜⬜⬜⬜⬜🟦⬜⬜⬜🟦⬜⬜⬜⬜⬜🟦⬜🟦<br>🟦⬜🟦⬜🟦🟦🟦⬜🟦⬜🟦🟦🟦🟦🟦🟦🟦🟦🟦⬜🟦<br>🟦⬜⬜⬜⬜⬜🟦⬜⬜⬜⬜⬜⬜⬜⬜⬜⬜⬜⬜🟥🟦<br>🟦🟦🟦🟦🟦🟦🟦🟦🟦🟦🟦🟦🟦🟦🟦🟦🟦🟦🟦🟦🟦`;\n",
              "    </script>\n",
              "    "
            ],
            "text/plain": [
              "<IPython.core.display.HTML object>"
            ]
          },
          "metadata": {},
          "output_type": "display_data"
        },
        {
          "data": {
            "text/html": [
              "\n",
              "    <script>\n",
              "    document.getElementById('maze').innerHTML = `🟦🟦🟦🟦🟦🟦🟦🟦🟦🟦🟦🟦🟦🟦🟦🟦🟦🟦🟦🟦🟦<br>🟦🔳🟦⬜⬜⬜⬜⬜⬜⬜⬜⬜🟦⬜⬜⬜⬜⬜⬜⬜🟦<br>🟦🔳🟦🔳🟦🟦🟦🟦🟦🟦🟦⬜🟦⬜🟦🟦🟦🟦🟦⬜🟦<br>🟦🔳🔳🔳🟦⬜⬜⬜⬜⬜🟦⬜⬜⬜🟦⬜🟦⬜⬜⬜🟦<br>🟦🟦🟦🟦🟦🟦🟦🟦🟦⬜🟦🟦🟦🟦🟦⬜🟦⬜🟦🟦🟦<br>🟦⬜⬜⬜⬜⬜⬜⬜⬜⬜🟦⬜⬜⬜⬜⬜🟦⬜🟦⬜🟦<br>🟦⬜🟦🟦🟦🟦🟦🟦🟦🟦🟦⬜🟦⬜🟦🟦🟦⬜🟦⬜🟦<br>🟦⬜🟦⬜⬜⬜⬜⬜🟦⬜⬜⬜🟦⬜⬜⬜⬜⬜🟦⬜🟦<br>🟦⬜🟦⬜🟦🟦🟦⬜🟦⬜🟦🟦🟦🟦🟦🟦🟦🟦🟦⬜🟦<br>🟦⬜⬜⬜⬜⬜🟦⬜⬜⬜⬜⬜⬜⬜⬜⬜⬜⬜⬜🟥🟦<br>🟦🟦🟦🟦🟦🟦🟦🟦🟦🟦🟦🟦🟦🟦🟦🟦🟦🟦🟦🟦🟦`;\n",
              "    </script>\n",
              "    "
            ],
            "text/plain": [
              "<IPython.core.display.HTML object>"
            ]
          },
          "metadata": {},
          "output_type": "display_data"
        },
        {
          "data": {
            "text/html": [
              "\n",
              "    <script>\n",
              "    document.getElementById('maze').innerHTML = `🟦🟦🟦🟦🟦🟦🟦🟦🟦🟦🟦🟦🟦🟦🟦🟦🟦🟦🟦🟦🟦<br>🟦🔳🟦🔳⬜⬜⬜⬜⬜⬜⬜⬜🟦⬜⬜⬜⬜⬜⬜⬜🟦<br>🟦🔳🟦🔳🟦🟦🟦🟦🟦🟦🟦⬜🟦⬜🟦🟦🟦🟦🟦⬜🟦<br>🟦🔳🔳🔳🟦⬜⬜⬜⬜⬜🟦⬜⬜⬜🟦⬜🟦⬜⬜⬜🟦<br>🟦🟦🟦🟦🟦🟦🟦🟦🟦⬜🟦🟦🟦🟦🟦⬜🟦⬜🟦🟦🟦<br>🟦⬜⬜⬜⬜⬜⬜⬜⬜⬜🟦⬜⬜⬜⬜⬜🟦⬜🟦⬜🟦<br>🟦⬜🟦🟦🟦🟦🟦🟦🟦🟦🟦⬜🟦⬜🟦🟦🟦⬜🟦⬜🟦<br>🟦⬜🟦⬜⬜⬜⬜⬜🟦⬜⬜⬜🟦⬜⬜⬜⬜⬜🟦⬜🟦<br>🟦⬜🟦⬜🟦🟦🟦⬜🟦⬜🟦🟦🟦🟦🟦🟦🟦🟦🟦⬜🟦<br>🟦⬜⬜⬜⬜⬜🟦⬜⬜⬜⬜⬜⬜⬜⬜⬜⬜⬜⬜🟥🟦<br>🟦🟦🟦🟦🟦🟦🟦🟦🟦🟦🟦🟦🟦🟦🟦🟦🟦🟦🟦🟦🟦`;\n",
              "    </script>\n",
              "    "
            ],
            "text/plain": [
              "<IPython.core.display.HTML object>"
            ]
          },
          "metadata": {},
          "output_type": "display_data"
        },
        {
          "data": {
            "text/html": [
              "\n",
              "    <script>\n",
              "    document.getElementById('maze').innerHTML = `🟦🟦🟦🟦🟦🟦🟦🟦🟦🟦🟦🟦🟦🟦🟦🟦🟦🟦🟦🟦🟦<br>🟦🔳🟦🔳🔳⬜⬜⬜⬜⬜⬜⬜🟦⬜⬜⬜⬜⬜⬜⬜🟦<br>🟦🔳🟦🔳🟦🟦🟦🟦🟦🟦🟦⬜🟦⬜🟦🟦🟦🟦🟦⬜🟦<br>🟦🔳🔳🔳🟦⬜⬜⬜⬜⬜🟦⬜⬜⬜🟦⬜🟦⬜⬜⬜🟦<br>🟦🟦🟦🟦🟦🟦🟦🟦🟦⬜🟦🟦🟦🟦🟦⬜🟦⬜🟦🟦🟦<br>🟦⬜⬜⬜⬜⬜⬜⬜⬜⬜🟦⬜⬜⬜⬜⬜🟦⬜🟦⬜🟦<br>🟦⬜🟦🟦🟦🟦🟦🟦🟦🟦🟦⬜🟦⬜🟦🟦🟦⬜🟦⬜🟦<br>🟦⬜🟦⬜⬜⬜⬜⬜🟦⬜⬜⬜🟦⬜⬜⬜⬜⬜🟦⬜🟦<br>🟦⬜🟦⬜🟦🟦🟦⬜🟦⬜🟦🟦🟦🟦🟦🟦🟦🟦🟦⬜🟦<br>🟦⬜⬜⬜⬜⬜🟦⬜⬜⬜⬜⬜⬜⬜⬜⬜⬜⬜⬜🟥🟦<br>🟦🟦🟦🟦🟦🟦🟦🟦🟦🟦🟦🟦🟦🟦🟦🟦🟦🟦🟦🟦🟦`;\n",
              "    </script>\n",
              "    "
            ],
            "text/plain": [
              "<IPython.core.display.HTML object>"
            ]
          },
          "metadata": {},
          "output_type": "display_data"
        },
        {
          "data": {
            "text/html": [
              "\n",
              "    <script>\n",
              "    document.getElementById('maze').innerHTML = `🟦🟦🟦🟦🟦🟦🟦🟦🟦🟦🟦🟦🟦🟦🟦🟦🟦🟦🟦🟦🟦<br>🟦🔳🟦🔳🔳🔳⬜⬜⬜⬜⬜⬜🟦⬜⬜⬜⬜⬜⬜⬜🟦<br>🟦🔳🟦🔳🟦🟦🟦🟦🟦🟦🟦⬜🟦⬜🟦🟦🟦🟦🟦⬜🟦<br>🟦🔳🔳🔳🟦⬜⬜⬜⬜⬜🟦⬜⬜⬜🟦⬜🟦⬜⬜⬜🟦<br>🟦🟦🟦🟦🟦🟦🟦🟦🟦⬜🟦🟦🟦🟦🟦⬜🟦⬜🟦🟦🟦<br>🟦⬜⬜⬜⬜⬜⬜⬜⬜⬜🟦⬜⬜⬜⬜⬜🟦⬜🟦⬜🟦<br>🟦⬜🟦🟦🟦🟦🟦🟦🟦🟦🟦⬜🟦⬜🟦🟦🟦⬜🟦⬜🟦<br>🟦⬜🟦⬜⬜⬜⬜⬜🟦⬜⬜⬜🟦⬜⬜⬜⬜⬜🟦⬜🟦<br>🟦⬜🟦⬜🟦🟦🟦⬜🟦⬜🟦🟦🟦🟦🟦🟦🟦🟦🟦⬜🟦<br>🟦⬜⬜⬜⬜⬜🟦⬜⬜⬜⬜⬜⬜⬜⬜⬜⬜⬜⬜🟥🟦<br>🟦🟦🟦🟦🟦🟦🟦🟦🟦🟦🟦🟦🟦🟦🟦🟦🟦🟦🟦🟦🟦`;\n",
              "    </script>\n",
              "    "
            ],
            "text/plain": [
              "<IPython.core.display.HTML object>"
            ]
          },
          "metadata": {},
          "output_type": "display_data"
        },
        {
          "data": {
            "text/html": [
              "\n",
              "    <script>\n",
              "    document.getElementById('maze').innerHTML = `🟦🟦🟦🟦🟦🟦🟦🟦🟦🟦🟦🟦🟦🟦🟦🟦🟦🟦🟦🟦🟦<br>🟦🔳🟦🔳🔳🔳🔳⬜⬜⬜⬜⬜🟦⬜⬜⬜⬜⬜⬜⬜🟦<br>🟦🔳🟦🔳🟦🟦🟦🟦🟦🟦🟦⬜🟦⬜🟦🟦🟦🟦🟦⬜🟦<br>🟦🔳🔳🔳🟦⬜⬜⬜⬜⬜🟦⬜⬜⬜🟦⬜🟦⬜⬜⬜🟦<br>🟦🟦🟦🟦🟦🟦🟦🟦🟦⬜🟦🟦🟦🟦🟦⬜🟦⬜🟦🟦🟦<br>🟦⬜⬜⬜⬜⬜⬜⬜⬜⬜🟦⬜⬜⬜⬜⬜🟦⬜🟦⬜🟦<br>🟦⬜🟦🟦🟦🟦🟦🟦🟦🟦🟦⬜🟦⬜🟦🟦🟦⬜🟦⬜🟦<br>🟦⬜🟦⬜⬜⬜⬜⬜🟦⬜⬜⬜🟦⬜⬜⬜⬜⬜🟦⬜🟦<br>🟦⬜🟦⬜🟦🟦🟦⬜🟦⬜🟦🟦🟦🟦🟦🟦🟦🟦🟦⬜🟦<br>🟦⬜⬜⬜⬜⬜🟦⬜⬜⬜⬜⬜⬜⬜⬜⬜⬜⬜⬜🟥🟦<br>🟦🟦🟦🟦🟦🟦🟦🟦🟦🟦🟦🟦🟦🟦🟦🟦🟦🟦🟦🟦🟦`;\n",
              "    </script>\n",
              "    "
            ],
            "text/plain": [
              "<IPython.core.display.HTML object>"
            ]
          },
          "metadata": {},
          "output_type": "display_data"
        },
        {
          "data": {
            "text/html": [
              "\n",
              "    <script>\n",
              "    document.getElementById('maze').innerHTML = `🟦🟦🟦🟦🟦🟦🟦🟦🟦🟦🟦🟦🟦🟦🟦🟦🟦🟦🟦🟦🟦<br>🟦🔳🟦🔳🔳🔳🔳🔳⬜⬜⬜⬜🟦⬜⬜⬜⬜⬜⬜⬜🟦<br>🟦🔳🟦🔳🟦🟦🟦🟦🟦🟦🟦⬜🟦⬜🟦🟦🟦🟦🟦⬜🟦<br>🟦🔳🔳🔳🟦⬜⬜⬜⬜⬜🟦⬜⬜⬜🟦⬜🟦⬜⬜⬜🟦<br>🟦🟦🟦🟦🟦🟦🟦🟦🟦⬜🟦🟦🟦🟦🟦⬜🟦⬜🟦🟦🟦<br>🟦⬜⬜⬜⬜⬜⬜⬜⬜⬜🟦⬜⬜⬜⬜⬜🟦⬜🟦⬜🟦<br>🟦⬜🟦🟦🟦🟦🟦🟦🟦🟦🟦⬜🟦⬜🟦🟦🟦⬜🟦⬜🟦<br>🟦⬜🟦⬜⬜⬜⬜⬜🟦⬜⬜⬜🟦⬜⬜⬜⬜⬜🟦⬜🟦<br>🟦⬜🟦⬜🟦🟦🟦⬜🟦⬜🟦🟦🟦🟦🟦🟦🟦🟦🟦⬜🟦<br>🟦⬜⬜⬜⬜⬜🟦⬜⬜⬜⬜⬜⬜⬜⬜⬜⬜⬜⬜🟥🟦<br>🟦🟦🟦🟦🟦🟦🟦🟦🟦🟦🟦🟦🟦🟦🟦🟦🟦🟦🟦🟦🟦`;\n",
              "    </script>\n",
              "    "
            ],
            "text/plain": [
              "<IPython.core.display.HTML object>"
            ]
          },
          "metadata": {},
          "output_type": "display_data"
        },
        {
          "data": {
            "text/html": [
              "\n",
              "    <script>\n",
              "    document.getElementById('maze').innerHTML = `🟦🟦🟦🟦🟦🟦🟦🟦🟦🟦🟦🟦🟦🟦🟦🟦🟦🟦🟦🟦🟦<br>🟦🔳🟦🔳🔳🔳🔳🔳🔳⬜⬜⬜🟦⬜⬜⬜⬜⬜⬜⬜🟦<br>🟦🔳🟦🔳🟦🟦🟦🟦🟦🟦🟦⬜🟦⬜🟦🟦🟦🟦🟦⬜🟦<br>🟦🔳🔳🔳🟦⬜⬜⬜⬜⬜🟦⬜⬜⬜🟦⬜🟦⬜⬜⬜🟦<br>🟦🟦🟦🟦🟦🟦🟦🟦🟦⬜🟦🟦🟦🟦🟦⬜🟦⬜🟦🟦🟦<br>🟦⬜⬜⬜⬜⬜⬜⬜⬜⬜🟦⬜⬜⬜⬜⬜🟦⬜🟦⬜🟦<br>🟦⬜🟦🟦🟦🟦🟦🟦🟦🟦🟦⬜🟦⬜🟦🟦🟦⬜🟦⬜🟦<br>🟦⬜🟦⬜⬜⬜⬜⬜🟦⬜⬜⬜🟦⬜⬜⬜⬜⬜🟦⬜🟦<br>🟦⬜🟦⬜🟦🟦🟦⬜🟦⬜🟦🟦🟦🟦🟦🟦🟦🟦🟦⬜🟦<br>🟦⬜⬜⬜⬜⬜🟦⬜⬜⬜⬜⬜⬜⬜⬜⬜⬜⬜⬜🟥🟦<br>🟦🟦🟦🟦🟦🟦🟦🟦🟦🟦🟦🟦🟦🟦🟦🟦🟦🟦🟦🟦🟦`;\n",
              "    </script>\n",
              "    "
            ],
            "text/plain": [
              "<IPython.core.display.HTML object>"
            ]
          },
          "metadata": {},
          "output_type": "display_data"
        },
        {
          "data": {
            "text/html": [
              "\n",
              "    <script>\n",
              "    document.getElementById('maze').innerHTML = `🟦🟦🟦🟦🟦🟦🟦🟦🟦🟦🟦🟦🟦🟦🟦🟦🟦🟦🟦🟦🟦<br>🟦🔳🟦🔳🔳🔳🔳🔳🔳🔳⬜⬜🟦⬜⬜⬜⬜⬜⬜⬜🟦<br>🟦🔳🟦🔳🟦🟦🟦🟦🟦🟦🟦⬜🟦⬜🟦🟦🟦🟦🟦⬜🟦<br>🟦🔳🔳🔳🟦⬜⬜⬜⬜⬜🟦⬜⬜⬜🟦⬜🟦⬜⬜⬜🟦<br>🟦🟦🟦🟦🟦🟦🟦🟦🟦⬜🟦🟦🟦🟦🟦⬜🟦⬜🟦🟦🟦<br>🟦⬜⬜⬜⬜⬜⬜⬜⬜⬜🟦⬜⬜⬜⬜⬜🟦⬜🟦⬜🟦<br>🟦⬜🟦🟦🟦🟦🟦🟦🟦🟦🟦⬜🟦⬜🟦🟦🟦⬜🟦⬜🟦<br>🟦⬜🟦⬜⬜⬜⬜⬜🟦⬜⬜⬜🟦⬜⬜⬜⬜⬜🟦⬜🟦<br>🟦⬜🟦⬜🟦🟦🟦⬜🟦⬜🟦🟦🟦🟦🟦🟦🟦🟦🟦⬜🟦<br>🟦⬜⬜⬜⬜⬜🟦⬜⬜⬜⬜⬜⬜⬜⬜⬜⬜⬜⬜🟥🟦<br>🟦🟦🟦🟦🟦🟦🟦🟦🟦🟦🟦🟦🟦🟦🟦🟦🟦🟦🟦🟦🟦`;\n",
              "    </script>\n",
              "    "
            ],
            "text/plain": [
              "<IPython.core.display.HTML object>"
            ]
          },
          "metadata": {},
          "output_type": "display_data"
        },
        {
          "data": {
            "text/html": [
              "\n",
              "    <script>\n",
              "    document.getElementById('maze').innerHTML = `🟦🟦🟦🟦🟦🟦🟦🟦🟦🟦🟦🟦🟦🟦🟦🟦🟦🟦🟦🟦🟦<br>🟦🔳🟦🔳🔳🔳🔳🔳🔳🔳🔳⬜🟦⬜⬜⬜⬜⬜⬜⬜🟦<br>🟦🔳🟦🔳🟦🟦🟦🟦🟦🟦🟦⬜🟦⬜🟦🟦🟦🟦🟦⬜🟦<br>🟦🔳🔳🔳🟦⬜⬜⬜⬜⬜🟦⬜⬜⬜🟦⬜🟦⬜⬜⬜🟦<br>🟦🟦🟦🟦🟦🟦🟦🟦🟦⬜🟦🟦🟦🟦🟦⬜🟦⬜🟦🟦🟦<br>🟦⬜⬜⬜⬜⬜⬜⬜⬜⬜🟦⬜⬜⬜⬜⬜🟦⬜🟦⬜🟦<br>🟦⬜🟦🟦🟦🟦🟦🟦🟦🟦🟦⬜🟦⬜🟦🟦🟦⬜🟦⬜🟦<br>🟦⬜🟦⬜⬜⬜⬜⬜🟦⬜⬜⬜🟦⬜⬜⬜⬜⬜🟦⬜🟦<br>🟦⬜🟦⬜🟦🟦🟦⬜🟦⬜🟦🟦🟦🟦🟦🟦🟦🟦🟦⬜🟦<br>🟦⬜⬜⬜⬜⬜🟦⬜⬜⬜⬜⬜⬜⬜⬜⬜⬜⬜⬜🟥🟦<br>🟦🟦🟦🟦🟦🟦🟦🟦🟦🟦🟦🟦🟦🟦🟦🟦🟦🟦🟦🟦🟦`;\n",
              "    </script>\n",
              "    "
            ],
            "text/plain": [
              "<IPython.core.display.HTML object>"
            ]
          },
          "metadata": {},
          "output_type": "display_data"
        },
        {
          "data": {
            "text/html": [
              "\n",
              "    <script>\n",
              "    document.getElementById('maze').innerHTML = `🟦🟦🟦🟦🟦🟦🟦🟦🟦🟦🟦🟦🟦🟦🟦🟦🟦🟦🟦🟦🟦<br>🟦🔳🟦🔳🔳🔳🔳🔳🔳🔳🔳🔳🟦⬜⬜⬜⬜⬜⬜⬜🟦<br>🟦🔳🟦🔳🟦🟦🟦🟦🟦🟦🟦⬜🟦⬜🟦🟦🟦🟦🟦⬜🟦<br>🟦🔳🔳🔳🟦⬜⬜⬜⬜⬜🟦⬜⬜⬜🟦⬜🟦⬜⬜⬜🟦<br>🟦🟦🟦🟦🟦🟦🟦🟦🟦⬜🟦🟦🟦🟦🟦⬜🟦⬜🟦🟦🟦<br>🟦⬜⬜⬜⬜⬜⬜⬜⬜⬜🟦⬜⬜⬜⬜⬜🟦⬜🟦⬜🟦<br>🟦⬜🟦🟦🟦🟦🟦🟦🟦🟦🟦⬜🟦⬜🟦🟦🟦⬜🟦⬜🟦<br>🟦⬜🟦⬜⬜⬜⬜⬜🟦⬜⬜⬜🟦⬜⬜⬜⬜⬜🟦⬜🟦<br>🟦⬜🟦⬜🟦🟦🟦⬜🟦⬜🟦🟦🟦🟦🟦🟦🟦🟦🟦⬜🟦<br>🟦⬜⬜⬜⬜⬜🟦⬜⬜⬜⬜⬜⬜⬜⬜⬜⬜⬜⬜🟥🟦<br>🟦🟦🟦🟦🟦🟦🟦🟦🟦🟦🟦🟦🟦🟦🟦🟦🟦🟦🟦🟦🟦`;\n",
              "    </script>\n",
              "    "
            ],
            "text/plain": [
              "<IPython.core.display.HTML object>"
            ]
          },
          "metadata": {},
          "output_type": "display_data"
        },
        {
          "data": {
            "text/html": [
              "\n",
              "    <script>\n",
              "    document.getElementById('maze').innerHTML = `🟦🟦🟦🟦🟦🟦🟦🟦🟦🟦🟦🟦🟦🟦🟦🟦🟦🟦🟦🟦🟦<br>🟦🔳🟦🔳🔳🔳🔳🔳🔳🔳🔳🔳🟦⬜⬜⬜⬜⬜⬜⬜🟦<br>🟦🔳🟦🔳🟦🟦🟦🟦🟦🟦🟦🔳🟦⬜🟦🟦🟦🟦🟦⬜🟦<br>🟦🔳🔳🔳🟦⬜⬜⬜⬜⬜🟦⬜⬜⬜🟦⬜🟦⬜⬜⬜🟦<br>🟦🟦🟦🟦🟦🟦🟦🟦🟦⬜🟦🟦🟦🟦🟦⬜🟦⬜🟦🟦🟦<br>🟦⬜⬜⬜⬜⬜⬜⬜⬜⬜🟦⬜⬜⬜⬜⬜🟦⬜🟦⬜🟦<br>🟦⬜🟦🟦🟦🟦🟦🟦🟦🟦🟦⬜🟦⬜🟦🟦🟦⬜🟦⬜🟦<br>🟦⬜🟦⬜⬜⬜⬜⬜🟦⬜⬜⬜🟦⬜⬜⬜⬜⬜🟦⬜🟦<br>🟦⬜🟦⬜🟦🟦🟦⬜🟦⬜🟦🟦🟦🟦🟦🟦🟦🟦🟦⬜🟦<br>🟦⬜⬜⬜⬜⬜🟦⬜⬜⬜⬜⬜⬜⬜⬜⬜⬜⬜⬜🟥🟦<br>🟦🟦🟦🟦🟦🟦🟦🟦🟦🟦🟦🟦🟦🟦🟦🟦🟦🟦🟦🟦🟦`;\n",
              "    </script>\n",
              "    "
            ],
            "text/plain": [
              "<IPython.core.display.HTML object>"
            ]
          },
          "metadata": {},
          "output_type": "display_data"
        },
        {
          "data": {
            "text/html": [
              "\n",
              "    <script>\n",
              "    document.getElementById('maze').innerHTML = `🟦🟦🟦🟦🟦🟦🟦🟦🟦🟦🟦🟦🟦🟦🟦🟦🟦🟦🟦🟦🟦<br>🟦🔳🟦🔳🔳🔳🔳🔳🔳🔳🔳🔳🟦⬜⬜⬜⬜⬜⬜⬜🟦<br>🟦🔳🟦🔳🟦🟦🟦🟦🟦🟦🟦🔳🟦⬜🟦🟦🟦🟦🟦⬜🟦<br>🟦🔳🔳🔳🟦⬜⬜⬜⬜⬜🟦🔳⬜⬜🟦⬜🟦⬜⬜⬜🟦<br>🟦🟦🟦🟦🟦🟦🟦🟦🟦⬜🟦🟦🟦🟦🟦⬜🟦⬜🟦🟦🟦<br>🟦⬜⬜⬜⬜⬜⬜⬜⬜⬜🟦⬜⬜⬜⬜⬜🟦⬜🟦⬜🟦<br>🟦⬜🟦🟦🟦🟦🟦🟦🟦🟦🟦⬜🟦⬜🟦🟦🟦⬜🟦⬜🟦<br>🟦⬜🟦⬜⬜⬜⬜⬜🟦⬜⬜⬜🟦⬜⬜⬜⬜⬜🟦⬜🟦<br>🟦⬜🟦⬜🟦🟦🟦⬜🟦⬜🟦🟦🟦🟦🟦🟦🟦🟦🟦⬜🟦<br>🟦⬜⬜⬜⬜⬜🟦⬜⬜⬜⬜⬜⬜⬜⬜⬜⬜⬜⬜🟥🟦<br>🟦🟦🟦🟦🟦🟦🟦🟦🟦🟦🟦🟦🟦🟦🟦🟦🟦🟦🟦🟦🟦`;\n",
              "    </script>\n",
              "    "
            ],
            "text/plain": [
              "<IPython.core.display.HTML object>"
            ]
          },
          "metadata": {},
          "output_type": "display_data"
        },
        {
          "data": {
            "text/html": [
              "\n",
              "    <script>\n",
              "    document.getElementById('maze').innerHTML = `🟦🟦🟦🟦🟦🟦🟦🟦🟦🟦🟦🟦🟦🟦🟦🟦🟦🟦🟦🟦🟦<br>🟦🔳🟦🔳🔳🔳🔳🔳🔳🔳🔳🔳🟦⬜⬜⬜⬜⬜⬜⬜🟦<br>🟦🔳🟦🔳🟦🟦🟦🟦🟦🟦🟦🔳🟦⬜🟦🟦🟦🟦🟦⬜🟦<br>🟦🔳🔳🔳🟦⬜⬜⬜⬜⬜🟦🔳🔳⬜🟦⬜🟦⬜⬜⬜🟦<br>🟦🟦🟦🟦🟦🟦🟦🟦🟦⬜🟦🟦🟦🟦🟦⬜🟦⬜🟦🟦🟦<br>🟦⬜⬜⬜⬜⬜⬜⬜⬜⬜🟦⬜⬜⬜⬜⬜🟦⬜🟦⬜🟦<br>🟦⬜🟦🟦🟦🟦🟦🟦🟦🟦🟦⬜🟦⬜🟦🟦🟦⬜🟦⬜🟦<br>🟦⬜🟦⬜⬜⬜⬜⬜🟦⬜⬜⬜🟦⬜⬜⬜⬜⬜🟦⬜🟦<br>🟦⬜🟦⬜🟦🟦🟦⬜🟦⬜🟦🟦🟦🟦🟦🟦🟦🟦🟦⬜🟦<br>🟦⬜⬜⬜⬜⬜🟦⬜⬜⬜⬜⬜⬜⬜⬜⬜⬜⬜⬜🟥🟦<br>🟦🟦🟦🟦🟦🟦🟦🟦🟦🟦🟦🟦🟦🟦🟦🟦🟦🟦🟦🟦🟦`;\n",
              "    </script>\n",
              "    "
            ],
            "text/plain": [
              "<IPython.core.display.HTML object>"
            ]
          },
          "metadata": {},
          "output_type": "display_data"
        },
        {
          "data": {
            "text/html": [
              "\n",
              "    <script>\n",
              "    document.getElementById('maze').innerHTML = `🟦🟦🟦🟦🟦🟦🟦🟦🟦🟦🟦🟦🟦🟦🟦🟦🟦🟦🟦🟦🟦<br>🟦🔳🟦🔳🔳🔳🔳🔳🔳🔳🔳🔳🟦⬜⬜⬜⬜⬜⬜⬜🟦<br>🟦🔳🟦🔳🟦🟦🟦🟦🟦🟦🟦🔳🟦⬜🟦🟦🟦🟦🟦⬜🟦<br>🟦🔳🔳🔳🟦⬜⬜⬜⬜⬜🟦🔳🔳🔳🟦⬜🟦⬜⬜⬜🟦<br>🟦🟦🟦🟦🟦🟦🟦🟦🟦⬜🟦🟦🟦🟦🟦⬜🟦⬜🟦🟦🟦<br>🟦⬜⬜⬜⬜⬜⬜⬜⬜⬜🟦⬜⬜⬜⬜⬜🟦⬜🟦⬜🟦<br>🟦⬜🟦🟦🟦🟦🟦🟦🟦🟦🟦⬜🟦⬜🟦🟦🟦⬜🟦⬜🟦<br>🟦⬜🟦⬜⬜⬜⬜⬜🟦⬜⬜⬜🟦⬜⬜⬜⬜⬜🟦⬜🟦<br>🟦⬜🟦⬜🟦🟦🟦⬜🟦⬜🟦🟦🟦🟦🟦🟦🟦🟦🟦⬜🟦<br>🟦⬜⬜⬜⬜⬜🟦⬜⬜⬜⬜⬜⬜⬜⬜⬜⬜⬜⬜🟥🟦<br>🟦🟦🟦🟦🟦🟦🟦🟦🟦🟦🟦🟦🟦🟦🟦🟦🟦🟦🟦🟦🟦`;\n",
              "    </script>\n",
              "    "
            ],
            "text/plain": [
              "<IPython.core.display.HTML object>"
            ]
          },
          "metadata": {},
          "output_type": "display_data"
        },
        {
          "data": {
            "text/html": [
              "\n",
              "    <script>\n",
              "    document.getElementById('maze').innerHTML = `🟦🟦🟦🟦🟦🟦🟦🟦🟦🟦🟦🟦🟦🟦🟦🟦🟦🟦🟦🟦🟦<br>🟦🔳🟦🔳🔳🔳🔳🔳🔳🔳🔳🔳🟦⬜⬜⬜⬜⬜⬜⬜🟦<br>🟦🔳🟦🔳🟦🟦🟦🟦🟦🟦🟦🔳🟦🔳🟦🟦🟦🟦🟦⬜🟦<br>🟦🔳🔳🔳🟦⬜⬜⬜⬜⬜🟦🔳🔳🔳🟦⬜🟦⬜⬜⬜🟦<br>🟦🟦🟦🟦🟦🟦🟦🟦🟦⬜🟦🟦🟦🟦🟦⬜🟦⬜🟦🟦🟦<br>🟦⬜⬜⬜⬜⬜⬜⬜⬜⬜🟦⬜⬜⬜⬜⬜🟦⬜🟦⬜🟦<br>🟦⬜🟦🟦🟦🟦🟦🟦🟦🟦🟦⬜🟦⬜🟦🟦🟦⬜🟦⬜🟦<br>🟦⬜🟦⬜⬜⬜⬜⬜🟦⬜⬜⬜🟦⬜⬜⬜⬜⬜🟦⬜🟦<br>🟦⬜🟦⬜🟦🟦🟦⬜🟦⬜🟦🟦🟦🟦🟦🟦🟦🟦🟦⬜🟦<br>🟦⬜⬜⬜⬜⬜🟦⬜⬜⬜⬜⬜⬜⬜⬜⬜⬜⬜⬜🟥🟦<br>🟦🟦🟦🟦🟦🟦🟦🟦🟦🟦🟦🟦🟦🟦🟦🟦🟦🟦🟦🟦🟦`;\n",
              "    </script>\n",
              "    "
            ],
            "text/plain": [
              "<IPython.core.display.HTML object>"
            ]
          },
          "metadata": {},
          "output_type": "display_data"
        },
        {
          "data": {
            "text/html": [
              "\n",
              "    <script>\n",
              "    document.getElementById('maze').innerHTML = `🟦🟦🟦🟦🟦🟦🟦🟦🟦🟦🟦🟦🟦🟦🟦🟦🟦🟦🟦🟦🟦<br>🟦🔳🟦🔳🔳🔳🔳🔳🔳🔳🔳🔳🟦🔳⬜⬜⬜⬜⬜⬜🟦<br>🟦🔳🟦🔳🟦🟦🟦🟦🟦🟦🟦🔳🟦🔳🟦🟦🟦🟦🟦⬜🟦<br>🟦🔳🔳🔳🟦⬜⬜⬜⬜⬜🟦🔳🔳🔳🟦⬜🟦⬜⬜⬜🟦<br>🟦🟦🟦🟦🟦🟦🟦🟦🟦⬜🟦🟦🟦🟦🟦⬜🟦⬜🟦🟦🟦<br>🟦⬜⬜⬜⬜⬜⬜⬜⬜⬜🟦⬜⬜⬜⬜⬜🟦⬜🟦⬜🟦<br>🟦⬜🟦🟦🟦🟦🟦🟦🟦🟦🟦⬜🟦⬜🟦🟦🟦⬜🟦⬜🟦<br>🟦⬜🟦⬜⬜⬜⬜⬜🟦⬜⬜⬜🟦⬜⬜⬜⬜⬜🟦⬜🟦<br>🟦⬜🟦⬜🟦🟦🟦⬜🟦⬜🟦🟦🟦🟦🟦🟦🟦🟦🟦⬜🟦<br>🟦⬜⬜⬜⬜⬜🟦⬜⬜⬜⬜⬜⬜⬜⬜⬜⬜⬜⬜🟥🟦<br>🟦🟦🟦🟦🟦🟦🟦🟦🟦🟦🟦🟦🟦🟦🟦🟦🟦🟦🟦🟦🟦`;\n",
              "    </script>\n",
              "    "
            ],
            "text/plain": [
              "<IPython.core.display.HTML object>"
            ]
          },
          "metadata": {},
          "output_type": "display_data"
        },
        {
          "data": {
            "text/html": [
              "\n",
              "    <script>\n",
              "    document.getElementById('maze').innerHTML = `🟦🟦🟦🟦🟦🟦🟦🟦🟦🟦🟦🟦🟦🟦🟦🟦🟦🟦🟦🟦🟦<br>🟦🔳🟦🔳🔳🔳🔳🔳🔳🔳🔳🔳🟦🔳🔳⬜⬜⬜⬜⬜🟦<br>🟦🔳🟦🔳🟦🟦🟦🟦🟦🟦🟦🔳🟦🔳🟦🟦🟦🟦🟦⬜🟦<br>🟦🔳🔳🔳🟦⬜⬜⬜⬜⬜🟦🔳🔳🔳🟦⬜🟦⬜⬜⬜🟦<br>🟦🟦🟦🟦🟦🟦🟦🟦🟦⬜🟦🟦🟦🟦🟦⬜🟦⬜🟦🟦🟦<br>🟦⬜⬜⬜⬜⬜⬜⬜⬜⬜🟦⬜⬜⬜⬜⬜🟦⬜🟦⬜🟦<br>🟦⬜🟦🟦🟦🟦🟦🟦🟦🟦🟦⬜🟦⬜🟦🟦🟦⬜🟦⬜🟦<br>🟦⬜🟦⬜⬜⬜⬜⬜🟦⬜⬜⬜🟦⬜⬜⬜⬜⬜🟦⬜🟦<br>🟦⬜🟦⬜🟦🟦🟦⬜🟦⬜🟦🟦🟦🟦🟦🟦🟦🟦🟦⬜🟦<br>🟦⬜⬜⬜⬜⬜🟦⬜⬜⬜⬜⬜⬜⬜⬜⬜⬜⬜⬜🟥🟦<br>🟦🟦🟦🟦🟦🟦🟦🟦🟦🟦🟦🟦🟦🟦🟦🟦🟦🟦🟦🟦🟦`;\n",
              "    </script>\n",
              "    "
            ],
            "text/plain": [
              "<IPython.core.display.HTML object>"
            ]
          },
          "metadata": {},
          "output_type": "display_data"
        },
        {
          "data": {
            "text/html": [
              "\n",
              "    <script>\n",
              "    document.getElementById('maze').innerHTML = `🟦🟦🟦🟦🟦🟦🟦🟦🟦🟦🟦🟦🟦🟦🟦🟦🟦🟦🟦🟦🟦<br>🟦🔳🟦🔳🔳🔳🔳🔳🔳🔳🔳🔳🟦🔳🔳🔳⬜⬜⬜⬜🟦<br>🟦🔳🟦🔳🟦🟦🟦🟦🟦🟦🟦🔳🟦🔳🟦🟦🟦🟦🟦⬜🟦<br>🟦🔳🔳🔳🟦⬜⬜⬜⬜⬜🟦🔳🔳🔳🟦⬜🟦⬜⬜⬜🟦<br>🟦🟦🟦🟦🟦🟦🟦🟦🟦⬜🟦🟦🟦🟦🟦⬜🟦⬜🟦🟦🟦<br>🟦⬜⬜⬜⬜⬜⬜⬜⬜⬜🟦⬜⬜⬜⬜⬜🟦⬜🟦⬜🟦<br>🟦⬜🟦🟦🟦🟦🟦🟦🟦🟦🟦⬜🟦⬜🟦🟦🟦⬜🟦⬜🟦<br>🟦⬜🟦⬜⬜⬜⬜⬜🟦⬜⬜⬜🟦⬜⬜⬜⬜⬜🟦⬜🟦<br>🟦⬜🟦⬜🟦🟦🟦⬜🟦⬜🟦🟦🟦🟦🟦🟦🟦🟦🟦⬜🟦<br>🟦⬜⬜⬜⬜⬜🟦⬜⬜⬜⬜⬜⬜⬜⬜⬜⬜⬜⬜🟥🟦<br>🟦🟦🟦🟦🟦🟦🟦🟦🟦🟦🟦🟦🟦🟦🟦🟦🟦🟦🟦🟦🟦`;\n",
              "    </script>\n",
              "    "
            ],
            "text/plain": [
              "<IPython.core.display.HTML object>"
            ]
          },
          "metadata": {},
          "output_type": "display_data"
        },
        {
          "data": {
            "text/html": [
              "\n",
              "    <script>\n",
              "    document.getElementById('maze').innerHTML = `🟦🟦🟦🟦🟦🟦🟦🟦🟦🟦🟦🟦🟦🟦🟦🟦🟦🟦🟦🟦🟦<br>🟦🔳🟦🔳🔳🔳🔳🔳🔳🔳🔳🔳🟦🔳🔳🔳🔳⬜⬜⬜🟦<br>🟦🔳🟦🔳🟦🟦🟦🟦🟦🟦🟦🔳🟦🔳🟦🟦🟦🟦🟦⬜🟦<br>🟦🔳🔳🔳🟦⬜⬜⬜⬜⬜🟦🔳🔳🔳🟦⬜🟦⬜⬜⬜🟦<br>🟦🟦🟦🟦🟦🟦🟦🟦🟦⬜🟦🟦🟦🟦🟦⬜🟦⬜🟦🟦🟦<br>🟦⬜⬜⬜⬜⬜⬜⬜⬜⬜🟦⬜⬜⬜⬜⬜🟦⬜🟦⬜🟦<br>🟦⬜🟦🟦🟦🟦🟦🟦🟦🟦🟦⬜🟦⬜🟦🟦🟦⬜🟦⬜🟦<br>🟦⬜🟦⬜⬜⬜⬜⬜🟦⬜⬜⬜🟦⬜⬜⬜⬜⬜🟦⬜🟦<br>🟦⬜🟦⬜🟦🟦🟦⬜🟦⬜🟦🟦🟦🟦🟦🟦🟦🟦🟦⬜🟦<br>🟦⬜⬜⬜⬜⬜🟦⬜⬜⬜⬜⬜⬜⬜⬜⬜⬜⬜⬜🟥🟦<br>🟦🟦🟦🟦🟦🟦🟦🟦🟦🟦🟦🟦🟦🟦🟦🟦🟦🟦🟦🟦🟦`;\n",
              "    </script>\n",
              "    "
            ],
            "text/plain": [
              "<IPython.core.display.HTML object>"
            ]
          },
          "metadata": {},
          "output_type": "display_data"
        },
        {
          "data": {
            "text/html": [
              "\n",
              "    <script>\n",
              "    document.getElementById('maze').innerHTML = `🟦🟦🟦🟦🟦🟦🟦🟦🟦🟦🟦🟦🟦🟦🟦🟦🟦🟦🟦🟦🟦<br>🟦🔳🟦🔳🔳🔳🔳🔳🔳🔳🔳🔳🟦🔳🔳🔳🔳🔳⬜⬜🟦<br>🟦🔳🟦🔳🟦🟦🟦🟦🟦🟦🟦🔳🟦🔳🟦🟦🟦🟦🟦⬜🟦<br>🟦🔳🔳🔳🟦⬜⬜⬜⬜⬜🟦🔳🔳🔳🟦⬜🟦⬜⬜⬜🟦<br>🟦🟦🟦🟦🟦🟦🟦🟦🟦⬜🟦🟦🟦🟦🟦⬜🟦⬜🟦🟦🟦<br>🟦⬜⬜⬜⬜⬜⬜⬜⬜⬜🟦⬜⬜⬜⬜⬜🟦⬜🟦⬜🟦<br>🟦⬜🟦🟦🟦🟦🟦🟦🟦🟦🟦⬜🟦⬜🟦🟦🟦⬜🟦⬜🟦<br>🟦⬜🟦⬜⬜⬜⬜⬜🟦⬜⬜⬜🟦⬜⬜⬜⬜⬜🟦⬜🟦<br>🟦⬜🟦⬜🟦🟦🟦⬜🟦⬜🟦🟦🟦🟦🟦🟦🟦🟦🟦⬜🟦<br>🟦⬜⬜⬜⬜⬜🟦⬜⬜⬜⬜⬜⬜⬜⬜⬜⬜⬜⬜🟥🟦<br>🟦🟦🟦🟦🟦🟦🟦🟦🟦🟦🟦🟦🟦🟦🟦🟦🟦🟦🟦🟦🟦`;\n",
              "    </script>\n",
              "    "
            ],
            "text/plain": [
              "<IPython.core.display.HTML object>"
            ]
          },
          "metadata": {},
          "output_type": "display_data"
        },
        {
          "data": {
            "text/html": [
              "\n",
              "    <script>\n",
              "    document.getElementById('maze').innerHTML = `🟦🟦🟦🟦🟦🟦🟦🟦🟦🟦🟦🟦🟦🟦🟦🟦🟦🟦🟦🟦🟦<br>🟦🔳🟦🔳🔳🔳🔳🔳🔳🔳🔳🔳🟦🔳🔳🔳🔳🔳🔳⬜🟦<br>🟦🔳🟦🔳🟦🟦🟦🟦🟦🟦🟦🔳🟦🔳🟦🟦🟦🟦🟦⬜🟦<br>🟦🔳🔳🔳🟦⬜⬜⬜⬜⬜🟦🔳🔳🔳🟦⬜🟦⬜⬜⬜🟦<br>🟦🟦🟦🟦🟦🟦🟦🟦🟦⬜🟦🟦🟦🟦🟦⬜🟦⬜🟦🟦🟦<br>🟦⬜⬜⬜⬜⬜⬜⬜⬜⬜🟦⬜⬜⬜⬜⬜🟦⬜🟦⬜🟦<br>🟦⬜🟦🟦🟦🟦🟦🟦🟦🟦🟦⬜🟦⬜🟦🟦🟦⬜🟦⬜🟦<br>🟦⬜🟦⬜⬜⬜⬜⬜🟦⬜⬜⬜🟦⬜⬜⬜⬜⬜🟦⬜🟦<br>🟦⬜🟦⬜🟦🟦🟦⬜🟦⬜🟦🟦🟦🟦🟦🟦🟦🟦🟦⬜🟦<br>🟦⬜⬜⬜⬜⬜🟦⬜⬜⬜⬜⬜⬜⬜⬜⬜⬜⬜⬜🟥🟦<br>🟦🟦🟦🟦🟦🟦🟦🟦🟦🟦🟦🟦🟦🟦🟦🟦🟦🟦🟦🟦🟦`;\n",
              "    </script>\n",
              "    "
            ],
            "text/plain": [
              "<IPython.core.display.HTML object>"
            ]
          },
          "metadata": {},
          "output_type": "display_data"
        },
        {
          "data": {
            "text/html": [
              "\n",
              "    <script>\n",
              "    document.getElementById('maze').innerHTML = `🟦🟦🟦🟦🟦🟦🟦🟦🟦🟦🟦🟦🟦🟦🟦🟦🟦🟦🟦🟦🟦<br>🟦🔳🟦🔳🔳🔳🔳🔳🔳🔳🔳🔳🟦🔳🔳🔳🔳🔳🔳🔳🟦<br>🟦🔳🟦🔳🟦🟦🟦🟦🟦🟦🟦🔳🟦🔳🟦🟦🟦🟦🟦⬜🟦<br>🟦🔳🔳🔳🟦⬜⬜⬜⬜⬜🟦🔳🔳🔳🟦⬜🟦⬜⬜⬜🟦<br>🟦🟦🟦🟦🟦🟦🟦🟦🟦⬜🟦🟦🟦🟦🟦⬜🟦⬜🟦🟦🟦<br>🟦⬜⬜⬜⬜⬜⬜⬜⬜⬜🟦⬜⬜⬜⬜⬜🟦⬜🟦⬜🟦<br>🟦⬜🟦🟦🟦🟦🟦🟦🟦🟦🟦⬜🟦⬜🟦🟦🟦⬜🟦⬜🟦<br>🟦⬜🟦⬜⬜⬜⬜⬜🟦⬜⬜⬜🟦⬜⬜⬜⬜⬜🟦⬜🟦<br>🟦⬜🟦⬜🟦🟦🟦⬜🟦⬜🟦🟦🟦🟦🟦🟦🟦🟦🟦⬜🟦<br>🟦⬜⬜⬜⬜⬜🟦⬜⬜⬜⬜⬜⬜⬜⬜⬜⬜⬜⬜🟥🟦<br>🟦🟦🟦🟦🟦🟦🟦🟦🟦🟦🟦🟦🟦🟦🟦🟦🟦🟦🟦🟦🟦`;\n",
              "    </script>\n",
              "    "
            ],
            "text/plain": [
              "<IPython.core.display.HTML object>"
            ]
          },
          "metadata": {},
          "output_type": "display_data"
        },
        {
          "data": {
            "text/html": [
              "\n",
              "    <script>\n",
              "    document.getElementById('maze').innerHTML = `🟦🟦🟦🟦🟦🟦🟦🟦🟦🟦🟦🟦🟦🟦🟦🟦🟦🟦🟦🟦🟦<br>🟦🔳🟦🔳🔳🔳🔳🔳🔳🔳🔳🔳🟦🔳🔳🔳🔳🔳🔳🔳🟦<br>🟦🔳🟦🔳🟦🟦🟦🟦🟦🟦🟦🔳🟦🔳🟦🟦🟦🟦🟦🔳🟦<br>🟦🔳🔳🔳🟦⬜⬜⬜⬜⬜🟦🔳🔳🔳🟦⬜🟦⬜⬜⬜🟦<br>🟦🟦🟦🟦🟦🟦🟦🟦🟦⬜🟦🟦🟦🟦🟦⬜🟦⬜🟦🟦🟦<br>🟦⬜⬜⬜⬜⬜⬜⬜⬜⬜🟦⬜⬜⬜⬜⬜🟦⬜🟦⬜🟦<br>🟦⬜🟦🟦🟦🟦🟦🟦🟦🟦🟦⬜🟦⬜🟦🟦🟦⬜🟦⬜🟦<br>🟦⬜🟦⬜⬜⬜⬜⬜🟦⬜⬜⬜🟦⬜⬜⬜⬜⬜🟦⬜🟦<br>🟦⬜🟦⬜🟦🟦🟦⬜🟦⬜🟦🟦🟦🟦🟦🟦🟦🟦🟦⬜🟦<br>🟦⬜⬜⬜⬜⬜🟦⬜⬜⬜⬜⬜⬜⬜⬜⬜⬜⬜⬜🟥🟦<br>🟦🟦🟦🟦🟦🟦🟦🟦🟦🟦🟦🟦🟦🟦🟦🟦🟦🟦🟦🟦🟦`;\n",
              "    </script>\n",
              "    "
            ],
            "text/plain": [
              "<IPython.core.display.HTML object>"
            ]
          },
          "metadata": {},
          "output_type": "display_data"
        },
        {
          "data": {
            "text/html": [
              "\n",
              "    <script>\n",
              "    document.getElementById('maze').innerHTML = `🟦🟦🟦🟦🟦🟦🟦🟦🟦🟦🟦🟦🟦🟦🟦🟦🟦🟦🟦🟦🟦<br>🟦🔳🟦🔳🔳🔳🔳🔳🔳🔳🔳🔳🟦🔳🔳🔳🔳🔳🔳🔳🟦<br>🟦🔳🟦🔳🟦🟦🟦🟦🟦🟦🟦🔳🟦🔳🟦🟦🟦🟦🟦🔳🟦<br>🟦🔳🔳🔳🟦⬜⬜⬜⬜⬜🟦🔳🔳🔳🟦⬜🟦⬜⬜🔳🟦<br>🟦🟦🟦🟦🟦🟦🟦🟦🟦⬜🟦🟦🟦🟦🟦⬜🟦⬜🟦🟦🟦<br>🟦⬜⬜⬜⬜⬜⬜⬜⬜⬜🟦⬜⬜⬜⬜⬜🟦⬜🟦⬜🟦<br>🟦⬜🟦🟦🟦🟦🟦🟦🟦🟦🟦⬜🟦⬜🟦🟦🟦⬜🟦⬜🟦<br>🟦⬜🟦⬜⬜⬜⬜⬜🟦⬜⬜⬜🟦⬜⬜⬜⬜⬜🟦⬜🟦<br>🟦⬜🟦⬜🟦🟦🟦⬜🟦⬜🟦🟦🟦🟦🟦🟦🟦🟦🟦⬜🟦<br>🟦⬜⬜⬜⬜⬜🟦⬜⬜⬜⬜⬜⬜⬜⬜⬜⬜⬜⬜🟥🟦<br>🟦🟦🟦🟦🟦🟦🟦🟦🟦🟦🟦🟦🟦🟦🟦🟦🟦🟦🟦🟦🟦`;\n",
              "    </script>\n",
              "    "
            ],
            "text/plain": [
              "<IPython.core.display.HTML object>"
            ]
          },
          "metadata": {},
          "output_type": "display_data"
        },
        {
          "data": {
            "text/html": [
              "\n",
              "    <script>\n",
              "    document.getElementById('maze').innerHTML = `🟦🟦🟦🟦🟦🟦🟦🟦🟦🟦🟦🟦🟦🟦🟦🟦🟦🟦🟦🟦🟦<br>🟦🔳🟦🔳🔳🔳🔳🔳🔳🔳🔳🔳🟦🔳🔳🔳🔳🔳🔳🔳🟦<br>🟦🔳🟦🔳🟦🟦🟦🟦🟦🟦🟦🔳🟦🔳🟦🟦🟦🟦🟦🔳🟦<br>🟦🔳🔳🔳🟦⬜⬜⬜⬜⬜🟦🔳🔳🔳🟦⬜🟦⬜🔳🔳🟦<br>🟦🟦🟦🟦🟦🟦🟦🟦🟦⬜🟦🟦🟦🟦🟦⬜🟦⬜🟦🟦🟦<br>🟦⬜⬜⬜⬜⬜⬜⬜⬜⬜🟦⬜⬜⬜⬜⬜🟦⬜🟦⬜🟦<br>🟦⬜🟦🟦🟦🟦🟦🟦🟦🟦🟦⬜🟦⬜🟦🟦🟦⬜🟦⬜🟦<br>🟦⬜🟦⬜⬜⬜⬜⬜🟦⬜⬜⬜🟦⬜⬜⬜⬜⬜🟦⬜🟦<br>🟦⬜🟦⬜🟦🟦🟦⬜🟦⬜🟦🟦🟦🟦🟦🟦🟦🟦🟦⬜🟦<br>🟦⬜⬜⬜⬜⬜🟦⬜⬜⬜⬜⬜⬜⬜⬜⬜⬜⬜⬜🟥🟦<br>🟦🟦🟦🟦🟦🟦🟦🟦🟦🟦🟦🟦🟦🟦🟦🟦🟦🟦🟦🟦🟦`;\n",
              "    </script>\n",
              "    "
            ],
            "text/plain": [
              "<IPython.core.display.HTML object>"
            ]
          },
          "metadata": {},
          "output_type": "display_data"
        },
        {
          "data": {
            "text/html": [
              "\n",
              "    <script>\n",
              "    document.getElementById('maze').innerHTML = `🟦🟦🟦🟦🟦🟦🟦🟦🟦🟦🟦🟦🟦🟦🟦🟦🟦🟦🟦🟦🟦<br>🟦🔳🟦🔳🔳🔳🔳🔳🔳🔳🔳🔳🟦🔳🔳🔳🔳🔳🔳🔳🟦<br>🟦🔳🟦🔳🟦🟦🟦🟦🟦🟦🟦🔳🟦🔳🟦🟦🟦🟦🟦🔳🟦<br>🟦🔳🔳🔳🟦⬜⬜⬜⬜⬜🟦🔳🔳🔳🟦⬜🟦🔳🔳🔳🟦<br>🟦🟦🟦🟦🟦🟦🟦🟦🟦⬜🟦🟦🟦🟦🟦⬜🟦⬜🟦🟦🟦<br>🟦⬜⬜⬜⬜⬜⬜⬜⬜⬜🟦⬜⬜⬜⬜⬜🟦⬜🟦⬜🟦<br>🟦⬜🟦🟦🟦🟦🟦🟦🟦🟦🟦⬜🟦⬜🟦🟦🟦⬜🟦⬜🟦<br>🟦⬜🟦⬜⬜⬜⬜⬜🟦⬜⬜⬜🟦⬜⬜⬜⬜⬜🟦⬜🟦<br>🟦⬜🟦⬜🟦🟦🟦⬜🟦⬜🟦🟦🟦🟦🟦🟦🟦🟦🟦⬜🟦<br>🟦⬜⬜⬜⬜⬜🟦⬜⬜⬜⬜⬜⬜⬜⬜⬜⬜⬜⬜🟥🟦<br>🟦🟦🟦🟦🟦🟦🟦🟦🟦🟦🟦🟦🟦🟦🟦🟦🟦🟦🟦🟦🟦`;\n",
              "    </script>\n",
              "    "
            ],
            "text/plain": [
              "<IPython.core.display.HTML object>"
            ]
          },
          "metadata": {},
          "output_type": "display_data"
        },
        {
          "data": {
            "text/html": [
              "\n",
              "    <script>\n",
              "    document.getElementById('maze').innerHTML = `🟦🟦🟦🟦🟦🟦🟦🟦🟦🟦🟦🟦🟦🟦🟦🟦🟦🟦🟦🟦🟦<br>🟦🔳🟦🔳🔳🔳🔳🔳🔳🔳🔳🔳🟦🔳🔳🔳🔳🔳🔳🔳🟦<br>🟦🔳🟦🔳🟦🟦🟦🟦🟦🟦🟦🔳🟦🔳🟦🟦🟦🟦🟦🔳🟦<br>🟦🔳🔳🔳🟦⬜⬜⬜⬜⬜🟦🔳🔳🔳🟦⬜🟦🔳🔳🔳🟦<br>🟦🟦🟦🟦🟦🟦🟦🟦🟦⬜🟦🟦🟦🟦🟦⬜🟦🔳🟦🟦🟦<br>🟦⬜⬜⬜⬜⬜⬜⬜⬜⬜🟦⬜⬜⬜⬜⬜🟦⬜🟦⬜🟦<br>🟦⬜🟦🟦🟦🟦🟦🟦🟦🟦🟦⬜🟦⬜🟦🟦🟦⬜🟦⬜🟦<br>🟦⬜🟦⬜⬜⬜⬜⬜🟦⬜⬜⬜🟦⬜⬜⬜⬜⬜🟦⬜🟦<br>🟦⬜🟦⬜🟦🟦🟦⬜🟦⬜🟦🟦🟦🟦🟦🟦🟦🟦🟦⬜🟦<br>🟦⬜⬜⬜⬜⬜🟦⬜⬜⬜⬜⬜⬜⬜⬜⬜⬜⬜⬜🟥🟦<br>🟦🟦🟦🟦🟦🟦🟦🟦🟦🟦🟦🟦🟦🟦🟦🟦🟦🟦🟦🟦🟦`;\n",
              "    </script>\n",
              "    "
            ],
            "text/plain": [
              "<IPython.core.display.HTML object>"
            ]
          },
          "metadata": {},
          "output_type": "display_data"
        },
        {
          "data": {
            "text/html": [
              "\n",
              "    <script>\n",
              "    document.getElementById('maze').innerHTML = `🟦🟦🟦🟦🟦🟦🟦🟦🟦🟦🟦🟦🟦🟦🟦🟦🟦🟦🟦🟦🟦<br>🟦🔳🟦🔳🔳🔳🔳🔳🔳🔳🔳🔳🟦🔳🔳🔳🔳🔳🔳🔳🟦<br>🟦🔳🟦🔳🟦🟦🟦🟦🟦🟦🟦🔳🟦🔳🟦🟦🟦🟦🟦🔳🟦<br>🟦🔳🔳🔳🟦⬜⬜⬜⬜⬜🟦🔳🔳🔳🟦⬜🟦🔳🔳🔳🟦<br>🟦🟦🟦🟦🟦🟦🟦🟦🟦⬜🟦🟦🟦🟦🟦⬜🟦🔳🟦🟦🟦<br>🟦⬜⬜⬜⬜⬜⬜⬜⬜⬜🟦⬜⬜⬜⬜⬜🟦🔳🟦⬜🟦<br>🟦⬜🟦🟦🟦🟦🟦🟦🟦🟦🟦⬜🟦⬜🟦🟦🟦⬜🟦⬜🟦<br>🟦⬜🟦⬜⬜⬜⬜⬜🟦⬜⬜⬜🟦⬜⬜⬜⬜⬜🟦⬜🟦<br>🟦⬜🟦⬜🟦🟦🟦⬜🟦⬜🟦🟦🟦🟦🟦🟦🟦🟦🟦⬜🟦<br>🟦⬜⬜⬜⬜⬜🟦⬜⬜⬜⬜⬜⬜⬜⬜⬜⬜⬜⬜🟥🟦<br>🟦🟦🟦🟦🟦🟦🟦🟦🟦🟦🟦🟦🟦🟦🟦🟦🟦🟦🟦🟦🟦`;\n",
              "    </script>\n",
              "    "
            ],
            "text/plain": [
              "<IPython.core.display.HTML object>"
            ]
          },
          "metadata": {},
          "output_type": "display_data"
        },
        {
          "data": {
            "text/html": [
              "\n",
              "    <script>\n",
              "    document.getElementById('maze').innerHTML = `🟦🟦🟦🟦🟦🟦🟦🟦🟦🟦🟦🟦🟦🟦🟦🟦🟦🟦🟦🟦🟦<br>🟦🔳🟦🔳🔳🔳🔳🔳🔳🔳🔳🔳🟦🔳🔳🔳🔳🔳🔳🔳🟦<br>🟦🔳🟦🔳🟦🟦🟦🟦🟦🟦🟦🔳🟦🔳🟦🟦🟦🟦🟦🔳🟦<br>🟦🔳🔳🔳🟦⬜⬜⬜⬜⬜🟦🔳🔳🔳🟦⬜🟦🔳🔳🔳🟦<br>🟦🟦🟦🟦🟦🟦🟦🟦🟦⬜🟦🟦🟦🟦🟦⬜🟦🔳🟦🟦🟦<br>🟦⬜⬜⬜⬜⬜⬜⬜⬜⬜🟦⬜⬜⬜⬜⬜🟦🔳🟦⬜🟦<br>🟦⬜🟦🟦🟦🟦🟦🟦🟦🟦🟦⬜🟦⬜🟦🟦🟦🔳🟦⬜🟦<br>🟦⬜🟦⬜⬜⬜⬜⬜🟦⬜⬜⬜🟦⬜⬜⬜⬜⬜🟦⬜🟦<br>🟦⬜🟦⬜🟦🟦🟦⬜🟦⬜🟦🟦🟦🟦🟦🟦🟦🟦🟦⬜🟦<br>🟦⬜⬜⬜⬜⬜🟦⬜⬜⬜⬜⬜⬜⬜⬜⬜⬜⬜⬜🟥🟦<br>🟦🟦🟦🟦🟦🟦🟦🟦🟦🟦🟦🟦🟦🟦🟦🟦🟦🟦🟦🟦🟦`;\n",
              "    </script>\n",
              "    "
            ],
            "text/plain": [
              "<IPython.core.display.HTML object>"
            ]
          },
          "metadata": {},
          "output_type": "display_data"
        },
        {
          "data": {
            "text/html": [
              "\n",
              "    <script>\n",
              "    document.getElementById('maze').innerHTML = `🟦🟦🟦🟦🟦🟦🟦🟦🟦🟦🟦🟦🟦🟦🟦🟦🟦🟦🟦🟦🟦<br>🟦🔳🟦🔳🔳🔳🔳🔳🔳🔳🔳🔳🟦🔳🔳🔳🔳🔳🔳🔳🟦<br>🟦🔳🟦🔳🟦🟦🟦🟦🟦🟦🟦🔳🟦🔳🟦🟦🟦🟦🟦🔳🟦<br>🟦🔳🔳🔳🟦⬜⬜⬜⬜⬜🟦🔳🔳🔳🟦⬜🟦🔳🔳🔳🟦<br>🟦🟦🟦🟦🟦🟦🟦🟦🟦⬜🟦🟦🟦🟦🟦⬜🟦🔳🟦🟦🟦<br>🟦⬜⬜⬜⬜⬜⬜⬜⬜⬜🟦⬜⬜⬜⬜⬜🟦🔳🟦⬜🟦<br>🟦⬜🟦🟦🟦🟦🟦🟦🟦🟦🟦⬜🟦⬜🟦🟦🟦🔳🟦⬜🟦<br>🟦⬜🟦⬜⬜⬜⬜⬜🟦⬜⬜⬜🟦⬜⬜⬜⬜🔳🟦⬜🟦<br>🟦⬜🟦⬜🟦🟦🟦⬜🟦⬜🟦🟦🟦🟦🟦🟦🟦🟦🟦⬜🟦<br>🟦⬜⬜⬜⬜⬜🟦⬜⬜⬜⬜⬜⬜⬜⬜⬜⬜⬜⬜🟥🟦<br>🟦🟦🟦🟦🟦🟦🟦🟦🟦🟦🟦🟦🟦🟦🟦🟦🟦🟦🟦🟦🟦`;\n",
              "    </script>\n",
              "    "
            ],
            "text/plain": [
              "<IPython.core.display.HTML object>"
            ]
          },
          "metadata": {},
          "output_type": "display_data"
        },
        {
          "data": {
            "text/html": [
              "\n",
              "    <script>\n",
              "    document.getElementById('maze').innerHTML = `🟦🟦🟦🟦🟦🟦🟦🟦🟦🟦🟦🟦🟦🟦🟦🟦🟦🟦🟦🟦🟦<br>🟦🔳🟦🔳🔳🔳🔳🔳🔳🔳🔳🔳🟦🔳🔳🔳🔳🔳🔳🔳🟦<br>🟦🔳🟦🔳🟦🟦🟦🟦🟦🟦🟦🔳🟦🔳🟦🟦🟦🟦🟦🔳🟦<br>🟦🔳🔳🔳🟦⬜⬜⬜⬜⬜🟦🔳🔳🔳🟦⬜🟦🔳🔳🔳🟦<br>🟦🟦🟦🟦🟦🟦🟦🟦🟦⬜🟦🟦🟦🟦🟦⬜🟦🔳🟦🟦🟦<br>🟦⬜⬜⬜⬜⬜⬜⬜⬜⬜🟦⬜⬜⬜⬜⬜🟦🔳🟦⬜🟦<br>🟦⬜🟦🟦🟦🟦🟦🟦🟦🟦🟦⬜🟦⬜🟦🟦🟦🔳🟦⬜🟦<br>🟦⬜🟦⬜⬜⬜⬜⬜🟦⬜⬜⬜🟦⬜⬜⬜🔳🔳🟦⬜🟦<br>🟦⬜🟦⬜🟦🟦🟦⬜🟦⬜🟦🟦🟦🟦🟦🟦🟦🟦🟦⬜🟦<br>🟦⬜⬜⬜⬜⬜🟦⬜⬜⬜⬜⬜⬜⬜⬜⬜⬜⬜⬜🟥🟦<br>🟦🟦🟦🟦🟦🟦🟦🟦🟦🟦🟦🟦🟦🟦🟦🟦🟦🟦🟦🟦🟦`;\n",
              "    </script>\n",
              "    "
            ],
            "text/plain": [
              "<IPython.core.display.HTML object>"
            ]
          },
          "metadata": {},
          "output_type": "display_data"
        },
        {
          "data": {
            "text/html": [
              "\n",
              "    <script>\n",
              "    document.getElementById('maze').innerHTML = `🟦🟦🟦🟦🟦🟦🟦🟦🟦🟦🟦🟦🟦🟦🟦🟦🟦🟦🟦🟦🟦<br>🟦🔳🟦🔳🔳🔳🔳🔳🔳🔳🔳🔳🟦🔳🔳🔳🔳🔳🔳🔳🟦<br>🟦🔳🟦🔳🟦🟦🟦🟦🟦🟦🟦🔳🟦🔳🟦🟦🟦🟦🟦🔳🟦<br>🟦🔳🔳🔳🟦⬜⬜⬜⬜⬜🟦🔳🔳🔳🟦⬜🟦🔳🔳🔳🟦<br>🟦🟦🟦🟦🟦🟦🟦🟦🟦⬜🟦🟦🟦🟦🟦⬜🟦🔳🟦🟦🟦<br>🟦⬜⬜⬜⬜⬜⬜⬜⬜⬜🟦⬜⬜⬜⬜⬜🟦🔳🟦⬜🟦<br>🟦⬜🟦🟦🟦🟦🟦🟦🟦🟦🟦⬜🟦⬜🟦🟦🟦🔳🟦⬜🟦<br>🟦⬜🟦⬜⬜⬜⬜⬜🟦⬜⬜⬜🟦⬜⬜🔳🔳🔳🟦⬜🟦<br>🟦⬜🟦⬜🟦🟦🟦⬜🟦⬜🟦🟦🟦🟦🟦🟦🟦🟦🟦⬜🟦<br>🟦⬜⬜⬜⬜⬜🟦⬜⬜⬜⬜⬜⬜⬜⬜⬜⬜⬜⬜🟥🟦<br>🟦🟦🟦🟦🟦🟦🟦🟦🟦🟦🟦🟦🟦🟦🟦🟦🟦🟦🟦🟦🟦`;\n",
              "    </script>\n",
              "    "
            ],
            "text/plain": [
              "<IPython.core.display.HTML object>"
            ]
          },
          "metadata": {},
          "output_type": "display_data"
        },
        {
          "data": {
            "text/html": [
              "\n",
              "    <script>\n",
              "    document.getElementById('maze').innerHTML = `🟦🟦🟦🟦🟦🟦🟦🟦🟦🟦🟦🟦🟦🟦🟦🟦🟦🟦🟦🟦🟦<br>🟦🔳🟦🔳🔳🔳🔳🔳🔳🔳🔳🔳🟦🔳🔳🔳🔳🔳🔳🔳🟦<br>🟦🔳🟦🔳🟦🟦🟦🟦🟦🟦🟦🔳🟦🔳🟦🟦🟦🟦🟦🔳🟦<br>🟦🔳🔳🔳🟦⬜⬜⬜⬜⬜🟦🔳🔳🔳🟦⬜🟦🔳🔳🔳🟦<br>🟦🟦🟦🟦🟦🟦🟦🟦🟦⬜🟦🟦🟦🟦🟦⬜🟦🔳🟦🟦🟦<br>🟦⬜⬜⬜⬜⬜⬜⬜⬜⬜🟦⬜⬜⬜⬜⬜🟦🔳🟦⬜🟦<br>🟦⬜🟦🟦🟦🟦🟦🟦🟦🟦🟦⬜🟦⬜🟦🟦🟦🔳🟦⬜🟦<br>🟦⬜🟦⬜⬜⬜⬜⬜🟦⬜⬜⬜🟦⬜🔳🔳🔳🔳🟦⬜🟦<br>🟦⬜🟦⬜🟦🟦🟦⬜🟦⬜🟦🟦🟦🟦🟦🟦🟦🟦🟦⬜🟦<br>🟦⬜⬜⬜⬜⬜🟦⬜⬜⬜⬜⬜⬜⬜⬜⬜⬜⬜⬜🟥🟦<br>🟦🟦🟦🟦🟦🟦🟦🟦🟦🟦🟦🟦🟦🟦🟦🟦🟦🟦🟦🟦🟦`;\n",
              "    </script>\n",
              "    "
            ],
            "text/plain": [
              "<IPython.core.display.HTML object>"
            ]
          },
          "metadata": {},
          "output_type": "display_data"
        },
        {
          "data": {
            "text/html": [
              "\n",
              "    <script>\n",
              "    document.getElementById('maze').innerHTML = `🟦🟦🟦🟦🟦🟦🟦🟦🟦🟦🟦🟦🟦🟦🟦🟦🟦🟦🟦🟦🟦<br>🟦🔳🟦🔳🔳🔳🔳🔳🔳🔳🔳🔳🟦🔳🔳🔳🔳🔳🔳🔳🟦<br>🟦🔳🟦🔳🟦🟦🟦🟦🟦🟦🟦🔳🟦🔳🟦🟦🟦🟦🟦🔳🟦<br>🟦🔳🔳🔳🟦⬜⬜⬜⬜⬜🟦🔳🔳🔳🟦⬜🟦🔳🔳🔳🟦<br>🟦🟦🟦🟦🟦🟦🟦🟦🟦⬜🟦🟦🟦🟦🟦⬜🟦🔳🟦🟦🟦<br>🟦⬜⬜⬜⬜⬜⬜⬜⬜⬜🟦⬜⬜⬜⬜⬜🟦🔳🟦⬜🟦<br>🟦⬜🟦🟦🟦🟦🟦🟦🟦🟦🟦⬜🟦⬜🟦🟦🟦🔳🟦⬜🟦<br>🟦⬜🟦⬜⬜⬜⬜⬜🟦⬜⬜⬜🟦🔳🔳🔳🔳🔳🟦⬜🟦<br>🟦⬜🟦⬜🟦🟦🟦⬜🟦⬜🟦🟦🟦🟦🟦🟦🟦🟦🟦⬜🟦<br>🟦⬜⬜⬜⬜⬜🟦⬜⬜⬜⬜⬜⬜⬜⬜⬜⬜⬜⬜🟥🟦<br>🟦🟦🟦🟦🟦🟦🟦🟦🟦🟦🟦🟦🟦🟦🟦🟦🟦🟦🟦🟦🟦`;\n",
              "    </script>\n",
              "    "
            ],
            "text/plain": [
              "<IPython.core.display.HTML object>"
            ]
          },
          "metadata": {},
          "output_type": "display_data"
        },
        {
          "data": {
            "text/html": [
              "\n",
              "    <script>\n",
              "    document.getElementById('maze').innerHTML = `🟦🟦🟦🟦🟦🟦🟦🟦🟦🟦🟦🟦🟦🟦🟦🟦🟦🟦🟦🟦🟦<br>🟦🔳🟦🔳🔳🔳🔳🔳🔳🔳🔳🔳🟦🔳🔳🔳🔳🔳🔳🔳🟦<br>🟦🔳🟦🔳🟦🟦🟦🟦🟦🟦🟦🔳🟦🔳🟦🟦🟦🟦🟦🔳🟦<br>🟦🔳🔳🔳🟦⬜⬜⬜⬜⬜🟦🔳🔳🔳🟦⬜🟦🔳🔳🔳🟦<br>🟦🟦🟦🟦🟦🟦🟦🟦🟦⬜🟦🟦🟦🟦🟦⬜🟦🔳🟦🟦🟦<br>🟦⬜⬜⬜⬜⬜⬜⬜⬜⬜🟦⬜⬜⬜⬜⬜🟦🔳🟦⬜🟦<br>🟦⬜🟦🟦🟦🟦🟦🟦🟦🟦🟦⬜🟦🔳🟦🟦🟦🔳🟦⬜🟦<br>🟦⬜🟦⬜⬜⬜⬜⬜🟦⬜⬜⬜🟦🔳🔳🔳🔳🔳🟦⬜🟦<br>🟦⬜🟦⬜🟦🟦🟦⬜🟦⬜🟦🟦🟦🟦🟦🟦🟦🟦🟦⬜🟦<br>🟦⬜⬜⬜⬜⬜🟦⬜⬜⬜⬜⬜⬜⬜⬜⬜⬜⬜⬜🟥🟦<br>🟦🟦🟦🟦🟦🟦🟦🟦🟦🟦🟦🟦🟦🟦🟦🟦🟦🟦🟦🟦🟦`;\n",
              "    </script>\n",
              "    "
            ],
            "text/plain": [
              "<IPython.core.display.HTML object>"
            ]
          },
          "metadata": {},
          "output_type": "display_data"
        },
        {
          "data": {
            "text/html": [
              "\n",
              "    <script>\n",
              "    document.getElementById('maze').innerHTML = `🟦🟦🟦🟦🟦🟦🟦🟦🟦🟦🟦🟦🟦🟦🟦🟦🟦🟦🟦🟦🟦<br>🟦🔳🟦🔳🔳🔳🔳🔳🔳🔳🔳🔳🟦🔳🔳🔳🔳🔳🔳🔳🟦<br>🟦🔳🟦🔳🟦🟦🟦🟦🟦🟦🟦🔳🟦🔳🟦🟦🟦🟦🟦🔳🟦<br>🟦🔳🔳🔳🟦⬜⬜⬜⬜⬜🟦🔳🔳🔳🟦⬜🟦🔳🔳🔳🟦<br>🟦🟦🟦🟦🟦🟦🟦🟦🟦⬜🟦🟦🟦🟦🟦⬜🟦🔳🟦🟦🟦<br>🟦⬜⬜⬜⬜⬜⬜⬜⬜⬜🟦⬜⬜🔳⬜⬜🟦🔳🟦⬜🟦<br>🟦⬜🟦🟦🟦🟦🟦🟦🟦🟦🟦⬜🟦🔳🟦🟦🟦🔳🟦⬜🟦<br>🟦⬜🟦⬜⬜⬜⬜⬜🟦⬜⬜⬜🟦🔳🔳🔳🔳🔳🟦⬜🟦<br>🟦⬜🟦⬜🟦🟦🟦⬜🟦⬜🟦🟦🟦🟦🟦🟦🟦🟦🟦⬜🟦<br>🟦⬜⬜⬜⬜⬜🟦⬜⬜⬜⬜⬜⬜⬜⬜⬜⬜⬜⬜🟥🟦<br>🟦🟦🟦🟦🟦🟦🟦🟦🟦🟦🟦🟦🟦🟦🟦🟦🟦🟦🟦🟦🟦`;\n",
              "    </script>\n",
              "    "
            ],
            "text/plain": [
              "<IPython.core.display.HTML object>"
            ]
          },
          "metadata": {},
          "output_type": "display_data"
        },
        {
          "data": {
            "text/html": [
              "\n",
              "    <script>\n",
              "    document.getElementById('maze').innerHTML = `🟦🟦🟦🟦🟦🟦🟦🟦🟦🟦🟦🟦🟦🟦🟦🟦🟦🟦🟦🟦🟦<br>🟦🔳🟦🔳🔳🔳🔳🔳🔳🔳🔳🔳🟦🔳🔳🔳🔳🔳🔳🔳🟦<br>🟦🔳🟦🔳🟦🟦🟦🟦🟦🟦🟦🔳🟦🔳🟦🟦🟦🟦🟦🔳🟦<br>🟦🔳🔳🔳🟦⬜⬜⬜⬜⬜🟦🔳🔳🔳🟦⬜🟦🔳🔳🔳🟦<br>🟦🟦🟦🟦🟦🟦🟦🟦🟦⬜🟦🟦🟦🟦🟦⬜🟦🔳🟦🟦🟦<br>🟦⬜⬜⬜⬜⬜⬜⬜⬜⬜🟦⬜🔳🔳⬜⬜🟦🔳🟦⬜🟦<br>🟦⬜🟦🟦🟦🟦🟦🟦🟦🟦🟦⬜🟦🔳🟦🟦🟦🔳🟦⬜🟦<br>🟦⬜🟦⬜⬜⬜⬜⬜🟦⬜⬜⬜🟦🔳🔳🔳🔳🔳🟦⬜🟦<br>🟦⬜🟦⬜🟦🟦🟦⬜🟦⬜🟦🟦🟦🟦🟦🟦🟦🟦🟦⬜🟦<br>🟦⬜⬜⬜⬜⬜🟦⬜⬜⬜⬜⬜⬜⬜⬜⬜⬜⬜⬜🟥🟦<br>🟦🟦🟦🟦🟦🟦🟦🟦🟦🟦🟦🟦🟦🟦🟦🟦🟦🟦🟦🟦🟦`;\n",
              "    </script>\n",
              "    "
            ],
            "text/plain": [
              "<IPython.core.display.HTML object>"
            ]
          },
          "metadata": {},
          "output_type": "display_data"
        },
        {
          "data": {
            "text/html": [
              "\n",
              "    <script>\n",
              "    document.getElementById('maze').innerHTML = `🟦🟦🟦🟦🟦🟦🟦🟦🟦🟦🟦🟦🟦🟦🟦🟦🟦🟦🟦🟦🟦<br>🟦🔳🟦🔳🔳🔳🔳🔳🔳🔳🔳🔳🟦🔳🔳🔳🔳🔳🔳🔳🟦<br>🟦🔳🟦🔳🟦🟦🟦🟦🟦🟦🟦🔳🟦🔳🟦🟦🟦🟦🟦🔳🟦<br>🟦🔳🔳🔳🟦⬜⬜⬜⬜⬜🟦🔳🔳🔳🟦⬜🟦🔳🔳🔳🟦<br>🟦🟦🟦🟦🟦🟦🟦🟦🟦⬜🟦🟦🟦🟦🟦⬜🟦🔳🟦🟦🟦<br>🟦⬜⬜⬜⬜⬜⬜⬜⬜⬜🟦🔳🔳🔳⬜⬜🟦🔳🟦⬜🟦<br>🟦⬜🟦🟦🟦🟦🟦🟦🟦🟦🟦⬜🟦🔳🟦🟦🟦🔳🟦⬜🟦<br>🟦⬜🟦⬜⬜⬜⬜⬜🟦⬜⬜⬜🟦🔳🔳🔳🔳🔳🟦⬜🟦<br>🟦⬜🟦⬜🟦🟦🟦⬜🟦⬜🟦🟦🟦🟦🟦🟦🟦🟦🟦⬜🟦<br>🟦⬜⬜⬜⬜⬜🟦⬜⬜⬜⬜⬜⬜⬜⬜⬜⬜⬜⬜🟥🟦<br>🟦🟦🟦🟦🟦🟦🟦🟦🟦🟦🟦🟦🟦🟦🟦🟦🟦🟦🟦🟦🟦`;\n",
              "    </script>\n",
              "    "
            ],
            "text/plain": [
              "<IPython.core.display.HTML object>"
            ]
          },
          "metadata": {},
          "output_type": "display_data"
        },
        {
          "data": {
            "text/html": [
              "\n",
              "    <script>\n",
              "    document.getElementById('maze').innerHTML = `🟦🟦🟦🟦🟦🟦🟦🟦🟦🟦🟦🟦🟦🟦🟦🟦🟦🟦🟦🟦🟦<br>🟦🔳🟦🔳🔳🔳🔳🔳🔳🔳🔳🔳🟦🔳🔳🔳🔳🔳🔳🔳🟦<br>🟦🔳🟦🔳🟦🟦🟦🟦🟦🟦🟦🔳🟦🔳🟦🟦🟦🟦🟦🔳🟦<br>🟦🔳🔳🔳🟦⬜⬜⬜⬜⬜🟦🔳🔳🔳🟦⬜🟦🔳🔳🔳🟦<br>🟦🟦🟦🟦🟦🟦🟦🟦🟦⬜🟦🟦🟦🟦🟦⬜🟦🔳🟦🟦🟦<br>🟦⬜⬜⬜⬜⬜⬜⬜⬜⬜🟦🔳🔳🔳⬜⬜🟦🔳🟦⬜🟦<br>🟦⬜🟦🟦🟦🟦🟦🟦🟦🟦🟦🔳🟦🔳🟦🟦🟦🔳🟦⬜🟦<br>🟦⬜🟦⬜⬜⬜⬜⬜🟦⬜⬜⬜🟦🔳🔳🔳🔳🔳🟦⬜🟦<br>🟦⬜🟦⬜🟦🟦🟦⬜🟦⬜🟦🟦🟦🟦🟦🟦🟦🟦🟦⬜🟦<br>🟦⬜⬜⬜⬜⬜🟦⬜⬜⬜⬜⬜⬜⬜⬜⬜⬜⬜⬜🟥🟦<br>🟦🟦🟦🟦🟦🟦🟦🟦🟦🟦🟦🟦🟦🟦🟦🟦🟦🟦🟦🟦🟦`;\n",
              "    </script>\n",
              "    "
            ],
            "text/plain": [
              "<IPython.core.display.HTML object>"
            ]
          },
          "metadata": {},
          "output_type": "display_data"
        },
        {
          "data": {
            "text/html": [
              "\n",
              "    <script>\n",
              "    document.getElementById('maze').innerHTML = `🟦🟦🟦🟦🟦🟦🟦🟦🟦🟦🟦🟦🟦🟦🟦🟦🟦🟦🟦🟦🟦<br>🟦🔳🟦🔳🔳🔳🔳🔳🔳🔳🔳🔳🟦🔳🔳🔳🔳🔳🔳🔳🟦<br>🟦🔳🟦🔳🟦🟦🟦🟦🟦🟦🟦🔳🟦🔳🟦🟦🟦🟦🟦🔳🟦<br>🟦🔳🔳🔳🟦⬜⬜⬜⬜⬜🟦🔳🔳🔳🟦⬜🟦🔳🔳🔳🟦<br>🟦🟦🟦🟦🟦🟦🟦🟦🟦⬜🟦🟦🟦🟦🟦⬜🟦🔳🟦🟦🟦<br>🟦⬜⬜⬜⬜⬜⬜⬜⬜⬜🟦🔳🔳🔳⬜⬜🟦🔳🟦⬜🟦<br>🟦⬜🟦🟦🟦🟦🟦🟦🟦🟦🟦🔳🟦🔳🟦🟦🟦🔳🟦⬜🟦<br>🟦⬜🟦⬜⬜⬜⬜⬜🟦⬜⬜🔳🟦🔳🔳🔳🔳🔳🟦⬜🟦<br>🟦⬜🟦⬜🟦🟦🟦⬜🟦⬜🟦🟦🟦🟦🟦🟦🟦🟦🟦⬜🟦<br>🟦⬜⬜⬜⬜⬜🟦⬜⬜⬜⬜⬜⬜⬜⬜⬜⬜⬜⬜🟥🟦<br>🟦🟦🟦🟦🟦🟦🟦🟦🟦🟦🟦🟦🟦🟦🟦🟦🟦🟦🟦🟦🟦`;\n",
              "    </script>\n",
              "    "
            ],
            "text/plain": [
              "<IPython.core.display.HTML object>"
            ]
          },
          "metadata": {},
          "output_type": "display_data"
        },
        {
          "data": {
            "text/html": [
              "\n",
              "    <script>\n",
              "    document.getElementById('maze').innerHTML = `🟦🟦🟦🟦🟦🟦🟦🟦🟦🟦🟦🟦🟦🟦🟦🟦🟦🟦🟦🟦🟦<br>🟦🔳🟦🔳🔳🔳🔳🔳🔳🔳🔳🔳🟦🔳🔳🔳🔳🔳🔳🔳🟦<br>🟦🔳🟦🔳🟦🟦🟦🟦🟦🟦🟦🔳🟦🔳🟦🟦🟦🟦🟦🔳🟦<br>🟦🔳🔳🔳🟦⬜⬜⬜⬜⬜🟦🔳🔳🔳🟦⬜🟦🔳🔳🔳🟦<br>🟦🟦🟦🟦🟦🟦🟦🟦🟦⬜🟦🟦🟦🟦🟦⬜🟦🔳🟦🟦🟦<br>🟦⬜⬜⬜⬜⬜⬜⬜⬜⬜🟦🔳🔳🔳⬜⬜🟦🔳🟦⬜🟦<br>🟦⬜🟦🟦🟦🟦🟦🟦🟦🟦🟦🔳🟦🔳🟦🟦🟦🔳🟦⬜🟦<br>🟦⬜🟦⬜⬜⬜⬜⬜🟦⬜🔳🔳🟦🔳🔳🔳🔳🔳🟦⬜🟦<br>🟦⬜🟦⬜🟦🟦🟦⬜🟦⬜🟦🟦🟦🟦🟦🟦🟦🟦🟦⬜🟦<br>🟦⬜⬜⬜⬜⬜🟦⬜⬜⬜⬜⬜⬜⬜⬜⬜⬜⬜⬜🟥🟦<br>🟦🟦🟦🟦🟦🟦🟦🟦🟦🟦🟦🟦🟦🟦🟦🟦🟦🟦🟦🟦🟦`;\n",
              "    </script>\n",
              "    "
            ],
            "text/plain": [
              "<IPython.core.display.HTML object>"
            ]
          },
          "metadata": {},
          "output_type": "display_data"
        },
        {
          "data": {
            "text/html": [
              "\n",
              "    <script>\n",
              "    document.getElementById('maze').innerHTML = `🟦🟦🟦🟦🟦🟦🟦🟦🟦🟦🟦🟦🟦🟦🟦🟦🟦🟦🟦🟦🟦<br>🟦🔳🟦🔳🔳🔳🔳🔳🔳🔳🔳🔳🟦🔳🔳🔳🔳🔳🔳🔳🟦<br>🟦🔳🟦🔳🟦🟦🟦🟦🟦🟦🟦🔳🟦🔳🟦🟦🟦🟦🟦🔳🟦<br>🟦🔳🔳🔳🟦⬜⬜⬜⬜⬜🟦🔳🔳🔳🟦⬜🟦🔳🔳🔳🟦<br>🟦🟦🟦🟦🟦🟦🟦🟦🟦⬜🟦🟦🟦🟦🟦⬜🟦🔳🟦🟦🟦<br>🟦⬜⬜⬜⬜⬜⬜⬜⬜⬜🟦🔳🔳🔳⬜⬜🟦🔳🟦⬜🟦<br>🟦⬜🟦🟦🟦🟦🟦🟦🟦🟦🟦🔳🟦🔳🟦🟦🟦🔳🟦⬜🟦<br>🟦⬜🟦⬜⬜⬜⬜⬜🟦🔳🔳🔳🟦🔳🔳🔳🔳🔳🟦⬜🟦<br>🟦⬜🟦⬜🟦🟦🟦⬜🟦⬜🟦🟦🟦🟦🟦🟦🟦🟦🟦⬜🟦<br>🟦⬜⬜⬜⬜⬜🟦⬜⬜⬜⬜⬜⬜⬜⬜⬜⬜⬜⬜🟥🟦<br>🟦🟦🟦🟦🟦🟦🟦🟦🟦🟦🟦🟦🟦🟦🟦🟦🟦🟦🟦🟦🟦`;\n",
              "    </script>\n",
              "    "
            ],
            "text/plain": [
              "<IPython.core.display.HTML object>"
            ]
          },
          "metadata": {},
          "output_type": "display_data"
        },
        {
          "data": {
            "text/html": [
              "\n",
              "    <script>\n",
              "    document.getElementById('maze').innerHTML = `🟦🟦🟦🟦🟦🟦🟦🟦🟦🟦🟦🟦🟦🟦🟦🟦🟦🟦🟦🟦🟦<br>🟦🔳🟦🔳🔳🔳🔳🔳🔳🔳🔳🔳🟦🔳🔳🔳🔳🔳🔳🔳🟦<br>🟦🔳🟦🔳🟦🟦🟦🟦🟦🟦🟦🔳🟦🔳🟦🟦🟦🟦🟦🔳🟦<br>🟦🔳🔳🔳🟦⬜⬜⬜⬜⬜🟦🔳🔳🔳🟦⬜🟦🔳🔳🔳🟦<br>🟦🟦🟦🟦🟦🟦🟦🟦🟦⬜🟦🟦🟦🟦🟦⬜🟦🔳🟦🟦🟦<br>🟦⬜⬜⬜⬜⬜⬜⬜⬜⬜🟦🔳🔳🔳⬜⬜🟦🔳🟦⬜🟦<br>🟦⬜🟦🟦🟦🟦🟦🟦🟦🟦🟦🔳🟦🔳🟦🟦🟦🔳🟦⬜🟦<br>🟦⬜🟦⬜⬜⬜⬜⬜🟦🔳🔳🔳🟦🔳🔳🔳🔳🔳🟦⬜🟦<br>🟦⬜🟦⬜🟦🟦🟦⬜🟦🔳🟦🟦🟦🟦🟦🟦🟦🟦🟦⬜🟦<br>🟦⬜⬜⬜⬜⬜🟦⬜⬜⬜⬜⬜⬜⬜⬜⬜⬜⬜⬜🟥🟦<br>🟦🟦🟦🟦🟦🟦🟦🟦🟦🟦🟦🟦🟦🟦🟦🟦🟦🟦🟦🟦🟦`;\n",
              "    </script>\n",
              "    "
            ],
            "text/plain": [
              "<IPython.core.display.HTML object>"
            ]
          },
          "metadata": {},
          "output_type": "display_data"
        },
        {
          "data": {
            "text/html": [
              "\n",
              "    <script>\n",
              "    document.getElementById('maze').innerHTML = `🟦🟦🟦🟦🟦🟦🟦🟦🟦🟦🟦🟦🟦🟦🟦🟦🟦🟦🟦🟦🟦<br>🟦🔳🟦🔳🔳🔳🔳🔳🔳🔳🔳🔳🟦🔳🔳🔳🔳🔳🔳🔳🟦<br>🟦🔳🟦🔳🟦🟦🟦🟦🟦🟦🟦🔳🟦🔳🟦🟦🟦🟦🟦🔳🟦<br>🟦🔳🔳🔳🟦⬜⬜⬜⬜⬜🟦🔳🔳🔳🟦⬜🟦🔳🔳🔳🟦<br>🟦🟦🟦🟦🟦🟦🟦🟦🟦⬜🟦🟦🟦🟦🟦⬜🟦🔳🟦🟦🟦<br>🟦⬜⬜⬜⬜⬜⬜⬜⬜⬜🟦🔳🔳🔳⬜⬜🟦🔳🟦⬜🟦<br>🟦⬜🟦🟦🟦🟦🟦🟦🟦🟦🟦🔳🟦🔳🟦🟦🟦🔳🟦⬜🟦<br>🟦⬜🟦⬜⬜⬜⬜⬜🟦🔳🔳🔳🟦🔳🔳🔳🔳🔳🟦⬜🟦<br>🟦⬜🟦⬜🟦🟦🟦⬜🟦🔳🟦🟦🟦🟦🟦🟦🟦🟦🟦⬜🟦<br>🟦⬜⬜⬜⬜⬜🟦⬜⬜🔳⬜⬜⬜⬜⬜⬜⬜⬜⬜🟥🟦<br>🟦🟦🟦🟦🟦🟦🟦🟦🟦🟦🟦🟦🟦🟦🟦🟦🟦🟦🟦🟦🟦`;\n",
              "    </script>\n",
              "    "
            ],
            "text/plain": [
              "<IPython.core.display.HTML object>"
            ]
          },
          "metadata": {},
          "output_type": "display_data"
        },
        {
          "data": {
            "text/html": [
              "\n",
              "    <script>\n",
              "    document.getElementById('maze').innerHTML = `🟦🟦🟦🟦🟦🟦🟦🟦🟦🟦🟦🟦🟦🟦🟦🟦🟦🟦🟦🟦🟦<br>🟦🔳🟦🔳🔳🔳🔳🔳🔳🔳🔳🔳🟦🔳🔳🔳🔳🔳🔳🔳🟦<br>🟦🔳🟦🔳🟦🟦🟦🟦🟦🟦🟦🔳🟦🔳🟦🟦🟦🟦🟦🔳🟦<br>🟦🔳🔳🔳🟦⬜⬜⬜⬜⬜🟦🔳🔳🔳🟦⬜🟦🔳🔳🔳🟦<br>🟦🟦🟦🟦🟦🟦🟦🟦🟦⬜🟦🟦🟦🟦🟦⬜🟦🔳🟦🟦🟦<br>🟦⬜⬜⬜⬜⬜⬜⬜⬜⬜🟦🔳🔳🔳⬜⬜🟦🔳🟦⬜🟦<br>🟦⬜🟦🟦🟦🟦🟦🟦🟦🟦🟦🔳🟦🔳🟦🟦🟦🔳🟦⬜🟦<br>🟦⬜🟦⬜⬜⬜⬜⬜🟦🔳🔳🔳🟦🔳🔳🔳🔳🔳🟦⬜🟦<br>🟦⬜🟦⬜🟦🟦🟦⬜🟦🔳🟦🟦🟦🟦🟦🟦🟦🟦🟦⬜🟦<br>🟦⬜⬜⬜⬜⬜🟦⬜⬜🔳🔳⬜⬜⬜⬜⬜⬜⬜⬜🟥🟦<br>🟦🟦🟦🟦🟦🟦🟦🟦🟦🟦🟦🟦🟦🟦🟦🟦🟦🟦🟦🟦🟦`;\n",
              "    </script>\n",
              "    "
            ],
            "text/plain": [
              "<IPython.core.display.HTML object>"
            ]
          },
          "metadata": {},
          "output_type": "display_data"
        },
        {
          "data": {
            "text/html": [
              "\n",
              "    <script>\n",
              "    document.getElementById('maze').innerHTML = `🟦🟦🟦🟦🟦🟦🟦🟦🟦🟦🟦🟦🟦🟦🟦🟦🟦🟦🟦🟦🟦<br>🟦🔳🟦🔳🔳🔳🔳🔳🔳🔳🔳🔳🟦🔳🔳🔳🔳🔳🔳🔳🟦<br>🟦🔳🟦🔳🟦🟦🟦🟦🟦🟦🟦🔳🟦🔳🟦🟦🟦🟦🟦🔳🟦<br>🟦🔳🔳🔳🟦⬜⬜⬜⬜⬜🟦🔳🔳🔳🟦⬜🟦🔳🔳🔳🟦<br>🟦🟦🟦🟦🟦🟦🟦🟦🟦⬜🟦🟦🟦🟦🟦⬜🟦🔳🟦🟦🟦<br>🟦⬜⬜⬜⬜⬜⬜⬜⬜⬜🟦🔳🔳🔳⬜⬜🟦🔳🟦⬜🟦<br>🟦⬜🟦🟦🟦🟦🟦🟦🟦🟦🟦🔳🟦🔳🟦🟦🟦🔳🟦⬜🟦<br>🟦⬜🟦⬜⬜⬜⬜⬜🟦🔳🔳🔳🟦🔳🔳🔳🔳🔳🟦⬜🟦<br>🟦⬜🟦⬜🟦🟦🟦⬜🟦🔳🟦🟦🟦🟦🟦🟦🟦🟦🟦⬜🟦<br>🟦⬜⬜⬜⬜⬜🟦⬜⬜🔳🔳🔳⬜⬜⬜⬜⬜⬜⬜🟥🟦<br>🟦🟦🟦🟦🟦🟦🟦🟦🟦🟦🟦🟦🟦🟦🟦🟦🟦🟦🟦🟦🟦`;\n",
              "    </script>\n",
              "    "
            ],
            "text/plain": [
              "<IPython.core.display.HTML object>"
            ]
          },
          "metadata": {},
          "output_type": "display_data"
        },
        {
          "data": {
            "text/html": [
              "\n",
              "    <script>\n",
              "    document.getElementById('maze').innerHTML = `🟦🟦🟦🟦🟦🟦🟦🟦🟦🟦🟦🟦🟦🟦🟦🟦🟦🟦🟦🟦🟦<br>🟦🔳🟦🔳🔳🔳🔳🔳🔳🔳🔳🔳🟦🔳🔳🔳🔳🔳🔳🔳🟦<br>🟦🔳🟦🔳🟦🟦🟦🟦🟦🟦🟦🔳🟦🔳🟦🟦🟦🟦🟦🔳🟦<br>🟦🔳🔳🔳🟦⬜⬜⬜⬜⬜🟦🔳🔳🔳🟦⬜🟦🔳🔳🔳🟦<br>🟦🟦🟦🟦🟦🟦🟦🟦🟦⬜🟦🟦🟦🟦🟦⬜🟦🔳🟦🟦🟦<br>🟦⬜⬜⬜⬜⬜⬜⬜⬜⬜🟦🔳🔳🔳⬜⬜🟦🔳🟦⬜🟦<br>🟦⬜🟦🟦🟦🟦🟦🟦🟦🟦🟦🔳🟦🔳🟦🟦🟦🔳🟦⬜🟦<br>🟦⬜🟦⬜⬜⬜⬜⬜🟦🔳🔳🔳🟦🔳🔳🔳🔳🔳🟦⬜🟦<br>🟦⬜🟦⬜🟦🟦🟦⬜🟦🔳🟦🟦🟦🟦🟦🟦🟦🟦🟦⬜🟦<br>🟦⬜⬜⬜⬜⬜🟦⬜⬜🔳🔳🔳🔳⬜⬜⬜⬜⬜⬜🟥🟦<br>🟦🟦🟦🟦🟦🟦🟦🟦🟦🟦🟦🟦🟦🟦🟦🟦🟦🟦🟦🟦🟦`;\n",
              "    </script>\n",
              "    "
            ],
            "text/plain": [
              "<IPython.core.display.HTML object>"
            ]
          },
          "metadata": {},
          "output_type": "display_data"
        },
        {
          "data": {
            "text/html": [
              "\n",
              "    <script>\n",
              "    document.getElementById('maze').innerHTML = `🟦🟦🟦🟦🟦🟦🟦🟦🟦🟦🟦🟦🟦🟦🟦🟦🟦🟦🟦🟦🟦<br>🟦🔳🟦🔳🔳🔳🔳🔳🔳🔳🔳🔳🟦🔳🔳🔳🔳🔳🔳🔳🟦<br>🟦🔳🟦🔳🟦🟦🟦🟦🟦🟦🟦🔳🟦🔳🟦🟦🟦🟦🟦🔳🟦<br>🟦🔳🔳🔳🟦⬜⬜⬜⬜⬜🟦🔳🔳🔳🟦⬜🟦🔳🔳🔳🟦<br>🟦🟦🟦🟦🟦🟦🟦🟦🟦⬜🟦🟦🟦🟦🟦⬜🟦🔳🟦🟦🟦<br>🟦⬜⬜⬜⬜⬜⬜⬜⬜⬜🟦🔳🔳🔳⬜⬜🟦🔳🟦⬜🟦<br>🟦⬜🟦🟦🟦🟦🟦🟦🟦🟦🟦🔳🟦🔳🟦🟦🟦🔳🟦⬜🟦<br>🟦⬜🟦⬜⬜⬜⬜⬜🟦🔳🔳🔳🟦🔳🔳🔳🔳🔳🟦⬜🟦<br>🟦⬜🟦⬜🟦🟦🟦⬜🟦🔳🟦🟦🟦🟦🟦🟦🟦🟦🟦⬜🟦<br>🟦⬜⬜⬜⬜⬜🟦⬜⬜🔳🔳🔳🔳🔳⬜⬜⬜⬜⬜🟥🟦<br>🟦🟦🟦🟦🟦🟦🟦🟦🟦🟦🟦🟦🟦🟦🟦🟦🟦🟦🟦🟦🟦`;\n",
              "    </script>\n",
              "    "
            ],
            "text/plain": [
              "<IPython.core.display.HTML object>"
            ]
          },
          "metadata": {},
          "output_type": "display_data"
        },
        {
          "data": {
            "text/html": [
              "\n",
              "    <script>\n",
              "    document.getElementById('maze').innerHTML = `🟦🟦🟦🟦🟦🟦🟦🟦🟦🟦🟦🟦🟦🟦🟦🟦🟦🟦🟦🟦🟦<br>🟦🔳🟦🔳🔳🔳🔳🔳🔳🔳🔳🔳🟦🔳🔳🔳🔳🔳🔳🔳🟦<br>🟦🔳🟦🔳🟦🟦🟦🟦🟦🟦🟦🔳🟦🔳🟦🟦🟦🟦🟦🔳🟦<br>🟦🔳🔳🔳🟦⬜⬜⬜⬜⬜🟦🔳🔳🔳🟦⬜🟦🔳🔳🔳🟦<br>🟦🟦🟦🟦🟦🟦🟦🟦🟦⬜🟦🟦🟦🟦🟦⬜🟦🔳🟦🟦🟦<br>🟦⬜⬜⬜⬜⬜⬜⬜⬜⬜🟦🔳🔳🔳⬜⬜🟦🔳🟦⬜🟦<br>🟦⬜🟦🟦🟦🟦🟦🟦🟦🟦🟦🔳🟦🔳🟦🟦🟦🔳🟦⬜🟦<br>🟦⬜🟦⬜⬜⬜⬜⬜🟦🔳🔳🔳🟦🔳🔳🔳🔳🔳🟦⬜🟦<br>🟦⬜🟦⬜🟦🟦🟦⬜🟦🔳🟦🟦🟦🟦🟦🟦🟦🟦🟦⬜🟦<br>🟦⬜⬜⬜⬜⬜🟦⬜⬜🔳🔳🔳🔳🔳🔳⬜⬜⬜⬜🟥🟦<br>🟦🟦🟦🟦🟦🟦🟦🟦🟦🟦🟦🟦🟦🟦🟦🟦🟦🟦🟦🟦🟦`;\n",
              "    </script>\n",
              "    "
            ],
            "text/plain": [
              "<IPython.core.display.HTML object>"
            ]
          },
          "metadata": {},
          "output_type": "display_data"
        },
        {
          "data": {
            "text/html": [
              "\n",
              "    <script>\n",
              "    document.getElementById('maze').innerHTML = `🟦🟦🟦🟦🟦🟦🟦🟦🟦🟦🟦🟦🟦🟦🟦🟦🟦🟦🟦🟦🟦<br>🟦🔳🟦🔳🔳🔳🔳🔳🔳🔳🔳🔳🟦🔳🔳🔳🔳🔳🔳🔳🟦<br>🟦🔳🟦🔳🟦🟦🟦🟦🟦🟦🟦🔳🟦🔳🟦🟦🟦🟦🟦🔳🟦<br>🟦🔳🔳🔳🟦⬜⬜⬜⬜⬜🟦🔳🔳🔳🟦⬜🟦🔳🔳🔳🟦<br>🟦🟦🟦🟦🟦🟦🟦🟦🟦⬜🟦🟦🟦🟦🟦⬜🟦🔳🟦🟦🟦<br>🟦⬜⬜⬜⬜⬜⬜⬜⬜⬜🟦🔳🔳🔳⬜⬜🟦🔳🟦⬜🟦<br>🟦⬜🟦🟦🟦🟦🟦🟦🟦🟦🟦🔳🟦🔳🟦🟦🟦🔳🟦⬜🟦<br>🟦⬜🟦⬜⬜⬜⬜⬜🟦🔳🔳🔳🟦🔳🔳🔳🔳🔳🟦⬜🟦<br>🟦⬜🟦⬜🟦🟦🟦⬜🟦🔳🟦🟦🟦🟦🟦🟦🟦🟦🟦⬜🟦<br>🟦⬜⬜⬜⬜⬜🟦⬜⬜🔳🔳🔳🔳🔳🔳🔳⬜⬜⬜🟥🟦<br>🟦🟦🟦🟦🟦🟦🟦🟦🟦🟦🟦🟦🟦🟦🟦🟦🟦🟦🟦🟦🟦`;\n",
              "    </script>\n",
              "    "
            ],
            "text/plain": [
              "<IPython.core.display.HTML object>"
            ]
          },
          "metadata": {},
          "output_type": "display_data"
        },
        {
          "data": {
            "text/html": [
              "\n",
              "    <script>\n",
              "    document.getElementById('maze').innerHTML = `🟦🟦🟦🟦🟦🟦🟦🟦🟦🟦🟦🟦🟦🟦🟦🟦🟦🟦🟦🟦🟦<br>🟦🔳🟦🔳🔳🔳🔳🔳🔳🔳🔳🔳🟦🔳🔳🔳🔳🔳🔳🔳🟦<br>🟦🔳🟦🔳🟦🟦🟦🟦🟦🟦🟦🔳🟦🔳🟦🟦🟦🟦🟦🔳🟦<br>🟦🔳🔳🔳🟦⬜⬜⬜⬜⬜🟦🔳🔳🔳🟦⬜🟦🔳🔳🔳🟦<br>🟦🟦🟦🟦🟦🟦🟦🟦🟦⬜🟦🟦🟦🟦🟦⬜🟦🔳🟦🟦🟦<br>🟦⬜⬜⬜⬜⬜⬜⬜⬜⬜🟦🔳🔳🔳⬜⬜🟦🔳🟦⬜🟦<br>🟦⬜🟦🟦🟦🟦🟦🟦🟦🟦🟦🔳🟦🔳🟦🟦🟦🔳🟦⬜🟦<br>🟦⬜🟦⬜⬜⬜⬜⬜🟦🔳🔳🔳🟦🔳🔳🔳🔳🔳🟦⬜🟦<br>🟦⬜🟦⬜🟦🟦🟦⬜🟦🔳🟦🟦🟦🟦🟦🟦🟦🟦🟦⬜🟦<br>🟦⬜⬜⬜⬜⬜🟦⬜⬜🔳🔳🔳🔳🔳🔳🔳🔳⬜⬜🟥🟦<br>🟦🟦🟦🟦🟦🟦🟦🟦🟦🟦🟦🟦🟦🟦🟦🟦🟦🟦🟦🟦🟦`;\n",
              "    </script>\n",
              "    "
            ],
            "text/plain": [
              "<IPython.core.display.HTML object>"
            ]
          },
          "metadata": {},
          "output_type": "display_data"
        },
        {
          "data": {
            "text/html": [
              "\n",
              "    <script>\n",
              "    document.getElementById('maze').innerHTML = `🟦🟦🟦🟦🟦🟦🟦🟦🟦🟦🟦🟦🟦🟦🟦🟦🟦🟦🟦🟦🟦<br>🟦🔳🟦🔳🔳🔳🔳🔳🔳🔳🔳🔳🟦🔳🔳🔳🔳🔳🔳🔳🟦<br>🟦🔳🟦🔳🟦🟦🟦🟦🟦🟦🟦🔳🟦🔳🟦🟦🟦🟦🟦🔳🟦<br>🟦🔳🔳🔳🟦⬜⬜⬜⬜⬜🟦🔳🔳🔳🟦⬜🟦🔳🔳🔳🟦<br>🟦🟦🟦🟦🟦🟦🟦🟦🟦⬜🟦🟦🟦🟦🟦⬜🟦🔳🟦🟦🟦<br>🟦⬜⬜⬜⬜⬜⬜⬜⬜⬜🟦🔳🔳🔳⬜⬜🟦🔳🟦⬜🟦<br>🟦⬜🟦🟦🟦🟦🟦🟦🟦🟦🟦🔳🟦🔳🟦🟦🟦🔳🟦⬜🟦<br>🟦⬜🟦⬜⬜⬜⬜⬜🟦🔳🔳🔳🟦🔳🔳🔳🔳🔳🟦⬜🟦<br>🟦⬜🟦⬜🟦🟦🟦⬜🟦🔳🟦🟦🟦🟦🟦🟦🟦🟦🟦⬜🟦<br>🟦⬜⬜⬜⬜⬜🟦⬜⬜🔳🔳🔳🔳🔳🔳🔳🔳🔳⬜🟥🟦<br>🟦🟦🟦🟦🟦🟦🟦🟦🟦🟦🟦🟦🟦🟦🟦🟦🟦🟦🟦🟦🟦`;\n",
              "    </script>\n",
              "    "
            ],
            "text/plain": [
              "<IPython.core.display.HTML object>"
            ]
          },
          "metadata": {},
          "output_type": "display_data"
        },
        {
          "data": {
            "text/html": [
              "\n",
              "    <script>\n",
              "    document.getElementById('maze').innerHTML = `🟦🟦🟦🟦🟦🟦🟦🟦🟦🟦🟦🟦🟦🟦🟦🟦🟦🟦🟦🟦🟦<br>🟦🔳🟦🔳🔳🔳🔳🔳🔳🔳🔳🔳🟦🔳🔳🔳🔳🔳🔳🔳🟦<br>🟦🔳🟦🔳🟦🟦🟦🟦🟦🟦🟦🔳🟦🔳🟦🟦🟦🟦🟦🔳🟦<br>🟦🔳🔳🔳🟦⬜⬜⬜⬜⬜🟦🔳🔳🔳🟦⬜🟦🔳🔳🔳🟦<br>🟦🟦🟦🟦🟦🟦🟦🟦🟦⬜🟦🟦🟦🟦🟦⬜🟦🔳🟦🟦🟦<br>🟦⬜⬜⬜⬜⬜⬜⬜⬜⬜🟦🔳🔳🔳⬜⬜🟦🔳🟦⬜🟦<br>🟦⬜🟦🟦🟦🟦🟦🟦🟦🟦🟦🔳🟦🔳🟦🟦🟦🔳🟦⬜🟦<br>🟦⬜🟦⬜⬜⬜⬜⬜🟦🔳🔳🔳🟦🔳🔳🔳🔳🔳🟦⬜🟦<br>🟦⬜🟦⬜🟦🟦🟦⬜🟦🔳🟦🟦🟦🟦🟦🟦🟦🟦🟦⬜🟦<br>🟦⬜⬜⬜⬜⬜🟦⬜⬜🔳🔳🔳🔳🔳🔳🔳🔳🔳🔳🟥🟦<br>🟦🟦🟦🟦🟦🟦🟦🟦🟦🟦🟦🟦🟦🟦🟦🟦🟦🟦🟦🟦🟦`;\n",
              "    </script>\n",
              "    "
            ],
            "text/plain": [
              "<IPython.core.display.HTML object>"
            ]
          },
          "metadata": {},
          "output_type": "display_data"
        },
        {
          "data": {
            "text/html": [
              "\n",
              "    <script>\n",
              "    document.getElementById('maze').innerHTML = `🟦🟦🟦🟦🟦🟦🟦🟦🟦🟦🟦🟦🟦🟦🟦🟦🟦🟦🟦🟦🟦<br>🟦🔳🟦🔳🔳🔳🔳🔳🔳🔳🔳🔳🟦🔳🔳🔳🔳🔳🔳🔳🟦<br>🟦🔳🟦🔳🟦🟦🟦🟦🟦🟦🟦🔳🟦🔳🟦🟦🟦🟦🟦🔳🟦<br>🟦🔳🔳🔳🟦⬜⬜⬜⬜⬜🟦🔳🔳🔳🟦⬜🟦🔳🔳🔳🟦<br>🟦🟦🟦🟦🟦🟦🟦🟦🟦⬜🟦🟦🟦🟦🟦⬜🟦🔳🟦🟦🟦<br>🟦⬜⬜⬜⬜⬜⬜⬜⬜⬜🟦🔳🔳🔳⬜⬜🟦🔳🟦⬜🟦<br>🟦⬜🟦🟦🟦🟦🟦🟦🟦🟦🟦🔳🟦🔳🟦🟦🟦🔳🟦⬜🟦<br>🟦⬜🟦⬜⬜⬜⬜⬜🟦🔳🔳🔳🟦🔳🔳🔳🔳🔳🟦⬜🟦<br>🟦⬜🟦⬜🟦🟦🟦⬜🟦🔳🟦🟦🟦🟦🟦🟦🟦🟦🟦⬜🟦<br>🟦⬜⬜⬜⬜⬜🟦⬜⬜🔳🔳🔳🔳🔳🔳🔳🔳🔳🔳🔳🟦<br>🟦🟦🟦🟦🟦🟦🟦🟦🟦🟦🟦🟦🟦🟦🟦🟦🟦🟦🟦🟦🟦`;\n",
              "    </script>\n",
              "    "
            ],
            "text/plain": [
              "<IPython.core.display.HTML object>"
            ]
          },
          "metadata": {},
          "output_type": "display_data"
        }
      ],
      "source": [
        "def dfs(grid):\n",
        "  # Liste des cases déjà visitées initialisé vide\n",
        "  cases_visitees = []\n",
        "  chemin = []\n",
        "\n",
        "  # Tant qu'on a des cases à visiter\n",
        "  while cases_a_visiter:\n",
        "    time.sleep(0.1)\n",
        "    # Retire la première case à visiter\n",
        "    # et l'ajoute dans les cases déjà visitées et le chemin trouvé\n",
        "    case_courante = cases_a_visiter.pop()\n",
        "    cases_visitees.insert(0, case_courante)\n",
        "    chemin.append(case_courante)\n",
        "\n",
        "    # Affiche la case courante dans le graph\n",
        "    x = int(case_courante.center.x)\n",
        "    y = int(case_courante.center.y)\n",
        "    afficherLabyrinthe(labyrinthe.copy(), x, y, [c.center for c in cases_visitees])\n",
        "\n",
        "    # Si on trouve la sortie on sort !\n",
        "    if labyrinthe[y, x] == FIN:\n",
        "      return True, chemin\n",
        "\n",
        "    # Trouve des cases vide autour de la case courante\n",
        "    # et les ajoute à la liste de case à visiter\n",
        "    est_un_cul_de_sac = True\n",
        "\n",
        "    cases_voisines = grid.get_node_neighbors(case_courante, allow_diagonal=False)\n",
        "    \n",
        "    for voisin in cases_voisines:\n",
        "      if voisin.walkable and not voisin in cases_visitees:\n",
        "        cases_a_visiter.append(voisin)\n",
        "        est_un_cul_de_sac = False\n",
        "        \n",
        "    # Si on était dans un cul de sac, on enlève toutes cases jusqu'à la case à visiter\n",
        "    while est_un_cul_de_sac:\n",
        "      case_courante = chemin.pop()\n",
        "      x = case_courante.center.x\n",
        "      y = case_courante.center.y\n",
        "      \n",
        "      cases_voisines = grid.get_node_neighbors(case_courante, allow_diagonal=False)\n",
        "      \n",
        "      for voisin in cases_voisines:\n",
        "        if voisin.walkable and not voisin in cases_visitees:\n",
        "          est_un_cul_de_sac = False\n",
        "\n",
        "      # la case courante fait partie du chemin\n",
        "      if not est_un_cul_de_sac:\n",
        "        chemin.append(case_courante)\n",
        "\n",
        "  return False, chemin\n",
        "\n",
        "\n",
        "# (y, x) pour grid\n",
        "cases_a_visiter = [grid.nodes[1][1]]\n",
        "status, chemin = dfs(grid)\n",
        "\n",
        "# afficher le chemin trouvé\n",
        "maze_copy = labyrinthe.copy()\n",
        "for node in chemin:\n",
        "  x = int(node.center.x)\n",
        "  y = int(node.center.y)\n",
        "  maze_copy[y, x] = CHEMIN\n",
        "  afficherLabyrinthe(maze_copy, 0, 0, [])\n",
        "    "
      ]
    },
    {
      "cell_type": "code",
      "execution_count": null,
      "metadata": {},
      "outputs": [
        {
          "data": {
            "text/html": [
              "\n",
              "    <script>\n",
              "    document.getElementById('maze').innerHTML = `🟦🟦🟦🟦🟦🟦🟦🟦🟦🟦🟦🟦🟦🟦🟦🟦🟦🟦🟦🟦🟦<br>🟦😼🟦⬜⬜⬜⬜⬜⬜⬜⬜⬜🟦⬜⬜⬜⬜⬜⬜⬜🟦<br>🟦⬜🟦⬜🟦🟦🟦🟦🟦🟦🟦⬜🟦⬜🟦🟦🟦🟦🟦⬜🟦<br>🟦⬜⬜⬜🟦⬜⬜⬜⬜⬜🟦⬜⬜⬜🟦⬜🟦⬜⬜⬜🟦<br>🟦🟦🟦🟦🟦🟦🟦🟦🟦⬜🟦🟦🟦🟦🟦⬜🟦⬜🟦🟦🟦<br>🟦⬜⬜⬜⬜⬜⬜⬜⬜⬜🟦⬜⬜⬜⬜⬜🟦⬜🟦⬜🟦<br>🟦⬜🟦🟦🟦🟦🟦🟦🟦🟦🟦⬜🟦⬜🟦🟦🟦⬜🟦⬜🟦<br>🟦⬜🟦⬜⬜⬜⬜⬜🟦⬜⬜⬜🟦⬜⬜⬜⬜⬜🟦⬜🟦<br>🟦⬜🟦⬜🟦🟦🟦⬜🟦⬜🟦🟦🟦🟦🟦🟦🟦🟦🟦⬜🟦<br>🟦⬜⬜⬜⬜⬜🟦⬜⬜⬜⬜⬜⬜⬜⬜⬜⬜⬜⬜🟥🟦<br>🟦🟦🟦🟦🟦🟦🟦🟦🟦🟦🟦🟦🟦🟦🟦🟦🟦🟦🟦🟦🟦`;\n",
              "    </script>\n",
              "    "
            ],
            "text/plain": [
              "<IPython.core.display.HTML object>"
            ]
          },
          "metadata": {},
          "output_type": "display_data"
        },
        {
          "data": {
            "text/html": [
              "\n",
              "    <script>\n",
              "    document.getElementById('maze').innerHTML = `🟦🟦🟦🟦🟦🟦🟦🟦🟦🟦🟦🟦🟦🟦🟦🟦🟦🟦🟦🟦🟦<br>🟦🟨🟦⬜⬜⬜⬜⬜⬜⬜⬜⬜🟦⬜⬜⬜⬜⬜⬜⬜🟦<br>🟦😼🟦⬜🟦🟦🟦🟦🟦🟦🟦⬜🟦⬜🟦🟦🟦🟦🟦⬜🟦<br>🟦⬜⬜⬜🟦⬜⬜⬜⬜⬜🟦⬜⬜⬜🟦⬜🟦⬜⬜⬜🟦<br>🟦🟦🟦🟦🟦🟦🟦🟦🟦⬜🟦🟦🟦🟦🟦⬜🟦⬜🟦🟦🟦<br>🟦⬜⬜⬜⬜⬜⬜⬜⬜⬜🟦⬜⬜⬜⬜⬜🟦⬜🟦⬜🟦<br>🟦⬜🟦🟦🟦🟦🟦🟦🟦🟦🟦⬜🟦⬜🟦🟦🟦⬜🟦⬜🟦<br>🟦⬜🟦⬜⬜⬜⬜⬜🟦⬜⬜⬜🟦⬜⬜⬜⬜⬜🟦⬜🟦<br>🟦⬜🟦⬜🟦🟦🟦⬜🟦⬜🟦🟦🟦🟦🟦🟦🟦🟦🟦⬜🟦<br>🟦⬜⬜⬜⬜⬜🟦⬜⬜⬜⬜⬜⬜⬜⬜⬜⬜⬜⬜🟥🟦<br>🟦🟦🟦🟦🟦🟦🟦🟦🟦🟦🟦🟦🟦🟦🟦🟦🟦🟦🟦🟦🟦`;\n",
              "    </script>\n",
              "    "
            ],
            "text/plain": [
              "<IPython.core.display.HTML object>"
            ]
          },
          "metadata": {},
          "output_type": "display_data"
        },
        {
          "data": {
            "text/html": [
              "\n",
              "    <script>\n",
              "    document.getElementById('maze').innerHTML = `🟦🟦🟦🟦🟦🟦🟦🟦🟦🟦🟦🟦🟦🟦🟦🟦🟦🟦🟦🟦🟦<br>🟦🟨🟦⬜⬜⬜⬜⬜⬜⬜⬜⬜🟦⬜⬜⬜⬜⬜⬜⬜🟦<br>🟦🟨🟦⬜🟦🟦🟦🟦🟦🟦🟦⬜🟦⬜🟦🟦🟦🟦🟦⬜🟦<br>🟦😼⬜⬜🟦⬜⬜⬜⬜⬜🟦⬜⬜⬜🟦⬜🟦⬜⬜⬜🟦<br>🟦🟦🟦🟦🟦🟦🟦🟦🟦⬜🟦🟦🟦🟦🟦⬜🟦⬜🟦🟦🟦<br>🟦⬜⬜⬜⬜⬜⬜⬜⬜⬜🟦⬜⬜⬜⬜⬜🟦⬜🟦⬜🟦<br>🟦⬜🟦🟦🟦🟦🟦🟦🟦🟦🟦⬜🟦⬜🟦🟦🟦⬜🟦⬜🟦<br>🟦⬜🟦⬜⬜⬜⬜⬜🟦⬜⬜⬜🟦⬜⬜⬜⬜⬜🟦⬜🟦<br>🟦⬜🟦⬜🟦🟦🟦⬜🟦⬜🟦🟦🟦🟦🟦🟦🟦🟦🟦⬜🟦<br>🟦⬜⬜⬜⬜⬜🟦⬜⬜⬜⬜⬜⬜⬜⬜⬜⬜⬜⬜🟥🟦<br>🟦🟦🟦🟦🟦🟦🟦🟦🟦🟦🟦🟦🟦🟦🟦🟦🟦🟦🟦🟦🟦`;\n",
              "    </script>\n",
              "    "
            ],
            "text/plain": [
              "<IPython.core.display.HTML object>"
            ]
          },
          "metadata": {},
          "output_type": "display_data"
        },
        {
          "data": {
            "text/html": [
              "\n",
              "    <script>\n",
              "    document.getElementById('maze').innerHTML = `🟦🟦🟦🟦🟦🟦🟦🟦🟦🟦🟦🟦🟦🟦🟦🟦🟦🟦🟦🟦🟦<br>🟦🟨🟦⬜⬜⬜⬜⬜⬜⬜⬜⬜🟦⬜⬜⬜⬜⬜⬜⬜🟦<br>🟦🟨🟦⬜🟦🟦🟦🟦🟦🟦🟦⬜🟦⬜🟦🟦🟦🟦🟦⬜🟦<br>🟦🟨😼⬜🟦⬜⬜⬜⬜⬜🟦⬜⬜⬜🟦⬜🟦⬜⬜⬜🟦<br>🟦🟦🟦🟦🟦🟦🟦🟦🟦⬜🟦🟦🟦🟦🟦⬜🟦⬜🟦🟦🟦<br>🟦⬜⬜⬜⬜⬜⬜⬜⬜⬜🟦⬜⬜⬜⬜⬜🟦⬜🟦⬜🟦<br>🟦⬜🟦🟦🟦🟦🟦🟦🟦🟦🟦⬜🟦⬜🟦🟦🟦⬜🟦⬜🟦<br>🟦⬜🟦⬜⬜⬜⬜⬜🟦⬜⬜⬜🟦⬜⬜⬜⬜⬜🟦⬜🟦<br>🟦⬜🟦⬜🟦🟦🟦⬜🟦⬜🟦🟦🟦🟦🟦🟦🟦🟦🟦⬜🟦<br>🟦⬜⬜⬜⬜⬜🟦⬜⬜⬜⬜⬜⬜⬜⬜⬜⬜⬜⬜🟥🟦<br>🟦🟦🟦🟦🟦🟦🟦🟦🟦🟦🟦🟦🟦🟦🟦🟦🟦🟦🟦🟦🟦`;\n",
              "    </script>\n",
              "    "
            ],
            "text/plain": [
              "<IPython.core.display.HTML object>"
            ]
          },
          "metadata": {},
          "output_type": "display_data"
        },
        {
          "data": {
            "text/html": [
              "\n",
              "    <script>\n",
              "    document.getElementById('maze').innerHTML = `🟦🟦🟦🟦🟦🟦🟦🟦🟦🟦🟦🟦🟦🟦🟦🟦🟦🟦🟦🟦🟦<br>🟦🟨🟦⬜⬜⬜⬜⬜⬜⬜⬜⬜🟦⬜⬜⬜⬜⬜⬜⬜🟦<br>🟦🟨🟦⬜🟦🟦🟦🟦🟦🟦🟦⬜🟦⬜🟦🟦🟦🟦🟦⬜🟦<br>🟦🟨🟨😼🟦⬜⬜⬜⬜⬜🟦⬜⬜⬜🟦⬜🟦⬜⬜⬜🟦<br>🟦🟦🟦🟦🟦🟦🟦🟦🟦⬜🟦🟦🟦🟦🟦⬜🟦⬜🟦🟦🟦<br>🟦⬜⬜⬜⬜⬜⬜⬜⬜⬜🟦⬜⬜⬜⬜⬜🟦⬜🟦⬜🟦<br>🟦⬜🟦🟦🟦🟦🟦🟦🟦🟦🟦⬜🟦⬜🟦🟦🟦⬜🟦⬜🟦<br>🟦⬜🟦⬜⬜⬜⬜⬜🟦⬜⬜⬜🟦⬜⬜⬜⬜⬜🟦⬜🟦<br>🟦⬜🟦⬜🟦🟦🟦⬜🟦⬜🟦🟦🟦🟦🟦🟦🟦🟦🟦⬜🟦<br>🟦⬜⬜⬜⬜⬜🟦⬜⬜⬜⬜⬜⬜⬜⬜⬜⬜⬜⬜🟥🟦<br>🟦🟦🟦🟦🟦🟦🟦🟦🟦🟦🟦🟦🟦🟦🟦🟦🟦🟦🟦🟦🟦`;\n",
              "    </script>\n",
              "    "
            ],
            "text/plain": [
              "<IPython.core.display.HTML object>"
            ]
          },
          "metadata": {},
          "output_type": "display_data"
        },
        {
          "data": {
            "text/html": [
              "\n",
              "    <script>\n",
              "    document.getElementById('maze').innerHTML = `🟦🟦🟦🟦🟦🟦🟦🟦🟦🟦🟦🟦🟦🟦🟦🟦🟦🟦🟦🟦🟦<br>🟦🟨🟦⬜⬜⬜⬜⬜⬜⬜⬜⬜🟦⬜⬜⬜⬜⬜⬜⬜🟦<br>🟦🟨🟦😼🟦🟦🟦🟦🟦🟦🟦⬜🟦⬜🟦🟦🟦🟦🟦⬜🟦<br>🟦🟨🟨🟨🟦⬜⬜⬜⬜⬜🟦⬜⬜⬜🟦⬜🟦⬜⬜⬜🟦<br>🟦🟦🟦🟦🟦🟦🟦🟦🟦⬜🟦🟦🟦🟦🟦⬜🟦⬜🟦🟦🟦<br>🟦⬜⬜⬜⬜⬜⬜⬜⬜⬜🟦⬜⬜⬜⬜⬜🟦⬜🟦⬜🟦<br>🟦⬜🟦🟦🟦🟦🟦🟦🟦🟦🟦⬜🟦⬜🟦🟦🟦⬜🟦⬜🟦<br>🟦⬜🟦⬜⬜⬜⬜⬜🟦⬜⬜⬜🟦⬜⬜⬜⬜⬜🟦⬜🟦<br>🟦⬜🟦⬜🟦🟦🟦⬜🟦⬜🟦🟦🟦🟦🟦🟦🟦🟦🟦⬜🟦<br>🟦⬜⬜⬜⬜⬜🟦⬜⬜⬜⬜⬜⬜⬜⬜⬜⬜⬜⬜🟥🟦<br>🟦🟦🟦🟦🟦🟦🟦🟦🟦🟦🟦🟦🟦🟦🟦🟦🟦🟦🟦🟦🟦`;\n",
              "    </script>\n",
              "    "
            ],
            "text/plain": [
              "<IPython.core.display.HTML object>"
            ]
          },
          "metadata": {},
          "output_type": "display_data"
        },
        {
          "data": {
            "text/html": [
              "\n",
              "    <script>\n",
              "    document.getElementById('maze').innerHTML = `🟦🟦🟦🟦🟦🟦🟦🟦🟦🟦🟦🟦🟦🟦🟦🟦🟦🟦🟦🟦🟦<br>🟦🟨🟦😼⬜⬜⬜⬜⬜⬜⬜⬜🟦⬜⬜⬜⬜⬜⬜⬜🟦<br>🟦🟨🟦🟨🟦🟦🟦🟦🟦🟦🟦⬜🟦⬜🟦🟦🟦🟦🟦⬜🟦<br>🟦🟨🟨🟨🟦⬜⬜⬜⬜⬜🟦⬜⬜⬜🟦⬜🟦⬜⬜⬜🟦<br>🟦🟦🟦🟦🟦🟦🟦🟦🟦⬜🟦🟦🟦🟦🟦⬜🟦⬜🟦🟦🟦<br>🟦⬜⬜⬜⬜⬜⬜⬜⬜⬜🟦⬜⬜⬜⬜⬜🟦⬜🟦⬜🟦<br>🟦⬜🟦🟦🟦🟦🟦🟦🟦🟦🟦⬜🟦⬜🟦🟦🟦⬜🟦⬜🟦<br>🟦⬜🟦⬜⬜⬜⬜⬜🟦⬜⬜⬜🟦⬜⬜⬜⬜⬜🟦⬜🟦<br>🟦⬜🟦⬜🟦🟦🟦⬜🟦⬜🟦🟦🟦🟦🟦🟦🟦🟦🟦⬜🟦<br>🟦⬜⬜⬜⬜⬜🟦⬜⬜⬜⬜⬜⬜⬜⬜⬜⬜⬜⬜🟥🟦<br>🟦🟦🟦🟦🟦🟦🟦🟦🟦🟦🟦🟦🟦🟦🟦🟦🟦🟦🟦🟦🟦`;\n",
              "    </script>\n",
              "    "
            ],
            "text/plain": [
              "<IPython.core.display.HTML object>"
            ]
          },
          "metadata": {},
          "output_type": "display_data"
        },
        {
          "data": {
            "text/html": [
              "\n",
              "    <script>\n",
              "    document.getElementById('maze').innerHTML = `🟦🟦🟦🟦🟦🟦🟦🟦🟦🟦🟦🟦🟦🟦🟦🟦🟦🟦🟦🟦🟦<br>🟦🟨🟦🟨😼⬜⬜⬜⬜⬜⬜⬜🟦⬜⬜⬜⬜⬜⬜⬜🟦<br>🟦🟨🟦🟨🟦🟦🟦🟦🟦🟦🟦⬜🟦⬜🟦🟦🟦🟦🟦⬜🟦<br>🟦🟨🟨🟨🟦⬜⬜⬜⬜⬜🟦⬜⬜⬜🟦⬜🟦⬜⬜⬜🟦<br>🟦🟦🟦🟦🟦🟦🟦🟦🟦⬜🟦🟦🟦🟦🟦⬜🟦⬜🟦🟦🟦<br>🟦⬜⬜⬜⬜⬜⬜⬜⬜⬜🟦⬜⬜⬜⬜⬜🟦⬜🟦⬜🟦<br>🟦⬜🟦🟦🟦🟦🟦🟦🟦🟦🟦⬜🟦⬜🟦🟦🟦⬜🟦⬜🟦<br>🟦⬜🟦⬜⬜⬜⬜⬜🟦⬜⬜⬜🟦⬜⬜⬜⬜⬜🟦⬜🟦<br>🟦⬜🟦⬜🟦🟦🟦⬜🟦⬜🟦🟦🟦🟦🟦🟦🟦🟦🟦⬜🟦<br>🟦⬜⬜⬜⬜⬜🟦⬜⬜⬜⬜⬜⬜⬜⬜⬜⬜⬜⬜🟥🟦<br>🟦🟦🟦🟦🟦🟦🟦🟦🟦🟦🟦🟦🟦🟦🟦🟦🟦🟦🟦🟦🟦`;\n",
              "    </script>\n",
              "    "
            ],
            "text/plain": [
              "<IPython.core.display.HTML object>"
            ]
          },
          "metadata": {},
          "output_type": "display_data"
        },
        {
          "data": {
            "text/html": [
              "\n",
              "    <script>\n",
              "    document.getElementById('maze').innerHTML = `🟦🟦🟦🟦🟦🟦🟦🟦🟦🟦🟦🟦🟦🟦🟦🟦🟦🟦🟦🟦🟦<br>🟦🟨🟦🟨🟨😼⬜⬜⬜⬜⬜⬜🟦⬜⬜⬜⬜⬜⬜⬜🟦<br>🟦🟨🟦🟨🟦🟦🟦🟦🟦🟦🟦⬜🟦⬜🟦🟦🟦🟦🟦⬜🟦<br>🟦🟨🟨🟨🟦⬜⬜⬜⬜⬜🟦⬜⬜⬜🟦⬜🟦⬜⬜⬜🟦<br>🟦🟦🟦🟦🟦🟦🟦🟦🟦⬜🟦🟦🟦🟦🟦⬜🟦⬜🟦🟦🟦<br>🟦⬜⬜⬜⬜⬜⬜⬜⬜⬜🟦⬜⬜⬜⬜⬜🟦⬜🟦⬜🟦<br>🟦⬜🟦🟦🟦🟦🟦🟦🟦🟦🟦⬜🟦⬜🟦🟦🟦⬜🟦⬜🟦<br>🟦⬜🟦⬜⬜⬜⬜⬜🟦⬜⬜⬜🟦⬜⬜⬜⬜⬜🟦⬜🟦<br>🟦⬜🟦⬜🟦🟦🟦⬜🟦⬜🟦🟦🟦🟦🟦🟦🟦🟦🟦⬜🟦<br>🟦⬜⬜⬜⬜⬜🟦⬜⬜⬜⬜⬜⬜⬜⬜⬜⬜⬜⬜🟥🟦<br>🟦🟦🟦🟦🟦🟦🟦🟦🟦🟦🟦🟦🟦🟦🟦🟦🟦🟦🟦🟦🟦`;\n",
              "    </script>\n",
              "    "
            ],
            "text/plain": [
              "<IPython.core.display.HTML object>"
            ]
          },
          "metadata": {},
          "output_type": "display_data"
        },
        {
          "data": {
            "text/html": [
              "\n",
              "    <script>\n",
              "    document.getElementById('maze').innerHTML = `🟦🟦🟦🟦🟦🟦🟦🟦🟦🟦🟦🟦🟦🟦🟦🟦🟦🟦🟦🟦🟦<br>🟦🟨🟦🟨🟨🟨😼⬜⬜⬜⬜⬜🟦⬜⬜⬜⬜⬜⬜⬜🟦<br>🟦🟨🟦🟨🟦🟦🟦🟦🟦🟦🟦⬜🟦⬜🟦🟦🟦🟦🟦⬜🟦<br>🟦🟨🟨🟨🟦⬜⬜⬜⬜⬜🟦⬜⬜⬜🟦⬜🟦⬜⬜⬜🟦<br>🟦🟦🟦🟦🟦🟦🟦🟦🟦⬜🟦🟦🟦🟦🟦⬜🟦⬜🟦🟦🟦<br>🟦⬜⬜⬜⬜⬜⬜⬜⬜⬜🟦⬜⬜⬜⬜⬜🟦⬜🟦⬜🟦<br>🟦⬜🟦🟦🟦🟦🟦🟦🟦🟦🟦⬜🟦⬜🟦🟦🟦⬜🟦⬜🟦<br>🟦⬜🟦⬜⬜⬜⬜⬜🟦⬜⬜⬜🟦⬜⬜⬜⬜⬜🟦⬜🟦<br>🟦⬜🟦⬜🟦🟦🟦⬜🟦⬜🟦🟦🟦🟦🟦🟦🟦🟦🟦⬜🟦<br>🟦⬜⬜⬜⬜⬜🟦⬜⬜⬜⬜⬜⬜⬜⬜⬜⬜⬜⬜🟥🟦<br>🟦🟦🟦🟦🟦🟦🟦🟦🟦🟦🟦🟦🟦🟦🟦🟦🟦🟦🟦🟦🟦`;\n",
              "    </script>\n",
              "    "
            ],
            "text/plain": [
              "<IPython.core.display.HTML object>"
            ]
          },
          "metadata": {},
          "output_type": "display_data"
        },
        {
          "data": {
            "text/html": [
              "\n",
              "    <script>\n",
              "    document.getElementById('maze').innerHTML = `🟦🟦🟦🟦🟦🟦🟦🟦🟦🟦🟦🟦🟦🟦🟦🟦🟦🟦🟦🟦🟦<br>🟦🟨🟦🟨🟨🟨🟨😼⬜⬜⬜⬜🟦⬜⬜⬜⬜⬜⬜⬜🟦<br>🟦🟨🟦🟨🟦🟦🟦🟦🟦🟦🟦⬜🟦⬜🟦🟦🟦🟦🟦⬜🟦<br>🟦🟨🟨🟨🟦⬜⬜⬜⬜⬜🟦⬜⬜⬜🟦⬜🟦⬜⬜⬜🟦<br>🟦🟦🟦🟦🟦🟦🟦🟦🟦⬜🟦🟦🟦🟦🟦⬜🟦⬜🟦🟦🟦<br>🟦⬜⬜⬜⬜⬜⬜⬜⬜⬜🟦⬜⬜⬜⬜⬜🟦⬜🟦⬜🟦<br>🟦⬜🟦🟦🟦🟦🟦🟦🟦🟦🟦⬜🟦⬜🟦🟦🟦⬜🟦⬜🟦<br>🟦⬜🟦⬜⬜⬜⬜⬜🟦⬜⬜⬜🟦⬜⬜⬜⬜⬜🟦⬜🟦<br>🟦⬜🟦⬜🟦🟦🟦⬜🟦⬜🟦🟦🟦🟦🟦🟦🟦🟦🟦⬜🟦<br>🟦⬜⬜⬜⬜⬜🟦⬜⬜⬜⬜⬜⬜⬜⬜⬜⬜⬜⬜🟥🟦<br>🟦🟦🟦🟦🟦🟦🟦🟦🟦🟦🟦🟦🟦🟦🟦🟦🟦🟦🟦🟦🟦`;\n",
              "    </script>\n",
              "    "
            ],
            "text/plain": [
              "<IPython.core.display.HTML object>"
            ]
          },
          "metadata": {},
          "output_type": "display_data"
        },
        {
          "data": {
            "text/html": [
              "\n",
              "    <script>\n",
              "    document.getElementById('maze').innerHTML = `🟦🟦🟦🟦🟦🟦🟦🟦🟦🟦🟦🟦🟦🟦🟦🟦🟦🟦🟦🟦🟦<br>🟦🟨🟦🟨🟨🟨🟨🟨😼⬜⬜⬜🟦⬜⬜⬜⬜⬜⬜⬜🟦<br>🟦🟨🟦🟨🟦🟦🟦🟦🟦🟦🟦⬜🟦⬜🟦🟦🟦🟦🟦⬜🟦<br>🟦🟨🟨🟨🟦⬜⬜⬜⬜⬜🟦⬜⬜⬜🟦⬜🟦⬜⬜⬜🟦<br>🟦🟦🟦🟦🟦🟦🟦🟦🟦⬜🟦🟦🟦🟦🟦⬜🟦⬜🟦🟦🟦<br>🟦⬜⬜⬜⬜⬜⬜⬜⬜⬜🟦⬜⬜⬜⬜⬜🟦⬜🟦⬜🟦<br>🟦⬜🟦🟦🟦🟦🟦🟦🟦🟦🟦⬜🟦⬜🟦🟦🟦⬜🟦⬜🟦<br>🟦⬜🟦⬜⬜⬜⬜⬜🟦⬜⬜⬜🟦⬜⬜⬜⬜⬜🟦⬜🟦<br>🟦⬜🟦⬜🟦🟦🟦⬜🟦⬜🟦🟦🟦🟦🟦🟦🟦🟦🟦⬜🟦<br>🟦⬜⬜⬜⬜⬜🟦⬜⬜⬜⬜⬜⬜⬜⬜⬜⬜⬜⬜🟥🟦<br>🟦🟦🟦🟦🟦🟦🟦🟦🟦🟦🟦🟦🟦🟦🟦🟦🟦🟦🟦🟦🟦`;\n",
              "    </script>\n",
              "    "
            ],
            "text/plain": [
              "<IPython.core.display.HTML object>"
            ]
          },
          "metadata": {},
          "output_type": "display_data"
        },
        {
          "data": {
            "text/html": [
              "\n",
              "    <script>\n",
              "    document.getElementById('maze').innerHTML = `🟦🟦🟦🟦🟦🟦🟦🟦🟦🟦🟦🟦🟦🟦🟦🟦🟦🟦🟦🟦🟦<br>🟦🟨🟦🟨🟨🟨🟨🟨🟨😼⬜⬜🟦⬜⬜⬜⬜⬜⬜⬜🟦<br>🟦🟨🟦🟨🟦🟦🟦🟦🟦🟦🟦⬜🟦⬜🟦🟦🟦🟦🟦⬜🟦<br>🟦🟨🟨🟨🟦⬜⬜⬜⬜⬜🟦⬜⬜⬜🟦⬜🟦⬜⬜⬜🟦<br>🟦🟦🟦🟦🟦🟦🟦🟦🟦⬜🟦🟦🟦🟦🟦⬜🟦⬜🟦🟦🟦<br>🟦⬜⬜⬜⬜⬜⬜⬜⬜⬜🟦⬜⬜⬜⬜⬜🟦⬜🟦⬜🟦<br>🟦⬜🟦🟦🟦🟦🟦🟦🟦🟦🟦⬜🟦⬜🟦🟦🟦⬜🟦⬜🟦<br>🟦⬜🟦⬜⬜⬜⬜⬜🟦⬜⬜⬜🟦⬜⬜⬜⬜⬜🟦⬜🟦<br>🟦⬜🟦⬜🟦🟦🟦⬜🟦⬜🟦🟦🟦🟦🟦🟦🟦🟦🟦⬜🟦<br>🟦⬜⬜⬜⬜⬜🟦⬜⬜⬜⬜⬜⬜⬜⬜⬜⬜⬜⬜🟥🟦<br>🟦🟦🟦🟦🟦🟦🟦🟦🟦🟦🟦🟦🟦🟦🟦🟦🟦🟦🟦🟦🟦`;\n",
              "    </script>\n",
              "    "
            ],
            "text/plain": [
              "<IPython.core.display.HTML object>"
            ]
          },
          "metadata": {},
          "output_type": "display_data"
        },
        {
          "data": {
            "text/html": [
              "\n",
              "    <script>\n",
              "    document.getElementById('maze').innerHTML = `🟦🟦🟦🟦🟦🟦🟦🟦🟦🟦🟦🟦🟦🟦🟦🟦🟦🟦🟦🟦🟦<br>🟦🟨🟦🟨🟨🟨🟨🟨🟨🟨😼⬜🟦⬜⬜⬜⬜⬜⬜⬜🟦<br>🟦🟨🟦🟨🟦🟦🟦🟦🟦🟦🟦⬜🟦⬜🟦🟦🟦🟦🟦⬜🟦<br>🟦🟨🟨🟨🟦⬜⬜⬜⬜⬜🟦⬜⬜⬜🟦⬜🟦⬜⬜⬜🟦<br>🟦🟦🟦🟦🟦🟦🟦🟦🟦⬜🟦🟦🟦🟦🟦⬜🟦⬜🟦🟦🟦<br>🟦⬜⬜⬜⬜⬜⬜⬜⬜⬜🟦⬜⬜⬜⬜⬜🟦⬜🟦⬜🟦<br>🟦⬜🟦🟦🟦🟦🟦🟦🟦🟦🟦⬜🟦⬜🟦🟦🟦⬜🟦⬜🟦<br>🟦⬜🟦⬜⬜⬜⬜⬜🟦⬜⬜⬜🟦⬜⬜⬜⬜⬜🟦⬜🟦<br>🟦⬜🟦⬜🟦🟦🟦⬜🟦⬜🟦🟦🟦🟦🟦🟦🟦🟦🟦⬜🟦<br>🟦⬜⬜⬜⬜⬜🟦⬜⬜⬜⬜⬜⬜⬜⬜⬜⬜⬜⬜🟥🟦<br>🟦🟦🟦🟦🟦🟦🟦🟦🟦🟦🟦🟦🟦🟦🟦🟦🟦🟦🟦🟦🟦`;\n",
              "    </script>\n",
              "    "
            ],
            "text/plain": [
              "<IPython.core.display.HTML object>"
            ]
          },
          "metadata": {},
          "output_type": "display_data"
        },
        {
          "data": {
            "text/html": [
              "\n",
              "    <script>\n",
              "    document.getElementById('maze').innerHTML = `🟦🟦🟦🟦🟦🟦🟦🟦🟦🟦🟦🟦🟦🟦🟦🟦🟦🟦🟦🟦🟦<br>🟦🟨🟦🟨🟨🟨🟨🟨🟨🟨🟨😼🟦⬜⬜⬜⬜⬜⬜⬜🟦<br>🟦🟨🟦🟨🟦🟦🟦🟦🟦🟦🟦⬜🟦⬜🟦🟦🟦🟦🟦⬜🟦<br>🟦🟨🟨🟨🟦⬜⬜⬜⬜⬜🟦⬜⬜⬜🟦⬜🟦⬜⬜⬜🟦<br>🟦🟦🟦🟦🟦🟦🟦🟦🟦⬜🟦🟦🟦🟦🟦⬜🟦⬜🟦🟦🟦<br>🟦⬜⬜⬜⬜⬜⬜⬜⬜⬜🟦⬜⬜⬜⬜⬜🟦⬜🟦⬜🟦<br>🟦⬜🟦🟦🟦🟦🟦🟦🟦🟦🟦⬜🟦⬜🟦🟦🟦⬜🟦⬜🟦<br>🟦⬜🟦⬜⬜⬜⬜⬜🟦⬜⬜⬜🟦⬜⬜⬜⬜⬜🟦⬜🟦<br>🟦⬜🟦⬜🟦🟦🟦⬜🟦⬜🟦🟦🟦🟦🟦🟦🟦🟦🟦⬜🟦<br>🟦⬜⬜⬜⬜⬜🟦⬜⬜⬜⬜⬜⬜⬜⬜⬜⬜⬜⬜🟥🟦<br>🟦🟦🟦🟦🟦🟦🟦🟦🟦🟦🟦🟦🟦🟦🟦🟦🟦🟦🟦🟦🟦`;\n",
              "    </script>\n",
              "    "
            ],
            "text/plain": [
              "<IPython.core.display.HTML object>"
            ]
          },
          "metadata": {},
          "output_type": "display_data"
        },
        {
          "data": {
            "text/html": [
              "\n",
              "    <script>\n",
              "    document.getElementById('maze').innerHTML = `🟦🟦🟦🟦🟦🟦🟦🟦🟦🟦🟦🟦🟦🟦🟦🟦🟦🟦🟦🟦🟦<br>🟦🟨🟦🟨🟨🟨🟨🟨🟨🟨🟨🟨🟦⬜⬜⬜⬜⬜⬜⬜🟦<br>🟦🟨🟦🟨🟦🟦🟦🟦🟦🟦🟦😼🟦⬜🟦🟦🟦🟦🟦⬜🟦<br>🟦🟨🟨🟨🟦⬜⬜⬜⬜⬜🟦⬜⬜⬜🟦⬜🟦⬜⬜⬜🟦<br>🟦🟦🟦🟦🟦🟦🟦🟦🟦⬜🟦🟦🟦🟦🟦⬜🟦⬜🟦🟦🟦<br>🟦⬜⬜⬜⬜⬜⬜⬜⬜⬜🟦⬜⬜⬜⬜⬜🟦⬜🟦⬜🟦<br>🟦⬜🟦🟦🟦🟦🟦🟦🟦🟦🟦⬜🟦⬜🟦🟦🟦⬜🟦⬜🟦<br>🟦⬜🟦⬜⬜⬜⬜⬜🟦⬜⬜⬜🟦⬜⬜⬜⬜⬜🟦⬜🟦<br>🟦⬜🟦⬜🟦🟦🟦⬜🟦⬜🟦🟦🟦🟦🟦🟦🟦🟦🟦⬜🟦<br>🟦⬜⬜⬜⬜⬜🟦⬜⬜⬜⬜⬜⬜⬜⬜⬜⬜⬜⬜🟥🟦<br>🟦🟦🟦🟦🟦🟦🟦🟦🟦🟦🟦🟦🟦🟦🟦🟦🟦🟦🟦🟦🟦`;\n",
              "    </script>\n",
              "    "
            ],
            "text/plain": [
              "<IPython.core.display.HTML object>"
            ]
          },
          "metadata": {},
          "output_type": "display_data"
        },
        {
          "data": {
            "text/html": [
              "\n",
              "    <script>\n",
              "    document.getElementById('maze').innerHTML = `🟦🟦🟦🟦🟦🟦🟦🟦🟦🟦🟦🟦🟦🟦🟦🟦🟦🟦🟦🟦🟦<br>🟦🟨🟦🟨🟨🟨🟨🟨🟨🟨🟨🟨🟦⬜⬜⬜⬜⬜⬜⬜🟦<br>🟦🟨🟦🟨🟦🟦🟦🟦🟦🟦🟦🟨🟦⬜🟦🟦🟦🟦🟦⬜🟦<br>🟦🟨🟨🟨🟦⬜⬜⬜⬜⬜🟦😼⬜⬜🟦⬜🟦⬜⬜⬜🟦<br>🟦🟦🟦🟦🟦🟦🟦🟦🟦⬜🟦🟦🟦🟦🟦⬜🟦⬜🟦🟦🟦<br>🟦⬜⬜⬜⬜⬜⬜⬜⬜⬜🟦⬜⬜⬜⬜⬜🟦⬜🟦⬜🟦<br>🟦⬜🟦🟦🟦🟦🟦🟦🟦🟦🟦⬜🟦⬜🟦🟦🟦⬜🟦⬜🟦<br>🟦⬜🟦⬜⬜⬜⬜⬜🟦⬜⬜⬜🟦⬜⬜⬜⬜⬜🟦⬜🟦<br>🟦⬜🟦⬜🟦🟦🟦⬜🟦⬜🟦🟦🟦🟦🟦🟦🟦🟦🟦⬜🟦<br>🟦⬜⬜⬜⬜⬜🟦⬜⬜⬜⬜⬜⬜⬜⬜⬜⬜⬜⬜🟥🟦<br>🟦🟦🟦🟦🟦🟦🟦🟦🟦🟦🟦🟦🟦🟦🟦🟦🟦🟦🟦🟦🟦`;\n",
              "    </script>\n",
              "    "
            ],
            "text/plain": [
              "<IPython.core.display.HTML object>"
            ]
          },
          "metadata": {},
          "output_type": "display_data"
        },
        {
          "data": {
            "text/html": [
              "\n",
              "    <script>\n",
              "    document.getElementById('maze').innerHTML = `🟦🟦🟦🟦🟦🟦🟦🟦🟦🟦🟦🟦🟦🟦🟦🟦🟦🟦🟦🟦🟦<br>🟦🟨🟦🟨🟨🟨🟨🟨🟨🟨🟨🟨🟦⬜⬜⬜⬜⬜⬜⬜🟦<br>🟦🟨🟦🟨🟦🟦🟦🟦🟦🟦🟦🟨🟦⬜🟦🟦🟦🟦🟦⬜🟦<br>🟦🟨🟨🟨🟦⬜⬜⬜⬜⬜🟦🟨😼⬜🟦⬜🟦⬜⬜⬜🟦<br>🟦🟦🟦🟦🟦🟦🟦🟦🟦⬜🟦🟦🟦🟦🟦⬜🟦⬜🟦🟦🟦<br>🟦⬜⬜⬜⬜⬜⬜⬜⬜⬜🟦⬜⬜⬜⬜⬜🟦⬜🟦⬜🟦<br>🟦⬜🟦🟦🟦🟦🟦🟦🟦🟦🟦⬜🟦⬜🟦🟦🟦⬜🟦⬜🟦<br>🟦⬜🟦⬜⬜⬜⬜⬜🟦⬜⬜⬜🟦⬜⬜⬜⬜⬜🟦⬜🟦<br>🟦⬜🟦⬜🟦🟦🟦⬜🟦⬜🟦🟦🟦🟦🟦🟦🟦🟦🟦⬜🟦<br>🟦⬜⬜⬜⬜⬜🟦⬜⬜⬜⬜⬜⬜⬜⬜⬜⬜⬜⬜🟥🟦<br>🟦🟦🟦🟦🟦🟦🟦🟦🟦🟦🟦🟦🟦🟦🟦🟦🟦🟦🟦🟦🟦`;\n",
              "    </script>\n",
              "    "
            ],
            "text/plain": [
              "<IPython.core.display.HTML object>"
            ]
          },
          "metadata": {},
          "output_type": "display_data"
        },
        {
          "data": {
            "text/html": [
              "\n",
              "    <script>\n",
              "    document.getElementById('maze').innerHTML = `🟦🟦🟦🟦🟦🟦🟦🟦🟦🟦🟦🟦🟦🟦🟦🟦🟦🟦🟦🟦🟦<br>🟦🟨🟦🟨🟨🟨🟨🟨🟨🟨🟨🟨🟦⬜⬜⬜⬜⬜⬜⬜🟦<br>🟦🟨🟦🟨🟦🟦🟦🟦🟦🟦🟦🟨🟦⬜🟦🟦🟦🟦🟦⬜🟦<br>🟦🟨🟨🟨🟦⬜⬜⬜⬜⬜🟦🟨🟨😼🟦⬜🟦⬜⬜⬜🟦<br>🟦🟦🟦🟦🟦🟦🟦🟦🟦⬜🟦🟦🟦🟦🟦⬜🟦⬜🟦🟦🟦<br>🟦⬜⬜⬜⬜⬜⬜⬜⬜⬜🟦⬜⬜⬜⬜⬜🟦⬜🟦⬜🟦<br>🟦⬜🟦🟦🟦🟦🟦🟦🟦🟦🟦⬜🟦⬜🟦🟦🟦⬜🟦⬜🟦<br>🟦⬜🟦⬜⬜⬜⬜⬜🟦⬜⬜⬜🟦⬜⬜⬜⬜⬜🟦⬜🟦<br>🟦⬜🟦⬜🟦🟦🟦⬜🟦⬜🟦🟦🟦🟦🟦🟦🟦🟦🟦⬜🟦<br>🟦⬜⬜⬜⬜⬜🟦⬜⬜⬜⬜⬜⬜⬜⬜⬜⬜⬜⬜🟥🟦<br>🟦🟦🟦🟦🟦🟦🟦🟦🟦🟦🟦🟦🟦🟦🟦🟦🟦🟦🟦🟦🟦`;\n",
              "    </script>\n",
              "    "
            ],
            "text/plain": [
              "<IPython.core.display.HTML object>"
            ]
          },
          "metadata": {},
          "output_type": "display_data"
        },
        {
          "data": {
            "text/html": [
              "\n",
              "    <script>\n",
              "    document.getElementById('maze').innerHTML = `🟦🟦🟦🟦🟦🟦🟦🟦🟦🟦🟦🟦🟦🟦🟦🟦🟦🟦🟦🟦🟦<br>🟦🟨🟦🟨🟨🟨🟨🟨🟨🟨🟨🟨🟦⬜⬜⬜⬜⬜⬜⬜🟦<br>🟦🟨🟦🟨🟦🟦🟦🟦🟦🟦🟦🟨🟦😼🟦🟦🟦🟦🟦⬜🟦<br>🟦🟨🟨🟨🟦⬜⬜⬜⬜⬜🟦🟨🟨🟨🟦⬜🟦⬜⬜⬜🟦<br>🟦🟦🟦🟦🟦🟦🟦🟦🟦⬜🟦🟦🟦🟦🟦⬜🟦⬜🟦🟦🟦<br>🟦⬜⬜⬜⬜⬜⬜⬜⬜⬜🟦⬜⬜⬜⬜⬜🟦⬜🟦⬜🟦<br>🟦⬜🟦🟦🟦🟦🟦🟦🟦🟦🟦⬜🟦⬜🟦🟦🟦⬜🟦⬜🟦<br>🟦⬜🟦⬜⬜⬜⬜⬜🟦⬜⬜⬜🟦⬜⬜⬜⬜⬜🟦⬜🟦<br>🟦⬜🟦⬜🟦🟦🟦⬜🟦⬜🟦🟦🟦🟦🟦🟦🟦🟦🟦⬜🟦<br>🟦⬜⬜⬜⬜⬜🟦⬜⬜⬜⬜⬜⬜⬜⬜⬜⬜⬜⬜🟥🟦<br>🟦🟦🟦🟦🟦🟦🟦🟦🟦🟦🟦🟦🟦🟦🟦🟦🟦🟦🟦🟦🟦`;\n",
              "    </script>\n",
              "    "
            ],
            "text/plain": [
              "<IPython.core.display.HTML object>"
            ]
          },
          "metadata": {},
          "output_type": "display_data"
        },
        {
          "data": {
            "text/html": [
              "\n",
              "    <script>\n",
              "    document.getElementById('maze').innerHTML = `🟦🟦🟦🟦🟦🟦🟦🟦🟦🟦🟦🟦🟦🟦🟦🟦🟦🟦🟦🟦🟦<br>🟦🟨🟦🟨🟨🟨🟨🟨🟨🟨🟨🟨🟦😼⬜⬜⬜⬜⬜⬜🟦<br>🟦🟨🟦🟨🟦🟦🟦🟦🟦🟦🟦🟨🟦🟨🟦🟦🟦🟦🟦⬜🟦<br>🟦🟨🟨🟨🟦⬜⬜⬜⬜⬜🟦🟨🟨🟨🟦⬜🟦⬜⬜⬜🟦<br>🟦🟦🟦🟦🟦🟦🟦🟦🟦⬜🟦🟦🟦🟦🟦⬜🟦⬜🟦🟦🟦<br>🟦⬜⬜⬜⬜⬜⬜⬜⬜⬜🟦⬜⬜⬜⬜⬜🟦⬜🟦⬜🟦<br>🟦⬜🟦🟦🟦🟦🟦🟦🟦🟦🟦⬜🟦⬜🟦🟦🟦⬜🟦⬜🟦<br>🟦⬜🟦⬜⬜⬜⬜⬜🟦⬜⬜⬜🟦⬜⬜⬜⬜⬜🟦⬜🟦<br>🟦⬜🟦⬜🟦🟦🟦⬜🟦⬜🟦🟦🟦🟦🟦🟦🟦🟦🟦⬜🟦<br>🟦⬜⬜⬜⬜⬜🟦⬜⬜⬜⬜⬜⬜⬜⬜⬜⬜⬜⬜🟥🟦<br>🟦🟦🟦🟦🟦🟦🟦🟦🟦🟦🟦🟦🟦🟦🟦🟦🟦🟦🟦🟦🟦`;\n",
              "    </script>\n",
              "    "
            ],
            "text/plain": [
              "<IPython.core.display.HTML object>"
            ]
          },
          "metadata": {},
          "output_type": "display_data"
        },
        {
          "data": {
            "text/html": [
              "\n",
              "    <script>\n",
              "    document.getElementById('maze').innerHTML = `🟦🟦🟦🟦🟦🟦🟦🟦🟦🟦🟦🟦🟦🟦🟦🟦🟦🟦🟦🟦🟦<br>🟦🟨🟦🟨🟨🟨🟨🟨🟨🟨🟨🟨🟦🟨😼⬜⬜⬜⬜⬜🟦<br>🟦🟨🟦🟨🟦🟦🟦🟦🟦🟦🟦🟨🟦🟨🟦🟦🟦🟦🟦⬜🟦<br>🟦🟨🟨🟨🟦⬜⬜⬜⬜⬜🟦🟨🟨🟨🟦⬜🟦⬜⬜⬜🟦<br>🟦🟦🟦🟦🟦🟦🟦🟦🟦⬜🟦🟦🟦🟦🟦⬜🟦⬜🟦🟦🟦<br>🟦⬜⬜⬜⬜⬜⬜⬜⬜⬜🟦⬜⬜⬜⬜⬜🟦⬜🟦⬜🟦<br>🟦⬜🟦🟦🟦🟦🟦🟦🟦🟦🟦⬜🟦⬜🟦🟦🟦⬜🟦⬜🟦<br>🟦⬜🟦⬜⬜⬜⬜⬜🟦⬜⬜⬜🟦⬜⬜⬜⬜⬜🟦⬜🟦<br>🟦⬜🟦⬜🟦🟦🟦⬜🟦⬜🟦🟦🟦🟦🟦🟦🟦🟦🟦⬜🟦<br>🟦⬜⬜⬜⬜⬜🟦⬜⬜⬜⬜⬜⬜⬜⬜⬜⬜⬜⬜🟥🟦<br>🟦🟦🟦🟦🟦🟦🟦🟦🟦🟦🟦🟦🟦🟦🟦🟦🟦🟦🟦🟦🟦`;\n",
              "    </script>\n",
              "    "
            ],
            "text/plain": [
              "<IPython.core.display.HTML object>"
            ]
          },
          "metadata": {},
          "output_type": "display_data"
        },
        {
          "data": {
            "text/html": [
              "\n",
              "    <script>\n",
              "    document.getElementById('maze').innerHTML = `🟦🟦🟦🟦🟦🟦🟦🟦🟦🟦🟦🟦🟦🟦🟦🟦🟦🟦🟦🟦🟦<br>🟦🟨🟦🟨🟨🟨🟨🟨🟨🟨🟨🟨🟦🟨🟨😼⬜⬜⬜⬜🟦<br>🟦🟨🟦🟨🟦🟦🟦🟦🟦🟦🟦🟨🟦🟨🟦🟦🟦🟦🟦⬜🟦<br>🟦🟨🟨🟨🟦⬜⬜⬜⬜⬜🟦🟨🟨🟨🟦⬜🟦⬜⬜⬜🟦<br>🟦🟦🟦🟦🟦🟦🟦🟦🟦⬜🟦🟦🟦🟦🟦⬜🟦⬜🟦🟦🟦<br>🟦⬜⬜⬜⬜⬜⬜⬜⬜⬜🟦⬜⬜⬜⬜⬜🟦⬜🟦⬜🟦<br>🟦⬜🟦🟦🟦🟦🟦🟦🟦🟦🟦⬜🟦⬜🟦🟦🟦⬜🟦⬜🟦<br>🟦⬜🟦⬜⬜⬜⬜⬜🟦⬜⬜⬜🟦⬜⬜⬜⬜⬜🟦⬜🟦<br>🟦⬜🟦⬜🟦🟦🟦⬜🟦⬜🟦🟦🟦🟦🟦🟦🟦🟦🟦⬜🟦<br>🟦⬜⬜⬜⬜⬜🟦⬜⬜⬜⬜⬜⬜⬜⬜⬜⬜⬜⬜🟥🟦<br>🟦🟦🟦🟦🟦🟦🟦🟦🟦🟦🟦🟦🟦🟦🟦🟦🟦🟦🟦🟦🟦`;\n",
              "    </script>\n",
              "    "
            ],
            "text/plain": [
              "<IPython.core.display.HTML object>"
            ]
          },
          "metadata": {},
          "output_type": "display_data"
        },
        {
          "data": {
            "text/html": [
              "\n",
              "    <script>\n",
              "    document.getElementById('maze').innerHTML = `🟦🟦🟦🟦🟦🟦🟦🟦🟦🟦🟦🟦🟦🟦🟦🟦🟦🟦🟦🟦🟦<br>🟦🟨🟦🟨🟨🟨🟨🟨🟨🟨🟨🟨🟦🟨🟨🟨😼⬜⬜⬜🟦<br>🟦🟨🟦🟨🟦🟦🟦🟦🟦🟦🟦🟨🟦🟨🟦🟦🟦🟦🟦⬜🟦<br>🟦🟨🟨🟨🟦⬜⬜⬜⬜⬜🟦🟨🟨🟨🟦⬜🟦⬜⬜⬜🟦<br>🟦🟦🟦🟦🟦🟦🟦🟦🟦⬜🟦🟦🟦🟦🟦⬜🟦⬜🟦🟦🟦<br>🟦⬜⬜⬜⬜⬜⬜⬜⬜⬜🟦⬜⬜⬜⬜⬜🟦⬜🟦⬜🟦<br>🟦⬜🟦🟦🟦🟦🟦🟦🟦🟦🟦⬜🟦⬜🟦🟦🟦⬜🟦⬜🟦<br>🟦⬜🟦⬜⬜⬜⬜⬜🟦⬜⬜⬜🟦⬜⬜⬜⬜⬜🟦⬜🟦<br>🟦⬜🟦⬜🟦🟦🟦⬜🟦⬜🟦🟦🟦🟦🟦🟦🟦🟦🟦⬜🟦<br>🟦⬜⬜⬜⬜⬜🟦⬜⬜⬜⬜⬜⬜⬜⬜⬜⬜⬜⬜🟥🟦<br>🟦🟦🟦🟦🟦🟦🟦🟦🟦🟦🟦🟦🟦🟦🟦🟦🟦🟦🟦🟦🟦`;\n",
              "    </script>\n",
              "    "
            ],
            "text/plain": [
              "<IPython.core.display.HTML object>"
            ]
          },
          "metadata": {},
          "output_type": "display_data"
        },
        {
          "data": {
            "text/html": [
              "\n",
              "    <script>\n",
              "    document.getElementById('maze').innerHTML = `🟦🟦🟦🟦🟦🟦🟦🟦🟦🟦🟦🟦🟦🟦🟦🟦🟦🟦🟦🟦🟦<br>🟦🟨🟦🟨🟨🟨🟨🟨🟨🟨🟨🟨🟦🟨🟨🟨🟨😼⬜⬜🟦<br>🟦🟨🟦🟨🟦🟦🟦🟦🟦🟦🟦🟨🟦🟨🟦🟦🟦🟦🟦⬜🟦<br>🟦🟨🟨🟨🟦⬜⬜⬜⬜⬜🟦🟨🟨🟨🟦⬜🟦⬜⬜⬜🟦<br>🟦🟦🟦🟦🟦🟦🟦🟦🟦⬜🟦🟦🟦🟦🟦⬜🟦⬜🟦🟦🟦<br>🟦⬜⬜⬜⬜⬜⬜⬜⬜⬜🟦⬜⬜⬜⬜⬜🟦⬜🟦⬜🟦<br>🟦⬜🟦🟦🟦🟦🟦🟦🟦🟦🟦⬜🟦⬜🟦🟦🟦⬜🟦⬜🟦<br>🟦⬜🟦⬜⬜⬜⬜⬜🟦⬜⬜⬜🟦⬜⬜⬜⬜⬜🟦⬜🟦<br>🟦⬜🟦⬜🟦🟦🟦⬜🟦⬜🟦🟦🟦🟦🟦🟦🟦🟦🟦⬜🟦<br>🟦⬜⬜⬜⬜⬜🟦⬜⬜⬜⬜⬜⬜⬜⬜⬜⬜⬜⬜🟥🟦<br>🟦🟦🟦🟦🟦🟦🟦🟦🟦🟦🟦🟦🟦🟦🟦🟦🟦🟦🟦🟦🟦`;\n",
              "    </script>\n",
              "    "
            ],
            "text/plain": [
              "<IPython.core.display.HTML object>"
            ]
          },
          "metadata": {},
          "output_type": "display_data"
        },
        {
          "data": {
            "text/html": [
              "\n",
              "    <script>\n",
              "    document.getElementById('maze').innerHTML = `🟦🟦🟦🟦🟦🟦🟦🟦🟦🟦🟦🟦🟦🟦🟦🟦🟦🟦🟦🟦🟦<br>🟦🟨🟦🟨🟨🟨🟨🟨🟨🟨🟨🟨🟦🟨🟨🟨🟨🟨😼⬜🟦<br>🟦🟨🟦🟨🟦🟦🟦🟦🟦🟦🟦🟨🟦🟨🟦🟦🟦🟦🟦⬜🟦<br>🟦🟨🟨🟨🟦⬜⬜⬜⬜⬜🟦🟨🟨🟨🟦⬜🟦⬜⬜⬜🟦<br>🟦🟦🟦🟦🟦🟦🟦🟦🟦⬜🟦🟦🟦🟦🟦⬜🟦⬜🟦🟦🟦<br>🟦⬜⬜⬜⬜⬜⬜⬜⬜⬜🟦⬜⬜⬜⬜⬜🟦⬜🟦⬜🟦<br>🟦⬜🟦🟦🟦🟦🟦🟦🟦🟦🟦⬜🟦⬜🟦🟦🟦⬜🟦⬜🟦<br>🟦⬜🟦⬜⬜⬜⬜⬜🟦⬜⬜⬜🟦⬜⬜⬜⬜⬜🟦⬜🟦<br>🟦⬜🟦⬜🟦🟦🟦⬜🟦⬜🟦🟦🟦🟦🟦🟦🟦🟦🟦⬜🟦<br>🟦⬜⬜⬜⬜⬜🟦⬜⬜⬜⬜⬜⬜⬜⬜⬜⬜⬜⬜🟥🟦<br>🟦🟦🟦🟦🟦🟦🟦🟦🟦🟦🟦🟦🟦🟦🟦🟦🟦🟦🟦🟦🟦`;\n",
              "    </script>\n",
              "    "
            ],
            "text/plain": [
              "<IPython.core.display.HTML object>"
            ]
          },
          "metadata": {},
          "output_type": "display_data"
        },
        {
          "data": {
            "text/html": [
              "\n",
              "    <script>\n",
              "    document.getElementById('maze').innerHTML = `🟦🟦🟦🟦🟦🟦🟦🟦🟦🟦🟦🟦🟦🟦🟦🟦🟦🟦🟦🟦🟦<br>🟦🟨🟦🟨🟨🟨🟨🟨🟨🟨🟨🟨🟦🟨🟨🟨🟨🟨🟨😼🟦<br>🟦🟨🟦🟨🟦🟦🟦🟦🟦🟦🟦🟨🟦🟨🟦🟦🟦🟦🟦⬜🟦<br>🟦🟨🟨🟨🟦⬜⬜⬜⬜⬜🟦🟨🟨🟨🟦⬜🟦⬜⬜⬜🟦<br>🟦🟦🟦🟦🟦🟦🟦🟦🟦⬜🟦🟦🟦🟦🟦⬜🟦⬜🟦🟦🟦<br>🟦⬜⬜⬜⬜⬜⬜⬜⬜⬜🟦⬜⬜⬜⬜⬜🟦⬜🟦⬜🟦<br>🟦⬜🟦🟦🟦🟦🟦🟦🟦🟦🟦⬜🟦⬜🟦🟦🟦⬜🟦⬜🟦<br>🟦⬜🟦⬜⬜⬜⬜⬜🟦⬜⬜⬜🟦⬜⬜⬜⬜⬜🟦⬜🟦<br>🟦⬜🟦⬜🟦🟦🟦⬜🟦⬜🟦🟦🟦🟦🟦🟦🟦🟦🟦⬜🟦<br>🟦⬜⬜⬜⬜⬜🟦⬜⬜⬜⬜⬜⬜⬜⬜⬜⬜⬜⬜🟥🟦<br>🟦🟦🟦🟦🟦🟦🟦🟦🟦🟦🟦🟦🟦🟦🟦🟦🟦🟦🟦🟦🟦`;\n",
              "    </script>\n",
              "    "
            ],
            "text/plain": [
              "<IPython.core.display.HTML object>"
            ]
          },
          "metadata": {},
          "output_type": "display_data"
        },
        {
          "data": {
            "text/html": [
              "\n",
              "    <script>\n",
              "    document.getElementById('maze').innerHTML = `🟦🟦🟦🟦🟦🟦🟦🟦🟦🟦🟦🟦🟦🟦🟦🟦🟦🟦🟦🟦🟦<br>🟦🟨🟦🟨🟨🟨🟨🟨🟨🟨🟨🟨🟦🟨🟨🟨🟨🟨🟨🟨🟦<br>🟦🟨🟦🟨🟦🟦🟦🟦🟦🟦🟦🟨🟦🟨🟦🟦🟦🟦🟦😼🟦<br>🟦🟨🟨🟨🟦⬜⬜⬜⬜⬜🟦🟨🟨🟨🟦⬜🟦⬜⬜⬜🟦<br>🟦🟦🟦🟦🟦🟦🟦🟦🟦⬜🟦🟦🟦🟦🟦⬜🟦⬜🟦🟦🟦<br>🟦⬜⬜⬜⬜⬜⬜⬜⬜⬜🟦⬜⬜⬜⬜⬜🟦⬜🟦⬜🟦<br>🟦⬜🟦🟦🟦🟦🟦🟦🟦🟦🟦⬜🟦⬜🟦🟦🟦⬜🟦⬜🟦<br>🟦⬜🟦⬜⬜⬜⬜⬜🟦⬜⬜⬜🟦⬜⬜⬜⬜⬜🟦⬜🟦<br>🟦⬜🟦⬜🟦🟦🟦⬜🟦⬜🟦🟦🟦🟦🟦🟦🟦🟦🟦⬜🟦<br>🟦⬜⬜⬜⬜⬜🟦⬜⬜⬜⬜⬜⬜⬜⬜⬜⬜⬜⬜🟥🟦<br>🟦🟦🟦🟦🟦🟦🟦🟦🟦🟦🟦🟦🟦🟦🟦🟦🟦🟦🟦🟦🟦`;\n",
              "    </script>\n",
              "    "
            ],
            "text/plain": [
              "<IPython.core.display.HTML object>"
            ]
          },
          "metadata": {},
          "output_type": "display_data"
        },
        {
          "data": {
            "text/html": [
              "\n",
              "    <script>\n",
              "    document.getElementById('maze').innerHTML = `🟦🟦🟦🟦🟦🟦🟦🟦🟦🟦🟦🟦🟦🟦🟦🟦🟦🟦🟦🟦🟦<br>🟦🟨🟦🟨🟨🟨🟨🟨🟨🟨🟨🟨🟦🟨🟨🟨🟨🟨🟨🟨🟦<br>🟦🟨🟦🟨🟦🟦🟦🟦🟦🟦🟦🟨🟦🟨🟦🟦🟦🟦🟦🟨🟦<br>🟦🟨🟨🟨🟦⬜⬜⬜⬜⬜🟦🟨🟨🟨🟦⬜🟦⬜⬜😼🟦<br>🟦🟦🟦🟦🟦🟦🟦🟦🟦⬜🟦🟦🟦🟦🟦⬜🟦⬜🟦🟦🟦<br>🟦⬜⬜⬜⬜⬜⬜⬜⬜⬜🟦⬜⬜⬜⬜⬜🟦⬜🟦⬜🟦<br>🟦⬜🟦🟦🟦🟦🟦🟦🟦🟦🟦⬜🟦⬜🟦🟦🟦⬜🟦⬜🟦<br>🟦⬜🟦⬜⬜⬜⬜⬜🟦⬜⬜⬜🟦⬜⬜⬜⬜⬜🟦⬜🟦<br>🟦⬜🟦⬜🟦🟦🟦⬜🟦⬜🟦🟦🟦🟦🟦🟦🟦🟦🟦⬜🟦<br>🟦⬜⬜⬜⬜⬜🟦⬜⬜⬜⬜⬜⬜⬜⬜⬜⬜⬜⬜🟥🟦<br>🟦🟦🟦🟦🟦🟦🟦🟦🟦🟦🟦🟦🟦🟦🟦🟦🟦🟦🟦🟦🟦`;\n",
              "    </script>\n",
              "    "
            ],
            "text/plain": [
              "<IPython.core.display.HTML object>"
            ]
          },
          "metadata": {},
          "output_type": "display_data"
        },
        {
          "data": {
            "text/html": [
              "\n",
              "    <script>\n",
              "    document.getElementById('maze').innerHTML = `🟦🟦🟦🟦🟦🟦🟦🟦🟦🟦🟦🟦🟦🟦🟦🟦🟦🟦🟦🟦🟦<br>🟦🟨🟦🟨🟨🟨🟨🟨🟨🟨🟨🟨🟦🟨🟨🟨🟨🟨🟨🟨🟦<br>🟦🟨🟦🟨🟦🟦🟦🟦🟦🟦🟦🟨🟦🟨🟦🟦🟦🟦🟦🟨🟦<br>🟦🟨🟨🟨🟦⬜⬜⬜⬜⬜🟦🟨🟨🟨🟦⬜🟦⬜😼🟨🟦<br>🟦🟦🟦🟦🟦🟦🟦🟦🟦⬜🟦🟦🟦🟦🟦⬜🟦⬜🟦🟦🟦<br>🟦⬜⬜⬜⬜⬜⬜⬜⬜⬜🟦⬜⬜⬜⬜⬜🟦⬜🟦⬜🟦<br>🟦⬜🟦🟦🟦🟦🟦🟦🟦🟦🟦⬜🟦⬜🟦🟦🟦⬜🟦⬜🟦<br>🟦⬜🟦⬜⬜⬜⬜⬜🟦⬜⬜⬜🟦⬜⬜⬜⬜⬜🟦⬜🟦<br>🟦⬜🟦⬜🟦🟦🟦⬜🟦⬜🟦🟦🟦🟦🟦🟦🟦🟦🟦⬜🟦<br>🟦⬜⬜⬜⬜⬜🟦⬜⬜⬜⬜⬜⬜⬜⬜⬜⬜⬜⬜🟥🟦<br>🟦🟦🟦🟦🟦🟦🟦🟦🟦🟦🟦🟦🟦🟦🟦🟦🟦🟦🟦🟦🟦`;\n",
              "    </script>\n",
              "    "
            ],
            "text/plain": [
              "<IPython.core.display.HTML object>"
            ]
          },
          "metadata": {},
          "output_type": "display_data"
        },
        {
          "data": {
            "text/html": [
              "\n",
              "    <script>\n",
              "    document.getElementById('maze').innerHTML = `🟦🟦🟦🟦🟦🟦🟦🟦🟦🟦🟦🟦🟦🟦🟦🟦🟦🟦🟦🟦🟦<br>🟦🟨🟦🟨🟨🟨🟨🟨🟨🟨🟨🟨🟦🟨🟨🟨🟨🟨🟨🟨🟦<br>🟦🟨🟦🟨🟦🟦🟦🟦🟦🟦🟦🟨🟦🟨🟦🟦🟦🟦🟦🟨🟦<br>🟦🟨🟨🟨🟦⬜⬜⬜⬜⬜🟦🟨🟨🟨🟦⬜🟦😼🟨🟨🟦<br>🟦🟦🟦🟦🟦🟦🟦🟦🟦⬜🟦🟦🟦🟦🟦⬜🟦⬜🟦🟦🟦<br>🟦⬜⬜⬜⬜⬜⬜⬜⬜⬜🟦⬜⬜⬜⬜⬜🟦⬜🟦⬜🟦<br>🟦⬜🟦🟦🟦🟦🟦🟦🟦🟦🟦⬜🟦⬜🟦🟦🟦⬜🟦⬜🟦<br>🟦⬜🟦⬜⬜⬜⬜⬜🟦⬜⬜⬜🟦⬜⬜⬜⬜⬜🟦⬜🟦<br>🟦⬜🟦⬜🟦🟦🟦⬜🟦⬜🟦🟦🟦🟦🟦🟦🟦🟦🟦⬜🟦<br>🟦⬜⬜⬜⬜⬜🟦⬜⬜⬜⬜⬜⬜⬜⬜⬜⬜⬜⬜🟥🟦<br>🟦🟦🟦🟦🟦🟦🟦🟦🟦🟦🟦🟦🟦🟦🟦🟦🟦🟦🟦🟦🟦`;\n",
              "    </script>\n",
              "    "
            ],
            "text/plain": [
              "<IPython.core.display.HTML object>"
            ]
          },
          "metadata": {},
          "output_type": "display_data"
        },
        {
          "data": {
            "text/html": [
              "\n",
              "    <script>\n",
              "    document.getElementById('maze').innerHTML = `🟦🟦🟦🟦🟦🟦🟦🟦🟦🟦🟦🟦🟦🟦🟦🟦🟦🟦🟦🟦🟦<br>🟦🟨🟦🟨🟨🟨🟨🟨🟨🟨🟨🟨🟦🟨🟨🟨🟨🟨🟨🟨🟦<br>🟦🟨🟦🟨🟦🟦🟦🟦🟦🟦🟦🟨🟦🟨🟦🟦🟦🟦🟦🟨🟦<br>🟦🟨🟨🟨🟦⬜⬜⬜⬜⬜🟦🟨🟨🟨🟦⬜🟦🟨🟨🟨🟦<br>🟦🟦🟦🟦🟦🟦🟦🟦🟦⬜🟦🟦🟦🟦🟦⬜🟦😼🟦🟦🟦<br>🟦⬜⬜⬜⬜⬜⬜⬜⬜⬜🟦⬜⬜⬜⬜⬜🟦⬜🟦⬜🟦<br>🟦⬜🟦🟦🟦🟦🟦🟦🟦🟦🟦⬜🟦⬜🟦🟦🟦⬜🟦⬜🟦<br>🟦⬜🟦⬜⬜⬜⬜⬜🟦⬜⬜⬜🟦⬜⬜⬜⬜⬜🟦⬜🟦<br>🟦⬜🟦⬜🟦🟦🟦⬜🟦⬜🟦🟦🟦🟦🟦🟦🟦🟦🟦⬜🟦<br>🟦⬜⬜⬜⬜⬜🟦⬜⬜⬜⬜⬜⬜⬜⬜⬜⬜⬜⬜🟥🟦<br>🟦🟦🟦🟦🟦🟦🟦🟦🟦🟦🟦🟦🟦🟦🟦🟦🟦🟦🟦🟦🟦`;\n",
              "    </script>\n",
              "    "
            ],
            "text/plain": [
              "<IPython.core.display.HTML object>"
            ]
          },
          "metadata": {},
          "output_type": "display_data"
        },
        {
          "data": {
            "text/html": [
              "\n",
              "    <script>\n",
              "    document.getElementById('maze').innerHTML = `🟦🟦🟦🟦🟦🟦🟦🟦🟦🟦🟦🟦🟦🟦🟦🟦🟦🟦🟦🟦🟦<br>🟦🟨🟦🟨🟨🟨🟨🟨🟨🟨🟨🟨🟦🟨🟨🟨🟨🟨🟨🟨🟦<br>🟦🟨🟦🟨🟦🟦🟦🟦🟦🟦🟦🟨🟦🟨🟦🟦🟦🟦🟦🟨🟦<br>🟦🟨🟨🟨🟦⬜⬜⬜⬜⬜🟦🟨🟨🟨🟦⬜🟦🟨🟨🟨🟦<br>🟦🟦🟦🟦🟦🟦🟦🟦🟦⬜🟦🟦🟦🟦🟦⬜🟦🟨🟦🟦🟦<br>🟦⬜⬜⬜⬜⬜⬜⬜⬜⬜🟦⬜⬜⬜⬜⬜🟦😼🟦⬜🟦<br>🟦⬜🟦🟦🟦🟦🟦🟦🟦🟦🟦⬜🟦⬜🟦🟦🟦⬜🟦⬜🟦<br>🟦⬜🟦⬜⬜⬜⬜⬜🟦⬜⬜⬜🟦⬜⬜⬜⬜⬜🟦⬜🟦<br>🟦⬜🟦⬜🟦🟦🟦⬜🟦⬜🟦🟦🟦🟦🟦🟦🟦🟦🟦⬜🟦<br>🟦⬜⬜⬜⬜⬜🟦⬜⬜⬜⬜⬜⬜⬜⬜⬜⬜⬜⬜🟥🟦<br>🟦🟦🟦🟦🟦🟦🟦🟦🟦🟦🟦🟦🟦🟦🟦🟦🟦🟦🟦🟦🟦`;\n",
              "    </script>\n",
              "    "
            ],
            "text/plain": [
              "<IPython.core.display.HTML object>"
            ]
          },
          "metadata": {},
          "output_type": "display_data"
        },
        {
          "data": {
            "text/html": [
              "\n",
              "    <script>\n",
              "    document.getElementById('maze').innerHTML = `🟦🟦🟦🟦🟦🟦🟦🟦🟦🟦🟦🟦🟦🟦🟦🟦🟦🟦🟦🟦🟦<br>🟦🟨🟦🟨🟨🟨🟨🟨🟨🟨🟨🟨🟦🟨🟨🟨🟨🟨🟨🟨🟦<br>🟦🟨🟦🟨🟦🟦🟦🟦🟦🟦🟦🟨🟦🟨🟦🟦🟦🟦🟦🟨🟦<br>🟦🟨🟨🟨🟦⬜⬜⬜⬜⬜🟦🟨🟨🟨🟦⬜🟦🟨🟨🟨🟦<br>🟦🟦🟦🟦🟦🟦🟦🟦🟦⬜🟦🟦🟦🟦🟦⬜🟦🟨🟦🟦🟦<br>🟦⬜⬜⬜⬜⬜⬜⬜⬜⬜🟦⬜⬜⬜⬜⬜🟦🟨🟦⬜🟦<br>🟦⬜🟦🟦🟦🟦🟦🟦🟦🟦🟦⬜🟦⬜🟦🟦🟦😼🟦⬜🟦<br>🟦⬜🟦⬜⬜⬜⬜⬜🟦⬜⬜⬜🟦⬜⬜⬜⬜⬜🟦⬜🟦<br>🟦⬜🟦⬜🟦🟦🟦⬜🟦⬜🟦🟦🟦🟦🟦🟦🟦🟦🟦⬜🟦<br>🟦⬜⬜⬜⬜⬜🟦⬜⬜⬜⬜⬜⬜⬜⬜⬜⬜⬜⬜🟥🟦<br>🟦🟦🟦🟦🟦🟦🟦🟦🟦🟦🟦🟦🟦🟦🟦🟦🟦🟦🟦🟦🟦`;\n",
              "    </script>\n",
              "    "
            ],
            "text/plain": [
              "<IPython.core.display.HTML object>"
            ]
          },
          "metadata": {},
          "output_type": "display_data"
        },
        {
          "data": {
            "text/html": [
              "\n",
              "    <script>\n",
              "    document.getElementById('maze').innerHTML = `🟦🟦🟦🟦🟦🟦🟦🟦🟦🟦🟦🟦🟦🟦🟦🟦🟦🟦🟦🟦🟦<br>🟦🟨🟦🟨🟨🟨🟨🟨🟨🟨🟨🟨🟦🟨🟨🟨🟨🟨🟨🟨🟦<br>🟦🟨🟦🟨🟦🟦🟦🟦🟦🟦🟦🟨🟦🟨🟦🟦🟦🟦🟦🟨🟦<br>🟦🟨🟨🟨🟦⬜⬜⬜⬜⬜🟦🟨🟨🟨🟦⬜🟦🟨🟨🟨🟦<br>🟦🟦🟦🟦🟦🟦🟦🟦🟦⬜🟦🟦🟦🟦🟦⬜🟦🟨🟦🟦🟦<br>🟦⬜⬜⬜⬜⬜⬜⬜⬜⬜🟦⬜⬜⬜⬜⬜🟦🟨🟦⬜🟦<br>🟦⬜🟦🟦🟦🟦🟦🟦🟦🟦🟦⬜🟦⬜🟦🟦🟦🟨🟦⬜🟦<br>🟦⬜🟦⬜⬜⬜⬜⬜🟦⬜⬜⬜🟦⬜⬜⬜⬜😼🟦⬜🟦<br>🟦⬜🟦⬜🟦🟦🟦⬜🟦⬜🟦🟦🟦🟦🟦🟦🟦🟦🟦⬜🟦<br>🟦⬜⬜⬜⬜⬜🟦⬜⬜⬜⬜⬜⬜⬜⬜⬜⬜⬜⬜🟥🟦<br>🟦🟦🟦🟦🟦🟦🟦🟦🟦🟦🟦🟦🟦🟦🟦🟦🟦🟦🟦🟦🟦`;\n",
              "    </script>\n",
              "    "
            ],
            "text/plain": [
              "<IPython.core.display.HTML object>"
            ]
          },
          "metadata": {},
          "output_type": "display_data"
        },
        {
          "data": {
            "text/html": [
              "\n",
              "    <script>\n",
              "    document.getElementById('maze').innerHTML = `🟦🟦🟦🟦🟦🟦🟦🟦🟦🟦🟦🟦🟦🟦🟦🟦🟦🟦🟦🟦🟦<br>🟦🟨🟦🟨🟨🟨🟨🟨🟨🟨🟨🟨🟦🟨🟨🟨🟨🟨🟨🟨🟦<br>🟦🟨🟦🟨🟦🟦🟦🟦🟦🟦🟦🟨🟦🟨🟦🟦🟦🟦🟦🟨🟦<br>🟦🟨🟨🟨🟦⬜⬜⬜⬜⬜🟦🟨🟨🟨🟦⬜🟦🟨🟨🟨🟦<br>🟦🟦🟦🟦🟦🟦🟦🟦🟦⬜🟦🟦🟦🟦🟦⬜🟦🟨🟦🟦🟦<br>🟦⬜⬜⬜⬜⬜⬜⬜⬜⬜🟦⬜⬜⬜⬜⬜🟦🟨🟦⬜🟦<br>🟦⬜🟦🟦🟦🟦🟦🟦🟦🟦🟦⬜🟦⬜🟦🟦🟦🟨🟦⬜🟦<br>🟦⬜🟦⬜⬜⬜⬜⬜🟦⬜⬜⬜🟦⬜⬜⬜😼🟨🟦⬜🟦<br>🟦⬜🟦⬜🟦🟦🟦⬜🟦⬜🟦🟦🟦🟦🟦🟦🟦🟦🟦⬜🟦<br>🟦⬜⬜⬜⬜⬜🟦⬜⬜⬜⬜⬜⬜⬜⬜⬜⬜⬜⬜🟥🟦<br>🟦🟦🟦🟦🟦🟦🟦🟦🟦🟦🟦🟦🟦🟦🟦🟦🟦🟦🟦🟦🟦`;\n",
              "    </script>\n",
              "    "
            ],
            "text/plain": [
              "<IPython.core.display.HTML object>"
            ]
          },
          "metadata": {},
          "output_type": "display_data"
        },
        {
          "data": {
            "text/html": [
              "\n",
              "    <script>\n",
              "    document.getElementById('maze').innerHTML = `🟦🟦🟦🟦🟦🟦🟦🟦🟦🟦🟦🟦🟦🟦🟦🟦🟦🟦🟦🟦🟦<br>🟦🟨🟦🟨🟨🟨🟨🟨🟨🟨🟨🟨🟦🟨🟨🟨🟨🟨🟨🟨🟦<br>🟦🟨🟦🟨🟦🟦🟦🟦🟦🟦🟦🟨🟦🟨🟦🟦🟦🟦🟦🟨🟦<br>🟦🟨🟨🟨🟦⬜⬜⬜⬜⬜🟦🟨🟨🟨🟦⬜🟦🟨🟨🟨🟦<br>🟦🟦🟦🟦🟦🟦🟦🟦🟦⬜🟦🟦🟦🟦🟦⬜🟦🟨🟦🟦🟦<br>🟦⬜⬜⬜⬜⬜⬜⬜⬜⬜🟦⬜⬜⬜⬜⬜🟦🟨🟦⬜🟦<br>🟦⬜🟦🟦🟦🟦🟦🟦🟦🟦🟦⬜🟦⬜🟦🟦🟦🟨🟦⬜🟦<br>🟦⬜🟦⬜⬜⬜⬜⬜🟦⬜⬜⬜🟦⬜⬜😼🟨🟨🟦⬜🟦<br>🟦⬜🟦⬜🟦🟦🟦⬜🟦⬜🟦🟦🟦🟦🟦🟦🟦🟦🟦⬜🟦<br>🟦⬜⬜⬜⬜⬜🟦⬜⬜⬜⬜⬜⬜⬜⬜⬜⬜⬜⬜🟥🟦<br>🟦🟦🟦🟦🟦🟦🟦🟦🟦🟦🟦🟦🟦🟦🟦🟦🟦🟦🟦🟦🟦`;\n",
              "    </script>\n",
              "    "
            ],
            "text/plain": [
              "<IPython.core.display.HTML object>"
            ]
          },
          "metadata": {},
          "output_type": "display_data"
        },
        {
          "data": {
            "text/html": [
              "\n",
              "    <script>\n",
              "    document.getElementById('maze').innerHTML = `🟦🟦🟦🟦🟦🟦🟦🟦🟦🟦🟦🟦🟦🟦🟦🟦🟦🟦🟦🟦🟦<br>🟦🟨🟦🟨🟨🟨🟨🟨🟨🟨🟨🟨🟦🟨🟨🟨🟨🟨🟨🟨🟦<br>🟦🟨🟦🟨🟦🟦🟦🟦🟦🟦🟦🟨🟦🟨🟦🟦🟦🟦🟦🟨🟦<br>🟦🟨🟨🟨🟦⬜⬜⬜⬜⬜🟦🟨🟨🟨🟦⬜🟦🟨🟨🟨🟦<br>🟦🟦🟦🟦🟦🟦🟦🟦🟦⬜🟦🟦🟦🟦🟦⬜🟦🟨🟦🟦🟦<br>🟦⬜⬜⬜⬜⬜⬜⬜⬜⬜🟦⬜⬜⬜⬜⬜🟦🟨🟦⬜🟦<br>🟦⬜🟦🟦🟦🟦🟦🟦🟦🟦🟦⬜🟦⬜🟦🟦🟦🟨🟦⬜🟦<br>🟦⬜🟦⬜⬜⬜⬜⬜🟦⬜⬜⬜🟦⬜😼🟨🟨🟨🟦⬜🟦<br>🟦⬜🟦⬜🟦🟦🟦⬜🟦⬜🟦🟦🟦🟦🟦🟦🟦🟦🟦⬜🟦<br>🟦⬜⬜⬜⬜⬜🟦⬜⬜⬜⬜⬜⬜⬜⬜⬜⬜⬜⬜🟥🟦<br>🟦🟦🟦🟦🟦🟦🟦🟦🟦🟦🟦🟦🟦🟦🟦🟦🟦🟦🟦🟦🟦`;\n",
              "    </script>\n",
              "    "
            ],
            "text/plain": [
              "<IPython.core.display.HTML object>"
            ]
          },
          "metadata": {},
          "output_type": "display_data"
        },
        {
          "data": {
            "text/html": [
              "\n",
              "    <script>\n",
              "    document.getElementById('maze').innerHTML = `🟦🟦🟦🟦🟦🟦🟦🟦🟦🟦🟦🟦🟦🟦🟦🟦🟦🟦🟦🟦🟦<br>🟦🟨🟦🟨🟨🟨🟨🟨🟨🟨🟨🟨🟦🟨🟨🟨🟨🟨🟨🟨🟦<br>🟦🟨🟦🟨🟦🟦🟦🟦🟦🟦🟦🟨🟦🟨🟦🟦🟦🟦🟦🟨🟦<br>🟦🟨🟨🟨🟦⬜⬜⬜⬜⬜🟦🟨🟨🟨🟦⬜🟦🟨🟨🟨🟦<br>🟦🟦🟦🟦🟦🟦🟦🟦🟦⬜🟦🟦🟦🟦🟦⬜🟦🟨🟦🟦🟦<br>🟦⬜⬜⬜⬜⬜⬜⬜⬜⬜🟦⬜⬜⬜⬜⬜🟦🟨🟦⬜🟦<br>🟦⬜🟦🟦🟦🟦🟦🟦🟦🟦🟦⬜🟦⬜🟦🟦🟦🟨🟦⬜🟦<br>🟦⬜🟦⬜⬜⬜⬜⬜🟦⬜⬜⬜🟦😼🟨🟨🟨🟨🟦⬜🟦<br>🟦⬜🟦⬜🟦🟦🟦⬜🟦⬜🟦🟦🟦🟦🟦🟦🟦🟦🟦⬜🟦<br>🟦⬜⬜⬜⬜⬜🟦⬜⬜⬜⬜⬜⬜⬜⬜⬜⬜⬜⬜🟥🟦<br>🟦🟦🟦🟦🟦🟦🟦🟦🟦🟦🟦🟦🟦🟦🟦🟦🟦🟦🟦🟦🟦`;\n",
              "    </script>\n",
              "    "
            ],
            "text/plain": [
              "<IPython.core.display.HTML object>"
            ]
          },
          "metadata": {},
          "output_type": "display_data"
        },
        {
          "data": {
            "text/html": [
              "\n",
              "    <script>\n",
              "    document.getElementById('maze').innerHTML = `🟦🟦🟦🟦🟦🟦🟦🟦🟦🟦🟦🟦🟦🟦🟦🟦🟦🟦🟦🟦🟦<br>🟦🟨🟦🟨🟨🟨🟨🟨🟨🟨🟨🟨🟦🟨🟨🟨🟨🟨🟨🟨🟦<br>🟦🟨🟦🟨🟦🟦🟦🟦🟦🟦🟦🟨🟦🟨🟦🟦🟦🟦🟦🟨🟦<br>🟦🟨🟨🟨🟦⬜⬜⬜⬜⬜🟦🟨🟨🟨🟦⬜🟦🟨🟨🟨🟦<br>🟦🟦🟦🟦🟦🟦🟦🟦🟦⬜🟦🟦🟦🟦🟦⬜🟦🟨🟦🟦🟦<br>🟦⬜⬜⬜⬜⬜⬜⬜⬜⬜🟦⬜⬜⬜⬜⬜🟦🟨🟦⬜🟦<br>🟦⬜🟦🟦🟦🟦🟦🟦🟦🟦🟦⬜🟦😼🟦🟦🟦🟨🟦⬜🟦<br>🟦⬜🟦⬜⬜⬜⬜⬜🟦⬜⬜⬜🟦🟨🟨🟨🟨🟨🟦⬜🟦<br>🟦⬜🟦⬜🟦🟦🟦⬜🟦⬜🟦🟦🟦🟦🟦🟦🟦🟦🟦⬜🟦<br>🟦⬜⬜⬜⬜⬜🟦⬜⬜⬜⬜⬜⬜⬜⬜⬜⬜⬜⬜🟥🟦<br>🟦🟦🟦🟦🟦🟦🟦🟦🟦🟦🟦🟦🟦🟦🟦🟦🟦🟦🟦🟦🟦`;\n",
              "    </script>\n",
              "    "
            ],
            "text/plain": [
              "<IPython.core.display.HTML object>"
            ]
          },
          "metadata": {},
          "output_type": "display_data"
        },
        {
          "data": {
            "text/html": [
              "\n",
              "    <script>\n",
              "    document.getElementById('maze').innerHTML = `🟦🟦🟦🟦🟦🟦🟦🟦🟦🟦🟦🟦🟦🟦🟦🟦🟦🟦🟦🟦🟦<br>🟦🟨🟦🟨🟨🟨🟨🟨🟨🟨🟨🟨🟦🟨🟨🟨🟨🟨🟨🟨🟦<br>🟦🟨🟦🟨🟦🟦🟦🟦🟦🟦🟦🟨🟦🟨🟦🟦🟦🟦🟦🟨🟦<br>🟦🟨🟨🟨🟦⬜⬜⬜⬜⬜🟦🟨🟨🟨🟦⬜🟦🟨🟨🟨🟦<br>🟦🟦🟦🟦🟦🟦🟦🟦🟦⬜🟦🟦🟦🟦🟦⬜🟦🟨🟦🟦🟦<br>🟦⬜⬜⬜⬜⬜⬜⬜⬜⬜🟦⬜⬜😼⬜⬜🟦🟨🟦⬜🟦<br>🟦⬜🟦🟦🟦🟦🟦🟦🟦🟦🟦⬜🟦🟨🟦🟦🟦🟨🟦⬜🟦<br>🟦⬜🟦⬜⬜⬜⬜⬜🟦⬜⬜⬜🟦🟨🟨🟨🟨🟨🟦⬜🟦<br>🟦⬜🟦⬜🟦🟦🟦⬜🟦⬜🟦🟦🟦🟦🟦🟦🟦🟦🟦⬜🟦<br>🟦⬜⬜⬜⬜⬜🟦⬜⬜⬜⬜⬜⬜⬜⬜⬜⬜⬜⬜🟥🟦<br>🟦🟦🟦🟦🟦🟦🟦🟦🟦🟦🟦🟦🟦🟦🟦🟦🟦🟦🟦🟦🟦`;\n",
              "    </script>\n",
              "    "
            ],
            "text/plain": [
              "<IPython.core.display.HTML object>"
            ]
          },
          "metadata": {},
          "output_type": "display_data"
        },
        {
          "data": {
            "text/html": [
              "\n",
              "    <script>\n",
              "    document.getElementById('maze').innerHTML = `🟦🟦🟦🟦🟦🟦🟦🟦🟦🟦🟦🟦🟦🟦🟦🟦🟦🟦🟦🟦🟦<br>🟦🟨🟦🟨🟨🟨🟨🟨🟨🟨🟨🟨🟦🟨🟨🟨🟨🟨🟨🟨🟦<br>🟦🟨🟦🟨🟦🟦🟦🟦🟦🟦🟦🟨🟦🟨🟦🟦🟦🟦🟦🟨🟦<br>🟦🟨🟨🟨🟦⬜⬜⬜⬜⬜🟦🟨🟨🟨🟦⬜🟦🟨🟨🟨🟦<br>🟦🟦🟦🟦🟦🟦🟦🟦🟦⬜🟦🟦🟦🟦🟦⬜🟦🟨🟦🟦🟦<br>🟦⬜⬜⬜⬜⬜⬜⬜⬜⬜🟦⬜😼🟨⬜⬜🟦🟨🟦⬜🟦<br>🟦⬜🟦🟦🟦🟦🟦🟦🟦🟦🟦⬜🟦🟨🟦🟦🟦🟨🟦⬜🟦<br>🟦⬜🟦⬜⬜⬜⬜⬜🟦⬜⬜⬜🟦🟨🟨🟨🟨🟨🟦⬜🟦<br>🟦⬜🟦⬜🟦🟦🟦⬜🟦⬜🟦🟦🟦🟦🟦🟦🟦🟦🟦⬜🟦<br>🟦⬜⬜⬜⬜⬜🟦⬜⬜⬜⬜⬜⬜⬜⬜⬜⬜⬜⬜🟥🟦<br>🟦🟦🟦🟦🟦🟦🟦🟦🟦🟦🟦🟦🟦🟦🟦🟦🟦🟦🟦🟦🟦`;\n",
              "    </script>\n",
              "    "
            ],
            "text/plain": [
              "<IPython.core.display.HTML object>"
            ]
          },
          "metadata": {},
          "output_type": "display_data"
        },
        {
          "data": {
            "text/html": [
              "\n",
              "    <script>\n",
              "    document.getElementById('maze').innerHTML = `🟦🟦🟦🟦🟦🟦🟦🟦🟦🟦🟦🟦🟦🟦🟦🟦🟦🟦🟦🟦🟦<br>🟦🟨🟦🟨🟨🟨🟨🟨🟨🟨🟨🟨🟦🟨🟨🟨🟨🟨🟨🟨🟦<br>🟦🟨🟦🟨🟦🟦🟦🟦🟦🟦🟦🟨🟦🟨🟦🟦🟦🟦🟦🟨🟦<br>🟦🟨🟨🟨🟦⬜⬜⬜⬜⬜🟦🟨🟨🟨🟦⬜🟦🟨🟨🟨🟦<br>🟦🟦🟦🟦🟦🟦🟦🟦🟦⬜🟦🟦🟦🟦🟦⬜🟦🟨🟦🟦🟦<br>🟦⬜⬜⬜⬜⬜⬜⬜⬜⬜🟦⬜🟨🟨😼⬜🟦🟨🟦⬜🟦<br>🟦⬜🟦🟦🟦🟦🟦🟦🟦🟦🟦⬜🟦🟨🟦🟦🟦🟨🟦⬜🟦<br>🟦⬜🟦⬜⬜⬜⬜⬜🟦⬜⬜⬜🟦🟨🟨🟨🟨🟨🟦⬜🟦<br>🟦⬜🟦⬜🟦🟦🟦⬜🟦⬜🟦🟦🟦🟦🟦🟦🟦🟦🟦⬜🟦<br>🟦⬜⬜⬜⬜⬜🟦⬜⬜⬜⬜⬜⬜⬜⬜⬜⬜⬜⬜🟥🟦<br>🟦🟦🟦🟦🟦🟦🟦🟦🟦🟦🟦🟦🟦🟦🟦🟦🟦🟦🟦🟦🟦`;\n",
              "    </script>\n",
              "    "
            ],
            "text/plain": [
              "<IPython.core.display.HTML object>"
            ]
          },
          "metadata": {},
          "output_type": "display_data"
        },
        {
          "data": {
            "text/html": [
              "\n",
              "    <script>\n",
              "    document.getElementById('maze').innerHTML = `🟦🟦🟦🟦🟦🟦🟦🟦🟦🟦🟦🟦🟦🟦🟦🟦🟦🟦🟦🟦🟦<br>🟦🟨🟦🟨🟨🟨🟨🟨🟨🟨🟨🟨🟦🟨🟨🟨🟨🟨🟨🟨🟦<br>🟦🟨🟦🟨🟦🟦🟦🟦🟦🟦🟦🟨🟦🟨🟦🟦🟦🟦🟦🟨🟦<br>🟦🟨🟨🟨🟦⬜⬜⬜⬜⬜🟦🟨🟨🟨🟦⬜🟦🟨🟨🟨🟦<br>🟦🟦🟦🟦🟦🟦🟦🟦🟦⬜🟦🟦🟦🟦🟦⬜🟦🟨🟦🟦🟦<br>🟦⬜⬜⬜⬜⬜⬜⬜⬜⬜🟦😼🟨🟨🟨⬜🟦🟨🟦⬜🟦<br>🟦⬜🟦🟦🟦🟦🟦🟦🟦🟦🟦⬜🟦🟨🟦🟦🟦🟨🟦⬜🟦<br>🟦⬜🟦⬜⬜⬜⬜⬜🟦⬜⬜⬜🟦🟨🟨🟨🟨🟨🟦⬜🟦<br>🟦⬜🟦⬜🟦🟦🟦⬜🟦⬜🟦🟦🟦🟦🟦🟦🟦🟦🟦⬜🟦<br>🟦⬜⬜⬜⬜⬜🟦⬜⬜⬜⬜⬜⬜⬜⬜⬜⬜⬜⬜🟥🟦<br>🟦🟦🟦🟦🟦🟦🟦🟦🟦🟦🟦🟦🟦🟦🟦🟦🟦🟦🟦🟦🟦`;\n",
              "    </script>\n",
              "    "
            ],
            "text/plain": [
              "<IPython.core.display.HTML object>"
            ]
          },
          "metadata": {},
          "output_type": "display_data"
        },
        {
          "data": {
            "text/html": [
              "\n",
              "    <script>\n",
              "    document.getElementById('maze').innerHTML = `🟦🟦🟦🟦🟦🟦🟦🟦🟦🟦🟦🟦🟦🟦🟦🟦🟦🟦🟦🟦🟦<br>🟦🟨🟦🟨🟨🟨🟨🟨🟨🟨🟨🟨🟦🟨🟨🟨🟨🟨🟨🟨🟦<br>🟦🟨🟦🟨🟦🟦🟦🟦🟦🟦🟦🟨🟦🟨🟦🟦🟦🟦🟦🟨🟦<br>🟦🟨🟨🟨🟦⬜⬜⬜⬜⬜🟦🟨🟨🟨🟦⬜🟦🟨🟨🟨🟦<br>🟦🟦🟦🟦🟦🟦🟦🟦🟦⬜🟦🟦🟦🟦🟦⬜🟦🟨🟦🟦🟦<br>🟦⬜⬜⬜⬜⬜⬜⬜⬜⬜🟦🟨🟨🟨🟨😼🟦🟨🟦⬜🟦<br>🟦⬜🟦🟦🟦🟦🟦🟦🟦🟦🟦⬜🟦🟨🟦🟦🟦🟨🟦⬜🟦<br>🟦⬜🟦⬜⬜⬜⬜⬜🟦⬜⬜⬜🟦🟨🟨🟨🟨🟨🟦⬜🟦<br>🟦⬜🟦⬜🟦🟦🟦⬜🟦⬜🟦🟦🟦🟦🟦🟦🟦🟦🟦⬜🟦<br>🟦⬜⬜⬜⬜⬜🟦⬜⬜⬜⬜⬜⬜⬜⬜⬜⬜⬜⬜🟥🟦<br>🟦🟦🟦🟦🟦🟦🟦🟦🟦🟦🟦🟦🟦🟦🟦🟦🟦🟦🟦🟦🟦`;\n",
              "    </script>\n",
              "    "
            ],
            "text/plain": [
              "<IPython.core.display.HTML object>"
            ]
          },
          "metadata": {},
          "output_type": "display_data"
        },
        {
          "data": {
            "text/html": [
              "\n",
              "    <script>\n",
              "    document.getElementById('maze').innerHTML = `🟦🟦🟦🟦🟦🟦🟦🟦🟦🟦🟦🟦🟦🟦🟦🟦🟦🟦🟦🟦🟦<br>🟦🟨🟦🟨🟨🟨🟨🟨🟨🟨🟨🟨🟦🟨🟨🟨🟨🟨🟨🟨🟦<br>🟦🟨🟦🟨🟦🟦🟦🟦🟦🟦🟦🟨🟦🟨🟦🟦🟦🟦🟦🟨🟦<br>🟦🟨🟨🟨🟦⬜⬜⬜⬜⬜🟦🟨🟨🟨🟦⬜🟦🟨🟨🟨🟦<br>🟦🟦🟦🟦🟦🟦🟦🟦🟦⬜🟦🟦🟦🟦🟦⬜🟦🟨🟦🟦🟦<br>🟦⬜⬜⬜⬜⬜⬜⬜⬜⬜🟦🟨🟨🟨🟨🟨🟦🟨🟦⬜🟦<br>🟦⬜🟦🟦🟦🟦🟦🟦🟦🟦🟦😼🟦🟨🟦🟦🟦🟨🟦⬜🟦<br>🟦⬜🟦⬜⬜⬜⬜⬜🟦⬜⬜⬜🟦🟨🟨🟨🟨🟨🟦⬜🟦<br>🟦⬜🟦⬜🟦🟦🟦⬜🟦⬜🟦🟦🟦🟦🟦🟦🟦🟦🟦⬜🟦<br>🟦⬜⬜⬜⬜⬜🟦⬜⬜⬜⬜⬜⬜⬜⬜⬜⬜⬜⬜🟥🟦<br>🟦🟦🟦🟦🟦🟦🟦🟦🟦🟦🟦🟦🟦🟦🟦🟦🟦🟦🟦🟦🟦`;\n",
              "    </script>\n",
              "    "
            ],
            "text/plain": [
              "<IPython.core.display.HTML object>"
            ]
          },
          "metadata": {},
          "output_type": "display_data"
        },
        {
          "data": {
            "text/html": [
              "\n",
              "    <script>\n",
              "    document.getElementById('maze').innerHTML = `🟦🟦🟦🟦🟦🟦🟦🟦🟦🟦🟦🟦🟦🟦🟦🟦🟦🟦🟦🟦🟦<br>🟦🟨🟦🟨🟨🟨🟨🟨🟨🟨🟨🟨🟦🟨🟨🟨🟨🟨🟨🟨🟦<br>🟦🟨🟦🟨🟦🟦🟦🟦🟦🟦🟦🟨🟦🟨🟦🟦🟦🟦🟦🟨🟦<br>🟦🟨🟨🟨🟦⬜⬜⬜⬜⬜🟦🟨🟨🟨🟦⬜🟦🟨🟨🟨🟦<br>🟦🟦🟦🟦🟦🟦🟦🟦🟦⬜🟦🟦🟦🟦🟦😼🟦🟨🟦🟦🟦<br>🟦⬜⬜⬜⬜⬜⬜⬜⬜⬜🟦🟨🟨🟨🟨🟨🟦🟨🟦⬜🟦<br>🟦⬜🟦🟦🟦🟦🟦🟦🟦🟦🟦🟨🟦🟨🟦🟦🟦🟨🟦⬜🟦<br>🟦⬜🟦⬜⬜⬜⬜⬜🟦⬜⬜⬜🟦🟨🟨🟨🟨🟨🟦⬜🟦<br>🟦⬜🟦⬜🟦🟦🟦⬜🟦⬜🟦🟦🟦🟦🟦🟦🟦🟦🟦⬜🟦<br>🟦⬜⬜⬜⬜⬜🟦⬜⬜⬜⬜⬜⬜⬜⬜⬜⬜⬜⬜🟥🟦<br>🟦🟦🟦🟦🟦🟦🟦🟦🟦🟦🟦🟦🟦🟦🟦🟦🟦🟦🟦🟦🟦`;\n",
              "    </script>\n",
              "    "
            ],
            "text/plain": [
              "<IPython.core.display.HTML object>"
            ]
          },
          "metadata": {},
          "output_type": "display_data"
        },
        {
          "data": {
            "text/html": [
              "\n",
              "    <script>\n",
              "    document.getElementById('maze').innerHTML = `🟦🟦🟦🟦🟦🟦🟦🟦🟦🟦🟦🟦🟦🟦🟦🟦🟦🟦🟦🟦🟦<br>🟦🟨🟦🟨🟨🟨🟨🟨🟨🟨🟨🟨🟦🟨🟨🟨🟨🟨🟨🟨🟦<br>🟦🟨🟦🟨🟦🟦🟦🟦🟦🟦🟦🟨🟦🟨🟦🟦🟦🟦🟦🟨🟦<br>🟦🟨🟨🟨🟦⬜⬜⬜⬜⬜🟦🟨🟨🟨🟦⬜🟦🟨🟨🟨🟦<br>🟦🟦🟦🟦🟦🟦🟦🟦🟦⬜🟦🟦🟦🟦🟦🟨🟦🟨🟦🟦🟦<br>🟦⬜⬜⬜⬜⬜⬜⬜⬜⬜🟦🟨🟨🟨🟨🟨🟦🟨🟦⬜🟦<br>🟦⬜🟦🟦🟦🟦🟦🟦🟦🟦🟦🟨🟦🟨🟦🟦🟦🟨🟦⬜🟦<br>🟦⬜🟦⬜⬜⬜⬜⬜🟦⬜⬜😼🟦🟨🟨🟨🟨🟨🟦⬜🟦<br>🟦⬜🟦⬜🟦🟦🟦⬜🟦⬜🟦🟦🟦🟦🟦🟦🟦🟦🟦⬜🟦<br>🟦⬜⬜⬜⬜⬜🟦⬜⬜⬜⬜⬜⬜⬜⬜⬜⬜⬜⬜🟥🟦<br>🟦🟦🟦🟦🟦🟦🟦🟦🟦🟦🟦🟦🟦🟦🟦🟦🟦🟦🟦🟦🟦`;\n",
              "    </script>\n",
              "    "
            ],
            "text/plain": [
              "<IPython.core.display.HTML object>"
            ]
          },
          "metadata": {},
          "output_type": "display_data"
        },
        {
          "data": {
            "text/html": [
              "\n",
              "    <script>\n",
              "    document.getElementById('maze').innerHTML = `🟦🟦🟦🟦🟦🟦🟦🟦🟦🟦🟦🟦🟦🟦🟦🟦🟦🟦🟦🟦🟦<br>🟦🟨🟦🟨🟨🟨🟨🟨🟨🟨🟨🟨🟦🟨🟨🟨🟨🟨🟨🟨🟦<br>🟦🟨🟦🟨🟦🟦🟦🟦🟦🟦🟦🟨🟦🟨🟦🟦🟦🟦🟦🟨🟦<br>🟦🟨🟨🟨🟦⬜⬜⬜⬜⬜🟦🟨🟨🟨🟦😼🟦🟨🟨🟨🟦<br>🟦🟦🟦🟦🟦🟦🟦🟦🟦⬜🟦🟦🟦🟦🟦🟨🟦🟨🟦🟦🟦<br>🟦⬜⬜⬜⬜⬜⬜⬜⬜⬜🟦🟨🟨🟨🟨🟨🟦🟨🟦⬜🟦<br>🟦⬜🟦🟦🟦🟦🟦🟦🟦🟦🟦🟨🟦🟨🟦🟦🟦🟨🟦⬜🟦<br>🟦⬜🟦⬜⬜⬜⬜⬜🟦⬜⬜🟨🟦🟨🟨🟨🟨🟨🟦⬜🟦<br>🟦⬜🟦⬜🟦🟦🟦⬜🟦⬜🟦🟦🟦🟦🟦🟦🟦🟦🟦⬜🟦<br>🟦⬜⬜⬜⬜⬜🟦⬜⬜⬜⬜⬜⬜⬜⬜⬜⬜⬜⬜🟥🟦<br>🟦🟦🟦🟦🟦🟦🟦🟦🟦🟦🟦🟦🟦🟦🟦🟦🟦🟦🟦🟦🟦`;\n",
              "    </script>\n",
              "    "
            ],
            "text/plain": [
              "<IPython.core.display.HTML object>"
            ]
          },
          "metadata": {},
          "output_type": "display_data"
        },
        {
          "data": {
            "text/html": [
              "\n",
              "    <script>\n",
              "    document.getElementById('maze').innerHTML = `🟦🟦🟦🟦🟦🟦🟦🟦🟦🟦🟦🟦🟦🟦🟦🟦🟦🟦🟦🟦🟦<br>🟦🟨🟦🟨🟨🟨🟨🟨🟨🟨🟨🟨🟦🟨🟨🟨🟨🟨🟨🟨🟦<br>🟦🟨🟦🟨🟦🟦🟦🟦🟦🟦🟦🟨🟦🟨🟦🟦🟦🟦🟦🟨🟦<br>🟦🟨🟨🟨🟦⬜⬜⬜⬜⬜🟦🟨🟨🟨🟦🟨🟦🟨🟨🟨🟦<br>🟦🟦🟦🟦🟦🟦🟦🟦🟦⬜🟦🟦🟦🟦🟦🟨🟦🟨🟦🟦🟦<br>🟦⬜⬜⬜⬜⬜⬜⬜⬜⬜🟦🟨🟨🟨🟨🟨🟦🟨🟦⬜🟦<br>🟦⬜🟦🟦🟦🟦🟦🟦🟦🟦🟦🟨🟦🟨🟦🟦🟦🟨🟦⬜🟦<br>🟦⬜🟦⬜⬜⬜⬜⬜🟦⬜😼🟨🟦🟨🟨🟨🟨🟨🟦⬜🟦<br>🟦⬜🟦⬜🟦🟦🟦⬜🟦⬜🟦🟦🟦🟦🟦🟦🟦🟦🟦⬜🟦<br>🟦⬜⬜⬜⬜⬜🟦⬜⬜⬜⬜⬜⬜⬜⬜⬜⬜⬜⬜🟥🟦<br>🟦🟦🟦🟦🟦🟦🟦🟦🟦🟦🟦🟦🟦🟦🟦🟦🟦🟦🟦🟦🟦`;\n",
              "    </script>\n",
              "    "
            ],
            "text/plain": [
              "<IPython.core.display.HTML object>"
            ]
          },
          "metadata": {},
          "output_type": "display_data"
        },
        {
          "data": {
            "text/html": [
              "\n",
              "    <script>\n",
              "    document.getElementById('maze').innerHTML = `🟦🟦🟦🟦🟦🟦🟦🟦🟦🟦🟦🟦🟦🟦🟦🟦🟦🟦🟦🟦🟦<br>🟦🟨🟦🟨🟨🟨🟨🟨🟨🟨🟨🟨🟦🟨🟨🟨🟨🟨🟨🟨🟦<br>🟦🟨🟦🟨🟦🟦🟦🟦🟦🟦🟦🟨🟦🟨🟦🟦🟦🟦🟦🟨🟦<br>🟦🟨🟨🟨🟦⬜⬜⬜⬜⬜🟦🟨🟨🟨🟦🟨🟦🟨🟨🟨🟦<br>🟦🟦🟦🟦🟦🟦🟦🟦🟦⬜🟦🟦🟦🟦🟦🟨🟦🟨🟦🟦🟦<br>🟦⬜⬜⬜⬜⬜⬜⬜⬜⬜🟦🟨🟨🟨🟨🟨🟦🟨🟦⬜🟦<br>🟦⬜🟦🟦🟦🟦🟦🟦🟦🟦🟦🟨🟦🟨🟦🟦🟦🟨🟦⬜🟦<br>🟦⬜🟦⬜⬜⬜⬜⬜🟦😼🟨🟨🟦🟨🟨🟨🟨🟨🟦⬜🟦<br>🟦⬜🟦⬜🟦🟦🟦⬜🟦⬜🟦🟦🟦🟦🟦🟦🟦🟦🟦⬜🟦<br>🟦⬜⬜⬜⬜⬜🟦⬜⬜⬜⬜⬜⬜⬜⬜⬜⬜⬜⬜🟥🟦<br>🟦🟦🟦🟦🟦🟦🟦🟦🟦🟦🟦🟦🟦🟦🟦🟦🟦🟦🟦🟦🟦`;\n",
              "    </script>\n",
              "    "
            ],
            "text/plain": [
              "<IPython.core.display.HTML object>"
            ]
          },
          "metadata": {},
          "output_type": "display_data"
        },
        {
          "data": {
            "text/html": [
              "\n",
              "    <script>\n",
              "    document.getElementById('maze').innerHTML = `🟦🟦🟦🟦🟦🟦🟦🟦🟦🟦🟦🟦🟦🟦🟦🟦🟦🟦🟦🟦🟦<br>🟦🟨🟦🟨🟨🟨🟨🟨🟨🟨🟨🟨🟦🟨🟨🟨🟨🟨🟨🟨🟦<br>🟦🟨🟦🟨🟦🟦🟦🟦🟦🟦🟦🟨🟦🟨🟦🟦🟦🟦🟦🟨🟦<br>🟦🟨🟨🟨🟦⬜⬜⬜⬜⬜🟦🟨🟨🟨🟦🟨🟦🟨🟨🟨🟦<br>🟦🟦🟦🟦🟦🟦🟦🟦🟦⬜🟦🟦🟦🟦🟦🟨🟦🟨🟦🟦🟦<br>🟦⬜⬜⬜⬜⬜⬜⬜⬜⬜🟦🟨🟨🟨🟨🟨🟦🟨🟦⬜🟦<br>🟦⬜🟦🟦🟦🟦🟦🟦🟦🟦🟦🟨🟦🟨🟦🟦🟦🟨🟦⬜🟦<br>🟦⬜🟦⬜⬜⬜⬜⬜🟦🟨🟨🟨🟦🟨🟨🟨🟨🟨🟦⬜🟦<br>🟦⬜🟦⬜🟦🟦🟦⬜🟦😼🟦🟦🟦🟦🟦🟦🟦🟦🟦⬜🟦<br>🟦⬜⬜⬜⬜⬜🟦⬜⬜⬜⬜⬜⬜⬜⬜⬜⬜⬜⬜🟥🟦<br>🟦🟦🟦🟦🟦🟦🟦🟦🟦🟦🟦🟦🟦🟦🟦🟦🟦🟦🟦🟦🟦`;\n",
              "    </script>\n",
              "    "
            ],
            "text/plain": [
              "<IPython.core.display.HTML object>"
            ]
          },
          "metadata": {},
          "output_type": "display_data"
        },
        {
          "data": {
            "text/html": [
              "\n",
              "    <script>\n",
              "    document.getElementById('maze').innerHTML = `🟦🟦🟦🟦🟦🟦🟦🟦🟦🟦🟦🟦🟦🟦🟦🟦🟦🟦🟦🟦🟦<br>🟦🟨🟦🟨🟨🟨🟨🟨🟨🟨🟨🟨🟦🟨🟨🟨🟨🟨🟨🟨🟦<br>🟦🟨🟦🟨🟦🟦🟦🟦🟦🟦🟦🟨🟦🟨🟦🟦🟦🟦🟦🟨🟦<br>🟦🟨🟨🟨🟦⬜⬜⬜⬜⬜🟦🟨🟨🟨🟦🟨🟦🟨🟨🟨🟦<br>🟦🟦🟦🟦🟦🟦🟦🟦🟦⬜🟦🟦🟦🟦🟦🟨🟦🟨🟦🟦🟦<br>🟦⬜⬜⬜⬜⬜⬜⬜⬜⬜🟦🟨🟨🟨🟨🟨🟦🟨🟦⬜🟦<br>🟦⬜🟦🟦🟦🟦🟦🟦🟦🟦🟦🟨🟦🟨🟦🟦🟦🟨🟦⬜🟦<br>🟦⬜🟦⬜⬜⬜⬜⬜🟦🟨🟨🟨🟦🟨🟨🟨🟨🟨🟦⬜🟦<br>🟦⬜🟦⬜🟦🟦🟦⬜🟦🟨🟦🟦🟦🟦🟦🟦🟦🟦🟦⬜🟦<br>🟦⬜⬜⬜⬜⬜🟦⬜⬜😼⬜⬜⬜⬜⬜⬜⬜⬜⬜🟥🟦<br>🟦🟦🟦🟦🟦🟦🟦🟦🟦🟦🟦🟦🟦🟦🟦🟦🟦🟦🟦🟦🟦`;\n",
              "    </script>\n",
              "    "
            ],
            "text/plain": [
              "<IPython.core.display.HTML object>"
            ]
          },
          "metadata": {},
          "output_type": "display_data"
        },
        {
          "data": {
            "text/html": [
              "\n",
              "    <script>\n",
              "    document.getElementById('maze').innerHTML = `🟦🟦🟦🟦🟦🟦🟦🟦🟦🟦🟦🟦🟦🟦🟦🟦🟦🟦🟦🟦🟦<br>🟦🟨🟦🟨🟨🟨🟨🟨🟨🟨🟨🟨🟦🟨🟨🟨🟨🟨🟨🟨🟦<br>🟦🟨🟦🟨🟦🟦🟦🟦🟦🟦🟦🟨🟦🟨🟦🟦🟦🟦🟦🟨🟦<br>🟦🟨🟨🟨🟦⬜⬜⬜⬜⬜🟦🟨🟨🟨🟦🟨🟦🟨🟨🟨🟦<br>🟦🟦🟦🟦🟦🟦🟦🟦🟦⬜🟦🟦🟦🟦🟦🟨🟦🟨🟦🟦🟦<br>🟦⬜⬜⬜⬜⬜⬜⬜⬜⬜🟦🟨🟨🟨🟨🟨🟦🟨🟦⬜🟦<br>🟦⬜🟦🟦🟦🟦🟦🟦🟦🟦🟦🟨🟦🟨🟦🟦🟦🟨🟦⬜🟦<br>🟦⬜🟦⬜⬜⬜⬜⬜🟦🟨🟨🟨🟦🟨🟨🟨🟨🟨🟦⬜🟦<br>🟦⬜🟦⬜🟦🟦🟦⬜🟦🟨🟦🟦🟦🟦🟦🟦🟦🟦🟦⬜🟦<br>🟦⬜⬜⬜⬜⬜🟦⬜😼🟨⬜⬜⬜⬜⬜⬜⬜⬜⬜🟥🟦<br>🟦🟦🟦🟦🟦🟦🟦🟦🟦🟦🟦🟦🟦🟦🟦🟦🟦🟦🟦🟦🟦`;\n",
              "    </script>\n",
              "    "
            ],
            "text/plain": [
              "<IPython.core.display.HTML object>"
            ]
          },
          "metadata": {},
          "output_type": "display_data"
        },
        {
          "data": {
            "text/html": [
              "\n",
              "    <script>\n",
              "    document.getElementById('maze').innerHTML = `🟦🟦🟦🟦🟦🟦🟦🟦🟦🟦🟦🟦🟦🟦🟦🟦🟦🟦🟦🟦🟦<br>🟦🟨🟦🟨🟨🟨🟨🟨🟨🟨🟨🟨🟦🟨🟨🟨🟨🟨🟨🟨🟦<br>🟦🟨🟦🟨🟦🟦🟦🟦🟦🟦🟦🟨🟦🟨🟦🟦🟦🟦🟦🟨🟦<br>🟦🟨🟨🟨🟦⬜⬜⬜⬜⬜🟦🟨🟨🟨🟦🟨🟦🟨🟨🟨🟦<br>🟦🟦🟦🟦🟦🟦🟦🟦🟦⬜🟦🟦🟦🟦🟦🟨🟦🟨🟦🟦🟦<br>🟦⬜⬜⬜⬜⬜⬜⬜⬜⬜🟦🟨🟨🟨🟨🟨🟦🟨🟦⬜🟦<br>🟦⬜🟦🟦🟦🟦🟦🟦🟦🟦🟦🟨🟦🟨🟦🟦🟦🟨🟦⬜🟦<br>🟦⬜🟦⬜⬜⬜⬜⬜🟦🟨🟨🟨🟦🟨🟨🟨🟨🟨🟦⬜🟦<br>🟦⬜🟦⬜🟦🟦🟦⬜🟦🟨🟦🟦🟦🟦🟦🟦🟦🟦🟦⬜🟦<br>🟦⬜⬜⬜⬜⬜🟦⬜🟨🟨😼⬜⬜⬜⬜⬜⬜⬜⬜🟥🟦<br>🟦🟦🟦🟦🟦🟦🟦🟦🟦🟦🟦🟦🟦🟦🟦🟦🟦🟦🟦🟦🟦`;\n",
              "    </script>\n",
              "    "
            ],
            "text/plain": [
              "<IPython.core.display.HTML object>"
            ]
          },
          "metadata": {},
          "output_type": "display_data"
        },
        {
          "data": {
            "text/html": [
              "\n",
              "    <script>\n",
              "    document.getElementById('maze').innerHTML = `🟦🟦🟦🟦🟦🟦🟦🟦🟦🟦🟦🟦🟦🟦🟦🟦🟦🟦🟦🟦🟦<br>🟦🟨🟦🟨🟨🟨🟨🟨🟨🟨🟨🟨🟦🟨🟨🟨🟨🟨🟨🟨🟦<br>🟦🟨🟦🟨🟦🟦🟦🟦🟦🟦🟦🟨🟦🟨🟦🟦🟦🟦🟦🟨🟦<br>🟦🟨🟨🟨🟦⬜⬜⬜⬜⬜🟦🟨🟨🟨🟦🟨🟦🟨🟨🟨🟦<br>🟦🟦🟦🟦🟦🟦🟦🟦🟦⬜🟦🟦🟦🟦🟦🟨🟦🟨🟦🟦🟦<br>🟦⬜⬜⬜⬜⬜⬜⬜⬜⬜🟦🟨🟨🟨🟨🟨🟦🟨🟦⬜🟦<br>🟦⬜🟦🟦🟦🟦🟦🟦🟦🟦🟦🟨🟦🟨🟦🟦🟦🟨🟦⬜🟦<br>🟦⬜🟦⬜⬜⬜⬜⬜🟦🟨🟨🟨🟦🟨🟨🟨🟨🟨🟦⬜🟦<br>🟦⬜🟦⬜🟦🟦🟦⬜🟦🟨🟦🟦🟦🟦🟦🟦🟦🟦🟦⬜🟦<br>🟦⬜⬜⬜⬜⬜🟦😼🟨🟨🟨⬜⬜⬜⬜⬜⬜⬜⬜🟥🟦<br>🟦🟦🟦🟦🟦🟦🟦🟦🟦🟦🟦🟦🟦🟦🟦🟦🟦🟦🟦🟦🟦`;\n",
              "    </script>\n",
              "    "
            ],
            "text/plain": [
              "<IPython.core.display.HTML object>"
            ]
          },
          "metadata": {},
          "output_type": "display_data"
        },
        {
          "data": {
            "text/html": [
              "\n",
              "    <script>\n",
              "    document.getElementById('maze').innerHTML = `🟦🟦🟦🟦🟦🟦🟦🟦🟦🟦🟦🟦🟦🟦🟦🟦🟦🟦🟦🟦🟦<br>🟦🟨🟦🟨🟨🟨🟨🟨🟨🟨🟨🟨🟦🟨🟨🟨🟨🟨🟨🟨🟦<br>🟦🟨🟦🟨🟦🟦🟦🟦🟦🟦🟦🟨🟦🟨🟦🟦🟦🟦🟦🟨🟦<br>🟦🟨🟨🟨🟦⬜⬜⬜⬜⬜🟦🟨🟨🟨🟦🟨🟦🟨🟨🟨🟦<br>🟦🟦🟦🟦🟦🟦🟦🟦🟦⬜🟦🟦🟦🟦🟦🟨🟦🟨🟦🟦🟦<br>🟦⬜⬜⬜⬜⬜⬜⬜⬜⬜🟦🟨🟨🟨🟨🟨🟦🟨🟦⬜🟦<br>🟦⬜🟦🟦🟦🟦🟦🟦🟦🟦🟦🟨🟦🟨🟦🟦🟦🟨🟦⬜🟦<br>🟦⬜🟦⬜⬜⬜⬜⬜🟦🟨🟨🟨🟦🟨🟨🟨🟨🟨🟦⬜🟦<br>🟦⬜🟦⬜🟦🟦🟦⬜🟦🟨🟦🟦🟦🟦🟦🟦🟦🟦🟦⬜🟦<br>🟦⬜⬜⬜⬜⬜🟦🟨🟨🟨🟨😼⬜⬜⬜⬜⬜⬜⬜🟥🟦<br>🟦🟦🟦🟦🟦🟦🟦🟦🟦🟦🟦🟦🟦🟦🟦🟦🟦🟦🟦🟦🟦`;\n",
              "    </script>\n",
              "    "
            ],
            "text/plain": [
              "<IPython.core.display.HTML object>"
            ]
          },
          "metadata": {},
          "output_type": "display_data"
        },
        {
          "data": {
            "text/html": [
              "\n",
              "    <script>\n",
              "    document.getElementById('maze').innerHTML = `🟦🟦🟦🟦🟦🟦🟦🟦🟦🟦🟦🟦🟦🟦🟦🟦🟦🟦🟦🟦🟦<br>🟦🟨🟦🟨🟨🟨🟨🟨🟨🟨🟨🟨🟦🟨🟨🟨🟨🟨🟨🟨🟦<br>🟦🟨🟦🟨🟦🟦🟦🟦🟦🟦🟦🟨🟦🟨🟦🟦🟦🟦🟦🟨🟦<br>🟦🟨🟨🟨🟦⬜⬜⬜⬜⬜🟦🟨🟨🟨🟦🟨🟦🟨🟨🟨🟦<br>🟦🟦🟦🟦🟦🟦🟦🟦🟦⬜🟦🟦🟦🟦🟦🟨🟦🟨🟦🟦🟦<br>🟦⬜⬜⬜⬜⬜⬜⬜⬜⬜🟦🟨🟨🟨🟨🟨🟦🟨🟦⬜🟦<br>🟦⬜🟦🟦🟦🟦🟦🟦🟦🟦🟦🟨🟦🟨🟦🟦🟦🟨🟦⬜🟦<br>🟦⬜🟦⬜⬜⬜⬜⬜🟦🟨🟨🟨🟦🟨🟨🟨🟨🟨🟦⬜🟦<br>🟦⬜🟦⬜🟦🟦🟦😼🟦🟨🟦🟦🟦🟦🟦🟦🟦🟦🟦⬜🟦<br>🟦⬜⬜⬜⬜⬜🟦🟨🟨🟨🟨🟨⬜⬜⬜⬜⬜⬜⬜🟥🟦<br>🟦🟦🟦🟦🟦🟦🟦🟦🟦🟦🟦🟦🟦🟦🟦🟦🟦🟦🟦🟦🟦`;\n",
              "    </script>\n",
              "    "
            ],
            "text/plain": [
              "<IPython.core.display.HTML object>"
            ]
          },
          "metadata": {},
          "output_type": "display_data"
        },
        {
          "data": {
            "text/html": [
              "\n",
              "    <script>\n",
              "    document.getElementById('maze').innerHTML = `🟦🟦🟦🟦🟦🟦🟦🟦🟦🟦🟦🟦🟦🟦🟦🟦🟦🟦🟦🟦🟦<br>🟦🟨🟦🟨🟨🟨🟨🟨🟨🟨🟨🟨🟦🟨🟨🟨🟨🟨🟨🟨🟦<br>🟦🟨🟦🟨🟦🟦🟦🟦🟦🟦🟦🟨🟦🟨🟦🟦🟦🟦🟦🟨🟦<br>🟦🟨🟨🟨🟦⬜⬜⬜⬜⬜🟦🟨🟨🟨🟦🟨🟦🟨🟨🟨🟦<br>🟦🟦🟦🟦🟦🟦🟦🟦🟦⬜🟦🟦🟦🟦🟦🟨🟦🟨🟦🟦🟦<br>🟦⬜⬜⬜⬜⬜⬜⬜⬜⬜🟦🟨🟨🟨🟨🟨🟦🟨🟦⬜🟦<br>🟦⬜🟦🟦🟦🟦🟦🟦🟦🟦🟦🟨🟦🟨🟦🟦🟦🟨🟦⬜🟦<br>🟦⬜🟦⬜⬜⬜⬜⬜🟦🟨🟨🟨🟦🟨🟨🟨🟨🟨🟦⬜🟦<br>🟦⬜🟦⬜🟦🟦🟦🟨🟦🟨🟦🟦🟦🟦🟦🟦🟦🟦🟦⬜🟦<br>🟦⬜⬜⬜⬜⬜🟦🟨🟨🟨🟨🟨😼⬜⬜⬜⬜⬜⬜🟥🟦<br>🟦🟦🟦🟦🟦🟦🟦🟦🟦🟦🟦🟦🟦🟦🟦🟦🟦🟦🟦🟦🟦`;\n",
              "    </script>\n",
              "    "
            ],
            "text/plain": [
              "<IPython.core.display.HTML object>"
            ]
          },
          "metadata": {},
          "output_type": "display_data"
        },
        {
          "data": {
            "text/html": [
              "\n",
              "    <script>\n",
              "    document.getElementById('maze').innerHTML = `🟦🟦🟦🟦🟦🟦🟦🟦🟦🟦🟦🟦🟦🟦🟦🟦🟦🟦🟦🟦🟦<br>🟦🟨🟦🟨🟨🟨🟨🟨🟨🟨🟨🟨🟦🟨🟨🟨🟨🟨🟨🟨🟦<br>🟦🟨🟦🟨🟦🟦🟦🟦🟦🟦🟦🟨🟦🟨🟦🟦🟦🟦🟦🟨🟦<br>🟦🟨🟨🟨🟦⬜⬜⬜⬜⬜🟦🟨🟨🟨🟦🟨🟦🟨🟨🟨🟦<br>🟦🟦🟦🟦🟦🟦🟦🟦🟦⬜🟦🟦🟦🟦🟦🟨🟦🟨🟦🟦🟦<br>🟦⬜⬜⬜⬜⬜⬜⬜⬜⬜🟦🟨🟨🟨🟨🟨🟦🟨🟦⬜🟦<br>🟦⬜🟦🟦🟦🟦🟦🟦🟦🟦🟦🟨🟦🟨🟦🟦🟦🟨🟦⬜🟦<br>🟦⬜🟦⬜⬜⬜⬜😼🟦🟨🟨🟨🟦🟨🟨🟨🟨🟨🟦⬜🟦<br>🟦⬜🟦⬜🟦🟦🟦🟨🟦🟨🟦🟦🟦🟦🟦🟦🟦🟦🟦⬜🟦<br>🟦⬜⬜⬜⬜⬜🟦🟨🟨🟨🟨🟨🟨⬜⬜⬜⬜⬜⬜🟥🟦<br>🟦🟦🟦🟦🟦🟦🟦🟦🟦🟦🟦🟦🟦🟦🟦🟦🟦🟦🟦🟦🟦`;\n",
              "    </script>\n",
              "    "
            ],
            "text/plain": [
              "<IPython.core.display.HTML object>"
            ]
          },
          "metadata": {},
          "output_type": "display_data"
        },
        {
          "data": {
            "text/html": [
              "\n",
              "    <script>\n",
              "    document.getElementById('maze').innerHTML = `🟦🟦🟦🟦🟦🟦🟦🟦🟦🟦🟦🟦🟦🟦🟦🟦🟦🟦🟦🟦🟦<br>🟦🟨🟦🟨🟨🟨🟨🟨🟨🟨🟨🟨🟦🟨🟨🟨🟨🟨🟨🟨🟦<br>🟦🟨🟦🟨🟦🟦🟦🟦🟦🟦🟦🟨🟦🟨🟦🟦🟦🟦🟦🟨🟦<br>🟦🟨🟨🟨🟦⬜⬜⬜⬜⬜🟦🟨🟨🟨🟦🟨🟦🟨🟨🟨🟦<br>🟦🟦🟦🟦🟦🟦🟦🟦🟦⬜🟦🟦🟦🟦🟦🟨🟦🟨🟦🟦🟦<br>🟦⬜⬜⬜⬜⬜⬜⬜⬜⬜🟦🟨🟨🟨🟨🟨🟦🟨🟦⬜🟦<br>🟦⬜🟦🟦🟦🟦🟦🟦🟦🟦🟦🟨🟦🟨🟦🟦🟦🟨🟦⬜🟦<br>🟦⬜🟦⬜⬜⬜⬜🟨🟦🟨🟨🟨🟦🟨🟨🟨🟨🟨🟦⬜🟦<br>🟦⬜🟦⬜🟦🟦🟦🟨🟦🟨🟦🟦🟦🟦🟦🟦🟦🟦🟦⬜🟦<br>🟦⬜⬜⬜⬜⬜🟦🟨🟨🟨🟨🟨🟨😼⬜⬜⬜⬜⬜🟥🟦<br>🟦🟦🟦🟦🟦🟦🟦🟦🟦🟦🟦🟦🟦🟦🟦🟦🟦🟦🟦🟦🟦`;\n",
              "    </script>\n",
              "    "
            ],
            "text/plain": [
              "<IPython.core.display.HTML object>"
            ]
          },
          "metadata": {},
          "output_type": "display_data"
        },
        {
          "data": {
            "text/html": [
              "\n",
              "    <script>\n",
              "    document.getElementById('maze').innerHTML = `🟦🟦🟦🟦🟦🟦🟦🟦🟦🟦🟦🟦🟦🟦🟦🟦🟦🟦🟦🟦🟦<br>🟦🟨🟦🟨🟨🟨🟨🟨🟨🟨🟨🟨🟦🟨🟨🟨🟨🟨🟨🟨🟦<br>🟦🟨🟦🟨🟦🟦🟦🟦🟦🟦🟦🟨🟦🟨🟦🟦🟦🟦🟦🟨🟦<br>🟦🟨🟨🟨🟦⬜⬜⬜⬜⬜🟦🟨🟨🟨🟦🟨🟦🟨🟨🟨🟦<br>🟦🟦🟦🟦🟦🟦🟦🟦🟦⬜🟦🟦🟦🟦🟦🟨🟦🟨🟦🟦🟦<br>🟦⬜⬜⬜⬜⬜⬜⬜⬜⬜🟦🟨🟨🟨🟨🟨🟦🟨🟦⬜🟦<br>🟦⬜🟦🟦🟦🟦🟦🟦🟦🟦🟦🟨🟦🟨🟦🟦🟦🟨🟦⬜🟦<br>🟦⬜🟦⬜⬜⬜😼🟨🟦🟨🟨🟨🟦🟨🟨🟨🟨🟨🟦⬜🟦<br>🟦⬜🟦⬜🟦🟦🟦🟨🟦🟨🟦🟦🟦🟦🟦🟦🟦🟦🟦⬜🟦<br>🟦⬜⬜⬜⬜⬜🟦🟨🟨🟨🟨🟨🟨🟨⬜⬜⬜⬜⬜🟥🟦<br>🟦🟦🟦🟦🟦🟦🟦🟦🟦🟦🟦🟦🟦🟦🟦🟦🟦🟦🟦🟦🟦`;\n",
              "    </script>\n",
              "    "
            ],
            "text/plain": [
              "<IPython.core.display.HTML object>"
            ]
          },
          "metadata": {},
          "output_type": "display_data"
        },
        {
          "data": {
            "text/html": [
              "\n",
              "    <script>\n",
              "    document.getElementById('maze').innerHTML = `🟦🟦🟦🟦🟦🟦🟦🟦🟦🟦🟦🟦🟦🟦🟦🟦🟦🟦🟦🟦🟦<br>🟦🟨🟦🟨🟨🟨🟨🟨🟨🟨🟨🟨🟦🟨🟨🟨🟨🟨🟨🟨🟦<br>🟦🟨🟦🟨🟦🟦🟦🟦🟦🟦🟦🟨🟦🟨🟦🟦🟦🟦🟦🟨🟦<br>🟦🟨🟨🟨🟦⬜⬜⬜⬜⬜🟦🟨🟨🟨🟦🟨🟦🟨🟨🟨🟦<br>🟦🟦🟦🟦🟦🟦🟦🟦🟦⬜🟦🟦🟦🟦🟦🟨🟦🟨🟦🟦🟦<br>🟦⬜⬜⬜⬜⬜⬜⬜⬜⬜🟦🟨🟨🟨🟨🟨🟦🟨🟦⬜🟦<br>🟦⬜🟦🟦🟦🟦🟦🟦🟦🟦🟦🟨🟦🟨🟦🟦🟦🟨🟦⬜🟦<br>🟦⬜🟦⬜⬜⬜🟨🟨🟦🟨🟨🟨🟦🟨🟨🟨🟨🟨🟦⬜🟦<br>🟦⬜🟦⬜🟦🟦🟦🟨🟦🟨🟦🟦🟦🟦🟦🟦🟦🟦🟦⬜🟦<br>🟦⬜⬜⬜⬜⬜🟦🟨🟨🟨🟨🟨🟨🟨😼⬜⬜⬜⬜🟥🟦<br>🟦🟦🟦🟦🟦🟦🟦🟦🟦🟦🟦🟦🟦🟦🟦🟦🟦🟦🟦🟦🟦`;\n",
              "    </script>\n",
              "    "
            ],
            "text/plain": [
              "<IPython.core.display.HTML object>"
            ]
          },
          "metadata": {},
          "output_type": "display_data"
        },
        {
          "data": {
            "text/html": [
              "\n",
              "    <script>\n",
              "    document.getElementById('maze').innerHTML = `🟦🟦🟦🟦🟦🟦🟦🟦🟦🟦🟦🟦🟦🟦🟦🟦🟦🟦🟦🟦🟦<br>🟦🟨🟦🟨🟨🟨🟨🟨🟨🟨🟨🟨🟦🟨🟨🟨🟨🟨🟨🟨🟦<br>🟦🟨🟦🟨🟦🟦🟦🟦🟦🟦🟦🟨🟦🟨🟦🟦🟦🟦🟦🟨🟦<br>🟦🟨🟨🟨🟦⬜⬜⬜⬜⬜🟦🟨🟨🟨🟦🟨🟦🟨🟨🟨🟦<br>🟦🟦🟦🟦🟦🟦🟦🟦🟦⬜🟦🟦🟦🟦🟦🟨🟦🟨🟦🟦🟦<br>🟦⬜⬜⬜⬜⬜⬜⬜⬜⬜🟦🟨🟨🟨🟨🟨🟦🟨🟦⬜🟦<br>🟦⬜🟦🟦🟦🟦🟦🟦🟦🟦🟦🟨🟦🟨🟦🟦🟦🟨🟦⬜🟦<br>🟦⬜🟦⬜⬜😼🟨🟨🟦🟨🟨🟨🟦🟨🟨🟨🟨🟨🟦⬜🟦<br>🟦⬜🟦⬜🟦🟦🟦🟨🟦🟨🟦🟦🟦🟦🟦🟦🟦🟦🟦⬜🟦<br>🟦⬜⬜⬜⬜⬜🟦🟨🟨🟨🟨🟨🟨🟨🟨⬜⬜⬜⬜🟥🟦<br>🟦🟦🟦🟦🟦🟦🟦🟦🟦🟦🟦🟦🟦🟦🟦🟦🟦🟦🟦🟦🟦`;\n",
              "    </script>\n",
              "    "
            ],
            "text/plain": [
              "<IPython.core.display.HTML object>"
            ]
          },
          "metadata": {},
          "output_type": "display_data"
        },
        {
          "data": {
            "text/html": [
              "\n",
              "    <script>\n",
              "    document.getElementById('maze').innerHTML = `🟦🟦🟦🟦🟦🟦🟦🟦🟦🟦🟦🟦🟦🟦🟦🟦🟦🟦🟦🟦🟦<br>🟦🟨🟦🟨🟨🟨🟨🟨🟨🟨🟨🟨🟦🟨🟨🟨🟨🟨🟨🟨🟦<br>🟦🟨🟦🟨🟦🟦🟦🟦🟦🟦🟦🟨🟦🟨🟦🟦🟦🟦🟦🟨🟦<br>🟦🟨🟨🟨🟦⬜⬜⬜⬜⬜🟦🟨🟨🟨🟦🟨🟦🟨🟨🟨🟦<br>🟦🟦🟦🟦🟦🟦🟦🟦🟦⬜🟦🟦🟦🟦🟦🟨🟦🟨🟦🟦🟦<br>🟦⬜⬜⬜⬜⬜⬜⬜⬜⬜🟦🟨🟨🟨🟨🟨🟦🟨🟦⬜🟦<br>🟦⬜🟦🟦🟦🟦🟦🟦🟦🟦🟦🟨🟦🟨🟦🟦🟦🟨🟦⬜🟦<br>🟦⬜🟦⬜⬜🟨🟨🟨🟦🟨🟨🟨🟦🟨🟨🟨🟨🟨🟦⬜🟦<br>🟦⬜🟦⬜🟦🟦🟦🟨🟦🟨🟦🟦🟦🟦🟦🟦🟦🟦🟦⬜🟦<br>🟦⬜⬜⬜⬜⬜🟦🟨🟨🟨🟨🟨🟨🟨🟨😼⬜⬜⬜🟥🟦<br>🟦🟦🟦🟦🟦🟦🟦🟦🟦🟦🟦🟦🟦🟦🟦🟦🟦🟦🟦🟦🟦`;\n",
              "    </script>\n",
              "    "
            ],
            "text/plain": [
              "<IPython.core.display.HTML object>"
            ]
          },
          "metadata": {},
          "output_type": "display_data"
        },
        {
          "data": {
            "text/html": [
              "\n",
              "    <script>\n",
              "    document.getElementById('maze').innerHTML = `🟦🟦🟦🟦🟦🟦🟦🟦🟦🟦🟦🟦🟦🟦🟦🟦🟦🟦🟦🟦🟦<br>🟦🟨🟦🟨🟨🟨🟨🟨🟨🟨🟨🟨🟦🟨🟨🟨🟨🟨🟨🟨🟦<br>🟦🟨🟦🟨🟦🟦🟦🟦🟦🟦🟦🟨🟦🟨🟦🟦🟦🟦🟦🟨🟦<br>🟦🟨🟨🟨🟦⬜⬜⬜⬜⬜🟦🟨🟨🟨🟦🟨🟦🟨🟨🟨🟦<br>🟦🟦🟦🟦🟦🟦🟦🟦🟦⬜🟦🟦🟦🟦🟦🟨🟦🟨🟦🟦🟦<br>🟦⬜⬜⬜⬜⬜⬜⬜⬜⬜🟦🟨🟨🟨🟨🟨🟦🟨🟦⬜🟦<br>🟦⬜🟦🟦🟦🟦🟦🟦🟦🟦🟦🟨🟦🟨🟦🟦🟦🟨🟦⬜🟦<br>🟦⬜🟦⬜😼🟨🟨🟨🟦🟨🟨🟨🟦🟨🟨🟨🟨🟨🟦⬜🟦<br>🟦⬜🟦⬜🟦🟦🟦🟨🟦🟨🟦🟦🟦🟦🟦🟦🟦🟦🟦⬜🟦<br>🟦⬜⬜⬜⬜⬜🟦🟨🟨🟨🟨🟨🟨🟨🟨🟨⬜⬜⬜🟥🟦<br>🟦🟦🟦🟦🟦🟦🟦🟦🟦🟦🟦🟦🟦🟦🟦🟦🟦🟦🟦🟦🟦`;\n",
              "    </script>\n",
              "    "
            ],
            "text/plain": [
              "<IPython.core.display.HTML object>"
            ]
          },
          "metadata": {},
          "output_type": "display_data"
        },
        {
          "data": {
            "text/html": [
              "\n",
              "    <script>\n",
              "    document.getElementById('maze').innerHTML = `🟦🟦🟦🟦🟦🟦🟦🟦🟦🟦🟦🟦🟦🟦🟦🟦🟦🟦🟦🟦🟦<br>🟦🟨🟦🟨🟨🟨🟨🟨🟨🟨🟨🟨🟦🟨🟨🟨🟨🟨🟨🟨🟦<br>🟦🟨🟦🟨🟦🟦🟦🟦🟦🟦🟦🟨🟦🟨🟦🟦🟦🟦🟦🟨🟦<br>🟦🟨🟨🟨🟦⬜⬜⬜⬜⬜🟦🟨🟨🟨🟦🟨🟦🟨🟨🟨🟦<br>🟦🟦🟦🟦🟦🟦🟦🟦🟦⬜🟦🟦🟦🟦🟦🟨🟦🟨🟦🟦🟦<br>🟦⬜⬜⬜⬜⬜⬜⬜⬜⬜🟦🟨🟨🟨🟨🟨🟦🟨🟦⬜🟦<br>🟦⬜🟦🟦🟦🟦🟦🟦🟦🟦🟦🟨🟦🟨🟦🟦🟦🟨🟦⬜🟦<br>🟦⬜🟦⬜🟨🟨🟨🟨🟦🟨🟨🟨🟦🟨🟨🟨🟨🟨🟦⬜🟦<br>🟦⬜🟦⬜🟦🟦🟦🟨🟦🟨🟦🟦🟦🟦🟦🟦🟦🟦🟦⬜🟦<br>🟦⬜⬜⬜⬜⬜🟦🟨🟨🟨🟨🟨🟨🟨🟨🟨😼⬜⬜🟥🟦<br>🟦🟦🟦🟦🟦🟦🟦🟦🟦🟦🟦🟦🟦🟦🟦🟦🟦🟦🟦🟦🟦`;\n",
              "    </script>\n",
              "    "
            ],
            "text/plain": [
              "<IPython.core.display.HTML object>"
            ]
          },
          "metadata": {},
          "output_type": "display_data"
        },
        {
          "data": {
            "text/html": [
              "\n",
              "    <script>\n",
              "    document.getElementById('maze').innerHTML = `🟦🟦🟦🟦🟦🟦🟦🟦🟦🟦🟦🟦🟦🟦🟦🟦🟦🟦🟦🟦🟦<br>🟦🟨🟦🟨🟨🟨🟨🟨🟨🟨🟨🟨🟦🟨🟨🟨🟨🟨🟨🟨🟦<br>🟦🟨🟦🟨🟦🟦🟦🟦🟦🟦🟦🟨🟦🟨🟦🟦🟦🟦🟦🟨🟦<br>🟦🟨🟨🟨🟦⬜⬜⬜⬜⬜🟦🟨🟨🟨🟦🟨🟦🟨🟨🟨🟦<br>🟦🟦🟦🟦🟦🟦🟦🟦🟦⬜🟦🟦🟦🟦🟦🟨🟦🟨🟦🟦🟦<br>🟦⬜⬜⬜⬜⬜⬜⬜⬜⬜🟦🟨🟨🟨🟨🟨🟦🟨🟦⬜🟦<br>🟦⬜🟦🟦🟦🟦🟦🟦🟦🟦🟦🟨🟦🟨🟦🟦🟦🟨🟦⬜🟦<br>🟦⬜🟦😼🟨🟨🟨🟨🟦🟨🟨🟨🟦🟨🟨🟨🟨🟨🟦⬜🟦<br>🟦⬜🟦⬜🟦🟦🟦🟨🟦🟨🟦🟦🟦🟦🟦🟦🟦🟦🟦⬜🟦<br>🟦⬜⬜⬜⬜⬜🟦🟨🟨🟨🟨🟨🟨🟨🟨🟨🟨⬜⬜🟥🟦<br>🟦🟦🟦🟦🟦🟦🟦🟦🟦🟦🟦🟦🟦🟦🟦🟦🟦🟦🟦🟦🟦`;\n",
              "    </script>\n",
              "    "
            ],
            "text/plain": [
              "<IPython.core.display.HTML object>"
            ]
          },
          "metadata": {},
          "output_type": "display_data"
        },
        {
          "data": {
            "text/html": [
              "\n",
              "    <script>\n",
              "    document.getElementById('maze').innerHTML = `🟦🟦🟦🟦🟦🟦🟦🟦🟦🟦🟦🟦🟦🟦🟦🟦🟦🟦🟦🟦🟦<br>🟦🟨🟦🟨🟨🟨🟨🟨🟨🟨🟨🟨🟦🟨🟨🟨🟨🟨🟨🟨🟦<br>🟦🟨🟦🟨🟦🟦🟦🟦🟦🟦🟦🟨🟦🟨🟦🟦🟦🟦🟦🟨🟦<br>🟦🟨🟨🟨🟦⬜⬜⬜⬜⬜🟦🟨🟨🟨🟦🟨🟦🟨🟨🟨🟦<br>🟦🟦🟦🟦🟦🟦🟦🟦🟦⬜🟦🟦🟦🟦🟦🟨🟦🟨🟦🟦🟦<br>🟦⬜⬜⬜⬜⬜⬜⬜⬜⬜🟦🟨🟨🟨🟨🟨🟦🟨🟦⬜🟦<br>🟦⬜🟦🟦🟦🟦🟦🟦🟦🟦🟦🟨🟦🟨🟦🟦🟦🟨🟦⬜🟦<br>🟦⬜🟦🟨🟨🟨🟨🟨🟦🟨🟨🟨🟦🟨🟨🟨🟨🟨🟦⬜🟦<br>🟦⬜🟦⬜🟦🟦🟦🟨🟦🟨🟦🟦🟦🟦🟦🟦🟦🟦🟦⬜🟦<br>🟦⬜⬜⬜⬜⬜🟦🟨🟨🟨🟨🟨🟨🟨🟨🟨🟨😼⬜🟥🟦<br>🟦🟦🟦🟦🟦🟦🟦🟦🟦🟦🟦🟦🟦🟦🟦🟦🟦🟦🟦🟦🟦`;\n",
              "    </script>\n",
              "    "
            ],
            "text/plain": [
              "<IPython.core.display.HTML object>"
            ]
          },
          "metadata": {},
          "output_type": "display_data"
        },
        {
          "data": {
            "text/html": [
              "\n",
              "    <script>\n",
              "    document.getElementById('maze').innerHTML = `🟦🟦🟦🟦🟦🟦🟦🟦🟦🟦🟦🟦🟦🟦🟦🟦🟦🟦🟦🟦🟦<br>🟦🟨🟦🟨🟨🟨🟨🟨🟨🟨🟨🟨🟦🟨🟨🟨🟨🟨🟨🟨🟦<br>🟦🟨🟦🟨🟦🟦🟦🟦🟦🟦🟦🟨🟦🟨🟦🟦🟦🟦🟦🟨🟦<br>🟦🟨🟨🟨🟦⬜⬜⬜⬜⬜🟦🟨🟨🟨🟦🟨🟦🟨🟨🟨🟦<br>🟦🟦🟦🟦🟦🟦🟦🟦🟦⬜🟦🟦🟦🟦🟦🟨🟦🟨🟦🟦🟦<br>🟦⬜⬜⬜⬜⬜⬜⬜⬜⬜🟦🟨🟨🟨🟨🟨🟦🟨🟦⬜🟦<br>🟦⬜🟦🟦🟦🟦🟦🟦🟦🟦🟦🟨🟦🟨🟦🟦🟦🟨🟦⬜🟦<br>🟦⬜🟦🟨🟨🟨🟨🟨🟦🟨🟨🟨🟦🟨🟨🟨🟨🟨🟦⬜🟦<br>🟦⬜🟦😼🟦🟦🟦🟨🟦🟨🟦🟦🟦🟦🟦🟦🟦🟦🟦⬜🟦<br>🟦⬜⬜⬜⬜⬜🟦🟨🟨🟨🟨🟨🟨🟨🟨🟨🟨🟨⬜🟥🟦<br>🟦🟦🟦🟦🟦🟦🟦🟦🟦🟦🟦🟦🟦🟦🟦🟦🟦🟦🟦🟦🟦`;\n",
              "    </script>\n",
              "    "
            ],
            "text/plain": [
              "<IPython.core.display.HTML object>"
            ]
          },
          "metadata": {},
          "output_type": "display_data"
        },
        {
          "data": {
            "text/html": [
              "\n",
              "    <script>\n",
              "    document.getElementById('maze').innerHTML = `🟦🟦🟦🟦🟦🟦🟦🟦🟦🟦🟦🟦🟦🟦🟦🟦🟦🟦🟦🟦🟦<br>🟦🟨🟦🟨🟨🟨🟨🟨🟨🟨🟨🟨🟦🟨🟨🟨🟨🟨🟨🟨🟦<br>🟦🟨🟦🟨🟦🟦🟦🟦🟦🟦🟦🟨🟦🟨🟦🟦🟦🟦🟦🟨🟦<br>🟦🟨🟨🟨🟦⬜⬜⬜⬜⬜🟦🟨🟨🟨🟦🟨🟦🟨🟨🟨🟦<br>🟦🟦🟦🟦🟦🟦🟦🟦🟦⬜🟦🟦🟦🟦🟦🟨🟦🟨🟦🟦🟦<br>🟦⬜⬜⬜⬜⬜⬜⬜⬜⬜🟦🟨🟨🟨🟨🟨🟦🟨🟦⬜🟦<br>🟦⬜🟦🟦🟦🟦🟦🟦🟦🟦🟦🟨🟦🟨🟦🟦🟦🟨🟦⬜🟦<br>🟦⬜🟦🟨🟨🟨🟨🟨🟦🟨🟨🟨🟦🟨🟨🟨🟨🟨🟦⬜🟦<br>🟦⬜🟦🟨🟦🟦🟦🟨🟦🟨🟦🟦🟦🟦🟦🟦🟦🟦🟦⬜🟦<br>🟦⬜⬜⬜⬜⬜🟦🟨🟨🟨🟨🟨🟨🟨🟨🟨🟨🟨😼🟥🟦<br>🟦🟦🟦🟦🟦🟦🟦🟦🟦🟦🟦🟦🟦🟦🟦🟦🟦🟦🟦🟦🟦`;\n",
              "    </script>\n",
              "    "
            ],
            "text/plain": [
              "<IPython.core.display.HTML object>"
            ]
          },
          "metadata": {},
          "output_type": "display_data"
        },
        {
          "data": {
            "text/html": [
              "\n",
              "    <script>\n",
              "    document.getElementById('maze').innerHTML = `🟦🟦🟦🟦🟦🟦🟦🟦🟦🟦🟦🟦🟦🟦🟦🟦🟦🟦🟦🟦🟦<br>🟦🟨🟦🟨🟨🟨🟨🟨🟨🟨🟨🟨🟦🟨🟨🟨🟨🟨🟨🟨🟦<br>🟦🟨🟦🟨🟦🟦🟦🟦🟦🟦🟦🟨🟦🟨🟦🟦🟦🟦🟦🟨🟦<br>🟦🟨🟨🟨🟦⬜⬜⬜⬜⬜🟦🟨🟨🟨🟦🟨🟦🟨🟨🟨🟦<br>🟦🟦🟦🟦🟦🟦🟦🟦🟦⬜🟦🟦🟦🟦🟦🟨🟦🟨🟦🟦🟦<br>🟦⬜⬜⬜⬜⬜⬜⬜⬜⬜🟦🟨🟨🟨🟨🟨🟦🟨🟦⬜🟦<br>🟦⬜🟦🟦🟦🟦🟦🟦🟦🟦🟦🟨🟦🟨🟦🟦🟦🟨🟦⬜🟦<br>🟦⬜🟦🟨🟨🟨🟨🟨🟦🟨🟨🟨🟦🟨🟨🟨🟨🟨🟦⬜🟦<br>🟦⬜🟦🟨🟦🟦🟦🟨🟦🟨🟦🟦🟦🟦🟦🟦🟦🟦🟦⬜🟦<br>🟦⬜⬜😼⬜⬜🟦🟨🟨🟨🟨🟨🟨🟨🟨🟨🟨🟨🟨🟥🟦<br>🟦🟦🟦🟦🟦🟦🟦🟦🟦🟦🟦🟦🟦🟦🟦🟦🟦🟦🟦🟦🟦`;\n",
              "    </script>\n",
              "    "
            ],
            "text/plain": [
              "<IPython.core.display.HTML object>"
            ]
          },
          "metadata": {},
          "output_type": "display_data"
        },
        {
          "data": {
            "text/html": [
              "\n",
              "    <script>\n",
              "    document.getElementById('maze').innerHTML = `🟦🟦🟦🟦🟦🟦🟦🟦🟦🟦🟦🟦🟦🟦🟦🟦🟦🟦🟦🟦🟦<br>🟦🟨🟦🟨🟨🟨🟨🟨🟨🟨🟨🟨🟦🟨🟨🟨🟨🟨🟨🟨🟦<br>🟦🟨🟦🟨🟦🟦🟦🟦🟦🟦🟦🟨🟦🟨🟦🟦🟦🟦🟦🟨🟦<br>🟦🟨🟨🟨🟦⬜⬜⬜⬜⬜🟦🟨🟨🟨🟦🟨🟦🟨🟨🟨🟦<br>🟦🟦🟦🟦🟦🟦🟦🟦🟦⬜🟦🟦🟦🟦🟦🟨🟦🟨🟦🟦🟦<br>🟦⬜⬜⬜⬜⬜⬜⬜⬜⬜🟦🟨🟨🟨🟨🟨🟦🟨🟦⬜🟦<br>🟦⬜🟦🟦🟦🟦🟦🟦🟦🟦🟦🟨🟦🟨🟦🟦🟦🟨🟦⬜🟦<br>🟦⬜🟦🟨🟨🟨🟨🟨🟦🟨🟨🟨🟦🟨🟨🟨🟨🟨🟦⬜🟦<br>🟦⬜🟦🟨🟦🟦🟦🟨🟦🟨🟦🟦🟦🟦🟦🟦🟦🟦🟦⬜🟦<br>🟦⬜⬜🟨⬜⬜🟦🟨🟨🟨🟨🟨🟨🟨🟨🟨🟨🟨🟨😼🟦<br>🟦🟦🟦🟦🟦🟦🟦🟦🟦🟦🟦🟦🟦🟦🟦🟦🟦🟦🟦🟦🟦`;\n",
              "    </script>\n",
              "    "
            ],
            "text/plain": [
              "<IPython.core.display.HTML object>"
            ]
          },
          "metadata": {},
          "output_type": "display_data"
        },
        {
          "data": {
            "text/html": [
              "\n",
              "    <script>\n",
              "    document.getElementById('maze').innerHTML = `🟦🟦🟦🟦🟦🟦🟦🟦🟦🟦🟦🟦🟦🟦🟦🟦🟦🟦🟦🟦🟦<br>🟦🟩🟦⬜⬜⬜⬜⬜⬜⬜⬜⬜🟦⬜⬜⬜⬜⬜⬜⬜🟦<br>🟦⬜🟦⬜🟦🟦🟦🟦🟦🟦🟦⬜🟦⬜🟦🟦🟦🟦🟦⬜🟦<br>🟦⬜⬜⬜🟦⬜⬜⬜⬜⬜🟦⬜⬜⬜🟦⬜🟦⬜⬜⬜🟦<br>🟦🟦🟦🟦🟦🟦🟦🟦🟦⬜🟦🟦🟦🟦🟦⬜🟦⬜🟦🟦🟦<br>🟦⬜⬜⬜⬜⬜⬜⬜⬜⬜🟦⬜⬜⬜⬜⬜🟦⬜🟦⬜🟦<br>🟦⬜🟦🟦🟦🟦🟦🟦🟦🟦🟦⬜🟦⬜🟦🟦🟦⬜🟦⬜🟦<br>🟦⬜🟦⬜⬜⬜⬜⬜🟦⬜⬜⬜🟦⬜⬜⬜⬜⬜🟦⬜🟦<br>🟦⬜🟦⬜🟦🟦🟦⬜🟦⬜🟦🟦🟦🟦🟦🟦🟦🟦🟦⬜🟦<br>🟦⬜⬜⬜⬜⬜🟦⬜⬜⬜⬜⬜⬜⬜⬜⬜⬜⬜🔳🟥🟦<br>🟦🟦🟦🟦🟦🟦🟦🟦🟦🟦🟦🟦🟦🟦🟦🟦🟦🟦🟦🟦🟦`;\n",
              "    </script>\n",
              "    "
            ],
            "text/plain": [
              "<IPython.core.display.HTML object>"
            ]
          },
          "metadata": {},
          "output_type": "display_data"
        },
        {
          "data": {
            "text/html": [
              "\n",
              "    <script>\n",
              "    document.getElementById('maze').innerHTML = `🟦🟦🟦🟦🟦🟦🟦🟦🟦🟦🟦🟦🟦🟦🟦🟦🟦🟦🟦🟦🟦<br>🟦🟩🟦⬜⬜⬜⬜⬜⬜⬜⬜⬜🟦⬜⬜⬜⬜⬜⬜⬜🟦<br>🟦⬜🟦⬜🟦🟦🟦🟦🟦🟦🟦⬜🟦⬜🟦🟦🟦🟦🟦⬜🟦<br>🟦⬜⬜⬜🟦⬜⬜⬜⬜⬜🟦⬜⬜⬜🟦⬜🟦⬜⬜⬜🟦<br>🟦🟦🟦🟦🟦🟦🟦🟦🟦⬜🟦🟦🟦🟦🟦⬜🟦⬜🟦🟦🟦<br>🟦⬜⬜⬜⬜⬜⬜⬜⬜⬜🟦⬜⬜⬜⬜⬜🟦⬜🟦⬜🟦<br>🟦⬜🟦🟦🟦🟦🟦🟦🟦🟦🟦⬜🟦⬜🟦🟦🟦⬜🟦⬜🟦<br>🟦⬜🟦⬜⬜⬜⬜⬜🟦⬜⬜⬜🟦⬜⬜⬜⬜⬜🟦⬜🟦<br>🟦⬜🟦⬜🟦🟦🟦⬜🟦⬜🟦🟦🟦🟦🟦🟦🟦🟦🟦⬜🟦<br>🟦⬜⬜⬜⬜⬜🟦⬜⬜⬜⬜⬜⬜⬜⬜⬜⬜🔳🔳🟥🟦<br>🟦🟦🟦🟦🟦🟦🟦🟦🟦🟦🟦🟦🟦🟦🟦🟦🟦🟦🟦🟦🟦`;\n",
              "    </script>\n",
              "    "
            ],
            "text/plain": [
              "<IPython.core.display.HTML object>"
            ]
          },
          "metadata": {},
          "output_type": "display_data"
        },
        {
          "data": {
            "text/html": [
              "\n",
              "    <script>\n",
              "    document.getElementById('maze').innerHTML = `🟦🟦🟦🟦🟦🟦🟦🟦🟦🟦🟦🟦🟦🟦🟦🟦🟦🟦🟦🟦🟦<br>🟦🟩🟦⬜⬜⬜⬜⬜⬜⬜⬜⬜🟦⬜⬜⬜⬜⬜⬜⬜🟦<br>🟦⬜🟦⬜🟦🟦🟦🟦🟦🟦🟦⬜🟦⬜🟦🟦🟦🟦🟦⬜🟦<br>🟦⬜⬜⬜🟦⬜⬜⬜⬜⬜🟦⬜⬜⬜🟦⬜🟦⬜⬜⬜🟦<br>🟦🟦🟦🟦🟦🟦🟦🟦🟦⬜🟦🟦🟦🟦🟦⬜🟦⬜🟦🟦🟦<br>🟦⬜⬜⬜⬜⬜⬜⬜⬜⬜🟦⬜⬜⬜⬜⬜🟦⬜🟦⬜🟦<br>🟦⬜🟦🟦🟦🟦🟦🟦🟦🟦🟦⬜🟦⬜🟦🟦🟦⬜🟦⬜🟦<br>🟦⬜🟦⬜⬜⬜⬜⬜🟦⬜⬜⬜🟦⬜⬜⬜⬜⬜🟦⬜🟦<br>🟦⬜🟦⬜🟦🟦🟦⬜🟦⬜🟦🟦🟦🟦🟦🟦🟦🟦🟦⬜🟦<br>🟦⬜⬜⬜⬜⬜🟦⬜⬜⬜⬜⬜⬜⬜⬜⬜🔳🔳🔳🟥🟦<br>🟦🟦🟦🟦🟦🟦🟦🟦🟦🟦🟦🟦🟦🟦🟦🟦🟦🟦🟦🟦🟦`;\n",
              "    </script>\n",
              "    "
            ],
            "text/plain": [
              "<IPython.core.display.HTML object>"
            ]
          },
          "metadata": {},
          "output_type": "display_data"
        },
        {
          "data": {
            "text/html": [
              "\n",
              "    <script>\n",
              "    document.getElementById('maze').innerHTML = `🟦🟦🟦🟦🟦🟦🟦🟦🟦🟦🟦🟦🟦🟦🟦🟦🟦🟦🟦🟦🟦<br>🟦🟩🟦⬜⬜⬜⬜⬜⬜⬜⬜⬜🟦⬜⬜⬜⬜⬜⬜⬜🟦<br>🟦⬜🟦⬜🟦🟦🟦🟦🟦🟦🟦⬜🟦⬜🟦🟦🟦🟦🟦⬜🟦<br>🟦⬜⬜⬜🟦⬜⬜⬜⬜⬜🟦⬜⬜⬜🟦⬜🟦⬜⬜⬜🟦<br>🟦🟦🟦🟦🟦🟦🟦🟦🟦⬜🟦🟦🟦🟦🟦⬜🟦⬜🟦🟦🟦<br>🟦⬜⬜⬜⬜⬜⬜⬜⬜⬜🟦⬜⬜⬜⬜⬜🟦⬜🟦⬜🟦<br>🟦⬜🟦🟦🟦🟦🟦🟦🟦🟦🟦⬜🟦⬜🟦🟦🟦⬜🟦⬜🟦<br>🟦⬜🟦⬜⬜⬜⬜⬜🟦⬜⬜⬜🟦⬜⬜⬜⬜⬜🟦⬜🟦<br>🟦⬜🟦⬜🟦🟦🟦⬜🟦⬜🟦🟦🟦🟦🟦🟦🟦🟦🟦⬜🟦<br>🟦⬜⬜⬜⬜⬜🟦⬜⬜⬜⬜⬜⬜⬜⬜🔳🔳🔳🔳🟥🟦<br>🟦🟦🟦🟦🟦🟦🟦🟦🟦🟦🟦🟦🟦🟦🟦🟦🟦🟦🟦🟦🟦`;\n",
              "    </script>\n",
              "    "
            ],
            "text/plain": [
              "<IPython.core.display.HTML object>"
            ]
          },
          "metadata": {},
          "output_type": "display_data"
        },
        {
          "data": {
            "text/html": [
              "\n",
              "    <script>\n",
              "    document.getElementById('maze').innerHTML = `🟦🟦🟦🟦🟦🟦🟦🟦🟦🟦🟦🟦🟦🟦🟦🟦🟦🟦🟦🟦🟦<br>🟦🟩🟦⬜⬜⬜⬜⬜⬜⬜⬜⬜🟦⬜⬜⬜⬜⬜⬜⬜🟦<br>🟦⬜🟦⬜🟦🟦🟦🟦🟦🟦🟦⬜🟦⬜🟦🟦🟦🟦🟦⬜🟦<br>🟦⬜⬜⬜🟦⬜⬜⬜⬜⬜🟦⬜⬜⬜🟦⬜🟦⬜⬜⬜🟦<br>🟦🟦🟦🟦🟦🟦🟦🟦🟦⬜🟦🟦🟦🟦🟦⬜🟦⬜🟦🟦🟦<br>🟦⬜⬜⬜⬜⬜⬜⬜⬜⬜🟦⬜⬜⬜⬜⬜🟦⬜🟦⬜🟦<br>🟦⬜🟦🟦🟦🟦🟦🟦🟦🟦🟦⬜🟦⬜🟦🟦🟦⬜🟦⬜🟦<br>🟦⬜🟦⬜⬜⬜⬜⬜🟦⬜⬜⬜🟦⬜⬜⬜⬜⬜🟦⬜🟦<br>🟦⬜🟦⬜🟦🟦🟦⬜🟦⬜🟦🟦🟦🟦🟦🟦🟦🟦🟦⬜🟦<br>🟦⬜⬜⬜⬜⬜🟦⬜⬜⬜⬜⬜⬜⬜🔳🔳🔳🔳🔳🟥🟦<br>🟦🟦🟦🟦🟦🟦🟦🟦🟦🟦🟦🟦🟦🟦🟦🟦🟦🟦🟦🟦🟦`;\n",
              "    </script>\n",
              "    "
            ],
            "text/plain": [
              "<IPython.core.display.HTML object>"
            ]
          },
          "metadata": {},
          "output_type": "display_data"
        },
        {
          "data": {
            "text/html": [
              "\n",
              "    <script>\n",
              "    document.getElementById('maze').innerHTML = `🟦🟦🟦🟦🟦🟦🟦🟦🟦🟦🟦🟦🟦🟦🟦🟦🟦🟦🟦🟦🟦<br>🟦🟩🟦⬜⬜⬜⬜⬜⬜⬜⬜⬜🟦⬜⬜⬜⬜⬜⬜⬜🟦<br>🟦⬜🟦⬜🟦🟦🟦🟦🟦🟦🟦⬜🟦⬜🟦🟦🟦🟦🟦⬜🟦<br>🟦⬜⬜⬜🟦⬜⬜⬜⬜⬜🟦⬜⬜⬜🟦⬜🟦⬜⬜⬜🟦<br>🟦🟦🟦🟦🟦🟦🟦🟦🟦⬜🟦🟦🟦🟦🟦⬜🟦⬜🟦🟦🟦<br>🟦⬜⬜⬜⬜⬜⬜⬜⬜⬜🟦⬜⬜⬜⬜⬜🟦⬜🟦⬜🟦<br>🟦⬜🟦🟦🟦🟦🟦🟦🟦🟦🟦⬜🟦⬜🟦🟦🟦⬜🟦⬜🟦<br>🟦⬜🟦⬜⬜⬜⬜⬜🟦⬜⬜⬜🟦⬜⬜⬜⬜⬜🟦⬜🟦<br>🟦⬜🟦⬜🟦🟦🟦⬜🟦⬜🟦🟦🟦🟦🟦🟦🟦🟦🟦⬜🟦<br>🟦⬜⬜⬜⬜⬜🟦⬜⬜⬜⬜⬜⬜🔳🔳🔳🔳🔳🔳🟥🟦<br>🟦🟦🟦🟦🟦🟦🟦🟦🟦🟦🟦🟦🟦🟦🟦🟦🟦🟦🟦🟦🟦`;\n",
              "    </script>\n",
              "    "
            ],
            "text/plain": [
              "<IPython.core.display.HTML object>"
            ]
          },
          "metadata": {},
          "output_type": "display_data"
        },
        {
          "data": {
            "text/html": [
              "\n",
              "    <script>\n",
              "    document.getElementById('maze').innerHTML = `🟦🟦🟦🟦🟦🟦🟦🟦🟦🟦🟦🟦🟦🟦🟦🟦🟦🟦🟦🟦🟦<br>🟦🟩🟦⬜⬜⬜⬜⬜⬜⬜⬜⬜🟦⬜⬜⬜⬜⬜⬜⬜🟦<br>🟦⬜🟦⬜🟦🟦🟦🟦🟦🟦🟦⬜🟦⬜🟦🟦🟦🟦🟦⬜🟦<br>🟦⬜⬜⬜🟦⬜⬜⬜⬜⬜🟦⬜⬜⬜🟦⬜🟦⬜⬜⬜🟦<br>🟦🟦🟦🟦🟦🟦🟦🟦🟦⬜🟦🟦🟦🟦🟦⬜🟦⬜🟦🟦🟦<br>🟦⬜⬜⬜⬜⬜⬜⬜⬜⬜🟦⬜⬜⬜⬜⬜🟦⬜🟦⬜🟦<br>🟦⬜🟦🟦🟦🟦🟦🟦🟦🟦🟦⬜🟦⬜🟦🟦🟦⬜🟦⬜🟦<br>🟦⬜🟦⬜⬜⬜⬜⬜🟦⬜⬜⬜🟦⬜⬜⬜⬜⬜🟦⬜🟦<br>🟦⬜🟦⬜🟦🟦🟦⬜🟦⬜🟦🟦🟦🟦🟦🟦🟦🟦🟦⬜🟦<br>🟦⬜⬜⬜⬜⬜🟦⬜⬜⬜⬜⬜🔳🔳🔳🔳🔳🔳🔳🟥🟦<br>🟦🟦🟦🟦🟦🟦🟦🟦🟦🟦🟦🟦🟦🟦🟦🟦🟦🟦🟦🟦🟦`;\n",
              "    </script>\n",
              "    "
            ],
            "text/plain": [
              "<IPython.core.display.HTML object>"
            ]
          },
          "metadata": {},
          "output_type": "display_data"
        },
        {
          "data": {
            "text/html": [
              "\n",
              "    <script>\n",
              "    document.getElementById('maze').innerHTML = `🟦🟦🟦🟦🟦🟦🟦🟦🟦🟦🟦🟦🟦🟦🟦🟦🟦🟦🟦🟦🟦<br>🟦🟩🟦⬜⬜⬜⬜⬜⬜⬜⬜⬜🟦⬜⬜⬜⬜⬜⬜⬜🟦<br>🟦⬜🟦⬜🟦🟦🟦🟦🟦🟦🟦⬜🟦⬜🟦🟦🟦🟦🟦⬜🟦<br>🟦⬜⬜⬜🟦⬜⬜⬜⬜⬜🟦⬜⬜⬜🟦⬜🟦⬜⬜⬜🟦<br>🟦🟦🟦🟦🟦🟦🟦🟦🟦⬜🟦🟦🟦🟦🟦⬜🟦⬜🟦🟦🟦<br>🟦⬜⬜⬜⬜⬜⬜⬜⬜⬜🟦⬜⬜⬜⬜⬜🟦⬜🟦⬜🟦<br>🟦⬜🟦🟦🟦🟦🟦🟦🟦🟦🟦⬜🟦⬜🟦🟦🟦⬜🟦⬜🟦<br>🟦⬜🟦⬜⬜⬜⬜⬜🟦⬜⬜⬜🟦⬜⬜⬜⬜⬜🟦⬜🟦<br>🟦⬜🟦⬜🟦🟦🟦⬜🟦⬜🟦🟦🟦🟦🟦🟦🟦🟦🟦⬜🟦<br>🟦⬜⬜⬜⬜⬜🟦⬜⬜⬜⬜🔳🔳🔳🔳🔳🔳🔳🔳🟥🟦<br>🟦🟦🟦🟦🟦🟦🟦🟦🟦🟦🟦🟦🟦🟦🟦🟦🟦🟦🟦🟦🟦`;\n",
              "    </script>\n",
              "    "
            ],
            "text/plain": [
              "<IPython.core.display.HTML object>"
            ]
          },
          "metadata": {},
          "output_type": "display_data"
        },
        {
          "data": {
            "text/html": [
              "\n",
              "    <script>\n",
              "    document.getElementById('maze').innerHTML = `🟦🟦🟦🟦🟦🟦🟦🟦🟦🟦🟦🟦🟦🟦🟦🟦🟦🟦🟦🟦🟦<br>🟦🟩🟦⬜⬜⬜⬜⬜⬜⬜⬜⬜🟦⬜⬜⬜⬜⬜⬜⬜🟦<br>🟦⬜🟦⬜🟦🟦🟦🟦🟦🟦🟦⬜🟦⬜🟦🟦🟦🟦🟦⬜🟦<br>🟦⬜⬜⬜🟦⬜⬜⬜⬜⬜🟦⬜⬜⬜🟦⬜🟦⬜⬜⬜🟦<br>🟦🟦🟦🟦🟦🟦🟦🟦🟦⬜🟦🟦🟦🟦🟦⬜🟦⬜🟦🟦🟦<br>🟦⬜⬜⬜⬜⬜⬜⬜⬜⬜🟦⬜⬜⬜⬜⬜🟦⬜🟦⬜🟦<br>🟦⬜🟦🟦🟦🟦🟦🟦🟦🟦🟦⬜🟦⬜🟦🟦🟦⬜🟦⬜🟦<br>🟦⬜🟦⬜⬜⬜⬜⬜🟦⬜⬜⬜🟦⬜⬜⬜⬜⬜🟦⬜🟦<br>🟦⬜🟦⬜🟦🟦🟦⬜🟦⬜🟦🟦🟦🟦🟦🟦🟦🟦🟦⬜🟦<br>🟦⬜⬜⬜⬜⬜🟦⬜⬜⬜🔳🔳🔳🔳🔳🔳🔳🔳🔳🟥🟦<br>🟦🟦🟦🟦🟦🟦🟦🟦🟦🟦🟦🟦🟦🟦🟦🟦🟦🟦🟦🟦🟦`;\n",
              "    </script>\n",
              "    "
            ],
            "text/plain": [
              "<IPython.core.display.HTML object>"
            ]
          },
          "metadata": {},
          "output_type": "display_data"
        },
        {
          "data": {
            "text/html": [
              "\n",
              "    <script>\n",
              "    document.getElementById('maze').innerHTML = `🟦🟦🟦🟦🟦🟦🟦🟦🟦🟦🟦🟦🟦🟦🟦🟦🟦🟦🟦🟦🟦<br>🟦🟩🟦⬜⬜⬜⬜⬜⬜⬜⬜⬜🟦⬜⬜⬜⬜⬜⬜⬜🟦<br>🟦⬜🟦⬜🟦🟦🟦🟦🟦🟦🟦⬜🟦⬜🟦🟦🟦🟦🟦⬜🟦<br>🟦⬜⬜⬜🟦⬜⬜⬜⬜⬜🟦⬜⬜⬜🟦⬜🟦⬜⬜⬜🟦<br>🟦🟦🟦🟦🟦🟦🟦🟦🟦⬜🟦🟦🟦🟦🟦⬜🟦⬜🟦🟦🟦<br>🟦⬜⬜⬜⬜⬜⬜⬜⬜⬜🟦⬜⬜⬜⬜⬜🟦⬜🟦⬜🟦<br>🟦⬜🟦🟦🟦🟦🟦🟦🟦🟦🟦⬜🟦⬜🟦🟦🟦⬜🟦⬜🟦<br>🟦⬜🟦⬜⬜⬜⬜⬜🟦⬜⬜⬜🟦⬜⬜⬜⬜⬜🟦⬜🟦<br>🟦⬜🟦⬜🟦🟦🟦⬜🟦⬜🟦🟦🟦🟦🟦🟦🟦🟦🟦⬜🟦<br>🟦⬜⬜⬜⬜⬜🟦⬜⬜🔳🔳🔳🔳🔳🔳🔳🔳🔳🔳🟥🟦<br>🟦🟦🟦🟦🟦🟦🟦🟦🟦🟦🟦🟦🟦🟦🟦🟦🟦🟦🟦🟦🟦`;\n",
              "    </script>\n",
              "    "
            ],
            "text/plain": [
              "<IPython.core.display.HTML object>"
            ]
          },
          "metadata": {},
          "output_type": "display_data"
        },
        {
          "data": {
            "text/html": [
              "\n",
              "    <script>\n",
              "    document.getElementById('maze').innerHTML = `🟦🟦🟦🟦🟦🟦🟦🟦🟦🟦🟦🟦🟦🟦🟦🟦🟦🟦🟦🟦🟦<br>🟦🟩🟦⬜⬜⬜⬜⬜⬜⬜⬜⬜🟦⬜⬜⬜⬜⬜⬜⬜🟦<br>🟦⬜🟦⬜🟦🟦🟦🟦🟦🟦🟦⬜🟦⬜🟦🟦🟦🟦🟦⬜🟦<br>🟦⬜⬜⬜🟦⬜⬜⬜⬜⬜🟦⬜⬜⬜🟦⬜🟦⬜⬜⬜🟦<br>🟦🟦🟦🟦🟦🟦🟦🟦🟦⬜🟦🟦🟦🟦🟦⬜🟦⬜🟦🟦🟦<br>🟦⬜⬜⬜⬜⬜⬜⬜⬜⬜🟦⬜⬜⬜⬜⬜🟦⬜🟦⬜🟦<br>🟦⬜🟦🟦🟦🟦🟦🟦🟦🟦🟦⬜🟦⬜🟦🟦🟦⬜🟦⬜🟦<br>🟦⬜🟦⬜⬜⬜⬜⬜🟦⬜⬜⬜🟦⬜⬜⬜⬜⬜🟦⬜🟦<br>🟦⬜🟦⬜🟦🟦🟦⬜🟦🔳🟦🟦🟦🟦🟦🟦🟦🟦🟦⬜🟦<br>🟦⬜⬜⬜⬜⬜🟦⬜⬜🔳🔳🔳🔳🔳🔳🔳🔳🔳🔳🟥🟦<br>🟦🟦🟦🟦🟦🟦🟦🟦🟦🟦🟦🟦🟦🟦🟦🟦🟦🟦🟦🟦🟦`;\n",
              "    </script>\n",
              "    "
            ],
            "text/plain": [
              "<IPython.core.display.HTML object>"
            ]
          },
          "metadata": {},
          "output_type": "display_data"
        },
        {
          "data": {
            "text/html": [
              "\n",
              "    <script>\n",
              "    document.getElementById('maze').innerHTML = `🟦🟦🟦🟦🟦🟦🟦🟦🟦🟦🟦🟦🟦🟦🟦🟦🟦🟦🟦🟦🟦<br>🟦🟩🟦⬜⬜⬜⬜⬜⬜⬜⬜⬜🟦⬜⬜⬜⬜⬜⬜⬜🟦<br>🟦⬜🟦⬜🟦🟦🟦🟦🟦🟦🟦⬜🟦⬜🟦🟦🟦🟦🟦⬜🟦<br>🟦⬜⬜⬜🟦⬜⬜⬜⬜⬜🟦⬜⬜⬜🟦⬜🟦⬜⬜⬜🟦<br>🟦🟦🟦🟦🟦🟦🟦🟦🟦⬜🟦🟦🟦🟦🟦⬜🟦⬜🟦🟦🟦<br>🟦⬜⬜⬜⬜⬜⬜⬜⬜⬜🟦⬜⬜⬜⬜⬜🟦⬜🟦⬜🟦<br>🟦⬜🟦🟦🟦🟦🟦🟦🟦🟦🟦⬜🟦⬜🟦🟦🟦⬜🟦⬜🟦<br>🟦⬜🟦⬜⬜⬜⬜⬜🟦🔳⬜⬜🟦⬜⬜⬜⬜⬜🟦⬜🟦<br>🟦⬜🟦⬜🟦🟦🟦⬜🟦🔳🟦🟦🟦🟦🟦🟦🟦🟦🟦⬜🟦<br>🟦⬜⬜⬜⬜⬜🟦⬜⬜🔳🔳🔳🔳🔳🔳🔳🔳🔳🔳🟥🟦<br>🟦🟦🟦🟦🟦🟦🟦🟦🟦🟦🟦🟦🟦🟦🟦🟦🟦🟦🟦🟦🟦`;\n",
              "    </script>\n",
              "    "
            ],
            "text/plain": [
              "<IPython.core.display.HTML object>"
            ]
          },
          "metadata": {},
          "output_type": "display_data"
        },
        {
          "data": {
            "text/html": [
              "\n",
              "    <script>\n",
              "    document.getElementById('maze').innerHTML = `🟦🟦🟦🟦🟦🟦🟦🟦🟦🟦🟦🟦🟦🟦🟦🟦🟦🟦🟦🟦🟦<br>🟦🟩🟦⬜⬜⬜⬜⬜⬜⬜⬜⬜🟦⬜⬜⬜⬜⬜⬜⬜🟦<br>🟦⬜🟦⬜🟦🟦🟦🟦🟦🟦🟦⬜🟦⬜🟦🟦🟦🟦🟦⬜🟦<br>🟦⬜⬜⬜🟦⬜⬜⬜⬜⬜🟦⬜⬜⬜🟦⬜🟦⬜⬜⬜🟦<br>🟦🟦🟦🟦🟦🟦🟦🟦🟦⬜🟦🟦🟦🟦🟦⬜🟦⬜🟦🟦🟦<br>🟦⬜⬜⬜⬜⬜⬜⬜⬜⬜🟦⬜⬜⬜⬜⬜🟦⬜🟦⬜🟦<br>🟦⬜🟦🟦🟦🟦🟦🟦🟦🟦🟦⬜🟦⬜🟦🟦🟦⬜🟦⬜🟦<br>🟦⬜🟦⬜⬜⬜⬜⬜🟦🔳🔳⬜🟦⬜⬜⬜⬜⬜🟦⬜🟦<br>🟦⬜🟦⬜🟦🟦🟦⬜🟦🔳🟦🟦🟦🟦🟦🟦🟦🟦🟦⬜🟦<br>🟦⬜⬜⬜⬜⬜🟦⬜⬜🔳🔳🔳🔳🔳🔳🔳🔳🔳🔳🟥🟦<br>🟦🟦🟦🟦🟦🟦🟦🟦🟦🟦🟦🟦🟦🟦🟦🟦🟦🟦🟦🟦🟦`;\n",
              "    </script>\n",
              "    "
            ],
            "text/plain": [
              "<IPython.core.display.HTML object>"
            ]
          },
          "metadata": {},
          "output_type": "display_data"
        },
        {
          "data": {
            "text/html": [
              "\n",
              "    <script>\n",
              "    document.getElementById('maze').innerHTML = `🟦🟦🟦🟦🟦🟦🟦🟦🟦🟦🟦🟦🟦🟦🟦🟦🟦🟦🟦🟦🟦<br>🟦🟩🟦⬜⬜⬜⬜⬜⬜⬜⬜⬜🟦⬜⬜⬜⬜⬜⬜⬜🟦<br>🟦⬜🟦⬜🟦🟦🟦🟦🟦🟦🟦⬜🟦⬜🟦🟦🟦🟦🟦⬜🟦<br>🟦⬜⬜⬜🟦⬜⬜⬜⬜⬜🟦⬜⬜⬜🟦⬜🟦⬜⬜⬜🟦<br>🟦🟦🟦🟦🟦🟦🟦🟦🟦⬜🟦🟦🟦🟦🟦⬜🟦⬜🟦🟦🟦<br>🟦⬜⬜⬜⬜⬜⬜⬜⬜⬜🟦⬜⬜⬜⬜⬜🟦⬜🟦⬜🟦<br>🟦⬜🟦🟦🟦🟦🟦🟦🟦🟦🟦⬜🟦⬜🟦🟦🟦⬜🟦⬜🟦<br>🟦⬜🟦⬜⬜⬜⬜⬜🟦🔳🔳🔳🟦⬜⬜⬜⬜⬜🟦⬜🟦<br>🟦⬜🟦⬜🟦🟦🟦⬜🟦🔳🟦🟦🟦🟦🟦🟦🟦🟦🟦⬜🟦<br>🟦⬜⬜⬜⬜⬜🟦⬜⬜🔳🔳🔳🔳🔳🔳🔳🔳🔳🔳🟥🟦<br>🟦🟦🟦🟦🟦🟦🟦🟦🟦🟦🟦🟦🟦🟦🟦🟦🟦🟦🟦🟦🟦`;\n",
              "    </script>\n",
              "    "
            ],
            "text/plain": [
              "<IPython.core.display.HTML object>"
            ]
          },
          "metadata": {},
          "output_type": "display_data"
        },
        {
          "data": {
            "text/html": [
              "\n",
              "    <script>\n",
              "    document.getElementById('maze').innerHTML = `🟦🟦🟦🟦🟦🟦🟦🟦🟦🟦🟦🟦🟦🟦🟦🟦🟦🟦🟦🟦🟦<br>🟦🟩🟦⬜⬜⬜⬜⬜⬜⬜⬜⬜🟦⬜⬜⬜⬜⬜⬜⬜🟦<br>🟦⬜🟦⬜🟦🟦🟦🟦🟦🟦🟦⬜🟦⬜🟦🟦🟦🟦🟦⬜🟦<br>🟦⬜⬜⬜🟦⬜⬜⬜⬜⬜🟦⬜⬜⬜🟦⬜🟦⬜⬜⬜🟦<br>🟦🟦🟦🟦🟦🟦🟦🟦🟦⬜🟦🟦🟦🟦🟦⬜🟦⬜🟦🟦🟦<br>🟦⬜⬜⬜⬜⬜⬜⬜⬜⬜🟦⬜⬜⬜⬜⬜🟦⬜🟦⬜🟦<br>🟦⬜🟦🟦🟦🟦🟦🟦🟦🟦🟦🔳🟦⬜🟦🟦🟦⬜🟦⬜🟦<br>🟦⬜🟦⬜⬜⬜⬜⬜🟦🔳🔳🔳🟦⬜⬜⬜⬜⬜🟦⬜🟦<br>🟦⬜🟦⬜🟦🟦🟦⬜🟦🔳🟦🟦🟦🟦🟦🟦🟦🟦🟦⬜🟦<br>🟦⬜⬜⬜⬜⬜🟦⬜⬜🔳🔳🔳🔳🔳🔳🔳🔳🔳🔳🟥🟦<br>🟦🟦🟦🟦🟦🟦🟦🟦🟦🟦🟦🟦🟦🟦🟦🟦🟦🟦🟦🟦🟦`;\n",
              "    </script>\n",
              "    "
            ],
            "text/plain": [
              "<IPython.core.display.HTML object>"
            ]
          },
          "metadata": {},
          "output_type": "display_data"
        },
        {
          "data": {
            "text/html": [
              "\n",
              "    <script>\n",
              "    document.getElementById('maze').innerHTML = `🟦🟦🟦🟦🟦🟦🟦🟦🟦🟦🟦🟦🟦🟦🟦🟦🟦🟦🟦🟦🟦<br>🟦🟩🟦⬜⬜⬜⬜⬜⬜⬜⬜⬜🟦⬜⬜⬜⬜⬜⬜⬜🟦<br>🟦⬜🟦⬜🟦🟦🟦🟦🟦🟦🟦⬜🟦⬜🟦🟦🟦🟦🟦⬜🟦<br>🟦⬜⬜⬜🟦⬜⬜⬜⬜⬜🟦⬜⬜⬜🟦⬜🟦⬜⬜⬜🟦<br>🟦🟦🟦🟦🟦🟦🟦🟦🟦⬜🟦🟦🟦🟦🟦⬜🟦⬜🟦🟦🟦<br>🟦⬜⬜⬜⬜⬜⬜⬜⬜⬜🟦🔳⬜⬜⬜⬜🟦⬜🟦⬜🟦<br>🟦⬜🟦🟦🟦🟦🟦🟦🟦🟦🟦🔳🟦⬜🟦🟦🟦⬜🟦⬜🟦<br>🟦⬜🟦⬜⬜⬜⬜⬜🟦🔳🔳🔳🟦⬜⬜⬜⬜⬜🟦⬜🟦<br>🟦⬜🟦⬜🟦🟦🟦⬜🟦🔳🟦🟦🟦🟦🟦🟦🟦🟦🟦⬜🟦<br>🟦⬜⬜⬜⬜⬜🟦⬜⬜🔳🔳🔳🔳🔳🔳🔳🔳🔳🔳🟥🟦<br>🟦🟦🟦🟦🟦🟦🟦🟦🟦🟦🟦🟦🟦🟦🟦🟦🟦🟦🟦🟦🟦`;\n",
              "    </script>\n",
              "    "
            ],
            "text/plain": [
              "<IPython.core.display.HTML object>"
            ]
          },
          "metadata": {},
          "output_type": "display_data"
        },
        {
          "data": {
            "text/html": [
              "\n",
              "    <script>\n",
              "    document.getElementById('maze').innerHTML = `🟦🟦🟦🟦🟦🟦🟦🟦🟦🟦🟦🟦🟦🟦🟦🟦🟦🟦🟦🟦🟦<br>🟦🟩🟦⬜⬜⬜⬜⬜⬜⬜⬜⬜🟦⬜⬜⬜⬜⬜⬜⬜🟦<br>🟦⬜🟦⬜🟦🟦🟦🟦🟦🟦🟦⬜🟦⬜🟦🟦🟦🟦🟦⬜🟦<br>🟦⬜⬜⬜🟦⬜⬜⬜⬜⬜🟦⬜⬜⬜🟦⬜🟦⬜⬜⬜🟦<br>🟦🟦🟦🟦🟦🟦🟦🟦🟦⬜🟦🟦🟦🟦🟦⬜🟦⬜🟦🟦🟦<br>🟦⬜⬜⬜⬜⬜⬜⬜⬜⬜🟦🔳🔳⬜⬜⬜🟦⬜🟦⬜🟦<br>🟦⬜🟦🟦🟦🟦🟦🟦🟦🟦🟦🔳🟦⬜🟦🟦🟦⬜🟦⬜🟦<br>🟦⬜🟦⬜⬜⬜⬜⬜🟦🔳🔳🔳🟦⬜⬜⬜⬜⬜🟦⬜🟦<br>🟦⬜🟦⬜🟦🟦🟦⬜🟦🔳🟦🟦🟦🟦🟦🟦🟦🟦🟦⬜🟦<br>🟦⬜⬜⬜⬜⬜🟦⬜⬜🔳🔳🔳🔳🔳🔳🔳🔳🔳🔳🟥🟦<br>🟦🟦🟦🟦🟦🟦🟦🟦🟦🟦🟦🟦🟦🟦🟦🟦🟦🟦🟦🟦🟦`;\n",
              "    </script>\n",
              "    "
            ],
            "text/plain": [
              "<IPython.core.display.HTML object>"
            ]
          },
          "metadata": {},
          "output_type": "display_data"
        },
        {
          "data": {
            "text/html": [
              "\n",
              "    <script>\n",
              "    document.getElementById('maze').innerHTML = `🟦🟦🟦🟦🟦🟦🟦🟦🟦🟦🟦🟦🟦🟦🟦🟦🟦🟦🟦🟦🟦<br>🟦🟩🟦⬜⬜⬜⬜⬜⬜⬜⬜⬜🟦⬜⬜⬜⬜⬜⬜⬜🟦<br>🟦⬜🟦⬜🟦🟦🟦🟦🟦🟦🟦⬜🟦⬜🟦🟦🟦🟦🟦⬜🟦<br>🟦⬜⬜⬜🟦⬜⬜⬜⬜⬜🟦⬜⬜⬜🟦⬜🟦⬜⬜⬜🟦<br>🟦🟦🟦🟦🟦🟦🟦🟦🟦⬜🟦🟦🟦🟦🟦⬜🟦⬜🟦🟦🟦<br>🟦⬜⬜⬜⬜⬜⬜⬜⬜⬜🟦🔳🔳🔳⬜⬜🟦⬜🟦⬜🟦<br>🟦⬜🟦🟦🟦🟦🟦🟦🟦🟦🟦🔳🟦⬜🟦🟦🟦⬜🟦⬜🟦<br>🟦⬜🟦⬜⬜⬜⬜⬜🟦🔳🔳🔳🟦⬜⬜⬜⬜⬜🟦⬜🟦<br>🟦⬜🟦⬜🟦🟦🟦⬜🟦🔳🟦🟦🟦🟦🟦🟦🟦🟦🟦⬜🟦<br>🟦⬜⬜⬜⬜⬜🟦⬜⬜🔳🔳🔳🔳🔳🔳🔳🔳🔳🔳🟥🟦<br>🟦🟦🟦🟦🟦🟦🟦🟦🟦🟦🟦🟦🟦🟦🟦🟦🟦🟦🟦🟦🟦`;\n",
              "    </script>\n",
              "    "
            ],
            "text/plain": [
              "<IPython.core.display.HTML object>"
            ]
          },
          "metadata": {},
          "output_type": "display_data"
        },
        {
          "data": {
            "text/html": [
              "\n",
              "    <script>\n",
              "    document.getElementById('maze').innerHTML = `🟦🟦🟦🟦🟦🟦🟦🟦🟦🟦🟦🟦🟦🟦🟦🟦🟦🟦🟦🟦🟦<br>🟦🟩🟦⬜⬜⬜⬜⬜⬜⬜⬜⬜🟦⬜⬜⬜⬜⬜⬜⬜🟦<br>🟦⬜🟦⬜🟦🟦🟦🟦🟦🟦🟦⬜🟦⬜🟦🟦🟦🟦🟦⬜🟦<br>🟦⬜⬜⬜🟦⬜⬜⬜⬜⬜🟦⬜⬜⬜🟦⬜🟦⬜⬜⬜🟦<br>🟦🟦🟦🟦🟦🟦🟦🟦🟦⬜🟦🟦🟦🟦🟦⬜🟦⬜🟦🟦🟦<br>🟦⬜⬜⬜⬜⬜⬜⬜⬜⬜🟦🔳🔳🔳⬜⬜🟦⬜🟦⬜🟦<br>🟦⬜🟦🟦🟦🟦🟦🟦🟦🟦🟦🔳🟦🔳🟦🟦🟦⬜🟦⬜🟦<br>🟦⬜🟦⬜⬜⬜⬜⬜🟦🔳🔳🔳🟦⬜⬜⬜⬜⬜🟦⬜🟦<br>🟦⬜🟦⬜🟦🟦🟦⬜🟦🔳🟦🟦🟦🟦🟦🟦🟦🟦🟦⬜🟦<br>🟦⬜⬜⬜⬜⬜🟦⬜⬜🔳🔳🔳🔳🔳🔳🔳🔳🔳🔳🟥🟦<br>🟦🟦🟦🟦🟦🟦🟦🟦🟦🟦🟦🟦🟦🟦🟦🟦🟦🟦🟦🟦🟦`;\n",
              "    </script>\n",
              "    "
            ],
            "text/plain": [
              "<IPython.core.display.HTML object>"
            ]
          },
          "metadata": {},
          "output_type": "display_data"
        },
        {
          "data": {
            "text/html": [
              "\n",
              "    <script>\n",
              "    document.getElementById('maze').innerHTML = `🟦🟦🟦🟦🟦🟦🟦🟦🟦🟦🟦🟦🟦🟦🟦🟦🟦🟦🟦🟦🟦<br>🟦🟩🟦⬜⬜⬜⬜⬜⬜⬜⬜⬜🟦⬜⬜⬜⬜⬜⬜⬜🟦<br>🟦⬜🟦⬜🟦🟦🟦🟦🟦🟦🟦⬜🟦⬜🟦🟦🟦🟦🟦⬜🟦<br>🟦⬜⬜⬜🟦⬜⬜⬜⬜⬜🟦⬜⬜⬜🟦⬜🟦⬜⬜⬜🟦<br>🟦🟦🟦🟦🟦🟦🟦🟦🟦⬜🟦🟦🟦🟦🟦⬜🟦⬜🟦🟦🟦<br>🟦⬜⬜⬜⬜⬜⬜⬜⬜⬜🟦🔳🔳🔳⬜⬜🟦⬜🟦⬜🟦<br>🟦⬜🟦🟦🟦🟦🟦🟦🟦🟦🟦🔳🟦🔳🟦🟦🟦⬜🟦⬜🟦<br>🟦⬜🟦⬜⬜⬜⬜⬜🟦🔳🔳🔳🟦🔳⬜⬜⬜⬜🟦⬜🟦<br>🟦⬜🟦⬜🟦🟦🟦⬜🟦🔳🟦🟦🟦🟦🟦🟦🟦🟦🟦⬜🟦<br>🟦⬜⬜⬜⬜⬜🟦⬜⬜🔳🔳🔳🔳🔳🔳🔳🔳🔳🔳🟥🟦<br>🟦🟦🟦🟦🟦🟦🟦🟦🟦🟦🟦🟦🟦🟦🟦🟦🟦🟦🟦🟦🟦`;\n",
              "    </script>\n",
              "    "
            ],
            "text/plain": [
              "<IPython.core.display.HTML object>"
            ]
          },
          "metadata": {},
          "output_type": "display_data"
        },
        {
          "data": {
            "text/html": [
              "\n",
              "    <script>\n",
              "    document.getElementById('maze').innerHTML = `🟦🟦🟦🟦🟦🟦🟦🟦🟦🟦🟦🟦🟦🟦🟦🟦🟦🟦🟦🟦🟦<br>🟦🟩🟦⬜⬜⬜⬜⬜⬜⬜⬜⬜🟦⬜⬜⬜⬜⬜⬜⬜🟦<br>🟦⬜🟦⬜🟦🟦🟦🟦🟦🟦🟦⬜🟦⬜🟦🟦🟦🟦🟦⬜🟦<br>🟦⬜⬜⬜🟦⬜⬜⬜⬜⬜🟦⬜⬜⬜🟦⬜🟦⬜⬜⬜🟦<br>🟦🟦🟦🟦🟦🟦🟦🟦🟦⬜🟦🟦🟦🟦🟦⬜🟦⬜🟦🟦🟦<br>🟦⬜⬜⬜⬜⬜⬜⬜⬜⬜🟦🔳🔳🔳⬜⬜🟦⬜🟦⬜🟦<br>🟦⬜🟦🟦🟦🟦🟦🟦🟦🟦🟦🔳🟦🔳🟦🟦🟦⬜🟦⬜🟦<br>🟦⬜🟦⬜⬜⬜⬜⬜🟦🔳🔳🔳🟦🔳🔳⬜⬜⬜🟦⬜🟦<br>🟦⬜🟦⬜🟦🟦🟦⬜🟦🔳🟦🟦🟦🟦🟦🟦🟦🟦🟦⬜🟦<br>🟦⬜⬜⬜⬜⬜🟦⬜⬜🔳🔳🔳🔳🔳🔳🔳🔳🔳🔳🟥🟦<br>🟦🟦🟦🟦🟦🟦🟦🟦🟦🟦🟦🟦🟦🟦🟦🟦🟦🟦🟦🟦🟦`;\n",
              "    </script>\n",
              "    "
            ],
            "text/plain": [
              "<IPython.core.display.HTML object>"
            ]
          },
          "metadata": {},
          "output_type": "display_data"
        },
        {
          "data": {
            "text/html": [
              "\n",
              "    <script>\n",
              "    document.getElementById('maze').innerHTML = `🟦🟦🟦🟦🟦🟦🟦🟦🟦🟦🟦🟦🟦🟦🟦🟦🟦🟦🟦🟦🟦<br>🟦🟩🟦⬜⬜⬜⬜⬜⬜⬜⬜⬜🟦⬜⬜⬜⬜⬜⬜⬜🟦<br>🟦⬜🟦⬜🟦🟦🟦🟦🟦🟦🟦⬜🟦⬜🟦🟦🟦🟦🟦⬜🟦<br>🟦⬜⬜⬜🟦⬜⬜⬜⬜⬜🟦⬜⬜⬜🟦⬜🟦⬜⬜⬜🟦<br>🟦🟦🟦🟦🟦🟦🟦🟦🟦⬜🟦🟦🟦🟦🟦⬜🟦⬜🟦🟦🟦<br>🟦⬜⬜⬜⬜⬜⬜⬜⬜⬜🟦🔳🔳🔳⬜⬜🟦⬜🟦⬜🟦<br>🟦⬜🟦🟦🟦🟦🟦🟦🟦🟦🟦🔳🟦🔳🟦🟦🟦⬜🟦⬜🟦<br>🟦⬜🟦⬜⬜⬜⬜⬜🟦🔳🔳🔳🟦🔳🔳🔳⬜⬜🟦⬜🟦<br>🟦⬜🟦⬜🟦🟦🟦⬜🟦🔳🟦🟦🟦🟦🟦🟦🟦🟦🟦⬜🟦<br>🟦⬜⬜⬜⬜⬜🟦⬜⬜🔳🔳🔳🔳🔳🔳🔳🔳🔳🔳🟥🟦<br>🟦🟦🟦🟦🟦🟦🟦🟦🟦🟦🟦🟦🟦🟦🟦🟦🟦🟦🟦🟦🟦`;\n",
              "    </script>\n",
              "    "
            ],
            "text/plain": [
              "<IPython.core.display.HTML object>"
            ]
          },
          "metadata": {},
          "output_type": "display_data"
        },
        {
          "data": {
            "text/html": [
              "\n",
              "    <script>\n",
              "    document.getElementById('maze').innerHTML = `🟦🟦🟦🟦🟦🟦🟦🟦🟦🟦🟦🟦🟦🟦🟦🟦🟦🟦🟦🟦🟦<br>🟦🟩🟦⬜⬜⬜⬜⬜⬜⬜⬜⬜🟦⬜⬜⬜⬜⬜⬜⬜🟦<br>🟦⬜🟦⬜🟦🟦🟦🟦🟦🟦🟦⬜🟦⬜🟦🟦🟦🟦🟦⬜🟦<br>🟦⬜⬜⬜🟦⬜⬜⬜⬜⬜🟦⬜⬜⬜🟦⬜🟦⬜⬜⬜🟦<br>🟦🟦🟦🟦🟦🟦🟦🟦🟦⬜🟦🟦🟦🟦🟦⬜🟦⬜🟦🟦🟦<br>🟦⬜⬜⬜⬜⬜⬜⬜⬜⬜🟦🔳🔳🔳⬜⬜🟦⬜🟦⬜🟦<br>🟦⬜🟦🟦🟦🟦🟦🟦🟦🟦🟦🔳🟦🔳🟦🟦🟦⬜🟦⬜🟦<br>🟦⬜🟦⬜⬜⬜⬜⬜🟦🔳🔳🔳🟦🔳🔳🔳🔳⬜🟦⬜🟦<br>🟦⬜🟦⬜🟦🟦🟦⬜🟦🔳🟦🟦🟦🟦🟦🟦🟦🟦🟦⬜🟦<br>🟦⬜⬜⬜⬜⬜🟦⬜⬜🔳🔳🔳🔳🔳🔳🔳🔳🔳🔳🟥🟦<br>🟦🟦🟦🟦🟦🟦🟦🟦🟦🟦🟦🟦🟦🟦🟦🟦🟦🟦🟦🟦🟦`;\n",
              "    </script>\n",
              "    "
            ],
            "text/plain": [
              "<IPython.core.display.HTML object>"
            ]
          },
          "metadata": {},
          "output_type": "display_data"
        },
        {
          "data": {
            "text/html": [
              "\n",
              "    <script>\n",
              "    document.getElementById('maze').innerHTML = `🟦🟦🟦🟦🟦🟦🟦🟦🟦🟦🟦🟦🟦🟦🟦🟦🟦🟦🟦🟦🟦<br>🟦🟩🟦⬜⬜⬜⬜⬜⬜⬜⬜⬜🟦⬜⬜⬜⬜⬜⬜⬜🟦<br>🟦⬜🟦⬜🟦🟦🟦🟦🟦🟦🟦⬜🟦⬜🟦🟦🟦🟦🟦⬜🟦<br>🟦⬜⬜⬜🟦⬜⬜⬜⬜⬜🟦⬜⬜⬜🟦⬜🟦⬜⬜⬜🟦<br>🟦🟦🟦🟦🟦🟦🟦🟦🟦⬜🟦🟦🟦🟦🟦⬜🟦⬜🟦🟦🟦<br>🟦⬜⬜⬜⬜⬜⬜⬜⬜⬜🟦🔳🔳🔳⬜⬜🟦⬜🟦⬜🟦<br>🟦⬜🟦🟦🟦🟦🟦🟦🟦🟦🟦🔳🟦🔳🟦🟦🟦⬜🟦⬜🟦<br>🟦⬜🟦⬜⬜⬜⬜⬜🟦🔳🔳🔳🟦🔳🔳🔳🔳🔳🟦⬜🟦<br>🟦⬜🟦⬜🟦🟦🟦⬜🟦🔳🟦🟦🟦🟦🟦🟦🟦🟦🟦⬜🟦<br>🟦⬜⬜⬜⬜⬜🟦⬜⬜🔳🔳🔳🔳🔳🔳🔳🔳🔳🔳🟥🟦<br>🟦🟦🟦🟦🟦🟦🟦🟦🟦🟦🟦🟦🟦🟦🟦🟦🟦🟦🟦🟦🟦`;\n",
              "    </script>\n",
              "    "
            ],
            "text/plain": [
              "<IPython.core.display.HTML object>"
            ]
          },
          "metadata": {},
          "output_type": "display_data"
        },
        {
          "data": {
            "text/html": [
              "\n",
              "    <script>\n",
              "    document.getElementById('maze').innerHTML = `🟦🟦🟦🟦🟦🟦🟦🟦🟦🟦🟦🟦🟦🟦🟦🟦🟦🟦🟦🟦🟦<br>🟦🟩🟦⬜⬜⬜⬜⬜⬜⬜⬜⬜🟦⬜⬜⬜⬜⬜⬜⬜🟦<br>🟦⬜🟦⬜🟦🟦🟦🟦🟦🟦🟦⬜🟦⬜🟦🟦🟦🟦🟦⬜🟦<br>🟦⬜⬜⬜🟦⬜⬜⬜⬜⬜🟦⬜⬜⬜🟦⬜🟦⬜⬜⬜🟦<br>🟦🟦🟦🟦🟦🟦🟦🟦🟦⬜🟦🟦🟦🟦🟦⬜🟦⬜🟦🟦🟦<br>🟦⬜⬜⬜⬜⬜⬜⬜⬜⬜🟦🔳🔳🔳⬜⬜🟦⬜🟦⬜🟦<br>🟦⬜🟦🟦🟦🟦🟦🟦🟦🟦🟦🔳🟦🔳🟦🟦🟦🔳🟦⬜🟦<br>🟦⬜🟦⬜⬜⬜⬜⬜🟦🔳🔳🔳🟦🔳🔳🔳🔳🔳🟦⬜🟦<br>🟦⬜🟦⬜🟦🟦🟦⬜🟦🔳🟦🟦🟦🟦🟦🟦🟦🟦🟦⬜🟦<br>🟦⬜⬜⬜⬜⬜🟦⬜⬜🔳🔳🔳🔳🔳🔳🔳🔳🔳🔳🟥🟦<br>🟦🟦🟦🟦🟦🟦🟦🟦🟦🟦🟦🟦🟦🟦🟦🟦🟦🟦🟦🟦🟦`;\n",
              "    </script>\n",
              "    "
            ],
            "text/plain": [
              "<IPython.core.display.HTML object>"
            ]
          },
          "metadata": {},
          "output_type": "display_data"
        },
        {
          "data": {
            "text/html": [
              "\n",
              "    <script>\n",
              "    document.getElementById('maze').innerHTML = `🟦🟦🟦🟦🟦🟦🟦🟦🟦🟦🟦🟦🟦🟦🟦🟦🟦🟦🟦🟦🟦<br>🟦🟩🟦⬜⬜⬜⬜⬜⬜⬜⬜⬜🟦⬜⬜⬜⬜⬜⬜⬜🟦<br>🟦⬜🟦⬜🟦🟦🟦🟦🟦🟦🟦⬜🟦⬜🟦🟦🟦🟦🟦⬜🟦<br>🟦⬜⬜⬜🟦⬜⬜⬜⬜⬜🟦⬜⬜⬜🟦⬜🟦⬜⬜⬜🟦<br>🟦🟦🟦🟦🟦🟦🟦🟦🟦⬜🟦🟦🟦🟦🟦⬜🟦⬜🟦🟦🟦<br>🟦⬜⬜⬜⬜⬜⬜⬜⬜⬜🟦🔳🔳🔳⬜⬜🟦🔳🟦⬜🟦<br>🟦⬜🟦🟦🟦🟦🟦🟦🟦🟦🟦🔳🟦🔳🟦🟦🟦🔳🟦⬜🟦<br>🟦⬜🟦⬜⬜⬜⬜⬜🟦🔳🔳🔳🟦🔳🔳🔳🔳🔳🟦⬜🟦<br>🟦⬜🟦⬜🟦🟦🟦⬜🟦🔳🟦🟦🟦🟦🟦🟦🟦🟦🟦⬜🟦<br>🟦⬜⬜⬜⬜⬜🟦⬜⬜🔳🔳🔳🔳🔳🔳🔳🔳🔳🔳🟥🟦<br>🟦🟦🟦🟦🟦🟦🟦🟦🟦🟦🟦🟦🟦🟦🟦🟦🟦🟦🟦🟦🟦`;\n",
              "    </script>\n",
              "    "
            ],
            "text/plain": [
              "<IPython.core.display.HTML object>"
            ]
          },
          "metadata": {},
          "output_type": "display_data"
        },
        {
          "data": {
            "text/html": [
              "\n",
              "    <script>\n",
              "    document.getElementById('maze').innerHTML = `🟦🟦🟦🟦🟦🟦🟦🟦🟦🟦🟦🟦🟦🟦🟦🟦🟦🟦🟦🟦🟦<br>🟦🟩🟦⬜⬜⬜⬜⬜⬜⬜⬜⬜🟦⬜⬜⬜⬜⬜⬜⬜🟦<br>🟦⬜🟦⬜🟦🟦🟦🟦🟦🟦🟦⬜🟦⬜🟦🟦🟦🟦🟦⬜🟦<br>🟦⬜⬜⬜🟦⬜⬜⬜⬜⬜🟦⬜⬜⬜🟦⬜🟦⬜⬜⬜🟦<br>🟦🟦🟦🟦🟦🟦🟦🟦🟦⬜🟦🟦🟦🟦🟦⬜🟦🔳🟦🟦🟦<br>🟦⬜⬜⬜⬜⬜⬜⬜⬜⬜🟦🔳🔳🔳⬜⬜🟦🔳🟦⬜🟦<br>🟦⬜🟦🟦🟦🟦🟦🟦🟦🟦🟦🔳🟦🔳🟦🟦🟦🔳🟦⬜🟦<br>🟦⬜🟦⬜⬜⬜⬜⬜🟦🔳🔳🔳🟦🔳🔳🔳🔳🔳🟦⬜🟦<br>🟦⬜🟦⬜🟦🟦🟦⬜🟦🔳🟦🟦🟦🟦🟦🟦🟦🟦🟦⬜🟦<br>🟦⬜⬜⬜⬜⬜🟦⬜⬜🔳🔳🔳🔳🔳🔳🔳🔳🔳🔳🟥🟦<br>🟦🟦🟦🟦🟦🟦🟦🟦🟦🟦🟦🟦🟦🟦🟦🟦🟦🟦🟦🟦🟦`;\n",
              "    </script>\n",
              "    "
            ],
            "text/plain": [
              "<IPython.core.display.HTML object>"
            ]
          },
          "metadata": {},
          "output_type": "display_data"
        },
        {
          "data": {
            "text/html": [
              "\n",
              "    <script>\n",
              "    document.getElementById('maze').innerHTML = `🟦🟦🟦🟦🟦🟦🟦🟦🟦🟦🟦🟦🟦🟦🟦🟦🟦🟦🟦🟦🟦<br>🟦🟩🟦⬜⬜⬜⬜⬜⬜⬜⬜⬜🟦⬜⬜⬜⬜⬜⬜⬜🟦<br>🟦⬜🟦⬜🟦🟦🟦🟦🟦🟦🟦⬜🟦⬜🟦🟦🟦🟦🟦⬜🟦<br>🟦⬜⬜⬜🟦⬜⬜⬜⬜⬜🟦⬜⬜⬜🟦⬜🟦🔳⬜⬜🟦<br>🟦🟦🟦🟦🟦🟦🟦🟦🟦⬜🟦🟦🟦🟦🟦⬜🟦🔳🟦🟦🟦<br>🟦⬜⬜⬜⬜⬜⬜⬜⬜⬜🟦🔳🔳🔳⬜⬜🟦🔳🟦⬜🟦<br>🟦⬜🟦🟦🟦🟦🟦🟦🟦🟦🟦🔳🟦🔳🟦🟦🟦🔳🟦⬜🟦<br>🟦⬜🟦⬜⬜⬜⬜⬜🟦🔳🔳🔳🟦🔳🔳🔳🔳🔳🟦⬜🟦<br>🟦⬜🟦⬜🟦🟦🟦⬜🟦🔳🟦🟦🟦🟦🟦🟦🟦🟦🟦⬜🟦<br>🟦⬜⬜⬜⬜⬜🟦⬜⬜🔳🔳🔳🔳🔳🔳🔳🔳🔳🔳🟥🟦<br>🟦🟦🟦🟦🟦🟦🟦🟦🟦🟦🟦🟦🟦🟦🟦🟦🟦🟦🟦🟦🟦`;\n",
              "    </script>\n",
              "    "
            ],
            "text/plain": [
              "<IPython.core.display.HTML object>"
            ]
          },
          "metadata": {},
          "output_type": "display_data"
        },
        {
          "data": {
            "text/html": [
              "\n",
              "    <script>\n",
              "    document.getElementById('maze').innerHTML = `🟦🟦🟦🟦🟦🟦🟦🟦🟦🟦🟦🟦🟦🟦🟦🟦🟦🟦🟦🟦🟦<br>🟦🟩🟦⬜⬜⬜⬜⬜⬜⬜⬜⬜🟦⬜⬜⬜⬜⬜⬜⬜🟦<br>🟦⬜🟦⬜🟦🟦🟦🟦🟦🟦🟦⬜🟦⬜🟦🟦🟦🟦🟦⬜🟦<br>🟦⬜⬜⬜🟦⬜⬜⬜⬜⬜🟦⬜⬜⬜🟦⬜🟦🔳🔳⬜🟦<br>🟦🟦🟦🟦🟦🟦🟦🟦🟦⬜🟦🟦🟦🟦🟦⬜🟦🔳🟦🟦🟦<br>🟦⬜⬜⬜⬜⬜⬜⬜⬜⬜🟦🔳🔳🔳⬜⬜🟦🔳🟦⬜🟦<br>🟦⬜🟦🟦🟦🟦🟦🟦🟦🟦🟦🔳🟦🔳🟦🟦🟦🔳🟦⬜🟦<br>🟦⬜🟦⬜⬜⬜⬜⬜🟦🔳🔳🔳🟦🔳🔳🔳🔳🔳🟦⬜🟦<br>🟦⬜🟦⬜🟦🟦🟦⬜🟦🔳🟦🟦🟦🟦🟦🟦🟦🟦🟦⬜🟦<br>🟦⬜⬜⬜⬜⬜🟦⬜⬜🔳🔳🔳🔳🔳🔳🔳🔳🔳🔳🟥🟦<br>🟦🟦🟦🟦🟦🟦🟦🟦🟦🟦🟦🟦🟦🟦🟦🟦🟦🟦🟦🟦🟦`;\n",
              "    </script>\n",
              "    "
            ],
            "text/plain": [
              "<IPython.core.display.HTML object>"
            ]
          },
          "metadata": {},
          "output_type": "display_data"
        },
        {
          "data": {
            "text/html": [
              "\n",
              "    <script>\n",
              "    document.getElementById('maze').innerHTML = `🟦🟦🟦🟦🟦🟦🟦🟦🟦🟦🟦🟦🟦🟦🟦🟦🟦🟦🟦🟦🟦<br>🟦🟩🟦⬜⬜⬜⬜⬜⬜⬜⬜⬜🟦⬜⬜⬜⬜⬜⬜⬜🟦<br>🟦⬜🟦⬜🟦🟦🟦🟦🟦🟦🟦⬜🟦⬜🟦🟦🟦🟦🟦⬜🟦<br>🟦⬜⬜⬜🟦⬜⬜⬜⬜⬜🟦⬜⬜⬜🟦⬜🟦🔳🔳🔳🟦<br>🟦🟦🟦🟦🟦🟦🟦🟦🟦⬜🟦🟦🟦🟦🟦⬜🟦🔳🟦🟦🟦<br>🟦⬜⬜⬜⬜⬜⬜⬜⬜⬜🟦🔳🔳🔳⬜⬜🟦🔳🟦⬜🟦<br>🟦⬜🟦🟦🟦🟦🟦🟦🟦🟦🟦🔳🟦🔳🟦🟦🟦🔳🟦⬜🟦<br>🟦⬜🟦⬜⬜⬜⬜⬜🟦🔳🔳🔳🟦🔳🔳🔳🔳🔳🟦⬜🟦<br>🟦⬜🟦⬜🟦🟦🟦⬜🟦🔳🟦🟦🟦🟦🟦🟦🟦🟦🟦⬜🟦<br>🟦⬜⬜⬜⬜⬜🟦⬜⬜🔳🔳🔳🔳🔳🔳🔳🔳🔳🔳🟥🟦<br>🟦🟦🟦🟦🟦🟦🟦🟦🟦🟦🟦🟦🟦🟦🟦🟦🟦🟦🟦🟦🟦`;\n",
              "    </script>\n",
              "    "
            ],
            "text/plain": [
              "<IPython.core.display.HTML object>"
            ]
          },
          "metadata": {},
          "output_type": "display_data"
        },
        {
          "data": {
            "text/html": [
              "\n",
              "    <script>\n",
              "    document.getElementById('maze').innerHTML = `🟦🟦🟦🟦🟦🟦🟦🟦🟦🟦🟦🟦🟦🟦🟦🟦🟦🟦🟦🟦🟦<br>🟦🟩🟦⬜⬜⬜⬜⬜⬜⬜⬜⬜🟦⬜⬜⬜⬜⬜⬜⬜🟦<br>🟦⬜🟦⬜🟦🟦🟦🟦🟦🟦🟦⬜🟦⬜🟦🟦🟦🟦🟦🔳🟦<br>🟦⬜⬜⬜🟦⬜⬜⬜⬜⬜🟦⬜⬜⬜🟦⬜🟦🔳🔳🔳🟦<br>🟦🟦🟦🟦🟦🟦🟦🟦🟦⬜🟦🟦🟦🟦🟦⬜🟦🔳🟦🟦🟦<br>🟦⬜⬜⬜⬜⬜⬜⬜⬜⬜🟦🔳🔳🔳⬜⬜🟦🔳🟦⬜🟦<br>🟦⬜🟦🟦🟦🟦🟦🟦🟦🟦🟦🔳🟦🔳🟦🟦🟦🔳🟦⬜🟦<br>🟦⬜🟦⬜⬜⬜⬜⬜🟦🔳🔳🔳🟦🔳🔳🔳🔳🔳🟦⬜🟦<br>🟦⬜🟦⬜🟦🟦🟦⬜🟦🔳🟦🟦🟦🟦🟦🟦🟦🟦🟦⬜🟦<br>🟦⬜⬜⬜⬜⬜🟦⬜⬜🔳🔳🔳🔳🔳🔳🔳🔳🔳🔳🟥🟦<br>🟦🟦🟦🟦🟦🟦🟦🟦🟦🟦🟦🟦🟦🟦🟦🟦🟦🟦🟦🟦🟦`;\n",
              "    </script>\n",
              "    "
            ],
            "text/plain": [
              "<IPython.core.display.HTML object>"
            ]
          },
          "metadata": {},
          "output_type": "display_data"
        },
        {
          "data": {
            "text/html": [
              "\n",
              "    <script>\n",
              "    document.getElementById('maze').innerHTML = `🟦🟦🟦🟦🟦🟦🟦🟦🟦🟦🟦🟦🟦🟦🟦🟦🟦🟦🟦🟦🟦<br>🟦🟩🟦⬜⬜⬜⬜⬜⬜⬜⬜⬜🟦⬜⬜⬜⬜⬜⬜🔳🟦<br>🟦⬜🟦⬜🟦🟦🟦🟦🟦🟦🟦⬜🟦⬜🟦🟦🟦🟦🟦🔳🟦<br>🟦⬜⬜⬜🟦⬜⬜⬜⬜⬜🟦⬜⬜⬜🟦⬜🟦🔳🔳🔳🟦<br>🟦🟦🟦🟦🟦🟦🟦🟦🟦⬜🟦🟦🟦🟦🟦⬜🟦🔳🟦🟦🟦<br>🟦⬜⬜⬜⬜⬜⬜⬜⬜⬜🟦🔳🔳🔳⬜⬜🟦🔳🟦⬜🟦<br>🟦⬜🟦🟦🟦🟦🟦🟦🟦🟦🟦🔳🟦🔳🟦🟦🟦🔳🟦⬜🟦<br>🟦⬜🟦⬜⬜⬜⬜⬜🟦🔳🔳🔳🟦🔳🔳🔳🔳🔳🟦⬜🟦<br>🟦⬜🟦⬜🟦🟦🟦⬜🟦🔳🟦🟦🟦🟦🟦🟦🟦🟦🟦⬜🟦<br>🟦⬜⬜⬜⬜⬜🟦⬜⬜🔳🔳🔳🔳🔳🔳🔳🔳🔳🔳🟥🟦<br>🟦🟦🟦🟦🟦🟦🟦🟦🟦🟦🟦🟦🟦🟦🟦🟦🟦🟦🟦🟦🟦`;\n",
              "    </script>\n",
              "    "
            ],
            "text/plain": [
              "<IPython.core.display.HTML object>"
            ]
          },
          "metadata": {},
          "output_type": "display_data"
        },
        {
          "data": {
            "text/html": [
              "\n",
              "    <script>\n",
              "    document.getElementById('maze').innerHTML = `🟦🟦🟦🟦🟦🟦🟦🟦🟦🟦🟦🟦🟦🟦🟦🟦🟦🟦🟦🟦🟦<br>🟦🟩🟦⬜⬜⬜⬜⬜⬜⬜⬜⬜🟦⬜⬜⬜⬜⬜🔳🔳🟦<br>🟦⬜🟦⬜🟦🟦🟦🟦🟦🟦🟦⬜🟦⬜🟦🟦🟦🟦🟦🔳🟦<br>🟦⬜⬜⬜🟦⬜⬜⬜⬜⬜🟦⬜⬜⬜🟦⬜🟦🔳🔳🔳🟦<br>🟦🟦🟦🟦🟦🟦🟦🟦🟦⬜🟦🟦🟦🟦🟦⬜🟦🔳🟦🟦🟦<br>🟦⬜⬜⬜⬜⬜⬜⬜⬜⬜🟦🔳🔳🔳⬜⬜🟦🔳🟦⬜🟦<br>🟦⬜🟦🟦🟦🟦🟦🟦🟦🟦🟦🔳🟦🔳🟦🟦🟦🔳🟦⬜🟦<br>🟦⬜🟦⬜⬜⬜⬜⬜🟦🔳🔳🔳🟦🔳🔳🔳🔳🔳🟦⬜🟦<br>🟦⬜🟦⬜🟦🟦🟦⬜🟦🔳🟦🟦🟦🟦🟦🟦🟦🟦🟦⬜🟦<br>🟦⬜⬜⬜⬜⬜🟦⬜⬜🔳🔳🔳🔳🔳🔳🔳🔳🔳🔳🟥🟦<br>🟦🟦🟦🟦🟦🟦🟦🟦🟦🟦🟦🟦🟦🟦🟦🟦🟦🟦🟦🟦🟦`;\n",
              "    </script>\n",
              "    "
            ],
            "text/plain": [
              "<IPython.core.display.HTML object>"
            ]
          },
          "metadata": {},
          "output_type": "display_data"
        },
        {
          "data": {
            "text/html": [
              "\n",
              "    <script>\n",
              "    document.getElementById('maze').innerHTML = `🟦🟦🟦🟦🟦🟦🟦🟦🟦🟦🟦🟦🟦🟦🟦🟦🟦🟦🟦🟦🟦<br>🟦🟩🟦⬜⬜⬜⬜⬜⬜⬜⬜⬜🟦⬜⬜⬜⬜🔳🔳🔳🟦<br>🟦⬜🟦⬜🟦🟦🟦🟦🟦🟦🟦⬜🟦⬜🟦🟦🟦🟦🟦🔳🟦<br>🟦⬜⬜⬜🟦⬜⬜⬜⬜⬜🟦⬜⬜⬜🟦⬜🟦🔳🔳🔳🟦<br>🟦🟦🟦🟦🟦🟦🟦🟦🟦⬜🟦🟦🟦🟦🟦⬜🟦🔳🟦🟦🟦<br>🟦⬜⬜⬜⬜⬜⬜⬜⬜⬜🟦🔳🔳🔳⬜⬜🟦🔳🟦⬜🟦<br>🟦⬜🟦🟦🟦🟦🟦🟦🟦🟦🟦🔳🟦🔳🟦🟦🟦🔳🟦⬜🟦<br>🟦⬜🟦⬜⬜⬜⬜⬜🟦🔳🔳🔳🟦🔳🔳🔳🔳🔳🟦⬜🟦<br>🟦⬜🟦⬜🟦🟦🟦⬜🟦🔳🟦🟦🟦🟦🟦🟦🟦🟦🟦⬜🟦<br>🟦⬜⬜⬜⬜⬜🟦⬜⬜🔳🔳🔳🔳🔳🔳🔳🔳🔳🔳🟥🟦<br>🟦🟦🟦🟦🟦🟦🟦🟦🟦🟦🟦🟦🟦🟦🟦🟦🟦🟦🟦🟦🟦`;\n",
              "    </script>\n",
              "    "
            ],
            "text/plain": [
              "<IPython.core.display.HTML object>"
            ]
          },
          "metadata": {},
          "output_type": "display_data"
        },
        {
          "data": {
            "text/html": [
              "\n",
              "    <script>\n",
              "    document.getElementById('maze').innerHTML = `🟦🟦🟦🟦🟦🟦🟦🟦🟦🟦🟦🟦🟦🟦🟦🟦🟦🟦🟦🟦🟦<br>🟦🟩🟦⬜⬜⬜⬜⬜⬜⬜⬜⬜🟦⬜⬜⬜🔳🔳🔳🔳🟦<br>🟦⬜🟦⬜🟦🟦🟦🟦🟦🟦🟦⬜🟦⬜🟦🟦🟦🟦🟦🔳🟦<br>🟦⬜⬜⬜🟦⬜⬜⬜⬜⬜🟦⬜⬜⬜🟦⬜🟦🔳🔳🔳🟦<br>🟦🟦🟦🟦🟦🟦🟦🟦🟦⬜🟦🟦🟦🟦🟦⬜🟦🔳🟦🟦🟦<br>🟦⬜⬜⬜⬜⬜⬜⬜⬜⬜🟦🔳🔳🔳⬜⬜🟦🔳🟦⬜🟦<br>🟦⬜🟦🟦🟦🟦🟦🟦🟦🟦🟦🔳🟦🔳🟦🟦🟦🔳🟦⬜🟦<br>🟦⬜🟦⬜⬜⬜⬜⬜🟦🔳🔳🔳🟦🔳🔳🔳🔳🔳🟦⬜🟦<br>🟦⬜🟦⬜🟦🟦🟦⬜🟦🔳🟦🟦🟦🟦🟦🟦🟦🟦🟦⬜🟦<br>🟦⬜⬜⬜⬜⬜🟦⬜⬜🔳🔳🔳🔳🔳🔳🔳🔳🔳🔳🟥🟦<br>🟦🟦🟦🟦🟦🟦🟦🟦🟦🟦🟦🟦🟦🟦🟦🟦🟦🟦🟦🟦🟦`;\n",
              "    </script>\n",
              "    "
            ],
            "text/plain": [
              "<IPython.core.display.HTML object>"
            ]
          },
          "metadata": {},
          "output_type": "display_data"
        },
        {
          "data": {
            "text/html": [
              "\n",
              "    <script>\n",
              "    document.getElementById('maze').innerHTML = `🟦🟦🟦🟦🟦🟦🟦🟦🟦🟦🟦🟦🟦🟦🟦🟦🟦🟦🟦🟦🟦<br>🟦🟩🟦⬜⬜⬜⬜⬜⬜⬜⬜⬜🟦⬜⬜🔳🔳🔳🔳🔳🟦<br>🟦⬜🟦⬜🟦🟦🟦🟦🟦🟦🟦⬜🟦⬜🟦🟦🟦🟦🟦🔳🟦<br>🟦⬜⬜⬜🟦⬜⬜⬜⬜⬜🟦⬜⬜⬜🟦⬜🟦🔳🔳🔳🟦<br>🟦🟦🟦🟦🟦🟦🟦🟦🟦⬜🟦🟦🟦🟦🟦⬜🟦🔳🟦🟦🟦<br>🟦⬜⬜⬜⬜⬜⬜⬜⬜⬜🟦🔳🔳🔳⬜⬜🟦🔳🟦⬜🟦<br>🟦⬜🟦🟦🟦🟦🟦🟦🟦🟦🟦🔳🟦🔳🟦🟦🟦🔳🟦⬜🟦<br>🟦⬜🟦⬜⬜⬜⬜⬜🟦🔳🔳🔳🟦🔳🔳🔳🔳🔳🟦⬜🟦<br>🟦⬜🟦⬜🟦🟦🟦⬜🟦🔳🟦🟦🟦🟦🟦🟦🟦🟦🟦⬜🟦<br>🟦⬜⬜⬜⬜⬜🟦⬜⬜🔳🔳🔳🔳🔳🔳🔳🔳🔳🔳🟥🟦<br>🟦🟦🟦🟦🟦🟦🟦🟦🟦🟦🟦🟦🟦🟦🟦🟦🟦🟦🟦🟦🟦`;\n",
              "    </script>\n",
              "    "
            ],
            "text/plain": [
              "<IPython.core.display.HTML object>"
            ]
          },
          "metadata": {},
          "output_type": "display_data"
        },
        {
          "data": {
            "text/html": [
              "\n",
              "    <script>\n",
              "    document.getElementById('maze').innerHTML = `🟦🟦🟦🟦🟦🟦🟦🟦🟦🟦🟦🟦🟦🟦🟦🟦🟦🟦🟦🟦🟦<br>🟦🟩🟦⬜⬜⬜⬜⬜⬜⬜⬜⬜🟦⬜🔳🔳🔳🔳🔳🔳🟦<br>🟦⬜🟦⬜🟦🟦🟦🟦🟦🟦🟦⬜🟦⬜🟦🟦🟦🟦🟦🔳🟦<br>🟦⬜⬜⬜🟦⬜⬜⬜⬜⬜🟦⬜⬜⬜🟦⬜🟦🔳🔳🔳🟦<br>🟦🟦🟦🟦🟦🟦🟦🟦🟦⬜🟦🟦🟦🟦🟦⬜🟦🔳🟦🟦🟦<br>🟦⬜⬜⬜⬜⬜⬜⬜⬜⬜🟦🔳🔳🔳⬜⬜🟦🔳🟦⬜🟦<br>🟦⬜🟦🟦🟦🟦🟦🟦🟦🟦🟦🔳🟦🔳🟦🟦🟦🔳🟦⬜🟦<br>🟦⬜🟦⬜⬜⬜⬜⬜🟦🔳🔳🔳🟦🔳🔳🔳🔳🔳🟦⬜🟦<br>🟦⬜🟦⬜🟦🟦🟦⬜🟦🔳🟦🟦🟦🟦🟦🟦🟦🟦🟦⬜🟦<br>🟦⬜⬜⬜⬜⬜🟦⬜⬜🔳🔳🔳🔳🔳🔳🔳🔳🔳🔳🟥🟦<br>🟦🟦🟦🟦🟦🟦🟦🟦🟦🟦🟦🟦🟦🟦🟦🟦🟦🟦🟦🟦🟦`;\n",
              "    </script>\n",
              "    "
            ],
            "text/plain": [
              "<IPython.core.display.HTML object>"
            ]
          },
          "metadata": {},
          "output_type": "display_data"
        },
        {
          "data": {
            "text/html": [
              "\n",
              "    <script>\n",
              "    document.getElementById('maze').innerHTML = `🟦🟦🟦🟦🟦🟦🟦🟦🟦🟦🟦🟦🟦🟦🟦🟦🟦🟦🟦🟦🟦<br>🟦🟩🟦⬜⬜⬜⬜⬜⬜⬜⬜⬜🟦🔳🔳🔳🔳🔳🔳🔳🟦<br>🟦⬜🟦⬜🟦🟦🟦🟦🟦🟦🟦⬜🟦⬜🟦🟦🟦🟦🟦🔳🟦<br>🟦⬜⬜⬜🟦⬜⬜⬜⬜⬜🟦⬜⬜⬜🟦⬜🟦🔳🔳🔳🟦<br>🟦🟦🟦🟦🟦🟦🟦🟦🟦⬜🟦🟦🟦🟦🟦⬜🟦🔳🟦🟦🟦<br>🟦⬜⬜⬜⬜⬜⬜⬜⬜⬜🟦🔳🔳🔳⬜⬜🟦🔳🟦⬜🟦<br>🟦⬜🟦🟦🟦🟦🟦🟦🟦🟦🟦🔳🟦🔳🟦🟦🟦🔳🟦⬜🟦<br>🟦⬜🟦⬜⬜⬜⬜⬜🟦🔳🔳🔳🟦🔳🔳🔳🔳🔳🟦⬜🟦<br>🟦⬜🟦⬜🟦🟦🟦⬜🟦🔳🟦🟦🟦🟦🟦🟦🟦🟦🟦⬜🟦<br>🟦⬜⬜⬜⬜⬜🟦⬜⬜🔳🔳🔳🔳🔳🔳🔳🔳🔳🔳🟥🟦<br>🟦🟦🟦🟦🟦🟦🟦🟦🟦🟦🟦🟦🟦🟦🟦🟦🟦🟦🟦🟦🟦`;\n",
              "    </script>\n",
              "    "
            ],
            "text/plain": [
              "<IPython.core.display.HTML object>"
            ]
          },
          "metadata": {},
          "output_type": "display_data"
        },
        {
          "data": {
            "text/html": [
              "\n",
              "    <script>\n",
              "    document.getElementById('maze').innerHTML = `🟦🟦🟦🟦🟦🟦🟦🟦🟦🟦🟦🟦🟦🟦🟦🟦🟦🟦🟦🟦🟦<br>🟦🟩🟦⬜⬜⬜⬜⬜⬜⬜⬜⬜🟦🔳🔳🔳🔳🔳🔳🔳🟦<br>🟦⬜🟦⬜🟦🟦🟦🟦🟦🟦🟦⬜🟦🔳🟦🟦🟦🟦🟦🔳🟦<br>🟦⬜⬜⬜🟦⬜⬜⬜⬜⬜🟦⬜⬜⬜🟦⬜🟦🔳🔳🔳🟦<br>🟦🟦🟦🟦🟦🟦🟦🟦🟦⬜🟦🟦🟦🟦🟦⬜🟦🔳🟦🟦🟦<br>🟦⬜⬜⬜⬜⬜⬜⬜⬜⬜🟦🔳🔳🔳⬜⬜🟦🔳🟦⬜🟦<br>🟦⬜🟦🟦🟦🟦🟦🟦🟦🟦🟦🔳🟦🔳🟦🟦🟦🔳🟦⬜🟦<br>🟦⬜🟦⬜⬜⬜⬜⬜🟦🔳🔳🔳🟦🔳🔳🔳🔳🔳🟦⬜🟦<br>🟦⬜🟦⬜🟦🟦🟦⬜🟦🔳🟦🟦🟦🟦🟦🟦🟦🟦🟦⬜🟦<br>🟦⬜⬜⬜⬜⬜🟦⬜⬜🔳🔳🔳🔳🔳🔳🔳🔳🔳🔳🟥🟦<br>🟦🟦🟦🟦🟦🟦🟦🟦🟦🟦🟦🟦🟦🟦🟦🟦🟦🟦🟦🟦🟦`;\n",
              "    </script>\n",
              "    "
            ],
            "text/plain": [
              "<IPython.core.display.HTML object>"
            ]
          },
          "metadata": {},
          "output_type": "display_data"
        },
        {
          "data": {
            "text/html": [
              "\n",
              "    <script>\n",
              "    document.getElementById('maze').innerHTML = `🟦🟦🟦🟦🟦🟦🟦🟦🟦🟦🟦🟦🟦🟦🟦🟦🟦🟦🟦🟦🟦<br>🟦🟩🟦⬜⬜⬜⬜⬜⬜⬜⬜⬜🟦🔳🔳🔳🔳🔳🔳🔳🟦<br>🟦⬜🟦⬜🟦🟦🟦🟦🟦🟦🟦⬜🟦🔳🟦🟦🟦🟦🟦🔳🟦<br>🟦⬜⬜⬜🟦⬜⬜⬜⬜⬜🟦⬜⬜🔳🟦⬜🟦🔳🔳🔳🟦<br>🟦🟦🟦🟦🟦🟦🟦🟦🟦⬜🟦🟦🟦🟦🟦⬜🟦🔳🟦🟦🟦<br>🟦⬜⬜⬜⬜⬜⬜⬜⬜⬜🟦🔳🔳🔳⬜⬜🟦🔳🟦⬜🟦<br>🟦⬜🟦🟦🟦🟦🟦🟦🟦🟦🟦🔳🟦🔳🟦🟦🟦🔳🟦⬜🟦<br>🟦⬜🟦⬜⬜⬜⬜⬜🟦🔳🔳🔳🟦🔳🔳🔳🔳🔳🟦⬜🟦<br>🟦⬜🟦⬜🟦🟦🟦⬜🟦🔳🟦🟦🟦🟦🟦🟦🟦🟦🟦⬜🟦<br>🟦⬜⬜⬜⬜⬜🟦⬜⬜🔳🔳🔳🔳🔳🔳🔳🔳🔳🔳🟥🟦<br>🟦🟦🟦🟦🟦🟦🟦🟦🟦🟦🟦🟦🟦🟦🟦🟦🟦🟦🟦🟦🟦`;\n",
              "    </script>\n",
              "    "
            ],
            "text/plain": [
              "<IPython.core.display.HTML object>"
            ]
          },
          "metadata": {},
          "output_type": "display_data"
        },
        {
          "data": {
            "text/html": [
              "\n",
              "    <script>\n",
              "    document.getElementById('maze').innerHTML = `🟦🟦🟦🟦🟦🟦🟦🟦🟦🟦🟦🟦🟦🟦🟦🟦🟦🟦🟦🟦🟦<br>🟦🟩🟦⬜⬜⬜⬜⬜⬜⬜⬜⬜🟦🔳🔳🔳🔳🔳🔳🔳🟦<br>🟦⬜🟦⬜🟦🟦🟦🟦🟦🟦🟦⬜🟦🔳🟦🟦🟦🟦🟦🔳🟦<br>🟦⬜⬜⬜🟦⬜⬜⬜⬜⬜🟦⬜🔳🔳🟦⬜🟦🔳🔳🔳🟦<br>🟦🟦🟦🟦🟦🟦🟦🟦🟦⬜🟦🟦🟦🟦🟦⬜🟦🔳🟦🟦🟦<br>🟦⬜⬜⬜⬜⬜⬜⬜⬜⬜🟦🔳🔳🔳⬜⬜🟦🔳🟦⬜🟦<br>🟦⬜🟦🟦🟦🟦🟦🟦🟦🟦🟦🔳🟦🔳🟦🟦🟦🔳🟦⬜🟦<br>🟦⬜🟦⬜⬜⬜⬜⬜🟦🔳🔳🔳🟦🔳🔳🔳🔳🔳🟦⬜🟦<br>🟦⬜🟦⬜🟦🟦🟦⬜🟦🔳🟦🟦🟦🟦🟦🟦🟦🟦🟦⬜🟦<br>🟦⬜⬜⬜⬜⬜🟦⬜⬜🔳🔳🔳🔳🔳🔳🔳🔳🔳🔳🟥🟦<br>🟦🟦🟦🟦🟦🟦🟦🟦🟦🟦🟦🟦🟦🟦🟦🟦🟦🟦🟦🟦🟦`;\n",
              "    </script>\n",
              "    "
            ],
            "text/plain": [
              "<IPython.core.display.HTML object>"
            ]
          },
          "metadata": {},
          "output_type": "display_data"
        },
        {
          "data": {
            "text/html": [
              "\n",
              "    <script>\n",
              "    document.getElementById('maze').innerHTML = `🟦🟦🟦🟦🟦🟦🟦🟦🟦🟦🟦🟦🟦🟦🟦🟦🟦🟦🟦🟦🟦<br>🟦🟩🟦⬜⬜⬜⬜⬜⬜⬜⬜⬜🟦🔳🔳🔳🔳🔳🔳🔳🟦<br>🟦⬜🟦⬜🟦🟦🟦🟦🟦🟦🟦⬜🟦🔳🟦🟦🟦🟦🟦🔳🟦<br>🟦⬜⬜⬜🟦⬜⬜⬜⬜⬜🟦🔳🔳🔳🟦⬜🟦🔳🔳🔳🟦<br>🟦🟦🟦🟦🟦🟦🟦🟦🟦⬜🟦🟦🟦🟦🟦⬜🟦🔳🟦🟦🟦<br>🟦⬜⬜⬜⬜⬜⬜⬜⬜⬜🟦🔳🔳🔳⬜⬜🟦🔳🟦⬜🟦<br>🟦⬜🟦🟦🟦🟦🟦🟦🟦🟦🟦🔳🟦🔳🟦🟦🟦🔳🟦⬜🟦<br>🟦⬜🟦⬜⬜⬜⬜⬜🟦🔳🔳🔳🟦🔳🔳🔳🔳🔳🟦⬜🟦<br>🟦⬜🟦⬜🟦🟦🟦⬜🟦🔳🟦🟦🟦🟦🟦🟦🟦🟦🟦⬜🟦<br>🟦⬜⬜⬜⬜⬜🟦⬜⬜🔳🔳🔳🔳🔳🔳🔳🔳🔳🔳🟥🟦<br>🟦🟦🟦🟦🟦🟦🟦🟦🟦🟦🟦🟦🟦🟦🟦🟦🟦🟦🟦🟦🟦`;\n",
              "    </script>\n",
              "    "
            ],
            "text/plain": [
              "<IPython.core.display.HTML object>"
            ]
          },
          "metadata": {},
          "output_type": "display_data"
        },
        {
          "data": {
            "text/html": [
              "\n",
              "    <script>\n",
              "    document.getElementById('maze').innerHTML = `🟦🟦🟦🟦🟦🟦🟦🟦🟦🟦🟦🟦🟦🟦🟦🟦🟦🟦🟦🟦🟦<br>🟦🟩🟦⬜⬜⬜⬜⬜⬜⬜⬜⬜🟦🔳🔳🔳🔳🔳🔳🔳🟦<br>🟦⬜🟦⬜🟦🟦🟦🟦🟦🟦🟦🔳🟦🔳🟦🟦🟦🟦🟦🔳🟦<br>🟦⬜⬜⬜🟦⬜⬜⬜⬜⬜🟦🔳🔳🔳🟦⬜🟦🔳🔳🔳🟦<br>🟦🟦🟦🟦🟦🟦🟦🟦🟦⬜🟦🟦🟦🟦🟦⬜🟦🔳🟦🟦🟦<br>🟦⬜⬜⬜⬜⬜⬜⬜⬜⬜🟦🔳🔳🔳⬜⬜🟦🔳🟦⬜🟦<br>🟦⬜🟦🟦🟦🟦🟦🟦🟦🟦🟦🔳🟦🔳🟦🟦🟦🔳🟦⬜🟦<br>🟦⬜🟦⬜⬜⬜⬜⬜🟦🔳🔳🔳🟦🔳🔳🔳🔳🔳🟦⬜🟦<br>🟦⬜🟦⬜🟦🟦🟦⬜🟦🔳🟦🟦🟦🟦🟦🟦🟦🟦🟦⬜🟦<br>🟦⬜⬜⬜⬜⬜🟦⬜⬜🔳🔳🔳🔳🔳🔳🔳🔳🔳🔳🟥🟦<br>🟦🟦🟦🟦🟦🟦🟦🟦🟦🟦🟦🟦🟦🟦🟦🟦🟦🟦🟦🟦🟦`;\n",
              "    </script>\n",
              "    "
            ],
            "text/plain": [
              "<IPython.core.display.HTML object>"
            ]
          },
          "metadata": {},
          "output_type": "display_data"
        },
        {
          "data": {
            "text/html": [
              "\n",
              "    <script>\n",
              "    document.getElementById('maze').innerHTML = `🟦🟦🟦🟦🟦🟦🟦🟦🟦🟦🟦🟦🟦🟦🟦🟦🟦🟦🟦🟦🟦<br>🟦🟩🟦⬜⬜⬜⬜⬜⬜⬜⬜🔳🟦🔳🔳🔳🔳🔳🔳🔳🟦<br>🟦⬜🟦⬜🟦🟦🟦🟦🟦🟦🟦🔳🟦🔳🟦🟦🟦🟦🟦🔳🟦<br>🟦⬜⬜⬜🟦⬜⬜⬜⬜⬜🟦🔳🔳🔳🟦⬜🟦🔳🔳🔳🟦<br>🟦🟦🟦🟦🟦🟦🟦🟦🟦⬜🟦🟦🟦🟦🟦⬜🟦🔳🟦🟦🟦<br>🟦⬜⬜⬜⬜⬜⬜⬜⬜⬜🟦🔳🔳🔳⬜⬜🟦🔳🟦⬜🟦<br>🟦⬜🟦🟦🟦🟦🟦🟦🟦🟦🟦🔳🟦🔳🟦🟦🟦🔳🟦⬜🟦<br>🟦⬜🟦⬜⬜⬜⬜⬜🟦🔳🔳🔳🟦🔳🔳🔳🔳🔳🟦⬜🟦<br>🟦⬜🟦⬜🟦🟦🟦⬜🟦🔳🟦🟦🟦🟦🟦🟦🟦🟦🟦⬜🟦<br>🟦⬜⬜⬜⬜⬜🟦⬜⬜🔳🔳🔳🔳🔳🔳🔳🔳🔳🔳🟥🟦<br>🟦🟦🟦🟦🟦🟦🟦🟦🟦🟦🟦🟦🟦🟦🟦🟦🟦🟦🟦🟦🟦`;\n",
              "    </script>\n",
              "    "
            ],
            "text/plain": [
              "<IPython.core.display.HTML object>"
            ]
          },
          "metadata": {},
          "output_type": "display_data"
        },
        {
          "data": {
            "text/html": [
              "\n",
              "    <script>\n",
              "    document.getElementById('maze').innerHTML = `🟦🟦🟦🟦🟦🟦🟦🟦🟦🟦🟦🟦🟦🟦🟦🟦🟦🟦🟦🟦🟦<br>🟦🟩🟦⬜⬜⬜⬜⬜⬜⬜🔳🔳🟦🔳🔳🔳🔳🔳🔳🔳🟦<br>🟦⬜🟦⬜🟦🟦🟦🟦🟦🟦🟦🔳🟦🔳🟦🟦🟦🟦🟦🔳🟦<br>🟦⬜⬜⬜🟦⬜⬜⬜⬜⬜🟦🔳🔳🔳🟦⬜🟦🔳🔳🔳🟦<br>🟦🟦🟦🟦🟦🟦🟦🟦🟦⬜🟦🟦🟦🟦🟦⬜🟦🔳🟦🟦🟦<br>🟦⬜⬜⬜⬜⬜⬜⬜⬜⬜🟦🔳🔳🔳⬜⬜🟦🔳🟦⬜🟦<br>🟦⬜🟦🟦🟦🟦🟦🟦🟦🟦🟦🔳🟦🔳🟦🟦🟦🔳🟦⬜🟦<br>🟦⬜🟦⬜⬜⬜⬜⬜🟦🔳🔳🔳🟦🔳🔳🔳🔳🔳🟦⬜🟦<br>🟦⬜🟦⬜🟦🟦🟦⬜🟦🔳🟦🟦🟦🟦🟦🟦🟦🟦🟦⬜🟦<br>🟦⬜⬜⬜⬜⬜🟦⬜⬜🔳🔳🔳🔳🔳🔳🔳🔳🔳🔳🟥🟦<br>🟦🟦🟦🟦🟦🟦🟦🟦🟦🟦🟦🟦🟦🟦🟦🟦🟦🟦🟦🟦🟦`;\n",
              "    </script>\n",
              "    "
            ],
            "text/plain": [
              "<IPython.core.display.HTML object>"
            ]
          },
          "metadata": {},
          "output_type": "display_data"
        },
        {
          "data": {
            "text/html": [
              "\n",
              "    <script>\n",
              "    document.getElementById('maze').innerHTML = `🟦🟦🟦🟦🟦🟦🟦🟦🟦🟦🟦🟦🟦🟦🟦🟦🟦🟦🟦🟦🟦<br>🟦🟩🟦⬜⬜⬜⬜⬜⬜🔳🔳🔳🟦🔳🔳🔳🔳🔳🔳🔳🟦<br>🟦⬜🟦⬜🟦🟦🟦🟦🟦🟦🟦🔳🟦🔳🟦🟦🟦🟦🟦🔳🟦<br>🟦⬜⬜⬜🟦⬜⬜⬜⬜⬜🟦🔳🔳🔳🟦⬜🟦🔳🔳🔳🟦<br>🟦🟦🟦🟦🟦🟦🟦🟦🟦⬜🟦🟦🟦🟦🟦⬜🟦🔳🟦🟦🟦<br>🟦⬜⬜⬜⬜⬜⬜⬜⬜⬜🟦🔳🔳🔳⬜⬜🟦🔳🟦⬜🟦<br>🟦⬜🟦🟦🟦🟦🟦🟦🟦🟦🟦🔳🟦🔳🟦🟦🟦🔳🟦⬜🟦<br>🟦⬜🟦⬜⬜⬜⬜⬜🟦🔳🔳🔳🟦🔳🔳🔳🔳🔳🟦⬜🟦<br>🟦⬜🟦⬜🟦🟦🟦⬜🟦🔳🟦🟦🟦🟦🟦🟦🟦🟦🟦⬜🟦<br>🟦⬜⬜⬜⬜⬜🟦⬜⬜🔳🔳🔳🔳🔳🔳🔳🔳🔳🔳🟥🟦<br>🟦🟦🟦🟦🟦🟦🟦🟦🟦🟦🟦🟦🟦🟦🟦🟦🟦🟦🟦🟦🟦`;\n",
              "    </script>\n",
              "    "
            ],
            "text/plain": [
              "<IPython.core.display.HTML object>"
            ]
          },
          "metadata": {},
          "output_type": "display_data"
        },
        {
          "data": {
            "text/html": [
              "\n",
              "    <script>\n",
              "    document.getElementById('maze').innerHTML = `🟦🟦🟦🟦🟦🟦🟦🟦🟦🟦🟦🟦🟦🟦🟦🟦🟦🟦🟦🟦🟦<br>🟦🟩🟦⬜⬜⬜⬜⬜🔳🔳🔳🔳🟦🔳🔳🔳🔳🔳🔳🔳🟦<br>🟦⬜🟦⬜🟦🟦🟦🟦🟦🟦🟦🔳🟦🔳🟦🟦🟦🟦🟦🔳🟦<br>🟦⬜⬜⬜🟦⬜⬜⬜⬜⬜🟦🔳🔳🔳🟦⬜🟦🔳🔳🔳🟦<br>🟦🟦🟦🟦🟦🟦🟦🟦🟦⬜🟦🟦🟦🟦🟦⬜🟦🔳🟦🟦🟦<br>🟦⬜⬜⬜⬜⬜⬜⬜⬜⬜🟦🔳🔳🔳⬜⬜🟦🔳🟦⬜🟦<br>🟦⬜🟦🟦🟦🟦🟦🟦🟦🟦🟦🔳🟦🔳🟦🟦🟦🔳🟦⬜🟦<br>🟦⬜🟦⬜⬜⬜⬜⬜🟦🔳🔳🔳🟦🔳🔳🔳🔳🔳🟦⬜🟦<br>🟦⬜🟦⬜🟦🟦🟦⬜🟦🔳🟦🟦🟦🟦🟦🟦🟦🟦🟦⬜🟦<br>🟦⬜⬜⬜⬜⬜🟦⬜⬜🔳🔳🔳🔳🔳🔳🔳🔳🔳🔳🟥🟦<br>🟦🟦🟦🟦🟦🟦🟦🟦🟦🟦🟦🟦🟦🟦🟦🟦🟦🟦🟦🟦🟦`;\n",
              "    </script>\n",
              "    "
            ],
            "text/plain": [
              "<IPython.core.display.HTML object>"
            ]
          },
          "metadata": {},
          "output_type": "display_data"
        },
        {
          "data": {
            "text/html": [
              "\n",
              "    <script>\n",
              "    document.getElementById('maze').innerHTML = `🟦🟦🟦🟦🟦🟦🟦🟦🟦🟦🟦🟦🟦🟦🟦🟦🟦🟦🟦🟦🟦<br>🟦🟩🟦⬜⬜⬜⬜🔳🔳🔳🔳🔳🟦🔳🔳🔳🔳🔳🔳🔳🟦<br>🟦⬜🟦⬜🟦🟦🟦🟦🟦🟦🟦🔳🟦🔳🟦🟦🟦🟦🟦🔳🟦<br>🟦⬜⬜⬜🟦⬜⬜⬜⬜⬜🟦🔳🔳🔳🟦⬜🟦🔳🔳🔳🟦<br>🟦🟦🟦🟦🟦🟦🟦🟦🟦⬜🟦🟦🟦🟦🟦⬜🟦🔳🟦🟦🟦<br>🟦⬜⬜⬜⬜⬜⬜⬜⬜⬜🟦🔳🔳🔳⬜⬜🟦🔳🟦⬜🟦<br>🟦⬜🟦🟦🟦🟦🟦🟦🟦🟦🟦🔳🟦🔳🟦🟦🟦🔳🟦⬜🟦<br>🟦⬜🟦⬜⬜⬜⬜⬜🟦🔳🔳🔳🟦🔳🔳🔳🔳🔳🟦⬜🟦<br>🟦⬜🟦⬜🟦🟦🟦⬜🟦🔳🟦🟦🟦🟦🟦🟦🟦🟦🟦⬜🟦<br>🟦⬜⬜⬜⬜⬜🟦⬜⬜🔳🔳🔳🔳🔳🔳🔳🔳🔳🔳🟥🟦<br>🟦🟦🟦🟦🟦🟦🟦🟦🟦🟦🟦🟦🟦🟦🟦🟦🟦🟦🟦🟦🟦`;\n",
              "    </script>\n",
              "    "
            ],
            "text/plain": [
              "<IPython.core.display.HTML object>"
            ]
          },
          "metadata": {},
          "output_type": "display_data"
        },
        {
          "data": {
            "text/html": [
              "\n",
              "    <script>\n",
              "    document.getElementById('maze').innerHTML = `🟦🟦🟦🟦🟦🟦🟦🟦🟦🟦🟦🟦🟦🟦🟦🟦🟦🟦🟦🟦🟦<br>🟦🟩🟦⬜⬜⬜🔳🔳🔳🔳🔳🔳🟦🔳🔳🔳🔳🔳🔳🔳🟦<br>🟦⬜🟦⬜🟦🟦🟦🟦🟦🟦🟦🔳🟦🔳🟦🟦🟦🟦🟦🔳🟦<br>🟦⬜⬜⬜🟦⬜⬜⬜⬜⬜🟦🔳🔳🔳🟦⬜🟦🔳🔳🔳🟦<br>🟦🟦🟦🟦🟦🟦🟦🟦🟦⬜🟦🟦🟦🟦🟦⬜🟦🔳🟦🟦🟦<br>🟦⬜⬜⬜⬜⬜⬜⬜⬜⬜🟦🔳🔳🔳⬜⬜🟦🔳🟦⬜🟦<br>🟦⬜🟦🟦🟦🟦🟦🟦🟦🟦🟦🔳🟦🔳🟦🟦🟦🔳🟦⬜🟦<br>🟦⬜🟦⬜⬜⬜⬜⬜🟦🔳🔳🔳🟦🔳🔳🔳🔳🔳🟦⬜🟦<br>🟦⬜🟦⬜🟦🟦🟦⬜🟦🔳🟦🟦🟦🟦🟦🟦🟦🟦🟦⬜🟦<br>🟦⬜⬜⬜⬜⬜🟦⬜⬜🔳🔳🔳🔳🔳🔳🔳🔳🔳🔳🟥🟦<br>🟦🟦🟦🟦🟦🟦🟦🟦🟦🟦🟦🟦🟦🟦🟦🟦🟦🟦🟦🟦🟦`;\n",
              "    </script>\n",
              "    "
            ],
            "text/plain": [
              "<IPython.core.display.HTML object>"
            ]
          },
          "metadata": {},
          "output_type": "display_data"
        },
        {
          "data": {
            "text/html": [
              "\n",
              "    <script>\n",
              "    document.getElementById('maze').innerHTML = `🟦🟦🟦🟦🟦🟦🟦🟦🟦🟦🟦🟦🟦🟦🟦🟦🟦🟦🟦🟦🟦<br>🟦🟩🟦⬜⬜🔳🔳🔳🔳🔳🔳🔳🟦🔳🔳🔳🔳🔳🔳🔳🟦<br>🟦⬜🟦⬜🟦🟦🟦🟦🟦🟦🟦🔳🟦🔳🟦🟦🟦🟦🟦🔳🟦<br>🟦⬜⬜⬜🟦⬜⬜⬜⬜⬜🟦🔳🔳🔳🟦⬜🟦🔳🔳🔳🟦<br>🟦🟦🟦🟦🟦🟦🟦🟦🟦⬜🟦🟦🟦🟦🟦⬜🟦🔳🟦🟦🟦<br>🟦⬜⬜⬜⬜⬜⬜⬜⬜⬜🟦🔳🔳🔳⬜⬜🟦🔳🟦⬜🟦<br>🟦⬜🟦🟦🟦🟦🟦🟦🟦🟦🟦🔳🟦🔳🟦🟦🟦🔳🟦⬜🟦<br>🟦⬜🟦⬜⬜⬜⬜⬜🟦🔳🔳🔳🟦🔳🔳🔳🔳🔳🟦⬜🟦<br>🟦⬜🟦⬜🟦🟦🟦⬜🟦🔳🟦🟦🟦🟦🟦🟦🟦🟦🟦⬜🟦<br>🟦⬜⬜⬜⬜⬜🟦⬜⬜🔳🔳🔳🔳🔳🔳🔳🔳🔳🔳🟥🟦<br>🟦🟦🟦🟦🟦🟦🟦🟦🟦🟦🟦🟦🟦🟦🟦🟦🟦🟦🟦🟦🟦`;\n",
              "    </script>\n",
              "    "
            ],
            "text/plain": [
              "<IPython.core.display.HTML object>"
            ]
          },
          "metadata": {},
          "output_type": "display_data"
        },
        {
          "data": {
            "text/html": [
              "\n",
              "    <script>\n",
              "    document.getElementById('maze').innerHTML = `🟦🟦🟦🟦🟦🟦🟦🟦🟦🟦🟦🟦🟦🟦🟦🟦🟦🟦🟦🟦🟦<br>🟦🟩🟦⬜🔳🔳🔳🔳🔳🔳🔳🔳🟦🔳🔳🔳🔳🔳🔳🔳🟦<br>🟦⬜🟦⬜🟦🟦🟦🟦🟦🟦🟦🔳🟦🔳🟦🟦🟦🟦🟦🔳🟦<br>🟦⬜⬜⬜🟦⬜⬜⬜⬜⬜🟦🔳🔳🔳🟦⬜🟦🔳🔳🔳🟦<br>🟦🟦🟦🟦🟦🟦🟦🟦🟦⬜🟦🟦🟦🟦🟦⬜🟦🔳🟦🟦🟦<br>🟦⬜⬜⬜⬜⬜⬜⬜⬜⬜🟦🔳🔳🔳⬜⬜🟦🔳🟦⬜🟦<br>🟦⬜🟦🟦🟦🟦🟦🟦🟦🟦🟦🔳🟦🔳🟦🟦🟦🔳🟦⬜🟦<br>🟦⬜🟦⬜⬜⬜⬜⬜🟦🔳🔳🔳🟦🔳🔳🔳🔳🔳🟦⬜🟦<br>🟦⬜🟦⬜🟦🟦🟦⬜🟦🔳🟦🟦🟦🟦🟦🟦🟦🟦🟦⬜🟦<br>🟦⬜⬜⬜⬜⬜🟦⬜⬜🔳🔳🔳🔳🔳🔳🔳🔳🔳🔳🟥🟦<br>🟦🟦🟦🟦🟦🟦🟦🟦🟦🟦🟦🟦🟦🟦🟦🟦🟦🟦🟦🟦🟦`;\n",
              "    </script>\n",
              "    "
            ],
            "text/plain": [
              "<IPython.core.display.HTML object>"
            ]
          },
          "metadata": {},
          "output_type": "display_data"
        },
        {
          "data": {
            "text/html": [
              "\n",
              "    <script>\n",
              "    document.getElementById('maze').innerHTML = `🟦🟦🟦🟦🟦🟦🟦🟦🟦🟦🟦🟦🟦🟦🟦🟦🟦🟦🟦🟦🟦<br>🟦🟩🟦🔳🔳🔳🔳🔳🔳🔳🔳🔳🟦🔳🔳🔳🔳🔳🔳🔳🟦<br>🟦⬜🟦⬜🟦🟦🟦🟦🟦🟦🟦🔳🟦🔳🟦🟦🟦🟦🟦🔳🟦<br>🟦⬜⬜⬜🟦⬜⬜⬜⬜⬜🟦🔳🔳🔳🟦⬜🟦🔳🔳🔳🟦<br>🟦🟦🟦🟦🟦🟦🟦🟦🟦⬜🟦🟦🟦🟦🟦⬜🟦🔳🟦🟦🟦<br>🟦⬜⬜⬜⬜⬜⬜⬜⬜⬜🟦🔳🔳🔳⬜⬜🟦🔳🟦⬜🟦<br>🟦⬜🟦🟦🟦🟦🟦🟦🟦🟦🟦🔳🟦🔳🟦🟦🟦🔳🟦⬜🟦<br>🟦⬜🟦⬜⬜⬜⬜⬜🟦🔳🔳🔳🟦🔳🔳🔳🔳🔳🟦⬜🟦<br>🟦⬜🟦⬜🟦🟦🟦⬜🟦🔳🟦🟦🟦🟦🟦🟦🟦🟦🟦⬜🟦<br>🟦⬜⬜⬜⬜⬜🟦⬜⬜🔳🔳🔳🔳🔳🔳🔳🔳🔳🔳🟥🟦<br>🟦🟦🟦🟦🟦🟦🟦🟦🟦🟦🟦🟦🟦🟦🟦🟦🟦🟦🟦🟦🟦`;\n",
              "    </script>\n",
              "    "
            ],
            "text/plain": [
              "<IPython.core.display.HTML object>"
            ]
          },
          "metadata": {},
          "output_type": "display_data"
        },
        {
          "data": {
            "text/html": [
              "\n",
              "    <script>\n",
              "    document.getElementById('maze').innerHTML = `🟦🟦🟦🟦🟦🟦🟦🟦🟦🟦🟦🟦🟦🟦🟦🟦🟦🟦🟦🟦🟦<br>🟦🟩🟦🔳🔳🔳🔳🔳🔳🔳🔳🔳🟦🔳🔳🔳🔳🔳🔳🔳🟦<br>🟦⬜🟦🔳🟦🟦🟦🟦🟦🟦🟦🔳🟦🔳🟦🟦🟦🟦🟦🔳🟦<br>🟦⬜⬜⬜🟦⬜⬜⬜⬜⬜🟦🔳🔳🔳🟦⬜🟦🔳🔳🔳🟦<br>🟦🟦🟦🟦🟦🟦🟦🟦🟦⬜🟦🟦🟦🟦🟦⬜🟦🔳🟦🟦🟦<br>🟦⬜⬜⬜⬜⬜⬜⬜⬜⬜🟦🔳🔳🔳⬜⬜🟦🔳🟦⬜🟦<br>🟦⬜🟦🟦🟦🟦🟦🟦🟦🟦🟦🔳🟦🔳🟦🟦🟦🔳🟦⬜🟦<br>🟦⬜🟦⬜⬜⬜⬜⬜🟦🔳🔳🔳🟦🔳🔳🔳🔳🔳🟦⬜🟦<br>🟦⬜🟦⬜🟦🟦🟦⬜🟦🔳🟦🟦🟦🟦🟦🟦🟦🟦🟦⬜🟦<br>🟦⬜⬜⬜⬜⬜🟦⬜⬜🔳🔳🔳🔳🔳🔳🔳🔳🔳🔳🟥🟦<br>🟦🟦🟦🟦🟦🟦🟦🟦🟦🟦🟦🟦🟦🟦🟦🟦🟦🟦🟦🟦🟦`;\n",
              "    </script>\n",
              "    "
            ],
            "text/plain": [
              "<IPython.core.display.HTML object>"
            ]
          },
          "metadata": {},
          "output_type": "display_data"
        },
        {
          "data": {
            "text/html": [
              "\n",
              "    <script>\n",
              "    document.getElementById('maze').innerHTML = `🟦🟦🟦🟦🟦🟦🟦🟦🟦🟦🟦🟦🟦🟦🟦🟦🟦🟦🟦🟦🟦<br>🟦🟩🟦🔳🔳🔳🔳🔳🔳🔳🔳🔳🟦🔳🔳🔳🔳🔳🔳🔳🟦<br>🟦⬜🟦🔳🟦🟦🟦🟦🟦🟦🟦🔳🟦🔳🟦🟦🟦🟦🟦🔳🟦<br>🟦⬜⬜🔳🟦⬜⬜⬜⬜⬜🟦🔳🔳🔳🟦⬜🟦🔳🔳🔳🟦<br>🟦🟦🟦🟦🟦🟦🟦🟦🟦⬜🟦🟦🟦🟦🟦⬜🟦🔳🟦🟦🟦<br>🟦⬜⬜⬜⬜⬜⬜⬜⬜⬜🟦🔳🔳🔳⬜⬜🟦🔳🟦⬜🟦<br>🟦⬜🟦🟦🟦🟦🟦🟦🟦🟦🟦🔳🟦🔳🟦🟦🟦🔳🟦⬜🟦<br>🟦⬜🟦⬜⬜⬜⬜⬜🟦🔳🔳🔳🟦🔳🔳🔳🔳🔳🟦⬜🟦<br>🟦⬜🟦⬜🟦🟦🟦⬜🟦🔳🟦🟦🟦🟦🟦🟦🟦🟦🟦⬜🟦<br>🟦⬜⬜⬜⬜⬜🟦⬜⬜🔳🔳🔳🔳🔳🔳🔳🔳🔳🔳🟥🟦<br>🟦🟦🟦🟦🟦🟦🟦🟦🟦🟦🟦🟦🟦🟦🟦🟦🟦🟦🟦🟦🟦`;\n",
              "    </script>\n",
              "    "
            ],
            "text/plain": [
              "<IPython.core.display.HTML object>"
            ]
          },
          "metadata": {},
          "output_type": "display_data"
        },
        {
          "data": {
            "text/html": [
              "\n",
              "    <script>\n",
              "    document.getElementById('maze').innerHTML = `🟦🟦🟦🟦🟦🟦🟦🟦🟦🟦🟦🟦🟦🟦🟦🟦🟦🟦🟦🟦🟦<br>🟦🟩🟦🔳🔳🔳🔳🔳🔳🔳🔳🔳🟦🔳🔳🔳🔳🔳🔳🔳🟦<br>🟦⬜🟦🔳🟦🟦🟦🟦🟦🟦🟦🔳🟦🔳🟦🟦🟦🟦🟦🔳🟦<br>🟦⬜🔳🔳🟦⬜⬜⬜⬜⬜🟦🔳🔳🔳🟦⬜🟦🔳🔳🔳🟦<br>🟦🟦🟦🟦🟦🟦🟦🟦🟦⬜🟦🟦🟦🟦🟦⬜🟦🔳🟦🟦🟦<br>🟦⬜⬜⬜⬜⬜⬜⬜⬜⬜🟦🔳🔳🔳⬜⬜🟦🔳🟦⬜🟦<br>🟦⬜🟦🟦🟦🟦🟦🟦🟦🟦🟦🔳🟦🔳🟦🟦🟦🔳🟦⬜🟦<br>🟦⬜🟦⬜⬜⬜⬜⬜🟦🔳🔳🔳🟦🔳🔳🔳🔳🔳🟦⬜🟦<br>🟦⬜🟦⬜🟦🟦🟦⬜🟦🔳🟦🟦🟦🟦🟦🟦🟦🟦🟦⬜🟦<br>🟦⬜⬜⬜⬜⬜🟦⬜⬜🔳🔳🔳🔳🔳🔳🔳🔳🔳🔳🟥🟦<br>🟦🟦🟦🟦🟦🟦🟦🟦🟦🟦🟦🟦🟦🟦🟦🟦🟦🟦🟦🟦🟦`;\n",
              "    </script>\n",
              "    "
            ],
            "text/plain": [
              "<IPython.core.display.HTML object>"
            ]
          },
          "metadata": {},
          "output_type": "display_data"
        },
        {
          "data": {
            "text/html": [
              "\n",
              "    <script>\n",
              "    document.getElementById('maze').innerHTML = `🟦🟦🟦🟦🟦🟦🟦🟦🟦🟦🟦🟦🟦🟦🟦🟦🟦🟦🟦🟦🟦<br>🟦🟩🟦🔳🔳🔳🔳🔳🔳🔳🔳🔳🟦🔳🔳🔳🔳🔳🔳🔳🟦<br>🟦⬜🟦🔳🟦🟦🟦🟦🟦🟦🟦🔳🟦🔳🟦🟦🟦🟦🟦🔳🟦<br>🟦🔳🔳🔳🟦⬜⬜⬜⬜⬜🟦🔳🔳🔳🟦⬜🟦🔳🔳🔳🟦<br>🟦🟦🟦🟦🟦🟦🟦🟦🟦⬜🟦🟦🟦🟦🟦⬜🟦🔳🟦🟦🟦<br>🟦⬜⬜⬜⬜⬜⬜⬜⬜⬜🟦🔳🔳🔳⬜⬜🟦🔳🟦⬜🟦<br>🟦⬜🟦🟦🟦🟦🟦🟦🟦🟦🟦🔳🟦🔳🟦🟦🟦🔳🟦⬜🟦<br>🟦⬜🟦⬜⬜⬜⬜⬜🟦🔳🔳🔳🟦🔳🔳🔳🔳🔳🟦⬜🟦<br>🟦⬜🟦⬜🟦🟦🟦⬜🟦🔳🟦🟦🟦🟦🟦🟦🟦🟦🟦⬜🟦<br>🟦⬜⬜⬜⬜⬜🟦⬜⬜🔳🔳🔳🔳🔳🔳🔳🔳🔳🔳🟥🟦<br>🟦🟦🟦🟦🟦🟦🟦🟦🟦🟦🟦🟦🟦🟦🟦🟦🟦🟦🟦🟦🟦`;\n",
              "    </script>\n",
              "    "
            ],
            "text/plain": [
              "<IPython.core.display.HTML object>"
            ]
          },
          "metadata": {},
          "output_type": "display_data"
        },
        {
          "data": {
            "text/html": [
              "\n",
              "    <script>\n",
              "    document.getElementById('maze').innerHTML = `🟦🟦🟦🟦🟦🟦🟦🟦🟦🟦🟦🟦🟦🟦🟦🟦🟦🟦🟦🟦🟦<br>🟦🟩🟦🔳🔳🔳🔳🔳🔳🔳🔳🔳🟦🔳🔳🔳🔳🔳🔳🔳🟦<br>🟦🔳🟦🔳🟦🟦🟦🟦🟦🟦🟦🔳🟦🔳🟦🟦🟦🟦🟦🔳🟦<br>🟦🔳🔳🔳🟦⬜⬜⬜⬜⬜🟦🔳🔳🔳🟦⬜🟦🔳🔳🔳🟦<br>🟦🟦🟦🟦🟦🟦🟦🟦🟦⬜🟦🟦🟦🟦🟦⬜🟦🔳🟦🟦🟦<br>🟦⬜⬜⬜⬜⬜⬜⬜⬜⬜🟦🔳🔳🔳⬜⬜🟦🔳🟦⬜🟦<br>🟦⬜🟦🟦🟦🟦🟦🟦🟦🟦🟦🔳🟦🔳🟦🟦🟦🔳🟦⬜🟦<br>🟦⬜🟦⬜⬜⬜⬜⬜🟦🔳🔳🔳🟦🔳🔳🔳🔳🔳🟦⬜🟦<br>🟦⬜🟦⬜🟦🟦🟦⬜🟦🔳🟦🟦🟦🟦🟦🟦🟦🟦🟦⬜🟦<br>🟦⬜⬜⬜⬜⬜🟦⬜⬜🔳🔳🔳🔳🔳🔳🔳🔳🔳🔳🟥🟦<br>🟦🟦🟦🟦🟦🟦🟦🟦🟦🟦🟦🟦🟦🟦🟦🟦🟦🟦🟦🟦🟦`;\n",
              "    </script>\n",
              "    "
            ],
            "text/plain": [
              "<IPython.core.display.HTML object>"
            ]
          },
          "metadata": {},
          "output_type": "display_data"
        },
        {
          "data": {
            "text/html": [
              "\n",
              "    <script>\n",
              "    document.getElementById('maze').innerHTML = `🟦🟦🟦🟦🟦🟦🟦🟦🟦🟦🟦🟦🟦🟦🟦🟦🟦🟦🟦🟦🟦<br>🟦🔳🟦🔳🔳🔳🔳🔳🔳🔳🔳🔳🟦🔳🔳🔳🔳🔳🔳🔳🟦<br>🟦🔳🟦🔳🟦🟦🟦🟦🟦🟦🟦🔳🟦🔳🟦🟦🟦🟦🟦🔳🟦<br>🟦🔳🔳🔳🟦⬜⬜⬜⬜⬜🟦🔳🔳🔳🟦⬜🟦🔳🔳🔳🟦<br>🟦🟦🟦🟦🟦🟦🟦🟦🟦⬜🟦🟦🟦🟦🟦⬜🟦🔳🟦🟦🟦<br>🟦⬜⬜⬜⬜⬜⬜⬜⬜⬜🟦🔳🔳🔳⬜⬜🟦🔳🟦⬜🟦<br>🟦⬜🟦🟦🟦🟦🟦🟦🟦🟦🟦🔳🟦🔳🟦🟦🟦🔳🟦⬜🟦<br>🟦⬜🟦⬜⬜⬜⬜⬜🟦🔳🔳🔳🟦🔳🔳🔳🔳🔳🟦⬜🟦<br>🟦⬜🟦⬜🟦🟦🟦⬜🟦🔳🟦🟦🟦🟦🟦🟦🟦🟦🟦⬜🟦<br>🟦⬜⬜⬜⬜⬜🟦⬜⬜🔳🔳🔳🔳🔳🔳🔳🔳🔳🔳🟥🟦<br>🟦🟦🟦🟦🟦🟦🟦🟦🟦🟦🟦🟦🟦🟦🟦🟦🟦🟦🟦🟦🟦`;\n",
              "    </script>\n",
              "    "
            ],
            "text/plain": [
              "<IPython.core.display.HTML object>"
            ]
          },
          "metadata": {},
          "output_type": "display_data"
        }
      ],
      "source": [
        "# Fonction qui trouve le chemin entre\n",
        "# une case visitée et la case départ\n",
        "def trouverChemin(cases_visitees, cases_precedentes, case_actuelle):\n",
        "  chemin = []\n",
        "  # Tant qu'on n'est pas rendu à la case départ (None)\n",
        "  index_precedente = cases_visitees.index(case_actuelle)\n",
        "  case_precedente = cases_precedentes[index_precedente]\n",
        "  while case_precedente != None:\n",
        "    # On ajoute la case précédente à la liste qui forme le chemin\n",
        "    chemin.append(case_precedente)\n",
        "    # On trouve l'index de la case précédente dans la listes de cases visitées\n",
        "    index_precedente = cases_visitees.index(case_precedente)\n",
        "    # On trouve la nouvelle case précédente dans la liste de cases précédentes\n",
        "    case_precedente = cases_precedentes[index_precedente]\n",
        "\n",
        "  # On retourne la liste de cases qui forme le chemin\n",
        "  return chemin\n",
        "\n",
        "\n",
        "def bfs(grid):\n",
        "    cases_visitees = []\n",
        "    cases_precedentes = []\n",
        "    # liste de tuples cases & parents\n",
        "    cases_a_visiter = [(grid.nodes[1][1], None)]\n",
        "    \n",
        "    while cases_a_visiter:\n",
        "        time.sleep(0.1)\n",
        "        case_courante = cases_a_visiter.pop(0)\n",
        "        cases_visitees.insert(0, case_courante[0])\n",
        "        cases_precedentes.insert(0, case_courante[1])\n",
        "        \n",
        "        # affiche la case courante dans la carte\n",
        "        x = int(case_courante[0].center.x)\n",
        "        y = int(case_courante[0].center.y)\n",
        "        afficherLabyrinthe(labyrinthe.copy(), x, y, [c.center for c in cases_visitees])\n",
        "        \n",
        "        # Si on trouve la fin on sort ! \n",
        "        if labyrinthe[y, x] == FIN:\n",
        "            chemin = trouverChemin(cases_visitees, cases_precedentes, case_courante[0])\n",
        "            return True, chemin\n",
        "        \n",
        "        # Pour chaque voisins de la case actuelle\n",
        "        cases_voisines = grid.get_node_neighbors(case_courante[0], allow_diagonal=False)\n",
        "        \n",
        "        for voisin in cases_voisines:\n",
        "            if voisin.walkable and not voisin in cases_visitees:\n",
        "                cases_a_visiter.append((voisin, case_courante[0]))\n",
        "    \n",
        "    return False, []\n",
        "              \n",
        "status, chemin = bfs(grid)\n",
        "\n",
        "# afficher le chemin trouvé\n",
        "maze_copy = labyrinthe.copy()\n",
        "for node in chemin:\n",
        "  x = int(node.center.x)\n",
        "  y = int(node.center.y)\n",
        "  maze_copy[y, x] = CHEMIN\n",
        "  afficherLabyrinthe(maze_copy, 0, 0, [])\n",
        "        \n",
        "        "
      ]
    },
    {
      "cell_type": "code",
      "execution_count": 103,
      "metadata": {},
      "outputs": [
        {
          "data": {
            "text/html": [
              "\n",
              "    <script>\n",
              "    document.getElementById('maze').innerHTML = `🟦🟦🟦🟦🟦🟦🟦🟦🟦🟦🟦🟦🟦🟦🟦🟦🟦🟦🟦🟦🟦<br>🟦😼🟦⬜⬜⬜⬜⬜⬜⬜⬜⬜🟦⬜⬜⬜⬜⬜⬜⬜🟦<br>🟦⬜🟦⬜🟦🟦🟦🟦🟦🟦🟦⬜🟦⬜🟦🟦🟦🟦🟦⬜🟦<br>🟦⬜⬜⬜🟦⬜⬜⬜⬜⬜🟦⬜⬜⬜🟦⬜🟦⬜⬜⬜🟦<br>🟦🟦🟦🟦🟦🟦🟦🟦🟦⬜🟦🟦🟦🟦🟦⬜🟦⬜🟦🟦🟦<br>🟦⬜⬜⬜⬜⬜⬜⬜⬜⬜🟦⬜⬜⬜⬜⬜🟦⬜🟦⬜🟦<br>🟦⬜🟦🟦🟦🟦🟦🟦🟦🟦🟦⬜🟦⬜🟦🟦🟦⬜🟦⬜🟦<br>🟦⬜🟦⬜⬜⬜⬜⬜🟦⬜⬜⬜🟦⬜⬜⬜⬜⬜🟦⬜🟦<br>🟦⬜🟦⬜🟦🟦🟦⬜🟦⬜🟦🟦🟦🟦🟦🟦🟦🟦🟦⬜🟦<br>🟦⬜⬜⬜⬜⬜🟦⬜⬜⬜⬜⬜⬜⬜⬜⬜⬜⬜⬜🟥🟦<br>🟦🟦🟦🟦🟦🟦🟦🟦🟦🟦🟦🟦🟦🟦🟦🟦🟦🟦🟦🟦🟦`;\n",
              "    </script>\n",
              "    "
            ],
            "text/plain": [
              "<IPython.core.display.HTML object>"
            ]
          },
          "metadata": {},
          "output_type": "display_data"
        },
        {
          "data": {
            "text/html": [
              "\n",
              "    <script>\n",
              "    document.getElementById('maze').innerHTML = `🟦🟦🟦🟦🟦🟦🟦🟦🟦🟦🟦🟦🟦🟦🟦🟦🟦🟦🟦🟦🟦<br>🟦🟨🟦⬜⬜⬜⬜⬜⬜⬜⬜⬜🟦⬜⬜⬜⬜⬜⬜⬜🟦<br>🟦😼🟦⬜🟦🟦🟦🟦🟦🟦🟦⬜🟦⬜🟦🟦🟦🟦🟦⬜🟦<br>🟦⬜⬜⬜🟦⬜⬜⬜⬜⬜🟦⬜⬜⬜🟦⬜🟦⬜⬜⬜🟦<br>🟦🟦🟦🟦🟦🟦🟦🟦🟦⬜🟦🟦🟦🟦🟦⬜🟦⬜🟦🟦🟦<br>🟦⬜⬜⬜⬜⬜⬜⬜⬜⬜🟦⬜⬜⬜⬜⬜🟦⬜🟦⬜🟦<br>🟦⬜🟦🟦🟦🟦🟦🟦🟦🟦🟦⬜🟦⬜🟦🟦🟦⬜🟦⬜🟦<br>🟦⬜🟦⬜⬜⬜⬜⬜🟦⬜⬜⬜🟦⬜⬜⬜⬜⬜🟦⬜🟦<br>🟦⬜🟦⬜🟦🟦🟦⬜🟦⬜🟦🟦🟦🟦🟦🟦🟦🟦🟦⬜🟦<br>🟦⬜⬜⬜⬜⬜🟦⬜⬜⬜⬜⬜⬜⬜⬜⬜⬜⬜⬜🟥🟦<br>🟦🟦🟦🟦🟦🟦🟦🟦🟦🟦🟦🟦🟦🟦🟦🟦🟦🟦🟦🟦🟦`;\n",
              "    </script>\n",
              "    "
            ],
            "text/plain": [
              "<IPython.core.display.HTML object>"
            ]
          },
          "metadata": {},
          "output_type": "display_data"
        },
        {
          "data": {
            "text/html": [
              "\n",
              "    <script>\n",
              "    document.getElementById('maze').innerHTML = `🟦🟦🟦🟦🟦🟦🟦🟦🟦🟦🟦🟦🟦🟦🟦🟦🟦🟦🟦🟦🟦<br>🟦🟨🟦⬜⬜⬜⬜⬜⬜⬜⬜⬜🟦⬜⬜⬜⬜⬜⬜⬜🟦<br>🟦🟨🟦⬜🟦🟦🟦🟦🟦🟦🟦⬜🟦⬜🟦🟦🟦🟦🟦⬜🟦<br>🟦😼⬜⬜🟦⬜⬜⬜⬜⬜🟦⬜⬜⬜🟦⬜🟦⬜⬜⬜🟦<br>🟦🟦🟦🟦🟦🟦🟦🟦🟦⬜🟦🟦🟦🟦🟦⬜🟦⬜🟦🟦🟦<br>🟦⬜⬜⬜⬜⬜⬜⬜⬜⬜🟦⬜⬜⬜⬜⬜🟦⬜🟦⬜🟦<br>🟦⬜🟦🟦🟦🟦🟦🟦🟦🟦🟦⬜🟦⬜🟦🟦🟦⬜🟦⬜🟦<br>🟦⬜🟦⬜⬜⬜⬜⬜🟦⬜⬜⬜🟦⬜⬜⬜⬜⬜🟦⬜🟦<br>🟦⬜🟦⬜🟦🟦🟦⬜🟦⬜🟦🟦🟦🟦🟦🟦🟦🟦🟦⬜🟦<br>🟦⬜⬜⬜⬜⬜🟦⬜⬜⬜⬜⬜⬜⬜⬜⬜⬜⬜⬜🟥🟦<br>🟦🟦🟦🟦🟦🟦🟦🟦🟦🟦🟦🟦🟦🟦🟦🟦🟦🟦🟦🟦🟦`;\n",
              "    </script>\n",
              "    "
            ],
            "text/plain": [
              "<IPython.core.display.HTML object>"
            ]
          },
          "metadata": {},
          "output_type": "display_data"
        },
        {
          "data": {
            "text/html": [
              "\n",
              "    <script>\n",
              "    document.getElementById('maze').innerHTML = `🟦🟦🟦🟦🟦🟦🟦🟦🟦🟦🟦🟦🟦🟦🟦🟦🟦🟦🟦🟦🟦<br>🟦🟨🟦⬜⬜⬜⬜⬜⬜⬜⬜⬜🟦⬜⬜⬜⬜⬜⬜⬜🟦<br>🟦🟨🟦⬜🟦🟦🟦🟦🟦🟦🟦⬜🟦⬜🟦🟦🟦🟦🟦⬜🟦<br>🟦🟨😼⬜🟦⬜⬜⬜⬜⬜🟦⬜⬜⬜🟦⬜🟦⬜⬜⬜🟦<br>🟦🟦🟦🟦🟦🟦🟦🟦🟦⬜🟦🟦🟦🟦🟦⬜🟦⬜🟦🟦🟦<br>🟦⬜⬜⬜⬜⬜⬜⬜⬜⬜🟦⬜⬜⬜⬜⬜🟦⬜🟦⬜🟦<br>🟦⬜🟦🟦🟦🟦🟦🟦🟦🟦🟦⬜🟦⬜🟦🟦🟦⬜🟦⬜🟦<br>🟦⬜🟦⬜⬜⬜⬜⬜🟦⬜⬜⬜🟦⬜⬜⬜⬜⬜🟦⬜🟦<br>🟦⬜🟦⬜🟦🟦🟦⬜🟦⬜🟦🟦🟦🟦🟦🟦🟦🟦🟦⬜🟦<br>🟦⬜⬜⬜⬜⬜🟦⬜⬜⬜⬜⬜⬜⬜⬜⬜⬜⬜⬜🟥🟦<br>🟦🟦🟦🟦🟦🟦🟦🟦🟦🟦🟦🟦🟦🟦🟦🟦🟦🟦🟦🟦🟦`;\n",
              "    </script>\n",
              "    "
            ],
            "text/plain": [
              "<IPython.core.display.HTML object>"
            ]
          },
          "metadata": {},
          "output_type": "display_data"
        },
        {
          "data": {
            "text/html": [
              "\n",
              "    <script>\n",
              "    document.getElementById('maze').innerHTML = `🟦🟦🟦🟦🟦🟦🟦🟦🟦🟦🟦🟦🟦🟦🟦🟦🟦🟦🟦🟦🟦<br>🟦🟨🟦⬜⬜⬜⬜⬜⬜⬜⬜⬜🟦⬜⬜⬜⬜⬜⬜⬜🟦<br>🟦🟨🟦⬜🟦🟦🟦🟦🟦🟦🟦⬜🟦⬜🟦🟦🟦🟦🟦⬜🟦<br>🟦🟨🟨😼🟦⬜⬜⬜⬜⬜🟦⬜⬜⬜🟦⬜🟦⬜⬜⬜🟦<br>🟦🟦🟦🟦🟦🟦🟦🟦🟦⬜🟦🟦🟦🟦🟦⬜🟦⬜🟦🟦🟦<br>🟦⬜⬜⬜⬜⬜⬜⬜⬜⬜🟦⬜⬜⬜⬜⬜🟦⬜🟦⬜🟦<br>🟦⬜🟦🟦🟦🟦🟦🟦🟦🟦🟦⬜🟦⬜🟦🟦🟦⬜🟦⬜🟦<br>🟦⬜🟦⬜⬜⬜⬜⬜🟦⬜⬜⬜🟦⬜⬜⬜⬜⬜🟦⬜🟦<br>🟦⬜🟦⬜🟦🟦🟦⬜🟦⬜🟦🟦🟦🟦🟦🟦🟦🟦🟦⬜🟦<br>🟦⬜⬜⬜⬜⬜🟦⬜⬜⬜⬜⬜⬜⬜⬜⬜⬜⬜⬜🟥🟦<br>🟦🟦🟦🟦🟦🟦🟦🟦🟦🟦🟦🟦🟦🟦🟦🟦🟦🟦🟦🟦🟦`;\n",
              "    </script>\n",
              "    "
            ],
            "text/plain": [
              "<IPython.core.display.HTML object>"
            ]
          },
          "metadata": {},
          "output_type": "display_data"
        },
        {
          "data": {
            "text/html": [
              "\n",
              "    <script>\n",
              "    document.getElementById('maze').innerHTML = `🟦🟦🟦🟦🟦🟦🟦🟦🟦🟦🟦🟦🟦🟦🟦🟦🟦🟦🟦🟦🟦<br>🟦🟨🟦⬜⬜⬜⬜⬜⬜⬜⬜⬜🟦⬜⬜⬜⬜⬜⬜⬜🟦<br>🟦🟨🟦😼🟦🟦🟦🟦🟦🟦🟦⬜🟦⬜🟦🟦🟦🟦🟦⬜🟦<br>🟦🟨🟨🟨🟦⬜⬜⬜⬜⬜🟦⬜⬜⬜🟦⬜🟦⬜⬜⬜🟦<br>🟦🟦🟦🟦🟦🟦🟦🟦🟦⬜🟦🟦🟦🟦🟦⬜🟦⬜🟦🟦🟦<br>🟦⬜⬜⬜⬜⬜⬜⬜⬜⬜🟦⬜⬜⬜⬜⬜🟦⬜🟦⬜🟦<br>🟦⬜🟦🟦🟦🟦🟦🟦🟦🟦🟦⬜🟦⬜🟦🟦🟦⬜🟦⬜🟦<br>🟦⬜🟦⬜⬜⬜⬜⬜🟦⬜⬜⬜🟦⬜⬜⬜⬜⬜🟦⬜🟦<br>🟦⬜🟦⬜🟦🟦🟦⬜🟦⬜🟦🟦🟦🟦🟦🟦🟦🟦🟦⬜🟦<br>🟦⬜⬜⬜⬜⬜🟦⬜⬜⬜⬜⬜⬜⬜⬜⬜⬜⬜⬜🟥🟦<br>🟦🟦🟦🟦🟦🟦🟦🟦🟦🟦🟦🟦🟦🟦🟦🟦🟦🟦🟦🟦🟦`;\n",
              "    </script>\n",
              "    "
            ],
            "text/plain": [
              "<IPython.core.display.HTML object>"
            ]
          },
          "metadata": {},
          "output_type": "display_data"
        },
        {
          "data": {
            "text/html": [
              "\n",
              "    <script>\n",
              "    document.getElementById('maze').innerHTML = `🟦🟦🟦🟦🟦🟦🟦🟦🟦🟦🟦🟦🟦🟦🟦🟦🟦🟦🟦🟦🟦<br>🟦🟨🟦😼⬜⬜⬜⬜⬜⬜⬜⬜🟦⬜⬜⬜⬜⬜⬜⬜🟦<br>🟦🟨🟦🟨🟦🟦🟦🟦🟦🟦🟦⬜🟦⬜🟦🟦🟦🟦🟦⬜🟦<br>🟦🟨🟨🟨🟦⬜⬜⬜⬜⬜🟦⬜⬜⬜🟦⬜🟦⬜⬜⬜🟦<br>🟦🟦🟦🟦🟦🟦🟦🟦🟦⬜🟦🟦🟦🟦🟦⬜🟦⬜🟦🟦🟦<br>🟦⬜⬜⬜⬜⬜⬜⬜⬜⬜🟦⬜⬜⬜⬜⬜🟦⬜🟦⬜🟦<br>🟦⬜🟦🟦🟦🟦🟦🟦🟦🟦🟦⬜🟦⬜🟦🟦🟦⬜🟦⬜🟦<br>🟦⬜🟦⬜⬜⬜⬜⬜🟦⬜⬜⬜🟦⬜⬜⬜⬜⬜🟦⬜🟦<br>🟦⬜🟦⬜🟦🟦🟦⬜🟦⬜🟦🟦🟦🟦🟦🟦🟦🟦🟦⬜🟦<br>🟦⬜⬜⬜⬜⬜🟦⬜⬜⬜⬜⬜⬜⬜⬜⬜⬜⬜⬜🟥🟦<br>🟦🟦🟦🟦🟦🟦🟦🟦🟦🟦🟦🟦🟦🟦🟦🟦🟦🟦🟦🟦🟦`;\n",
              "    </script>\n",
              "    "
            ],
            "text/plain": [
              "<IPython.core.display.HTML object>"
            ]
          },
          "metadata": {},
          "output_type": "display_data"
        },
        {
          "data": {
            "text/html": [
              "\n",
              "    <script>\n",
              "    document.getElementById('maze').innerHTML = `🟦🟦🟦🟦🟦🟦🟦🟦🟦🟦🟦🟦🟦🟦🟦🟦🟦🟦🟦🟦🟦<br>🟦🟨🟦🟨😼⬜⬜⬜⬜⬜⬜⬜🟦⬜⬜⬜⬜⬜⬜⬜🟦<br>🟦🟨🟦🟨🟦🟦🟦🟦🟦🟦🟦⬜🟦⬜🟦🟦🟦🟦🟦⬜🟦<br>🟦🟨🟨🟨🟦⬜⬜⬜⬜⬜🟦⬜⬜⬜🟦⬜🟦⬜⬜⬜🟦<br>🟦🟦🟦🟦🟦🟦🟦🟦🟦⬜🟦🟦🟦🟦🟦⬜🟦⬜🟦🟦🟦<br>🟦⬜⬜⬜⬜⬜⬜⬜⬜⬜🟦⬜⬜⬜⬜⬜🟦⬜🟦⬜🟦<br>🟦⬜🟦🟦🟦🟦🟦🟦🟦🟦🟦⬜🟦⬜🟦🟦🟦⬜🟦⬜🟦<br>🟦⬜🟦⬜⬜⬜⬜⬜🟦⬜⬜⬜🟦⬜⬜⬜⬜⬜🟦⬜🟦<br>🟦⬜🟦⬜🟦🟦🟦⬜🟦⬜🟦🟦🟦🟦🟦🟦🟦🟦🟦⬜🟦<br>🟦⬜⬜⬜⬜⬜🟦⬜⬜⬜⬜⬜⬜⬜⬜⬜⬜⬜⬜🟥🟦<br>🟦🟦🟦🟦🟦🟦🟦🟦🟦🟦🟦🟦🟦🟦🟦🟦🟦🟦🟦🟦🟦`;\n",
              "    </script>\n",
              "    "
            ],
            "text/plain": [
              "<IPython.core.display.HTML object>"
            ]
          },
          "metadata": {},
          "output_type": "display_data"
        },
        {
          "data": {
            "text/html": [
              "\n",
              "    <script>\n",
              "    document.getElementById('maze').innerHTML = `🟦🟦🟦🟦🟦🟦🟦🟦🟦🟦🟦🟦🟦🟦🟦🟦🟦🟦🟦🟦🟦<br>🟦🟨🟦🟨🟨😼⬜⬜⬜⬜⬜⬜🟦⬜⬜⬜⬜⬜⬜⬜🟦<br>🟦🟨🟦🟨🟦🟦🟦🟦🟦🟦🟦⬜🟦⬜🟦🟦🟦🟦🟦⬜🟦<br>🟦🟨🟨🟨🟦⬜⬜⬜⬜⬜🟦⬜⬜⬜🟦⬜🟦⬜⬜⬜🟦<br>🟦🟦🟦🟦🟦🟦🟦🟦🟦⬜🟦🟦🟦🟦🟦⬜🟦⬜🟦🟦🟦<br>🟦⬜⬜⬜⬜⬜⬜⬜⬜⬜🟦⬜⬜⬜⬜⬜🟦⬜🟦⬜🟦<br>🟦⬜🟦🟦🟦🟦🟦🟦🟦🟦🟦⬜🟦⬜🟦🟦🟦⬜🟦⬜🟦<br>🟦⬜🟦⬜⬜⬜⬜⬜🟦⬜⬜⬜🟦⬜⬜⬜⬜⬜🟦⬜🟦<br>🟦⬜🟦⬜🟦🟦🟦⬜🟦⬜🟦🟦🟦🟦🟦🟦🟦🟦🟦⬜🟦<br>🟦⬜⬜⬜⬜⬜🟦⬜⬜⬜⬜⬜⬜⬜⬜⬜⬜⬜⬜🟥🟦<br>🟦🟦🟦🟦🟦🟦🟦🟦🟦🟦🟦🟦🟦🟦🟦🟦🟦🟦🟦🟦🟦`;\n",
              "    </script>\n",
              "    "
            ],
            "text/plain": [
              "<IPython.core.display.HTML object>"
            ]
          },
          "metadata": {},
          "output_type": "display_data"
        },
        {
          "data": {
            "text/html": [
              "\n",
              "    <script>\n",
              "    document.getElementById('maze').innerHTML = `🟦🟦🟦🟦🟦🟦🟦🟦🟦🟦🟦🟦🟦🟦🟦🟦🟦🟦🟦🟦🟦<br>🟦🟨🟦🟨🟨🟨😼⬜⬜⬜⬜⬜🟦⬜⬜⬜⬜⬜⬜⬜🟦<br>🟦🟨🟦🟨🟦🟦🟦🟦🟦🟦🟦⬜🟦⬜🟦🟦🟦🟦🟦⬜🟦<br>🟦🟨🟨🟨🟦⬜⬜⬜⬜⬜🟦⬜⬜⬜🟦⬜🟦⬜⬜⬜🟦<br>🟦🟦🟦🟦🟦🟦🟦🟦🟦⬜🟦🟦🟦🟦🟦⬜🟦⬜🟦🟦🟦<br>🟦⬜⬜⬜⬜⬜⬜⬜⬜⬜🟦⬜⬜⬜⬜⬜🟦⬜🟦⬜🟦<br>🟦⬜🟦🟦🟦🟦🟦🟦🟦🟦🟦⬜🟦⬜🟦🟦🟦⬜🟦⬜🟦<br>🟦⬜🟦⬜⬜⬜⬜⬜🟦⬜⬜⬜🟦⬜⬜⬜⬜⬜🟦⬜🟦<br>🟦⬜🟦⬜🟦🟦🟦⬜🟦⬜🟦🟦🟦🟦🟦🟦🟦🟦🟦⬜🟦<br>🟦⬜⬜⬜⬜⬜🟦⬜⬜⬜⬜⬜⬜⬜⬜⬜⬜⬜⬜🟥🟦<br>🟦🟦🟦🟦🟦🟦🟦🟦🟦🟦🟦🟦🟦🟦🟦🟦🟦🟦🟦🟦🟦`;\n",
              "    </script>\n",
              "    "
            ],
            "text/plain": [
              "<IPython.core.display.HTML object>"
            ]
          },
          "metadata": {},
          "output_type": "display_data"
        },
        {
          "data": {
            "text/html": [
              "\n",
              "    <script>\n",
              "    document.getElementById('maze').innerHTML = `🟦🟦🟦🟦🟦🟦🟦🟦🟦🟦🟦🟦🟦🟦🟦🟦🟦🟦🟦🟦🟦<br>🟦🟨🟦🟨🟨🟨🟨😼⬜⬜⬜⬜🟦⬜⬜⬜⬜⬜⬜⬜🟦<br>🟦🟨🟦🟨🟦🟦🟦🟦🟦🟦🟦⬜🟦⬜🟦🟦🟦🟦🟦⬜🟦<br>🟦🟨🟨🟨🟦⬜⬜⬜⬜⬜🟦⬜⬜⬜🟦⬜🟦⬜⬜⬜🟦<br>🟦🟦🟦🟦🟦🟦🟦🟦🟦⬜🟦🟦🟦🟦🟦⬜🟦⬜🟦🟦🟦<br>🟦⬜⬜⬜⬜⬜⬜⬜⬜⬜🟦⬜⬜⬜⬜⬜🟦⬜🟦⬜🟦<br>🟦⬜🟦🟦🟦🟦🟦🟦🟦🟦🟦⬜🟦⬜🟦🟦🟦⬜🟦⬜🟦<br>🟦⬜🟦⬜⬜⬜⬜⬜🟦⬜⬜⬜🟦⬜⬜⬜⬜⬜🟦⬜🟦<br>🟦⬜🟦⬜🟦🟦🟦⬜🟦⬜🟦🟦🟦🟦🟦🟦🟦🟦🟦⬜🟦<br>🟦⬜⬜⬜⬜⬜🟦⬜⬜⬜⬜⬜⬜⬜⬜⬜⬜⬜⬜🟥🟦<br>🟦🟦🟦🟦🟦🟦🟦🟦🟦🟦🟦🟦🟦🟦🟦🟦🟦🟦🟦🟦🟦`;\n",
              "    </script>\n",
              "    "
            ],
            "text/plain": [
              "<IPython.core.display.HTML object>"
            ]
          },
          "metadata": {},
          "output_type": "display_data"
        },
        {
          "data": {
            "text/html": [
              "\n",
              "    <script>\n",
              "    document.getElementById('maze').innerHTML = `🟦🟦🟦🟦🟦🟦🟦🟦🟦🟦🟦🟦🟦🟦🟦🟦🟦🟦🟦🟦🟦<br>🟦🟨🟦🟨🟨🟨🟨🟨😼⬜⬜⬜🟦⬜⬜⬜⬜⬜⬜⬜🟦<br>🟦🟨🟦🟨🟦🟦🟦🟦🟦🟦🟦⬜🟦⬜🟦🟦🟦🟦🟦⬜🟦<br>🟦🟨🟨🟨🟦⬜⬜⬜⬜⬜🟦⬜⬜⬜🟦⬜🟦⬜⬜⬜🟦<br>🟦🟦🟦🟦🟦🟦🟦🟦🟦⬜🟦🟦🟦🟦🟦⬜🟦⬜🟦🟦🟦<br>🟦⬜⬜⬜⬜⬜⬜⬜⬜⬜🟦⬜⬜⬜⬜⬜🟦⬜🟦⬜🟦<br>🟦⬜🟦🟦🟦🟦🟦🟦🟦🟦🟦⬜🟦⬜🟦🟦🟦⬜🟦⬜🟦<br>🟦⬜🟦⬜⬜⬜⬜⬜🟦⬜⬜⬜🟦⬜⬜⬜⬜⬜🟦⬜🟦<br>🟦⬜🟦⬜🟦🟦🟦⬜🟦⬜🟦🟦🟦🟦🟦🟦🟦🟦🟦⬜🟦<br>🟦⬜⬜⬜⬜⬜🟦⬜⬜⬜⬜⬜⬜⬜⬜⬜⬜⬜⬜🟥🟦<br>🟦🟦🟦🟦🟦🟦🟦🟦🟦🟦🟦🟦🟦🟦🟦🟦🟦🟦🟦🟦🟦`;\n",
              "    </script>\n",
              "    "
            ],
            "text/plain": [
              "<IPython.core.display.HTML object>"
            ]
          },
          "metadata": {},
          "output_type": "display_data"
        },
        {
          "data": {
            "text/html": [
              "\n",
              "    <script>\n",
              "    document.getElementById('maze').innerHTML = `🟦🟦🟦🟦🟦🟦🟦🟦🟦🟦🟦🟦🟦🟦🟦🟦🟦🟦🟦🟦🟦<br>🟦🟨🟦🟨🟨🟨🟨🟨🟨😼⬜⬜🟦⬜⬜⬜⬜⬜⬜⬜🟦<br>🟦🟨🟦🟨🟦🟦🟦🟦🟦🟦🟦⬜🟦⬜🟦🟦🟦🟦🟦⬜🟦<br>🟦🟨🟨🟨🟦⬜⬜⬜⬜⬜🟦⬜⬜⬜🟦⬜🟦⬜⬜⬜🟦<br>🟦🟦🟦🟦🟦🟦🟦🟦🟦⬜🟦🟦🟦🟦🟦⬜🟦⬜🟦🟦🟦<br>🟦⬜⬜⬜⬜⬜⬜⬜⬜⬜🟦⬜⬜⬜⬜⬜🟦⬜🟦⬜🟦<br>🟦⬜🟦🟦🟦🟦🟦🟦🟦🟦🟦⬜🟦⬜🟦🟦🟦⬜🟦⬜🟦<br>🟦⬜🟦⬜⬜⬜⬜⬜🟦⬜⬜⬜🟦⬜⬜⬜⬜⬜🟦⬜🟦<br>🟦⬜🟦⬜🟦🟦🟦⬜🟦⬜🟦🟦🟦🟦🟦🟦🟦🟦🟦⬜🟦<br>🟦⬜⬜⬜⬜⬜🟦⬜⬜⬜⬜⬜⬜⬜⬜⬜⬜⬜⬜🟥🟦<br>🟦🟦🟦🟦🟦🟦🟦🟦🟦🟦🟦🟦🟦🟦🟦🟦🟦🟦🟦🟦🟦`;\n",
              "    </script>\n",
              "    "
            ],
            "text/plain": [
              "<IPython.core.display.HTML object>"
            ]
          },
          "metadata": {},
          "output_type": "display_data"
        },
        {
          "data": {
            "text/html": [
              "\n",
              "    <script>\n",
              "    document.getElementById('maze').innerHTML = `🟦🟦🟦🟦🟦🟦🟦🟦🟦🟦🟦🟦🟦🟦🟦🟦🟦🟦🟦🟦🟦<br>🟦🟨🟦🟨🟨🟨🟨🟨🟨🟨😼⬜🟦⬜⬜⬜⬜⬜⬜⬜🟦<br>🟦🟨🟦🟨🟦🟦🟦🟦🟦🟦🟦⬜🟦⬜🟦🟦🟦🟦🟦⬜🟦<br>🟦🟨🟨🟨🟦⬜⬜⬜⬜⬜🟦⬜⬜⬜🟦⬜🟦⬜⬜⬜🟦<br>🟦🟦🟦🟦🟦🟦🟦🟦🟦⬜🟦🟦🟦🟦🟦⬜🟦⬜🟦🟦🟦<br>🟦⬜⬜⬜⬜⬜⬜⬜⬜⬜🟦⬜⬜⬜⬜⬜🟦⬜🟦⬜🟦<br>🟦⬜🟦🟦🟦🟦🟦🟦🟦🟦🟦⬜🟦⬜🟦🟦🟦⬜🟦⬜🟦<br>🟦⬜🟦⬜⬜⬜⬜⬜🟦⬜⬜⬜🟦⬜⬜⬜⬜⬜🟦⬜🟦<br>🟦⬜🟦⬜🟦🟦🟦⬜🟦⬜🟦🟦🟦🟦🟦🟦🟦🟦🟦⬜🟦<br>🟦⬜⬜⬜⬜⬜🟦⬜⬜⬜⬜⬜⬜⬜⬜⬜⬜⬜⬜🟥🟦<br>🟦🟦🟦🟦🟦🟦🟦🟦🟦🟦🟦🟦🟦🟦🟦🟦🟦🟦🟦🟦🟦`;\n",
              "    </script>\n",
              "    "
            ],
            "text/plain": [
              "<IPython.core.display.HTML object>"
            ]
          },
          "metadata": {},
          "output_type": "display_data"
        },
        {
          "data": {
            "text/html": [
              "\n",
              "    <script>\n",
              "    document.getElementById('maze').innerHTML = `🟦🟦🟦🟦🟦🟦🟦🟦🟦🟦🟦🟦🟦🟦🟦🟦🟦🟦🟦🟦🟦<br>🟦🟨🟦🟨🟨🟨🟨🟨🟨🟨🟨😼🟦⬜⬜⬜⬜⬜⬜⬜🟦<br>🟦🟨🟦🟨🟦🟦🟦🟦🟦🟦🟦⬜🟦⬜🟦🟦🟦🟦🟦⬜🟦<br>🟦🟨🟨🟨🟦⬜⬜⬜⬜⬜🟦⬜⬜⬜🟦⬜🟦⬜⬜⬜🟦<br>🟦🟦🟦🟦🟦🟦🟦🟦🟦⬜🟦🟦🟦🟦🟦⬜🟦⬜🟦🟦🟦<br>🟦⬜⬜⬜⬜⬜⬜⬜⬜⬜🟦⬜⬜⬜⬜⬜🟦⬜🟦⬜🟦<br>🟦⬜🟦🟦🟦🟦🟦🟦🟦🟦🟦⬜🟦⬜🟦🟦🟦⬜🟦⬜🟦<br>🟦⬜🟦⬜⬜⬜⬜⬜🟦⬜⬜⬜🟦⬜⬜⬜⬜⬜🟦⬜🟦<br>🟦⬜🟦⬜🟦🟦🟦⬜🟦⬜🟦🟦🟦🟦🟦🟦🟦🟦🟦⬜🟦<br>🟦⬜⬜⬜⬜⬜🟦⬜⬜⬜⬜⬜⬜⬜⬜⬜⬜⬜⬜🟥🟦<br>🟦🟦🟦🟦🟦🟦🟦🟦🟦🟦🟦🟦🟦🟦🟦🟦🟦🟦🟦🟦🟦`;\n",
              "    </script>\n",
              "    "
            ],
            "text/plain": [
              "<IPython.core.display.HTML object>"
            ]
          },
          "metadata": {},
          "output_type": "display_data"
        },
        {
          "data": {
            "text/html": [
              "\n",
              "    <script>\n",
              "    document.getElementById('maze').innerHTML = `🟦🟦🟦🟦🟦🟦🟦🟦🟦🟦🟦🟦🟦🟦🟦🟦🟦🟦🟦🟦🟦<br>🟦🟨🟦🟨🟨🟨🟨🟨🟨🟨🟨🟨🟦⬜⬜⬜⬜⬜⬜⬜🟦<br>🟦🟨🟦🟨🟦🟦🟦🟦🟦🟦🟦😼🟦⬜🟦🟦🟦🟦🟦⬜🟦<br>🟦🟨🟨🟨🟦⬜⬜⬜⬜⬜🟦⬜⬜⬜🟦⬜🟦⬜⬜⬜🟦<br>🟦🟦🟦🟦🟦🟦🟦🟦🟦⬜🟦🟦🟦🟦🟦⬜🟦⬜🟦🟦🟦<br>🟦⬜⬜⬜⬜⬜⬜⬜⬜⬜🟦⬜⬜⬜⬜⬜🟦⬜🟦⬜🟦<br>🟦⬜🟦🟦🟦🟦🟦🟦🟦🟦🟦⬜🟦⬜🟦🟦🟦⬜🟦⬜🟦<br>🟦⬜🟦⬜⬜⬜⬜⬜🟦⬜⬜⬜🟦⬜⬜⬜⬜⬜🟦⬜🟦<br>🟦⬜🟦⬜🟦🟦🟦⬜🟦⬜🟦🟦🟦🟦🟦🟦🟦🟦🟦⬜🟦<br>🟦⬜⬜⬜⬜⬜🟦⬜⬜⬜⬜⬜⬜⬜⬜⬜⬜⬜⬜🟥🟦<br>🟦🟦🟦🟦🟦🟦🟦🟦🟦🟦🟦🟦🟦🟦🟦🟦🟦🟦🟦🟦🟦`;\n",
              "    </script>\n",
              "    "
            ],
            "text/plain": [
              "<IPython.core.display.HTML object>"
            ]
          },
          "metadata": {},
          "output_type": "display_data"
        },
        {
          "data": {
            "text/html": [
              "\n",
              "    <script>\n",
              "    document.getElementById('maze').innerHTML = `🟦🟦🟦🟦🟦🟦🟦🟦🟦🟦🟦🟦🟦🟦🟦🟦🟦🟦🟦🟦🟦<br>🟦🟨🟦🟨🟨🟨🟨🟨🟨🟨🟨🟨🟦⬜⬜⬜⬜⬜⬜⬜🟦<br>🟦🟨🟦🟨🟦🟦🟦🟦🟦🟦🟦🟨🟦⬜🟦🟦🟦🟦🟦⬜🟦<br>🟦🟨🟨🟨🟦⬜⬜⬜⬜⬜🟦😼⬜⬜🟦⬜🟦⬜⬜⬜🟦<br>🟦🟦🟦🟦🟦🟦🟦🟦🟦⬜🟦🟦🟦🟦🟦⬜🟦⬜🟦🟦🟦<br>🟦⬜⬜⬜⬜⬜⬜⬜⬜⬜🟦⬜⬜⬜⬜⬜🟦⬜🟦⬜🟦<br>🟦⬜🟦🟦🟦🟦🟦🟦🟦🟦🟦⬜🟦⬜🟦🟦🟦⬜🟦⬜🟦<br>🟦⬜🟦⬜⬜⬜⬜⬜🟦⬜⬜⬜🟦⬜⬜⬜⬜⬜🟦⬜🟦<br>🟦⬜🟦⬜🟦🟦🟦⬜🟦⬜🟦🟦🟦🟦🟦🟦🟦🟦🟦⬜🟦<br>🟦⬜⬜⬜⬜⬜🟦⬜⬜⬜⬜⬜⬜⬜⬜⬜⬜⬜⬜🟥🟦<br>🟦🟦🟦🟦🟦🟦🟦🟦🟦🟦🟦🟦🟦🟦🟦🟦🟦🟦🟦🟦🟦`;\n",
              "    </script>\n",
              "    "
            ],
            "text/plain": [
              "<IPython.core.display.HTML object>"
            ]
          },
          "metadata": {},
          "output_type": "display_data"
        },
        {
          "data": {
            "text/html": [
              "\n",
              "    <script>\n",
              "    document.getElementById('maze').innerHTML = `🟦🟦🟦🟦🟦🟦🟦🟦🟦🟦🟦🟦🟦🟦🟦🟦🟦🟦🟦🟦🟦<br>🟦🟨🟦🟨🟨🟨🟨🟨🟨🟨🟨🟨🟦⬜⬜⬜⬜⬜⬜⬜🟦<br>🟦🟨🟦🟨🟦🟦🟦🟦🟦🟦🟦🟨🟦⬜🟦🟦🟦🟦🟦⬜🟦<br>🟦🟨🟨🟨🟦⬜⬜⬜⬜⬜🟦🟨😼⬜🟦⬜🟦⬜⬜⬜🟦<br>🟦🟦🟦🟦🟦🟦🟦🟦🟦⬜🟦🟦🟦🟦🟦⬜🟦⬜🟦🟦🟦<br>🟦⬜⬜⬜⬜⬜⬜⬜⬜⬜🟦⬜⬜⬜⬜⬜🟦⬜🟦⬜🟦<br>🟦⬜🟦🟦🟦🟦🟦🟦🟦🟦🟦⬜🟦⬜🟦🟦🟦⬜🟦⬜🟦<br>🟦⬜🟦⬜⬜⬜⬜⬜🟦⬜⬜⬜🟦⬜⬜⬜⬜⬜🟦⬜🟦<br>🟦⬜🟦⬜🟦🟦🟦⬜🟦⬜🟦🟦🟦🟦🟦🟦🟦🟦🟦⬜🟦<br>🟦⬜⬜⬜⬜⬜🟦⬜⬜⬜⬜⬜⬜⬜⬜⬜⬜⬜⬜🟥🟦<br>🟦🟦🟦🟦🟦🟦🟦🟦🟦🟦🟦🟦🟦🟦🟦🟦🟦🟦🟦🟦🟦`;\n",
              "    </script>\n",
              "    "
            ],
            "text/plain": [
              "<IPython.core.display.HTML object>"
            ]
          },
          "metadata": {},
          "output_type": "display_data"
        },
        {
          "data": {
            "text/html": [
              "\n",
              "    <script>\n",
              "    document.getElementById('maze').innerHTML = `🟦🟦🟦🟦🟦🟦🟦🟦🟦🟦🟦🟦🟦🟦🟦🟦🟦🟦🟦🟦🟦<br>🟦🟨🟦🟨🟨🟨🟨🟨🟨🟨🟨🟨🟦⬜⬜⬜⬜⬜⬜⬜🟦<br>🟦🟨🟦🟨🟦🟦🟦🟦🟦🟦🟦🟨🟦⬜🟦🟦🟦🟦🟦⬜🟦<br>🟦🟨🟨🟨🟦⬜⬜⬜⬜⬜🟦🟨🟨😼🟦⬜🟦⬜⬜⬜🟦<br>🟦🟦🟦🟦🟦🟦🟦🟦🟦⬜🟦🟦🟦🟦🟦⬜🟦⬜🟦🟦🟦<br>🟦⬜⬜⬜⬜⬜⬜⬜⬜⬜🟦⬜⬜⬜⬜⬜🟦⬜🟦⬜🟦<br>🟦⬜🟦🟦🟦🟦🟦🟦🟦🟦🟦⬜🟦⬜🟦🟦🟦⬜🟦⬜🟦<br>🟦⬜🟦⬜⬜⬜⬜⬜🟦⬜⬜⬜🟦⬜⬜⬜⬜⬜🟦⬜🟦<br>🟦⬜🟦⬜🟦🟦🟦⬜🟦⬜🟦🟦🟦🟦🟦🟦🟦🟦🟦⬜🟦<br>🟦⬜⬜⬜⬜⬜🟦⬜⬜⬜⬜⬜⬜⬜⬜⬜⬜⬜⬜🟥🟦<br>🟦🟦🟦🟦🟦🟦🟦🟦🟦🟦🟦🟦🟦🟦🟦🟦🟦🟦🟦🟦🟦`;\n",
              "    </script>\n",
              "    "
            ],
            "text/plain": [
              "<IPython.core.display.HTML object>"
            ]
          },
          "metadata": {},
          "output_type": "display_data"
        },
        {
          "data": {
            "text/html": [
              "\n",
              "    <script>\n",
              "    document.getElementById('maze').innerHTML = `🟦🟦🟦🟦🟦🟦🟦🟦🟦🟦🟦🟦🟦🟦🟦🟦🟦🟦🟦🟦🟦<br>🟦🟨🟦🟨🟨🟨🟨🟨🟨🟨🟨🟨🟦⬜⬜⬜⬜⬜⬜⬜🟦<br>🟦🟨🟦🟨🟦🟦🟦🟦🟦🟦🟦🟨🟦😼🟦🟦🟦🟦🟦⬜🟦<br>🟦🟨🟨🟨🟦⬜⬜⬜⬜⬜🟦🟨🟨🟨🟦⬜🟦⬜⬜⬜🟦<br>🟦🟦🟦🟦🟦🟦🟦🟦🟦⬜🟦🟦🟦🟦🟦⬜🟦⬜🟦🟦🟦<br>🟦⬜⬜⬜⬜⬜⬜⬜⬜⬜🟦⬜⬜⬜⬜⬜🟦⬜🟦⬜🟦<br>🟦⬜🟦🟦🟦🟦🟦🟦🟦🟦🟦⬜🟦⬜🟦🟦🟦⬜🟦⬜🟦<br>🟦⬜🟦⬜⬜⬜⬜⬜🟦⬜⬜⬜🟦⬜⬜⬜⬜⬜🟦⬜🟦<br>🟦⬜🟦⬜🟦🟦🟦⬜🟦⬜🟦🟦🟦🟦🟦🟦🟦🟦🟦⬜🟦<br>🟦⬜⬜⬜⬜⬜🟦⬜⬜⬜⬜⬜⬜⬜⬜⬜⬜⬜⬜🟥🟦<br>🟦🟦🟦🟦🟦🟦🟦🟦🟦🟦🟦🟦🟦🟦🟦🟦🟦🟦🟦🟦🟦`;\n",
              "    </script>\n",
              "    "
            ],
            "text/plain": [
              "<IPython.core.display.HTML object>"
            ]
          },
          "metadata": {},
          "output_type": "display_data"
        },
        {
          "data": {
            "text/html": [
              "\n",
              "    <script>\n",
              "    document.getElementById('maze').innerHTML = `🟦🟦🟦🟦🟦🟦🟦🟦🟦🟦🟦🟦🟦🟦🟦🟦🟦🟦🟦🟦🟦<br>🟦🟨🟦🟨🟨🟨🟨🟨🟨🟨🟨🟨🟦😼⬜⬜⬜⬜⬜⬜🟦<br>🟦🟨🟦🟨🟦🟦🟦🟦🟦🟦🟦🟨🟦🟨🟦🟦🟦🟦🟦⬜🟦<br>🟦🟨🟨🟨🟦⬜⬜⬜⬜⬜🟦🟨🟨🟨🟦⬜🟦⬜⬜⬜🟦<br>🟦🟦🟦🟦🟦🟦🟦🟦🟦⬜🟦🟦🟦🟦🟦⬜🟦⬜🟦🟦🟦<br>🟦⬜⬜⬜⬜⬜⬜⬜⬜⬜🟦⬜⬜⬜⬜⬜🟦⬜🟦⬜🟦<br>🟦⬜🟦🟦🟦🟦🟦🟦🟦🟦🟦⬜🟦⬜🟦🟦🟦⬜🟦⬜🟦<br>🟦⬜🟦⬜⬜⬜⬜⬜🟦⬜⬜⬜🟦⬜⬜⬜⬜⬜🟦⬜🟦<br>🟦⬜🟦⬜🟦🟦🟦⬜🟦⬜🟦🟦🟦🟦🟦🟦🟦🟦🟦⬜🟦<br>🟦⬜⬜⬜⬜⬜🟦⬜⬜⬜⬜⬜⬜⬜⬜⬜⬜⬜⬜🟥🟦<br>🟦🟦🟦🟦🟦🟦🟦🟦🟦🟦🟦🟦🟦🟦🟦🟦🟦🟦🟦🟦🟦`;\n",
              "    </script>\n",
              "    "
            ],
            "text/plain": [
              "<IPython.core.display.HTML object>"
            ]
          },
          "metadata": {},
          "output_type": "display_data"
        },
        {
          "data": {
            "text/html": [
              "\n",
              "    <script>\n",
              "    document.getElementById('maze').innerHTML = `🟦🟦🟦🟦🟦🟦🟦🟦🟦🟦🟦🟦🟦🟦🟦🟦🟦🟦🟦🟦🟦<br>🟦🟨🟦🟨🟨🟨🟨🟨🟨🟨🟨🟨🟦🟨😼⬜⬜⬜⬜⬜🟦<br>🟦🟨🟦🟨🟦🟦🟦🟦🟦🟦🟦🟨🟦🟨🟦🟦🟦🟦🟦⬜🟦<br>🟦🟨🟨🟨🟦⬜⬜⬜⬜⬜🟦🟨🟨🟨🟦⬜🟦⬜⬜⬜🟦<br>🟦🟦🟦🟦🟦🟦🟦🟦🟦⬜🟦🟦🟦🟦🟦⬜🟦⬜🟦🟦🟦<br>🟦⬜⬜⬜⬜⬜⬜⬜⬜⬜🟦⬜⬜⬜⬜⬜🟦⬜🟦⬜🟦<br>🟦⬜🟦🟦🟦🟦🟦🟦🟦🟦🟦⬜🟦⬜🟦🟦🟦⬜🟦⬜🟦<br>🟦⬜🟦⬜⬜⬜⬜⬜🟦⬜⬜⬜🟦⬜⬜⬜⬜⬜🟦⬜🟦<br>🟦⬜🟦⬜🟦🟦🟦⬜🟦⬜🟦🟦🟦🟦🟦🟦🟦🟦🟦⬜🟦<br>🟦⬜⬜⬜⬜⬜🟦⬜⬜⬜⬜⬜⬜⬜⬜⬜⬜⬜⬜🟥🟦<br>🟦🟦🟦🟦🟦🟦🟦🟦🟦🟦🟦🟦🟦🟦🟦🟦🟦🟦🟦🟦🟦`;\n",
              "    </script>\n",
              "    "
            ],
            "text/plain": [
              "<IPython.core.display.HTML object>"
            ]
          },
          "metadata": {},
          "output_type": "display_data"
        },
        {
          "data": {
            "text/html": [
              "\n",
              "    <script>\n",
              "    document.getElementById('maze').innerHTML = `🟦🟦🟦🟦🟦🟦🟦🟦🟦🟦🟦🟦🟦🟦🟦🟦🟦🟦🟦🟦🟦<br>🟦🟨🟦🟨🟨🟨🟨🟨🟨🟨🟨🟨🟦🟨🟨😼⬜⬜⬜⬜🟦<br>🟦🟨🟦🟨🟦🟦🟦🟦🟦🟦🟦🟨🟦🟨🟦🟦🟦🟦🟦⬜🟦<br>🟦🟨🟨🟨🟦⬜⬜⬜⬜⬜🟦🟨🟨🟨🟦⬜🟦⬜⬜⬜🟦<br>🟦🟦🟦🟦🟦🟦🟦🟦🟦⬜🟦🟦🟦🟦🟦⬜🟦⬜🟦🟦🟦<br>🟦⬜⬜⬜⬜⬜⬜⬜⬜⬜🟦⬜⬜⬜⬜⬜🟦⬜🟦⬜🟦<br>🟦⬜🟦🟦🟦🟦🟦🟦🟦🟦🟦⬜🟦⬜🟦🟦🟦⬜🟦⬜🟦<br>🟦⬜🟦⬜⬜⬜⬜⬜🟦⬜⬜⬜🟦⬜⬜⬜⬜⬜🟦⬜🟦<br>🟦⬜🟦⬜🟦🟦🟦⬜🟦⬜🟦🟦🟦🟦🟦🟦🟦🟦🟦⬜🟦<br>🟦⬜⬜⬜⬜⬜🟦⬜⬜⬜⬜⬜⬜⬜⬜⬜⬜⬜⬜🟥🟦<br>🟦🟦🟦🟦🟦🟦🟦🟦🟦🟦🟦🟦🟦🟦🟦🟦🟦🟦🟦🟦🟦`;\n",
              "    </script>\n",
              "    "
            ],
            "text/plain": [
              "<IPython.core.display.HTML object>"
            ]
          },
          "metadata": {},
          "output_type": "display_data"
        },
        {
          "data": {
            "text/html": [
              "\n",
              "    <script>\n",
              "    document.getElementById('maze').innerHTML = `🟦🟦🟦🟦🟦🟦🟦🟦🟦🟦🟦🟦🟦🟦🟦🟦🟦🟦🟦🟦🟦<br>🟦🟨🟦🟨🟨🟨🟨🟨🟨🟨🟨🟨🟦🟨🟨🟨😼⬜⬜⬜🟦<br>🟦🟨🟦🟨🟦🟦🟦🟦🟦🟦🟦🟨🟦🟨🟦🟦🟦🟦🟦⬜🟦<br>🟦🟨🟨🟨🟦⬜⬜⬜⬜⬜🟦🟨🟨🟨🟦⬜🟦⬜⬜⬜🟦<br>🟦🟦🟦🟦🟦🟦🟦🟦🟦⬜🟦🟦🟦🟦🟦⬜🟦⬜🟦🟦🟦<br>🟦⬜⬜⬜⬜⬜⬜⬜⬜⬜🟦⬜⬜⬜⬜⬜🟦⬜🟦⬜🟦<br>🟦⬜🟦🟦🟦🟦🟦🟦🟦🟦🟦⬜🟦⬜🟦🟦🟦⬜🟦⬜🟦<br>🟦⬜🟦⬜⬜⬜⬜⬜🟦⬜⬜⬜🟦⬜⬜⬜⬜⬜🟦⬜🟦<br>🟦⬜🟦⬜🟦🟦🟦⬜🟦⬜🟦🟦🟦🟦🟦🟦🟦🟦🟦⬜🟦<br>🟦⬜⬜⬜⬜⬜🟦⬜⬜⬜⬜⬜⬜⬜⬜⬜⬜⬜⬜🟥🟦<br>🟦🟦🟦🟦🟦🟦🟦🟦🟦🟦🟦🟦🟦🟦🟦🟦🟦🟦🟦🟦🟦`;\n",
              "    </script>\n",
              "    "
            ],
            "text/plain": [
              "<IPython.core.display.HTML object>"
            ]
          },
          "metadata": {},
          "output_type": "display_data"
        },
        {
          "data": {
            "text/html": [
              "\n",
              "    <script>\n",
              "    document.getElementById('maze').innerHTML = `🟦🟦🟦🟦🟦🟦🟦🟦🟦🟦🟦🟦🟦🟦🟦🟦🟦🟦🟦🟦🟦<br>🟦🟨🟦🟨🟨🟨🟨🟨🟨🟨🟨🟨🟦🟨🟨🟨🟨😼⬜⬜🟦<br>🟦🟨🟦🟨🟦🟦🟦🟦🟦🟦🟦🟨🟦🟨🟦🟦🟦🟦🟦⬜🟦<br>🟦🟨🟨🟨🟦⬜⬜⬜⬜⬜🟦🟨🟨🟨🟦⬜🟦⬜⬜⬜🟦<br>🟦🟦🟦🟦🟦🟦🟦🟦🟦⬜🟦🟦🟦🟦🟦⬜🟦⬜🟦🟦🟦<br>🟦⬜⬜⬜⬜⬜⬜⬜⬜⬜🟦⬜⬜⬜⬜⬜🟦⬜🟦⬜🟦<br>🟦⬜🟦🟦🟦🟦🟦🟦🟦🟦🟦⬜🟦⬜🟦🟦🟦⬜🟦⬜🟦<br>🟦⬜🟦⬜⬜⬜⬜⬜🟦⬜⬜⬜🟦⬜⬜⬜⬜⬜🟦⬜🟦<br>🟦⬜🟦⬜🟦🟦🟦⬜🟦⬜🟦🟦🟦🟦🟦🟦🟦🟦🟦⬜🟦<br>🟦⬜⬜⬜⬜⬜🟦⬜⬜⬜⬜⬜⬜⬜⬜⬜⬜⬜⬜🟥🟦<br>🟦🟦🟦🟦🟦🟦🟦🟦🟦🟦🟦🟦🟦🟦🟦🟦🟦🟦🟦🟦🟦`;\n",
              "    </script>\n",
              "    "
            ],
            "text/plain": [
              "<IPython.core.display.HTML object>"
            ]
          },
          "metadata": {},
          "output_type": "display_data"
        },
        {
          "data": {
            "text/html": [
              "\n",
              "    <script>\n",
              "    document.getElementById('maze').innerHTML = `🟦🟦🟦🟦🟦🟦🟦🟦🟦🟦🟦🟦🟦🟦🟦🟦🟦🟦🟦🟦🟦<br>🟦🟨🟦🟨🟨🟨🟨🟨🟨🟨🟨🟨🟦🟨🟨🟨🟨🟨😼⬜🟦<br>🟦🟨🟦🟨🟦🟦🟦🟦🟦🟦🟦🟨🟦🟨🟦🟦🟦🟦🟦⬜🟦<br>🟦🟨🟨🟨🟦⬜⬜⬜⬜⬜🟦🟨🟨🟨🟦⬜🟦⬜⬜⬜🟦<br>🟦🟦🟦🟦🟦🟦🟦🟦🟦⬜🟦🟦🟦🟦🟦⬜🟦⬜🟦🟦🟦<br>🟦⬜⬜⬜⬜⬜⬜⬜⬜⬜🟦⬜⬜⬜⬜⬜🟦⬜🟦⬜🟦<br>🟦⬜🟦🟦🟦🟦🟦🟦🟦🟦🟦⬜🟦⬜🟦🟦🟦⬜🟦⬜🟦<br>🟦⬜🟦⬜⬜⬜⬜⬜🟦⬜⬜⬜🟦⬜⬜⬜⬜⬜🟦⬜🟦<br>🟦⬜🟦⬜🟦🟦🟦⬜🟦⬜🟦🟦🟦🟦🟦🟦🟦🟦🟦⬜🟦<br>🟦⬜⬜⬜⬜⬜🟦⬜⬜⬜⬜⬜⬜⬜⬜⬜⬜⬜⬜🟥🟦<br>🟦🟦🟦🟦🟦🟦🟦🟦🟦🟦🟦🟦🟦🟦🟦🟦🟦🟦🟦🟦🟦`;\n",
              "    </script>\n",
              "    "
            ],
            "text/plain": [
              "<IPython.core.display.HTML object>"
            ]
          },
          "metadata": {},
          "output_type": "display_data"
        },
        {
          "data": {
            "text/html": [
              "\n",
              "    <script>\n",
              "    document.getElementById('maze').innerHTML = `🟦🟦🟦🟦🟦🟦🟦🟦🟦🟦🟦🟦🟦🟦🟦🟦🟦🟦🟦🟦🟦<br>🟦🟨🟦🟨🟨🟨🟨🟨🟨🟨🟨🟨🟦🟨🟨🟨🟨🟨🟨😼🟦<br>🟦🟨🟦🟨🟦🟦🟦🟦🟦🟦🟦🟨🟦🟨🟦🟦🟦🟦🟦⬜🟦<br>🟦🟨🟨🟨🟦⬜⬜⬜⬜⬜🟦🟨🟨🟨🟦⬜🟦⬜⬜⬜🟦<br>🟦🟦🟦🟦🟦🟦🟦🟦🟦⬜🟦🟦🟦🟦🟦⬜🟦⬜🟦🟦🟦<br>🟦⬜⬜⬜⬜⬜⬜⬜⬜⬜🟦⬜⬜⬜⬜⬜🟦⬜🟦⬜🟦<br>🟦⬜🟦🟦🟦🟦🟦🟦🟦🟦🟦⬜🟦⬜🟦🟦🟦⬜🟦⬜🟦<br>🟦⬜🟦⬜⬜⬜⬜⬜🟦⬜⬜⬜🟦⬜⬜⬜⬜⬜🟦⬜🟦<br>🟦⬜🟦⬜🟦🟦🟦⬜🟦⬜🟦🟦🟦🟦🟦🟦🟦🟦🟦⬜🟦<br>🟦⬜⬜⬜⬜⬜🟦⬜⬜⬜⬜⬜⬜⬜⬜⬜⬜⬜⬜🟥🟦<br>🟦🟦🟦🟦🟦🟦🟦🟦🟦🟦🟦🟦🟦🟦🟦🟦🟦🟦🟦🟦🟦`;\n",
              "    </script>\n",
              "    "
            ],
            "text/plain": [
              "<IPython.core.display.HTML object>"
            ]
          },
          "metadata": {},
          "output_type": "display_data"
        },
        {
          "data": {
            "text/html": [
              "\n",
              "    <script>\n",
              "    document.getElementById('maze').innerHTML = `🟦🟦🟦🟦🟦🟦🟦🟦🟦🟦🟦🟦🟦🟦🟦🟦🟦🟦🟦🟦🟦<br>🟦🟨🟦🟨🟨🟨🟨🟨🟨🟨🟨🟨🟦🟨🟨🟨🟨🟨🟨🟨🟦<br>🟦🟨🟦🟨🟦🟦🟦🟦🟦🟦🟦🟨🟦🟨🟦🟦🟦🟦🟦😼🟦<br>🟦🟨🟨🟨🟦⬜⬜⬜⬜⬜🟦🟨🟨🟨🟦⬜🟦⬜⬜⬜🟦<br>🟦🟦🟦🟦🟦🟦🟦🟦🟦⬜🟦🟦🟦🟦🟦⬜🟦⬜🟦🟦🟦<br>🟦⬜⬜⬜⬜⬜⬜⬜⬜⬜🟦⬜⬜⬜⬜⬜🟦⬜🟦⬜🟦<br>🟦⬜🟦🟦🟦🟦🟦🟦🟦🟦🟦⬜🟦⬜🟦🟦🟦⬜🟦⬜🟦<br>🟦⬜🟦⬜⬜⬜⬜⬜🟦⬜⬜⬜🟦⬜⬜⬜⬜⬜🟦⬜🟦<br>🟦⬜🟦⬜🟦🟦🟦⬜🟦⬜🟦🟦🟦🟦🟦🟦🟦🟦🟦⬜🟦<br>🟦⬜⬜⬜⬜⬜🟦⬜⬜⬜⬜⬜⬜⬜⬜⬜⬜⬜⬜🟥🟦<br>🟦🟦🟦🟦🟦🟦🟦🟦🟦🟦🟦🟦🟦🟦🟦🟦🟦🟦🟦🟦🟦`;\n",
              "    </script>\n",
              "    "
            ],
            "text/plain": [
              "<IPython.core.display.HTML object>"
            ]
          },
          "metadata": {},
          "output_type": "display_data"
        },
        {
          "data": {
            "text/html": [
              "\n",
              "    <script>\n",
              "    document.getElementById('maze').innerHTML = `🟦🟦🟦🟦🟦🟦🟦🟦🟦🟦🟦🟦🟦🟦🟦🟦🟦🟦🟦🟦🟦<br>🟦🟨🟦🟨🟨🟨🟨🟨🟨🟨🟨🟨🟦🟨🟨🟨🟨🟨🟨🟨🟦<br>🟦🟨🟦🟨🟦🟦🟦🟦🟦🟦🟦🟨🟦🟨🟦🟦🟦🟦🟦🟨🟦<br>🟦🟨🟨🟨🟦⬜⬜⬜⬜⬜🟦🟨🟨🟨🟦⬜🟦⬜⬜😼🟦<br>🟦🟦🟦🟦🟦🟦🟦🟦🟦⬜🟦🟦🟦🟦🟦⬜🟦⬜🟦🟦🟦<br>🟦⬜⬜⬜⬜⬜⬜⬜⬜⬜🟦⬜⬜⬜⬜⬜🟦⬜🟦⬜🟦<br>🟦⬜🟦🟦🟦🟦🟦🟦🟦🟦🟦⬜🟦⬜🟦🟦🟦⬜🟦⬜🟦<br>🟦⬜🟦⬜⬜⬜⬜⬜🟦⬜⬜⬜🟦⬜⬜⬜⬜⬜🟦⬜🟦<br>🟦⬜🟦⬜🟦🟦🟦⬜🟦⬜🟦🟦🟦🟦🟦🟦🟦🟦🟦⬜🟦<br>🟦⬜⬜⬜⬜⬜🟦⬜⬜⬜⬜⬜⬜⬜⬜⬜⬜⬜⬜🟥🟦<br>🟦🟦🟦🟦🟦🟦🟦🟦🟦🟦🟦🟦🟦🟦🟦🟦🟦🟦🟦🟦🟦`;\n",
              "    </script>\n",
              "    "
            ],
            "text/plain": [
              "<IPython.core.display.HTML object>"
            ]
          },
          "metadata": {},
          "output_type": "display_data"
        },
        {
          "data": {
            "text/html": [
              "\n",
              "    <script>\n",
              "    document.getElementById('maze').innerHTML = `🟦🟦🟦🟦🟦🟦🟦🟦🟦🟦🟦🟦🟦🟦🟦🟦🟦🟦🟦🟦🟦<br>🟦🟨🟦🟨🟨🟨🟨🟨🟨🟨🟨🟨🟦🟨🟨🟨🟨🟨🟨🟨🟦<br>🟦🟨🟦🟨🟦🟦🟦🟦🟦🟦🟦🟨🟦🟨🟦🟦🟦🟦🟦🟨🟦<br>🟦🟨🟨🟨🟦⬜⬜⬜⬜⬜🟦🟨🟨🟨🟦⬜🟦⬜😼🟨🟦<br>🟦🟦🟦🟦🟦🟦🟦🟦🟦⬜🟦🟦🟦🟦🟦⬜🟦⬜🟦🟦🟦<br>🟦⬜⬜⬜⬜⬜⬜⬜⬜⬜🟦⬜⬜⬜⬜⬜🟦⬜🟦⬜🟦<br>🟦⬜🟦🟦🟦🟦🟦🟦🟦🟦🟦⬜🟦⬜🟦🟦🟦⬜🟦⬜🟦<br>🟦⬜🟦⬜⬜⬜⬜⬜🟦⬜⬜⬜🟦⬜⬜⬜⬜⬜🟦⬜🟦<br>🟦⬜🟦⬜🟦🟦🟦⬜🟦⬜🟦🟦🟦🟦🟦🟦🟦🟦🟦⬜🟦<br>🟦⬜⬜⬜⬜⬜🟦⬜⬜⬜⬜⬜⬜⬜⬜⬜⬜⬜⬜🟥🟦<br>🟦🟦🟦🟦🟦🟦🟦🟦🟦🟦🟦🟦🟦🟦🟦🟦🟦🟦🟦🟦🟦`;\n",
              "    </script>\n",
              "    "
            ],
            "text/plain": [
              "<IPython.core.display.HTML object>"
            ]
          },
          "metadata": {},
          "output_type": "display_data"
        },
        {
          "data": {
            "text/html": [
              "\n",
              "    <script>\n",
              "    document.getElementById('maze').innerHTML = `🟦🟦🟦🟦🟦🟦🟦🟦🟦🟦🟦🟦🟦🟦🟦🟦🟦🟦🟦🟦🟦<br>🟦🟨🟦🟨🟨🟨🟨🟨🟨🟨🟨🟨🟦🟨🟨🟨🟨🟨🟨🟨🟦<br>🟦🟨🟦🟨🟦🟦🟦🟦🟦🟦🟦🟨🟦🟨🟦🟦🟦🟦🟦🟨🟦<br>🟦🟨🟨🟨🟦⬜⬜⬜⬜⬜🟦🟨🟨🟨🟦⬜🟦😼🟨🟨🟦<br>🟦🟦🟦🟦🟦🟦🟦🟦🟦⬜🟦🟦🟦🟦🟦⬜🟦⬜🟦🟦🟦<br>🟦⬜⬜⬜⬜⬜⬜⬜⬜⬜🟦⬜⬜⬜⬜⬜🟦⬜🟦⬜🟦<br>🟦⬜🟦🟦🟦🟦🟦🟦🟦🟦🟦⬜🟦⬜🟦🟦🟦⬜🟦⬜🟦<br>🟦⬜🟦⬜⬜⬜⬜⬜🟦⬜⬜⬜🟦⬜⬜⬜⬜⬜🟦⬜🟦<br>🟦⬜🟦⬜🟦🟦🟦⬜🟦⬜🟦🟦🟦🟦🟦🟦🟦🟦🟦⬜🟦<br>🟦⬜⬜⬜⬜⬜🟦⬜⬜⬜⬜⬜⬜⬜⬜⬜⬜⬜⬜🟥🟦<br>🟦🟦🟦🟦🟦🟦🟦🟦🟦🟦🟦🟦🟦🟦🟦🟦🟦🟦🟦🟦🟦`;\n",
              "    </script>\n",
              "    "
            ],
            "text/plain": [
              "<IPython.core.display.HTML object>"
            ]
          },
          "metadata": {},
          "output_type": "display_data"
        },
        {
          "data": {
            "text/html": [
              "\n",
              "    <script>\n",
              "    document.getElementById('maze').innerHTML = `🟦🟦🟦🟦🟦🟦🟦🟦🟦🟦🟦🟦🟦🟦🟦🟦🟦🟦🟦🟦🟦<br>🟦🟨🟦🟨🟨🟨🟨🟨🟨🟨🟨🟨🟦🟨🟨🟨🟨🟨🟨🟨🟦<br>🟦🟨🟦🟨🟦🟦🟦🟦🟦🟦🟦🟨🟦🟨🟦🟦🟦🟦🟦🟨🟦<br>🟦🟨🟨🟨🟦⬜⬜⬜⬜⬜🟦🟨🟨🟨🟦⬜🟦🟨🟨🟨🟦<br>🟦🟦🟦🟦🟦🟦🟦🟦🟦⬜🟦🟦🟦🟦🟦⬜🟦😼🟦🟦🟦<br>🟦⬜⬜⬜⬜⬜⬜⬜⬜⬜🟦⬜⬜⬜⬜⬜🟦⬜🟦⬜🟦<br>🟦⬜🟦🟦🟦🟦🟦🟦🟦🟦🟦⬜🟦⬜🟦🟦🟦⬜🟦⬜🟦<br>🟦⬜🟦⬜⬜⬜⬜⬜🟦⬜⬜⬜🟦⬜⬜⬜⬜⬜🟦⬜🟦<br>🟦⬜🟦⬜🟦🟦🟦⬜🟦⬜🟦🟦🟦🟦🟦🟦🟦🟦🟦⬜🟦<br>🟦⬜⬜⬜⬜⬜🟦⬜⬜⬜⬜⬜⬜⬜⬜⬜⬜⬜⬜🟥🟦<br>🟦🟦🟦🟦🟦🟦🟦🟦🟦🟦🟦🟦🟦🟦🟦🟦🟦🟦🟦🟦🟦`;\n",
              "    </script>\n",
              "    "
            ],
            "text/plain": [
              "<IPython.core.display.HTML object>"
            ]
          },
          "metadata": {},
          "output_type": "display_data"
        },
        {
          "data": {
            "text/html": [
              "\n",
              "    <script>\n",
              "    document.getElementById('maze').innerHTML = `🟦🟦🟦🟦🟦🟦🟦🟦🟦🟦🟦🟦🟦🟦🟦🟦🟦🟦🟦🟦🟦<br>🟦🟨🟦🟨🟨🟨🟨🟨🟨🟨🟨🟨🟦🟨🟨🟨🟨🟨🟨🟨🟦<br>🟦🟨🟦🟨🟦🟦🟦🟦🟦🟦🟦🟨🟦🟨🟦🟦🟦🟦🟦🟨🟦<br>🟦🟨🟨🟨🟦⬜⬜⬜⬜⬜🟦🟨🟨🟨🟦⬜🟦🟨🟨🟨🟦<br>🟦🟦🟦🟦🟦🟦🟦🟦🟦⬜🟦🟦🟦🟦🟦⬜🟦🟨🟦🟦🟦<br>🟦⬜⬜⬜⬜⬜⬜⬜⬜⬜🟦⬜⬜⬜⬜⬜🟦😼🟦⬜🟦<br>🟦⬜🟦🟦🟦🟦🟦🟦🟦🟦🟦⬜🟦⬜🟦🟦🟦⬜🟦⬜🟦<br>🟦⬜🟦⬜⬜⬜⬜⬜🟦⬜⬜⬜🟦⬜⬜⬜⬜⬜🟦⬜🟦<br>🟦⬜🟦⬜🟦🟦🟦⬜🟦⬜🟦🟦🟦🟦🟦🟦🟦🟦🟦⬜🟦<br>🟦⬜⬜⬜⬜⬜🟦⬜⬜⬜⬜⬜⬜⬜⬜⬜⬜⬜⬜🟥🟦<br>🟦🟦🟦🟦🟦🟦🟦🟦🟦🟦🟦🟦🟦🟦🟦🟦🟦🟦🟦🟦🟦`;\n",
              "    </script>\n",
              "    "
            ],
            "text/plain": [
              "<IPython.core.display.HTML object>"
            ]
          },
          "metadata": {},
          "output_type": "display_data"
        },
        {
          "data": {
            "text/html": [
              "\n",
              "    <script>\n",
              "    document.getElementById('maze').innerHTML = `🟦🟦🟦🟦🟦🟦🟦🟦🟦🟦🟦🟦🟦🟦🟦🟦🟦🟦🟦🟦🟦<br>🟦🟨🟦🟨🟨🟨🟨🟨🟨🟨🟨🟨🟦🟨🟨🟨🟨🟨🟨🟨🟦<br>🟦🟨🟦🟨🟦🟦🟦🟦🟦🟦🟦🟨🟦🟨🟦🟦🟦🟦🟦🟨🟦<br>🟦🟨🟨🟨🟦⬜⬜⬜⬜⬜🟦🟨🟨🟨🟦⬜🟦🟨🟨🟨🟦<br>🟦🟦🟦🟦🟦🟦🟦🟦🟦⬜🟦🟦🟦🟦🟦⬜🟦🟨🟦🟦🟦<br>🟦⬜⬜⬜⬜⬜⬜⬜⬜⬜🟦⬜⬜⬜⬜⬜🟦🟨🟦⬜🟦<br>🟦⬜🟦🟦🟦🟦🟦🟦🟦🟦🟦⬜🟦⬜🟦🟦🟦😼🟦⬜🟦<br>🟦⬜🟦⬜⬜⬜⬜⬜🟦⬜⬜⬜🟦⬜⬜⬜⬜⬜🟦⬜🟦<br>🟦⬜🟦⬜🟦🟦🟦⬜🟦⬜🟦🟦🟦🟦🟦🟦🟦🟦🟦⬜🟦<br>🟦⬜⬜⬜⬜⬜🟦⬜⬜⬜⬜⬜⬜⬜⬜⬜⬜⬜⬜🟥🟦<br>🟦🟦🟦🟦🟦🟦🟦🟦🟦🟦🟦🟦🟦🟦🟦🟦🟦🟦🟦🟦🟦`;\n",
              "    </script>\n",
              "    "
            ],
            "text/plain": [
              "<IPython.core.display.HTML object>"
            ]
          },
          "metadata": {},
          "output_type": "display_data"
        },
        {
          "data": {
            "text/html": [
              "\n",
              "    <script>\n",
              "    document.getElementById('maze').innerHTML = `🟦🟦🟦🟦🟦🟦🟦🟦🟦🟦🟦🟦🟦🟦🟦🟦🟦🟦🟦🟦🟦<br>🟦🟨🟦🟨🟨🟨🟨🟨🟨🟨🟨🟨🟦🟨🟨🟨🟨🟨🟨🟨🟦<br>🟦🟨🟦🟨🟦🟦🟦🟦🟦🟦🟦🟨🟦🟨🟦🟦🟦🟦🟦🟨🟦<br>🟦🟨🟨🟨🟦⬜⬜⬜⬜⬜🟦🟨🟨🟨🟦⬜🟦🟨🟨🟨🟦<br>🟦🟦🟦🟦🟦🟦🟦🟦🟦⬜🟦🟦🟦🟦🟦⬜🟦🟨🟦🟦🟦<br>🟦⬜⬜⬜⬜⬜⬜⬜⬜⬜🟦⬜⬜⬜⬜⬜🟦🟨🟦⬜🟦<br>🟦⬜🟦🟦🟦🟦🟦🟦🟦🟦🟦⬜🟦⬜🟦🟦🟦🟨🟦⬜🟦<br>🟦⬜🟦⬜⬜⬜⬜⬜🟦⬜⬜⬜🟦⬜⬜⬜⬜😼🟦⬜🟦<br>🟦⬜🟦⬜🟦🟦🟦⬜🟦⬜🟦🟦🟦🟦🟦🟦🟦🟦🟦⬜🟦<br>🟦⬜⬜⬜⬜⬜🟦⬜⬜⬜⬜⬜⬜⬜⬜⬜⬜⬜⬜🟥🟦<br>🟦🟦🟦🟦🟦🟦🟦🟦🟦🟦🟦🟦🟦🟦🟦🟦🟦🟦🟦🟦🟦`;\n",
              "    </script>\n",
              "    "
            ],
            "text/plain": [
              "<IPython.core.display.HTML object>"
            ]
          },
          "metadata": {},
          "output_type": "display_data"
        },
        {
          "data": {
            "text/html": [
              "\n",
              "    <script>\n",
              "    document.getElementById('maze').innerHTML = `🟦🟦🟦🟦🟦🟦🟦🟦🟦🟦🟦🟦🟦🟦🟦🟦🟦🟦🟦🟦🟦<br>🟦🟨🟦🟨🟨🟨🟨🟨🟨🟨🟨🟨🟦🟨🟨🟨🟨🟨🟨🟨🟦<br>🟦🟨🟦🟨🟦🟦🟦🟦🟦🟦🟦🟨🟦🟨🟦🟦🟦🟦🟦🟨🟦<br>🟦🟨🟨🟨🟦⬜⬜⬜⬜⬜🟦🟨🟨🟨🟦⬜🟦🟨🟨🟨🟦<br>🟦🟦🟦🟦🟦🟦🟦🟦🟦⬜🟦🟦🟦🟦🟦⬜🟦🟨🟦🟦🟦<br>🟦⬜⬜⬜⬜⬜⬜⬜⬜⬜🟦⬜⬜⬜⬜⬜🟦🟨🟦⬜🟦<br>🟦⬜🟦🟦🟦🟦🟦🟦🟦🟦🟦⬜🟦⬜🟦🟦🟦🟨🟦⬜🟦<br>🟦⬜🟦⬜⬜⬜⬜⬜🟦⬜⬜⬜🟦⬜⬜⬜😼🟨🟦⬜🟦<br>🟦⬜🟦⬜🟦🟦🟦⬜🟦⬜🟦🟦🟦🟦🟦🟦🟦🟦🟦⬜🟦<br>🟦⬜⬜⬜⬜⬜🟦⬜⬜⬜⬜⬜⬜⬜⬜⬜⬜⬜⬜🟥🟦<br>🟦🟦🟦🟦🟦🟦🟦🟦🟦🟦🟦🟦🟦🟦🟦🟦🟦🟦🟦🟦🟦`;\n",
              "    </script>\n",
              "    "
            ],
            "text/plain": [
              "<IPython.core.display.HTML object>"
            ]
          },
          "metadata": {},
          "output_type": "display_data"
        },
        {
          "data": {
            "text/html": [
              "\n",
              "    <script>\n",
              "    document.getElementById('maze').innerHTML = `🟦🟦🟦🟦🟦🟦🟦🟦🟦🟦🟦🟦🟦🟦🟦🟦🟦🟦🟦🟦🟦<br>🟦🟨🟦🟨🟨🟨🟨🟨🟨🟨🟨🟨🟦🟨🟨🟨🟨🟨🟨🟨🟦<br>🟦🟨🟦🟨🟦🟦🟦🟦🟦🟦🟦🟨🟦🟨🟦🟦🟦🟦🟦🟨🟦<br>🟦🟨🟨🟨🟦⬜⬜⬜⬜⬜🟦🟨🟨🟨🟦⬜🟦🟨🟨🟨🟦<br>🟦🟦🟦🟦🟦🟦🟦🟦🟦⬜🟦🟦🟦🟦🟦⬜🟦🟨🟦🟦🟦<br>🟦⬜⬜⬜⬜⬜⬜⬜⬜⬜🟦⬜⬜⬜⬜⬜🟦🟨🟦⬜🟦<br>🟦⬜🟦🟦🟦🟦🟦🟦🟦🟦🟦⬜🟦⬜🟦🟦🟦🟨🟦⬜🟦<br>🟦⬜🟦⬜⬜⬜⬜⬜🟦⬜⬜⬜🟦⬜⬜😼🟨🟨🟦⬜🟦<br>🟦⬜🟦⬜🟦🟦🟦⬜🟦⬜🟦🟦🟦🟦🟦🟦🟦🟦🟦⬜🟦<br>🟦⬜⬜⬜⬜⬜🟦⬜⬜⬜⬜⬜⬜⬜⬜⬜⬜⬜⬜🟥🟦<br>🟦🟦🟦🟦🟦🟦🟦🟦🟦🟦🟦🟦🟦🟦🟦🟦🟦🟦🟦🟦🟦`;\n",
              "    </script>\n",
              "    "
            ],
            "text/plain": [
              "<IPython.core.display.HTML object>"
            ]
          },
          "metadata": {},
          "output_type": "display_data"
        },
        {
          "data": {
            "text/html": [
              "\n",
              "    <script>\n",
              "    document.getElementById('maze').innerHTML = `🟦🟦🟦🟦🟦🟦🟦🟦🟦🟦🟦🟦🟦🟦🟦🟦🟦🟦🟦🟦🟦<br>🟦🟨🟦🟨🟨🟨🟨🟨🟨🟨🟨🟨🟦🟨🟨🟨🟨🟨🟨🟨🟦<br>🟦🟨🟦🟨🟦🟦🟦🟦🟦🟦🟦🟨🟦🟨🟦🟦🟦🟦🟦🟨🟦<br>🟦🟨🟨🟨🟦⬜⬜⬜⬜⬜🟦🟨🟨🟨🟦⬜🟦🟨🟨🟨🟦<br>🟦🟦🟦🟦🟦🟦🟦🟦🟦⬜🟦🟦🟦🟦🟦⬜🟦🟨🟦🟦🟦<br>🟦⬜⬜⬜⬜⬜⬜⬜⬜⬜🟦⬜⬜⬜⬜⬜🟦🟨🟦⬜🟦<br>🟦⬜🟦🟦🟦🟦🟦🟦🟦🟦🟦⬜🟦⬜🟦🟦🟦🟨🟦⬜🟦<br>🟦⬜🟦⬜⬜⬜⬜⬜🟦⬜⬜⬜🟦⬜😼🟨🟨🟨🟦⬜🟦<br>🟦⬜🟦⬜🟦🟦🟦⬜🟦⬜🟦🟦🟦🟦🟦🟦🟦🟦🟦⬜🟦<br>🟦⬜⬜⬜⬜⬜🟦⬜⬜⬜⬜⬜⬜⬜⬜⬜⬜⬜⬜🟥🟦<br>🟦🟦🟦🟦🟦🟦🟦🟦🟦🟦🟦🟦🟦🟦🟦🟦🟦🟦🟦🟦🟦`;\n",
              "    </script>\n",
              "    "
            ],
            "text/plain": [
              "<IPython.core.display.HTML object>"
            ]
          },
          "metadata": {},
          "output_type": "display_data"
        },
        {
          "data": {
            "text/html": [
              "\n",
              "    <script>\n",
              "    document.getElementById('maze').innerHTML = `🟦🟦🟦🟦🟦🟦🟦🟦🟦🟦🟦🟦🟦🟦🟦🟦🟦🟦🟦🟦🟦<br>🟦🟨🟦🟨🟨🟨🟨🟨🟨🟨🟨🟨🟦🟨🟨🟨🟨🟨🟨🟨🟦<br>🟦🟨🟦🟨🟦🟦🟦🟦🟦🟦🟦🟨🟦🟨🟦🟦🟦🟦🟦🟨🟦<br>🟦🟨🟨🟨🟦⬜⬜⬜⬜⬜🟦🟨🟨🟨🟦⬜🟦🟨🟨🟨🟦<br>🟦🟦🟦🟦🟦🟦🟦🟦🟦⬜🟦🟦🟦🟦🟦⬜🟦🟨🟦🟦🟦<br>🟦⬜⬜⬜⬜⬜⬜⬜⬜⬜🟦⬜⬜⬜⬜⬜🟦🟨🟦⬜🟦<br>🟦⬜🟦🟦🟦🟦🟦🟦🟦🟦🟦⬜🟦⬜🟦🟦🟦🟨🟦⬜🟦<br>🟦⬜🟦⬜⬜⬜⬜⬜🟦⬜⬜⬜🟦😼🟨🟨🟨🟨🟦⬜🟦<br>🟦⬜🟦⬜🟦🟦🟦⬜🟦⬜🟦🟦🟦🟦🟦🟦🟦🟦🟦⬜🟦<br>🟦⬜⬜⬜⬜⬜🟦⬜⬜⬜⬜⬜⬜⬜⬜⬜⬜⬜⬜🟥🟦<br>🟦🟦🟦🟦🟦🟦🟦🟦🟦🟦🟦🟦🟦🟦🟦🟦🟦🟦🟦🟦🟦`;\n",
              "    </script>\n",
              "    "
            ],
            "text/plain": [
              "<IPython.core.display.HTML object>"
            ]
          },
          "metadata": {},
          "output_type": "display_data"
        },
        {
          "data": {
            "text/html": [
              "\n",
              "    <script>\n",
              "    document.getElementById('maze').innerHTML = `🟦🟦🟦🟦🟦🟦🟦🟦🟦🟦🟦🟦🟦🟦🟦🟦🟦🟦🟦🟦🟦<br>🟦🟨🟦🟨🟨🟨🟨🟨🟨🟨🟨🟨🟦🟨🟨🟨🟨🟨🟨🟨🟦<br>🟦🟨🟦🟨🟦🟦🟦🟦🟦🟦🟦🟨🟦🟨🟦🟦🟦🟦🟦🟨🟦<br>🟦🟨🟨🟨🟦⬜⬜⬜⬜⬜🟦🟨🟨🟨🟦⬜🟦🟨🟨🟨🟦<br>🟦🟦🟦🟦🟦🟦🟦🟦🟦⬜🟦🟦🟦🟦🟦⬜🟦🟨🟦🟦🟦<br>🟦⬜⬜⬜⬜⬜⬜⬜⬜⬜🟦⬜⬜⬜⬜⬜🟦🟨🟦⬜🟦<br>🟦⬜🟦🟦🟦🟦🟦🟦🟦🟦🟦⬜🟦😼🟦🟦🟦🟨🟦⬜🟦<br>🟦⬜🟦⬜⬜⬜⬜⬜🟦⬜⬜⬜🟦🟨🟨🟨🟨🟨🟦⬜🟦<br>🟦⬜🟦⬜🟦🟦🟦⬜🟦⬜🟦🟦🟦🟦🟦🟦🟦🟦🟦⬜🟦<br>🟦⬜⬜⬜⬜⬜🟦⬜⬜⬜⬜⬜⬜⬜⬜⬜⬜⬜⬜🟥🟦<br>🟦🟦🟦🟦🟦🟦🟦🟦🟦🟦🟦🟦🟦🟦🟦🟦🟦🟦🟦🟦🟦`;\n",
              "    </script>\n",
              "    "
            ],
            "text/plain": [
              "<IPython.core.display.HTML object>"
            ]
          },
          "metadata": {},
          "output_type": "display_data"
        },
        {
          "data": {
            "text/html": [
              "\n",
              "    <script>\n",
              "    document.getElementById('maze').innerHTML = `🟦🟦🟦🟦🟦🟦🟦🟦🟦🟦🟦🟦🟦🟦🟦🟦🟦🟦🟦🟦🟦<br>🟦🟨🟦🟨🟨🟨🟨🟨🟨🟨🟨🟨🟦🟨🟨🟨🟨🟨🟨🟨🟦<br>🟦🟨🟦🟨🟦🟦🟦🟦🟦🟦🟦🟨🟦🟨🟦🟦🟦🟦🟦🟨🟦<br>🟦🟨🟨🟨🟦⬜⬜⬜⬜⬜🟦🟨🟨🟨🟦⬜🟦🟨🟨🟨🟦<br>🟦🟦🟦🟦🟦🟦🟦🟦🟦⬜🟦🟦🟦🟦🟦⬜🟦🟨🟦🟦🟦<br>🟦⬜⬜⬜⬜⬜⬜⬜⬜⬜🟦⬜⬜😼⬜⬜🟦🟨🟦⬜🟦<br>🟦⬜🟦🟦🟦🟦🟦🟦🟦🟦🟦⬜🟦🟨🟦🟦🟦🟨🟦⬜🟦<br>🟦⬜🟦⬜⬜⬜⬜⬜🟦⬜⬜⬜🟦🟨🟨🟨🟨🟨🟦⬜🟦<br>🟦⬜🟦⬜🟦🟦🟦⬜🟦⬜🟦🟦🟦🟦🟦🟦🟦🟦🟦⬜🟦<br>🟦⬜⬜⬜⬜⬜🟦⬜⬜⬜⬜⬜⬜⬜⬜⬜⬜⬜⬜🟥🟦<br>🟦🟦🟦🟦🟦🟦🟦🟦🟦🟦🟦🟦🟦🟦🟦🟦🟦🟦🟦🟦🟦`;\n",
              "    </script>\n",
              "    "
            ],
            "text/plain": [
              "<IPython.core.display.HTML object>"
            ]
          },
          "metadata": {},
          "output_type": "display_data"
        },
        {
          "data": {
            "text/html": [
              "\n",
              "    <script>\n",
              "    document.getElementById('maze').innerHTML = `🟦🟦🟦🟦🟦🟦🟦🟦🟦🟦🟦🟦🟦🟦🟦🟦🟦🟦🟦🟦🟦<br>🟦🟨🟦🟨🟨🟨🟨🟨🟨🟨🟨🟨🟦🟨🟨🟨🟨🟨🟨🟨🟦<br>🟦🟨🟦🟨🟦🟦🟦🟦🟦🟦🟦🟨🟦🟨🟦🟦🟦🟦🟦🟨🟦<br>🟦🟨🟨🟨🟦⬜⬜⬜⬜⬜🟦🟨🟨🟨🟦⬜🟦🟨🟨🟨🟦<br>🟦🟦🟦🟦🟦🟦🟦🟦🟦⬜🟦🟦🟦🟦🟦⬜🟦🟨🟦🟦🟦<br>🟦⬜⬜⬜⬜⬜⬜⬜⬜⬜🟦⬜⬜🟨😼⬜🟦🟨🟦⬜🟦<br>🟦⬜🟦🟦🟦🟦🟦🟦🟦🟦🟦⬜🟦🟨🟦🟦🟦🟨🟦⬜🟦<br>🟦⬜🟦⬜⬜⬜⬜⬜🟦⬜⬜⬜🟦🟨🟨🟨🟨🟨🟦⬜🟦<br>🟦⬜🟦⬜🟦🟦🟦⬜🟦⬜🟦🟦🟦🟦🟦🟦🟦🟦🟦⬜🟦<br>🟦⬜⬜⬜⬜⬜🟦⬜⬜⬜⬜⬜⬜⬜⬜⬜⬜⬜⬜🟥🟦<br>🟦🟦🟦🟦🟦🟦🟦🟦🟦🟦🟦🟦🟦🟦🟦🟦🟦🟦🟦🟦🟦`;\n",
              "    </script>\n",
              "    "
            ],
            "text/plain": [
              "<IPython.core.display.HTML object>"
            ]
          },
          "metadata": {},
          "output_type": "display_data"
        },
        {
          "data": {
            "text/html": [
              "\n",
              "    <script>\n",
              "    document.getElementById('maze').innerHTML = `🟦🟦🟦🟦🟦🟦🟦🟦🟦🟦🟦🟦🟦🟦🟦🟦🟦🟦🟦🟦🟦<br>🟦🟨🟦🟨🟨🟨🟨🟨🟨🟨🟨🟨🟦🟨🟨🟨🟨🟨🟨🟨🟦<br>🟦🟨🟦🟨🟦🟦🟦🟦🟦🟦🟦🟨🟦🟨🟦🟦🟦🟦🟦🟨🟦<br>🟦🟨🟨🟨🟦⬜⬜⬜⬜⬜🟦🟨🟨🟨🟦⬜🟦🟨🟨🟨🟦<br>🟦🟦🟦🟦🟦🟦🟦🟦🟦⬜🟦🟦🟦🟦🟦⬜🟦🟨🟦🟦🟦<br>🟦⬜⬜⬜⬜⬜⬜⬜⬜⬜🟦⬜😼🟨🟨⬜🟦🟨🟦⬜🟦<br>🟦⬜🟦🟦🟦🟦🟦🟦🟦🟦🟦⬜🟦🟨🟦🟦🟦🟨🟦⬜🟦<br>🟦⬜🟦⬜⬜⬜⬜⬜🟦⬜⬜⬜🟦🟨🟨🟨🟨🟨🟦⬜🟦<br>🟦⬜🟦⬜🟦🟦🟦⬜🟦⬜🟦🟦🟦🟦🟦🟦🟦🟦🟦⬜🟦<br>🟦⬜⬜⬜⬜⬜🟦⬜⬜⬜⬜⬜⬜⬜⬜⬜⬜⬜⬜🟥🟦<br>🟦🟦🟦🟦🟦🟦🟦🟦🟦🟦🟦🟦🟦🟦🟦🟦🟦🟦🟦🟦🟦`;\n",
              "    </script>\n",
              "    "
            ],
            "text/plain": [
              "<IPython.core.display.HTML object>"
            ]
          },
          "metadata": {},
          "output_type": "display_data"
        },
        {
          "data": {
            "text/html": [
              "\n",
              "    <script>\n",
              "    document.getElementById('maze').innerHTML = `🟦🟦🟦🟦🟦🟦🟦🟦🟦🟦🟦🟦🟦🟦🟦🟦🟦🟦🟦🟦🟦<br>🟦🟨🟦🟨🟨🟨🟨🟨🟨🟨🟨🟨🟦🟨🟨🟨🟨🟨🟨🟨🟦<br>🟦🟨🟦🟨🟦🟦🟦🟦🟦🟦🟦🟨🟦🟨🟦🟦🟦🟦🟦🟨🟦<br>🟦🟨🟨🟨🟦⬜⬜⬜⬜⬜🟦🟨🟨🟨🟦⬜🟦🟨🟨🟨🟦<br>🟦🟦🟦🟦🟦🟦🟦🟦🟦⬜🟦🟦🟦🟦🟦⬜🟦🟨🟦🟦🟦<br>🟦⬜⬜⬜⬜⬜⬜⬜⬜⬜🟦⬜🟨🟨🟨😼🟦🟨🟦⬜🟦<br>🟦⬜🟦🟦🟦🟦🟦🟦🟦🟦🟦⬜🟦🟨🟦🟦🟦🟨🟦⬜🟦<br>🟦⬜🟦⬜⬜⬜⬜⬜🟦⬜⬜⬜🟦🟨🟨🟨🟨🟨🟦⬜🟦<br>🟦⬜🟦⬜🟦🟦🟦⬜🟦⬜🟦🟦🟦🟦🟦🟦🟦🟦🟦⬜🟦<br>🟦⬜⬜⬜⬜⬜🟦⬜⬜⬜⬜⬜⬜⬜⬜⬜⬜⬜⬜🟥🟦<br>🟦🟦🟦🟦🟦🟦🟦🟦🟦🟦🟦🟦🟦🟦🟦🟦🟦🟦🟦🟦🟦`;\n",
              "    </script>\n",
              "    "
            ],
            "text/plain": [
              "<IPython.core.display.HTML object>"
            ]
          },
          "metadata": {},
          "output_type": "display_data"
        },
        {
          "data": {
            "text/html": [
              "\n",
              "    <script>\n",
              "    document.getElementById('maze').innerHTML = `🟦🟦🟦🟦🟦🟦🟦🟦🟦🟦🟦🟦🟦🟦🟦🟦🟦🟦🟦🟦🟦<br>🟦🟨🟦🟨🟨🟨🟨🟨🟨🟨🟨🟨🟦🟨🟨🟨🟨🟨🟨🟨🟦<br>🟦🟨🟦🟨🟦🟦🟦🟦🟦🟦🟦🟨🟦🟨🟦🟦🟦🟦🟦🟨🟦<br>🟦🟨🟨🟨🟦⬜⬜⬜⬜⬜🟦🟨🟨🟨🟦⬜🟦🟨🟨🟨🟦<br>🟦🟦🟦🟦🟦🟦🟦🟦🟦⬜🟦🟦🟦🟦🟦⬜🟦🟨🟦🟦🟦<br>🟦⬜⬜⬜⬜⬜⬜⬜⬜⬜🟦😼🟨🟨🟨🟨🟦🟨🟦⬜🟦<br>🟦⬜🟦🟦🟦🟦🟦🟦🟦🟦🟦⬜🟦🟨🟦🟦🟦🟨🟦⬜🟦<br>🟦⬜🟦⬜⬜⬜⬜⬜🟦⬜⬜⬜🟦🟨🟨🟨🟨🟨🟦⬜🟦<br>🟦⬜🟦⬜🟦🟦🟦⬜🟦⬜🟦🟦🟦🟦🟦🟦🟦🟦🟦⬜🟦<br>🟦⬜⬜⬜⬜⬜🟦⬜⬜⬜⬜⬜⬜⬜⬜⬜⬜⬜⬜🟥🟦<br>🟦🟦🟦🟦🟦🟦🟦🟦🟦🟦🟦🟦🟦🟦🟦🟦🟦🟦🟦🟦🟦`;\n",
              "    </script>\n",
              "    "
            ],
            "text/plain": [
              "<IPython.core.display.HTML object>"
            ]
          },
          "metadata": {},
          "output_type": "display_data"
        },
        {
          "data": {
            "text/html": [
              "\n",
              "    <script>\n",
              "    document.getElementById('maze').innerHTML = `🟦🟦🟦🟦🟦🟦🟦🟦🟦🟦🟦🟦🟦🟦🟦🟦🟦🟦🟦🟦🟦<br>🟦🟨🟦🟨🟨🟨🟨🟨🟨🟨🟨🟨🟦🟨🟨🟨🟨🟨🟨🟨🟦<br>🟦🟨🟦🟨🟦🟦🟦🟦🟦🟦🟦🟨🟦🟨🟦🟦🟦🟦🟦🟨🟦<br>🟦🟨🟨🟨🟦⬜⬜⬜⬜⬜🟦🟨🟨🟨🟦⬜🟦🟨🟨🟨🟦<br>🟦🟦🟦🟦🟦🟦🟦🟦🟦⬜🟦🟦🟦🟦🟦😼🟦🟨🟦🟦🟦<br>🟦⬜⬜⬜⬜⬜⬜⬜⬜⬜🟦🟨🟨🟨🟨🟨🟦🟨🟦⬜🟦<br>🟦⬜🟦🟦🟦🟦🟦🟦🟦🟦🟦⬜🟦🟨🟦🟦🟦🟨🟦⬜🟦<br>🟦⬜🟦⬜⬜⬜⬜⬜🟦⬜⬜⬜🟦🟨🟨🟨🟨🟨🟦⬜🟦<br>🟦⬜🟦⬜🟦🟦🟦⬜🟦⬜🟦🟦🟦🟦🟦🟦🟦🟦🟦⬜🟦<br>🟦⬜⬜⬜⬜⬜🟦⬜⬜⬜⬜⬜⬜⬜⬜⬜⬜⬜⬜🟥🟦<br>🟦🟦🟦🟦🟦🟦🟦🟦🟦🟦🟦🟦🟦🟦🟦🟦🟦🟦🟦🟦🟦`;\n",
              "    </script>\n",
              "    "
            ],
            "text/plain": [
              "<IPython.core.display.HTML object>"
            ]
          },
          "metadata": {},
          "output_type": "display_data"
        },
        {
          "data": {
            "text/html": [
              "\n",
              "    <script>\n",
              "    document.getElementById('maze').innerHTML = `🟦🟦🟦🟦🟦🟦🟦🟦🟦🟦🟦🟦🟦🟦🟦🟦🟦🟦🟦🟦🟦<br>🟦🟨🟦🟨🟨🟨🟨🟨🟨🟨🟨🟨🟦🟨🟨🟨🟨🟨🟨🟨🟦<br>🟦🟨🟦🟨🟦🟦🟦🟦🟦🟦🟦🟨🟦🟨🟦🟦🟦🟦🟦🟨🟦<br>🟦🟨🟨🟨🟦⬜⬜⬜⬜⬜🟦🟨🟨🟨🟦⬜🟦🟨🟨🟨🟦<br>🟦🟦🟦🟦🟦🟦🟦🟦🟦⬜🟦🟦🟦🟦🟦🟨🟦🟨🟦🟦🟦<br>🟦⬜⬜⬜⬜⬜⬜⬜⬜⬜🟦🟨🟨🟨🟨🟨🟦🟨🟦⬜🟦<br>🟦⬜🟦🟦🟦🟦🟦🟦🟦🟦🟦😼🟦🟨🟦🟦🟦🟨🟦⬜🟦<br>🟦⬜🟦⬜⬜⬜⬜⬜🟦⬜⬜⬜🟦🟨🟨🟨🟨🟨🟦⬜🟦<br>🟦⬜🟦⬜🟦🟦🟦⬜🟦⬜🟦🟦🟦🟦🟦🟦🟦🟦🟦⬜🟦<br>🟦⬜⬜⬜⬜⬜🟦⬜⬜⬜⬜⬜⬜⬜⬜⬜⬜⬜⬜🟥🟦<br>🟦🟦🟦🟦🟦🟦🟦🟦🟦🟦🟦🟦🟦🟦🟦🟦🟦🟦🟦🟦🟦`;\n",
              "    </script>\n",
              "    "
            ],
            "text/plain": [
              "<IPython.core.display.HTML object>"
            ]
          },
          "metadata": {},
          "output_type": "display_data"
        },
        {
          "data": {
            "text/html": [
              "\n",
              "    <script>\n",
              "    document.getElementById('maze').innerHTML = `🟦🟦🟦🟦🟦🟦🟦🟦🟦🟦🟦🟦🟦🟦🟦🟦🟦🟦🟦🟦🟦<br>🟦🟨🟦🟨🟨🟨🟨🟨🟨🟨🟨🟨🟦🟨🟨🟨🟨🟨🟨🟨🟦<br>🟦🟨🟦🟨🟦🟦🟦🟦🟦🟦🟦🟨🟦🟨🟦🟦🟦🟦🟦🟨🟦<br>🟦🟨🟨🟨🟦⬜⬜⬜⬜⬜🟦🟨🟨🟨🟦😼🟦🟨🟨🟨🟦<br>🟦🟦🟦🟦🟦🟦🟦🟦🟦⬜🟦🟦🟦🟦🟦🟨🟦🟨🟦🟦🟦<br>🟦⬜⬜⬜⬜⬜⬜⬜⬜⬜🟦🟨🟨🟨🟨🟨🟦🟨🟦⬜🟦<br>🟦⬜🟦🟦🟦🟦🟦🟦🟦🟦🟦🟨🟦🟨🟦🟦🟦🟨🟦⬜🟦<br>🟦⬜🟦⬜⬜⬜⬜⬜🟦⬜⬜⬜🟦🟨🟨🟨🟨🟨🟦⬜🟦<br>🟦⬜🟦⬜🟦🟦🟦⬜🟦⬜🟦🟦🟦🟦🟦🟦🟦🟦🟦⬜🟦<br>🟦⬜⬜⬜⬜⬜🟦⬜⬜⬜⬜⬜⬜⬜⬜⬜⬜⬜⬜🟥🟦<br>🟦🟦🟦🟦🟦🟦🟦🟦🟦🟦🟦🟦🟦🟦🟦🟦🟦🟦🟦🟦🟦`;\n",
              "    </script>\n",
              "    "
            ],
            "text/plain": [
              "<IPython.core.display.HTML object>"
            ]
          },
          "metadata": {},
          "output_type": "display_data"
        },
        {
          "data": {
            "text/html": [
              "\n",
              "    <script>\n",
              "    document.getElementById('maze').innerHTML = `🟦🟦🟦🟦🟦🟦🟦🟦🟦🟦🟦🟦🟦🟦🟦🟦🟦🟦🟦🟦🟦<br>🟦🟨🟦🟨🟨🟨🟨🟨🟨🟨🟨🟨🟦🟨🟨🟨🟨🟨🟨🟨🟦<br>🟦🟨🟦🟨🟦🟦🟦🟦🟦🟦🟦🟨🟦🟨🟦🟦🟦🟦🟦🟨🟦<br>🟦🟨🟨🟨🟦⬜⬜⬜⬜⬜🟦🟨🟨🟨🟦🟨🟦🟨🟨🟨🟦<br>🟦🟦🟦🟦🟦🟦🟦🟦🟦⬜🟦🟦🟦🟦🟦🟨🟦🟨🟦🟦🟦<br>🟦⬜⬜⬜⬜⬜⬜⬜⬜⬜🟦🟨🟨🟨🟨🟨🟦🟨🟦⬜🟦<br>🟦⬜🟦🟦🟦🟦🟦🟦🟦🟦🟦🟨🟦🟨🟦🟦🟦🟨🟦⬜🟦<br>🟦⬜🟦⬜⬜⬜⬜⬜🟦⬜⬜😼🟦🟨🟨🟨🟨🟨🟦⬜🟦<br>🟦⬜🟦⬜🟦🟦🟦⬜🟦⬜🟦🟦🟦🟦🟦🟦🟦🟦🟦⬜🟦<br>🟦⬜⬜⬜⬜⬜🟦⬜⬜⬜⬜⬜⬜⬜⬜⬜⬜⬜⬜🟥🟦<br>🟦🟦🟦🟦🟦🟦🟦🟦🟦🟦🟦🟦🟦🟦🟦🟦🟦🟦🟦🟦🟦`;\n",
              "    </script>\n",
              "    "
            ],
            "text/plain": [
              "<IPython.core.display.HTML object>"
            ]
          },
          "metadata": {},
          "output_type": "display_data"
        },
        {
          "data": {
            "text/html": [
              "\n",
              "    <script>\n",
              "    document.getElementById('maze').innerHTML = `🟦🟦🟦🟦🟦🟦🟦🟦🟦🟦🟦🟦🟦🟦🟦🟦🟦🟦🟦🟦🟦<br>🟦🟨🟦🟨🟨🟨🟨🟨🟨🟨🟨🟨🟦🟨🟨🟨🟨🟨🟨🟨🟦<br>🟦🟨🟦🟨🟦🟦🟦🟦🟦🟦🟦🟨🟦🟨🟦🟦🟦🟦🟦🟨🟦<br>🟦🟨🟨🟨🟦⬜⬜⬜⬜⬜🟦🟨🟨🟨🟦🟨🟦🟨🟨🟨🟦<br>🟦🟦🟦🟦🟦🟦🟦🟦🟦⬜🟦🟦🟦🟦🟦🟨🟦🟨🟦🟦🟦<br>🟦⬜⬜⬜⬜⬜⬜⬜⬜⬜🟦🟨🟨🟨🟨🟨🟦🟨🟦⬜🟦<br>🟦⬜🟦🟦🟦🟦🟦🟦🟦🟦🟦🟨🟦🟨🟦🟦🟦🟨🟦⬜🟦<br>🟦⬜🟦⬜⬜⬜⬜⬜🟦⬜😼🟨🟦🟨🟨🟨🟨🟨🟦⬜🟦<br>🟦⬜🟦⬜🟦🟦🟦⬜🟦⬜🟦🟦🟦🟦🟦🟦🟦🟦🟦⬜🟦<br>🟦⬜⬜⬜⬜⬜🟦⬜⬜⬜⬜⬜⬜⬜⬜⬜⬜⬜⬜🟥🟦<br>🟦🟦🟦🟦🟦🟦🟦🟦🟦🟦🟦🟦🟦🟦🟦🟦🟦🟦🟦🟦🟦`;\n",
              "    </script>\n",
              "    "
            ],
            "text/plain": [
              "<IPython.core.display.HTML object>"
            ]
          },
          "metadata": {},
          "output_type": "display_data"
        },
        {
          "data": {
            "text/html": [
              "\n",
              "    <script>\n",
              "    document.getElementById('maze').innerHTML = `🟦🟦🟦🟦🟦🟦🟦🟦🟦🟦🟦🟦🟦🟦🟦🟦🟦🟦🟦🟦🟦<br>🟦🟨🟦🟨🟨🟨🟨🟨🟨🟨🟨🟨🟦🟨🟨🟨🟨🟨🟨🟨🟦<br>🟦🟨🟦🟨🟦🟦🟦🟦🟦🟦🟦🟨🟦🟨🟦🟦🟦🟦🟦🟨🟦<br>🟦🟨🟨🟨🟦⬜⬜⬜⬜⬜🟦🟨🟨🟨🟦🟨🟦🟨🟨🟨🟦<br>🟦🟦🟦🟦🟦🟦🟦🟦🟦⬜🟦🟦🟦🟦🟦🟨🟦🟨🟦🟦🟦<br>🟦⬜⬜⬜⬜⬜⬜⬜⬜⬜🟦🟨🟨🟨🟨🟨🟦🟨🟦⬜🟦<br>🟦⬜🟦🟦🟦🟦🟦🟦🟦🟦🟦🟨🟦🟨🟦🟦🟦🟨🟦⬜🟦<br>🟦⬜🟦⬜⬜⬜⬜⬜🟦😼🟨🟨🟦🟨🟨🟨🟨🟨🟦⬜🟦<br>🟦⬜🟦⬜🟦🟦🟦⬜🟦⬜🟦🟦🟦🟦🟦🟦🟦🟦🟦⬜🟦<br>🟦⬜⬜⬜⬜⬜🟦⬜⬜⬜⬜⬜⬜⬜⬜⬜⬜⬜⬜🟥🟦<br>🟦🟦🟦🟦🟦🟦🟦🟦🟦🟦🟦🟦🟦🟦🟦🟦🟦🟦🟦🟦🟦`;\n",
              "    </script>\n",
              "    "
            ],
            "text/plain": [
              "<IPython.core.display.HTML object>"
            ]
          },
          "metadata": {},
          "output_type": "display_data"
        },
        {
          "data": {
            "text/html": [
              "\n",
              "    <script>\n",
              "    document.getElementById('maze').innerHTML = `🟦🟦🟦🟦🟦🟦🟦🟦🟦🟦🟦🟦🟦🟦🟦🟦🟦🟦🟦🟦🟦<br>🟦🟨🟦🟨🟨🟨🟨🟨🟨🟨🟨🟨🟦🟨🟨🟨🟨🟨🟨🟨🟦<br>🟦🟨🟦🟨🟦🟦🟦🟦🟦🟦🟦🟨🟦🟨🟦🟦🟦🟦🟦🟨🟦<br>🟦🟨🟨🟨🟦⬜⬜⬜⬜⬜🟦🟨🟨🟨🟦🟨🟦🟨🟨🟨🟦<br>🟦🟦🟦🟦🟦🟦🟦🟦🟦⬜🟦🟦🟦🟦🟦🟨🟦🟨🟦🟦🟦<br>🟦⬜⬜⬜⬜⬜⬜⬜⬜⬜🟦🟨🟨🟨🟨🟨🟦🟨🟦⬜🟦<br>🟦⬜🟦🟦🟦🟦🟦🟦🟦🟦🟦🟨🟦🟨🟦🟦🟦🟨🟦⬜🟦<br>🟦⬜🟦⬜⬜⬜⬜⬜🟦🟨🟨🟨🟦🟨🟨🟨🟨🟨🟦⬜🟦<br>🟦⬜🟦⬜🟦🟦🟦⬜🟦😼🟦🟦🟦🟦🟦🟦🟦🟦🟦⬜🟦<br>🟦⬜⬜⬜⬜⬜🟦⬜⬜⬜⬜⬜⬜⬜⬜⬜⬜⬜⬜🟥🟦<br>🟦🟦🟦🟦🟦🟦🟦🟦🟦🟦🟦🟦🟦🟦🟦🟦🟦🟦🟦🟦🟦`;\n",
              "    </script>\n",
              "    "
            ],
            "text/plain": [
              "<IPython.core.display.HTML object>"
            ]
          },
          "metadata": {},
          "output_type": "display_data"
        },
        {
          "data": {
            "text/html": [
              "\n",
              "    <script>\n",
              "    document.getElementById('maze').innerHTML = `🟦🟦🟦🟦🟦🟦🟦🟦🟦🟦🟦🟦🟦🟦🟦🟦🟦🟦🟦🟦🟦<br>🟦🟨🟦🟨🟨🟨🟨🟨🟨🟨🟨🟨🟦🟨🟨🟨🟨🟨🟨🟨🟦<br>🟦🟨🟦🟨🟦🟦🟦🟦🟦🟦🟦🟨🟦🟨🟦🟦🟦🟦🟦🟨🟦<br>🟦🟨🟨🟨🟦⬜⬜⬜⬜⬜🟦🟨🟨🟨🟦🟨🟦🟨🟨🟨🟦<br>🟦🟦🟦🟦🟦🟦🟦🟦🟦⬜🟦🟦🟦🟦🟦🟨🟦🟨🟦🟦🟦<br>🟦⬜⬜⬜⬜⬜⬜⬜⬜⬜🟦🟨🟨🟨🟨🟨🟦🟨🟦⬜🟦<br>🟦⬜🟦🟦🟦🟦🟦🟦🟦🟦🟦🟨🟦🟨🟦🟦🟦🟨🟦⬜🟦<br>🟦⬜🟦⬜⬜⬜⬜⬜🟦🟨🟨🟨🟦🟨🟨🟨🟨🟨🟦⬜🟦<br>🟦⬜🟦⬜🟦🟦🟦⬜🟦🟨🟦🟦🟦🟦🟦🟦🟦🟦🟦⬜🟦<br>🟦⬜⬜⬜⬜⬜🟦⬜⬜😼⬜⬜⬜⬜⬜⬜⬜⬜⬜🟥🟦<br>🟦🟦🟦🟦🟦🟦🟦🟦🟦🟦🟦🟦🟦🟦🟦🟦🟦🟦🟦🟦🟦`;\n",
              "    </script>\n",
              "    "
            ],
            "text/plain": [
              "<IPython.core.display.HTML object>"
            ]
          },
          "metadata": {},
          "output_type": "display_data"
        },
        {
          "data": {
            "text/html": [
              "\n",
              "    <script>\n",
              "    document.getElementById('maze').innerHTML = `🟦🟦🟦🟦🟦🟦🟦🟦🟦🟦🟦🟦🟦🟦🟦🟦🟦🟦🟦🟦🟦<br>🟦🟨🟦🟨🟨🟨🟨🟨🟨🟨🟨🟨🟦🟨🟨🟨🟨🟨🟨🟨🟦<br>🟦🟨🟦🟨🟦🟦🟦🟦🟦🟦🟦🟨🟦🟨🟦🟦🟦🟦🟦🟨🟦<br>🟦🟨🟨🟨🟦⬜⬜⬜⬜⬜🟦🟨🟨🟨🟦🟨🟦🟨🟨🟨🟦<br>🟦🟦🟦🟦🟦🟦🟦🟦🟦⬜🟦🟦🟦🟦🟦🟨🟦🟨🟦🟦🟦<br>🟦⬜⬜⬜⬜⬜⬜⬜⬜⬜🟦🟨🟨🟨🟨🟨🟦🟨🟦⬜🟦<br>🟦⬜🟦🟦🟦🟦🟦🟦🟦🟦🟦🟨🟦🟨🟦🟦🟦🟨🟦⬜🟦<br>🟦⬜🟦⬜⬜⬜⬜⬜🟦🟨🟨🟨🟦🟨🟨🟨🟨🟨🟦⬜🟦<br>🟦⬜🟦⬜🟦🟦🟦⬜🟦🟨🟦🟦🟦🟦🟦🟦🟦🟦🟦⬜🟦<br>🟦⬜⬜⬜⬜⬜🟦⬜⬜🟨😼⬜⬜⬜⬜⬜⬜⬜⬜🟥🟦<br>🟦🟦🟦🟦🟦🟦🟦🟦🟦🟦🟦🟦🟦🟦🟦🟦🟦🟦🟦🟦🟦`;\n",
              "    </script>\n",
              "    "
            ],
            "text/plain": [
              "<IPython.core.display.HTML object>"
            ]
          },
          "metadata": {},
          "output_type": "display_data"
        },
        {
          "data": {
            "text/html": [
              "\n",
              "    <script>\n",
              "    document.getElementById('maze').innerHTML = `🟦🟦🟦🟦🟦🟦🟦🟦🟦🟦🟦🟦🟦🟦🟦🟦🟦🟦🟦🟦🟦<br>🟦🟨🟦🟨🟨🟨🟨🟨🟨🟨🟨🟨🟦🟨🟨🟨🟨🟨🟨🟨🟦<br>🟦🟨🟦🟨🟦🟦🟦🟦🟦🟦🟦🟨🟦🟨🟦🟦🟦🟦🟦🟨🟦<br>🟦🟨🟨🟨🟦⬜⬜⬜⬜⬜🟦🟨🟨🟨🟦🟨🟦🟨🟨🟨🟦<br>🟦🟦🟦🟦🟦🟦🟦🟦🟦⬜🟦🟦🟦🟦🟦🟨🟦🟨🟦🟦🟦<br>🟦⬜⬜⬜⬜⬜⬜⬜⬜⬜🟦🟨🟨🟨🟨🟨🟦🟨🟦⬜🟦<br>🟦⬜🟦🟦🟦🟦🟦🟦🟦🟦🟦🟨🟦🟨🟦🟦🟦🟨🟦⬜🟦<br>🟦⬜🟦⬜⬜⬜⬜⬜🟦🟨🟨🟨🟦🟨🟨🟨🟨🟨🟦⬜🟦<br>🟦⬜🟦⬜🟦🟦🟦⬜🟦🟨🟦🟦🟦🟦🟦🟦🟦🟦🟦⬜🟦<br>🟦⬜⬜⬜⬜⬜🟦⬜😼🟨🟨⬜⬜⬜⬜⬜⬜⬜⬜🟥🟦<br>🟦🟦🟦🟦🟦🟦🟦🟦🟦🟦🟦🟦🟦🟦🟦🟦🟦🟦🟦🟦🟦`;\n",
              "    </script>\n",
              "    "
            ],
            "text/plain": [
              "<IPython.core.display.HTML object>"
            ]
          },
          "metadata": {},
          "output_type": "display_data"
        },
        {
          "data": {
            "text/html": [
              "\n",
              "    <script>\n",
              "    document.getElementById('maze').innerHTML = `🟦🟦🟦🟦🟦🟦🟦🟦🟦🟦🟦🟦🟦🟦🟦🟦🟦🟦🟦🟦🟦<br>🟦🟨🟦🟨🟨🟨🟨🟨🟨🟨🟨🟨🟦🟨🟨🟨🟨🟨🟨🟨🟦<br>🟦🟨🟦🟨🟦🟦🟦🟦🟦🟦🟦🟨🟦🟨🟦🟦🟦🟦🟦🟨🟦<br>🟦🟨🟨🟨🟦⬜⬜⬜⬜⬜🟦🟨🟨🟨🟦🟨🟦🟨🟨🟨🟦<br>🟦🟦🟦🟦🟦🟦🟦🟦🟦⬜🟦🟦🟦🟦🟦🟨🟦🟨🟦🟦🟦<br>🟦⬜⬜⬜⬜⬜⬜⬜⬜⬜🟦🟨🟨🟨🟨🟨🟦🟨🟦⬜🟦<br>🟦⬜🟦🟦🟦🟦🟦🟦🟦🟦🟦🟨🟦🟨🟦🟦🟦🟨🟦⬜🟦<br>🟦⬜🟦⬜⬜⬜⬜⬜🟦🟨🟨🟨🟦🟨🟨🟨🟨🟨🟦⬜🟦<br>🟦⬜🟦⬜🟦🟦🟦⬜🟦🟨🟦🟦🟦🟦🟦🟦🟦🟦🟦⬜🟦<br>🟦⬜⬜⬜⬜⬜🟦⬜🟨🟨🟨😼⬜⬜⬜⬜⬜⬜⬜🟥🟦<br>🟦🟦🟦🟦🟦🟦🟦🟦🟦🟦🟦🟦🟦🟦🟦🟦🟦🟦🟦🟦🟦`;\n",
              "    </script>\n",
              "    "
            ],
            "text/plain": [
              "<IPython.core.display.HTML object>"
            ]
          },
          "metadata": {},
          "output_type": "display_data"
        },
        {
          "data": {
            "text/html": [
              "\n",
              "    <script>\n",
              "    document.getElementById('maze').innerHTML = `🟦🟦🟦🟦🟦🟦🟦🟦🟦🟦🟦🟦🟦🟦🟦🟦🟦🟦🟦🟦🟦<br>🟦🟨🟦🟨🟨🟨🟨🟨🟨🟨🟨🟨🟦🟨🟨🟨🟨🟨🟨🟨🟦<br>🟦🟨🟦🟨🟦🟦🟦🟦🟦🟦🟦🟨🟦🟨🟦🟦🟦🟦🟦🟨🟦<br>🟦🟨🟨🟨🟦⬜⬜⬜⬜⬜🟦🟨🟨🟨🟦🟨🟦🟨🟨🟨🟦<br>🟦🟦🟦🟦🟦🟦🟦🟦🟦⬜🟦🟦🟦🟦🟦🟨🟦🟨🟦🟦🟦<br>🟦⬜⬜⬜⬜⬜⬜⬜⬜⬜🟦🟨🟨🟨🟨🟨🟦🟨🟦⬜🟦<br>🟦⬜🟦🟦🟦🟦🟦🟦🟦🟦🟦🟨🟦🟨🟦🟦🟦🟨🟦⬜🟦<br>🟦⬜🟦⬜⬜⬜⬜⬜🟦🟨🟨🟨🟦🟨🟨🟨🟨🟨🟦⬜🟦<br>🟦⬜🟦⬜🟦🟦🟦⬜🟦🟨🟦🟦🟦🟦🟦🟦🟦🟦🟦⬜🟦<br>🟦⬜⬜⬜⬜⬜🟦😼🟨🟨🟨🟨⬜⬜⬜⬜⬜⬜⬜🟥🟦<br>🟦🟦🟦🟦🟦🟦🟦🟦🟦🟦🟦🟦🟦🟦🟦🟦🟦🟦🟦🟦🟦`;\n",
              "    </script>\n",
              "    "
            ],
            "text/plain": [
              "<IPython.core.display.HTML object>"
            ]
          },
          "metadata": {},
          "output_type": "display_data"
        },
        {
          "data": {
            "text/html": [
              "\n",
              "    <script>\n",
              "    document.getElementById('maze').innerHTML = `🟦🟦🟦🟦🟦🟦🟦🟦🟦🟦🟦🟦🟦🟦🟦🟦🟦🟦🟦🟦🟦<br>🟦🟨🟦🟨🟨🟨🟨🟨🟨🟨🟨🟨🟦🟨🟨🟨🟨🟨🟨🟨🟦<br>🟦🟨🟦🟨🟦🟦🟦🟦🟦🟦🟦🟨🟦🟨🟦🟦🟦🟦🟦🟨🟦<br>🟦🟨🟨🟨🟦⬜⬜⬜⬜⬜🟦🟨🟨🟨🟦🟨🟦🟨🟨🟨🟦<br>🟦🟦🟦🟦🟦🟦🟦🟦🟦⬜🟦🟦🟦🟦🟦🟨🟦🟨🟦🟦🟦<br>🟦⬜⬜⬜⬜⬜⬜⬜⬜⬜🟦🟨🟨🟨🟨🟨🟦🟨🟦⬜🟦<br>🟦⬜🟦🟦🟦🟦🟦🟦🟦🟦🟦🟨🟦🟨🟦🟦🟦🟨🟦⬜🟦<br>🟦⬜🟦⬜⬜⬜⬜⬜🟦🟨🟨🟨🟦🟨🟨🟨🟨🟨🟦⬜🟦<br>🟦⬜🟦⬜🟦🟦🟦⬜🟦🟨🟦🟦🟦🟦🟦🟦🟦🟦🟦⬜🟦<br>🟦⬜⬜⬜⬜⬜🟦🟨🟨🟨🟨🟨😼⬜⬜⬜⬜⬜⬜🟥🟦<br>🟦🟦🟦🟦🟦🟦🟦🟦🟦🟦🟦🟦🟦🟦🟦🟦🟦🟦🟦🟦🟦`;\n",
              "    </script>\n",
              "    "
            ],
            "text/plain": [
              "<IPython.core.display.HTML object>"
            ]
          },
          "metadata": {},
          "output_type": "display_data"
        },
        {
          "data": {
            "text/html": [
              "\n",
              "    <script>\n",
              "    document.getElementById('maze').innerHTML = `🟦🟦🟦🟦🟦🟦🟦🟦🟦🟦🟦🟦🟦🟦🟦🟦🟦🟦🟦🟦🟦<br>🟦🟨🟦🟨🟨🟨🟨🟨🟨🟨🟨🟨🟦🟨🟨🟨🟨🟨🟨🟨🟦<br>🟦🟨🟦🟨🟦🟦🟦🟦🟦🟦🟦🟨🟦🟨🟦🟦🟦🟦🟦🟨🟦<br>🟦🟨🟨🟨🟦⬜⬜⬜⬜⬜🟦🟨🟨🟨🟦🟨🟦🟨🟨🟨🟦<br>🟦🟦🟦🟦🟦🟦🟦🟦🟦⬜🟦🟦🟦🟦🟦🟨🟦🟨🟦🟦🟦<br>🟦⬜⬜⬜⬜⬜⬜⬜⬜⬜🟦🟨🟨🟨🟨🟨🟦🟨🟦⬜🟦<br>🟦⬜🟦🟦🟦🟦🟦🟦🟦🟦🟦🟨🟦🟨🟦🟦🟦🟨🟦⬜🟦<br>🟦⬜🟦⬜⬜⬜⬜⬜🟦🟨🟨🟨🟦🟨🟨🟨🟨🟨🟦⬜🟦<br>🟦⬜🟦⬜🟦🟦🟦⬜🟦🟨🟦🟦🟦🟦🟦🟦🟦🟦🟦⬜🟦<br>🟦⬜⬜⬜⬜⬜🟦🟨🟨🟨🟨🟨🟨😼⬜⬜⬜⬜⬜🟥🟦<br>🟦🟦🟦🟦🟦🟦🟦🟦🟦🟦🟦🟦🟦🟦🟦🟦🟦🟦🟦🟦🟦`;\n",
              "    </script>\n",
              "    "
            ],
            "text/plain": [
              "<IPython.core.display.HTML object>"
            ]
          },
          "metadata": {},
          "output_type": "display_data"
        },
        {
          "data": {
            "text/html": [
              "\n",
              "    <script>\n",
              "    document.getElementById('maze').innerHTML = `🟦🟦🟦🟦🟦🟦🟦🟦🟦🟦🟦🟦🟦🟦🟦🟦🟦🟦🟦🟦🟦<br>🟦🟨🟦🟨🟨🟨🟨🟨🟨🟨🟨🟨🟦🟨🟨🟨🟨🟨🟨🟨🟦<br>🟦🟨🟦🟨🟦🟦🟦🟦🟦🟦🟦🟨🟦🟨🟦🟦🟦🟦🟦🟨🟦<br>🟦🟨🟨🟨🟦⬜⬜⬜⬜⬜🟦🟨🟨🟨🟦🟨🟦🟨🟨🟨🟦<br>🟦🟦🟦🟦🟦🟦🟦🟦🟦⬜🟦🟦🟦🟦🟦🟨🟦🟨🟦🟦🟦<br>🟦⬜⬜⬜⬜⬜⬜⬜⬜⬜🟦🟨🟨🟨🟨🟨🟦🟨🟦⬜🟦<br>🟦⬜🟦🟦🟦🟦🟦🟦🟦🟦🟦🟨🟦🟨🟦🟦🟦🟨🟦⬜🟦<br>🟦⬜🟦⬜⬜⬜⬜⬜🟦🟨🟨🟨🟦🟨🟨🟨🟨🟨🟦⬜🟦<br>🟦⬜🟦⬜🟦🟦🟦😼🟦🟨🟦🟦🟦🟦🟦🟦🟦🟦🟦⬜🟦<br>🟦⬜⬜⬜⬜⬜🟦🟨🟨🟨🟨🟨🟨🟨⬜⬜⬜⬜⬜🟥🟦<br>🟦🟦🟦🟦🟦🟦🟦🟦🟦🟦🟦🟦🟦🟦🟦🟦🟦🟦🟦🟦🟦`;\n",
              "    </script>\n",
              "    "
            ],
            "text/plain": [
              "<IPython.core.display.HTML object>"
            ]
          },
          "metadata": {},
          "output_type": "display_data"
        },
        {
          "data": {
            "text/html": [
              "\n",
              "    <script>\n",
              "    document.getElementById('maze').innerHTML = `🟦🟦🟦🟦🟦🟦🟦🟦🟦🟦🟦🟦🟦🟦🟦🟦🟦🟦🟦🟦🟦<br>🟦🟨🟦🟨🟨🟨🟨🟨🟨🟨🟨🟨🟦🟨🟨🟨🟨🟨🟨🟨🟦<br>🟦🟨🟦🟨🟦🟦🟦🟦🟦🟦🟦🟨🟦🟨🟦🟦🟦🟦🟦🟨🟦<br>🟦🟨🟨🟨🟦⬜⬜⬜⬜⬜🟦🟨🟨🟨🟦🟨🟦🟨🟨🟨🟦<br>🟦🟦🟦🟦🟦🟦🟦🟦🟦⬜🟦🟦🟦🟦🟦🟨🟦🟨🟦🟦🟦<br>🟦⬜⬜⬜⬜⬜⬜⬜⬜⬜🟦🟨🟨🟨🟨🟨🟦🟨🟦⬜🟦<br>🟦⬜🟦🟦🟦🟦🟦🟦🟦🟦🟦🟨🟦🟨🟦🟦🟦🟨🟦⬜🟦<br>🟦⬜🟦⬜⬜⬜⬜⬜🟦🟨🟨🟨🟦🟨🟨🟨🟨🟨🟦⬜🟦<br>🟦⬜🟦⬜🟦🟦🟦🟨🟦🟨🟦🟦🟦🟦🟦🟦🟦🟦🟦⬜🟦<br>🟦⬜⬜⬜⬜⬜🟦🟨🟨🟨🟨🟨🟨🟨😼⬜⬜⬜⬜🟥🟦<br>🟦🟦🟦🟦🟦🟦🟦🟦🟦🟦🟦🟦🟦🟦🟦🟦🟦🟦🟦🟦🟦`;\n",
              "    </script>\n",
              "    "
            ],
            "text/plain": [
              "<IPython.core.display.HTML object>"
            ]
          },
          "metadata": {},
          "output_type": "display_data"
        },
        {
          "data": {
            "text/html": [
              "\n",
              "    <script>\n",
              "    document.getElementById('maze').innerHTML = `🟦🟦🟦🟦🟦🟦🟦🟦🟦🟦🟦🟦🟦🟦🟦🟦🟦🟦🟦🟦🟦<br>🟦🟨🟦🟨🟨🟨🟨🟨🟨🟨🟨🟨🟦🟨🟨🟨🟨🟨🟨🟨🟦<br>🟦🟨🟦🟨🟦🟦🟦🟦🟦🟦🟦🟨🟦🟨🟦🟦🟦🟦🟦🟨🟦<br>🟦🟨🟨🟨🟦⬜⬜⬜⬜⬜🟦🟨🟨🟨🟦🟨🟦🟨🟨🟨🟦<br>🟦🟦🟦🟦🟦🟦🟦🟦🟦⬜🟦🟦🟦🟦🟦🟨🟦🟨🟦🟦🟦<br>🟦⬜⬜⬜⬜⬜⬜⬜⬜⬜🟦🟨🟨🟨🟨🟨🟦🟨🟦⬜🟦<br>🟦⬜🟦🟦🟦🟦🟦🟦🟦🟦🟦🟨🟦🟨🟦🟦🟦🟨🟦⬜🟦<br>🟦⬜🟦⬜⬜⬜⬜😼🟦🟨🟨🟨🟦🟨🟨🟨🟨🟨🟦⬜🟦<br>🟦⬜🟦⬜🟦🟦🟦🟨🟦🟨🟦🟦🟦🟦🟦🟦🟦🟦🟦⬜🟦<br>🟦⬜⬜⬜⬜⬜🟦🟨🟨🟨🟨🟨🟨🟨🟨⬜⬜⬜⬜🟥🟦<br>🟦🟦🟦🟦🟦🟦🟦🟦🟦🟦🟦🟦🟦🟦🟦🟦🟦🟦🟦🟦🟦`;\n",
              "    </script>\n",
              "    "
            ],
            "text/plain": [
              "<IPython.core.display.HTML object>"
            ]
          },
          "metadata": {},
          "output_type": "display_data"
        },
        {
          "data": {
            "text/html": [
              "\n",
              "    <script>\n",
              "    document.getElementById('maze').innerHTML = `🟦🟦🟦🟦🟦🟦🟦🟦🟦🟦🟦🟦🟦🟦🟦🟦🟦🟦🟦🟦🟦<br>🟦🟨🟦🟨🟨🟨🟨🟨🟨🟨🟨🟨🟦🟨🟨🟨🟨🟨🟨🟨🟦<br>🟦🟨🟦🟨🟦🟦🟦🟦🟦🟦🟦🟨🟦🟨🟦🟦🟦🟦🟦🟨🟦<br>🟦🟨🟨🟨🟦⬜⬜⬜⬜⬜🟦🟨🟨🟨🟦🟨🟦🟨🟨🟨🟦<br>🟦🟦🟦🟦🟦🟦🟦🟦🟦⬜🟦🟦🟦🟦🟦🟨🟦🟨🟦🟦🟦<br>🟦⬜⬜⬜⬜⬜⬜⬜⬜⬜🟦🟨🟨🟨🟨🟨🟦🟨🟦⬜🟦<br>🟦⬜🟦🟦🟦🟦🟦🟦🟦🟦🟦🟨🟦🟨🟦🟦🟦🟨🟦⬜🟦<br>🟦⬜🟦⬜⬜⬜⬜🟨🟦🟨🟨🟨🟦🟨🟨🟨🟨🟨🟦⬜🟦<br>🟦⬜🟦⬜🟦🟦🟦🟨🟦🟨🟦🟦🟦🟦🟦🟦🟦🟦🟦⬜🟦<br>🟦⬜⬜⬜⬜⬜🟦🟨🟨🟨🟨🟨🟨🟨🟨😼⬜⬜⬜🟥🟦<br>🟦🟦🟦🟦🟦🟦🟦🟦🟦🟦🟦🟦🟦🟦🟦🟦🟦🟦🟦🟦🟦`;\n",
              "    </script>\n",
              "    "
            ],
            "text/plain": [
              "<IPython.core.display.HTML object>"
            ]
          },
          "metadata": {},
          "output_type": "display_data"
        },
        {
          "data": {
            "text/html": [
              "\n",
              "    <script>\n",
              "    document.getElementById('maze').innerHTML = `🟦🟦🟦🟦🟦🟦🟦🟦🟦🟦🟦🟦🟦🟦🟦🟦🟦🟦🟦🟦🟦<br>🟦🟨🟦🟨🟨🟨🟨🟨🟨🟨🟨🟨🟦🟨🟨🟨🟨🟨🟨🟨🟦<br>🟦🟨🟦🟨🟦🟦🟦🟦🟦🟦🟦🟨🟦🟨🟦🟦🟦🟦🟦🟨🟦<br>🟦🟨🟨🟨🟦⬜⬜⬜⬜⬜🟦🟨🟨🟨🟦🟨🟦🟨🟨🟨🟦<br>🟦🟦🟦🟦🟦🟦🟦🟦🟦⬜🟦🟦🟦🟦🟦🟨🟦🟨🟦🟦🟦<br>🟦⬜⬜⬜⬜⬜⬜⬜⬜⬜🟦🟨🟨🟨🟨🟨🟦🟨🟦⬜🟦<br>🟦⬜🟦🟦🟦🟦🟦🟦🟦🟦🟦🟨🟦🟨🟦🟦🟦🟨🟦⬜🟦<br>🟦⬜🟦⬜⬜⬜⬜🟨🟦🟨🟨🟨🟦🟨🟨🟨🟨🟨🟦⬜🟦<br>🟦⬜🟦⬜🟦🟦🟦🟨🟦🟨🟦🟦🟦🟦🟦🟦🟦🟦🟦⬜🟦<br>🟦⬜⬜⬜⬜⬜🟦🟨🟨🟨🟨🟨🟨🟨🟨🟨😼⬜⬜🟥🟦<br>🟦🟦🟦🟦🟦🟦🟦🟦🟦🟦🟦🟦🟦🟦🟦🟦🟦🟦🟦🟦🟦`;\n",
              "    </script>\n",
              "    "
            ],
            "text/plain": [
              "<IPython.core.display.HTML object>"
            ]
          },
          "metadata": {},
          "output_type": "display_data"
        },
        {
          "data": {
            "text/html": [
              "\n",
              "    <script>\n",
              "    document.getElementById('maze').innerHTML = `🟦🟦🟦🟦🟦🟦🟦🟦🟦🟦🟦🟦🟦🟦🟦🟦🟦🟦🟦🟦🟦<br>🟦🟨🟦🟨🟨🟨🟨🟨🟨🟨🟨🟨🟦🟨🟨🟨🟨🟨🟨🟨🟦<br>🟦🟨🟦🟨🟦🟦🟦🟦🟦🟦🟦🟨🟦🟨🟦🟦🟦🟦🟦🟨🟦<br>🟦🟨🟨🟨🟦⬜⬜⬜⬜⬜🟦🟨🟨🟨🟦🟨🟦🟨🟨🟨🟦<br>🟦🟦🟦🟦🟦🟦🟦🟦🟦⬜🟦🟦🟦🟦🟦🟨🟦🟨🟦🟦🟦<br>🟦⬜⬜⬜⬜⬜⬜⬜⬜⬜🟦🟨🟨🟨🟨🟨🟦🟨🟦⬜🟦<br>🟦⬜🟦🟦🟦🟦🟦🟦🟦🟦🟦🟨🟦🟨🟦🟦🟦🟨🟦⬜🟦<br>🟦⬜🟦⬜⬜⬜😼🟨🟦🟨🟨🟨🟦🟨🟨🟨🟨🟨🟦⬜🟦<br>🟦⬜🟦⬜🟦🟦🟦🟨🟦🟨🟦🟦🟦🟦🟦🟦🟦🟦🟦⬜🟦<br>🟦⬜⬜⬜⬜⬜🟦🟨🟨🟨🟨🟨🟨🟨🟨🟨🟨⬜⬜🟥🟦<br>🟦🟦🟦🟦🟦🟦🟦🟦🟦🟦🟦🟦🟦🟦🟦🟦🟦🟦🟦🟦🟦`;\n",
              "    </script>\n",
              "    "
            ],
            "text/plain": [
              "<IPython.core.display.HTML object>"
            ]
          },
          "metadata": {},
          "output_type": "display_data"
        },
        {
          "data": {
            "text/html": [
              "\n",
              "    <script>\n",
              "    document.getElementById('maze').innerHTML = `🟦🟦🟦🟦🟦🟦🟦🟦🟦🟦🟦🟦🟦🟦🟦🟦🟦🟦🟦🟦🟦<br>🟦🟨🟦🟨🟨🟨🟨🟨🟨🟨🟨🟨🟦🟨🟨🟨🟨🟨🟨🟨🟦<br>🟦🟨🟦🟨🟦🟦🟦🟦🟦🟦🟦🟨🟦🟨🟦🟦🟦🟦🟦🟨🟦<br>🟦🟨🟨🟨🟦⬜⬜⬜⬜⬜🟦🟨🟨🟨🟦🟨🟦🟨🟨🟨🟦<br>🟦🟦🟦🟦🟦🟦🟦🟦🟦⬜🟦🟦🟦🟦🟦🟨🟦🟨🟦🟦🟦<br>🟦⬜⬜⬜⬜⬜⬜⬜⬜⬜🟦🟨🟨🟨🟨🟨🟦🟨🟦⬜🟦<br>🟦⬜🟦🟦🟦🟦🟦🟦🟦🟦🟦🟨🟦🟨🟦🟦🟦🟨🟦⬜🟦<br>🟦⬜🟦⬜⬜⬜🟨🟨🟦🟨🟨🟨🟦🟨🟨🟨🟨🟨🟦⬜🟦<br>🟦⬜🟦⬜🟦🟦🟦🟨🟦🟨🟦🟦🟦🟦🟦🟦🟦🟦🟦⬜🟦<br>🟦⬜⬜⬜⬜⬜🟦🟨🟨🟨🟨🟨🟨🟨🟨🟨🟨😼⬜🟥🟦<br>🟦🟦🟦🟦🟦🟦🟦🟦🟦🟦🟦🟦🟦🟦🟦🟦🟦🟦🟦🟦🟦`;\n",
              "    </script>\n",
              "    "
            ],
            "text/plain": [
              "<IPython.core.display.HTML object>"
            ]
          },
          "metadata": {},
          "output_type": "display_data"
        },
        {
          "data": {
            "text/html": [
              "\n",
              "    <script>\n",
              "    document.getElementById('maze').innerHTML = `🟦🟦🟦🟦🟦🟦🟦🟦🟦🟦🟦🟦🟦🟦🟦🟦🟦🟦🟦🟦🟦<br>🟦🟨🟦🟨🟨🟨🟨🟨🟨🟨🟨🟨🟦🟨🟨🟨🟨🟨🟨🟨🟦<br>🟦🟨🟦🟨🟦🟦🟦🟦🟦🟦🟦🟨🟦🟨🟦🟦🟦🟦🟦🟨🟦<br>🟦🟨🟨🟨🟦⬜⬜⬜⬜⬜🟦🟨🟨🟨🟦🟨🟦🟨🟨🟨🟦<br>🟦🟦🟦🟦🟦🟦🟦🟦🟦⬜🟦🟦🟦🟦🟦🟨🟦🟨🟦🟦🟦<br>🟦⬜⬜⬜⬜⬜⬜⬜⬜⬜🟦🟨🟨🟨🟨🟨🟦🟨🟦⬜🟦<br>🟦⬜🟦🟦🟦🟦🟦🟦🟦🟦🟦🟨🟦🟨🟦🟦🟦🟨🟦⬜🟦<br>🟦⬜🟦⬜⬜😼🟨🟨🟦🟨🟨🟨🟦🟨🟨🟨🟨🟨🟦⬜🟦<br>🟦⬜🟦⬜🟦🟦🟦🟨🟦🟨🟦🟦🟦🟦🟦🟦🟦🟦🟦⬜🟦<br>🟦⬜⬜⬜⬜⬜🟦🟨🟨🟨🟨🟨🟨🟨🟨🟨🟨🟨⬜🟥🟦<br>🟦🟦🟦🟦🟦🟦🟦🟦🟦🟦🟦🟦🟦🟦🟦🟦🟦🟦🟦🟦🟦`;\n",
              "    </script>\n",
              "    "
            ],
            "text/plain": [
              "<IPython.core.display.HTML object>"
            ]
          },
          "metadata": {},
          "output_type": "display_data"
        },
        {
          "data": {
            "text/html": [
              "\n",
              "    <script>\n",
              "    document.getElementById('maze').innerHTML = `🟦🟦🟦🟦🟦🟦🟦🟦🟦🟦🟦🟦🟦🟦🟦🟦🟦🟦🟦🟦🟦<br>🟦🟨🟦🟨🟨🟨🟨🟨🟨🟨🟨🟨🟦🟨🟨🟨🟨🟨🟨🟨🟦<br>🟦🟨🟦🟨🟦🟦🟦🟦🟦🟦🟦🟨🟦🟨🟦🟦🟦🟦🟦🟨🟦<br>🟦🟨🟨🟨🟦⬜⬜⬜⬜⬜🟦🟨🟨🟨🟦🟨🟦🟨🟨🟨🟦<br>🟦🟦🟦🟦🟦🟦🟦🟦🟦⬜🟦🟦🟦🟦🟦🟨🟦🟨🟦🟦🟦<br>🟦⬜⬜⬜⬜⬜⬜⬜⬜⬜🟦🟨🟨🟨🟨🟨🟦🟨🟦⬜🟦<br>🟦⬜🟦🟦🟦🟦🟦🟦🟦🟦🟦🟨🟦🟨🟦🟦🟦🟨🟦⬜🟦<br>🟦⬜🟦⬜⬜🟨🟨🟨🟦🟨🟨🟨🟦🟨🟨🟨🟨🟨🟦⬜🟦<br>🟦⬜🟦⬜🟦🟦🟦🟨🟦🟨🟦🟦🟦🟦🟦🟦🟦🟦🟦⬜🟦<br>🟦⬜⬜⬜⬜⬜🟦🟨🟨🟨🟨🟨🟨🟨🟨🟨🟨🟨😼🟥🟦<br>🟦🟦🟦🟦🟦🟦🟦🟦🟦🟦🟦🟦🟦🟦🟦🟦🟦🟦🟦🟦🟦`;\n",
              "    </script>\n",
              "    "
            ],
            "text/plain": [
              "<IPython.core.display.HTML object>"
            ]
          },
          "metadata": {},
          "output_type": "display_data"
        },
        {
          "data": {
            "text/html": [
              "\n",
              "    <script>\n",
              "    document.getElementById('maze').innerHTML = `🟦🟦🟦🟦🟦🟦🟦🟦🟦🟦🟦🟦🟦🟦🟦🟦🟦🟦🟦🟦🟦<br>🟦🟨🟦🟨🟨🟨🟨🟨🟨🟨🟨🟨🟦🟨🟨🟨🟨🟨🟨🟨🟦<br>🟦🟨🟦🟨🟦🟦🟦🟦🟦🟦🟦🟨🟦🟨🟦🟦🟦🟦🟦🟨🟦<br>🟦🟨🟨🟨🟦⬜⬜⬜⬜⬜🟦🟨🟨🟨🟦🟨🟦🟨🟨🟨🟦<br>🟦🟦🟦🟦🟦🟦🟦🟦🟦⬜🟦🟦🟦🟦🟦🟨🟦🟨🟦🟦🟦<br>🟦⬜⬜⬜⬜⬜⬜⬜⬜⬜🟦🟨🟨🟨🟨🟨🟦🟨🟦⬜🟦<br>🟦⬜🟦🟦🟦🟦🟦🟦🟦🟦🟦🟨🟦🟨🟦🟦🟦🟨🟦⬜🟦<br>🟦⬜🟦⬜⬜🟨🟨🟨🟦🟨🟨🟨🟦🟨🟨🟨🟨🟨🟦⬜🟦<br>🟦⬜🟦⬜🟦🟦🟦🟨🟦🟨🟦🟦🟦🟦🟦🟦🟦🟦🟦⬜🟦<br>🟦⬜⬜⬜⬜⬜🟦🟨🟨🟨🟨🟨🟨🟨🟨🟨🟨🟨🟨😼🟦<br>🟦🟦🟦🟦🟦🟦🟦🟦🟦🟦🟦🟦🟦🟦🟦🟦🟦🟦🟦🟦🟦`;\n",
              "    </script>\n",
              "    "
            ],
            "text/plain": [
              "<IPython.core.display.HTML object>"
            ]
          },
          "metadata": {},
          "output_type": "display_data"
        },
        {
          "data": {
            "text/html": [
              "\n",
              "    <script>\n",
              "    document.getElementById('maze').innerHTML = `🟦🟦🟦🟦🟦🟦🟦🟦🟦🟦🟦🟦🟦🟦🟦🟦🟦🟦🟦🟦🟦<br>🟦🟩🟦⬜⬜⬜⬜⬜⬜⬜⬜⬜🟦⬜⬜⬜⬜⬜⬜⬜🟦<br>🟦⬜🟦⬜🟦🟦🟦🟦🟦🟦🟦⬜🟦⬜🟦🟦🟦🟦🟦⬜🟦<br>🟦⬜⬜⬜🟦⬜⬜⬜⬜⬜🟦⬜⬜⬜🟦⬜🟦⬜⬜⬜🟦<br>🟦🟦🟦🟦🟦🟦🟦🟦🟦⬜🟦🟦🟦🟦🟦⬜🟦⬜🟦🟦🟦<br>🟦⬜⬜⬜⬜⬜⬜⬜⬜⬜🟦⬜⬜⬜⬜⬜🟦⬜🟦⬜🟦<br>🟦⬜🟦🟦🟦🟦🟦🟦🟦🟦🟦⬜🟦⬜🟦🟦🟦⬜🟦⬜🟦<br>🟦⬜🟦⬜⬜⬜⬜⬜🟦⬜⬜⬜🟦⬜⬜⬜⬜⬜🟦⬜🟦<br>🟦⬜🟦⬜🟦🟦🟦⬜🟦⬜🟦🟦🟦🟦🟦🟦🟦🟦🟦⬜🟦<br>🟦⬜⬜⬜⬜⬜🟦⬜⬜⬜⬜⬜⬜⬜⬜⬜⬜⬜🔳🟥🟦<br>🟦🟦🟦🟦🟦🟦🟦🟦🟦🟦🟦🟦🟦🟦🟦🟦🟦🟦🟦🟦🟦`;\n",
              "    </script>\n",
              "    "
            ],
            "text/plain": [
              "<IPython.core.display.HTML object>"
            ]
          },
          "metadata": {},
          "output_type": "display_data"
        },
        {
          "data": {
            "text/html": [
              "\n",
              "    <script>\n",
              "    document.getElementById('maze').innerHTML = `🟦🟦🟦🟦🟦🟦🟦🟦🟦🟦🟦🟦🟦🟦🟦🟦🟦🟦🟦🟦🟦<br>🟦🟩🟦⬜⬜⬜⬜⬜⬜⬜⬜⬜🟦⬜⬜⬜⬜⬜⬜⬜🟦<br>🟦⬜🟦⬜🟦🟦🟦🟦🟦🟦🟦⬜🟦⬜🟦🟦🟦🟦🟦⬜🟦<br>🟦⬜⬜⬜🟦⬜⬜⬜⬜⬜🟦⬜⬜⬜🟦⬜🟦⬜⬜⬜🟦<br>🟦🟦🟦🟦🟦🟦🟦🟦🟦⬜🟦🟦🟦🟦🟦⬜🟦⬜🟦🟦🟦<br>🟦⬜⬜⬜⬜⬜⬜⬜⬜⬜🟦⬜⬜⬜⬜⬜🟦⬜🟦⬜🟦<br>🟦⬜🟦🟦🟦🟦🟦🟦🟦🟦🟦⬜🟦⬜🟦🟦🟦⬜🟦⬜🟦<br>🟦⬜🟦⬜⬜⬜⬜⬜🟦⬜⬜⬜🟦⬜⬜⬜⬜⬜🟦⬜🟦<br>🟦⬜🟦⬜🟦🟦🟦⬜🟦⬜🟦🟦🟦🟦🟦🟦🟦🟦🟦⬜🟦<br>🟦⬜⬜⬜⬜⬜🟦⬜⬜⬜⬜⬜⬜⬜⬜⬜⬜🔳🔳🟥🟦<br>🟦🟦🟦🟦🟦🟦🟦🟦🟦🟦🟦🟦🟦🟦🟦🟦🟦🟦🟦🟦🟦`;\n",
              "    </script>\n",
              "    "
            ],
            "text/plain": [
              "<IPython.core.display.HTML object>"
            ]
          },
          "metadata": {},
          "output_type": "display_data"
        },
        {
          "data": {
            "text/html": [
              "\n",
              "    <script>\n",
              "    document.getElementById('maze').innerHTML = `🟦🟦🟦🟦🟦🟦🟦🟦🟦🟦🟦🟦🟦🟦🟦🟦🟦🟦🟦🟦🟦<br>🟦🟩🟦⬜⬜⬜⬜⬜⬜⬜⬜⬜🟦⬜⬜⬜⬜⬜⬜⬜🟦<br>🟦⬜🟦⬜🟦🟦🟦🟦🟦🟦🟦⬜🟦⬜🟦🟦🟦🟦🟦⬜🟦<br>🟦⬜⬜⬜🟦⬜⬜⬜⬜⬜🟦⬜⬜⬜🟦⬜🟦⬜⬜⬜🟦<br>🟦🟦🟦🟦🟦🟦🟦🟦🟦⬜🟦🟦🟦🟦🟦⬜🟦⬜🟦🟦🟦<br>🟦⬜⬜⬜⬜⬜⬜⬜⬜⬜🟦⬜⬜⬜⬜⬜🟦⬜🟦⬜🟦<br>🟦⬜🟦🟦🟦🟦🟦🟦🟦🟦🟦⬜🟦⬜🟦🟦🟦⬜🟦⬜🟦<br>🟦⬜🟦⬜⬜⬜⬜⬜🟦⬜⬜⬜🟦⬜⬜⬜⬜⬜🟦⬜🟦<br>🟦⬜🟦⬜🟦🟦🟦⬜🟦⬜🟦🟦🟦🟦🟦🟦🟦🟦🟦⬜🟦<br>🟦⬜⬜⬜⬜⬜🟦⬜⬜⬜⬜⬜⬜⬜⬜⬜🔳🔳🔳🟥🟦<br>🟦🟦🟦🟦🟦🟦🟦🟦🟦🟦🟦🟦🟦🟦🟦🟦🟦🟦🟦🟦🟦`;\n",
              "    </script>\n",
              "    "
            ],
            "text/plain": [
              "<IPython.core.display.HTML object>"
            ]
          },
          "metadata": {},
          "output_type": "display_data"
        },
        {
          "data": {
            "text/html": [
              "\n",
              "    <script>\n",
              "    document.getElementById('maze').innerHTML = `🟦🟦🟦🟦🟦🟦🟦🟦🟦🟦🟦🟦🟦🟦🟦🟦🟦🟦🟦🟦🟦<br>🟦🟩🟦⬜⬜⬜⬜⬜⬜⬜⬜⬜🟦⬜⬜⬜⬜⬜⬜⬜🟦<br>🟦⬜🟦⬜🟦🟦🟦🟦🟦🟦🟦⬜🟦⬜🟦🟦🟦🟦🟦⬜🟦<br>🟦⬜⬜⬜🟦⬜⬜⬜⬜⬜🟦⬜⬜⬜🟦⬜🟦⬜⬜⬜🟦<br>🟦🟦🟦🟦🟦🟦🟦🟦🟦⬜🟦🟦🟦🟦🟦⬜🟦⬜🟦🟦🟦<br>🟦⬜⬜⬜⬜⬜⬜⬜⬜⬜🟦⬜⬜⬜⬜⬜🟦⬜🟦⬜🟦<br>🟦⬜🟦🟦🟦🟦🟦🟦🟦🟦🟦⬜🟦⬜🟦🟦🟦⬜🟦⬜🟦<br>🟦⬜🟦⬜⬜⬜⬜⬜🟦⬜⬜⬜🟦⬜⬜⬜⬜⬜🟦⬜🟦<br>🟦⬜🟦⬜🟦🟦🟦⬜🟦⬜🟦🟦🟦🟦🟦🟦🟦🟦🟦⬜🟦<br>🟦⬜⬜⬜⬜⬜🟦⬜⬜⬜⬜⬜⬜⬜⬜🔳🔳🔳🔳🟥🟦<br>🟦🟦🟦🟦🟦🟦🟦🟦🟦🟦🟦🟦🟦🟦🟦🟦🟦🟦🟦🟦🟦`;\n",
              "    </script>\n",
              "    "
            ],
            "text/plain": [
              "<IPython.core.display.HTML object>"
            ]
          },
          "metadata": {},
          "output_type": "display_data"
        },
        {
          "data": {
            "text/html": [
              "\n",
              "    <script>\n",
              "    document.getElementById('maze').innerHTML = `🟦🟦🟦🟦🟦🟦🟦🟦🟦🟦🟦🟦🟦🟦🟦🟦🟦🟦🟦🟦🟦<br>🟦🟩🟦⬜⬜⬜⬜⬜⬜⬜⬜⬜🟦⬜⬜⬜⬜⬜⬜⬜🟦<br>🟦⬜🟦⬜🟦🟦🟦🟦🟦🟦🟦⬜🟦⬜🟦🟦🟦🟦🟦⬜🟦<br>🟦⬜⬜⬜🟦⬜⬜⬜⬜⬜🟦⬜⬜⬜🟦⬜🟦⬜⬜⬜🟦<br>🟦🟦🟦🟦🟦🟦🟦🟦🟦⬜🟦🟦🟦🟦🟦⬜🟦⬜🟦🟦🟦<br>🟦⬜⬜⬜⬜⬜⬜⬜⬜⬜🟦⬜⬜⬜⬜⬜🟦⬜🟦⬜🟦<br>🟦⬜🟦🟦🟦🟦🟦🟦🟦🟦🟦⬜🟦⬜🟦🟦🟦⬜🟦⬜🟦<br>🟦⬜🟦⬜⬜⬜⬜⬜🟦⬜⬜⬜🟦⬜⬜⬜⬜⬜🟦⬜🟦<br>🟦⬜🟦⬜🟦🟦🟦⬜🟦⬜🟦🟦🟦🟦🟦🟦🟦🟦🟦⬜🟦<br>🟦⬜⬜⬜⬜⬜🟦⬜⬜⬜⬜⬜⬜⬜🔳🔳🔳🔳🔳🟥🟦<br>🟦🟦🟦🟦🟦🟦🟦🟦🟦🟦🟦🟦🟦🟦🟦🟦🟦🟦🟦🟦🟦`;\n",
              "    </script>\n",
              "    "
            ],
            "text/plain": [
              "<IPython.core.display.HTML object>"
            ]
          },
          "metadata": {},
          "output_type": "display_data"
        },
        {
          "data": {
            "text/html": [
              "\n",
              "    <script>\n",
              "    document.getElementById('maze').innerHTML = `🟦🟦🟦🟦🟦🟦🟦🟦🟦🟦🟦🟦🟦🟦🟦🟦🟦🟦🟦🟦🟦<br>🟦🟩🟦⬜⬜⬜⬜⬜⬜⬜⬜⬜🟦⬜⬜⬜⬜⬜⬜⬜🟦<br>🟦⬜🟦⬜🟦🟦🟦🟦🟦🟦🟦⬜🟦⬜🟦🟦🟦🟦🟦⬜🟦<br>🟦⬜⬜⬜🟦⬜⬜⬜⬜⬜🟦⬜⬜⬜🟦⬜🟦⬜⬜⬜🟦<br>🟦🟦🟦🟦🟦🟦🟦🟦🟦⬜🟦🟦🟦🟦🟦⬜🟦⬜🟦🟦🟦<br>🟦⬜⬜⬜⬜⬜⬜⬜⬜⬜🟦⬜⬜⬜⬜⬜🟦⬜🟦⬜🟦<br>🟦⬜🟦🟦🟦🟦🟦🟦🟦🟦🟦⬜🟦⬜🟦🟦🟦⬜🟦⬜🟦<br>🟦⬜🟦⬜⬜⬜⬜⬜🟦⬜⬜⬜🟦⬜⬜⬜⬜⬜🟦⬜🟦<br>🟦⬜🟦⬜🟦🟦🟦⬜🟦⬜🟦🟦🟦🟦🟦🟦🟦🟦🟦⬜🟦<br>🟦⬜⬜⬜⬜⬜🟦⬜⬜⬜⬜⬜⬜🔳🔳🔳🔳🔳🔳🟥🟦<br>🟦🟦🟦🟦🟦🟦🟦🟦🟦🟦🟦🟦🟦🟦🟦🟦🟦🟦🟦🟦🟦`;\n",
              "    </script>\n",
              "    "
            ],
            "text/plain": [
              "<IPython.core.display.HTML object>"
            ]
          },
          "metadata": {},
          "output_type": "display_data"
        },
        {
          "data": {
            "text/html": [
              "\n",
              "    <script>\n",
              "    document.getElementById('maze').innerHTML = `🟦🟦🟦🟦🟦🟦🟦🟦🟦🟦🟦🟦🟦🟦🟦🟦🟦🟦🟦🟦🟦<br>🟦🟩🟦⬜⬜⬜⬜⬜⬜⬜⬜⬜🟦⬜⬜⬜⬜⬜⬜⬜🟦<br>🟦⬜🟦⬜🟦🟦🟦🟦🟦🟦🟦⬜🟦⬜🟦🟦🟦🟦🟦⬜🟦<br>🟦⬜⬜⬜🟦⬜⬜⬜⬜⬜🟦⬜⬜⬜🟦⬜🟦⬜⬜⬜🟦<br>🟦🟦🟦🟦🟦🟦🟦🟦🟦⬜🟦🟦🟦🟦🟦⬜🟦⬜🟦🟦🟦<br>🟦⬜⬜⬜⬜⬜⬜⬜⬜⬜🟦⬜⬜⬜⬜⬜🟦⬜🟦⬜🟦<br>🟦⬜🟦🟦🟦🟦🟦🟦🟦🟦🟦⬜🟦⬜🟦🟦🟦⬜🟦⬜🟦<br>🟦⬜🟦⬜⬜⬜⬜⬜🟦⬜⬜⬜🟦⬜⬜⬜⬜⬜🟦⬜🟦<br>🟦⬜🟦⬜🟦🟦🟦⬜🟦⬜🟦🟦🟦🟦🟦🟦🟦🟦🟦⬜🟦<br>🟦⬜⬜⬜⬜⬜🟦⬜⬜⬜⬜⬜🔳🔳🔳🔳🔳🔳🔳🟥🟦<br>🟦🟦🟦🟦🟦🟦🟦🟦🟦🟦🟦🟦🟦🟦🟦🟦🟦🟦🟦🟦🟦`;\n",
              "    </script>\n",
              "    "
            ],
            "text/plain": [
              "<IPython.core.display.HTML object>"
            ]
          },
          "metadata": {},
          "output_type": "display_data"
        },
        {
          "data": {
            "text/html": [
              "\n",
              "    <script>\n",
              "    document.getElementById('maze').innerHTML = `🟦🟦🟦🟦🟦🟦🟦🟦🟦🟦🟦🟦🟦🟦🟦🟦🟦🟦🟦🟦🟦<br>🟦🟩🟦⬜⬜⬜⬜⬜⬜⬜⬜⬜🟦⬜⬜⬜⬜⬜⬜⬜🟦<br>🟦⬜🟦⬜🟦🟦🟦🟦🟦🟦🟦⬜🟦⬜🟦🟦🟦🟦🟦⬜🟦<br>🟦⬜⬜⬜🟦⬜⬜⬜⬜⬜🟦⬜⬜⬜🟦⬜🟦⬜⬜⬜🟦<br>🟦🟦🟦🟦🟦🟦🟦🟦🟦⬜🟦🟦🟦🟦🟦⬜🟦⬜🟦🟦🟦<br>🟦⬜⬜⬜⬜⬜⬜⬜⬜⬜🟦⬜⬜⬜⬜⬜🟦⬜🟦⬜🟦<br>🟦⬜🟦🟦🟦🟦🟦🟦🟦🟦🟦⬜🟦⬜🟦🟦🟦⬜🟦⬜🟦<br>🟦⬜🟦⬜⬜⬜⬜⬜🟦⬜⬜⬜🟦⬜⬜⬜⬜⬜🟦⬜🟦<br>🟦⬜🟦⬜🟦🟦🟦⬜🟦⬜🟦🟦🟦🟦🟦🟦🟦🟦🟦⬜🟦<br>🟦⬜⬜⬜⬜⬜🟦⬜⬜⬜⬜🔳🔳🔳🔳🔳🔳🔳🔳🟥🟦<br>🟦🟦🟦🟦🟦🟦🟦🟦🟦🟦🟦🟦🟦🟦🟦🟦🟦🟦🟦🟦🟦`;\n",
              "    </script>\n",
              "    "
            ],
            "text/plain": [
              "<IPython.core.display.HTML object>"
            ]
          },
          "metadata": {},
          "output_type": "display_data"
        },
        {
          "data": {
            "text/html": [
              "\n",
              "    <script>\n",
              "    document.getElementById('maze').innerHTML = `🟦🟦🟦🟦🟦🟦🟦🟦🟦🟦🟦🟦🟦🟦🟦🟦🟦🟦🟦🟦🟦<br>🟦🟩🟦⬜⬜⬜⬜⬜⬜⬜⬜⬜🟦⬜⬜⬜⬜⬜⬜⬜🟦<br>🟦⬜🟦⬜🟦🟦🟦🟦🟦🟦🟦⬜🟦⬜🟦🟦🟦🟦🟦⬜🟦<br>🟦⬜⬜⬜🟦⬜⬜⬜⬜⬜🟦⬜⬜⬜🟦⬜🟦⬜⬜⬜🟦<br>🟦🟦🟦🟦🟦🟦🟦🟦🟦⬜🟦🟦🟦🟦🟦⬜🟦⬜🟦🟦🟦<br>🟦⬜⬜⬜⬜⬜⬜⬜⬜⬜🟦⬜⬜⬜⬜⬜🟦⬜🟦⬜🟦<br>🟦⬜🟦🟦🟦🟦🟦🟦🟦🟦🟦⬜🟦⬜🟦🟦🟦⬜🟦⬜🟦<br>🟦⬜🟦⬜⬜⬜⬜⬜🟦⬜⬜⬜🟦⬜⬜⬜⬜⬜🟦⬜🟦<br>🟦⬜🟦⬜🟦🟦🟦⬜🟦⬜🟦🟦🟦🟦🟦🟦🟦🟦🟦⬜🟦<br>🟦⬜⬜⬜⬜⬜🟦⬜⬜⬜🔳🔳🔳🔳🔳🔳🔳🔳🔳🟥🟦<br>🟦🟦🟦🟦🟦🟦🟦🟦🟦🟦🟦🟦🟦🟦🟦🟦🟦🟦🟦🟦🟦`;\n",
              "    </script>\n",
              "    "
            ],
            "text/plain": [
              "<IPython.core.display.HTML object>"
            ]
          },
          "metadata": {},
          "output_type": "display_data"
        },
        {
          "data": {
            "text/html": [
              "\n",
              "    <script>\n",
              "    document.getElementById('maze').innerHTML = `🟦🟦🟦🟦🟦🟦🟦🟦🟦🟦🟦🟦🟦🟦🟦🟦🟦🟦🟦🟦🟦<br>🟦🟩🟦⬜⬜⬜⬜⬜⬜⬜⬜⬜🟦⬜⬜⬜⬜⬜⬜⬜🟦<br>🟦⬜🟦⬜🟦🟦🟦🟦🟦🟦🟦⬜🟦⬜🟦🟦🟦🟦🟦⬜🟦<br>🟦⬜⬜⬜🟦⬜⬜⬜⬜⬜🟦⬜⬜⬜🟦⬜🟦⬜⬜⬜🟦<br>🟦🟦🟦🟦🟦🟦🟦🟦🟦⬜🟦🟦🟦🟦🟦⬜🟦⬜🟦🟦🟦<br>🟦⬜⬜⬜⬜⬜⬜⬜⬜⬜🟦⬜⬜⬜⬜⬜🟦⬜🟦⬜🟦<br>🟦⬜🟦🟦🟦🟦🟦🟦🟦🟦🟦⬜🟦⬜🟦🟦🟦⬜🟦⬜🟦<br>🟦⬜🟦⬜⬜⬜⬜⬜🟦⬜⬜⬜🟦⬜⬜⬜⬜⬜🟦⬜🟦<br>🟦⬜🟦⬜🟦🟦🟦⬜🟦⬜🟦🟦🟦🟦🟦🟦🟦🟦🟦⬜🟦<br>🟦⬜⬜⬜⬜⬜🟦⬜⬜🔳🔳🔳🔳🔳🔳🔳🔳🔳🔳🟥🟦<br>🟦🟦🟦🟦🟦🟦🟦🟦🟦🟦🟦🟦🟦🟦🟦🟦🟦🟦🟦🟦🟦`;\n",
              "    </script>\n",
              "    "
            ],
            "text/plain": [
              "<IPython.core.display.HTML object>"
            ]
          },
          "metadata": {},
          "output_type": "display_data"
        },
        {
          "data": {
            "text/html": [
              "\n",
              "    <script>\n",
              "    document.getElementById('maze').innerHTML = `🟦🟦🟦🟦🟦🟦🟦🟦🟦🟦🟦🟦🟦🟦🟦🟦🟦🟦🟦🟦🟦<br>🟦🟩🟦⬜⬜⬜⬜⬜⬜⬜⬜⬜🟦⬜⬜⬜⬜⬜⬜⬜🟦<br>🟦⬜🟦⬜🟦🟦🟦🟦🟦🟦🟦⬜🟦⬜🟦🟦🟦🟦🟦⬜🟦<br>🟦⬜⬜⬜🟦⬜⬜⬜⬜⬜🟦⬜⬜⬜🟦⬜🟦⬜⬜⬜🟦<br>🟦🟦🟦🟦🟦🟦🟦🟦🟦⬜🟦🟦🟦🟦🟦⬜🟦⬜🟦🟦🟦<br>🟦⬜⬜⬜⬜⬜⬜⬜⬜⬜🟦⬜⬜⬜⬜⬜🟦⬜🟦⬜🟦<br>🟦⬜🟦🟦🟦🟦🟦🟦🟦🟦🟦⬜🟦⬜🟦🟦🟦⬜🟦⬜🟦<br>🟦⬜🟦⬜⬜⬜⬜⬜🟦⬜⬜⬜🟦⬜⬜⬜⬜⬜🟦⬜🟦<br>🟦⬜🟦⬜🟦🟦🟦⬜🟦🔳🟦🟦🟦🟦🟦🟦🟦🟦🟦⬜🟦<br>🟦⬜⬜⬜⬜⬜🟦⬜⬜🔳🔳🔳🔳🔳🔳🔳🔳🔳🔳🟥🟦<br>🟦🟦🟦🟦🟦🟦🟦🟦🟦🟦🟦🟦🟦🟦🟦🟦🟦🟦🟦🟦🟦`;\n",
              "    </script>\n",
              "    "
            ],
            "text/plain": [
              "<IPython.core.display.HTML object>"
            ]
          },
          "metadata": {},
          "output_type": "display_data"
        },
        {
          "data": {
            "text/html": [
              "\n",
              "    <script>\n",
              "    document.getElementById('maze').innerHTML = `🟦🟦🟦🟦🟦🟦🟦🟦🟦🟦🟦🟦🟦🟦🟦🟦🟦🟦🟦🟦🟦<br>🟦🟩🟦⬜⬜⬜⬜⬜⬜⬜⬜⬜🟦⬜⬜⬜⬜⬜⬜⬜🟦<br>🟦⬜🟦⬜🟦🟦🟦🟦🟦🟦🟦⬜🟦⬜🟦🟦🟦🟦🟦⬜🟦<br>🟦⬜⬜⬜🟦⬜⬜⬜⬜⬜🟦⬜⬜⬜🟦⬜🟦⬜⬜⬜🟦<br>🟦🟦🟦🟦🟦🟦🟦🟦🟦⬜🟦🟦🟦🟦🟦⬜🟦⬜🟦🟦🟦<br>🟦⬜⬜⬜⬜⬜⬜⬜⬜⬜🟦⬜⬜⬜⬜⬜🟦⬜🟦⬜🟦<br>🟦⬜🟦🟦🟦🟦🟦🟦🟦🟦🟦⬜🟦⬜🟦🟦🟦⬜🟦⬜🟦<br>🟦⬜🟦⬜⬜⬜⬜⬜🟦🔳⬜⬜🟦⬜⬜⬜⬜⬜🟦⬜🟦<br>🟦⬜🟦⬜🟦🟦🟦⬜🟦🔳🟦🟦🟦🟦🟦🟦🟦🟦🟦⬜🟦<br>🟦⬜⬜⬜⬜⬜🟦⬜⬜🔳🔳🔳🔳🔳🔳🔳🔳🔳🔳🟥🟦<br>🟦🟦🟦🟦🟦🟦🟦🟦🟦🟦🟦🟦🟦🟦🟦🟦🟦🟦🟦🟦🟦`;\n",
              "    </script>\n",
              "    "
            ],
            "text/plain": [
              "<IPython.core.display.HTML object>"
            ]
          },
          "metadata": {},
          "output_type": "display_data"
        },
        {
          "data": {
            "text/html": [
              "\n",
              "    <script>\n",
              "    document.getElementById('maze').innerHTML = `🟦🟦🟦🟦🟦🟦🟦🟦🟦🟦🟦🟦🟦🟦🟦🟦🟦🟦🟦🟦🟦<br>🟦🟩🟦⬜⬜⬜⬜⬜⬜⬜⬜⬜🟦⬜⬜⬜⬜⬜⬜⬜🟦<br>🟦⬜🟦⬜🟦🟦🟦🟦🟦🟦🟦⬜🟦⬜🟦🟦🟦🟦🟦⬜🟦<br>🟦⬜⬜⬜🟦⬜⬜⬜⬜⬜🟦⬜⬜⬜🟦⬜🟦⬜⬜⬜🟦<br>🟦🟦🟦🟦🟦🟦🟦🟦🟦⬜🟦🟦🟦🟦🟦⬜🟦⬜🟦🟦🟦<br>🟦⬜⬜⬜⬜⬜⬜⬜⬜⬜🟦⬜⬜⬜⬜⬜🟦⬜🟦⬜🟦<br>🟦⬜🟦🟦🟦🟦🟦🟦🟦🟦🟦⬜🟦⬜🟦🟦🟦⬜🟦⬜🟦<br>🟦⬜🟦⬜⬜⬜⬜⬜🟦🔳🔳⬜🟦⬜⬜⬜⬜⬜🟦⬜🟦<br>🟦⬜🟦⬜🟦🟦🟦⬜🟦🔳🟦🟦🟦🟦🟦🟦🟦🟦🟦⬜🟦<br>🟦⬜⬜⬜⬜⬜🟦⬜⬜🔳🔳🔳🔳🔳🔳🔳🔳🔳🔳🟥🟦<br>🟦🟦🟦🟦🟦🟦🟦🟦🟦🟦🟦🟦🟦🟦🟦🟦🟦🟦🟦🟦🟦`;\n",
              "    </script>\n",
              "    "
            ],
            "text/plain": [
              "<IPython.core.display.HTML object>"
            ]
          },
          "metadata": {},
          "output_type": "display_data"
        },
        {
          "data": {
            "text/html": [
              "\n",
              "    <script>\n",
              "    document.getElementById('maze').innerHTML = `🟦🟦🟦🟦🟦🟦🟦🟦🟦🟦🟦🟦🟦🟦🟦🟦🟦🟦🟦🟦🟦<br>🟦🟩🟦⬜⬜⬜⬜⬜⬜⬜⬜⬜🟦⬜⬜⬜⬜⬜⬜⬜🟦<br>🟦⬜🟦⬜🟦🟦🟦🟦🟦🟦🟦⬜🟦⬜🟦🟦🟦🟦🟦⬜🟦<br>🟦⬜⬜⬜🟦⬜⬜⬜⬜⬜🟦⬜⬜⬜🟦⬜🟦⬜⬜⬜🟦<br>🟦🟦🟦🟦🟦🟦🟦🟦🟦⬜🟦🟦🟦🟦🟦⬜🟦⬜🟦🟦🟦<br>🟦⬜⬜⬜⬜⬜⬜⬜⬜⬜🟦⬜⬜⬜⬜⬜🟦⬜🟦⬜🟦<br>🟦⬜🟦🟦🟦🟦🟦🟦🟦🟦🟦⬜🟦⬜🟦🟦🟦⬜🟦⬜🟦<br>🟦⬜🟦⬜⬜⬜⬜⬜🟦🔳🔳🔳🟦⬜⬜⬜⬜⬜🟦⬜🟦<br>🟦⬜🟦⬜🟦🟦🟦⬜🟦🔳🟦🟦🟦🟦🟦🟦🟦🟦🟦⬜🟦<br>🟦⬜⬜⬜⬜⬜🟦⬜⬜🔳🔳🔳🔳🔳🔳🔳🔳🔳🔳🟥🟦<br>🟦🟦🟦🟦🟦🟦🟦🟦🟦🟦🟦🟦🟦🟦🟦🟦🟦🟦🟦🟦🟦`;\n",
              "    </script>\n",
              "    "
            ],
            "text/plain": [
              "<IPython.core.display.HTML object>"
            ]
          },
          "metadata": {},
          "output_type": "display_data"
        },
        {
          "data": {
            "text/html": [
              "\n",
              "    <script>\n",
              "    document.getElementById('maze').innerHTML = `🟦🟦🟦🟦🟦🟦🟦🟦🟦🟦🟦🟦🟦🟦🟦🟦🟦🟦🟦🟦🟦<br>🟦🟩🟦⬜⬜⬜⬜⬜⬜⬜⬜⬜🟦⬜⬜⬜⬜⬜⬜⬜🟦<br>🟦⬜🟦⬜🟦🟦🟦🟦🟦🟦🟦⬜🟦⬜🟦🟦🟦🟦🟦⬜🟦<br>🟦⬜⬜⬜🟦⬜⬜⬜⬜⬜🟦⬜⬜⬜🟦⬜🟦⬜⬜⬜🟦<br>🟦🟦🟦🟦🟦🟦🟦🟦🟦⬜🟦🟦🟦🟦🟦⬜🟦⬜🟦🟦🟦<br>🟦⬜⬜⬜⬜⬜⬜⬜⬜⬜🟦⬜⬜⬜⬜⬜🟦⬜🟦⬜🟦<br>🟦⬜🟦🟦🟦🟦🟦🟦🟦🟦🟦🔳🟦⬜🟦🟦🟦⬜🟦⬜🟦<br>🟦⬜🟦⬜⬜⬜⬜⬜🟦🔳🔳🔳🟦⬜⬜⬜⬜⬜🟦⬜🟦<br>🟦⬜🟦⬜🟦🟦🟦⬜🟦🔳🟦🟦🟦🟦🟦🟦🟦🟦🟦⬜🟦<br>🟦⬜⬜⬜⬜⬜🟦⬜⬜🔳🔳🔳🔳🔳🔳🔳🔳🔳🔳🟥🟦<br>🟦🟦🟦🟦🟦🟦🟦🟦🟦🟦🟦🟦🟦🟦🟦🟦🟦🟦🟦🟦🟦`;\n",
              "    </script>\n",
              "    "
            ],
            "text/plain": [
              "<IPython.core.display.HTML object>"
            ]
          },
          "metadata": {},
          "output_type": "display_data"
        },
        {
          "data": {
            "text/html": [
              "\n",
              "    <script>\n",
              "    document.getElementById('maze').innerHTML = `🟦🟦🟦🟦🟦🟦🟦🟦🟦🟦🟦🟦🟦🟦🟦🟦🟦🟦🟦🟦🟦<br>🟦🟩🟦⬜⬜⬜⬜⬜⬜⬜⬜⬜🟦⬜⬜⬜⬜⬜⬜⬜🟦<br>🟦⬜🟦⬜🟦🟦🟦🟦🟦🟦🟦⬜🟦⬜🟦🟦🟦🟦🟦⬜🟦<br>🟦⬜⬜⬜🟦⬜⬜⬜⬜⬜🟦⬜⬜⬜🟦⬜🟦⬜⬜⬜🟦<br>🟦🟦🟦🟦🟦🟦🟦🟦🟦⬜🟦🟦🟦🟦🟦⬜🟦⬜🟦🟦🟦<br>🟦⬜⬜⬜⬜⬜⬜⬜⬜⬜🟦🔳⬜⬜⬜⬜🟦⬜🟦⬜🟦<br>🟦⬜🟦🟦🟦🟦🟦🟦🟦🟦🟦🔳🟦⬜🟦🟦🟦⬜🟦⬜🟦<br>🟦⬜🟦⬜⬜⬜⬜⬜🟦🔳🔳🔳🟦⬜⬜⬜⬜⬜🟦⬜🟦<br>🟦⬜🟦⬜🟦🟦🟦⬜🟦🔳🟦🟦🟦🟦🟦🟦🟦🟦🟦⬜🟦<br>🟦⬜⬜⬜⬜⬜🟦⬜⬜🔳🔳🔳🔳🔳🔳🔳🔳🔳🔳🟥🟦<br>🟦🟦🟦🟦🟦🟦🟦🟦🟦🟦🟦🟦🟦🟦🟦🟦🟦🟦🟦🟦🟦`;\n",
              "    </script>\n",
              "    "
            ],
            "text/plain": [
              "<IPython.core.display.HTML object>"
            ]
          },
          "metadata": {},
          "output_type": "display_data"
        },
        {
          "data": {
            "text/html": [
              "\n",
              "    <script>\n",
              "    document.getElementById('maze').innerHTML = `🟦🟦🟦🟦🟦🟦🟦🟦🟦🟦🟦🟦🟦🟦🟦🟦🟦🟦🟦🟦🟦<br>🟦🟩🟦⬜⬜⬜⬜⬜⬜⬜⬜⬜🟦⬜⬜⬜⬜⬜⬜⬜🟦<br>🟦⬜🟦⬜🟦🟦🟦🟦🟦🟦🟦⬜🟦⬜🟦🟦🟦🟦🟦⬜🟦<br>🟦⬜⬜⬜🟦⬜⬜⬜⬜⬜🟦⬜⬜⬜🟦⬜🟦⬜⬜⬜🟦<br>🟦🟦🟦🟦🟦🟦🟦🟦🟦⬜🟦🟦🟦🟦🟦⬜🟦⬜🟦🟦🟦<br>🟦⬜⬜⬜⬜⬜⬜⬜⬜⬜🟦🔳🔳⬜⬜⬜🟦⬜🟦⬜🟦<br>🟦⬜🟦🟦🟦🟦🟦🟦🟦🟦🟦🔳🟦⬜🟦🟦🟦⬜🟦⬜🟦<br>🟦⬜🟦⬜⬜⬜⬜⬜🟦🔳🔳🔳🟦⬜⬜⬜⬜⬜🟦⬜🟦<br>🟦⬜🟦⬜🟦🟦🟦⬜🟦🔳🟦🟦🟦🟦🟦🟦🟦🟦🟦⬜🟦<br>🟦⬜⬜⬜⬜⬜🟦⬜⬜🔳🔳🔳🔳🔳🔳🔳🔳🔳🔳🟥🟦<br>🟦🟦🟦🟦🟦🟦🟦🟦🟦🟦🟦🟦🟦🟦🟦🟦🟦🟦🟦🟦🟦`;\n",
              "    </script>\n",
              "    "
            ],
            "text/plain": [
              "<IPython.core.display.HTML object>"
            ]
          },
          "metadata": {},
          "output_type": "display_data"
        },
        {
          "data": {
            "text/html": [
              "\n",
              "    <script>\n",
              "    document.getElementById('maze').innerHTML = `🟦🟦🟦🟦🟦🟦🟦🟦🟦🟦🟦🟦🟦🟦🟦🟦🟦🟦🟦🟦🟦<br>🟦🟩🟦⬜⬜⬜⬜⬜⬜⬜⬜⬜🟦⬜⬜⬜⬜⬜⬜⬜🟦<br>🟦⬜🟦⬜🟦🟦🟦🟦🟦🟦🟦⬜🟦⬜🟦🟦🟦🟦🟦⬜🟦<br>🟦⬜⬜⬜🟦⬜⬜⬜⬜⬜🟦⬜⬜⬜🟦⬜🟦⬜⬜⬜🟦<br>🟦🟦🟦🟦🟦🟦🟦🟦🟦⬜🟦🟦🟦🟦🟦⬜🟦⬜🟦🟦🟦<br>🟦⬜⬜⬜⬜⬜⬜⬜⬜⬜🟦🔳🔳🔳⬜⬜🟦⬜🟦⬜🟦<br>🟦⬜🟦🟦🟦🟦🟦🟦🟦🟦🟦🔳🟦⬜🟦🟦🟦⬜🟦⬜🟦<br>🟦⬜🟦⬜⬜⬜⬜⬜🟦🔳🔳🔳🟦⬜⬜⬜⬜⬜🟦⬜🟦<br>🟦⬜🟦⬜🟦🟦🟦⬜🟦🔳🟦🟦🟦🟦🟦🟦🟦🟦🟦⬜🟦<br>🟦⬜⬜⬜⬜⬜🟦⬜⬜🔳🔳🔳🔳🔳🔳🔳🔳🔳🔳🟥🟦<br>🟦🟦🟦🟦🟦🟦🟦🟦🟦🟦🟦🟦🟦🟦🟦🟦🟦🟦🟦🟦🟦`;\n",
              "    </script>\n",
              "    "
            ],
            "text/plain": [
              "<IPython.core.display.HTML object>"
            ]
          },
          "metadata": {},
          "output_type": "display_data"
        },
        {
          "data": {
            "text/html": [
              "\n",
              "    <script>\n",
              "    document.getElementById('maze').innerHTML = `🟦🟦🟦🟦🟦🟦🟦🟦🟦🟦🟦🟦🟦🟦🟦🟦🟦🟦🟦🟦🟦<br>🟦🟩🟦⬜⬜⬜⬜⬜⬜⬜⬜⬜🟦⬜⬜⬜⬜⬜⬜⬜🟦<br>🟦⬜🟦⬜🟦🟦🟦🟦🟦🟦🟦⬜🟦⬜🟦🟦🟦🟦🟦⬜🟦<br>🟦⬜⬜⬜🟦⬜⬜⬜⬜⬜🟦⬜⬜⬜🟦⬜🟦⬜⬜⬜🟦<br>🟦🟦🟦🟦🟦🟦🟦🟦🟦⬜🟦🟦🟦🟦🟦⬜🟦⬜🟦🟦🟦<br>🟦⬜⬜⬜⬜⬜⬜⬜⬜⬜🟦🔳🔳🔳⬜⬜🟦⬜🟦⬜🟦<br>🟦⬜🟦🟦🟦🟦🟦🟦🟦🟦🟦🔳🟦🔳🟦🟦🟦⬜🟦⬜🟦<br>🟦⬜🟦⬜⬜⬜⬜⬜🟦🔳🔳🔳🟦⬜⬜⬜⬜⬜🟦⬜🟦<br>🟦⬜🟦⬜🟦🟦🟦⬜🟦🔳🟦🟦🟦🟦🟦🟦🟦🟦🟦⬜🟦<br>🟦⬜⬜⬜⬜⬜🟦⬜⬜🔳🔳🔳🔳🔳🔳🔳🔳🔳🔳🟥🟦<br>🟦🟦🟦🟦🟦🟦🟦🟦🟦🟦🟦🟦🟦🟦🟦🟦🟦🟦🟦🟦🟦`;\n",
              "    </script>\n",
              "    "
            ],
            "text/plain": [
              "<IPython.core.display.HTML object>"
            ]
          },
          "metadata": {},
          "output_type": "display_data"
        },
        {
          "data": {
            "text/html": [
              "\n",
              "    <script>\n",
              "    document.getElementById('maze').innerHTML = `🟦🟦🟦🟦🟦🟦🟦🟦🟦🟦🟦🟦🟦🟦🟦🟦🟦🟦🟦🟦🟦<br>🟦🟩🟦⬜⬜⬜⬜⬜⬜⬜⬜⬜🟦⬜⬜⬜⬜⬜⬜⬜🟦<br>🟦⬜🟦⬜🟦🟦🟦🟦🟦🟦🟦⬜🟦⬜🟦🟦🟦🟦🟦⬜🟦<br>🟦⬜⬜⬜🟦⬜⬜⬜⬜⬜🟦⬜⬜⬜🟦⬜🟦⬜⬜⬜🟦<br>🟦🟦🟦🟦🟦🟦🟦🟦🟦⬜🟦🟦🟦🟦🟦⬜🟦⬜🟦🟦🟦<br>🟦⬜⬜⬜⬜⬜⬜⬜⬜⬜🟦🔳🔳🔳⬜⬜🟦⬜🟦⬜🟦<br>🟦⬜🟦🟦🟦🟦🟦🟦🟦🟦🟦🔳🟦🔳🟦🟦🟦⬜🟦⬜🟦<br>🟦⬜🟦⬜⬜⬜⬜⬜🟦🔳🔳🔳🟦🔳⬜⬜⬜⬜🟦⬜🟦<br>🟦⬜🟦⬜🟦🟦🟦⬜🟦🔳🟦🟦🟦🟦🟦🟦🟦🟦🟦⬜🟦<br>🟦⬜⬜⬜⬜⬜🟦⬜⬜🔳🔳🔳🔳🔳🔳🔳🔳🔳🔳🟥🟦<br>🟦🟦🟦🟦🟦🟦🟦🟦🟦🟦🟦🟦🟦🟦🟦🟦🟦🟦🟦🟦🟦`;\n",
              "    </script>\n",
              "    "
            ],
            "text/plain": [
              "<IPython.core.display.HTML object>"
            ]
          },
          "metadata": {},
          "output_type": "display_data"
        },
        {
          "data": {
            "text/html": [
              "\n",
              "    <script>\n",
              "    document.getElementById('maze').innerHTML = `🟦🟦🟦🟦🟦🟦🟦🟦🟦🟦🟦🟦🟦🟦🟦🟦🟦🟦🟦🟦🟦<br>🟦🟩🟦⬜⬜⬜⬜⬜⬜⬜⬜⬜🟦⬜⬜⬜⬜⬜⬜⬜🟦<br>🟦⬜🟦⬜🟦🟦🟦🟦🟦🟦🟦⬜🟦⬜🟦🟦🟦🟦🟦⬜🟦<br>🟦⬜⬜⬜🟦⬜⬜⬜⬜⬜🟦⬜⬜⬜🟦⬜🟦⬜⬜⬜🟦<br>🟦🟦🟦🟦🟦🟦🟦🟦🟦⬜🟦🟦🟦🟦🟦⬜🟦⬜🟦🟦🟦<br>🟦⬜⬜⬜⬜⬜⬜⬜⬜⬜🟦🔳🔳🔳⬜⬜🟦⬜🟦⬜🟦<br>🟦⬜🟦🟦🟦🟦🟦🟦🟦🟦🟦🔳🟦🔳🟦🟦🟦⬜🟦⬜🟦<br>🟦⬜🟦⬜⬜⬜⬜⬜🟦🔳🔳🔳🟦🔳🔳⬜⬜⬜🟦⬜🟦<br>🟦⬜🟦⬜🟦🟦🟦⬜🟦🔳🟦🟦🟦🟦🟦🟦🟦🟦🟦⬜🟦<br>🟦⬜⬜⬜⬜⬜🟦⬜⬜🔳🔳🔳🔳🔳🔳🔳🔳🔳🔳🟥🟦<br>🟦🟦🟦🟦🟦🟦🟦🟦🟦🟦🟦🟦🟦🟦🟦🟦🟦🟦🟦🟦🟦`;\n",
              "    </script>\n",
              "    "
            ],
            "text/plain": [
              "<IPython.core.display.HTML object>"
            ]
          },
          "metadata": {},
          "output_type": "display_data"
        },
        {
          "data": {
            "text/html": [
              "\n",
              "    <script>\n",
              "    document.getElementById('maze').innerHTML = `🟦🟦🟦🟦🟦🟦🟦🟦🟦🟦🟦🟦🟦🟦🟦🟦🟦🟦🟦🟦🟦<br>🟦🟩🟦⬜⬜⬜⬜⬜⬜⬜⬜⬜🟦⬜⬜⬜⬜⬜⬜⬜🟦<br>🟦⬜🟦⬜🟦🟦🟦🟦🟦🟦🟦⬜🟦⬜🟦🟦🟦🟦🟦⬜🟦<br>🟦⬜⬜⬜🟦⬜⬜⬜⬜⬜🟦⬜⬜⬜🟦⬜🟦⬜⬜⬜🟦<br>🟦🟦🟦🟦🟦🟦🟦🟦🟦⬜🟦🟦🟦🟦🟦⬜🟦⬜🟦🟦🟦<br>🟦⬜⬜⬜⬜⬜⬜⬜⬜⬜🟦🔳🔳🔳⬜⬜🟦⬜🟦⬜🟦<br>🟦⬜🟦🟦🟦🟦🟦🟦🟦🟦🟦🔳🟦🔳🟦🟦🟦⬜🟦⬜🟦<br>🟦⬜🟦⬜⬜⬜⬜⬜🟦🔳🔳🔳🟦🔳🔳🔳⬜⬜🟦⬜🟦<br>🟦⬜🟦⬜🟦🟦🟦⬜🟦🔳🟦🟦🟦🟦🟦🟦🟦🟦🟦⬜🟦<br>🟦⬜⬜⬜⬜⬜🟦⬜⬜🔳🔳🔳🔳🔳🔳🔳🔳🔳🔳🟥🟦<br>🟦🟦🟦🟦🟦🟦🟦🟦🟦🟦🟦🟦🟦🟦🟦🟦🟦🟦🟦🟦🟦`;\n",
              "    </script>\n",
              "    "
            ],
            "text/plain": [
              "<IPython.core.display.HTML object>"
            ]
          },
          "metadata": {},
          "output_type": "display_data"
        },
        {
          "data": {
            "text/html": [
              "\n",
              "    <script>\n",
              "    document.getElementById('maze').innerHTML = `🟦🟦🟦🟦🟦🟦🟦🟦🟦🟦🟦🟦🟦🟦🟦🟦🟦🟦🟦🟦🟦<br>🟦🟩🟦⬜⬜⬜⬜⬜⬜⬜⬜⬜🟦⬜⬜⬜⬜⬜⬜⬜🟦<br>🟦⬜🟦⬜🟦🟦🟦🟦🟦🟦🟦⬜🟦⬜🟦🟦🟦🟦🟦⬜🟦<br>🟦⬜⬜⬜🟦⬜⬜⬜⬜⬜🟦⬜⬜⬜🟦⬜🟦⬜⬜⬜🟦<br>🟦🟦🟦🟦🟦🟦🟦🟦🟦⬜🟦🟦🟦🟦🟦⬜🟦⬜🟦🟦🟦<br>🟦⬜⬜⬜⬜⬜⬜⬜⬜⬜🟦🔳🔳🔳⬜⬜🟦⬜🟦⬜🟦<br>🟦⬜🟦🟦🟦🟦🟦🟦🟦🟦🟦🔳🟦🔳🟦🟦🟦⬜🟦⬜🟦<br>🟦⬜🟦⬜⬜⬜⬜⬜🟦🔳🔳🔳🟦🔳🔳🔳🔳⬜🟦⬜🟦<br>🟦⬜🟦⬜🟦🟦🟦⬜🟦🔳🟦🟦🟦🟦🟦🟦🟦🟦🟦⬜🟦<br>🟦⬜⬜⬜⬜⬜🟦⬜⬜🔳🔳🔳🔳🔳🔳🔳🔳🔳🔳🟥🟦<br>🟦🟦🟦🟦🟦🟦🟦🟦🟦🟦🟦🟦🟦🟦🟦🟦🟦🟦🟦🟦🟦`;\n",
              "    </script>\n",
              "    "
            ],
            "text/plain": [
              "<IPython.core.display.HTML object>"
            ]
          },
          "metadata": {},
          "output_type": "display_data"
        },
        {
          "data": {
            "text/html": [
              "\n",
              "    <script>\n",
              "    document.getElementById('maze').innerHTML = `🟦🟦🟦🟦🟦🟦🟦🟦🟦🟦🟦🟦🟦🟦🟦🟦🟦🟦🟦🟦🟦<br>🟦🟩🟦⬜⬜⬜⬜⬜⬜⬜⬜⬜🟦⬜⬜⬜⬜⬜⬜⬜🟦<br>🟦⬜🟦⬜🟦🟦🟦🟦🟦🟦🟦⬜🟦⬜🟦🟦🟦🟦🟦⬜🟦<br>🟦⬜⬜⬜🟦⬜⬜⬜⬜⬜🟦⬜⬜⬜🟦⬜🟦⬜⬜⬜🟦<br>🟦🟦🟦🟦🟦🟦🟦🟦🟦⬜🟦🟦🟦🟦🟦⬜🟦⬜🟦🟦🟦<br>🟦⬜⬜⬜⬜⬜⬜⬜⬜⬜🟦🔳🔳🔳⬜⬜🟦⬜🟦⬜🟦<br>🟦⬜🟦🟦🟦🟦🟦🟦🟦🟦🟦🔳🟦🔳🟦🟦🟦⬜🟦⬜🟦<br>🟦⬜🟦⬜⬜⬜⬜⬜🟦🔳🔳🔳🟦🔳🔳🔳🔳🔳🟦⬜🟦<br>🟦⬜🟦⬜🟦🟦🟦⬜🟦🔳🟦🟦🟦🟦🟦🟦🟦🟦🟦⬜🟦<br>🟦⬜⬜⬜⬜⬜🟦⬜⬜🔳🔳🔳🔳🔳🔳🔳🔳🔳🔳🟥🟦<br>🟦🟦🟦🟦🟦🟦🟦🟦🟦🟦🟦🟦🟦🟦🟦🟦🟦🟦🟦🟦🟦`;\n",
              "    </script>\n",
              "    "
            ],
            "text/plain": [
              "<IPython.core.display.HTML object>"
            ]
          },
          "metadata": {},
          "output_type": "display_data"
        },
        {
          "data": {
            "text/html": [
              "\n",
              "    <script>\n",
              "    document.getElementById('maze').innerHTML = `🟦🟦🟦🟦🟦🟦🟦🟦🟦🟦🟦🟦🟦🟦🟦🟦🟦🟦🟦🟦🟦<br>🟦🟩🟦⬜⬜⬜⬜⬜⬜⬜⬜⬜🟦⬜⬜⬜⬜⬜⬜⬜🟦<br>🟦⬜🟦⬜🟦🟦🟦🟦🟦🟦🟦⬜🟦⬜🟦🟦🟦🟦🟦⬜🟦<br>🟦⬜⬜⬜🟦⬜⬜⬜⬜⬜🟦⬜⬜⬜🟦⬜🟦⬜⬜⬜🟦<br>🟦🟦🟦🟦🟦🟦🟦🟦🟦⬜🟦🟦🟦🟦🟦⬜🟦⬜🟦🟦🟦<br>🟦⬜⬜⬜⬜⬜⬜⬜⬜⬜🟦🔳🔳🔳⬜⬜🟦⬜🟦⬜🟦<br>🟦⬜🟦🟦🟦🟦🟦🟦🟦🟦🟦🔳🟦🔳🟦🟦🟦🔳🟦⬜🟦<br>🟦⬜🟦⬜⬜⬜⬜⬜🟦🔳🔳🔳🟦🔳🔳🔳🔳🔳🟦⬜🟦<br>🟦⬜🟦⬜🟦🟦🟦⬜🟦🔳🟦🟦🟦🟦🟦🟦🟦🟦🟦⬜🟦<br>🟦⬜⬜⬜⬜⬜🟦⬜⬜🔳🔳🔳🔳🔳🔳🔳🔳🔳🔳🟥🟦<br>🟦🟦🟦🟦🟦🟦🟦🟦🟦🟦🟦🟦🟦🟦🟦🟦🟦🟦🟦🟦🟦`;\n",
              "    </script>\n",
              "    "
            ],
            "text/plain": [
              "<IPython.core.display.HTML object>"
            ]
          },
          "metadata": {},
          "output_type": "display_data"
        },
        {
          "data": {
            "text/html": [
              "\n",
              "    <script>\n",
              "    document.getElementById('maze').innerHTML = `🟦🟦🟦🟦🟦🟦🟦🟦🟦🟦🟦🟦🟦🟦🟦🟦🟦🟦🟦🟦🟦<br>🟦🟩🟦⬜⬜⬜⬜⬜⬜⬜⬜⬜🟦⬜⬜⬜⬜⬜⬜⬜🟦<br>🟦⬜🟦⬜🟦🟦🟦🟦🟦🟦🟦⬜🟦⬜🟦🟦🟦🟦🟦⬜🟦<br>🟦⬜⬜⬜🟦⬜⬜⬜⬜⬜🟦⬜⬜⬜🟦⬜🟦⬜⬜⬜🟦<br>🟦🟦🟦🟦🟦🟦🟦🟦🟦⬜🟦🟦🟦🟦🟦⬜🟦⬜🟦🟦🟦<br>🟦⬜⬜⬜⬜⬜⬜⬜⬜⬜🟦🔳🔳🔳⬜⬜🟦🔳🟦⬜🟦<br>🟦⬜🟦🟦🟦🟦🟦🟦🟦🟦🟦🔳🟦🔳🟦🟦🟦🔳🟦⬜🟦<br>🟦⬜🟦⬜⬜⬜⬜⬜🟦🔳🔳🔳🟦🔳🔳🔳🔳🔳🟦⬜🟦<br>🟦⬜🟦⬜🟦🟦🟦⬜🟦🔳🟦🟦🟦🟦🟦🟦🟦🟦🟦⬜🟦<br>🟦⬜⬜⬜⬜⬜🟦⬜⬜🔳🔳🔳🔳🔳🔳🔳🔳🔳🔳🟥🟦<br>🟦🟦🟦🟦🟦🟦🟦🟦🟦🟦🟦🟦🟦🟦🟦🟦🟦🟦🟦🟦🟦`;\n",
              "    </script>\n",
              "    "
            ],
            "text/plain": [
              "<IPython.core.display.HTML object>"
            ]
          },
          "metadata": {},
          "output_type": "display_data"
        },
        {
          "data": {
            "text/html": [
              "\n",
              "    <script>\n",
              "    document.getElementById('maze').innerHTML = `🟦🟦🟦🟦🟦🟦🟦🟦🟦🟦🟦🟦🟦🟦🟦🟦🟦🟦🟦🟦🟦<br>🟦🟩🟦⬜⬜⬜⬜⬜⬜⬜⬜⬜🟦⬜⬜⬜⬜⬜⬜⬜🟦<br>🟦⬜🟦⬜🟦🟦🟦🟦🟦🟦🟦⬜🟦⬜🟦🟦🟦🟦🟦⬜🟦<br>🟦⬜⬜⬜🟦⬜⬜⬜⬜⬜🟦⬜⬜⬜🟦⬜🟦⬜⬜⬜🟦<br>🟦🟦🟦🟦🟦🟦🟦🟦🟦⬜🟦🟦🟦🟦🟦⬜🟦🔳🟦🟦🟦<br>🟦⬜⬜⬜⬜⬜⬜⬜⬜⬜🟦🔳🔳🔳⬜⬜🟦🔳🟦⬜🟦<br>🟦⬜🟦🟦🟦🟦🟦🟦🟦🟦🟦🔳🟦🔳🟦🟦🟦🔳🟦⬜🟦<br>🟦⬜🟦⬜⬜⬜⬜⬜🟦🔳🔳🔳🟦🔳🔳🔳🔳🔳🟦⬜🟦<br>🟦⬜🟦⬜🟦🟦🟦⬜🟦🔳🟦🟦🟦🟦🟦🟦🟦🟦🟦⬜🟦<br>🟦⬜⬜⬜⬜⬜🟦⬜⬜🔳🔳🔳🔳🔳🔳🔳🔳🔳🔳🟥🟦<br>🟦🟦🟦🟦🟦🟦🟦🟦🟦🟦🟦🟦🟦🟦🟦🟦🟦🟦🟦🟦🟦`;\n",
              "    </script>\n",
              "    "
            ],
            "text/plain": [
              "<IPython.core.display.HTML object>"
            ]
          },
          "metadata": {},
          "output_type": "display_data"
        },
        {
          "data": {
            "text/html": [
              "\n",
              "    <script>\n",
              "    document.getElementById('maze').innerHTML = `🟦🟦🟦🟦🟦🟦🟦🟦🟦🟦🟦🟦🟦🟦🟦🟦🟦🟦🟦🟦🟦<br>🟦🟩🟦⬜⬜⬜⬜⬜⬜⬜⬜⬜🟦⬜⬜⬜⬜⬜⬜⬜🟦<br>🟦⬜🟦⬜🟦🟦🟦🟦🟦🟦🟦⬜🟦⬜🟦🟦🟦🟦🟦⬜🟦<br>🟦⬜⬜⬜🟦⬜⬜⬜⬜⬜🟦⬜⬜⬜🟦⬜🟦🔳⬜⬜🟦<br>🟦🟦🟦🟦🟦🟦🟦🟦🟦⬜🟦🟦🟦🟦🟦⬜🟦🔳🟦🟦🟦<br>🟦⬜⬜⬜⬜⬜⬜⬜⬜⬜🟦🔳🔳🔳⬜⬜🟦🔳🟦⬜🟦<br>🟦⬜🟦🟦🟦🟦🟦🟦🟦🟦🟦🔳🟦🔳🟦🟦🟦🔳🟦⬜🟦<br>🟦⬜🟦⬜⬜⬜⬜⬜🟦🔳🔳🔳🟦🔳🔳🔳🔳🔳🟦⬜🟦<br>🟦⬜🟦⬜🟦🟦🟦⬜🟦🔳🟦🟦🟦🟦🟦🟦🟦🟦🟦⬜🟦<br>🟦⬜⬜⬜⬜⬜🟦⬜⬜🔳🔳🔳🔳🔳🔳🔳🔳🔳🔳🟥🟦<br>🟦🟦🟦🟦🟦🟦🟦🟦🟦🟦🟦🟦🟦🟦🟦🟦🟦🟦🟦🟦🟦`;\n",
              "    </script>\n",
              "    "
            ],
            "text/plain": [
              "<IPython.core.display.HTML object>"
            ]
          },
          "metadata": {},
          "output_type": "display_data"
        },
        {
          "data": {
            "text/html": [
              "\n",
              "    <script>\n",
              "    document.getElementById('maze').innerHTML = `🟦🟦🟦🟦🟦🟦🟦🟦🟦🟦🟦🟦🟦🟦🟦🟦🟦🟦🟦🟦🟦<br>🟦🟩🟦⬜⬜⬜⬜⬜⬜⬜⬜⬜🟦⬜⬜⬜⬜⬜⬜⬜🟦<br>🟦⬜🟦⬜🟦🟦🟦🟦🟦🟦🟦⬜🟦⬜🟦🟦🟦🟦🟦⬜🟦<br>🟦⬜⬜⬜🟦⬜⬜⬜⬜⬜🟦⬜⬜⬜🟦⬜🟦🔳🔳⬜🟦<br>🟦🟦🟦🟦🟦🟦🟦🟦🟦⬜🟦🟦🟦🟦🟦⬜🟦🔳🟦🟦🟦<br>🟦⬜⬜⬜⬜⬜⬜⬜⬜⬜🟦🔳🔳🔳⬜⬜🟦🔳🟦⬜🟦<br>🟦⬜🟦🟦🟦🟦🟦🟦🟦🟦🟦🔳🟦🔳🟦🟦🟦🔳🟦⬜🟦<br>🟦⬜🟦⬜⬜⬜⬜⬜🟦🔳🔳🔳🟦🔳🔳🔳🔳🔳🟦⬜🟦<br>🟦⬜🟦⬜🟦🟦🟦⬜🟦🔳🟦🟦🟦🟦🟦🟦🟦🟦🟦⬜🟦<br>🟦⬜⬜⬜⬜⬜🟦⬜⬜🔳🔳🔳🔳🔳🔳🔳🔳🔳🔳🟥🟦<br>🟦🟦🟦🟦🟦🟦🟦🟦🟦🟦🟦🟦🟦🟦🟦🟦🟦🟦🟦🟦🟦`;\n",
              "    </script>\n",
              "    "
            ],
            "text/plain": [
              "<IPython.core.display.HTML object>"
            ]
          },
          "metadata": {},
          "output_type": "display_data"
        },
        {
          "data": {
            "text/html": [
              "\n",
              "    <script>\n",
              "    document.getElementById('maze').innerHTML = `🟦🟦🟦🟦🟦🟦🟦🟦🟦🟦🟦🟦🟦🟦🟦🟦🟦🟦🟦🟦🟦<br>🟦🟩🟦⬜⬜⬜⬜⬜⬜⬜⬜⬜🟦⬜⬜⬜⬜⬜⬜⬜🟦<br>🟦⬜🟦⬜🟦🟦🟦🟦🟦🟦🟦⬜🟦⬜🟦🟦🟦🟦🟦⬜🟦<br>🟦⬜⬜⬜🟦⬜⬜⬜⬜⬜🟦⬜⬜⬜🟦⬜🟦🔳🔳🔳🟦<br>🟦🟦🟦🟦🟦🟦🟦🟦🟦⬜🟦🟦🟦🟦🟦⬜🟦🔳🟦🟦🟦<br>🟦⬜⬜⬜⬜⬜⬜⬜⬜⬜🟦🔳🔳🔳⬜⬜🟦🔳🟦⬜🟦<br>🟦⬜🟦🟦🟦🟦🟦🟦🟦🟦🟦🔳🟦🔳🟦🟦🟦🔳🟦⬜🟦<br>🟦⬜🟦⬜⬜⬜⬜⬜🟦🔳🔳🔳🟦🔳🔳🔳🔳🔳🟦⬜🟦<br>🟦⬜🟦⬜🟦🟦🟦⬜🟦🔳🟦🟦🟦🟦🟦🟦🟦🟦🟦⬜🟦<br>🟦⬜⬜⬜⬜⬜🟦⬜⬜🔳🔳🔳🔳🔳🔳🔳🔳🔳🔳🟥🟦<br>🟦🟦🟦🟦🟦🟦🟦🟦🟦🟦🟦🟦🟦🟦🟦🟦🟦🟦🟦🟦🟦`;\n",
              "    </script>\n",
              "    "
            ],
            "text/plain": [
              "<IPython.core.display.HTML object>"
            ]
          },
          "metadata": {},
          "output_type": "display_data"
        },
        {
          "data": {
            "text/html": [
              "\n",
              "    <script>\n",
              "    document.getElementById('maze').innerHTML = `🟦🟦🟦🟦🟦🟦🟦🟦🟦🟦🟦🟦🟦🟦🟦🟦🟦🟦🟦🟦🟦<br>🟦🟩🟦⬜⬜⬜⬜⬜⬜⬜⬜⬜🟦⬜⬜⬜⬜⬜⬜⬜🟦<br>🟦⬜🟦⬜🟦🟦🟦🟦🟦🟦🟦⬜🟦⬜🟦🟦🟦🟦🟦🔳🟦<br>🟦⬜⬜⬜🟦⬜⬜⬜⬜⬜🟦⬜⬜⬜🟦⬜🟦🔳🔳🔳🟦<br>🟦🟦🟦🟦🟦🟦🟦🟦🟦⬜🟦🟦🟦🟦🟦⬜🟦🔳🟦🟦🟦<br>🟦⬜⬜⬜⬜⬜⬜⬜⬜⬜🟦🔳🔳🔳⬜⬜🟦🔳🟦⬜🟦<br>🟦⬜🟦🟦🟦🟦🟦🟦🟦🟦🟦🔳🟦🔳🟦🟦🟦🔳🟦⬜🟦<br>🟦⬜🟦⬜⬜⬜⬜⬜🟦🔳🔳🔳🟦🔳🔳🔳🔳🔳🟦⬜🟦<br>🟦⬜🟦⬜🟦🟦🟦⬜🟦🔳🟦🟦🟦🟦🟦🟦🟦🟦🟦⬜🟦<br>🟦⬜⬜⬜⬜⬜🟦⬜⬜🔳🔳🔳🔳🔳🔳🔳🔳🔳🔳🟥🟦<br>🟦🟦🟦🟦🟦🟦🟦🟦🟦🟦🟦🟦🟦🟦🟦🟦🟦🟦🟦🟦🟦`;\n",
              "    </script>\n",
              "    "
            ],
            "text/plain": [
              "<IPython.core.display.HTML object>"
            ]
          },
          "metadata": {},
          "output_type": "display_data"
        },
        {
          "data": {
            "text/html": [
              "\n",
              "    <script>\n",
              "    document.getElementById('maze').innerHTML = `🟦🟦🟦🟦🟦🟦🟦🟦🟦🟦🟦🟦🟦🟦🟦🟦🟦🟦🟦🟦🟦<br>🟦🟩🟦⬜⬜⬜⬜⬜⬜⬜⬜⬜🟦⬜⬜⬜⬜⬜⬜🔳🟦<br>🟦⬜🟦⬜🟦🟦🟦🟦🟦🟦🟦⬜🟦⬜🟦🟦🟦🟦🟦🔳🟦<br>🟦⬜⬜⬜🟦⬜⬜⬜⬜⬜🟦⬜⬜⬜🟦⬜🟦🔳🔳🔳🟦<br>🟦🟦🟦🟦🟦🟦🟦🟦🟦⬜🟦🟦🟦🟦🟦⬜🟦🔳🟦🟦🟦<br>🟦⬜⬜⬜⬜⬜⬜⬜⬜⬜🟦🔳🔳🔳⬜⬜🟦🔳🟦⬜🟦<br>🟦⬜🟦🟦🟦🟦🟦🟦🟦🟦🟦🔳🟦🔳🟦🟦🟦🔳🟦⬜🟦<br>🟦⬜🟦⬜⬜⬜⬜⬜🟦🔳🔳🔳🟦🔳🔳🔳🔳🔳🟦⬜🟦<br>🟦⬜🟦⬜🟦🟦🟦⬜🟦🔳🟦🟦🟦🟦🟦🟦🟦🟦🟦⬜🟦<br>🟦⬜⬜⬜⬜⬜🟦⬜⬜🔳🔳🔳🔳🔳🔳🔳🔳🔳🔳🟥🟦<br>🟦🟦🟦🟦🟦🟦🟦🟦🟦🟦🟦🟦🟦🟦🟦🟦🟦🟦🟦🟦🟦`;\n",
              "    </script>\n",
              "    "
            ],
            "text/plain": [
              "<IPython.core.display.HTML object>"
            ]
          },
          "metadata": {},
          "output_type": "display_data"
        },
        {
          "data": {
            "text/html": [
              "\n",
              "    <script>\n",
              "    document.getElementById('maze').innerHTML = `🟦🟦🟦🟦🟦🟦🟦🟦🟦🟦🟦🟦🟦🟦🟦🟦🟦🟦🟦🟦🟦<br>🟦🟩🟦⬜⬜⬜⬜⬜⬜⬜⬜⬜🟦⬜⬜⬜⬜⬜🔳🔳🟦<br>🟦⬜🟦⬜🟦🟦🟦🟦🟦🟦🟦⬜🟦⬜🟦🟦🟦🟦🟦🔳🟦<br>🟦⬜⬜⬜🟦⬜⬜⬜⬜⬜🟦⬜⬜⬜🟦⬜🟦🔳🔳🔳🟦<br>🟦🟦🟦🟦🟦🟦🟦🟦🟦⬜🟦🟦🟦🟦🟦⬜🟦🔳🟦🟦🟦<br>🟦⬜⬜⬜⬜⬜⬜⬜⬜⬜🟦🔳🔳🔳⬜⬜🟦🔳🟦⬜🟦<br>🟦⬜🟦🟦🟦🟦🟦🟦🟦🟦🟦🔳🟦🔳🟦🟦🟦🔳🟦⬜🟦<br>🟦⬜🟦⬜⬜⬜⬜⬜🟦🔳🔳🔳🟦🔳🔳🔳🔳🔳🟦⬜🟦<br>🟦⬜🟦⬜🟦🟦🟦⬜🟦🔳🟦🟦🟦🟦🟦🟦🟦🟦🟦⬜🟦<br>🟦⬜⬜⬜⬜⬜🟦⬜⬜🔳🔳🔳🔳🔳🔳🔳🔳🔳🔳🟥🟦<br>🟦🟦🟦🟦🟦🟦🟦🟦🟦🟦🟦🟦🟦🟦🟦🟦🟦🟦🟦🟦🟦`;\n",
              "    </script>\n",
              "    "
            ],
            "text/plain": [
              "<IPython.core.display.HTML object>"
            ]
          },
          "metadata": {},
          "output_type": "display_data"
        },
        {
          "data": {
            "text/html": [
              "\n",
              "    <script>\n",
              "    document.getElementById('maze').innerHTML = `🟦🟦🟦🟦🟦🟦🟦🟦🟦🟦🟦🟦🟦🟦🟦🟦🟦🟦🟦🟦🟦<br>🟦🟩🟦⬜⬜⬜⬜⬜⬜⬜⬜⬜🟦⬜⬜⬜⬜🔳🔳🔳🟦<br>🟦⬜🟦⬜🟦🟦🟦🟦🟦🟦🟦⬜🟦⬜🟦🟦🟦🟦🟦🔳🟦<br>🟦⬜⬜⬜🟦⬜⬜⬜⬜⬜🟦⬜⬜⬜🟦⬜🟦🔳🔳🔳🟦<br>🟦🟦🟦🟦🟦🟦🟦🟦🟦⬜🟦🟦🟦🟦🟦⬜🟦🔳🟦🟦🟦<br>🟦⬜⬜⬜⬜⬜⬜⬜⬜⬜🟦🔳🔳🔳⬜⬜🟦🔳🟦⬜🟦<br>🟦⬜🟦🟦🟦🟦🟦🟦🟦🟦🟦🔳🟦🔳🟦🟦🟦🔳🟦⬜🟦<br>🟦⬜🟦⬜⬜⬜⬜⬜🟦🔳🔳🔳🟦🔳🔳🔳🔳🔳🟦⬜🟦<br>🟦⬜🟦⬜🟦🟦🟦⬜🟦🔳🟦🟦🟦🟦🟦🟦🟦🟦🟦⬜🟦<br>🟦⬜⬜⬜⬜⬜🟦⬜⬜🔳🔳🔳🔳🔳🔳🔳🔳🔳🔳🟥🟦<br>🟦🟦🟦🟦🟦🟦🟦🟦🟦🟦🟦🟦🟦🟦🟦🟦🟦🟦🟦🟦🟦`;\n",
              "    </script>\n",
              "    "
            ],
            "text/plain": [
              "<IPython.core.display.HTML object>"
            ]
          },
          "metadata": {},
          "output_type": "display_data"
        },
        {
          "data": {
            "text/html": [
              "\n",
              "    <script>\n",
              "    document.getElementById('maze').innerHTML = `🟦🟦🟦🟦🟦🟦🟦🟦🟦🟦🟦🟦🟦🟦🟦🟦🟦🟦🟦🟦🟦<br>🟦🟩🟦⬜⬜⬜⬜⬜⬜⬜⬜⬜🟦⬜⬜⬜🔳🔳🔳🔳🟦<br>🟦⬜🟦⬜🟦🟦🟦🟦🟦🟦🟦⬜🟦⬜🟦🟦🟦🟦🟦🔳🟦<br>🟦⬜⬜⬜🟦⬜⬜⬜⬜⬜🟦⬜⬜⬜🟦⬜🟦🔳🔳🔳🟦<br>🟦🟦🟦🟦🟦🟦🟦🟦🟦⬜🟦🟦🟦🟦🟦⬜🟦🔳🟦🟦🟦<br>🟦⬜⬜⬜⬜⬜⬜⬜⬜⬜🟦🔳🔳🔳⬜⬜🟦🔳🟦⬜🟦<br>🟦⬜🟦🟦🟦🟦🟦🟦🟦🟦🟦🔳🟦🔳🟦🟦🟦🔳🟦⬜🟦<br>🟦⬜🟦⬜⬜⬜⬜⬜🟦🔳🔳🔳🟦🔳🔳🔳🔳🔳🟦⬜🟦<br>🟦⬜🟦⬜🟦🟦🟦⬜🟦🔳🟦🟦🟦🟦🟦🟦🟦🟦🟦⬜🟦<br>🟦⬜⬜⬜⬜⬜🟦⬜⬜🔳🔳🔳🔳🔳🔳🔳🔳🔳🔳🟥🟦<br>🟦🟦🟦🟦🟦🟦🟦🟦🟦🟦🟦🟦🟦🟦🟦🟦🟦🟦🟦🟦🟦`;\n",
              "    </script>\n",
              "    "
            ],
            "text/plain": [
              "<IPython.core.display.HTML object>"
            ]
          },
          "metadata": {},
          "output_type": "display_data"
        },
        {
          "data": {
            "text/html": [
              "\n",
              "    <script>\n",
              "    document.getElementById('maze').innerHTML = `🟦🟦🟦🟦🟦🟦🟦🟦🟦🟦🟦🟦🟦🟦🟦🟦🟦🟦🟦🟦🟦<br>🟦🟩🟦⬜⬜⬜⬜⬜⬜⬜⬜⬜🟦⬜⬜🔳🔳🔳🔳🔳🟦<br>🟦⬜🟦⬜🟦🟦🟦🟦🟦🟦🟦⬜🟦⬜🟦🟦🟦🟦🟦🔳🟦<br>🟦⬜⬜⬜🟦⬜⬜⬜⬜⬜🟦⬜⬜⬜🟦⬜🟦🔳🔳🔳🟦<br>🟦🟦🟦🟦🟦🟦🟦🟦🟦⬜🟦🟦🟦🟦🟦⬜🟦🔳🟦🟦🟦<br>🟦⬜⬜⬜⬜⬜⬜⬜⬜⬜🟦🔳🔳🔳⬜⬜🟦🔳🟦⬜🟦<br>🟦⬜🟦🟦🟦🟦🟦🟦🟦🟦🟦🔳🟦🔳🟦🟦🟦🔳🟦⬜🟦<br>🟦⬜🟦⬜⬜⬜⬜⬜🟦🔳🔳🔳🟦🔳🔳🔳🔳🔳🟦⬜🟦<br>🟦⬜🟦⬜🟦🟦🟦⬜🟦🔳🟦🟦🟦🟦🟦🟦🟦🟦🟦⬜🟦<br>🟦⬜⬜⬜⬜⬜🟦⬜⬜🔳🔳🔳🔳🔳🔳🔳🔳🔳🔳🟥🟦<br>🟦🟦🟦🟦🟦🟦🟦🟦🟦🟦🟦🟦🟦🟦🟦🟦🟦🟦🟦🟦🟦`;\n",
              "    </script>\n",
              "    "
            ],
            "text/plain": [
              "<IPython.core.display.HTML object>"
            ]
          },
          "metadata": {},
          "output_type": "display_data"
        },
        {
          "data": {
            "text/html": [
              "\n",
              "    <script>\n",
              "    document.getElementById('maze').innerHTML = `🟦🟦🟦🟦🟦🟦🟦🟦🟦🟦🟦🟦🟦🟦🟦🟦🟦🟦🟦🟦🟦<br>🟦🟩🟦⬜⬜⬜⬜⬜⬜⬜⬜⬜🟦⬜🔳🔳🔳🔳🔳🔳🟦<br>🟦⬜🟦⬜🟦🟦🟦🟦🟦🟦🟦⬜🟦⬜🟦🟦🟦🟦🟦🔳🟦<br>🟦⬜⬜⬜🟦⬜⬜⬜⬜⬜🟦⬜⬜⬜🟦⬜🟦🔳🔳🔳🟦<br>🟦🟦🟦🟦🟦🟦🟦🟦🟦⬜🟦🟦🟦🟦🟦⬜🟦🔳🟦🟦🟦<br>🟦⬜⬜⬜⬜⬜⬜⬜⬜⬜🟦🔳🔳🔳⬜⬜🟦🔳🟦⬜🟦<br>🟦⬜🟦🟦🟦🟦🟦🟦🟦🟦🟦🔳🟦🔳🟦🟦🟦🔳🟦⬜🟦<br>🟦⬜🟦⬜⬜⬜⬜⬜🟦🔳🔳🔳🟦🔳🔳🔳🔳🔳🟦⬜🟦<br>🟦⬜🟦⬜🟦🟦🟦⬜🟦🔳🟦🟦🟦🟦🟦🟦🟦🟦🟦⬜🟦<br>🟦⬜⬜⬜⬜⬜🟦⬜⬜🔳🔳🔳🔳🔳🔳🔳🔳🔳🔳🟥🟦<br>🟦🟦🟦🟦🟦🟦🟦🟦🟦🟦🟦🟦🟦🟦🟦🟦🟦🟦🟦🟦🟦`;\n",
              "    </script>\n",
              "    "
            ],
            "text/plain": [
              "<IPython.core.display.HTML object>"
            ]
          },
          "metadata": {},
          "output_type": "display_data"
        },
        {
          "data": {
            "text/html": [
              "\n",
              "    <script>\n",
              "    document.getElementById('maze').innerHTML = `🟦🟦🟦🟦🟦🟦🟦🟦🟦🟦🟦🟦🟦🟦🟦🟦🟦🟦🟦🟦🟦<br>🟦🟩🟦⬜⬜⬜⬜⬜⬜⬜⬜⬜🟦🔳🔳🔳🔳🔳🔳🔳🟦<br>🟦⬜🟦⬜🟦🟦🟦🟦🟦🟦🟦⬜🟦⬜🟦🟦🟦🟦🟦🔳🟦<br>🟦⬜⬜⬜🟦⬜⬜⬜⬜⬜🟦⬜⬜⬜🟦⬜🟦🔳🔳🔳🟦<br>🟦🟦🟦🟦🟦🟦🟦🟦🟦⬜🟦🟦🟦🟦🟦⬜🟦🔳🟦🟦🟦<br>🟦⬜⬜⬜⬜⬜⬜⬜⬜⬜🟦🔳🔳🔳⬜⬜🟦🔳🟦⬜🟦<br>🟦⬜🟦🟦🟦🟦🟦🟦🟦🟦🟦🔳🟦🔳🟦🟦🟦🔳🟦⬜🟦<br>🟦⬜🟦⬜⬜⬜⬜⬜🟦🔳🔳🔳🟦🔳🔳🔳🔳🔳🟦⬜🟦<br>🟦⬜🟦⬜🟦🟦🟦⬜🟦🔳🟦🟦🟦🟦🟦🟦🟦🟦🟦⬜🟦<br>🟦⬜⬜⬜⬜⬜🟦⬜⬜🔳🔳🔳🔳🔳🔳🔳🔳🔳🔳🟥🟦<br>🟦🟦🟦🟦🟦🟦🟦🟦🟦🟦🟦🟦🟦🟦🟦🟦🟦🟦🟦🟦🟦`;\n",
              "    </script>\n",
              "    "
            ],
            "text/plain": [
              "<IPython.core.display.HTML object>"
            ]
          },
          "metadata": {},
          "output_type": "display_data"
        },
        {
          "data": {
            "text/html": [
              "\n",
              "    <script>\n",
              "    document.getElementById('maze').innerHTML = `🟦🟦🟦🟦🟦🟦🟦🟦🟦🟦🟦🟦🟦🟦🟦🟦🟦🟦🟦🟦🟦<br>🟦🟩🟦⬜⬜⬜⬜⬜⬜⬜⬜⬜🟦🔳🔳🔳🔳🔳🔳🔳🟦<br>🟦⬜🟦⬜🟦🟦🟦🟦🟦🟦🟦⬜🟦🔳🟦🟦🟦🟦🟦🔳🟦<br>🟦⬜⬜⬜🟦⬜⬜⬜⬜⬜🟦⬜⬜⬜🟦⬜🟦🔳🔳🔳🟦<br>🟦🟦🟦🟦🟦🟦🟦🟦🟦⬜🟦🟦🟦🟦🟦⬜🟦🔳🟦🟦🟦<br>🟦⬜⬜⬜⬜⬜⬜⬜⬜⬜🟦🔳🔳🔳⬜⬜🟦🔳🟦⬜🟦<br>🟦⬜🟦🟦🟦🟦🟦🟦🟦🟦🟦🔳🟦🔳🟦🟦🟦🔳🟦⬜🟦<br>🟦⬜🟦⬜⬜⬜⬜⬜🟦🔳🔳🔳🟦🔳🔳🔳🔳🔳🟦⬜🟦<br>🟦⬜🟦⬜🟦🟦🟦⬜🟦🔳🟦🟦🟦🟦🟦🟦🟦🟦🟦⬜🟦<br>🟦⬜⬜⬜⬜⬜🟦⬜⬜🔳🔳🔳🔳🔳🔳🔳🔳🔳🔳🟥🟦<br>🟦🟦🟦🟦🟦🟦🟦🟦🟦🟦🟦🟦🟦🟦🟦🟦🟦🟦🟦🟦🟦`;\n",
              "    </script>\n",
              "    "
            ],
            "text/plain": [
              "<IPython.core.display.HTML object>"
            ]
          },
          "metadata": {},
          "output_type": "display_data"
        },
        {
          "data": {
            "text/html": [
              "\n",
              "    <script>\n",
              "    document.getElementById('maze').innerHTML = `🟦🟦🟦🟦🟦🟦🟦🟦🟦🟦🟦🟦🟦🟦🟦🟦🟦🟦🟦🟦🟦<br>🟦🟩🟦⬜⬜⬜⬜⬜⬜⬜⬜⬜🟦🔳🔳🔳🔳🔳🔳🔳🟦<br>🟦⬜🟦⬜🟦🟦🟦🟦🟦🟦🟦⬜🟦🔳🟦🟦🟦🟦🟦🔳🟦<br>🟦⬜⬜⬜🟦⬜⬜⬜⬜⬜🟦⬜⬜🔳🟦⬜🟦🔳🔳🔳🟦<br>🟦🟦🟦🟦🟦🟦🟦🟦🟦⬜🟦🟦🟦🟦🟦⬜🟦🔳🟦🟦🟦<br>🟦⬜⬜⬜⬜⬜⬜⬜⬜⬜🟦🔳🔳🔳⬜⬜🟦🔳🟦⬜🟦<br>🟦⬜🟦🟦🟦🟦🟦🟦🟦🟦🟦🔳🟦🔳🟦🟦🟦🔳🟦⬜🟦<br>🟦⬜🟦⬜⬜⬜⬜⬜🟦🔳🔳🔳🟦🔳🔳🔳🔳🔳🟦⬜🟦<br>🟦⬜🟦⬜🟦🟦🟦⬜🟦🔳🟦🟦🟦🟦🟦🟦🟦🟦🟦⬜🟦<br>🟦⬜⬜⬜⬜⬜🟦⬜⬜🔳🔳🔳🔳🔳🔳🔳🔳🔳🔳🟥🟦<br>🟦🟦🟦🟦🟦🟦🟦🟦🟦🟦🟦🟦🟦🟦🟦🟦🟦🟦🟦🟦🟦`;\n",
              "    </script>\n",
              "    "
            ],
            "text/plain": [
              "<IPython.core.display.HTML object>"
            ]
          },
          "metadata": {},
          "output_type": "display_data"
        },
        {
          "data": {
            "text/html": [
              "\n",
              "    <script>\n",
              "    document.getElementById('maze').innerHTML = `🟦🟦🟦🟦🟦🟦🟦🟦🟦🟦🟦🟦🟦🟦🟦🟦🟦🟦🟦🟦🟦<br>🟦🟩🟦⬜⬜⬜⬜⬜⬜⬜⬜⬜🟦🔳🔳🔳🔳🔳🔳🔳🟦<br>🟦⬜🟦⬜🟦🟦🟦🟦🟦🟦🟦⬜🟦🔳🟦🟦🟦🟦🟦🔳🟦<br>🟦⬜⬜⬜🟦⬜⬜⬜⬜⬜🟦⬜🔳🔳🟦⬜🟦🔳🔳🔳🟦<br>🟦🟦🟦🟦🟦🟦🟦🟦🟦⬜🟦🟦🟦🟦🟦⬜🟦🔳🟦🟦🟦<br>🟦⬜⬜⬜⬜⬜⬜⬜⬜⬜🟦🔳🔳🔳⬜⬜🟦🔳🟦⬜🟦<br>🟦⬜🟦🟦🟦🟦🟦🟦🟦🟦🟦🔳🟦🔳🟦🟦🟦🔳🟦⬜🟦<br>🟦⬜🟦⬜⬜⬜⬜⬜🟦🔳🔳🔳🟦🔳🔳🔳🔳🔳🟦⬜🟦<br>🟦⬜🟦⬜🟦🟦🟦⬜🟦🔳🟦🟦🟦🟦🟦🟦🟦🟦🟦⬜🟦<br>🟦⬜⬜⬜⬜⬜🟦⬜⬜🔳🔳🔳🔳🔳🔳🔳🔳🔳🔳🟥🟦<br>🟦🟦🟦🟦🟦🟦🟦🟦🟦🟦🟦🟦🟦🟦🟦🟦🟦🟦🟦🟦🟦`;\n",
              "    </script>\n",
              "    "
            ],
            "text/plain": [
              "<IPython.core.display.HTML object>"
            ]
          },
          "metadata": {},
          "output_type": "display_data"
        },
        {
          "data": {
            "text/html": [
              "\n",
              "    <script>\n",
              "    document.getElementById('maze').innerHTML = `🟦🟦🟦🟦🟦🟦🟦🟦🟦🟦🟦🟦🟦🟦🟦🟦🟦🟦🟦🟦🟦<br>🟦🟩🟦⬜⬜⬜⬜⬜⬜⬜⬜⬜🟦🔳🔳🔳🔳🔳🔳🔳🟦<br>🟦⬜🟦⬜🟦🟦🟦🟦🟦🟦🟦⬜🟦🔳🟦🟦🟦🟦🟦🔳🟦<br>🟦⬜⬜⬜🟦⬜⬜⬜⬜⬜🟦🔳🔳🔳🟦⬜🟦🔳🔳🔳🟦<br>🟦🟦🟦🟦🟦🟦🟦🟦🟦⬜🟦🟦🟦🟦🟦⬜🟦🔳🟦🟦🟦<br>🟦⬜⬜⬜⬜⬜⬜⬜⬜⬜🟦🔳🔳🔳⬜⬜🟦🔳🟦⬜🟦<br>🟦⬜🟦🟦🟦🟦🟦🟦🟦🟦🟦🔳🟦🔳🟦🟦🟦🔳🟦⬜🟦<br>🟦⬜🟦⬜⬜⬜⬜⬜🟦🔳🔳🔳🟦🔳🔳🔳🔳🔳🟦⬜🟦<br>🟦⬜🟦⬜🟦🟦🟦⬜🟦🔳🟦🟦🟦🟦🟦🟦🟦🟦🟦⬜🟦<br>🟦⬜⬜⬜⬜⬜🟦⬜⬜🔳🔳🔳🔳🔳🔳🔳🔳🔳🔳🟥🟦<br>🟦🟦🟦🟦🟦🟦🟦🟦🟦🟦🟦🟦🟦🟦🟦🟦🟦🟦🟦🟦🟦`;\n",
              "    </script>\n",
              "    "
            ],
            "text/plain": [
              "<IPython.core.display.HTML object>"
            ]
          },
          "metadata": {},
          "output_type": "display_data"
        },
        {
          "data": {
            "text/html": [
              "\n",
              "    <script>\n",
              "    document.getElementById('maze').innerHTML = `🟦🟦🟦🟦🟦🟦🟦🟦🟦🟦🟦🟦🟦🟦🟦🟦🟦🟦🟦🟦🟦<br>🟦🟩🟦⬜⬜⬜⬜⬜⬜⬜⬜⬜🟦🔳🔳🔳🔳🔳🔳🔳🟦<br>🟦⬜🟦⬜🟦🟦🟦🟦🟦🟦🟦🔳🟦🔳🟦🟦🟦🟦🟦🔳🟦<br>🟦⬜⬜⬜🟦⬜⬜⬜⬜⬜🟦🔳🔳🔳🟦⬜🟦🔳🔳🔳🟦<br>🟦🟦🟦🟦🟦🟦🟦🟦🟦⬜🟦🟦🟦🟦🟦⬜🟦🔳🟦🟦🟦<br>🟦⬜⬜⬜⬜⬜⬜⬜⬜⬜🟦🔳🔳🔳⬜⬜🟦🔳🟦⬜🟦<br>🟦⬜🟦🟦🟦🟦🟦🟦🟦🟦🟦🔳🟦🔳🟦🟦🟦🔳🟦⬜🟦<br>🟦⬜🟦⬜⬜⬜⬜⬜🟦🔳🔳🔳🟦🔳🔳🔳🔳🔳🟦⬜🟦<br>🟦⬜🟦⬜🟦🟦🟦⬜🟦🔳🟦🟦🟦🟦🟦🟦🟦🟦🟦⬜🟦<br>🟦⬜⬜⬜⬜⬜🟦⬜⬜🔳🔳🔳🔳🔳🔳🔳🔳🔳🔳🟥🟦<br>🟦🟦🟦🟦🟦🟦🟦🟦🟦🟦🟦🟦🟦🟦🟦🟦🟦🟦🟦🟦🟦`;\n",
              "    </script>\n",
              "    "
            ],
            "text/plain": [
              "<IPython.core.display.HTML object>"
            ]
          },
          "metadata": {},
          "output_type": "display_data"
        },
        {
          "data": {
            "text/html": [
              "\n",
              "    <script>\n",
              "    document.getElementById('maze').innerHTML = `🟦🟦🟦🟦🟦🟦🟦🟦🟦🟦🟦🟦🟦🟦🟦🟦🟦🟦🟦🟦🟦<br>🟦🟩🟦⬜⬜⬜⬜⬜⬜⬜⬜🔳🟦🔳🔳🔳🔳🔳🔳🔳🟦<br>🟦⬜🟦⬜🟦🟦🟦🟦🟦🟦🟦🔳🟦🔳🟦🟦🟦🟦🟦🔳🟦<br>🟦⬜⬜⬜🟦⬜⬜⬜⬜⬜🟦🔳🔳🔳🟦⬜🟦🔳🔳🔳🟦<br>🟦🟦🟦🟦🟦🟦🟦🟦🟦⬜🟦🟦🟦🟦🟦⬜🟦🔳🟦🟦🟦<br>🟦⬜⬜⬜⬜⬜⬜⬜⬜⬜🟦🔳🔳🔳⬜⬜🟦🔳🟦⬜🟦<br>🟦⬜🟦🟦🟦🟦🟦🟦🟦🟦🟦🔳🟦🔳🟦🟦🟦🔳🟦⬜🟦<br>🟦⬜🟦⬜⬜⬜⬜⬜🟦🔳🔳🔳🟦🔳🔳🔳🔳🔳🟦⬜🟦<br>🟦⬜🟦⬜🟦🟦🟦⬜🟦🔳🟦🟦🟦🟦🟦🟦🟦🟦🟦⬜🟦<br>🟦⬜⬜⬜⬜⬜🟦⬜⬜🔳🔳🔳🔳🔳🔳🔳🔳🔳🔳🟥🟦<br>🟦🟦🟦🟦🟦🟦🟦🟦🟦🟦🟦🟦🟦🟦🟦🟦🟦🟦🟦🟦🟦`;\n",
              "    </script>\n",
              "    "
            ],
            "text/plain": [
              "<IPython.core.display.HTML object>"
            ]
          },
          "metadata": {},
          "output_type": "display_data"
        },
        {
          "data": {
            "text/html": [
              "\n",
              "    <script>\n",
              "    document.getElementById('maze').innerHTML = `🟦🟦🟦🟦🟦🟦🟦🟦🟦🟦🟦🟦🟦🟦🟦🟦🟦🟦🟦🟦🟦<br>🟦🟩🟦⬜⬜⬜⬜⬜⬜⬜🔳🔳🟦🔳🔳🔳🔳🔳🔳🔳🟦<br>🟦⬜🟦⬜🟦🟦🟦🟦🟦🟦🟦🔳🟦🔳🟦🟦🟦🟦🟦🔳🟦<br>🟦⬜⬜⬜🟦⬜⬜⬜⬜⬜🟦🔳🔳🔳🟦⬜🟦🔳🔳🔳🟦<br>🟦🟦🟦🟦🟦🟦🟦🟦🟦⬜🟦🟦🟦🟦🟦⬜🟦🔳🟦🟦🟦<br>🟦⬜⬜⬜⬜⬜⬜⬜⬜⬜🟦🔳🔳🔳⬜⬜🟦🔳🟦⬜🟦<br>🟦⬜🟦🟦🟦🟦🟦🟦🟦🟦🟦🔳🟦🔳🟦🟦🟦🔳🟦⬜🟦<br>🟦⬜🟦⬜⬜⬜⬜⬜🟦🔳🔳🔳🟦🔳🔳🔳🔳🔳🟦⬜🟦<br>🟦⬜🟦⬜🟦🟦🟦⬜🟦🔳🟦🟦🟦🟦🟦🟦🟦🟦🟦⬜🟦<br>🟦⬜⬜⬜⬜⬜🟦⬜⬜🔳🔳🔳🔳🔳🔳🔳🔳🔳🔳🟥🟦<br>🟦🟦🟦🟦🟦🟦🟦🟦🟦🟦🟦🟦🟦🟦🟦🟦🟦🟦🟦🟦🟦`;\n",
              "    </script>\n",
              "    "
            ],
            "text/plain": [
              "<IPython.core.display.HTML object>"
            ]
          },
          "metadata": {},
          "output_type": "display_data"
        },
        {
          "data": {
            "text/html": [
              "\n",
              "    <script>\n",
              "    document.getElementById('maze').innerHTML = `🟦🟦🟦🟦🟦🟦🟦🟦🟦🟦🟦🟦🟦🟦🟦🟦🟦🟦🟦🟦🟦<br>🟦🟩🟦⬜⬜⬜⬜⬜⬜🔳🔳🔳🟦🔳🔳🔳🔳🔳🔳🔳🟦<br>🟦⬜🟦⬜🟦🟦🟦🟦🟦🟦🟦🔳🟦🔳🟦🟦🟦🟦🟦🔳🟦<br>🟦⬜⬜⬜🟦⬜⬜⬜⬜⬜🟦🔳🔳🔳🟦⬜🟦🔳🔳🔳🟦<br>🟦🟦🟦🟦🟦🟦🟦🟦🟦⬜🟦🟦🟦🟦🟦⬜🟦🔳🟦🟦🟦<br>🟦⬜⬜⬜⬜⬜⬜⬜⬜⬜🟦🔳🔳🔳⬜⬜🟦🔳🟦⬜🟦<br>🟦⬜🟦🟦🟦🟦🟦🟦🟦🟦🟦🔳🟦🔳🟦🟦🟦🔳🟦⬜🟦<br>🟦⬜🟦⬜⬜⬜⬜⬜🟦🔳🔳🔳🟦🔳🔳🔳🔳🔳🟦⬜🟦<br>🟦⬜🟦⬜🟦🟦🟦⬜🟦🔳🟦🟦🟦🟦🟦🟦🟦🟦🟦⬜🟦<br>🟦⬜⬜⬜⬜⬜🟦⬜⬜🔳🔳🔳🔳🔳🔳🔳🔳🔳🔳🟥🟦<br>🟦🟦🟦🟦🟦🟦🟦🟦🟦🟦🟦🟦🟦🟦🟦🟦🟦🟦🟦🟦🟦`;\n",
              "    </script>\n",
              "    "
            ],
            "text/plain": [
              "<IPython.core.display.HTML object>"
            ]
          },
          "metadata": {},
          "output_type": "display_data"
        },
        {
          "data": {
            "text/html": [
              "\n",
              "    <script>\n",
              "    document.getElementById('maze').innerHTML = `🟦🟦🟦🟦🟦🟦🟦🟦🟦🟦🟦🟦🟦🟦🟦🟦🟦🟦🟦🟦🟦<br>🟦🟩🟦⬜⬜⬜⬜⬜🔳🔳🔳🔳🟦🔳🔳🔳🔳🔳🔳🔳🟦<br>🟦⬜🟦⬜🟦🟦🟦🟦🟦🟦🟦🔳🟦🔳🟦🟦🟦🟦🟦🔳🟦<br>🟦⬜⬜⬜🟦⬜⬜⬜⬜⬜🟦🔳🔳🔳🟦⬜🟦🔳🔳🔳🟦<br>🟦🟦🟦🟦🟦🟦🟦🟦🟦⬜🟦🟦🟦🟦🟦⬜🟦🔳🟦🟦🟦<br>🟦⬜⬜⬜⬜⬜⬜⬜⬜⬜🟦🔳🔳🔳⬜⬜🟦🔳🟦⬜🟦<br>🟦⬜🟦🟦🟦🟦🟦🟦🟦🟦🟦🔳🟦🔳🟦🟦🟦🔳🟦⬜🟦<br>🟦⬜🟦⬜⬜⬜⬜⬜🟦🔳🔳🔳🟦🔳🔳🔳🔳🔳🟦⬜🟦<br>🟦⬜🟦⬜🟦🟦🟦⬜🟦🔳🟦🟦🟦🟦🟦🟦🟦🟦🟦⬜🟦<br>🟦⬜⬜⬜⬜⬜🟦⬜⬜🔳🔳🔳🔳🔳🔳🔳🔳🔳🔳🟥🟦<br>🟦🟦🟦🟦🟦🟦🟦🟦🟦🟦🟦🟦🟦🟦🟦🟦🟦🟦🟦🟦🟦`;\n",
              "    </script>\n",
              "    "
            ],
            "text/plain": [
              "<IPython.core.display.HTML object>"
            ]
          },
          "metadata": {},
          "output_type": "display_data"
        },
        {
          "data": {
            "text/html": [
              "\n",
              "    <script>\n",
              "    document.getElementById('maze').innerHTML = `🟦🟦🟦🟦🟦🟦🟦🟦🟦🟦🟦🟦🟦🟦🟦🟦🟦🟦🟦🟦🟦<br>🟦🟩🟦⬜⬜⬜⬜🔳🔳🔳🔳🔳🟦🔳🔳🔳🔳🔳🔳🔳🟦<br>🟦⬜🟦⬜🟦🟦🟦🟦🟦🟦🟦🔳🟦🔳🟦🟦🟦🟦🟦🔳🟦<br>🟦⬜⬜⬜🟦⬜⬜⬜⬜⬜🟦🔳🔳🔳🟦⬜🟦🔳🔳🔳🟦<br>🟦🟦🟦🟦🟦🟦🟦🟦🟦⬜🟦🟦🟦🟦🟦⬜🟦🔳🟦🟦🟦<br>🟦⬜⬜⬜⬜⬜⬜⬜⬜⬜🟦🔳🔳🔳⬜⬜🟦🔳🟦⬜🟦<br>🟦⬜🟦🟦🟦🟦🟦🟦🟦🟦🟦🔳🟦🔳🟦🟦🟦🔳🟦⬜🟦<br>🟦⬜🟦⬜⬜⬜⬜⬜🟦🔳🔳🔳🟦🔳🔳🔳🔳🔳🟦⬜🟦<br>🟦⬜🟦⬜🟦🟦🟦⬜🟦🔳🟦🟦🟦🟦🟦🟦🟦🟦🟦⬜🟦<br>🟦⬜⬜⬜⬜⬜🟦⬜⬜🔳🔳🔳🔳🔳🔳🔳🔳🔳🔳🟥🟦<br>🟦🟦🟦🟦🟦🟦🟦🟦🟦🟦🟦🟦🟦🟦🟦🟦🟦🟦🟦🟦🟦`;\n",
              "    </script>\n",
              "    "
            ],
            "text/plain": [
              "<IPython.core.display.HTML object>"
            ]
          },
          "metadata": {},
          "output_type": "display_data"
        },
        {
          "data": {
            "text/html": [
              "\n",
              "    <script>\n",
              "    document.getElementById('maze').innerHTML = `🟦🟦🟦🟦🟦🟦🟦🟦🟦🟦🟦🟦🟦🟦🟦🟦🟦🟦🟦🟦🟦<br>🟦🟩🟦⬜⬜⬜🔳🔳🔳🔳🔳🔳🟦🔳🔳🔳🔳🔳🔳🔳🟦<br>🟦⬜🟦⬜🟦🟦🟦🟦🟦🟦🟦🔳🟦🔳🟦🟦🟦🟦🟦🔳🟦<br>🟦⬜⬜⬜🟦⬜⬜⬜⬜⬜🟦🔳🔳🔳🟦⬜🟦🔳🔳🔳🟦<br>🟦🟦🟦🟦🟦🟦🟦🟦🟦⬜🟦🟦🟦🟦🟦⬜🟦🔳🟦🟦🟦<br>🟦⬜⬜⬜⬜⬜⬜⬜⬜⬜🟦🔳🔳🔳⬜⬜🟦🔳🟦⬜🟦<br>🟦⬜🟦🟦🟦🟦🟦🟦🟦🟦🟦🔳🟦🔳🟦🟦🟦🔳🟦⬜🟦<br>🟦⬜🟦⬜⬜⬜⬜⬜🟦🔳🔳🔳🟦🔳🔳🔳🔳🔳🟦⬜🟦<br>🟦⬜🟦⬜🟦🟦🟦⬜🟦🔳🟦🟦🟦🟦🟦🟦🟦🟦🟦⬜🟦<br>🟦⬜⬜⬜⬜⬜🟦⬜⬜🔳🔳🔳🔳🔳🔳🔳🔳🔳🔳🟥🟦<br>🟦🟦🟦🟦🟦🟦🟦🟦🟦🟦🟦🟦🟦🟦🟦🟦🟦🟦🟦🟦🟦`;\n",
              "    </script>\n",
              "    "
            ],
            "text/plain": [
              "<IPython.core.display.HTML object>"
            ]
          },
          "metadata": {},
          "output_type": "display_data"
        },
        {
          "data": {
            "text/html": [
              "\n",
              "    <script>\n",
              "    document.getElementById('maze').innerHTML = `🟦🟦🟦🟦🟦🟦🟦🟦🟦🟦🟦🟦🟦🟦🟦🟦🟦🟦🟦🟦🟦<br>🟦🟩🟦⬜⬜🔳🔳🔳🔳🔳🔳🔳🟦🔳🔳🔳🔳🔳🔳🔳🟦<br>🟦⬜🟦⬜🟦🟦🟦🟦🟦🟦🟦🔳🟦🔳🟦🟦🟦🟦🟦🔳🟦<br>🟦⬜⬜⬜🟦⬜⬜⬜⬜⬜🟦🔳🔳🔳🟦⬜🟦🔳🔳🔳🟦<br>🟦🟦🟦🟦🟦🟦🟦🟦🟦⬜🟦🟦🟦🟦🟦⬜🟦🔳🟦🟦🟦<br>🟦⬜⬜⬜⬜⬜⬜⬜⬜⬜🟦🔳🔳🔳⬜⬜🟦🔳🟦⬜🟦<br>🟦⬜🟦🟦🟦🟦🟦🟦🟦🟦🟦🔳🟦🔳🟦🟦🟦🔳🟦⬜🟦<br>🟦⬜🟦⬜⬜⬜⬜⬜🟦🔳🔳🔳🟦🔳🔳🔳🔳🔳🟦⬜🟦<br>🟦⬜🟦⬜🟦🟦🟦⬜🟦🔳🟦🟦🟦🟦🟦🟦🟦🟦🟦⬜🟦<br>🟦⬜⬜⬜⬜⬜🟦⬜⬜🔳🔳🔳🔳🔳🔳🔳🔳🔳🔳🟥🟦<br>🟦🟦🟦🟦🟦🟦🟦🟦🟦🟦🟦🟦🟦🟦🟦🟦🟦🟦🟦🟦🟦`;\n",
              "    </script>\n",
              "    "
            ],
            "text/plain": [
              "<IPython.core.display.HTML object>"
            ]
          },
          "metadata": {},
          "output_type": "display_data"
        },
        {
          "data": {
            "text/html": [
              "\n",
              "    <script>\n",
              "    document.getElementById('maze').innerHTML = `🟦🟦🟦🟦🟦🟦🟦🟦🟦🟦🟦🟦🟦🟦🟦🟦🟦🟦🟦🟦🟦<br>🟦🟩🟦⬜🔳🔳🔳🔳🔳🔳🔳🔳🟦🔳🔳🔳🔳🔳🔳🔳🟦<br>🟦⬜🟦⬜🟦🟦🟦🟦🟦🟦🟦🔳🟦🔳🟦🟦🟦🟦🟦🔳🟦<br>🟦⬜⬜⬜🟦⬜⬜⬜⬜⬜🟦🔳🔳🔳🟦⬜🟦🔳🔳🔳🟦<br>🟦🟦🟦🟦🟦🟦🟦🟦🟦⬜🟦🟦🟦🟦🟦⬜🟦🔳🟦🟦🟦<br>🟦⬜⬜⬜⬜⬜⬜⬜⬜⬜🟦🔳🔳🔳⬜⬜🟦🔳🟦⬜🟦<br>🟦⬜🟦🟦🟦🟦🟦🟦🟦🟦🟦🔳🟦🔳🟦🟦🟦🔳🟦⬜🟦<br>🟦⬜🟦⬜⬜⬜⬜⬜🟦🔳🔳🔳🟦🔳🔳🔳🔳🔳🟦⬜🟦<br>🟦⬜🟦⬜🟦🟦🟦⬜🟦🔳🟦🟦🟦🟦🟦🟦🟦🟦🟦⬜🟦<br>🟦⬜⬜⬜⬜⬜🟦⬜⬜🔳🔳🔳🔳🔳🔳🔳🔳🔳🔳🟥🟦<br>🟦🟦🟦🟦🟦🟦🟦🟦🟦🟦🟦🟦🟦🟦🟦🟦🟦🟦🟦🟦🟦`;\n",
              "    </script>\n",
              "    "
            ],
            "text/plain": [
              "<IPython.core.display.HTML object>"
            ]
          },
          "metadata": {},
          "output_type": "display_data"
        },
        {
          "data": {
            "text/html": [
              "\n",
              "    <script>\n",
              "    document.getElementById('maze').innerHTML = `🟦🟦🟦🟦🟦🟦🟦🟦🟦🟦🟦🟦🟦🟦🟦🟦🟦🟦🟦🟦🟦<br>🟦🟩🟦🔳🔳🔳🔳🔳🔳🔳🔳🔳🟦🔳🔳🔳🔳🔳🔳🔳🟦<br>🟦⬜🟦⬜🟦🟦🟦🟦🟦🟦🟦🔳🟦🔳🟦🟦🟦🟦🟦🔳🟦<br>🟦⬜⬜⬜🟦⬜⬜⬜⬜⬜🟦🔳🔳🔳🟦⬜🟦🔳🔳🔳🟦<br>🟦🟦🟦🟦🟦🟦🟦🟦🟦⬜🟦🟦🟦🟦🟦⬜🟦🔳🟦🟦🟦<br>🟦⬜⬜⬜⬜⬜⬜⬜⬜⬜🟦🔳🔳🔳⬜⬜🟦🔳🟦⬜🟦<br>🟦⬜🟦🟦🟦🟦🟦🟦🟦🟦🟦🔳🟦🔳🟦🟦🟦🔳🟦⬜🟦<br>🟦⬜🟦⬜⬜⬜⬜⬜🟦🔳🔳🔳🟦🔳🔳🔳🔳🔳🟦⬜🟦<br>🟦⬜🟦⬜🟦🟦🟦⬜🟦🔳🟦🟦🟦🟦🟦🟦🟦🟦🟦⬜🟦<br>🟦⬜⬜⬜⬜⬜🟦⬜⬜🔳🔳🔳🔳🔳🔳🔳🔳🔳🔳🟥🟦<br>🟦🟦🟦🟦🟦🟦🟦🟦🟦🟦🟦🟦🟦🟦🟦🟦🟦🟦🟦🟦🟦`;\n",
              "    </script>\n",
              "    "
            ],
            "text/plain": [
              "<IPython.core.display.HTML object>"
            ]
          },
          "metadata": {},
          "output_type": "display_data"
        },
        {
          "data": {
            "text/html": [
              "\n",
              "    <script>\n",
              "    document.getElementById('maze').innerHTML = `🟦🟦🟦🟦🟦🟦🟦🟦🟦🟦🟦🟦🟦🟦🟦🟦🟦🟦🟦🟦🟦<br>🟦🟩🟦🔳🔳🔳🔳🔳🔳🔳🔳🔳🟦🔳🔳🔳🔳🔳🔳🔳🟦<br>🟦⬜🟦🔳🟦🟦🟦🟦🟦🟦🟦🔳🟦🔳🟦🟦🟦🟦🟦🔳🟦<br>🟦⬜⬜⬜🟦⬜⬜⬜⬜⬜🟦🔳🔳🔳🟦⬜🟦🔳🔳🔳🟦<br>🟦🟦🟦🟦🟦🟦🟦🟦🟦⬜🟦🟦🟦🟦🟦⬜🟦🔳🟦🟦🟦<br>🟦⬜⬜⬜⬜⬜⬜⬜⬜⬜🟦🔳🔳🔳⬜⬜🟦🔳🟦⬜🟦<br>🟦⬜🟦🟦🟦🟦🟦🟦🟦🟦🟦🔳🟦🔳🟦🟦🟦🔳🟦⬜🟦<br>🟦⬜🟦⬜⬜⬜⬜⬜🟦🔳🔳🔳🟦🔳🔳🔳🔳🔳🟦⬜🟦<br>🟦⬜🟦⬜🟦🟦🟦⬜🟦🔳🟦🟦🟦🟦🟦🟦🟦🟦🟦⬜🟦<br>🟦⬜⬜⬜⬜⬜🟦⬜⬜🔳🔳🔳🔳🔳🔳🔳🔳🔳🔳🟥🟦<br>🟦🟦🟦🟦🟦🟦🟦🟦🟦🟦🟦🟦🟦🟦🟦🟦🟦🟦🟦🟦🟦`;\n",
              "    </script>\n",
              "    "
            ],
            "text/plain": [
              "<IPython.core.display.HTML object>"
            ]
          },
          "metadata": {},
          "output_type": "display_data"
        },
        {
          "data": {
            "text/html": [
              "\n",
              "    <script>\n",
              "    document.getElementById('maze').innerHTML = `🟦🟦🟦🟦🟦🟦🟦🟦🟦🟦🟦🟦🟦🟦🟦🟦🟦🟦🟦🟦🟦<br>🟦🟩🟦🔳🔳🔳🔳🔳🔳🔳🔳🔳🟦🔳🔳🔳🔳🔳🔳🔳🟦<br>🟦⬜🟦🔳🟦🟦🟦🟦🟦🟦🟦🔳🟦🔳🟦🟦🟦🟦🟦🔳🟦<br>🟦⬜⬜🔳🟦⬜⬜⬜⬜⬜🟦🔳🔳🔳🟦⬜🟦🔳🔳🔳🟦<br>🟦🟦🟦🟦🟦🟦🟦🟦🟦⬜🟦🟦🟦🟦🟦⬜🟦🔳🟦🟦🟦<br>🟦⬜⬜⬜⬜⬜⬜⬜⬜⬜🟦🔳🔳🔳⬜⬜🟦🔳🟦⬜🟦<br>🟦⬜🟦🟦🟦🟦🟦🟦🟦🟦🟦🔳🟦🔳🟦🟦🟦🔳🟦⬜🟦<br>🟦⬜🟦⬜⬜⬜⬜⬜🟦🔳🔳🔳🟦🔳🔳🔳🔳🔳🟦⬜🟦<br>🟦⬜🟦⬜🟦🟦🟦⬜🟦🔳🟦🟦🟦🟦🟦🟦🟦🟦🟦⬜🟦<br>🟦⬜⬜⬜⬜⬜🟦⬜⬜🔳🔳🔳🔳🔳🔳🔳🔳🔳🔳🟥🟦<br>🟦🟦🟦🟦🟦🟦🟦🟦🟦🟦🟦🟦🟦🟦🟦🟦🟦🟦🟦🟦🟦`;\n",
              "    </script>\n",
              "    "
            ],
            "text/plain": [
              "<IPython.core.display.HTML object>"
            ]
          },
          "metadata": {},
          "output_type": "display_data"
        },
        {
          "data": {
            "text/html": [
              "\n",
              "    <script>\n",
              "    document.getElementById('maze').innerHTML = `🟦🟦🟦🟦🟦🟦🟦🟦🟦🟦🟦🟦🟦🟦🟦🟦🟦🟦🟦🟦🟦<br>🟦🟩🟦🔳🔳🔳🔳🔳🔳🔳🔳🔳🟦🔳🔳🔳🔳🔳🔳🔳🟦<br>🟦⬜🟦🔳🟦🟦🟦🟦🟦🟦🟦🔳🟦🔳🟦🟦🟦🟦🟦🔳🟦<br>🟦⬜🔳🔳🟦⬜⬜⬜⬜⬜🟦🔳🔳🔳🟦⬜🟦🔳🔳🔳🟦<br>🟦🟦🟦🟦🟦🟦🟦🟦🟦⬜🟦🟦🟦🟦🟦⬜🟦🔳🟦🟦🟦<br>🟦⬜⬜⬜⬜⬜⬜⬜⬜⬜🟦🔳🔳🔳⬜⬜🟦🔳🟦⬜🟦<br>🟦⬜🟦🟦🟦🟦🟦🟦🟦🟦🟦🔳🟦🔳🟦🟦🟦🔳🟦⬜🟦<br>🟦⬜🟦⬜⬜⬜⬜⬜🟦🔳🔳🔳🟦🔳🔳🔳🔳🔳🟦⬜🟦<br>🟦⬜🟦⬜🟦🟦🟦⬜🟦🔳🟦🟦🟦🟦🟦🟦🟦🟦🟦⬜🟦<br>🟦⬜⬜⬜⬜⬜🟦⬜⬜🔳🔳🔳🔳🔳🔳🔳🔳🔳🔳🟥🟦<br>🟦🟦🟦🟦🟦🟦🟦🟦🟦🟦🟦🟦🟦🟦🟦🟦🟦🟦🟦🟦🟦`;\n",
              "    </script>\n",
              "    "
            ],
            "text/plain": [
              "<IPython.core.display.HTML object>"
            ]
          },
          "metadata": {},
          "output_type": "display_data"
        },
        {
          "data": {
            "text/html": [
              "\n",
              "    <script>\n",
              "    document.getElementById('maze').innerHTML = `🟦🟦🟦🟦🟦🟦🟦🟦🟦🟦🟦🟦🟦🟦🟦🟦🟦🟦🟦🟦🟦<br>🟦🟩🟦🔳🔳🔳🔳🔳🔳🔳🔳🔳🟦🔳🔳🔳🔳🔳🔳🔳🟦<br>🟦⬜🟦🔳🟦🟦🟦🟦🟦🟦🟦🔳🟦🔳🟦🟦🟦🟦🟦🔳🟦<br>🟦🔳🔳🔳🟦⬜⬜⬜⬜⬜🟦🔳🔳🔳🟦⬜🟦🔳🔳🔳🟦<br>🟦🟦🟦🟦🟦🟦🟦🟦🟦⬜🟦🟦🟦🟦🟦⬜🟦🔳🟦🟦🟦<br>🟦⬜⬜⬜⬜⬜⬜⬜⬜⬜🟦🔳🔳🔳⬜⬜🟦🔳🟦⬜🟦<br>🟦⬜🟦🟦🟦🟦🟦🟦🟦🟦🟦🔳🟦🔳🟦🟦🟦🔳🟦⬜🟦<br>🟦⬜🟦⬜⬜⬜⬜⬜🟦🔳🔳🔳🟦🔳🔳🔳🔳🔳🟦⬜🟦<br>🟦⬜🟦⬜🟦🟦🟦⬜🟦🔳🟦🟦🟦🟦🟦🟦🟦🟦🟦⬜🟦<br>🟦⬜⬜⬜⬜⬜🟦⬜⬜🔳🔳🔳🔳🔳🔳🔳🔳🔳🔳🟥🟦<br>🟦🟦🟦🟦🟦🟦🟦🟦🟦🟦🟦🟦🟦🟦🟦🟦🟦🟦🟦🟦🟦`;\n",
              "    </script>\n",
              "    "
            ],
            "text/plain": [
              "<IPython.core.display.HTML object>"
            ]
          },
          "metadata": {},
          "output_type": "display_data"
        },
        {
          "data": {
            "text/html": [
              "\n",
              "    <script>\n",
              "    document.getElementById('maze').innerHTML = `🟦🟦🟦🟦🟦🟦🟦🟦🟦🟦🟦🟦🟦🟦🟦🟦🟦🟦🟦🟦🟦<br>🟦🟩🟦🔳🔳🔳🔳🔳🔳🔳🔳🔳🟦🔳🔳🔳🔳🔳🔳🔳🟦<br>🟦🔳🟦🔳🟦🟦🟦🟦🟦🟦🟦🔳🟦🔳🟦🟦🟦🟦🟦🔳🟦<br>🟦🔳🔳🔳🟦⬜⬜⬜⬜⬜🟦🔳🔳🔳🟦⬜🟦🔳🔳🔳🟦<br>🟦🟦🟦🟦🟦🟦🟦🟦🟦⬜🟦🟦🟦🟦🟦⬜🟦🔳🟦🟦🟦<br>🟦⬜⬜⬜⬜⬜⬜⬜⬜⬜🟦🔳🔳🔳⬜⬜🟦🔳🟦⬜🟦<br>🟦⬜🟦🟦🟦🟦🟦🟦🟦🟦🟦🔳🟦🔳🟦🟦🟦🔳🟦⬜🟦<br>🟦⬜🟦⬜⬜⬜⬜⬜🟦🔳🔳🔳🟦🔳🔳🔳🔳🔳🟦⬜🟦<br>🟦⬜🟦⬜🟦🟦🟦⬜🟦🔳🟦🟦🟦🟦🟦🟦🟦🟦🟦⬜🟦<br>🟦⬜⬜⬜⬜⬜🟦⬜⬜🔳🔳🔳🔳🔳🔳🔳🔳🔳🔳🟥🟦<br>🟦🟦🟦🟦🟦🟦🟦🟦🟦🟦🟦🟦🟦🟦🟦🟦🟦🟦🟦🟦🟦`;\n",
              "    </script>\n",
              "    "
            ],
            "text/plain": [
              "<IPython.core.display.HTML object>"
            ]
          },
          "metadata": {},
          "output_type": "display_data"
        },
        {
          "data": {
            "text/html": [
              "\n",
              "    <script>\n",
              "    document.getElementById('maze').innerHTML = `🟦🟦🟦🟦🟦🟦🟦🟦🟦🟦🟦🟦🟦🟦🟦🟦🟦🟦🟦🟦🟦<br>🟦🔳🟦🔳🔳🔳🔳🔳🔳🔳🔳🔳🟦🔳🔳🔳🔳🔳🔳🔳🟦<br>🟦🔳🟦🔳🟦🟦🟦🟦🟦🟦🟦🔳🟦🔳🟦🟦🟦🟦🟦🔳🟦<br>🟦🔳🔳🔳🟦⬜⬜⬜⬜⬜🟦🔳🔳🔳🟦⬜🟦🔳🔳🔳🟦<br>🟦🟦🟦🟦🟦🟦🟦🟦🟦⬜🟦🟦🟦🟦🟦⬜🟦🔳🟦🟦🟦<br>🟦⬜⬜⬜⬜⬜⬜⬜⬜⬜🟦🔳🔳🔳⬜⬜🟦🔳🟦⬜🟦<br>🟦⬜🟦🟦🟦🟦🟦🟦🟦🟦🟦🔳🟦🔳🟦🟦🟦🔳🟦⬜🟦<br>🟦⬜🟦⬜⬜⬜⬜⬜🟦🔳🔳🔳🟦🔳🔳🔳🔳🔳🟦⬜🟦<br>🟦⬜🟦⬜🟦🟦🟦⬜🟦🔳🟦🟦🟦🟦🟦🟦🟦🟦🟦⬜🟦<br>🟦⬜⬜⬜⬜⬜🟦⬜⬜🔳🔳🔳🔳🔳🔳🔳🔳🔳🔳🟥🟦<br>🟦🟦🟦🟦🟦🟦🟦🟦🟦🟦🟦🟦🟦🟦🟦🟦🟦🟦🟦🟦🟦`;\n",
              "    </script>\n",
              "    "
            ],
            "text/plain": [
              "<IPython.core.display.HTML object>"
            ]
          },
          "metadata": {},
          "output_type": "display_data"
        }
      ],
      "source": [
        "# Fonction qui estime le coût entre la position finale et la position courante\n",
        "# Ici on le fait à vol d'oiseau\n",
        "def heuristique(position, fin):\n",
        "  pos_y = int(position.center.y)\n",
        "  pos_x = int(position.center.x)\n",
        "  fin_y = int(fin.center.y)\n",
        "  fin_x = int(fin.center.x)\n",
        "  # L'hypothénuse d'un triangle (c) est donnée par c² = a² + b²\n",
        "  a2 = abs(fin_y - pos_y)\n",
        "  b2 = abs(fin_x - pos_x)\n",
        "  c2 = a2 + b2\n",
        "  return np.sqrt(c2)\n",
        "\n",
        "# Fonction qui calcul le coût d'une case\n",
        "def fonctionDeCout(cout_actuel, cout_estime):\n",
        "  # La fonction de cout est le cout actuel + le cout estimé par heuristique\n",
        "  return cout_actuel + cout_estime\n",
        "\n",
        "def rechercheHeuristiqueAStar(grid, debut, fin):\n",
        "  # Initialisation des listes\n",
        "  cases_a_visiter = [(debut, None)]\n",
        "  cases_visitees = []\n",
        "  cases_precedentes = []\n",
        "\n",
        "  # Tant qu'on a des cases à visiter\n",
        "  while cases_a_visiter:\n",
        "\n",
        "    # S'il faut choisir entre deux cases à visiter\n",
        "    if len(cases_a_visiter) > 1:\n",
        "      couts_de_deplacement = []\n",
        "      # Pour chaque case potentielle à visiter, on calcule le coût.\n",
        "      for case_potentielle in cases_a_visiter:\n",
        "        # Le cout actuel est le nombre de déplacement depuis la case départ.\n",
        "        # Bref la longueur du chemin parcouru entre la case actuel et la case départ.\n",
        "        chemin = trouverChemin(cases_visitees, cases_precedentes, case_potentielle[1])\n",
        "        cout_actuel = len(chemin) + 1 # comptant la case potentielle\n",
        "        cout_estime = heuristique(case_potentielle[0], fin)\n",
        "        couts_de_deplacement.append(fonctionDeCout(cout_actuel, cout_estime))\n",
        "\n",
        "      # Choisir le minimum dans la liste de couts de déplacement\n",
        "      index_cout_min = couts_de_deplacement.index(min(couts_de_deplacement))\n",
        "      case_courante = cases_a_visiter.pop(index_cout_min)\n",
        "\n",
        "    # Sinon il n'y a qu'une case à visiter\n",
        "    else:\n",
        "      case_courante = cases_a_visiter.pop()\n",
        "\n",
        "    # On ajoute la case courante aux listes des cases visitées et précédentes\n",
        "    cases_visitees.insert(0, case_courante[0])\n",
        "    cases_precedentes.insert(0, case_courante[1])\n",
        "\n",
        "    # Affiche la case courante dans le graph\n",
        "    y = int(case_courante[0].center.y)\n",
        "    x = int(case_courante[0].center.x)\n",
        "    afficherLabyrinthe(labyrinthe.copy(), x, y, [c.center for c in cases_visitees])\n",
        "\n",
        "    # Si on trouve la sortie on sort !\n",
        "    if labyrinthe[y, x] == FIN:\n",
        "      return True, trouverChemin(cases_visitees, cases_precedentes, case_courante[0])\n",
        "\n",
        "    # Pour chaque case voisine\n",
        "    cases_voisines = grid.get_node_neighbors(case_courante[0], allow_diagonal=False)\n",
        "    \n",
        "    for voisin in cases_voisines:\n",
        "      if voisin.walkable and voisin not in cases_visitees:\n",
        "        cases_a_visiter.append((voisin, case_courante[0]))\n",
        "        \n",
        "\n",
        "  return False, []\n",
        "\n",
        "# Orde (y, x) pour numpy et None pour indiquer que c'est le départ\n",
        "debut = grid.nodes[1][1]\n",
        "fin = grid.nodes[TAILLE_Y - 2][TAILLE_X - 2]\n",
        "\n",
        "# La fonction rechercheHeuristiqueAStar(labyrinthe, debut, fin)\n",
        "# retourne un status si la sortie a été trouvé ainsi que la liste de case\n",
        "# qu'il faut prendre pour se rendre à la sortie.\n",
        "status, chemin = rechercheHeuristiqueAStar(grid, debut, fin)\n",
        "\n",
        "# Afficher le chemin trouvé\n",
        "maze_copy = labyrinthe.copy()\n",
        "for node in chemin:\n",
        "  x = int(node.center.x)\n",
        "  y = int(node.center.y)\n",
        "  maze_copy[y, x] = CHEMIN\n",
        "  afficherLabyrinthe(maze_copy, 0, 0, [])\n",
        "    "
      ]
    },
    {
      "cell_type": "markdown",
      "metadata": {
        "id": "LllaTbtErX-4"
      },
      "source": [
        "# Breadth first search"
      ]
    },
    {
      "cell_type": "code",
      "execution_count": 2,
      "metadata": {
        "colab": {
          "base_uri": "https://localhost:8080/",
          "height": 202
        },
        "id": "zTz7VsDnrgH1",
        "outputId": "b88a03ed-6d82-4617-90ce-d9307113e75d"
      },
      "outputs": [
        {
          "data": {
            "text/html": [
              "\n",
              "    <script>\n",
              "    document.getElementById('maze').innerHTML = `🟦🟦🟦🟦🟦🟦🟦🟦🟦🟦🟦🟦🟦🟦🟦🟦🟦🟦🟦🟦🟦<br>🟦😼🟦⬜🟦⬜⬜⬜⬜⬜⬜⬜⬜⬜⬜⬜⬜⬜⬜⬜🟦<br>🟦⬜🟦⬜🟦⬜🟦🟦🟦🟦🟦⬜🟦🟦🟦🟦🟦🟦🟦⬜🟦<br>🟦⬜🟦⬜⬜⬜🟦⬜⬜⬜🟦⬜🟦⬜⬜⬜⬜⬜🟦⬜🟦<br>🟦⬜🟦🟦🟦🟦🟦⬜🟦⬜🟦⬜🟦⬜🟦🟦🟦⬜🟦⬜🟦<br>🟦⬜⬜⬜🟦⬜⬜⬜🟦⬜🟦⬜🟦⬜🟦⬜🟦⬜🟦⬜🟦<br>🟦🟦🟦⬜🟦⬜🟦🟦🟦⬜🟦🟦🟦⬜🟦⬜🟦⬜🟦⬜🟦<br>🟦⬜🟦⬜🟦⬜⬜⬜🟦⬜⬜⬜⬜⬜🟦⬜🟦⬜🟦⬜🟦<br>🟦⬜🟦⬜🟦🟦🟦⬜🟦🟦🟦🟦🟦🟦🟦⬜🟦⬜🟦⬜🟦<br>🟦⬜⬜⬜⬜⬜⬜⬜🟦⬜⬜⬜⬜⬜⬜⬜⬜⬜⬜🟥🟦<br>🟦🟦🟦🟦🟦🟦🟦🟦🟦🟦🟦🟦🟦🟦🟦🟦🟦🟦🟦🟦🟦`;\n",
              "    </script>\n",
              "    "
            ],
            "text/plain": [
              "<IPython.core.display.HTML object>"
            ]
          },
          "metadata": {},
          "output_type": "display_data"
        },
        {
          "data": {
            "text/html": [
              "\n",
              "    <script>\n",
              "    document.getElementById('maze').innerHTML = `🟦🟦🟦🟦🟦🟦🟦🟦🟦🟦🟦🟦🟦🟦🟦🟦🟦🟦🟦🟦🟦<br>🟦🟨🟦⬜🟦⬜⬜⬜⬜⬜⬜⬜⬜⬜⬜⬜⬜⬜⬜⬜🟦<br>🟦😼🟦⬜🟦⬜🟦🟦🟦🟦🟦⬜🟦🟦🟦🟦🟦🟦🟦⬜🟦<br>🟦⬜🟦⬜⬜⬜🟦⬜⬜⬜🟦⬜🟦⬜⬜⬜⬜⬜🟦⬜🟦<br>🟦⬜🟦🟦🟦🟦🟦⬜🟦⬜🟦⬜🟦⬜🟦🟦🟦⬜🟦⬜🟦<br>🟦⬜⬜⬜🟦⬜⬜⬜🟦⬜🟦⬜🟦⬜🟦⬜🟦⬜🟦⬜🟦<br>🟦🟦🟦⬜🟦⬜🟦🟦🟦⬜🟦🟦🟦⬜🟦⬜🟦⬜🟦⬜🟦<br>🟦⬜🟦⬜🟦⬜⬜⬜🟦⬜⬜⬜⬜⬜🟦⬜🟦⬜🟦⬜🟦<br>🟦⬜🟦⬜🟦🟦🟦⬜🟦🟦🟦🟦🟦🟦🟦⬜🟦⬜🟦⬜🟦<br>🟦⬜⬜⬜⬜⬜⬜⬜🟦⬜⬜⬜⬜⬜⬜⬜⬜⬜⬜🟥🟦<br>🟦🟦🟦🟦🟦🟦🟦🟦🟦🟦🟦🟦🟦🟦🟦🟦🟦🟦🟦🟦🟦`;\n",
              "    </script>\n",
              "    "
            ],
            "text/plain": [
              "<IPython.core.display.HTML object>"
            ]
          },
          "metadata": {},
          "output_type": "display_data"
        },
        {
          "data": {
            "text/html": [
              "\n",
              "    <script>\n",
              "    document.getElementById('maze').innerHTML = `🟦🟦🟦🟦🟦🟦🟦🟦🟦🟦🟦🟦🟦🟦🟦🟦🟦🟦🟦🟦🟦<br>🟦🟨🟦⬜🟦⬜⬜⬜⬜⬜⬜⬜⬜⬜⬜⬜⬜⬜⬜⬜🟦<br>🟦🟨🟦⬜🟦⬜🟦🟦🟦🟦🟦⬜🟦🟦🟦🟦🟦🟦🟦⬜🟦<br>🟦😼🟦⬜⬜⬜🟦⬜⬜⬜🟦⬜🟦⬜⬜⬜⬜⬜🟦⬜🟦<br>🟦⬜🟦🟦🟦🟦🟦⬜🟦⬜🟦⬜🟦⬜🟦🟦🟦⬜🟦⬜🟦<br>🟦⬜⬜⬜🟦⬜⬜⬜🟦⬜🟦⬜🟦⬜🟦⬜🟦⬜🟦⬜🟦<br>🟦🟦🟦⬜🟦⬜🟦🟦🟦⬜🟦🟦🟦⬜🟦⬜🟦⬜🟦⬜🟦<br>🟦⬜🟦⬜🟦⬜⬜⬜🟦⬜⬜⬜⬜⬜🟦⬜🟦⬜🟦⬜🟦<br>🟦⬜🟦⬜🟦🟦🟦⬜🟦🟦🟦🟦🟦🟦🟦⬜🟦⬜🟦⬜🟦<br>🟦⬜⬜⬜⬜⬜⬜⬜🟦⬜⬜⬜⬜⬜⬜⬜⬜⬜⬜🟥🟦<br>🟦🟦🟦🟦🟦🟦🟦🟦🟦🟦🟦🟦🟦🟦🟦🟦🟦🟦🟦🟦🟦`;\n",
              "    </script>\n",
              "    "
            ],
            "text/plain": [
              "<IPython.core.display.HTML object>"
            ]
          },
          "metadata": {},
          "output_type": "display_data"
        },
        {
          "data": {
            "text/html": [
              "\n",
              "    <script>\n",
              "    document.getElementById('maze').innerHTML = `🟦🟦🟦🟦🟦🟦🟦🟦🟦🟦🟦🟦🟦🟦🟦🟦🟦🟦🟦🟦🟦<br>🟦🟨🟦⬜🟦⬜⬜⬜⬜⬜⬜⬜⬜⬜⬜⬜⬜⬜⬜⬜🟦<br>🟦🟨🟦⬜🟦⬜🟦🟦🟦🟦🟦⬜🟦🟦🟦🟦🟦🟦🟦⬜🟦<br>🟦🟨🟦⬜⬜⬜🟦⬜⬜⬜🟦⬜🟦⬜⬜⬜⬜⬜🟦⬜🟦<br>🟦😼🟦🟦🟦🟦🟦⬜🟦⬜🟦⬜🟦⬜🟦🟦🟦⬜🟦⬜🟦<br>🟦⬜⬜⬜🟦⬜⬜⬜🟦⬜🟦⬜🟦⬜🟦⬜🟦⬜🟦⬜🟦<br>🟦🟦🟦⬜🟦⬜🟦🟦🟦⬜🟦🟦🟦⬜🟦⬜🟦⬜🟦⬜🟦<br>🟦⬜🟦⬜🟦⬜⬜⬜🟦⬜⬜⬜⬜⬜🟦⬜🟦⬜🟦⬜🟦<br>🟦⬜🟦⬜🟦🟦🟦⬜🟦🟦🟦🟦🟦🟦🟦⬜🟦⬜🟦⬜🟦<br>🟦⬜⬜⬜⬜⬜⬜⬜🟦⬜⬜⬜⬜⬜⬜⬜⬜⬜⬜🟥🟦<br>🟦🟦🟦🟦🟦🟦🟦🟦🟦🟦🟦🟦🟦🟦🟦🟦🟦🟦🟦🟦🟦`;\n",
              "    </script>\n",
              "    "
            ],
            "text/plain": [
              "<IPython.core.display.HTML object>"
            ]
          },
          "metadata": {},
          "output_type": "display_data"
        },
        {
          "data": {
            "text/html": [
              "\n",
              "    <script>\n",
              "    document.getElementById('maze').innerHTML = `🟦🟦🟦🟦🟦🟦🟦🟦🟦🟦🟦🟦🟦🟦🟦🟦🟦🟦🟦🟦🟦<br>🟦🟨🟦⬜🟦⬜⬜⬜⬜⬜⬜⬜⬜⬜⬜⬜⬜⬜⬜⬜🟦<br>🟦🟨🟦⬜🟦⬜🟦🟦🟦🟦🟦⬜🟦🟦🟦🟦🟦🟦🟦⬜🟦<br>🟦🟨🟦⬜⬜⬜🟦⬜⬜⬜🟦⬜🟦⬜⬜⬜⬜⬜🟦⬜🟦<br>🟦🟨🟦🟦🟦🟦🟦⬜🟦⬜🟦⬜🟦⬜🟦🟦🟦⬜🟦⬜🟦<br>🟦😼⬜⬜🟦⬜⬜⬜🟦⬜🟦⬜🟦⬜🟦⬜🟦⬜🟦⬜🟦<br>🟦🟦🟦⬜🟦⬜🟦🟦🟦⬜🟦🟦🟦⬜🟦⬜🟦⬜🟦⬜🟦<br>🟦⬜🟦⬜🟦⬜⬜⬜🟦⬜⬜⬜⬜⬜🟦⬜🟦⬜🟦⬜🟦<br>🟦⬜🟦⬜🟦🟦🟦⬜🟦🟦🟦🟦🟦🟦🟦⬜🟦⬜🟦⬜🟦<br>🟦⬜⬜⬜⬜⬜⬜⬜🟦⬜⬜⬜⬜⬜⬜⬜⬜⬜⬜🟥🟦<br>🟦🟦🟦🟦🟦🟦🟦🟦🟦🟦🟦🟦🟦🟦🟦🟦🟦🟦🟦🟦🟦`;\n",
              "    </script>\n",
              "    "
            ],
            "text/plain": [
              "<IPython.core.display.HTML object>"
            ]
          },
          "metadata": {},
          "output_type": "display_data"
        },
        {
          "data": {
            "text/html": [
              "\n",
              "    <script>\n",
              "    document.getElementById('maze').innerHTML = `🟦🟦🟦🟦🟦🟦🟦🟦🟦🟦🟦🟦🟦🟦🟦🟦🟦🟦🟦🟦🟦<br>🟦🟨🟦⬜🟦⬜⬜⬜⬜⬜⬜⬜⬜⬜⬜⬜⬜⬜⬜⬜🟦<br>🟦🟨🟦⬜🟦⬜🟦🟦🟦🟦🟦⬜🟦🟦🟦🟦🟦🟦🟦⬜🟦<br>🟦🟨🟦⬜⬜⬜🟦⬜⬜⬜🟦⬜🟦⬜⬜⬜⬜⬜🟦⬜🟦<br>🟦🟨🟦🟦🟦🟦🟦⬜🟦⬜🟦⬜🟦⬜🟦🟦🟦⬜🟦⬜🟦<br>🟦🟨😼⬜🟦⬜⬜⬜🟦⬜🟦⬜🟦⬜🟦⬜🟦⬜🟦⬜🟦<br>🟦🟦🟦⬜🟦⬜🟦🟦🟦⬜🟦🟦🟦⬜🟦⬜🟦⬜🟦⬜🟦<br>🟦⬜🟦⬜🟦⬜⬜⬜🟦⬜⬜⬜⬜⬜🟦⬜🟦⬜🟦⬜🟦<br>🟦⬜🟦⬜🟦🟦🟦⬜🟦🟦🟦🟦🟦🟦🟦⬜🟦⬜🟦⬜🟦<br>🟦⬜⬜⬜⬜⬜⬜⬜🟦⬜⬜⬜⬜⬜⬜⬜⬜⬜⬜🟥🟦<br>🟦🟦🟦🟦🟦🟦🟦🟦🟦🟦🟦🟦🟦🟦🟦🟦🟦🟦🟦🟦🟦`;\n",
              "    </script>\n",
              "    "
            ],
            "text/plain": [
              "<IPython.core.display.HTML object>"
            ]
          },
          "metadata": {},
          "output_type": "display_data"
        },
        {
          "data": {
            "text/html": [
              "\n",
              "    <script>\n",
              "    document.getElementById('maze').innerHTML = `🟦🟦🟦🟦🟦🟦🟦🟦🟦🟦🟦🟦🟦🟦🟦🟦🟦🟦🟦🟦🟦<br>🟦🟨🟦⬜🟦⬜⬜⬜⬜⬜⬜⬜⬜⬜⬜⬜⬜⬜⬜⬜🟦<br>🟦🟨🟦⬜🟦⬜🟦🟦🟦🟦🟦⬜🟦🟦🟦🟦🟦🟦🟦⬜🟦<br>🟦🟨🟦⬜⬜⬜🟦⬜⬜⬜🟦⬜🟦⬜⬜⬜⬜⬜🟦⬜🟦<br>🟦🟨🟦🟦🟦🟦🟦⬜🟦⬜🟦⬜🟦⬜🟦🟦🟦⬜🟦⬜🟦<br>🟦🟨🟨😼🟦⬜⬜⬜🟦⬜🟦⬜🟦⬜🟦⬜🟦⬜🟦⬜🟦<br>🟦🟦🟦⬜🟦⬜🟦🟦🟦⬜🟦🟦🟦⬜🟦⬜🟦⬜🟦⬜🟦<br>🟦⬜🟦⬜🟦⬜⬜⬜🟦⬜⬜⬜⬜⬜🟦⬜🟦⬜🟦⬜🟦<br>🟦⬜🟦⬜🟦🟦🟦⬜🟦🟦🟦🟦🟦🟦🟦⬜🟦⬜🟦⬜🟦<br>🟦⬜⬜⬜⬜⬜⬜⬜🟦⬜⬜⬜⬜⬜⬜⬜⬜⬜⬜🟥🟦<br>🟦🟦🟦🟦🟦🟦🟦🟦🟦🟦🟦🟦🟦🟦🟦🟦🟦🟦🟦🟦🟦`;\n",
              "    </script>\n",
              "    "
            ],
            "text/plain": [
              "<IPython.core.display.HTML object>"
            ]
          },
          "metadata": {},
          "output_type": "display_data"
        },
        {
          "data": {
            "text/html": [
              "\n",
              "    <script>\n",
              "    document.getElementById('maze').innerHTML = `🟦🟦🟦🟦🟦🟦🟦🟦🟦🟦🟦🟦🟦🟦🟦🟦🟦🟦🟦🟦🟦<br>🟦🟨🟦⬜🟦⬜⬜⬜⬜⬜⬜⬜⬜⬜⬜⬜⬜⬜⬜⬜🟦<br>🟦🟨🟦⬜🟦⬜🟦🟦🟦🟦🟦⬜🟦🟦🟦🟦🟦🟦🟦⬜🟦<br>🟦🟨🟦⬜⬜⬜🟦⬜⬜⬜🟦⬜🟦⬜⬜⬜⬜⬜🟦⬜🟦<br>🟦🟨🟦🟦🟦🟦🟦⬜🟦⬜🟦⬜🟦⬜🟦🟦🟦⬜🟦⬜🟦<br>🟦🟨🟨🟨🟦⬜⬜⬜🟦⬜🟦⬜🟦⬜🟦⬜🟦⬜🟦⬜🟦<br>🟦🟦🟦😼🟦⬜🟦🟦🟦⬜🟦🟦🟦⬜🟦⬜🟦⬜🟦⬜🟦<br>🟦⬜🟦⬜🟦⬜⬜⬜🟦⬜⬜⬜⬜⬜🟦⬜🟦⬜🟦⬜🟦<br>🟦⬜🟦⬜🟦🟦🟦⬜🟦🟦🟦🟦🟦🟦🟦⬜🟦⬜🟦⬜🟦<br>🟦⬜⬜⬜⬜⬜⬜⬜🟦⬜⬜⬜⬜⬜⬜⬜⬜⬜⬜🟥🟦<br>🟦🟦🟦🟦🟦🟦🟦🟦🟦🟦🟦🟦🟦🟦🟦🟦🟦🟦🟦🟦🟦`;\n",
              "    </script>\n",
              "    "
            ],
            "text/plain": [
              "<IPython.core.display.HTML object>"
            ]
          },
          "metadata": {},
          "output_type": "display_data"
        },
        {
          "data": {
            "text/html": [
              "\n",
              "    <script>\n",
              "    document.getElementById('maze').innerHTML = `🟦🟦🟦🟦🟦🟦🟦🟦🟦🟦🟦🟦🟦🟦🟦🟦🟦🟦🟦🟦🟦<br>🟦🟨🟦⬜🟦⬜⬜⬜⬜⬜⬜⬜⬜⬜⬜⬜⬜⬜⬜⬜🟦<br>🟦🟨🟦⬜🟦⬜🟦🟦🟦🟦🟦⬜🟦🟦🟦🟦🟦🟦🟦⬜🟦<br>🟦🟨🟦⬜⬜⬜🟦⬜⬜⬜🟦⬜🟦⬜⬜⬜⬜⬜🟦⬜🟦<br>🟦🟨🟦🟦🟦🟦🟦⬜🟦⬜🟦⬜🟦⬜🟦🟦🟦⬜🟦⬜🟦<br>🟦🟨🟨🟨🟦⬜⬜⬜🟦⬜🟦⬜🟦⬜🟦⬜🟦⬜🟦⬜🟦<br>🟦🟦🟦🟨🟦⬜🟦🟦🟦⬜🟦🟦🟦⬜🟦⬜🟦⬜🟦⬜🟦<br>🟦⬜🟦😼🟦⬜⬜⬜🟦⬜⬜⬜⬜⬜🟦⬜🟦⬜🟦⬜🟦<br>🟦⬜🟦⬜🟦🟦🟦⬜🟦🟦🟦🟦🟦🟦🟦⬜🟦⬜🟦⬜🟦<br>🟦⬜⬜⬜⬜⬜⬜⬜🟦⬜⬜⬜⬜⬜⬜⬜⬜⬜⬜🟥🟦<br>🟦🟦🟦🟦🟦🟦🟦🟦🟦🟦🟦🟦🟦🟦🟦🟦🟦🟦🟦🟦🟦`;\n",
              "    </script>\n",
              "    "
            ],
            "text/plain": [
              "<IPython.core.display.HTML object>"
            ]
          },
          "metadata": {},
          "output_type": "display_data"
        },
        {
          "data": {
            "text/html": [
              "\n",
              "    <script>\n",
              "    document.getElementById('maze').innerHTML = `🟦🟦🟦🟦🟦🟦🟦🟦🟦🟦🟦🟦🟦🟦🟦🟦🟦🟦🟦🟦🟦<br>🟦🟨🟦⬜🟦⬜⬜⬜⬜⬜⬜⬜⬜⬜⬜⬜⬜⬜⬜⬜🟦<br>🟦🟨🟦⬜🟦⬜🟦🟦🟦🟦🟦⬜🟦🟦🟦🟦🟦🟦🟦⬜🟦<br>🟦🟨🟦⬜⬜⬜🟦⬜⬜⬜🟦⬜🟦⬜⬜⬜⬜⬜🟦⬜🟦<br>🟦🟨🟦🟦🟦🟦🟦⬜🟦⬜🟦⬜🟦⬜🟦🟦🟦⬜🟦⬜🟦<br>🟦🟨🟨🟨🟦⬜⬜⬜🟦⬜🟦⬜🟦⬜🟦⬜🟦⬜🟦⬜🟦<br>🟦🟦🟦🟨🟦⬜🟦🟦🟦⬜🟦🟦🟦⬜🟦⬜🟦⬜🟦⬜🟦<br>🟦⬜🟦🟨🟦⬜⬜⬜🟦⬜⬜⬜⬜⬜🟦⬜🟦⬜🟦⬜🟦<br>🟦⬜🟦😼🟦🟦🟦⬜🟦🟦🟦🟦🟦🟦🟦⬜🟦⬜🟦⬜🟦<br>🟦⬜⬜⬜⬜⬜⬜⬜🟦⬜⬜⬜⬜⬜⬜⬜⬜⬜⬜🟥🟦<br>🟦🟦🟦🟦🟦🟦🟦🟦🟦🟦🟦🟦🟦🟦🟦🟦🟦🟦🟦🟦🟦`;\n",
              "    </script>\n",
              "    "
            ],
            "text/plain": [
              "<IPython.core.display.HTML object>"
            ]
          },
          "metadata": {},
          "output_type": "display_data"
        },
        {
          "data": {
            "text/html": [
              "\n",
              "    <script>\n",
              "    document.getElementById('maze').innerHTML = `🟦🟦🟦🟦🟦🟦🟦🟦🟦🟦🟦🟦🟦🟦🟦🟦🟦🟦🟦🟦🟦<br>🟦🟨🟦⬜🟦⬜⬜⬜⬜⬜⬜⬜⬜⬜⬜⬜⬜⬜⬜⬜🟦<br>🟦🟨🟦⬜🟦⬜🟦🟦🟦🟦🟦⬜🟦🟦🟦🟦🟦🟦🟦⬜🟦<br>🟦🟨🟦⬜⬜⬜🟦⬜⬜⬜🟦⬜🟦⬜⬜⬜⬜⬜🟦⬜🟦<br>🟦🟨🟦🟦🟦🟦🟦⬜🟦⬜🟦⬜🟦⬜🟦🟦🟦⬜🟦⬜🟦<br>🟦🟨🟨🟨🟦⬜⬜⬜🟦⬜🟦⬜🟦⬜🟦⬜🟦⬜🟦⬜🟦<br>🟦🟦🟦🟨🟦⬜🟦🟦🟦⬜🟦🟦🟦⬜🟦⬜🟦⬜🟦⬜🟦<br>🟦⬜🟦🟨🟦⬜⬜⬜🟦⬜⬜⬜⬜⬜🟦⬜🟦⬜🟦⬜🟦<br>🟦⬜🟦🟨🟦🟦🟦⬜🟦🟦🟦🟦🟦🟦🟦⬜🟦⬜🟦⬜🟦<br>🟦⬜⬜😼⬜⬜⬜⬜🟦⬜⬜⬜⬜⬜⬜⬜⬜⬜⬜🟥🟦<br>🟦🟦🟦🟦🟦🟦🟦🟦🟦🟦🟦🟦🟦🟦🟦🟦🟦🟦🟦🟦🟦`;\n",
              "    </script>\n",
              "    "
            ],
            "text/plain": [
              "<IPython.core.display.HTML object>"
            ]
          },
          "metadata": {},
          "output_type": "display_data"
        },
        {
          "data": {
            "text/html": [
              "\n",
              "    <script>\n",
              "    document.getElementById('maze').innerHTML = `🟦🟦🟦🟦🟦🟦🟦🟦🟦🟦🟦🟦🟦🟦🟦🟦🟦🟦🟦🟦🟦<br>🟦🟨🟦⬜🟦⬜⬜⬜⬜⬜⬜⬜⬜⬜⬜⬜⬜⬜⬜⬜🟦<br>🟦🟨🟦⬜🟦⬜🟦🟦🟦🟦🟦⬜🟦🟦🟦🟦🟦🟦🟦⬜🟦<br>🟦🟨🟦⬜⬜⬜🟦⬜⬜⬜🟦⬜🟦⬜⬜⬜⬜⬜🟦⬜🟦<br>🟦🟨🟦🟦🟦🟦🟦⬜🟦⬜🟦⬜🟦⬜🟦🟦🟦⬜🟦⬜🟦<br>🟦🟨🟨🟨🟦⬜⬜⬜🟦⬜🟦⬜🟦⬜🟦⬜🟦⬜🟦⬜🟦<br>🟦🟦🟦🟨🟦⬜🟦🟦🟦⬜🟦🟦🟦⬜🟦⬜🟦⬜🟦⬜🟦<br>🟦⬜🟦🟨🟦⬜⬜⬜🟦⬜⬜⬜⬜⬜🟦⬜🟦⬜🟦⬜🟦<br>🟦⬜🟦🟨🟦🟦🟦⬜🟦🟦🟦🟦🟦🟦🟦⬜🟦⬜🟦⬜🟦<br>🟦⬜⬜🟨😼⬜⬜⬜🟦⬜⬜⬜⬜⬜⬜⬜⬜⬜⬜🟥🟦<br>🟦🟦🟦🟦🟦🟦🟦🟦🟦🟦🟦🟦🟦🟦🟦🟦🟦🟦🟦🟦🟦`;\n",
              "    </script>\n",
              "    "
            ],
            "text/plain": [
              "<IPython.core.display.HTML object>"
            ]
          },
          "metadata": {},
          "output_type": "display_data"
        },
        {
          "data": {
            "text/html": [
              "\n",
              "    <script>\n",
              "    document.getElementById('maze').innerHTML = `🟦🟦🟦🟦🟦🟦🟦🟦🟦🟦🟦🟦🟦🟦🟦🟦🟦🟦🟦🟦🟦<br>🟦🟨🟦⬜🟦⬜⬜⬜⬜⬜⬜⬜⬜⬜⬜⬜⬜⬜⬜⬜🟦<br>🟦🟨🟦⬜🟦⬜🟦🟦🟦🟦🟦⬜🟦🟦🟦🟦🟦🟦🟦⬜🟦<br>🟦🟨🟦⬜⬜⬜🟦⬜⬜⬜🟦⬜🟦⬜⬜⬜⬜⬜🟦⬜🟦<br>🟦🟨🟦🟦🟦🟦🟦⬜🟦⬜🟦⬜🟦⬜🟦🟦🟦⬜🟦⬜🟦<br>🟦🟨🟨🟨🟦⬜⬜⬜🟦⬜🟦⬜🟦⬜🟦⬜🟦⬜🟦⬜🟦<br>🟦🟦🟦🟨🟦⬜🟦🟦🟦⬜🟦🟦🟦⬜🟦⬜🟦⬜🟦⬜🟦<br>🟦⬜🟦🟨🟦⬜⬜⬜🟦⬜⬜⬜⬜⬜🟦⬜🟦⬜🟦⬜🟦<br>🟦⬜🟦🟨🟦🟦🟦⬜🟦🟦🟦🟦🟦🟦🟦⬜🟦⬜🟦⬜🟦<br>🟦⬜😼🟨🟨⬜⬜⬜🟦⬜⬜⬜⬜⬜⬜⬜⬜⬜⬜🟥🟦<br>🟦🟦🟦🟦🟦🟦🟦🟦🟦🟦🟦🟦🟦🟦🟦🟦🟦🟦🟦🟦🟦`;\n",
              "    </script>\n",
              "    "
            ],
            "text/plain": [
              "<IPython.core.display.HTML object>"
            ]
          },
          "metadata": {},
          "output_type": "display_data"
        },
        {
          "data": {
            "text/html": [
              "\n",
              "    <script>\n",
              "    document.getElementById('maze').innerHTML = `🟦🟦🟦🟦🟦🟦🟦🟦🟦🟦🟦🟦🟦🟦🟦🟦🟦🟦🟦🟦🟦<br>🟦🟨🟦⬜🟦⬜⬜⬜⬜⬜⬜⬜⬜⬜⬜⬜⬜⬜⬜⬜🟦<br>🟦🟨🟦⬜🟦⬜🟦🟦🟦🟦🟦⬜🟦🟦🟦🟦🟦🟦🟦⬜🟦<br>🟦🟨🟦⬜⬜⬜🟦⬜⬜⬜🟦⬜🟦⬜⬜⬜⬜⬜🟦⬜🟦<br>🟦🟨🟦🟦🟦🟦🟦⬜🟦⬜🟦⬜🟦⬜🟦🟦🟦⬜🟦⬜🟦<br>🟦🟨🟨🟨🟦⬜⬜⬜🟦⬜🟦⬜🟦⬜🟦⬜🟦⬜🟦⬜🟦<br>🟦🟦🟦🟨🟦⬜🟦🟦🟦⬜🟦🟦🟦⬜🟦⬜🟦⬜🟦⬜🟦<br>🟦⬜🟦🟨🟦⬜⬜⬜🟦⬜⬜⬜⬜⬜🟦⬜🟦⬜🟦⬜🟦<br>🟦⬜🟦🟨🟦🟦🟦⬜🟦🟦🟦🟦🟦🟦🟦⬜🟦⬜🟦⬜🟦<br>🟦⬜🟨🟨🟨😼⬜⬜🟦⬜⬜⬜⬜⬜⬜⬜⬜⬜⬜🟥🟦<br>🟦🟦🟦🟦🟦🟦🟦🟦🟦🟦🟦🟦🟦🟦🟦🟦🟦🟦🟦🟦🟦`;\n",
              "    </script>\n",
              "    "
            ],
            "text/plain": [
              "<IPython.core.display.HTML object>"
            ]
          },
          "metadata": {},
          "output_type": "display_data"
        },
        {
          "data": {
            "text/html": [
              "\n",
              "    <script>\n",
              "    document.getElementById('maze').innerHTML = `🟦🟦🟦🟦🟦🟦🟦🟦🟦🟦🟦🟦🟦🟦🟦🟦🟦🟦🟦🟦🟦<br>🟦🟨🟦⬜🟦⬜⬜⬜⬜⬜⬜⬜⬜⬜⬜⬜⬜⬜⬜⬜🟦<br>🟦🟨🟦⬜🟦⬜🟦🟦🟦🟦🟦⬜🟦🟦🟦🟦🟦🟦🟦⬜🟦<br>🟦🟨🟦⬜⬜⬜🟦⬜⬜⬜🟦⬜🟦⬜⬜⬜⬜⬜🟦⬜🟦<br>🟦🟨🟦🟦🟦🟦🟦⬜🟦⬜🟦⬜🟦⬜🟦🟦🟦⬜🟦⬜🟦<br>🟦🟨🟨🟨🟦⬜⬜⬜🟦⬜🟦⬜🟦⬜🟦⬜🟦⬜🟦⬜🟦<br>🟦🟦🟦🟨🟦⬜🟦🟦🟦⬜🟦🟦🟦⬜🟦⬜🟦⬜🟦⬜🟦<br>🟦⬜🟦🟨🟦⬜⬜⬜🟦⬜⬜⬜⬜⬜🟦⬜🟦⬜🟦⬜🟦<br>🟦⬜🟦🟨🟦🟦🟦⬜🟦🟦🟦🟦🟦🟦🟦⬜🟦⬜🟦⬜🟦<br>🟦😼🟨🟨🟨🟨⬜⬜🟦⬜⬜⬜⬜⬜⬜⬜⬜⬜⬜🟥🟦<br>🟦🟦🟦🟦🟦🟦🟦🟦🟦🟦🟦🟦🟦🟦🟦🟦🟦🟦🟦🟦🟦`;\n",
              "    </script>\n",
              "    "
            ],
            "text/plain": [
              "<IPython.core.display.HTML object>"
            ]
          },
          "metadata": {},
          "output_type": "display_data"
        },
        {
          "data": {
            "text/html": [
              "\n",
              "    <script>\n",
              "    document.getElementById('maze').innerHTML = `🟦🟦🟦🟦🟦🟦🟦🟦🟦🟦🟦🟦🟦🟦🟦🟦🟦🟦🟦🟦🟦<br>🟦🟨🟦⬜🟦⬜⬜⬜⬜⬜⬜⬜⬜⬜⬜⬜⬜⬜⬜⬜🟦<br>🟦🟨🟦⬜🟦⬜🟦🟦🟦🟦🟦⬜🟦🟦🟦🟦🟦🟦🟦⬜🟦<br>🟦🟨🟦⬜⬜⬜🟦⬜⬜⬜🟦⬜🟦⬜⬜⬜⬜⬜🟦⬜🟦<br>🟦🟨🟦🟦🟦🟦🟦⬜🟦⬜🟦⬜🟦⬜🟦🟦🟦⬜🟦⬜🟦<br>🟦🟨🟨🟨🟦⬜⬜⬜🟦⬜🟦⬜🟦⬜🟦⬜🟦⬜🟦⬜🟦<br>🟦🟦🟦🟨🟦⬜🟦🟦🟦⬜🟦🟦🟦⬜🟦⬜🟦⬜🟦⬜🟦<br>🟦⬜🟦🟨🟦⬜⬜⬜🟦⬜⬜⬜⬜⬜🟦⬜🟦⬜🟦⬜🟦<br>🟦⬜🟦🟨🟦🟦🟦⬜🟦🟦🟦🟦🟦🟦🟦⬜🟦⬜🟦⬜🟦<br>🟦🟨🟨🟨🟨🟨😼⬜🟦⬜⬜⬜⬜⬜⬜⬜⬜⬜⬜🟥🟦<br>🟦🟦🟦🟦🟦🟦🟦🟦🟦🟦🟦🟦🟦🟦🟦🟦🟦🟦🟦🟦🟦`;\n",
              "    </script>\n",
              "    "
            ],
            "text/plain": [
              "<IPython.core.display.HTML object>"
            ]
          },
          "metadata": {},
          "output_type": "display_data"
        },
        {
          "data": {
            "text/html": [
              "\n",
              "    <script>\n",
              "    document.getElementById('maze').innerHTML = `🟦🟦🟦🟦🟦🟦🟦🟦🟦🟦🟦🟦🟦🟦🟦🟦🟦🟦🟦🟦🟦<br>🟦🟨🟦⬜🟦⬜⬜⬜⬜⬜⬜⬜⬜⬜⬜⬜⬜⬜⬜⬜🟦<br>🟦🟨🟦⬜🟦⬜🟦🟦🟦🟦🟦⬜🟦🟦🟦🟦🟦🟦🟦⬜🟦<br>🟦🟨🟦⬜⬜⬜🟦⬜⬜⬜🟦⬜🟦⬜⬜⬜⬜⬜🟦⬜🟦<br>🟦🟨🟦🟦🟦🟦🟦⬜🟦⬜🟦⬜🟦⬜🟦🟦🟦⬜🟦⬜🟦<br>🟦🟨🟨🟨🟦⬜⬜⬜🟦⬜🟦⬜🟦⬜🟦⬜🟦⬜🟦⬜🟦<br>🟦🟦🟦🟨🟦⬜🟦🟦🟦⬜🟦🟦🟦⬜🟦⬜🟦⬜🟦⬜🟦<br>🟦⬜🟦🟨🟦⬜⬜⬜🟦⬜⬜⬜⬜⬜🟦⬜🟦⬜🟦⬜🟦<br>🟦😼🟦🟨🟦🟦🟦⬜🟦🟦🟦🟦🟦🟦🟦⬜🟦⬜🟦⬜🟦<br>🟦🟨🟨🟨🟨🟨🟨⬜🟦⬜⬜⬜⬜⬜⬜⬜⬜⬜⬜🟥🟦<br>🟦🟦🟦🟦🟦🟦🟦🟦🟦🟦🟦🟦🟦🟦🟦🟦🟦🟦🟦🟦🟦`;\n",
              "    </script>\n",
              "    "
            ],
            "text/plain": [
              "<IPython.core.display.HTML object>"
            ]
          },
          "metadata": {},
          "output_type": "display_data"
        },
        {
          "data": {
            "text/html": [
              "\n",
              "    <script>\n",
              "    document.getElementById('maze').innerHTML = `🟦🟦🟦🟦🟦🟦🟦🟦🟦🟦🟦🟦🟦🟦🟦🟦🟦🟦🟦🟦🟦<br>🟦🟨🟦⬜🟦⬜⬜⬜⬜⬜⬜⬜⬜⬜⬜⬜⬜⬜⬜⬜🟦<br>🟦🟨🟦⬜🟦⬜🟦🟦🟦🟦🟦⬜🟦🟦🟦🟦🟦🟦🟦⬜🟦<br>🟦🟨🟦⬜⬜⬜🟦⬜⬜⬜🟦⬜🟦⬜⬜⬜⬜⬜🟦⬜🟦<br>🟦🟨🟦🟦🟦🟦🟦⬜🟦⬜🟦⬜🟦⬜🟦🟦🟦⬜🟦⬜🟦<br>🟦🟨🟨🟨🟦⬜⬜⬜🟦⬜🟦⬜🟦⬜🟦⬜🟦⬜🟦⬜🟦<br>🟦🟦🟦🟨🟦⬜🟦🟦🟦⬜🟦🟦🟦⬜🟦⬜🟦⬜🟦⬜🟦<br>🟦⬜🟦🟨🟦⬜⬜⬜🟦⬜⬜⬜⬜⬜🟦⬜🟦⬜🟦⬜🟦<br>🟦🟨🟦🟨🟦🟦🟦⬜🟦🟦🟦🟦🟦🟦🟦⬜🟦⬜🟦⬜🟦<br>🟦🟨🟨🟨🟨🟨🟨😼🟦⬜⬜⬜⬜⬜⬜⬜⬜⬜⬜🟥🟦<br>🟦🟦🟦🟦🟦🟦🟦🟦🟦🟦🟦🟦🟦🟦🟦🟦🟦🟦🟦🟦🟦`;\n",
              "    </script>\n",
              "    "
            ],
            "text/plain": [
              "<IPython.core.display.HTML object>"
            ]
          },
          "metadata": {},
          "output_type": "display_data"
        },
        {
          "data": {
            "text/html": [
              "\n",
              "    <script>\n",
              "    document.getElementById('maze').innerHTML = `🟦🟦🟦🟦🟦🟦🟦🟦🟦🟦🟦🟦🟦🟦🟦🟦🟦🟦🟦🟦🟦<br>🟦🟨🟦⬜🟦⬜⬜⬜⬜⬜⬜⬜⬜⬜⬜⬜⬜⬜⬜⬜🟦<br>🟦🟨🟦⬜🟦⬜🟦🟦🟦🟦🟦⬜🟦🟦🟦🟦🟦🟦🟦⬜🟦<br>🟦🟨🟦⬜⬜⬜🟦⬜⬜⬜🟦⬜🟦⬜⬜⬜⬜⬜🟦⬜🟦<br>🟦🟨🟦🟦🟦🟦🟦⬜🟦⬜🟦⬜🟦⬜🟦🟦🟦⬜🟦⬜🟦<br>🟦🟨🟨🟨🟦⬜⬜⬜🟦⬜🟦⬜🟦⬜🟦⬜🟦⬜🟦⬜🟦<br>🟦🟦🟦🟨🟦⬜🟦🟦🟦⬜🟦🟦🟦⬜🟦⬜🟦⬜🟦⬜🟦<br>🟦😼🟦🟨🟦⬜⬜⬜🟦⬜⬜⬜⬜⬜🟦⬜🟦⬜🟦⬜🟦<br>🟦🟨🟦🟨🟦🟦🟦⬜🟦🟦🟦🟦🟦🟦🟦⬜🟦⬜🟦⬜🟦<br>🟦🟨🟨🟨🟨🟨🟨🟨🟦⬜⬜⬜⬜⬜⬜⬜⬜⬜⬜🟥🟦<br>🟦🟦🟦🟦🟦🟦🟦🟦🟦🟦🟦🟦🟦🟦🟦🟦🟦🟦🟦🟦🟦`;\n",
              "    </script>\n",
              "    "
            ],
            "text/plain": [
              "<IPython.core.display.HTML object>"
            ]
          },
          "metadata": {},
          "output_type": "display_data"
        },
        {
          "data": {
            "text/html": [
              "\n",
              "    <script>\n",
              "    document.getElementById('maze').innerHTML = `🟦🟦🟦🟦🟦🟦🟦🟦🟦🟦🟦🟦🟦🟦🟦🟦🟦🟦🟦🟦🟦<br>🟦🟨🟦⬜🟦⬜⬜⬜⬜⬜⬜⬜⬜⬜⬜⬜⬜⬜⬜⬜🟦<br>🟦🟨🟦⬜🟦⬜🟦🟦🟦🟦🟦⬜🟦🟦🟦🟦🟦🟦🟦⬜🟦<br>🟦🟨🟦⬜⬜⬜🟦⬜⬜⬜🟦⬜🟦⬜⬜⬜⬜⬜🟦⬜🟦<br>🟦🟨🟦🟦🟦🟦🟦⬜🟦⬜🟦⬜🟦⬜🟦🟦🟦⬜🟦⬜🟦<br>🟦🟨🟨🟨🟦⬜⬜⬜🟦⬜🟦⬜🟦⬜🟦⬜🟦⬜🟦⬜🟦<br>🟦🟦🟦🟨🟦⬜🟦🟦🟦⬜🟦🟦🟦⬜🟦⬜🟦⬜🟦⬜🟦<br>🟦🟨🟦🟨🟦⬜⬜⬜🟦⬜⬜⬜⬜⬜🟦⬜🟦⬜🟦⬜🟦<br>🟦🟨🟦🟨🟦🟦🟦😼🟦🟦🟦🟦🟦🟦🟦⬜🟦⬜🟦⬜🟦<br>🟦🟨🟨🟨🟨🟨🟨🟨🟦⬜⬜⬜⬜⬜⬜⬜⬜⬜⬜🟥🟦<br>🟦🟦🟦🟦🟦🟦🟦🟦🟦🟦🟦🟦🟦🟦🟦🟦🟦🟦🟦🟦🟦`;\n",
              "    </script>\n",
              "    "
            ],
            "text/plain": [
              "<IPython.core.display.HTML object>"
            ]
          },
          "metadata": {},
          "output_type": "display_data"
        },
        {
          "data": {
            "text/html": [
              "\n",
              "    <script>\n",
              "    document.getElementById('maze').innerHTML = `🟦🟦🟦🟦🟦🟦🟦🟦🟦🟦🟦🟦🟦🟦🟦🟦🟦🟦🟦🟦🟦<br>🟦🟨🟦⬜🟦⬜⬜⬜⬜⬜⬜⬜⬜⬜⬜⬜⬜⬜⬜⬜🟦<br>🟦🟨🟦⬜🟦⬜🟦🟦🟦🟦🟦⬜🟦🟦🟦🟦🟦🟦🟦⬜🟦<br>🟦🟨🟦⬜⬜⬜🟦⬜⬜⬜🟦⬜🟦⬜⬜⬜⬜⬜🟦⬜🟦<br>🟦🟨🟦🟦🟦🟦🟦⬜🟦⬜🟦⬜🟦⬜🟦🟦🟦⬜🟦⬜🟦<br>🟦🟨🟨🟨🟦⬜⬜⬜🟦⬜🟦⬜🟦⬜🟦⬜🟦⬜🟦⬜🟦<br>🟦🟦🟦🟨🟦⬜🟦🟦🟦⬜🟦🟦🟦⬜🟦⬜🟦⬜🟦⬜🟦<br>🟦🟨🟦🟨🟦⬜⬜😼🟦⬜⬜⬜⬜⬜🟦⬜🟦⬜🟦⬜🟦<br>🟦🟨🟦🟨🟦🟦🟦🟨🟦🟦🟦🟦🟦🟦🟦⬜🟦⬜🟦⬜🟦<br>🟦🟨🟨🟨🟨🟨🟨🟨🟦⬜⬜⬜⬜⬜⬜⬜⬜⬜⬜🟥🟦<br>🟦🟦🟦🟦🟦🟦🟦🟦🟦🟦🟦🟦🟦🟦🟦🟦🟦🟦🟦🟦🟦`;\n",
              "    </script>\n",
              "    "
            ],
            "text/plain": [
              "<IPython.core.display.HTML object>"
            ]
          },
          "metadata": {},
          "output_type": "display_data"
        },
        {
          "data": {
            "text/html": [
              "\n",
              "    <script>\n",
              "    document.getElementById('maze').innerHTML = `🟦🟦🟦🟦🟦🟦🟦🟦🟦🟦🟦🟦🟦🟦🟦🟦🟦🟦🟦🟦🟦<br>🟦🟨🟦⬜🟦⬜⬜⬜⬜⬜⬜⬜⬜⬜⬜⬜⬜⬜⬜⬜🟦<br>🟦🟨🟦⬜🟦⬜🟦🟦🟦🟦🟦⬜🟦🟦🟦🟦🟦🟦🟦⬜🟦<br>🟦🟨🟦⬜⬜⬜🟦⬜⬜⬜🟦⬜🟦⬜⬜⬜⬜⬜🟦⬜🟦<br>🟦🟨🟦🟦🟦🟦🟦⬜🟦⬜🟦⬜🟦⬜🟦🟦🟦⬜🟦⬜🟦<br>🟦🟨🟨🟨🟦⬜⬜⬜🟦⬜🟦⬜🟦⬜🟦⬜🟦⬜🟦⬜🟦<br>🟦🟦🟦🟨🟦⬜🟦🟦🟦⬜🟦🟦🟦⬜🟦⬜🟦⬜🟦⬜🟦<br>🟦🟨🟦🟨🟦⬜😼🟨🟦⬜⬜⬜⬜⬜🟦⬜🟦⬜🟦⬜🟦<br>🟦🟨🟦🟨🟦🟦🟦🟨🟦🟦🟦🟦🟦🟦🟦⬜🟦⬜🟦⬜🟦<br>🟦🟨🟨🟨🟨🟨🟨🟨🟦⬜⬜⬜⬜⬜⬜⬜⬜⬜⬜🟥🟦<br>🟦🟦🟦🟦🟦🟦🟦🟦🟦🟦🟦🟦🟦🟦🟦🟦🟦🟦🟦🟦🟦`;\n",
              "    </script>\n",
              "    "
            ],
            "text/plain": [
              "<IPython.core.display.HTML object>"
            ]
          },
          "metadata": {},
          "output_type": "display_data"
        },
        {
          "data": {
            "text/html": [
              "\n",
              "    <script>\n",
              "    document.getElementById('maze').innerHTML = `🟦🟦🟦🟦🟦🟦🟦🟦🟦🟦🟦🟦🟦🟦🟦🟦🟦🟦🟦🟦🟦<br>🟦🟨🟦⬜🟦⬜⬜⬜⬜⬜⬜⬜⬜⬜⬜⬜⬜⬜⬜⬜🟦<br>🟦🟨🟦⬜🟦⬜🟦🟦🟦🟦🟦⬜🟦🟦🟦🟦🟦🟦🟦⬜🟦<br>🟦🟨🟦⬜⬜⬜🟦⬜⬜⬜🟦⬜🟦⬜⬜⬜⬜⬜🟦⬜🟦<br>🟦🟨🟦🟦🟦🟦🟦⬜🟦⬜🟦⬜🟦⬜🟦🟦🟦⬜🟦⬜🟦<br>🟦🟨🟨🟨🟦⬜⬜⬜🟦⬜🟦⬜🟦⬜🟦⬜🟦⬜🟦⬜🟦<br>🟦🟦🟦🟨🟦⬜🟦🟦🟦⬜🟦🟦🟦⬜🟦⬜🟦⬜🟦⬜🟦<br>🟦🟨🟦🟨🟦😼🟨🟨🟦⬜⬜⬜⬜⬜🟦⬜🟦⬜🟦⬜🟦<br>🟦🟨🟦🟨🟦🟦🟦🟨🟦🟦🟦🟦🟦🟦🟦⬜🟦⬜🟦⬜🟦<br>🟦🟨🟨🟨🟨🟨🟨🟨🟦⬜⬜⬜⬜⬜⬜⬜⬜⬜⬜🟥🟦<br>🟦🟦🟦🟦🟦🟦🟦🟦🟦🟦🟦🟦🟦🟦🟦🟦🟦🟦🟦🟦🟦`;\n",
              "    </script>\n",
              "    "
            ],
            "text/plain": [
              "<IPython.core.display.HTML object>"
            ]
          },
          "metadata": {},
          "output_type": "display_data"
        },
        {
          "data": {
            "text/html": [
              "\n",
              "    <script>\n",
              "    document.getElementById('maze').innerHTML = `🟦🟦🟦🟦🟦🟦🟦🟦🟦🟦🟦🟦🟦🟦🟦🟦🟦🟦🟦🟦🟦<br>🟦🟨🟦⬜🟦⬜⬜⬜⬜⬜⬜⬜⬜⬜⬜⬜⬜⬜⬜⬜🟦<br>🟦🟨🟦⬜🟦⬜🟦🟦🟦🟦🟦⬜🟦🟦🟦🟦🟦🟦🟦⬜🟦<br>🟦🟨🟦⬜⬜⬜🟦⬜⬜⬜🟦⬜🟦⬜⬜⬜⬜⬜🟦⬜🟦<br>🟦🟨🟦🟦🟦🟦🟦⬜🟦⬜🟦⬜🟦⬜🟦🟦🟦⬜🟦⬜🟦<br>🟦🟨🟨🟨🟦⬜⬜⬜🟦⬜🟦⬜🟦⬜🟦⬜🟦⬜🟦⬜🟦<br>🟦🟦🟦🟨🟦😼🟦🟦🟦⬜🟦🟦🟦⬜🟦⬜🟦⬜🟦⬜🟦<br>🟦🟨🟦🟨🟦🟨🟨🟨🟦⬜⬜⬜⬜⬜🟦⬜🟦⬜🟦⬜🟦<br>🟦🟨🟦🟨🟦🟦🟦🟨🟦🟦🟦🟦🟦🟦🟦⬜🟦⬜🟦⬜🟦<br>🟦🟨🟨🟨🟨🟨🟨🟨🟦⬜⬜⬜⬜⬜⬜⬜⬜⬜⬜🟥🟦<br>🟦🟦🟦🟦🟦🟦🟦🟦🟦🟦🟦🟦🟦🟦🟦🟦🟦🟦🟦🟦🟦`;\n",
              "    </script>\n",
              "    "
            ],
            "text/plain": [
              "<IPython.core.display.HTML object>"
            ]
          },
          "metadata": {},
          "output_type": "display_data"
        },
        {
          "data": {
            "text/html": [
              "\n",
              "    <script>\n",
              "    document.getElementById('maze').innerHTML = `🟦🟦🟦🟦🟦🟦🟦🟦🟦🟦🟦🟦🟦🟦🟦🟦🟦🟦🟦🟦🟦<br>🟦🟨🟦⬜🟦⬜⬜⬜⬜⬜⬜⬜⬜⬜⬜⬜⬜⬜⬜⬜🟦<br>🟦🟨🟦⬜🟦⬜🟦🟦🟦🟦🟦⬜🟦🟦🟦🟦🟦🟦🟦⬜🟦<br>🟦🟨🟦⬜⬜⬜🟦⬜⬜⬜🟦⬜🟦⬜⬜⬜⬜⬜🟦⬜🟦<br>🟦🟨🟦🟦🟦🟦🟦⬜🟦⬜🟦⬜🟦⬜🟦🟦🟦⬜🟦⬜🟦<br>🟦🟨🟨🟨🟦😼⬜⬜🟦⬜🟦⬜🟦⬜🟦⬜🟦⬜🟦⬜🟦<br>🟦🟦🟦🟨🟦🟨🟦🟦🟦⬜🟦🟦🟦⬜🟦⬜🟦⬜🟦⬜🟦<br>🟦🟨🟦🟨🟦🟨🟨🟨🟦⬜⬜⬜⬜⬜🟦⬜🟦⬜🟦⬜🟦<br>🟦🟨🟦🟨🟦🟦🟦🟨🟦🟦🟦🟦🟦🟦🟦⬜🟦⬜🟦⬜🟦<br>🟦🟨🟨🟨🟨🟨🟨🟨🟦⬜⬜⬜⬜⬜⬜⬜⬜⬜⬜🟥🟦<br>🟦🟦🟦🟦🟦🟦🟦🟦🟦🟦🟦🟦🟦🟦🟦🟦🟦🟦🟦🟦🟦`;\n",
              "    </script>\n",
              "    "
            ],
            "text/plain": [
              "<IPython.core.display.HTML object>"
            ]
          },
          "metadata": {},
          "output_type": "display_data"
        },
        {
          "data": {
            "text/html": [
              "\n",
              "    <script>\n",
              "    document.getElementById('maze').innerHTML = `🟦🟦🟦🟦🟦🟦🟦🟦🟦🟦🟦🟦🟦🟦🟦🟦🟦🟦🟦🟦🟦<br>🟦🟨🟦⬜🟦⬜⬜⬜⬜⬜⬜⬜⬜⬜⬜⬜⬜⬜⬜⬜🟦<br>🟦🟨🟦⬜🟦⬜🟦🟦🟦🟦🟦⬜🟦🟦🟦🟦🟦🟦🟦⬜🟦<br>🟦🟨🟦⬜⬜⬜🟦⬜⬜⬜🟦⬜🟦⬜⬜⬜⬜⬜🟦⬜🟦<br>🟦🟨🟦🟦🟦🟦🟦⬜🟦⬜🟦⬜🟦⬜🟦🟦🟦⬜🟦⬜🟦<br>🟦🟨🟨🟨🟦🟨😼⬜🟦⬜🟦⬜🟦⬜🟦⬜🟦⬜🟦⬜🟦<br>🟦🟦🟦🟨🟦🟨🟦🟦🟦⬜🟦🟦🟦⬜🟦⬜🟦⬜🟦⬜🟦<br>🟦🟨🟦🟨🟦🟨🟨🟨🟦⬜⬜⬜⬜⬜🟦⬜🟦⬜🟦⬜🟦<br>🟦🟨🟦🟨🟦🟦🟦🟨🟦🟦🟦🟦🟦🟦🟦⬜🟦⬜🟦⬜🟦<br>🟦🟨🟨🟨🟨🟨🟨🟨🟦⬜⬜⬜⬜⬜⬜⬜⬜⬜⬜🟥🟦<br>🟦🟦🟦🟦🟦🟦🟦🟦🟦🟦🟦🟦🟦🟦🟦🟦🟦🟦🟦🟦🟦`;\n",
              "    </script>\n",
              "    "
            ],
            "text/plain": [
              "<IPython.core.display.HTML object>"
            ]
          },
          "metadata": {},
          "output_type": "display_data"
        },
        {
          "data": {
            "text/html": [
              "\n",
              "    <script>\n",
              "    document.getElementById('maze').innerHTML = `🟦🟦🟦🟦🟦🟦🟦🟦🟦🟦🟦🟦🟦🟦🟦🟦🟦🟦🟦🟦🟦<br>🟦🟨🟦⬜🟦⬜⬜⬜⬜⬜⬜⬜⬜⬜⬜⬜⬜⬜⬜⬜🟦<br>🟦🟨🟦⬜🟦⬜🟦🟦🟦🟦🟦⬜🟦🟦🟦🟦🟦🟦🟦⬜🟦<br>🟦🟨🟦⬜⬜⬜🟦⬜⬜⬜🟦⬜🟦⬜⬜⬜⬜⬜🟦⬜🟦<br>🟦🟨🟦🟦🟦🟦🟦⬜🟦⬜🟦⬜🟦⬜🟦🟦🟦⬜🟦⬜🟦<br>🟦🟨🟨🟨🟦🟨🟨😼🟦⬜🟦⬜🟦⬜🟦⬜🟦⬜🟦⬜🟦<br>🟦🟦🟦🟨🟦🟨🟦🟦🟦⬜🟦🟦🟦⬜🟦⬜🟦⬜🟦⬜🟦<br>🟦🟨🟦🟨🟦🟨🟨🟨🟦⬜⬜⬜⬜⬜🟦⬜🟦⬜🟦⬜🟦<br>🟦🟨🟦🟨🟦🟦🟦🟨🟦🟦🟦🟦🟦🟦🟦⬜🟦⬜🟦⬜🟦<br>🟦🟨🟨🟨🟨🟨🟨🟨🟦⬜⬜⬜⬜⬜⬜⬜⬜⬜⬜🟥🟦<br>🟦🟦🟦🟦🟦🟦🟦🟦🟦🟦🟦🟦🟦🟦🟦🟦🟦🟦🟦🟦🟦`;\n",
              "    </script>\n",
              "    "
            ],
            "text/plain": [
              "<IPython.core.display.HTML object>"
            ]
          },
          "metadata": {},
          "output_type": "display_data"
        },
        {
          "data": {
            "text/html": [
              "\n",
              "    <script>\n",
              "    document.getElementById('maze').innerHTML = `🟦🟦🟦🟦🟦🟦🟦🟦🟦🟦🟦🟦🟦🟦🟦🟦🟦🟦🟦🟦🟦<br>🟦🟨🟦⬜🟦⬜⬜⬜⬜⬜⬜⬜⬜⬜⬜⬜⬜⬜⬜⬜🟦<br>🟦🟨🟦⬜🟦⬜🟦🟦🟦🟦🟦⬜🟦🟦🟦🟦🟦🟦🟦⬜🟦<br>🟦🟨🟦⬜⬜⬜🟦⬜⬜⬜🟦⬜🟦⬜⬜⬜⬜⬜🟦⬜🟦<br>🟦🟨🟦🟦🟦🟦🟦😼🟦⬜🟦⬜🟦⬜🟦🟦🟦⬜🟦⬜🟦<br>🟦🟨🟨🟨🟦🟨🟨🟨🟦⬜🟦⬜🟦⬜🟦⬜🟦⬜🟦⬜🟦<br>🟦🟦🟦🟨🟦🟨🟦🟦🟦⬜🟦🟦🟦⬜🟦⬜🟦⬜🟦⬜🟦<br>🟦🟨🟦🟨🟦🟨🟨🟨🟦⬜⬜⬜⬜⬜🟦⬜🟦⬜🟦⬜🟦<br>🟦🟨🟦🟨🟦🟦🟦🟨🟦🟦🟦🟦🟦🟦🟦⬜🟦⬜🟦⬜🟦<br>🟦🟨🟨🟨🟨🟨🟨🟨🟦⬜⬜⬜⬜⬜⬜⬜⬜⬜⬜🟥🟦<br>🟦🟦🟦🟦🟦🟦🟦🟦🟦🟦🟦🟦🟦🟦🟦🟦🟦🟦🟦🟦🟦`;\n",
              "    </script>\n",
              "    "
            ],
            "text/plain": [
              "<IPython.core.display.HTML object>"
            ]
          },
          "metadata": {},
          "output_type": "display_data"
        },
        {
          "data": {
            "text/html": [
              "\n",
              "    <script>\n",
              "    document.getElementById('maze').innerHTML = `🟦🟦🟦🟦🟦🟦🟦🟦🟦🟦🟦🟦🟦🟦🟦🟦🟦🟦🟦🟦🟦<br>🟦🟨🟦⬜🟦⬜⬜⬜⬜⬜⬜⬜⬜⬜⬜⬜⬜⬜⬜⬜🟦<br>🟦🟨🟦⬜🟦⬜🟦🟦🟦🟦🟦⬜🟦🟦🟦🟦🟦🟦🟦⬜🟦<br>🟦🟨🟦⬜⬜⬜🟦😼⬜⬜🟦⬜🟦⬜⬜⬜⬜⬜🟦⬜🟦<br>🟦🟨🟦🟦🟦🟦🟦🟨🟦⬜🟦⬜🟦⬜🟦🟦🟦⬜🟦⬜🟦<br>🟦🟨🟨🟨🟦🟨🟨🟨🟦⬜🟦⬜🟦⬜🟦⬜🟦⬜🟦⬜🟦<br>🟦🟦🟦🟨🟦🟨🟦🟦🟦⬜🟦🟦🟦⬜🟦⬜🟦⬜🟦⬜🟦<br>🟦🟨🟦🟨🟦🟨🟨🟨🟦⬜⬜⬜⬜⬜🟦⬜🟦⬜🟦⬜🟦<br>🟦🟨🟦🟨🟦🟦🟦🟨🟦🟦🟦🟦🟦🟦🟦⬜🟦⬜🟦⬜🟦<br>🟦🟨🟨🟨🟨🟨🟨🟨🟦⬜⬜⬜⬜⬜⬜⬜⬜⬜⬜🟥🟦<br>🟦🟦🟦🟦🟦🟦🟦🟦🟦🟦🟦🟦🟦🟦🟦🟦🟦🟦🟦🟦🟦`;\n",
              "    </script>\n",
              "    "
            ],
            "text/plain": [
              "<IPython.core.display.HTML object>"
            ]
          },
          "metadata": {},
          "output_type": "display_data"
        },
        {
          "data": {
            "text/html": [
              "\n",
              "    <script>\n",
              "    document.getElementById('maze').innerHTML = `🟦🟦🟦🟦🟦🟦🟦🟦🟦🟦🟦🟦🟦🟦🟦🟦🟦🟦🟦🟦🟦<br>🟦🟨🟦⬜🟦⬜⬜⬜⬜⬜⬜⬜⬜⬜⬜⬜⬜⬜⬜⬜🟦<br>🟦🟨🟦⬜🟦⬜🟦🟦🟦🟦🟦⬜🟦🟦🟦🟦🟦🟦🟦⬜🟦<br>🟦🟨🟦⬜⬜⬜🟦🟨😼⬜🟦⬜🟦⬜⬜⬜⬜⬜🟦⬜🟦<br>🟦🟨🟦🟦🟦🟦🟦🟨🟦⬜🟦⬜🟦⬜🟦🟦🟦⬜🟦⬜🟦<br>🟦🟨🟨🟨🟦🟨🟨🟨🟦⬜🟦⬜🟦⬜🟦⬜🟦⬜🟦⬜🟦<br>🟦🟦🟦🟨🟦🟨🟦🟦🟦⬜🟦🟦🟦⬜🟦⬜🟦⬜🟦⬜🟦<br>🟦🟨🟦🟨🟦🟨🟨🟨🟦⬜⬜⬜⬜⬜🟦⬜🟦⬜🟦⬜🟦<br>🟦🟨🟦🟨🟦🟦🟦🟨🟦🟦🟦🟦🟦🟦🟦⬜🟦⬜🟦⬜🟦<br>🟦🟨🟨🟨🟨🟨🟨🟨🟦⬜⬜⬜⬜⬜⬜⬜⬜⬜⬜🟥🟦<br>🟦🟦🟦🟦🟦🟦🟦🟦🟦🟦🟦🟦🟦🟦🟦🟦🟦🟦🟦🟦🟦`;\n",
              "    </script>\n",
              "    "
            ],
            "text/plain": [
              "<IPython.core.display.HTML object>"
            ]
          },
          "metadata": {},
          "output_type": "display_data"
        },
        {
          "data": {
            "text/html": [
              "\n",
              "    <script>\n",
              "    document.getElementById('maze').innerHTML = `🟦🟦🟦🟦🟦🟦🟦🟦🟦🟦🟦🟦🟦🟦🟦🟦🟦🟦🟦🟦🟦<br>🟦🟨🟦⬜🟦⬜⬜⬜⬜⬜⬜⬜⬜⬜⬜⬜⬜⬜⬜⬜🟦<br>🟦🟨🟦⬜🟦⬜🟦🟦🟦🟦🟦⬜🟦🟦🟦🟦🟦🟦🟦⬜🟦<br>🟦🟨🟦⬜⬜⬜🟦🟨🟨😼🟦⬜🟦⬜⬜⬜⬜⬜🟦⬜🟦<br>🟦🟨🟦🟦🟦🟦🟦🟨🟦⬜🟦⬜🟦⬜🟦🟦🟦⬜🟦⬜🟦<br>🟦🟨🟨🟨🟦🟨🟨🟨🟦⬜🟦⬜🟦⬜🟦⬜🟦⬜🟦⬜🟦<br>🟦🟦🟦🟨🟦🟨🟦🟦🟦⬜🟦🟦🟦⬜🟦⬜🟦⬜🟦⬜🟦<br>🟦🟨🟦🟨🟦🟨🟨🟨🟦⬜⬜⬜⬜⬜🟦⬜🟦⬜🟦⬜🟦<br>🟦🟨🟦🟨🟦🟦🟦🟨🟦🟦🟦🟦🟦🟦🟦⬜🟦⬜🟦⬜🟦<br>🟦🟨🟨🟨🟨🟨🟨🟨🟦⬜⬜⬜⬜⬜⬜⬜⬜⬜⬜🟥🟦<br>🟦🟦🟦🟦🟦🟦🟦🟦🟦🟦🟦🟦🟦🟦🟦🟦🟦🟦🟦🟦🟦`;\n",
              "    </script>\n",
              "    "
            ],
            "text/plain": [
              "<IPython.core.display.HTML object>"
            ]
          },
          "metadata": {},
          "output_type": "display_data"
        },
        {
          "data": {
            "text/html": [
              "\n",
              "    <script>\n",
              "    document.getElementById('maze').innerHTML = `🟦🟦🟦🟦🟦🟦🟦🟦🟦🟦🟦🟦🟦🟦🟦🟦🟦🟦🟦🟦🟦<br>🟦🟨🟦⬜🟦⬜⬜⬜⬜⬜⬜⬜⬜⬜⬜⬜⬜⬜⬜⬜🟦<br>🟦🟨🟦⬜🟦⬜🟦🟦🟦🟦🟦⬜🟦🟦🟦🟦🟦🟦🟦⬜🟦<br>🟦🟨🟦⬜⬜⬜🟦🟨🟨🟨🟦⬜🟦⬜⬜⬜⬜⬜🟦⬜🟦<br>🟦🟨🟦🟦🟦🟦🟦🟨🟦😼🟦⬜🟦⬜🟦🟦🟦⬜🟦⬜🟦<br>🟦🟨🟨🟨🟦🟨🟨🟨🟦⬜🟦⬜🟦⬜🟦⬜🟦⬜🟦⬜🟦<br>🟦🟦🟦🟨🟦🟨🟦🟦🟦⬜🟦🟦🟦⬜🟦⬜🟦⬜🟦⬜🟦<br>🟦🟨🟦🟨🟦🟨🟨🟨🟦⬜⬜⬜⬜⬜🟦⬜🟦⬜🟦⬜🟦<br>🟦🟨🟦🟨🟦🟦🟦🟨🟦🟦🟦🟦🟦🟦🟦⬜🟦⬜🟦⬜🟦<br>🟦🟨🟨🟨🟨🟨🟨🟨🟦⬜⬜⬜⬜⬜⬜⬜⬜⬜⬜🟥🟦<br>🟦🟦🟦🟦🟦🟦🟦🟦🟦🟦🟦🟦🟦🟦🟦🟦🟦🟦🟦🟦🟦`;\n",
              "    </script>\n",
              "    "
            ],
            "text/plain": [
              "<IPython.core.display.HTML object>"
            ]
          },
          "metadata": {},
          "output_type": "display_data"
        },
        {
          "data": {
            "text/html": [
              "\n",
              "    <script>\n",
              "    document.getElementById('maze').innerHTML = `🟦🟦🟦🟦🟦🟦🟦🟦🟦🟦🟦🟦🟦🟦🟦🟦🟦🟦🟦🟦🟦<br>🟦🟨🟦⬜🟦⬜⬜⬜⬜⬜⬜⬜⬜⬜⬜⬜⬜⬜⬜⬜🟦<br>🟦🟨🟦⬜🟦⬜🟦🟦🟦🟦🟦⬜🟦🟦🟦🟦🟦🟦🟦⬜🟦<br>🟦🟨🟦⬜⬜⬜🟦🟨🟨🟨🟦⬜🟦⬜⬜⬜⬜⬜🟦⬜🟦<br>🟦🟨🟦🟦🟦🟦🟦🟨🟦🟨🟦⬜🟦⬜🟦🟦🟦⬜🟦⬜🟦<br>🟦🟨🟨🟨🟦🟨🟨🟨🟦😼🟦⬜🟦⬜🟦⬜🟦⬜🟦⬜🟦<br>🟦🟦🟦🟨🟦🟨🟦🟦🟦⬜🟦🟦🟦⬜🟦⬜🟦⬜🟦⬜🟦<br>🟦🟨🟦🟨🟦🟨🟨🟨🟦⬜⬜⬜⬜⬜🟦⬜🟦⬜🟦⬜🟦<br>🟦🟨🟦🟨🟦🟦🟦🟨🟦🟦🟦🟦🟦🟦🟦⬜🟦⬜🟦⬜🟦<br>🟦🟨🟨🟨🟨🟨🟨🟨🟦⬜⬜⬜⬜⬜⬜⬜⬜⬜⬜🟥🟦<br>🟦🟦🟦🟦🟦🟦🟦🟦🟦🟦🟦🟦🟦🟦🟦🟦🟦🟦🟦🟦🟦`;\n",
              "    </script>\n",
              "    "
            ],
            "text/plain": [
              "<IPython.core.display.HTML object>"
            ]
          },
          "metadata": {},
          "output_type": "display_data"
        },
        {
          "data": {
            "text/html": [
              "\n",
              "    <script>\n",
              "    document.getElementById('maze').innerHTML = `🟦🟦🟦🟦🟦🟦🟦🟦🟦🟦🟦🟦🟦🟦🟦🟦🟦🟦🟦🟦🟦<br>🟦🟨🟦⬜🟦⬜⬜⬜⬜⬜⬜⬜⬜⬜⬜⬜⬜⬜⬜⬜🟦<br>🟦🟨🟦⬜🟦⬜🟦🟦🟦🟦🟦⬜🟦🟦🟦🟦🟦🟦🟦⬜🟦<br>🟦🟨🟦⬜⬜⬜🟦🟨🟨🟨🟦⬜🟦⬜⬜⬜⬜⬜🟦⬜🟦<br>🟦🟨🟦🟦🟦🟦🟦🟨🟦🟨🟦⬜🟦⬜🟦🟦🟦⬜🟦⬜🟦<br>🟦🟨🟨🟨🟦🟨🟨🟨🟦🟨🟦⬜🟦⬜🟦⬜🟦⬜🟦⬜🟦<br>🟦🟦🟦🟨🟦🟨🟦🟦🟦😼🟦🟦🟦⬜🟦⬜🟦⬜🟦⬜🟦<br>🟦🟨🟦🟨🟦🟨🟨🟨🟦⬜⬜⬜⬜⬜🟦⬜🟦⬜🟦⬜🟦<br>🟦🟨🟦🟨🟦🟦🟦🟨🟦🟦🟦🟦🟦🟦🟦⬜🟦⬜🟦⬜🟦<br>🟦🟨🟨🟨🟨🟨🟨🟨🟦⬜⬜⬜⬜⬜⬜⬜⬜⬜⬜🟥🟦<br>🟦🟦🟦🟦🟦🟦🟦🟦🟦🟦🟦🟦🟦🟦🟦🟦🟦🟦🟦🟦🟦`;\n",
              "    </script>\n",
              "    "
            ],
            "text/plain": [
              "<IPython.core.display.HTML object>"
            ]
          },
          "metadata": {},
          "output_type": "display_data"
        },
        {
          "data": {
            "text/html": [
              "\n",
              "    <script>\n",
              "    document.getElementById('maze').innerHTML = `🟦🟦🟦🟦🟦🟦🟦🟦🟦🟦🟦🟦🟦🟦🟦🟦🟦🟦🟦🟦🟦<br>🟦🟨🟦⬜🟦⬜⬜⬜⬜⬜⬜⬜⬜⬜⬜⬜⬜⬜⬜⬜🟦<br>🟦🟨🟦⬜🟦⬜🟦🟦🟦🟦🟦⬜🟦🟦🟦🟦🟦🟦🟦⬜🟦<br>🟦🟨🟦⬜⬜⬜🟦🟨🟨🟨🟦⬜🟦⬜⬜⬜⬜⬜🟦⬜🟦<br>🟦🟨🟦🟦🟦🟦🟦🟨🟦🟨🟦⬜🟦⬜🟦🟦🟦⬜🟦⬜🟦<br>🟦🟨🟨🟨🟦🟨🟨🟨🟦🟨🟦⬜🟦⬜🟦⬜🟦⬜🟦⬜🟦<br>🟦🟦🟦🟨🟦🟨🟦🟦🟦🟨🟦🟦🟦⬜🟦⬜🟦⬜🟦⬜🟦<br>🟦🟨🟦🟨🟦🟨🟨🟨🟦😼⬜⬜⬜⬜🟦⬜🟦⬜🟦⬜🟦<br>🟦🟨🟦🟨🟦🟦🟦🟨🟦🟦🟦🟦🟦🟦🟦⬜🟦⬜🟦⬜🟦<br>🟦🟨🟨🟨🟨🟨🟨🟨🟦⬜⬜⬜⬜⬜⬜⬜⬜⬜⬜🟥🟦<br>🟦🟦🟦🟦🟦🟦🟦🟦🟦🟦🟦🟦🟦🟦🟦🟦🟦🟦🟦🟦🟦`;\n",
              "    </script>\n",
              "    "
            ],
            "text/plain": [
              "<IPython.core.display.HTML object>"
            ]
          },
          "metadata": {},
          "output_type": "display_data"
        },
        {
          "data": {
            "text/html": [
              "\n",
              "    <script>\n",
              "    document.getElementById('maze').innerHTML = `🟦🟦🟦🟦🟦🟦🟦🟦🟦🟦🟦🟦🟦🟦🟦🟦🟦🟦🟦🟦🟦<br>🟦🟨🟦⬜🟦⬜⬜⬜⬜⬜⬜⬜⬜⬜⬜⬜⬜⬜⬜⬜🟦<br>🟦🟨🟦⬜🟦⬜🟦🟦🟦🟦🟦⬜🟦🟦🟦🟦🟦🟦🟦⬜🟦<br>🟦🟨🟦⬜⬜⬜🟦🟨🟨🟨🟦⬜🟦⬜⬜⬜⬜⬜🟦⬜🟦<br>🟦🟨🟦🟦🟦🟦🟦🟨🟦🟨🟦⬜🟦⬜🟦🟦🟦⬜🟦⬜🟦<br>🟦🟨🟨🟨🟦🟨🟨🟨🟦🟨🟦⬜🟦⬜🟦⬜🟦⬜🟦⬜🟦<br>🟦🟦🟦🟨🟦🟨🟦🟦🟦🟨🟦🟦🟦⬜🟦⬜🟦⬜🟦⬜🟦<br>🟦🟨🟦🟨🟦🟨🟨🟨🟦🟨😼⬜⬜⬜🟦⬜🟦⬜🟦⬜🟦<br>🟦🟨🟦🟨🟦🟦🟦🟨🟦🟦🟦🟦🟦🟦🟦⬜🟦⬜🟦⬜🟦<br>🟦🟨🟨🟨🟨🟨🟨🟨🟦⬜⬜⬜⬜⬜⬜⬜⬜⬜⬜🟥🟦<br>🟦🟦🟦🟦🟦🟦🟦🟦🟦🟦🟦🟦🟦🟦🟦🟦🟦🟦🟦🟦🟦`;\n",
              "    </script>\n",
              "    "
            ],
            "text/plain": [
              "<IPython.core.display.HTML object>"
            ]
          },
          "metadata": {},
          "output_type": "display_data"
        },
        {
          "data": {
            "text/html": [
              "\n",
              "    <script>\n",
              "    document.getElementById('maze').innerHTML = `🟦🟦🟦🟦🟦🟦🟦🟦🟦🟦🟦🟦🟦🟦🟦🟦🟦🟦🟦🟦🟦<br>🟦🟨🟦⬜🟦⬜⬜⬜⬜⬜⬜⬜⬜⬜⬜⬜⬜⬜⬜⬜🟦<br>🟦🟨🟦⬜🟦⬜🟦🟦🟦🟦🟦⬜🟦🟦🟦🟦🟦🟦🟦⬜🟦<br>🟦🟨🟦⬜⬜⬜🟦🟨🟨🟨🟦⬜🟦⬜⬜⬜⬜⬜🟦⬜🟦<br>🟦🟨🟦🟦🟦🟦🟦🟨🟦🟨🟦⬜🟦⬜🟦🟦🟦⬜🟦⬜🟦<br>🟦🟨🟨🟨🟦🟨🟨🟨🟦🟨🟦⬜🟦⬜🟦⬜🟦⬜🟦⬜🟦<br>🟦🟦🟦🟨🟦🟨🟦🟦🟦🟨🟦🟦🟦⬜🟦⬜🟦⬜🟦⬜🟦<br>🟦🟨🟦🟨🟦🟨🟨🟨🟦🟨🟨😼⬜⬜🟦⬜🟦⬜🟦⬜🟦<br>🟦🟨🟦🟨🟦🟦🟦🟨🟦🟦🟦🟦🟦🟦🟦⬜🟦⬜🟦⬜🟦<br>🟦🟨🟨🟨🟨🟨🟨🟨🟦⬜⬜⬜⬜⬜⬜⬜⬜⬜⬜🟥🟦<br>🟦🟦🟦🟦🟦🟦🟦🟦🟦🟦🟦🟦🟦🟦🟦🟦🟦🟦🟦🟦🟦`;\n",
              "    </script>\n",
              "    "
            ],
            "text/plain": [
              "<IPython.core.display.HTML object>"
            ]
          },
          "metadata": {},
          "output_type": "display_data"
        },
        {
          "data": {
            "text/html": [
              "\n",
              "    <script>\n",
              "    document.getElementById('maze').innerHTML = `🟦🟦🟦🟦🟦🟦🟦🟦🟦🟦🟦🟦🟦🟦🟦🟦🟦🟦🟦🟦🟦<br>🟦🟨🟦⬜🟦⬜⬜⬜⬜⬜⬜⬜⬜⬜⬜⬜⬜⬜⬜⬜🟦<br>🟦🟨🟦⬜🟦⬜🟦🟦🟦🟦🟦⬜🟦🟦🟦🟦🟦🟦🟦⬜🟦<br>🟦🟨🟦⬜⬜⬜🟦🟨🟨🟨🟦⬜🟦⬜⬜⬜⬜⬜🟦⬜🟦<br>🟦🟨🟦🟦🟦🟦🟦🟨🟦🟨🟦⬜🟦⬜🟦🟦🟦⬜🟦⬜🟦<br>🟦🟨🟨🟨🟦🟨🟨🟨🟦🟨🟦⬜🟦⬜🟦⬜🟦⬜🟦⬜🟦<br>🟦🟦🟦🟨🟦🟨🟦🟦🟦🟨🟦🟦🟦⬜🟦⬜🟦⬜🟦⬜🟦<br>🟦🟨🟦🟨🟦🟨🟨🟨🟦🟨🟨🟨😼⬜🟦⬜🟦⬜🟦⬜🟦<br>🟦🟨🟦🟨🟦🟦🟦🟨🟦🟦🟦🟦🟦🟦🟦⬜🟦⬜🟦⬜🟦<br>🟦🟨🟨🟨🟨🟨🟨🟨🟦⬜⬜⬜⬜⬜⬜⬜⬜⬜⬜🟥🟦<br>🟦🟦🟦🟦🟦🟦🟦🟦🟦🟦🟦🟦🟦🟦🟦🟦🟦🟦🟦🟦🟦`;\n",
              "    </script>\n",
              "    "
            ],
            "text/plain": [
              "<IPython.core.display.HTML object>"
            ]
          },
          "metadata": {},
          "output_type": "display_data"
        },
        {
          "data": {
            "text/html": [
              "\n",
              "    <script>\n",
              "    document.getElementById('maze').innerHTML = `🟦🟦🟦🟦🟦🟦🟦🟦🟦🟦🟦🟦🟦🟦🟦🟦🟦🟦🟦🟦🟦<br>🟦🟨🟦⬜🟦⬜⬜⬜⬜⬜⬜⬜⬜⬜⬜⬜⬜⬜⬜⬜🟦<br>🟦🟨🟦⬜🟦⬜🟦🟦🟦🟦🟦⬜🟦🟦🟦🟦🟦🟦🟦⬜🟦<br>🟦🟨🟦⬜⬜⬜🟦🟨🟨🟨🟦⬜🟦⬜⬜⬜⬜⬜🟦⬜🟦<br>🟦🟨🟦🟦🟦🟦🟦🟨🟦🟨🟦⬜🟦⬜🟦🟦🟦⬜🟦⬜🟦<br>🟦🟨🟨🟨🟦🟨🟨🟨🟦🟨🟦⬜🟦⬜🟦⬜🟦⬜🟦⬜🟦<br>🟦🟦🟦🟨🟦🟨🟦🟦🟦🟨🟦🟦🟦⬜🟦⬜🟦⬜🟦⬜🟦<br>🟦🟨🟦🟨🟦🟨🟨🟨🟦🟨🟨🟨🟨😼🟦⬜🟦⬜🟦⬜🟦<br>🟦🟨🟦🟨🟦🟦🟦🟨🟦🟦🟦🟦🟦🟦🟦⬜🟦⬜🟦⬜🟦<br>🟦🟨🟨🟨🟨🟨🟨🟨🟦⬜⬜⬜⬜⬜⬜⬜⬜⬜⬜🟥🟦<br>🟦🟦🟦🟦🟦🟦🟦🟦🟦🟦🟦🟦🟦🟦🟦🟦🟦🟦🟦🟦🟦`;\n",
              "    </script>\n",
              "    "
            ],
            "text/plain": [
              "<IPython.core.display.HTML object>"
            ]
          },
          "metadata": {},
          "output_type": "display_data"
        },
        {
          "data": {
            "text/html": [
              "\n",
              "    <script>\n",
              "    document.getElementById('maze').innerHTML = `🟦🟦🟦🟦🟦🟦🟦🟦🟦🟦🟦🟦🟦🟦🟦🟦🟦🟦🟦🟦🟦<br>🟦🟨🟦⬜🟦⬜⬜⬜⬜⬜⬜⬜⬜⬜⬜⬜⬜⬜⬜⬜🟦<br>🟦🟨🟦⬜🟦⬜🟦🟦🟦🟦🟦⬜🟦🟦🟦🟦🟦🟦🟦⬜🟦<br>🟦🟨🟦⬜⬜⬜🟦🟨🟨🟨🟦⬜🟦⬜⬜⬜⬜⬜🟦⬜🟦<br>🟦🟨🟦🟦🟦🟦🟦🟨🟦🟨🟦⬜🟦⬜🟦🟦🟦⬜🟦⬜🟦<br>🟦🟨🟨🟨🟦🟨🟨🟨🟦🟨🟦⬜🟦⬜🟦⬜🟦⬜🟦⬜🟦<br>🟦🟦🟦🟨🟦🟨🟦🟦🟦🟨🟦🟦🟦😼🟦⬜🟦⬜🟦⬜🟦<br>🟦🟨🟦🟨🟦🟨🟨🟨🟦🟨🟨🟨🟨🟨🟦⬜🟦⬜🟦⬜🟦<br>🟦🟨🟦🟨🟦🟦🟦🟨🟦🟦🟦🟦🟦🟦🟦⬜🟦⬜🟦⬜🟦<br>🟦🟨🟨🟨🟨🟨🟨🟨🟦⬜⬜⬜⬜⬜⬜⬜⬜⬜⬜🟥🟦<br>🟦🟦🟦🟦🟦🟦🟦🟦🟦🟦🟦🟦🟦🟦🟦🟦🟦🟦🟦🟦🟦`;\n",
              "    </script>\n",
              "    "
            ],
            "text/plain": [
              "<IPython.core.display.HTML object>"
            ]
          },
          "metadata": {},
          "output_type": "display_data"
        },
        {
          "data": {
            "text/html": [
              "\n",
              "    <script>\n",
              "    document.getElementById('maze').innerHTML = `🟦🟦🟦🟦🟦🟦🟦🟦🟦🟦🟦🟦🟦🟦🟦🟦🟦🟦🟦🟦🟦<br>🟦🟨🟦⬜🟦⬜⬜⬜⬜⬜⬜⬜⬜⬜⬜⬜⬜⬜⬜⬜🟦<br>🟦🟨🟦⬜🟦⬜🟦🟦🟦🟦🟦⬜🟦🟦🟦🟦🟦🟦🟦⬜🟦<br>🟦🟨🟦⬜⬜⬜🟦🟨🟨🟨🟦⬜🟦⬜⬜⬜⬜⬜🟦⬜🟦<br>🟦🟨🟦🟦🟦🟦🟦🟨🟦🟨🟦⬜🟦⬜🟦🟦🟦⬜🟦⬜🟦<br>🟦🟨🟨🟨🟦🟨🟨🟨🟦🟨🟦⬜🟦😼🟦⬜🟦⬜🟦⬜🟦<br>🟦🟦🟦🟨🟦🟨🟦🟦🟦🟨🟦🟦🟦🟨🟦⬜🟦⬜🟦⬜🟦<br>🟦🟨🟦🟨🟦🟨🟨🟨🟦🟨🟨🟨🟨🟨🟦⬜🟦⬜🟦⬜🟦<br>🟦🟨🟦🟨🟦🟦🟦🟨🟦🟦🟦🟦🟦🟦🟦⬜🟦⬜🟦⬜🟦<br>🟦🟨🟨🟨🟨🟨🟨🟨🟦⬜⬜⬜⬜⬜⬜⬜⬜⬜⬜🟥🟦<br>🟦🟦🟦🟦🟦🟦🟦🟦🟦🟦🟦🟦🟦🟦🟦🟦🟦🟦🟦🟦🟦`;\n",
              "    </script>\n",
              "    "
            ],
            "text/plain": [
              "<IPython.core.display.HTML object>"
            ]
          },
          "metadata": {},
          "output_type": "display_data"
        },
        {
          "data": {
            "text/html": [
              "\n",
              "    <script>\n",
              "    document.getElementById('maze').innerHTML = `🟦🟦🟦🟦🟦🟦🟦🟦🟦🟦🟦🟦🟦🟦🟦🟦🟦🟦🟦🟦🟦<br>🟦🟨🟦⬜🟦⬜⬜⬜⬜⬜⬜⬜⬜⬜⬜⬜⬜⬜⬜⬜🟦<br>🟦🟨🟦⬜🟦⬜🟦🟦🟦🟦🟦⬜🟦🟦🟦🟦🟦🟦🟦⬜🟦<br>🟦🟨🟦⬜⬜⬜🟦🟨🟨🟨🟦⬜🟦⬜⬜⬜⬜⬜🟦⬜🟦<br>🟦🟨🟦🟦🟦🟦🟦🟨🟦🟨🟦⬜🟦😼🟦🟦🟦⬜🟦⬜🟦<br>🟦🟨🟨🟨🟦🟨🟨🟨🟦🟨🟦⬜🟦🟨🟦⬜🟦⬜🟦⬜🟦<br>🟦🟦🟦🟨🟦🟨🟦🟦🟦🟨🟦🟦🟦🟨🟦⬜🟦⬜🟦⬜🟦<br>🟦🟨🟦🟨🟦🟨🟨🟨🟦🟨🟨🟨🟨🟨🟦⬜🟦⬜🟦⬜🟦<br>🟦🟨🟦🟨🟦🟦🟦🟨🟦🟦🟦🟦🟦🟦🟦⬜🟦⬜🟦⬜🟦<br>🟦🟨🟨🟨🟨🟨🟨🟨🟦⬜⬜⬜⬜⬜⬜⬜⬜⬜⬜🟥🟦<br>🟦🟦🟦🟦🟦🟦🟦🟦🟦🟦🟦🟦🟦🟦🟦🟦🟦🟦🟦🟦🟦`;\n",
              "    </script>\n",
              "    "
            ],
            "text/plain": [
              "<IPython.core.display.HTML object>"
            ]
          },
          "metadata": {},
          "output_type": "display_data"
        },
        {
          "data": {
            "text/html": [
              "\n",
              "    <script>\n",
              "    document.getElementById('maze').innerHTML = `🟦🟦🟦🟦🟦🟦🟦🟦🟦🟦🟦🟦🟦🟦🟦🟦🟦🟦🟦🟦🟦<br>🟦🟨🟦⬜🟦⬜⬜⬜⬜⬜⬜⬜⬜⬜⬜⬜⬜⬜⬜⬜🟦<br>🟦🟨🟦⬜🟦⬜🟦🟦🟦🟦🟦⬜🟦🟦🟦🟦🟦🟦🟦⬜🟦<br>🟦🟨🟦⬜⬜⬜🟦🟨🟨🟨🟦⬜🟦😼⬜⬜⬜⬜🟦⬜🟦<br>🟦🟨🟦🟦🟦🟦🟦🟨🟦🟨🟦⬜🟦🟨🟦🟦🟦⬜🟦⬜🟦<br>🟦🟨🟨🟨🟦🟨🟨🟨🟦🟨🟦⬜🟦🟨🟦⬜🟦⬜🟦⬜🟦<br>🟦🟦🟦🟨🟦🟨🟦🟦🟦🟨🟦🟦🟦🟨🟦⬜🟦⬜🟦⬜🟦<br>🟦🟨🟦🟨🟦🟨🟨🟨🟦🟨🟨🟨🟨🟨🟦⬜🟦⬜🟦⬜🟦<br>🟦🟨🟦🟨🟦🟦🟦🟨🟦🟦🟦🟦🟦🟦🟦⬜🟦⬜🟦⬜🟦<br>🟦🟨🟨🟨🟨🟨🟨🟨🟦⬜⬜⬜⬜⬜⬜⬜⬜⬜⬜🟥🟦<br>🟦🟦🟦🟦🟦🟦🟦🟦🟦🟦🟦🟦🟦🟦🟦🟦🟦🟦🟦🟦🟦`;\n",
              "    </script>\n",
              "    "
            ],
            "text/plain": [
              "<IPython.core.display.HTML object>"
            ]
          },
          "metadata": {},
          "output_type": "display_data"
        },
        {
          "data": {
            "text/html": [
              "\n",
              "    <script>\n",
              "    document.getElementById('maze').innerHTML = `🟦🟦🟦🟦🟦🟦🟦🟦🟦🟦🟦🟦🟦🟦🟦🟦🟦🟦🟦🟦🟦<br>🟦🟨🟦⬜🟦⬜⬜⬜⬜⬜⬜⬜⬜⬜⬜⬜⬜⬜⬜⬜🟦<br>🟦🟨🟦⬜🟦⬜🟦🟦🟦🟦🟦⬜🟦🟦🟦🟦🟦🟦🟦⬜🟦<br>🟦🟨🟦⬜⬜⬜🟦🟨🟨🟨🟦⬜🟦🟨😼⬜⬜⬜🟦⬜🟦<br>🟦🟨🟦🟦🟦🟦🟦🟨🟦🟨🟦⬜🟦🟨🟦🟦🟦⬜🟦⬜🟦<br>🟦🟨🟨🟨🟦🟨🟨🟨🟦🟨🟦⬜🟦🟨🟦⬜🟦⬜🟦⬜🟦<br>🟦🟦🟦🟨🟦🟨🟦🟦🟦🟨🟦🟦🟦🟨🟦⬜🟦⬜🟦⬜🟦<br>🟦🟨🟦🟨🟦🟨🟨🟨🟦🟨🟨🟨🟨🟨🟦⬜🟦⬜🟦⬜🟦<br>🟦🟨🟦🟨🟦🟦🟦🟨🟦🟦🟦🟦🟦🟦🟦⬜🟦⬜🟦⬜🟦<br>🟦🟨🟨🟨🟨🟨🟨🟨🟦⬜⬜⬜⬜⬜⬜⬜⬜⬜⬜🟥🟦<br>🟦🟦🟦🟦🟦🟦🟦🟦🟦🟦🟦🟦🟦🟦🟦🟦🟦🟦🟦🟦🟦`;\n",
              "    </script>\n",
              "    "
            ],
            "text/plain": [
              "<IPython.core.display.HTML object>"
            ]
          },
          "metadata": {},
          "output_type": "display_data"
        },
        {
          "data": {
            "text/html": [
              "\n",
              "    <script>\n",
              "    document.getElementById('maze').innerHTML = `🟦🟦🟦🟦🟦🟦🟦🟦🟦🟦🟦🟦🟦🟦🟦🟦🟦🟦🟦🟦🟦<br>🟦🟨🟦⬜🟦⬜⬜⬜⬜⬜⬜⬜⬜⬜⬜⬜⬜⬜⬜⬜🟦<br>🟦🟨🟦⬜🟦⬜🟦🟦🟦🟦🟦⬜🟦🟦🟦🟦🟦🟦🟦⬜🟦<br>🟦🟨🟦⬜⬜⬜🟦🟨🟨🟨🟦⬜🟦🟨🟨😼⬜⬜🟦⬜🟦<br>🟦🟨🟦🟦🟦🟦🟦🟨🟦🟨🟦⬜🟦🟨🟦🟦🟦⬜🟦⬜🟦<br>🟦🟨🟨🟨🟦🟨🟨🟨🟦🟨🟦⬜🟦🟨🟦⬜🟦⬜🟦⬜🟦<br>🟦🟦🟦🟨🟦🟨🟦🟦🟦🟨🟦🟦🟦🟨🟦⬜🟦⬜🟦⬜🟦<br>🟦🟨🟦🟨🟦🟨🟨🟨🟦🟨🟨🟨🟨🟨🟦⬜🟦⬜🟦⬜🟦<br>🟦🟨🟦🟨🟦🟦🟦🟨🟦🟦🟦🟦🟦🟦🟦⬜🟦⬜🟦⬜🟦<br>🟦🟨🟨🟨🟨🟨🟨🟨🟦⬜⬜⬜⬜⬜⬜⬜⬜⬜⬜🟥🟦<br>🟦🟦🟦🟦🟦🟦🟦🟦🟦🟦🟦🟦🟦🟦🟦🟦🟦🟦🟦🟦🟦`;\n",
              "    </script>\n",
              "    "
            ],
            "text/plain": [
              "<IPython.core.display.HTML object>"
            ]
          },
          "metadata": {},
          "output_type": "display_data"
        },
        {
          "data": {
            "text/html": [
              "\n",
              "    <script>\n",
              "    document.getElementById('maze').innerHTML = `🟦🟦🟦🟦🟦🟦🟦🟦🟦🟦🟦🟦🟦🟦🟦🟦🟦🟦🟦🟦🟦<br>🟦🟨🟦⬜🟦⬜⬜⬜⬜⬜⬜⬜⬜⬜⬜⬜⬜⬜⬜⬜🟦<br>🟦🟨🟦⬜🟦⬜🟦🟦🟦🟦🟦⬜🟦🟦🟦🟦🟦🟦🟦⬜🟦<br>🟦🟨🟦⬜⬜⬜🟦🟨🟨🟨🟦⬜🟦🟨🟨🟨😼⬜🟦⬜🟦<br>🟦🟨🟦🟦🟦🟦🟦🟨🟦🟨🟦⬜🟦🟨🟦🟦🟦⬜🟦⬜🟦<br>🟦🟨🟨🟨🟦🟨🟨🟨🟦🟨🟦⬜🟦🟨🟦⬜🟦⬜🟦⬜🟦<br>🟦🟦🟦🟨🟦🟨🟦🟦🟦🟨🟦🟦🟦🟨🟦⬜🟦⬜🟦⬜🟦<br>🟦🟨🟦🟨🟦🟨🟨🟨🟦🟨🟨🟨🟨🟨🟦⬜🟦⬜🟦⬜🟦<br>🟦🟨🟦🟨🟦🟦🟦🟨🟦🟦🟦🟦🟦🟦🟦⬜🟦⬜🟦⬜🟦<br>🟦🟨🟨🟨🟨🟨🟨🟨🟦⬜⬜⬜⬜⬜⬜⬜⬜⬜⬜🟥🟦<br>🟦🟦🟦🟦🟦🟦🟦🟦🟦🟦🟦🟦🟦🟦🟦🟦🟦🟦🟦🟦🟦`;\n",
              "    </script>\n",
              "    "
            ],
            "text/plain": [
              "<IPython.core.display.HTML object>"
            ]
          },
          "metadata": {},
          "output_type": "display_data"
        },
        {
          "data": {
            "text/html": [
              "\n",
              "    <script>\n",
              "    document.getElementById('maze').innerHTML = `🟦🟦🟦🟦🟦🟦🟦🟦🟦🟦🟦🟦🟦🟦🟦🟦🟦🟦🟦🟦🟦<br>🟦🟨🟦⬜🟦⬜⬜⬜⬜⬜⬜⬜⬜⬜⬜⬜⬜⬜⬜⬜🟦<br>🟦🟨🟦⬜🟦⬜🟦🟦🟦🟦🟦⬜🟦🟦🟦🟦🟦🟦🟦⬜🟦<br>🟦🟨🟦⬜⬜⬜🟦🟨🟨🟨🟦⬜🟦🟨🟨🟨🟨😼🟦⬜🟦<br>🟦🟨🟦🟦🟦🟦🟦🟨🟦🟨🟦⬜🟦🟨🟦🟦🟦⬜🟦⬜🟦<br>🟦🟨🟨🟨🟦🟨🟨🟨🟦🟨🟦⬜🟦🟨🟦⬜🟦⬜🟦⬜🟦<br>🟦🟦🟦🟨🟦🟨🟦🟦🟦🟨🟦🟦🟦🟨🟦⬜🟦⬜🟦⬜🟦<br>🟦🟨🟦🟨🟦🟨🟨🟨🟦🟨🟨🟨🟨🟨🟦⬜🟦⬜🟦⬜🟦<br>🟦🟨🟦🟨🟦🟦🟦🟨🟦🟦🟦🟦🟦🟦🟦⬜🟦⬜🟦⬜🟦<br>🟦🟨🟨🟨🟨🟨🟨🟨🟦⬜⬜⬜⬜⬜⬜⬜⬜⬜⬜🟥🟦<br>🟦🟦🟦🟦🟦🟦🟦🟦🟦🟦🟦🟦🟦🟦🟦🟦🟦🟦🟦🟦🟦`;\n",
              "    </script>\n",
              "    "
            ],
            "text/plain": [
              "<IPython.core.display.HTML object>"
            ]
          },
          "metadata": {},
          "output_type": "display_data"
        },
        {
          "data": {
            "text/html": [
              "\n",
              "    <script>\n",
              "    document.getElementById('maze').innerHTML = `🟦🟦🟦🟦🟦🟦🟦🟦🟦🟦🟦🟦🟦🟦🟦🟦🟦🟦🟦🟦🟦<br>🟦🟨🟦⬜🟦⬜⬜⬜⬜⬜⬜⬜⬜⬜⬜⬜⬜⬜⬜⬜🟦<br>🟦🟨🟦⬜🟦⬜🟦🟦🟦🟦🟦⬜🟦🟦🟦🟦🟦🟦🟦⬜🟦<br>🟦🟨🟦⬜⬜⬜🟦🟨🟨🟨🟦⬜🟦🟨🟨🟨🟨🟨🟦⬜🟦<br>🟦🟨🟦🟦🟦🟦🟦🟨🟦🟨🟦⬜🟦🟨🟦🟦🟦😼🟦⬜🟦<br>🟦🟨🟨🟨🟦🟨🟨🟨🟦🟨🟦⬜🟦🟨🟦⬜🟦⬜🟦⬜🟦<br>🟦🟦🟦🟨🟦🟨🟦🟦🟦🟨🟦🟦🟦🟨🟦⬜🟦⬜🟦⬜🟦<br>🟦🟨🟦🟨🟦🟨🟨🟨🟦🟨🟨🟨🟨🟨🟦⬜🟦⬜🟦⬜🟦<br>🟦🟨🟦🟨🟦🟦🟦🟨🟦🟦🟦🟦🟦🟦🟦⬜🟦⬜🟦⬜🟦<br>🟦🟨🟨🟨🟨🟨🟨🟨🟦⬜⬜⬜⬜⬜⬜⬜⬜⬜⬜🟥🟦<br>🟦🟦🟦🟦🟦🟦🟦🟦🟦🟦🟦🟦🟦🟦🟦🟦🟦🟦🟦🟦🟦`;\n",
              "    </script>\n",
              "    "
            ],
            "text/plain": [
              "<IPython.core.display.HTML object>"
            ]
          },
          "metadata": {},
          "output_type": "display_data"
        },
        {
          "data": {
            "text/html": [
              "\n",
              "    <script>\n",
              "    document.getElementById('maze').innerHTML = `🟦🟦🟦🟦🟦🟦🟦🟦🟦🟦🟦🟦🟦🟦🟦🟦🟦🟦🟦🟦🟦<br>🟦🟨🟦⬜🟦⬜⬜⬜⬜⬜⬜⬜⬜⬜⬜⬜⬜⬜⬜⬜🟦<br>🟦🟨🟦⬜🟦⬜🟦🟦🟦🟦🟦⬜🟦🟦🟦🟦🟦🟦🟦⬜🟦<br>🟦🟨🟦⬜⬜⬜🟦🟨🟨🟨🟦⬜🟦🟨🟨🟨🟨🟨🟦⬜🟦<br>🟦🟨🟦🟦🟦🟦🟦🟨🟦🟨🟦⬜🟦🟨🟦🟦🟦🟨🟦⬜🟦<br>🟦🟨🟨🟨🟦🟨🟨🟨🟦🟨🟦⬜🟦🟨🟦⬜🟦😼🟦⬜🟦<br>🟦🟦🟦🟨🟦🟨🟦🟦🟦🟨🟦🟦🟦🟨🟦⬜🟦⬜🟦⬜🟦<br>🟦🟨🟦🟨🟦🟨🟨🟨🟦🟨🟨🟨🟨🟨🟦⬜🟦⬜🟦⬜🟦<br>🟦🟨🟦🟨🟦🟦🟦🟨🟦🟦🟦🟦🟦🟦🟦⬜🟦⬜🟦⬜🟦<br>🟦🟨🟨🟨🟨🟨🟨🟨🟦⬜⬜⬜⬜⬜⬜⬜⬜⬜⬜🟥🟦<br>🟦🟦🟦🟦🟦🟦🟦🟦🟦🟦🟦🟦🟦🟦🟦🟦🟦🟦🟦🟦🟦`;\n",
              "    </script>\n",
              "    "
            ],
            "text/plain": [
              "<IPython.core.display.HTML object>"
            ]
          },
          "metadata": {},
          "output_type": "display_data"
        },
        {
          "data": {
            "text/html": [
              "\n",
              "    <script>\n",
              "    document.getElementById('maze').innerHTML = `🟦🟦🟦🟦🟦🟦🟦🟦🟦🟦🟦🟦🟦🟦🟦🟦🟦🟦🟦🟦🟦<br>🟦🟨🟦⬜🟦⬜⬜⬜⬜⬜⬜⬜⬜⬜⬜⬜⬜⬜⬜⬜🟦<br>🟦🟨🟦⬜🟦⬜🟦🟦🟦🟦🟦⬜🟦🟦🟦🟦🟦🟦🟦⬜🟦<br>🟦🟨🟦⬜⬜⬜🟦🟨🟨🟨🟦⬜🟦🟨🟨🟨🟨🟨🟦⬜🟦<br>🟦🟨🟦🟦🟦🟦🟦🟨🟦🟨🟦⬜🟦🟨🟦🟦🟦🟨🟦⬜🟦<br>🟦🟨🟨🟨🟦🟨🟨🟨🟦🟨🟦⬜🟦🟨🟦⬜🟦🟨🟦⬜🟦<br>🟦🟦🟦🟨🟦🟨🟦🟦🟦🟨🟦🟦🟦🟨🟦⬜🟦😼🟦⬜🟦<br>🟦🟨🟦🟨🟦🟨🟨🟨🟦🟨🟨🟨🟨🟨🟦⬜🟦⬜🟦⬜🟦<br>🟦🟨🟦🟨🟦🟦🟦🟨🟦🟦🟦🟦🟦🟦🟦⬜🟦⬜🟦⬜🟦<br>🟦🟨🟨🟨🟨🟨🟨🟨🟦⬜⬜⬜⬜⬜⬜⬜⬜⬜⬜🟥🟦<br>🟦🟦🟦🟦🟦🟦🟦🟦🟦🟦🟦🟦🟦🟦🟦🟦🟦🟦🟦🟦🟦`;\n",
              "    </script>\n",
              "    "
            ],
            "text/plain": [
              "<IPython.core.display.HTML object>"
            ]
          },
          "metadata": {},
          "output_type": "display_data"
        },
        {
          "data": {
            "text/html": [
              "\n",
              "    <script>\n",
              "    document.getElementById('maze').innerHTML = `🟦🟦🟦🟦🟦🟦🟦🟦🟦🟦🟦🟦🟦🟦🟦🟦🟦🟦🟦🟦🟦<br>🟦🟨🟦⬜🟦⬜⬜⬜⬜⬜⬜⬜⬜⬜⬜⬜⬜⬜⬜⬜🟦<br>🟦🟨🟦⬜🟦⬜🟦🟦🟦🟦🟦⬜🟦🟦🟦🟦🟦🟦🟦⬜🟦<br>🟦🟨🟦⬜⬜⬜🟦🟨🟨🟨🟦⬜🟦🟨🟨🟨🟨🟨🟦⬜🟦<br>🟦🟨🟦🟦🟦🟦🟦🟨🟦🟨🟦⬜🟦🟨🟦🟦🟦🟨🟦⬜🟦<br>🟦🟨🟨🟨🟦🟨🟨🟨🟦🟨🟦⬜🟦🟨🟦⬜🟦🟨🟦⬜🟦<br>🟦🟦🟦🟨🟦🟨🟦🟦🟦🟨🟦🟦🟦🟨🟦⬜🟦🟨🟦⬜🟦<br>🟦🟨🟦🟨🟦🟨🟨🟨🟦🟨🟨🟨🟨🟨🟦⬜🟦😼🟦⬜🟦<br>🟦🟨🟦🟨🟦🟦🟦🟨🟦🟦🟦🟦🟦🟦🟦⬜🟦⬜🟦⬜🟦<br>🟦🟨🟨🟨🟨🟨🟨🟨🟦⬜⬜⬜⬜⬜⬜⬜⬜⬜⬜🟥🟦<br>🟦🟦🟦🟦🟦🟦🟦🟦🟦🟦🟦🟦🟦🟦🟦🟦🟦🟦🟦🟦🟦`;\n",
              "    </script>\n",
              "    "
            ],
            "text/plain": [
              "<IPython.core.display.HTML object>"
            ]
          },
          "metadata": {},
          "output_type": "display_data"
        },
        {
          "data": {
            "text/html": [
              "\n",
              "    <script>\n",
              "    document.getElementById('maze').innerHTML = `🟦🟦🟦🟦🟦🟦🟦🟦🟦🟦🟦🟦🟦🟦🟦🟦🟦🟦🟦🟦🟦<br>🟦🟨🟦⬜🟦⬜⬜⬜⬜⬜⬜⬜⬜⬜⬜⬜⬜⬜⬜⬜🟦<br>🟦🟨🟦⬜🟦⬜🟦🟦🟦🟦🟦⬜🟦🟦🟦🟦🟦🟦🟦⬜🟦<br>🟦🟨🟦⬜⬜⬜🟦🟨🟨🟨🟦⬜🟦🟨🟨🟨🟨🟨🟦⬜🟦<br>🟦🟨🟦🟦🟦🟦🟦🟨🟦🟨🟦⬜🟦🟨🟦🟦🟦🟨🟦⬜🟦<br>🟦🟨🟨🟨🟦🟨🟨🟨🟦🟨🟦⬜🟦🟨🟦⬜🟦🟨🟦⬜🟦<br>🟦🟦🟦🟨🟦🟨🟦🟦🟦🟨🟦🟦🟦🟨🟦⬜🟦🟨🟦⬜🟦<br>🟦🟨🟦🟨🟦🟨🟨🟨🟦🟨🟨🟨🟨🟨🟦⬜🟦🟨🟦⬜🟦<br>🟦🟨🟦🟨🟦🟦🟦🟨🟦🟦🟦🟦🟦🟦🟦⬜🟦😼🟦⬜🟦<br>🟦🟨🟨🟨🟨🟨🟨🟨🟦⬜⬜⬜⬜⬜⬜⬜⬜⬜⬜🟥🟦<br>🟦🟦🟦🟦🟦🟦🟦🟦🟦🟦🟦🟦🟦🟦🟦🟦🟦🟦🟦🟦🟦`;\n",
              "    </script>\n",
              "    "
            ],
            "text/plain": [
              "<IPython.core.display.HTML object>"
            ]
          },
          "metadata": {},
          "output_type": "display_data"
        },
        {
          "data": {
            "text/html": [
              "\n",
              "    <script>\n",
              "    document.getElementById('maze').innerHTML = `🟦🟦🟦🟦🟦🟦🟦🟦🟦🟦🟦🟦🟦🟦🟦🟦🟦🟦🟦🟦🟦<br>🟦🟨🟦⬜🟦⬜⬜⬜⬜⬜⬜⬜⬜⬜⬜⬜⬜⬜⬜⬜🟦<br>🟦🟨🟦⬜🟦⬜🟦🟦🟦🟦🟦⬜🟦🟦🟦🟦🟦🟦🟦⬜🟦<br>🟦🟨🟦⬜⬜⬜🟦🟨🟨🟨🟦⬜🟦🟨🟨🟨🟨🟨🟦⬜🟦<br>🟦🟨🟦🟦🟦🟦🟦🟨🟦🟨🟦⬜🟦🟨🟦🟦🟦🟨🟦⬜🟦<br>🟦🟨🟨🟨🟦🟨🟨🟨🟦🟨🟦⬜🟦🟨🟦⬜🟦🟨🟦⬜🟦<br>🟦🟦🟦🟨🟦🟨🟦🟦🟦🟨🟦🟦🟦🟨🟦⬜🟦🟨🟦⬜🟦<br>🟦🟨🟦🟨🟦🟨🟨🟨🟦🟨🟨🟨🟨🟨🟦⬜🟦🟨🟦⬜🟦<br>🟦🟨🟦🟨🟦🟦🟦🟨🟦🟦🟦🟦🟦🟦🟦⬜🟦🟨🟦⬜🟦<br>🟦🟨🟨🟨🟨🟨🟨🟨🟦⬜⬜⬜⬜⬜⬜⬜⬜😼⬜🟥🟦<br>🟦🟦🟦🟦🟦🟦🟦🟦🟦🟦🟦🟦🟦🟦🟦🟦🟦🟦🟦🟦🟦`;\n",
              "    </script>\n",
              "    "
            ],
            "text/plain": [
              "<IPython.core.display.HTML object>"
            ]
          },
          "metadata": {},
          "output_type": "display_data"
        },
        {
          "data": {
            "text/html": [
              "\n",
              "    <script>\n",
              "    document.getElementById('maze').innerHTML = `🟦🟦🟦🟦🟦🟦🟦🟦🟦🟦🟦🟦🟦🟦🟦🟦🟦🟦🟦🟦🟦<br>🟦🟨🟦⬜🟦⬜⬜⬜⬜⬜⬜⬜⬜⬜⬜⬜⬜⬜⬜⬜🟦<br>🟦🟨🟦⬜🟦⬜🟦🟦🟦🟦🟦⬜🟦🟦🟦🟦🟦🟦🟦⬜🟦<br>🟦🟨🟦⬜⬜⬜🟦🟨🟨🟨🟦⬜🟦🟨🟨🟨🟨🟨🟦⬜🟦<br>🟦🟨🟦🟦🟦🟦🟦🟨🟦🟨🟦⬜🟦🟨🟦🟦🟦🟨🟦⬜🟦<br>🟦🟨🟨🟨🟦🟨🟨🟨🟦🟨🟦⬜🟦🟨🟦⬜🟦🟨🟦⬜🟦<br>🟦🟦🟦🟨🟦🟨🟦🟦🟦🟨🟦🟦🟦🟨🟦⬜🟦🟨🟦⬜🟦<br>🟦🟨🟦🟨🟦🟨🟨🟨🟦🟨🟨🟨🟨🟨🟦⬜🟦🟨🟦⬜🟦<br>🟦🟨🟦🟨🟦🟦🟦🟨🟦🟦🟦🟦🟦🟦🟦⬜🟦🟨🟦⬜🟦<br>🟦🟨🟨🟨🟨🟨🟨🟨🟦⬜⬜⬜⬜⬜⬜⬜⬜🟨😼🟥🟦<br>🟦🟦🟦🟦🟦🟦🟦🟦🟦🟦🟦🟦🟦🟦🟦🟦🟦🟦🟦🟦🟦`;\n",
              "    </script>\n",
              "    "
            ],
            "text/plain": [
              "<IPython.core.display.HTML object>"
            ]
          },
          "metadata": {},
          "output_type": "display_data"
        },
        {
          "data": {
            "text/html": [
              "\n",
              "    <script>\n",
              "    document.getElementById('maze').innerHTML = `🟦🟦🟦🟦🟦🟦🟦🟦🟦🟦🟦🟦🟦🟦🟦🟦🟦🟦🟦🟦🟦<br>🟦🟨🟦⬜🟦⬜⬜⬜⬜⬜⬜⬜⬜⬜⬜⬜⬜⬜⬜⬜🟦<br>🟦🟨🟦⬜🟦⬜🟦🟦🟦🟦🟦⬜🟦🟦🟦🟦🟦🟦🟦⬜🟦<br>🟦🟨🟦⬜⬜⬜🟦🟨🟨🟨🟦⬜🟦🟨🟨🟨🟨🟨🟦⬜🟦<br>🟦🟨🟦🟦🟦🟦🟦🟨🟦🟨🟦⬜🟦🟨🟦🟦🟦🟨🟦⬜🟦<br>🟦🟨🟨🟨🟦🟨🟨🟨🟦🟨🟦⬜🟦🟨🟦⬜🟦🟨🟦⬜🟦<br>🟦🟦🟦🟨🟦🟨🟦🟦🟦🟨🟦🟦🟦🟨🟦⬜🟦🟨🟦⬜🟦<br>🟦🟨🟦🟨🟦🟨🟨🟨🟦🟨🟨🟨🟨🟨🟦⬜🟦🟨🟦⬜🟦<br>🟦🟨🟦🟨🟦🟦🟦🟨🟦🟦🟦🟦🟦🟦🟦⬜🟦🟨🟦⬜🟦<br>🟦🟨🟨🟨🟨🟨🟨🟨🟦⬜⬜⬜⬜⬜⬜⬜😼🟨🟨🟥🟦<br>🟦🟦🟦🟦🟦🟦🟦🟦🟦🟦🟦🟦🟦🟦🟦🟦🟦🟦🟦🟦🟦`;\n",
              "    </script>\n",
              "    "
            ],
            "text/plain": [
              "<IPython.core.display.HTML object>"
            ]
          },
          "metadata": {},
          "output_type": "display_data"
        },
        {
          "data": {
            "text/html": [
              "\n",
              "    <script>\n",
              "    document.getElementById('maze').innerHTML = `🟦🟦🟦🟦🟦🟦🟦🟦🟦🟦🟦🟦🟦🟦🟦🟦🟦🟦🟦🟦🟦<br>🟦🟨🟦⬜🟦⬜⬜⬜⬜⬜⬜⬜⬜⬜⬜⬜⬜⬜⬜⬜🟦<br>🟦🟨🟦⬜🟦⬜🟦🟦🟦🟦🟦⬜🟦🟦🟦🟦🟦🟦🟦⬜🟦<br>🟦🟨🟦⬜⬜⬜🟦🟨🟨🟨🟦⬜🟦🟨🟨🟨🟨🟨🟦⬜🟦<br>🟦🟨🟦🟦🟦🟦🟦🟨🟦🟨🟦⬜🟦🟨🟦🟦🟦🟨🟦⬜🟦<br>🟦🟨🟨🟨🟦🟨🟨🟨🟦🟨🟦⬜🟦🟨🟦⬜🟦🟨🟦⬜🟦<br>🟦🟦🟦🟨🟦🟨🟦🟦🟦🟨🟦🟦🟦🟨🟦⬜🟦🟨🟦⬜🟦<br>🟦🟨🟦🟨🟦🟨🟨🟨🟦🟨🟨🟨🟨🟨🟦⬜🟦🟨🟦⬜🟦<br>🟦🟨🟦🟨🟦🟦🟦🟨🟦🟦🟦🟦🟦🟦🟦⬜🟦🟨🟦⬜🟦<br>🟦🟨🟨🟨🟨🟨🟨🟨🟦⬜⬜⬜⬜⬜⬜⬜🟨🟨🟨😼🟦<br>🟦🟦🟦🟦🟦🟦🟦🟦🟦🟦🟦🟦🟦🟦🟦🟦🟦🟦🟦🟦🟦`;\n",
              "    </script>\n",
              "    "
            ],
            "text/plain": [
              "<IPython.core.display.HTML object>"
            ]
          },
          "metadata": {},
          "output_type": "display_data"
        },
        {
          "data": {
            "text/html": [
              "\n",
              "    <script>\n",
              "    document.getElementById('maze').innerHTML = `🟦🟦🟦🟦🟦🟦🟦🟦🟦🟦🟦🟦🟦🟦🟦🟦🟦🟦🟦🟦🟦<br>🟦🟩🟦⬜🟦⬜⬜⬜⬜⬜⬜⬜⬜⬜⬜⬜⬜⬜⬜⬜🟦<br>🟦⬜🟦⬜🟦⬜🟦🟦🟦🟦🟦⬜🟦🟦🟦🟦🟦🟦🟦⬜🟦<br>🟦⬜🟦⬜⬜⬜🟦⬜⬜⬜🟦⬜🟦⬜⬜⬜⬜⬜🟦⬜🟦<br>🟦⬜🟦🟦🟦🟦🟦⬜🟦⬜🟦⬜🟦⬜🟦🟦🟦⬜🟦⬜🟦<br>🟦⬜⬜⬜🟦⬜⬜⬜🟦⬜🟦⬜🟦⬜🟦⬜🟦⬜🟦⬜🟦<br>🟦🟦🟦⬜🟦⬜🟦🟦🟦⬜🟦🟦🟦⬜🟦⬜🟦⬜🟦⬜🟦<br>🟦⬜🟦⬜🟦⬜⬜⬜🟦⬜⬜⬜⬜⬜🟦⬜🟦⬜🟦⬜🟦<br>🟦⬜🟦⬜🟦🟦🟦⬜🟦🟦🟦🟦🟦🟦🟦⬜🟦⬜🟦⬜🟦<br>🟦⬜⬜⬜⬜⬜⬜⬜🟦⬜⬜⬜⬜⬜⬜⬜⬜⬜🔳🟥🟦<br>🟦🟦🟦🟦🟦🟦🟦🟦🟦🟦🟦🟦🟦🟦🟦🟦🟦🟦🟦🟦🟦`;\n",
              "    </script>\n",
              "    "
            ],
            "text/plain": [
              "<IPython.core.display.HTML object>"
            ]
          },
          "metadata": {},
          "output_type": "display_data"
        },
        {
          "data": {
            "text/html": [
              "\n",
              "    <script>\n",
              "    document.getElementById('maze').innerHTML = `🟦🟦🟦🟦🟦🟦🟦🟦🟦🟦🟦🟦🟦🟦🟦🟦🟦🟦🟦🟦🟦<br>🟦🟩🟦⬜🟦⬜⬜⬜⬜⬜⬜⬜⬜⬜⬜⬜⬜⬜⬜⬜🟦<br>🟦⬜🟦⬜🟦⬜🟦🟦🟦🟦🟦⬜🟦🟦🟦🟦🟦🟦🟦⬜🟦<br>🟦⬜🟦⬜⬜⬜🟦⬜⬜⬜🟦⬜🟦⬜⬜⬜⬜⬜🟦⬜🟦<br>🟦⬜🟦🟦🟦🟦🟦⬜🟦⬜🟦⬜🟦⬜🟦🟦🟦⬜🟦⬜🟦<br>🟦⬜⬜⬜🟦⬜⬜⬜🟦⬜🟦⬜🟦⬜🟦⬜🟦⬜🟦⬜🟦<br>🟦🟦🟦⬜🟦⬜🟦🟦🟦⬜🟦🟦🟦⬜🟦⬜🟦⬜🟦⬜🟦<br>🟦⬜🟦⬜🟦⬜⬜⬜🟦⬜⬜⬜⬜⬜🟦⬜🟦⬜🟦⬜🟦<br>🟦⬜🟦⬜🟦🟦🟦⬜🟦🟦🟦🟦🟦🟦🟦⬜🟦⬜🟦⬜🟦<br>🟦⬜⬜⬜⬜⬜⬜⬜🟦⬜⬜⬜⬜⬜⬜⬜⬜🔳🔳🟥🟦<br>🟦🟦🟦🟦🟦🟦🟦🟦🟦🟦🟦🟦🟦🟦🟦🟦🟦🟦🟦🟦🟦`;\n",
              "    </script>\n",
              "    "
            ],
            "text/plain": [
              "<IPython.core.display.HTML object>"
            ]
          },
          "metadata": {},
          "output_type": "display_data"
        },
        {
          "data": {
            "text/html": [
              "\n",
              "    <script>\n",
              "    document.getElementById('maze').innerHTML = `🟦🟦🟦🟦🟦🟦🟦🟦🟦🟦🟦🟦🟦🟦🟦🟦🟦🟦🟦🟦🟦<br>🟦🟩🟦⬜🟦⬜⬜⬜⬜⬜⬜⬜⬜⬜⬜⬜⬜⬜⬜⬜🟦<br>🟦⬜🟦⬜🟦⬜🟦🟦🟦🟦🟦⬜🟦🟦🟦🟦🟦🟦🟦⬜🟦<br>🟦⬜🟦⬜⬜⬜🟦⬜⬜⬜🟦⬜🟦⬜⬜⬜⬜⬜🟦⬜🟦<br>🟦⬜🟦🟦🟦🟦🟦⬜🟦⬜🟦⬜🟦⬜🟦🟦🟦⬜🟦⬜🟦<br>🟦⬜⬜⬜🟦⬜⬜⬜🟦⬜🟦⬜🟦⬜🟦⬜🟦⬜🟦⬜🟦<br>🟦🟦🟦⬜🟦⬜🟦🟦🟦⬜🟦🟦🟦⬜🟦⬜🟦⬜🟦⬜🟦<br>🟦⬜🟦⬜🟦⬜⬜⬜🟦⬜⬜⬜⬜⬜🟦⬜🟦⬜🟦⬜🟦<br>🟦⬜🟦⬜🟦🟦🟦⬜🟦🟦🟦🟦🟦🟦🟦⬜🟦🔳🟦⬜🟦<br>🟦⬜⬜⬜⬜⬜⬜⬜🟦⬜⬜⬜⬜⬜⬜⬜⬜🔳🔳🟥🟦<br>🟦🟦🟦🟦🟦🟦🟦🟦🟦🟦🟦🟦🟦🟦🟦🟦🟦🟦🟦🟦🟦`;\n",
              "    </script>\n",
              "    "
            ],
            "text/plain": [
              "<IPython.core.display.HTML object>"
            ]
          },
          "metadata": {},
          "output_type": "display_data"
        },
        {
          "data": {
            "text/html": [
              "\n",
              "    <script>\n",
              "    document.getElementById('maze').innerHTML = `🟦🟦🟦🟦🟦🟦🟦🟦🟦🟦🟦🟦🟦🟦🟦🟦🟦🟦🟦🟦🟦<br>🟦🟩🟦⬜🟦⬜⬜⬜⬜⬜⬜⬜⬜⬜⬜⬜⬜⬜⬜⬜🟦<br>🟦⬜🟦⬜🟦⬜🟦🟦🟦🟦🟦⬜🟦🟦🟦🟦🟦🟦🟦⬜🟦<br>🟦⬜🟦⬜⬜⬜🟦⬜⬜⬜🟦⬜🟦⬜⬜⬜⬜⬜🟦⬜🟦<br>🟦⬜🟦🟦🟦🟦🟦⬜🟦⬜🟦⬜🟦⬜🟦🟦🟦⬜🟦⬜🟦<br>🟦⬜⬜⬜🟦⬜⬜⬜🟦⬜🟦⬜🟦⬜🟦⬜🟦⬜🟦⬜🟦<br>🟦🟦🟦⬜🟦⬜🟦🟦🟦⬜🟦🟦🟦⬜🟦⬜🟦⬜🟦⬜🟦<br>🟦⬜🟦⬜🟦⬜⬜⬜🟦⬜⬜⬜⬜⬜🟦⬜🟦🔳🟦⬜🟦<br>🟦⬜🟦⬜🟦🟦🟦⬜🟦🟦🟦🟦🟦🟦🟦⬜🟦🔳🟦⬜🟦<br>🟦⬜⬜⬜⬜⬜⬜⬜🟦⬜⬜⬜⬜⬜⬜⬜⬜🔳🔳🟥🟦<br>🟦🟦🟦🟦🟦🟦🟦🟦🟦🟦🟦🟦🟦🟦🟦🟦🟦🟦🟦🟦🟦`;\n",
              "    </script>\n",
              "    "
            ],
            "text/plain": [
              "<IPython.core.display.HTML object>"
            ]
          },
          "metadata": {},
          "output_type": "display_data"
        },
        {
          "data": {
            "text/html": [
              "\n",
              "    <script>\n",
              "    document.getElementById('maze').innerHTML = `🟦🟦🟦🟦🟦🟦🟦🟦🟦🟦🟦🟦🟦🟦🟦🟦🟦🟦🟦🟦🟦<br>🟦🟩🟦⬜🟦⬜⬜⬜⬜⬜⬜⬜⬜⬜⬜⬜⬜⬜⬜⬜🟦<br>🟦⬜🟦⬜🟦⬜🟦🟦🟦🟦🟦⬜🟦🟦🟦🟦🟦🟦🟦⬜🟦<br>🟦⬜🟦⬜⬜⬜🟦⬜⬜⬜🟦⬜🟦⬜⬜⬜⬜⬜🟦⬜🟦<br>🟦⬜🟦🟦🟦🟦🟦⬜🟦⬜🟦⬜🟦⬜🟦🟦🟦⬜🟦⬜🟦<br>🟦⬜⬜⬜🟦⬜⬜⬜🟦⬜🟦⬜🟦⬜🟦⬜🟦⬜🟦⬜🟦<br>🟦🟦🟦⬜🟦⬜🟦🟦🟦⬜🟦🟦🟦⬜🟦⬜🟦🔳🟦⬜🟦<br>🟦⬜🟦⬜🟦⬜⬜⬜🟦⬜⬜⬜⬜⬜🟦⬜🟦🔳🟦⬜🟦<br>🟦⬜🟦⬜🟦🟦🟦⬜🟦🟦🟦🟦🟦🟦🟦⬜🟦🔳🟦⬜🟦<br>🟦⬜⬜⬜⬜⬜⬜⬜🟦⬜⬜⬜⬜⬜⬜⬜⬜🔳🔳🟥🟦<br>🟦🟦🟦🟦🟦🟦🟦🟦🟦🟦🟦🟦🟦🟦🟦🟦🟦🟦🟦🟦🟦`;\n",
              "    </script>\n",
              "    "
            ],
            "text/plain": [
              "<IPython.core.display.HTML object>"
            ]
          },
          "metadata": {},
          "output_type": "display_data"
        },
        {
          "data": {
            "text/html": [
              "\n",
              "    <script>\n",
              "    document.getElementById('maze').innerHTML = `🟦🟦🟦🟦🟦🟦🟦🟦🟦🟦🟦🟦🟦🟦🟦🟦🟦🟦🟦🟦🟦<br>🟦🟩🟦⬜🟦⬜⬜⬜⬜⬜⬜⬜⬜⬜⬜⬜⬜⬜⬜⬜🟦<br>🟦⬜🟦⬜🟦⬜🟦🟦🟦🟦🟦⬜🟦🟦🟦🟦🟦🟦🟦⬜🟦<br>🟦⬜🟦⬜⬜⬜🟦⬜⬜⬜🟦⬜🟦⬜⬜⬜⬜⬜🟦⬜🟦<br>🟦⬜🟦🟦🟦🟦🟦⬜🟦⬜🟦⬜🟦⬜🟦🟦🟦⬜🟦⬜🟦<br>🟦⬜⬜⬜🟦⬜⬜⬜🟦⬜🟦⬜🟦⬜🟦⬜🟦🔳🟦⬜🟦<br>🟦🟦🟦⬜🟦⬜🟦🟦🟦⬜🟦🟦🟦⬜🟦⬜🟦🔳🟦⬜🟦<br>🟦⬜🟦⬜🟦⬜⬜⬜🟦⬜⬜⬜⬜⬜🟦⬜🟦🔳🟦⬜🟦<br>🟦⬜🟦⬜🟦🟦🟦⬜🟦🟦🟦🟦🟦🟦🟦⬜🟦🔳🟦⬜🟦<br>🟦⬜⬜⬜⬜⬜⬜⬜🟦⬜⬜⬜⬜⬜⬜⬜⬜🔳🔳🟥🟦<br>🟦🟦🟦🟦🟦🟦🟦🟦🟦🟦🟦🟦🟦🟦🟦🟦🟦🟦🟦🟦🟦`;\n",
              "    </script>\n",
              "    "
            ],
            "text/plain": [
              "<IPython.core.display.HTML object>"
            ]
          },
          "metadata": {},
          "output_type": "display_data"
        },
        {
          "data": {
            "text/html": [
              "\n",
              "    <script>\n",
              "    document.getElementById('maze').innerHTML = `🟦🟦🟦🟦🟦🟦🟦🟦🟦🟦🟦🟦🟦🟦🟦🟦🟦🟦🟦🟦🟦<br>🟦🟩🟦⬜🟦⬜⬜⬜⬜⬜⬜⬜⬜⬜⬜⬜⬜⬜⬜⬜🟦<br>🟦⬜🟦⬜🟦⬜🟦🟦🟦🟦🟦⬜🟦🟦🟦🟦🟦🟦🟦⬜🟦<br>🟦⬜🟦⬜⬜⬜🟦⬜⬜⬜🟦⬜🟦⬜⬜⬜⬜⬜🟦⬜🟦<br>🟦⬜🟦🟦🟦🟦🟦⬜🟦⬜🟦⬜🟦⬜🟦🟦🟦🔳🟦⬜🟦<br>🟦⬜⬜⬜🟦⬜⬜⬜🟦⬜🟦⬜🟦⬜🟦⬜🟦🔳🟦⬜🟦<br>🟦🟦🟦⬜🟦⬜🟦🟦🟦⬜🟦🟦🟦⬜🟦⬜🟦🔳🟦⬜🟦<br>🟦⬜🟦⬜🟦⬜⬜⬜🟦⬜⬜⬜⬜⬜🟦⬜🟦🔳🟦⬜🟦<br>🟦⬜🟦⬜🟦🟦🟦⬜🟦🟦🟦🟦🟦🟦🟦⬜🟦🔳🟦⬜🟦<br>🟦⬜⬜⬜⬜⬜⬜⬜🟦⬜⬜⬜⬜⬜⬜⬜⬜🔳🔳🟥🟦<br>🟦🟦🟦🟦🟦🟦🟦🟦🟦🟦🟦🟦🟦🟦🟦🟦🟦🟦🟦🟦🟦`;\n",
              "    </script>\n",
              "    "
            ],
            "text/plain": [
              "<IPython.core.display.HTML object>"
            ]
          },
          "metadata": {},
          "output_type": "display_data"
        },
        {
          "data": {
            "text/html": [
              "\n",
              "    <script>\n",
              "    document.getElementById('maze').innerHTML = `🟦🟦🟦🟦🟦🟦🟦🟦🟦🟦🟦🟦🟦🟦🟦🟦🟦🟦🟦🟦🟦<br>🟦🟩🟦⬜🟦⬜⬜⬜⬜⬜⬜⬜⬜⬜⬜⬜⬜⬜⬜⬜🟦<br>🟦⬜🟦⬜🟦⬜🟦🟦🟦🟦🟦⬜🟦🟦🟦🟦🟦🟦🟦⬜🟦<br>🟦⬜🟦⬜⬜⬜🟦⬜⬜⬜🟦⬜🟦⬜⬜⬜⬜🔳🟦⬜🟦<br>🟦⬜🟦🟦🟦🟦🟦⬜🟦⬜🟦⬜🟦⬜🟦🟦🟦🔳🟦⬜🟦<br>🟦⬜⬜⬜🟦⬜⬜⬜🟦⬜🟦⬜🟦⬜🟦⬜🟦🔳🟦⬜🟦<br>🟦🟦🟦⬜🟦⬜🟦🟦🟦⬜🟦🟦🟦⬜🟦⬜🟦🔳🟦⬜🟦<br>🟦⬜🟦⬜🟦⬜⬜⬜🟦⬜⬜⬜⬜⬜🟦⬜🟦🔳🟦⬜🟦<br>🟦⬜🟦⬜🟦🟦🟦⬜🟦🟦🟦🟦🟦🟦🟦⬜🟦🔳🟦⬜🟦<br>🟦⬜⬜⬜⬜⬜⬜⬜🟦⬜⬜⬜⬜⬜⬜⬜⬜🔳🔳🟥🟦<br>🟦🟦🟦🟦🟦🟦🟦🟦🟦🟦🟦🟦🟦🟦🟦🟦🟦🟦🟦🟦🟦`;\n",
              "    </script>\n",
              "    "
            ],
            "text/plain": [
              "<IPython.core.display.HTML object>"
            ]
          },
          "metadata": {},
          "output_type": "display_data"
        },
        {
          "data": {
            "text/html": [
              "\n",
              "    <script>\n",
              "    document.getElementById('maze').innerHTML = `🟦🟦🟦🟦🟦🟦🟦🟦🟦🟦🟦🟦🟦🟦🟦🟦🟦🟦🟦🟦🟦<br>🟦🟩🟦⬜🟦⬜⬜⬜⬜⬜⬜⬜⬜⬜⬜⬜⬜⬜⬜⬜🟦<br>🟦⬜🟦⬜🟦⬜🟦🟦🟦🟦🟦⬜🟦🟦🟦🟦🟦🟦🟦⬜🟦<br>🟦⬜🟦⬜⬜⬜🟦⬜⬜⬜🟦⬜🟦⬜⬜⬜🔳🔳🟦⬜🟦<br>🟦⬜🟦🟦🟦🟦🟦⬜🟦⬜🟦⬜🟦⬜🟦🟦🟦🔳🟦⬜🟦<br>🟦⬜⬜⬜🟦⬜⬜⬜🟦⬜🟦⬜🟦⬜🟦⬜🟦🔳🟦⬜🟦<br>🟦🟦🟦⬜🟦⬜🟦🟦🟦⬜🟦🟦🟦⬜🟦⬜🟦🔳🟦⬜🟦<br>🟦⬜🟦⬜🟦⬜⬜⬜🟦⬜⬜⬜⬜⬜🟦⬜🟦🔳🟦⬜🟦<br>🟦⬜🟦⬜🟦🟦🟦⬜🟦🟦🟦🟦🟦🟦🟦⬜🟦🔳🟦⬜🟦<br>🟦⬜⬜⬜⬜⬜⬜⬜🟦⬜⬜⬜⬜⬜⬜⬜⬜🔳🔳🟥🟦<br>🟦🟦🟦🟦🟦🟦🟦🟦🟦🟦🟦🟦🟦🟦🟦🟦🟦🟦🟦🟦🟦`;\n",
              "    </script>\n",
              "    "
            ],
            "text/plain": [
              "<IPython.core.display.HTML object>"
            ]
          },
          "metadata": {},
          "output_type": "display_data"
        },
        {
          "data": {
            "text/html": [
              "\n",
              "    <script>\n",
              "    document.getElementById('maze').innerHTML = `🟦🟦🟦🟦🟦🟦🟦🟦🟦🟦🟦🟦🟦🟦🟦🟦🟦🟦🟦🟦🟦<br>🟦🟩🟦⬜🟦⬜⬜⬜⬜⬜⬜⬜⬜⬜⬜⬜⬜⬜⬜⬜🟦<br>🟦⬜🟦⬜🟦⬜🟦🟦🟦🟦🟦⬜🟦🟦🟦🟦🟦🟦🟦⬜🟦<br>🟦⬜🟦⬜⬜⬜🟦⬜⬜⬜🟦⬜🟦⬜⬜🔳🔳🔳🟦⬜🟦<br>🟦⬜🟦🟦🟦🟦🟦⬜🟦⬜🟦⬜🟦⬜🟦🟦🟦🔳🟦⬜🟦<br>🟦⬜⬜⬜🟦⬜⬜⬜🟦⬜🟦⬜🟦⬜🟦⬜🟦🔳🟦⬜🟦<br>🟦🟦🟦⬜🟦⬜🟦🟦🟦⬜🟦🟦🟦⬜🟦⬜🟦🔳🟦⬜🟦<br>🟦⬜🟦⬜🟦⬜⬜⬜🟦⬜⬜⬜⬜⬜🟦⬜🟦🔳🟦⬜🟦<br>🟦⬜🟦⬜🟦🟦🟦⬜🟦🟦🟦🟦🟦🟦🟦⬜🟦🔳🟦⬜🟦<br>🟦⬜⬜⬜⬜⬜⬜⬜🟦⬜⬜⬜⬜⬜⬜⬜⬜🔳🔳🟥🟦<br>🟦🟦🟦🟦🟦🟦🟦🟦🟦🟦🟦🟦🟦🟦🟦🟦🟦🟦🟦🟦🟦`;\n",
              "    </script>\n",
              "    "
            ],
            "text/plain": [
              "<IPython.core.display.HTML object>"
            ]
          },
          "metadata": {},
          "output_type": "display_data"
        },
        {
          "data": {
            "text/html": [
              "\n",
              "    <script>\n",
              "    document.getElementById('maze').innerHTML = `🟦🟦🟦🟦🟦🟦🟦🟦🟦🟦🟦🟦🟦🟦🟦🟦🟦🟦🟦🟦🟦<br>🟦🟩🟦⬜🟦⬜⬜⬜⬜⬜⬜⬜⬜⬜⬜⬜⬜⬜⬜⬜🟦<br>🟦⬜🟦⬜🟦⬜🟦🟦🟦🟦🟦⬜🟦🟦🟦🟦🟦🟦🟦⬜🟦<br>🟦⬜🟦⬜⬜⬜🟦⬜⬜⬜🟦⬜🟦⬜🔳🔳🔳🔳🟦⬜🟦<br>🟦⬜🟦🟦🟦🟦🟦⬜🟦⬜🟦⬜🟦⬜🟦🟦🟦🔳🟦⬜🟦<br>🟦⬜⬜⬜🟦⬜⬜⬜🟦⬜🟦⬜🟦⬜🟦⬜🟦🔳🟦⬜🟦<br>🟦🟦🟦⬜🟦⬜🟦🟦🟦⬜🟦🟦🟦⬜🟦⬜🟦🔳🟦⬜🟦<br>🟦⬜🟦⬜🟦⬜⬜⬜🟦⬜⬜⬜⬜⬜🟦⬜🟦🔳🟦⬜🟦<br>🟦⬜🟦⬜🟦🟦🟦⬜🟦🟦🟦🟦🟦🟦🟦⬜🟦🔳🟦⬜🟦<br>🟦⬜⬜⬜⬜⬜⬜⬜🟦⬜⬜⬜⬜⬜⬜⬜⬜🔳🔳🟥🟦<br>🟦🟦🟦🟦🟦🟦🟦🟦🟦🟦🟦🟦🟦🟦🟦🟦🟦🟦🟦🟦🟦`;\n",
              "    </script>\n",
              "    "
            ],
            "text/plain": [
              "<IPython.core.display.HTML object>"
            ]
          },
          "metadata": {},
          "output_type": "display_data"
        },
        {
          "data": {
            "text/html": [
              "\n",
              "    <script>\n",
              "    document.getElementById('maze').innerHTML = `🟦🟦🟦🟦🟦🟦🟦🟦🟦🟦🟦🟦🟦🟦🟦🟦🟦🟦🟦🟦🟦<br>🟦🟩🟦⬜🟦⬜⬜⬜⬜⬜⬜⬜⬜⬜⬜⬜⬜⬜⬜⬜🟦<br>🟦⬜🟦⬜🟦⬜🟦🟦🟦🟦🟦⬜🟦🟦🟦🟦🟦🟦🟦⬜🟦<br>🟦⬜🟦⬜⬜⬜🟦⬜⬜⬜🟦⬜🟦🔳🔳🔳🔳🔳🟦⬜🟦<br>🟦⬜🟦🟦🟦🟦🟦⬜🟦⬜🟦⬜🟦⬜🟦🟦🟦🔳🟦⬜🟦<br>🟦⬜⬜⬜🟦⬜⬜⬜🟦⬜🟦⬜🟦⬜🟦⬜🟦🔳🟦⬜🟦<br>🟦🟦🟦⬜🟦⬜🟦🟦🟦⬜🟦🟦🟦⬜🟦⬜🟦🔳🟦⬜🟦<br>🟦⬜🟦⬜🟦⬜⬜⬜🟦⬜⬜⬜⬜⬜🟦⬜🟦🔳🟦⬜🟦<br>🟦⬜🟦⬜🟦🟦🟦⬜🟦🟦🟦🟦🟦🟦🟦⬜🟦🔳🟦⬜🟦<br>🟦⬜⬜⬜⬜⬜⬜⬜🟦⬜⬜⬜⬜⬜⬜⬜⬜🔳🔳🟥🟦<br>🟦🟦🟦🟦🟦🟦🟦🟦🟦🟦🟦🟦🟦🟦🟦🟦🟦🟦🟦🟦🟦`;\n",
              "    </script>\n",
              "    "
            ],
            "text/plain": [
              "<IPython.core.display.HTML object>"
            ]
          },
          "metadata": {},
          "output_type": "display_data"
        },
        {
          "data": {
            "text/html": [
              "\n",
              "    <script>\n",
              "    document.getElementById('maze').innerHTML = `🟦🟦🟦🟦🟦🟦🟦🟦🟦🟦🟦🟦🟦🟦🟦🟦🟦🟦🟦🟦🟦<br>🟦🟩🟦⬜🟦⬜⬜⬜⬜⬜⬜⬜⬜⬜⬜⬜⬜⬜⬜⬜🟦<br>🟦⬜🟦⬜🟦⬜🟦🟦🟦🟦🟦⬜🟦🟦🟦🟦🟦🟦🟦⬜🟦<br>🟦⬜🟦⬜⬜⬜🟦⬜⬜⬜🟦⬜🟦🔳🔳🔳🔳🔳🟦⬜🟦<br>🟦⬜🟦🟦🟦🟦🟦⬜🟦⬜🟦⬜🟦🔳🟦🟦🟦🔳🟦⬜🟦<br>🟦⬜⬜⬜🟦⬜⬜⬜🟦⬜🟦⬜🟦⬜🟦⬜🟦🔳🟦⬜🟦<br>🟦🟦🟦⬜🟦⬜🟦🟦🟦⬜🟦🟦🟦⬜🟦⬜🟦🔳🟦⬜🟦<br>🟦⬜🟦⬜🟦⬜⬜⬜🟦⬜⬜⬜⬜⬜🟦⬜🟦🔳🟦⬜🟦<br>🟦⬜🟦⬜🟦🟦🟦⬜🟦🟦🟦🟦🟦🟦🟦⬜🟦🔳🟦⬜🟦<br>🟦⬜⬜⬜⬜⬜⬜⬜🟦⬜⬜⬜⬜⬜⬜⬜⬜🔳🔳🟥🟦<br>🟦🟦🟦🟦🟦🟦🟦🟦🟦🟦🟦🟦🟦🟦🟦🟦🟦🟦🟦🟦🟦`;\n",
              "    </script>\n",
              "    "
            ],
            "text/plain": [
              "<IPython.core.display.HTML object>"
            ]
          },
          "metadata": {},
          "output_type": "display_data"
        },
        {
          "data": {
            "text/html": [
              "\n",
              "    <script>\n",
              "    document.getElementById('maze').innerHTML = `🟦🟦🟦🟦🟦🟦🟦🟦🟦🟦🟦🟦🟦🟦🟦🟦🟦🟦🟦🟦🟦<br>🟦🟩🟦⬜🟦⬜⬜⬜⬜⬜⬜⬜⬜⬜⬜⬜⬜⬜⬜⬜🟦<br>🟦⬜🟦⬜🟦⬜🟦🟦🟦🟦🟦⬜🟦🟦🟦🟦🟦🟦🟦⬜🟦<br>🟦⬜🟦⬜⬜⬜🟦⬜⬜⬜🟦⬜🟦🔳🔳🔳🔳🔳🟦⬜🟦<br>🟦⬜🟦🟦🟦🟦🟦⬜🟦⬜🟦⬜🟦🔳🟦🟦🟦🔳🟦⬜🟦<br>🟦⬜⬜⬜🟦⬜⬜⬜🟦⬜🟦⬜🟦🔳🟦⬜🟦🔳🟦⬜🟦<br>🟦🟦🟦⬜🟦⬜🟦🟦🟦⬜🟦🟦🟦⬜🟦⬜🟦🔳🟦⬜🟦<br>🟦⬜🟦⬜🟦⬜⬜⬜🟦⬜⬜⬜⬜⬜🟦⬜🟦🔳🟦⬜🟦<br>🟦⬜🟦⬜🟦🟦🟦⬜🟦🟦🟦🟦🟦🟦🟦⬜🟦🔳🟦⬜🟦<br>🟦⬜⬜⬜⬜⬜⬜⬜🟦⬜⬜⬜⬜⬜⬜⬜⬜🔳🔳🟥🟦<br>🟦🟦🟦🟦🟦🟦🟦🟦🟦🟦🟦🟦🟦🟦🟦🟦🟦🟦🟦🟦🟦`;\n",
              "    </script>\n",
              "    "
            ],
            "text/plain": [
              "<IPython.core.display.HTML object>"
            ]
          },
          "metadata": {},
          "output_type": "display_data"
        },
        {
          "data": {
            "text/html": [
              "\n",
              "    <script>\n",
              "    document.getElementById('maze').innerHTML = `🟦🟦🟦🟦🟦🟦🟦🟦🟦🟦🟦🟦🟦🟦🟦🟦🟦🟦🟦🟦🟦<br>🟦🟩🟦⬜🟦⬜⬜⬜⬜⬜⬜⬜⬜⬜⬜⬜⬜⬜⬜⬜🟦<br>🟦⬜🟦⬜🟦⬜🟦🟦🟦🟦🟦⬜🟦🟦🟦🟦🟦🟦🟦⬜🟦<br>🟦⬜🟦⬜⬜⬜🟦⬜⬜⬜🟦⬜🟦🔳🔳🔳🔳🔳🟦⬜🟦<br>🟦⬜🟦🟦🟦🟦🟦⬜🟦⬜🟦⬜🟦🔳🟦🟦🟦🔳🟦⬜🟦<br>🟦⬜⬜⬜🟦⬜⬜⬜🟦⬜🟦⬜🟦🔳🟦⬜🟦🔳🟦⬜🟦<br>🟦🟦🟦⬜🟦⬜🟦🟦🟦⬜🟦🟦🟦🔳🟦⬜🟦🔳🟦⬜🟦<br>🟦⬜🟦⬜🟦⬜⬜⬜🟦⬜⬜⬜⬜⬜🟦⬜🟦🔳🟦⬜🟦<br>🟦⬜🟦⬜🟦🟦🟦⬜🟦🟦🟦🟦🟦🟦🟦⬜🟦🔳🟦⬜🟦<br>🟦⬜⬜⬜⬜⬜⬜⬜🟦⬜⬜⬜⬜⬜⬜⬜⬜🔳🔳🟥🟦<br>🟦🟦🟦🟦🟦🟦🟦🟦🟦🟦🟦🟦🟦🟦🟦🟦🟦🟦🟦🟦🟦`;\n",
              "    </script>\n",
              "    "
            ],
            "text/plain": [
              "<IPython.core.display.HTML object>"
            ]
          },
          "metadata": {},
          "output_type": "display_data"
        },
        {
          "data": {
            "text/html": [
              "\n",
              "    <script>\n",
              "    document.getElementById('maze').innerHTML = `🟦🟦🟦🟦🟦🟦🟦🟦🟦🟦🟦🟦🟦🟦🟦🟦🟦🟦🟦🟦🟦<br>🟦🟩🟦⬜🟦⬜⬜⬜⬜⬜⬜⬜⬜⬜⬜⬜⬜⬜⬜⬜🟦<br>🟦⬜🟦⬜🟦⬜🟦🟦🟦🟦🟦⬜🟦🟦🟦🟦🟦🟦🟦⬜🟦<br>🟦⬜🟦⬜⬜⬜🟦⬜⬜⬜🟦⬜🟦🔳🔳🔳🔳🔳🟦⬜🟦<br>🟦⬜🟦🟦🟦🟦🟦⬜🟦⬜🟦⬜🟦🔳🟦🟦🟦🔳🟦⬜🟦<br>🟦⬜⬜⬜🟦⬜⬜⬜🟦⬜🟦⬜🟦🔳🟦⬜🟦🔳🟦⬜🟦<br>🟦🟦🟦⬜🟦⬜🟦🟦🟦⬜🟦🟦🟦🔳🟦⬜🟦🔳🟦⬜🟦<br>🟦⬜🟦⬜🟦⬜⬜⬜🟦⬜⬜⬜⬜🔳🟦⬜🟦🔳🟦⬜🟦<br>🟦⬜🟦⬜🟦🟦🟦⬜🟦🟦🟦🟦🟦🟦🟦⬜🟦🔳🟦⬜🟦<br>🟦⬜⬜⬜⬜⬜⬜⬜🟦⬜⬜⬜⬜⬜⬜⬜⬜🔳🔳🟥🟦<br>🟦🟦🟦🟦🟦🟦🟦🟦🟦🟦🟦🟦🟦🟦🟦🟦🟦🟦🟦🟦🟦`;\n",
              "    </script>\n",
              "    "
            ],
            "text/plain": [
              "<IPython.core.display.HTML object>"
            ]
          },
          "metadata": {},
          "output_type": "display_data"
        },
        {
          "data": {
            "text/html": [
              "\n",
              "    <script>\n",
              "    document.getElementById('maze').innerHTML = `🟦🟦🟦🟦🟦🟦🟦🟦🟦🟦🟦🟦🟦🟦🟦🟦🟦🟦🟦🟦🟦<br>🟦🟩🟦⬜🟦⬜⬜⬜⬜⬜⬜⬜⬜⬜⬜⬜⬜⬜⬜⬜🟦<br>🟦⬜🟦⬜🟦⬜🟦🟦🟦🟦🟦⬜🟦🟦🟦🟦🟦🟦🟦⬜🟦<br>🟦⬜🟦⬜⬜⬜🟦⬜⬜⬜🟦⬜🟦🔳🔳🔳🔳🔳🟦⬜🟦<br>🟦⬜🟦🟦🟦🟦🟦⬜🟦⬜🟦⬜🟦🔳🟦🟦🟦🔳🟦⬜🟦<br>🟦⬜⬜⬜🟦⬜⬜⬜🟦⬜🟦⬜🟦🔳🟦⬜🟦🔳🟦⬜🟦<br>🟦🟦🟦⬜🟦⬜🟦🟦🟦⬜🟦🟦🟦🔳🟦⬜🟦🔳🟦⬜🟦<br>🟦⬜🟦⬜🟦⬜⬜⬜🟦⬜⬜⬜🔳🔳🟦⬜🟦🔳🟦⬜🟦<br>🟦⬜🟦⬜🟦🟦🟦⬜🟦🟦🟦🟦🟦🟦🟦⬜🟦🔳🟦⬜🟦<br>🟦⬜⬜⬜⬜⬜⬜⬜🟦⬜⬜⬜⬜⬜⬜⬜⬜🔳🔳🟥🟦<br>🟦🟦🟦🟦🟦🟦🟦🟦🟦🟦🟦🟦🟦🟦🟦🟦🟦🟦🟦🟦🟦`;\n",
              "    </script>\n",
              "    "
            ],
            "text/plain": [
              "<IPython.core.display.HTML object>"
            ]
          },
          "metadata": {},
          "output_type": "display_data"
        },
        {
          "data": {
            "text/html": [
              "\n",
              "    <script>\n",
              "    document.getElementById('maze').innerHTML = `🟦🟦🟦🟦🟦🟦🟦🟦🟦🟦🟦🟦🟦🟦🟦🟦🟦🟦🟦🟦🟦<br>🟦🟩🟦⬜🟦⬜⬜⬜⬜⬜⬜⬜⬜⬜⬜⬜⬜⬜⬜⬜🟦<br>🟦⬜🟦⬜🟦⬜🟦🟦🟦🟦🟦⬜🟦🟦🟦🟦🟦🟦🟦⬜🟦<br>🟦⬜🟦⬜⬜⬜🟦⬜⬜⬜🟦⬜🟦🔳🔳🔳🔳🔳🟦⬜🟦<br>🟦⬜🟦🟦🟦🟦🟦⬜🟦⬜🟦⬜🟦🔳🟦🟦🟦🔳🟦⬜🟦<br>🟦⬜⬜⬜🟦⬜⬜⬜🟦⬜🟦⬜🟦🔳🟦⬜🟦🔳🟦⬜🟦<br>🟦🟦🟦⬜🟦⬜🟦🟦🟦⬜🟦🟦🟦🔳🟦⬜🟦🔳🟦⬜🟦<br>🟦⬜🟦⬜🟦⬜⬜⬜🟦⬜⬜🔳🔳🔳🟦⬜🟦🔳🟦⬜🟦<br>🟦⬜🟦⬜🟦🟦🟦⬜🟦🟦🟦🟦🟦🟦🟦⬜🟦🔳🟦⬜🟦<br>🟦⬜⬜⬜⬜⬜⬜⬜🟦⬜⬜⬜⬜⬜⬜⬜⬜🔳🔳🟥🟦<br>🟦🟦🟦🟦🟦🟦🟦🟦🟦🟦🟦🟦🟦🟦🟦🟦🟦🟦🟦🟦🟦`;\n",
              "    </script>\n",
              "    "
            ],
            "text/plain": [
              "<IPython.core.display.HTML object>"
            ]
          },
          "metadata": {},
          "output_type": "display_data"
        },
        {
          "data": {
            "text/html": [
              "\n",
              "    <script>\n",
              "    document.getElementById('maze').innerHTML = `🟦🟦🟦🟦🟦🟦🟦🟦🟦🟦🟦🟦🟦🟦🟦🟦🟦🟦🟦🟦🟦<br>🟦🟩🟦⬜🟦⬜⬜⬜⬜⬜⬜⬜⬜⬜⬜⬜⬜⬜⬜⬜🟦<br>🟦⬜🟦⬜🟦⬜🟦🟦🟦🟦🟦⬜🟦🟦🟦🟦🟦🟦🟦⬜🟦<br>🟦⬜🟦⬜⬜⬜🟦⬜⬜⬜🟦⬜🟦🔳🔳🔳🔳🔳🟦⬜🟦<br>🟦⬜🟦🟦🟦🟦🟦⬜🟦⬜🟦⬜🟦🔳🟦🟦🟦🔳🟦⬜🟦<br>🟦⬜⬜⬜🟦⬜⬜⬜🟦⬜🟦⬜🟦🔳🟦⬜🟦🔳🟦⬜🟦<br>🟦🟦🟦⬜🟦⬜🟦🟦🟦⬜🟦🟦🟦🔳🟦⬜🟦🔳🟦⬜🟦<br>🟦⬜🟦⬜🟦⬜⬜⬜🟦⬜🔳🔳🔳🔳🟦⬜🟦🔳🟦⬜🟦<br>🟦⬜🟦⬜🟦🟦🟦⬜🟦🟦🟦🟦🟦🟦🟦⬜🟦🔳🟦⬜🟦<br>🟦⬜⬜⬜⬜⬜⬜⬜🟦⬜⬜⬜⬜⬜⬜⬜⬜🔳🔳🟥🟦<br>🟦🟦🟦🟦🟦🟦🟦🟦🟦🟦🟦🟦🟦🟦🟦🟦🟦🟦🟦🟦🟦`;\n",
              "    </script>\n",
              "    "
            ],
            "text/plain": [
              "<IPython.core.display.HTML object>"
            ]
          },
          "metadata": {},
          "output_type": "display_data"
        },
        {
          "data": {
            "text/html": [
              "\n",
              "    <script>\n",
              "    document.getElementById('maze').innerHTML = `🟦🟦🟦🟦🟦🟦🟦🟦🟦🟦🟦🟦🟦🟦🟦🟦🟦🟦🟦🟦🟦<br>🟦🟩🟦⬜🟦⬜⬜⬜⬜⬜⬜⬜⬜⬜⬜⬜⬜⬜⬜⬜🟦<br>🟦⬜🟦⬜🟦⬜🟦🟦🟦🟦🟦⬜🟦🟦🟦🟦🟦🟦🟦⬜🟦<br>🟦⬜🟦⬜⬜⬜🟦⬜⬜⬜🟦⬜🟦🔳🔳🔳🔳🔳🟦⬜🟦<br>🟦⬜🟦🟦🟦🟦🟦⬜🟦⬜🟦⬜🟦🔳🟦🟦🟦🔳🟦⬜🟦<br>🟦⬜⬜⬜🟦⬜⬜⬜🟦⬜🟦⬜🟦🔳🟦⬜🟦🔳🟦⬜🟦<br>🟦🟦🟦⬜🟦⬜🟦🟦🟦⬜🟦🟦🟦🔳🟦⬜🟦🔳🟦⬜🟦<br>🟦⬜🟦⬜🟦⬜⬜⬜🟦🔳🔳🔳🔳🔳🟦⬜🟦🔳🟦⬜🟦<br>🟦⬜🟦⬜🟦🟦🟦⬜🟦🟦🟦🟦🟦🟦🟦⬜🟦🔳🟦⬜🟦<br>🟦⬜⬜⬜⬜⬜⬜⬜🟦⬜⬜⬜⬜⬜⬜⬜⬜🔳🔳🟥🟦<br>🟦🟦🟦🟦🟦🟦🟦🟦🟦🟦🟦🟦🟦🟦🟦🟦🟦🟦🟦🟦🟦`;\n",
              "    </script>\n",
              "    "
            ],
            "text/plain": [
              "<IPython.core.display.HTML object>"
            ]
          },
          "metadata": {},
          "output_type": "display_data"
        },
        {
          "data": {
            "text/html": [
              "\n",
              "    <script>\n",
              "    document.getElementById('maze').innerHTML = `🟦🟦🟦🟦🟦🟦🟦🟦🟦🟦🟦🟦🟦🟦🟦🟦🟦🟦🟦🟦🟦<br>🟦🟩🟦⬜🟦⬜⬜⬜⬜⬜⬜⬜⬜⬜⬜⬜⬜⬜⬜⬜🟦<br>🟦⬜🟦⬜🟦⬜🟦🟦🟦🟦🟦⬜🟦🟦🟦🟦🟦🟦🟦⬜🟦<br>🟦⬜🟦⬜⬜⬜🟦⬜⬜⬜🟦⬜🟦🔳🔳🔳🔳🔳🟦⬜🟦<br>🟦⬜🟦🟦🟦🟦🟦⬜🟦⬜🟦⬜🟦🔳🟦🟦🟦🔳🟦⬜🟦<br>🟦⬜⬜⬜🟦⬜⬜⬜🟦⬜🟦⬜🟦🔳🟦⬜🟦🔳🟦⬜🟦<br>🟦🟦🟦⬜🟦⬜🟦🟦🟦🔳🟦🟦🟦🔳🟦⬜🟦🔳🟦⬜🟦<br>🟦⬜🟦⬜🟦⬜⬜⬜🟦🔳🔳🔳🔳🔳🟦⬜🟦🔳🟦⬜🟦<br>🟦⬜🟦⬜🟦🟦🟦⬜🟦🟦🟦🟦🟦🟦🟦⬜🟦🔳🟦⬜🟦<br>🟦⬜⬜⬜⬜⬜⬜⬜🟦⬜⬜⬜⬜⬜⬜⬜⬜🔳🔳🟥🟦<br>🟦🟦🟦🟦🟦🟦🟦🟦🟦🟦🟦🟦🟦🟦🟦🟦🟦🟦🟦🟦🟦`;\n",
              "    </script>\n",
              "    "
            ],
            "text/plain": [
              "<IPython.core.display.HTML object>"
            ]
          },
          "metadata": {},
          "output_type": "display_data"
        },
        {
          "data": {
            "text/html": [
              "\n",
              "    <script>\n",
              "    document.getElementById('maze').innerHTML = `🟦🟦🟦🟦🟦🟦🟦🟦🟦🟦🟦🟦🟦🟦🟦🟦🟦🟦🟦🟦🟦<br>🟦🟩🟦⬜🟦⬜⬜⬜⬜⬜⬜⬜⬜⬜⬜⬜⬜⬜⬜⬜🟦<br>🟦⬜🟦⬜🟦⬜🟦🟦🟦🟦🟦⬜🟦🟦🟦🟦🟦🟦🟦⬜🟦<br>🟦⬜🟦⬜⬜⬜🟦⬜⬜⬜🟦⬜🟦🔳🔳🔳🔳🔳🟦⬜🟦<br>🟦⬜🟦🟦🟦🟦🟦⬜🟦⬜🟦⬜🟦🔳🟦🟦🟦🔳🟦⬜🟦<br>🟦⬜⬜⬜🟦⬜⬜⬜🟦🔳🟦⬜🟦🔳🟦⬜🟦🔳🟦⬜🟦<br>🟦🟦🟦⬜🟦⬜🟦🟦🟦🔳🟦🟦🟦🔳🟦⬜🟦🔳🟦⬜🟦<br>🟦⬜🟦⬜🟦⬜⬜⬜🟦🔳🔳🔳🔳🔳🟦⬜🟦🔳🟦⬜🟦<br>🟦⬜🟦⬜🟦🟦🟦⬜🟦🟦🟦🟦🟦🟦🟦⬜🟦🔳🟦⬜🟦<br>🟦⬜⬜⬜⬜⬜⬜⬜🟦⬜⬜⬜⬜⬜⬜⬜⬜🔳🔳🟥🟦<br>🟦🟦🟦🟦🟦🟦🟦🟦🟦🟦🟦🟦🟦🟦🟦🟦🟦🟦🟦🟦🟦`;\n",
              "    </script>\n",
              "    "
            ],
            "text/plain": [
              "<IPython.core.display.HTML object>"
            ]
          },
          "metadata": {},
          "output_type": "display_data"
        },
        {
          "data": {
            "text/html": [
              "\n",
              "    <script>\n",
              "    document.getElementById('maze').innerHTML = `🟦🟦🟦🟦🟦🟦🟦🟦🟦🟦🟦🟦🟦🟦🟦🟦🟦🟦🟦🟦🟦<br>🟦🟩🟦⬜🟦⬜⬜⬜⬜⬜⬜⬜⬜⬜⬜⬜⬜⬜⬜⬜🟦<br>🟦⬜🟦⬜🟦⬜🟦🟦🟦🟦🟦⬜🟦🟦🟦🟦🟦🟦🟦⬜🟦<br>🟦⬜🟦⬜⬜⬜🟦⬜⬜⬜🟦⬜🟦🔳🔳🔳🔳🔳🟦⬜🟦<br>🟦⬜🟦🟦🟦🟦🟦⬜🟦🔳🟦⬜🟦🔳🟦🟦🟦🔳🟦⬜🟦<br>🟦⬜⬜⬜🟦⬜⬜⬜🟦🔳🟦⬜🟦🔳🟦⬜🟦🔳🟦⬜🟦<br>🟦🟦🟦⬜🟦⬜🟦🟦🟦🔳🟦🟦🟦🔳🟦⬜🟦🔳🟦⬜🟦<br>🟦⬜🟦⬜🟦⬜⬜⬜🟦🔳🔳🔳🔳🔳🟦⬜🟦🔳🟦⬜🟦<br>🟦⬜🟦⬜🟦🟦🟦⬜🟦🟦🟦🟦🟦🟦🟦⬜🟦🔳🟦⬜🟦<br>🟦⬜⬜⬜⬜⬜⬜⬜🟦⬜⬜⬜⬜⬜⬜⬜⬜🔳🔳🟥🟦<br>🟦🟦🟦🟦🟦🟦🟦🟦🟦🟦🟦🟦🟦🟦🟦🟦🟦🟦🟦🟦🟦`;\n",
              "    </script>\n",
              "    "
            ],
            "text/plain": [
              "<IPython.core.display.HTML object>"
            ]
          },
          "metadata": {},
          "output_type": "display_data"
        },
        {
          "data": {
            "text/html": [
              "\n",
              "    <script>\n",
              "    document.getElementById('maze').innerHTML = `🟦🟦🟦🟦🟦🟦🟦🟦🟦🟦🟦🟦🟦🟦🟦🟦🟦🟦🟦🟦🟦<br>🟦🟩🟦⬜🟦⬜⬜⬜⬜⬜⬜⬜⬜⬜⬜⬜⬜⬜⬜⬜🟦<br>🟦⬜🟦⬜🟦⬜🟦🟦🟦🟦🟦⬜🟦🟦🟦🟦🟦🟦🟦⬜🟦<br>🟦⬜🟦⬜⬜⬜🟦⬜⬜🔳🟦⬜🟦🔳🔳🔳🔳🔳🟦⬜🟦<br>🟦⬜🟦🟦🟦🟦🟦⬜🟦🔳🟦⬜🟦🔳🟦🟦🟦🔳🟦⬜🟦<br>🟦⬜⬜⬜🟦⬜⬜⬜🟦🔳🟦⬜🟦🔳🟦⬜🟦🔳🟦⬜🟦<br>🟦🟦🟦⬜🟦⬜🟦🟦🟦🔳🟦🟦🟦🔳🟦⬜🟦🔳🟦⬜🟦<br>🟦⬜🟦⬜🟦⬜⬜⬜🟦🔳🔳🔳🔳🔳🟦⬜🟦🔳🟦⬜🟦<br>🟦⬜🟦⬜🟦🟦🟦⬜🟦🟦🟦🟦🟦🟦🟦⬜🟦🔳🟦⬜🟦<br>🟦⬜⬜⬜⬜⬜⬜⬜🟦⬜⬜⬜⬜⬜⬜⬜⬜🔳🔳🟥🟦<br>🟦🟦🟦🟦🟦🟦🟦🟦🟦🟦🟦🟦🟦🟦🟦🟦🟦🟦🟦🟦🟦`;\n",
              "    </script>\n",
              "    "
            ],
            "text/plain": [
              "<IPython.core.display.HTML object>"
            ]
          },
          "metadata": {},
          "output_type": "display_data"
        },
        {
          "data": {
            "text/html": [
              "\n",
              "    <script>\n",
              "    document.getElementById('maze').innerHTML = `🟦🟦🟦🟦🟦🟦🟦🟦🟦🟦🟦🟦🟦🟦🟦🟦🟦🟦🟦🟦🟦<br>🟦🟩🟦⬜🟦⬜⬜⬜⬜⬜⬜⬜⬜⬜⬜⬜⬜⬜⬜⬜🟦<br>🟦⬜🟦⬜🟦⬜🟦🟦🟦🟦🟦⬜🟦🟦🟦🟦🟦🟦🟦⬜🟦<br>🟦⬜🟦⬜⬜⬜🟦⬜🔳🔳🟦⬜🟦🔳🔳🔳🔳🔳🟦⬜🟦<br>🟦⬜🟦🟦🟦🟦🟦⬜🟦🔳🟦⬜🟦🔳🟦🟦🟦🔳🟦⬜🟦<br>🟦⬜⬜⬜🟦⬜⬜⬜🟦🔳🟦⬜🟦🔳🟦⬜🟦🔳🟦⬜🟦<br>🟦🟦🟦⬜🟦⬜🟦🟦🟦🔳🟦🟦🟦🔳🟦⬜🟦🔳🟦⬜🟦<br>🟦⬜🟦⬜🟦⬜⬜⬜🟦🔳🔳🔳🔳🔳🟦⬜🟦🔳🟦⬜🟦<br>🟦⬜🟦⬜🟦🟦🟦⬜🟦🟦🟦🟦🟦🟦🟦⬜🟦🔳🟦⬜🟦<br>🟦⬜⬜⬜⬜⬜⬜⬜🟦⬜⬜⬜⬜⬜⬜⬜⬜🔳🔳🟥🟦<br>🟦🟦🟦🟦🟦🟦🟦🟦🟦🟦🟦🟦🟦🟦🟦🟦🟦🟦🟦🟦🟦`;\n",
              "    </script>\n",
              "    "
            ],
            "text/plain": [
              "<IPython.core.display.HTML object>"
            ]
          },
          "metadata": {},
          "output_type": "display_data"
        },
        {
          "data": {
            "text/html": [
              "\n",
              "    <script>\n",
              "    document.getElementById('maze').innerHTML = `🟦🟦🟦🟦🟦🟦🟦🟦🟦🟦🟦🟦🟦🟦🟦🟦🟦🟦🟦🟦🟦<br>🟦🟩🟦⬜🟦⬜⬜⬜⬜⬜⬜⬜⬜⬜⬜⬜⬜⬜⬜⬜🟦<br>🟦⬜🟦⬜🟦⬜🟦🟦🟦🟦🟦⬜🟦🟦🟦🟦🟦🟦🟦⬜🟦<br>🟦⬜🟦⬜⬜⬜🟦🔳🔳🔳🟦⬜🟦🔳🔳🔳🔳🔳🟦⬜🟦<br>🟦⬜🟦🟦🟦🟦🟦⬜🟦🔳🟦⬜🟦🔳🟦🟦🟦🔳🟦⬜🟦<br>🟦⬜⬜⬜🟦⬜⬜⬜🟦🔳🟦⬜🟦🔳🟦⬜🟦🔳🟦⬜🟦<br>🟦🟦🟦⬜🟦⬜🟦🟦🟦🔳🟦🟦🟦🔳🟦⬜🟦🔳🟦⬜🟦<br>🟦⬜🟦⬜🟦⬜⬜⬜🟦🔳🔳🔳🔳🔳🟦⬜🟦🔳🟦⬜🟦<br>🟦⬜🟦⬜🟦🟦🟦⬜🟦🟦🟦🟦🟦🟦🟦⬜🟦🔳🟦⬜🟦<br>🟦⬜⬜⬜⬜⬜⬜⬜🟦⬜⬜⬜⬜⬜⬜⬜⬜🔳🔳🟥🟦<br>🟦🟦🟦🟦🟦🟦🟦🟦🟦🟦🟦🟦🟦🟦🟦🟦🟦🟦🟦🟦🟦`;\n",
              "    </script>\n",
              "    "
            ],
            "text/plain": [
              "<IPython.core.display.HTML object>"
            ]
          },
          "metadata": {},
          "output_type": "display_data"
        },
        {
          "data": {
            "text/html": [
              "\n",
              "    <script>\n",
              "    document.getElementById('maze').innerHTML = `🟦🟦🟦🟦🟦🟦🟦🟦🟦🟦🟦🟦🟦🟦🟦🟦🟦🟦🟦🟦🟦<br>🟦🟩🟦⬜🟦⬜⬜⬜⬜⬜⬜⬜⬜⬜⬜⬜⬜⬜⬜⬜🟦<br>🟦⬜🟦⬜🟦⬜🟦🟦🟦🟦🟦⬜🟦🟦🟦🟦🟦🟦🟦⬜🟦<br>🟦⬜🟦⬜⬜⬜🟦🔳🔳🔳🟦⬜🟦🔳🔳🔳🔳🔳🟦⬜🟦<br>🟦⬜🟦🟦🟦🟦🟦🔳🟦🔳🟦⬜🟦🔳🟦🟦🟦🔳🟦⬜🟦<br>🟦⬜⬜⬜🟦⬜⬜⬜🟦🔳🟦⬜🟦🔳🟦⬜🟦🔳🟦⬜🟦<br>🟦🟦🟦⬜🟦⬜🟦🟦🟦🔳🟦🟦🟦🔳🟦⬜🟦🔳🟦⬜🟦<br>🟦⬜🟦⬜🟦⬜⬜⬜🟦🔳🔳🔳🔳🔳🟦⬜🟦🔳🟦⬜🟦<br>🟦⬜🟦⬜🟦🟦🟦⬜🟦🟦🟦🟦🟦🟦🟦⬜🟦🔳🟦⬜🟦<br>🟦⬜⬜⬜⬜⬜⬜⬜🟦⬜⬜⬜⬜⬜⬜⬜⬜🔳🔳🟥🟦<br>🟦🟦🟦🟦🟦🟦🟦🟦🟦🟦🟦🟦🟦🟦🟦🟦🟦🟦🟦🟦🟦`;\n",
              "    </script>\n",
              "    "
            ],
            "text/plain": [
              "<IPython.core.display.HTML object>"
            ]
          },
          "metadata": {},
          "output_type": "display_data"
        },
        {
          "data": {
            "text/html": [
              "\n",
              "    <script>\n",
              "    document.getElementById('maze').innerHTML = `🟦🟦🟦🟦🟦🟦🟦🟦🟦🟦🟦🟦🟦🟦🟦🟦🟦🟦🟦🟦🟦<br>🟦🟩🟦⬜🟦⬜⬜⬜⬜⬜⬜⬜⬜⬜⬜⬜⬜⬜⬜⬜🟦<br>🟦⬜🟦⬜🟦⬜🟦🟦🟦🟦🟦⬜🟦🟦🟦🟦🟦🟦🟦⬜🟦<br>🟦⬜🟦⬜⬜⬜🟦🔳🔳🔳🟦⬜🟦🔳🔳🔳🔳🔳🟦⬜🟦<br>🟦⬜🟦🟦🟦🟦🟦🔳🟦🔳🟦⬜🟦🔳🟦🟦🟦🔳🟦⬜🟦<br>🟦⬜⬜⬜🟦⬜⬜🔳🟦🔳🟦⬜🟦🔳🟦⬜🟦🔳🟦⬜🟦<br>🟦🟦🟦⬜🟦⬜🟦🟦🟦🔳🟦🟦🟦🔳🟦⬜🟦🔳🟦⬜🟦<br>🟦⬜🟦⬜🟦⬜⬜⬜🟦🔳🔳🔳🔳🔳🟦⬜🟦🔳🟦⬜🟦<br>🟦⬜🟦⬜🟦🟦🟦⬜🟦🟦🟦🟦🟦🟦🟦⬜🟦🔳🟦⬜🟦<br>🟦⬜⬜⬜⬜⬜⬜⬜🟦⬜⬜⬜⬜⬜⬜⬜⬜🔳🔳🟥🟦<br>🟦🟦🟦🟦🟦🟦🟦🟦🟦🟦🟦🟦🟦🟦🟦🟦🟦🟦🟦🟦🟦`;\n",
              "    </script>\n",
              "    "
            ],
            "text/plain": [
              "<IPython.core.display.HTML object>"
            ]
          },
          "metadata": {},
          "output_type": "display_data"
        },
        {
          "data": {
            "text/html": [
              "\n",
              "    <script>\n",
              "    document.getElementById('maze').innerHTML = `🟦🟦🟦🟦🟦🟦🟦🟦🟦🟦🟦🟦🟦🟦🟦🟦🟦🟦🟦🟦🟦<br>🟦🟩🟦⬜🟦⬜⬜⬜⬜⬜⬜⬜⬜⬜⬜⬜⬜⬜⬜⬜🟦<br>🟦⬜🟦⬜🟦⬜🟦🟦🟦🟦🟦⬜🟦🟦🟦🟦🟦🟦🟦⬜🟦<br>🟦⬜🟦⬜⬜⬜🟦🔳🔳🔳🟦⬜🟦🔳🔳🔳🔳🔳🟦⬜🟦<br>🟦⬜🟦🟦🟦🟦🟦🔳🟦🔳🟦⬜🟦🔳🟦🟦🟦🔳🟦⬜🟦<br>🟦⬜⬜⬜🟦⬜🔳🔳🟦🔳🟦⬜🟦🔳🟦⬜🟦🔳🟦⬜🟦<br>🟦🟦🟦⬜🟦⬜🟦🟦🟦🔳🟦🟦🟦🔳🟦⬜🟦🔳🟦⬜🟦<br>🟦⬜🟦⬜🟦⬜⬜⬜🟦🔳🔳🔳🔳🔳🟦⬜🟦🔳🟦⬜🟦<br>🟦⬜🟦⬜🟦🟦🟦⬜🟦🟦🟦🟦🟦🟦🟦⬜🟦🔳🟦⬜🟦<br>🟦⬜⬜⬜⬜⬜⬜⬜🟦⬜⬜⬜⬜⬜⬜⬜⬜🔳🔳🟥🟦<br>🟦🟦🟦🟦🟦🟦🟦🟦🟦🟦🟦🟦🟦🟦🟦🟦🟦🟦🟦🟦🟦`;\n",
              "    </script>\n",
              "    "
            ],
            "text/plain": [
              "<IPython.core.display.HTML object>"
            ]
          },
          "metadata": {},
          "output_type": "display_data"
        },
        {
          "data": {
            "text/html": [
              "\n",
              "    <script>\n",
              "    document.getElementById('maze').innerHTML = `🟦🟦🟦🟦🟦🟦🟦🟦🟦🟦🟦🟦🟦🟦🟦🟦🟦🟦🟦🟦🟦<br>🟦🟩🟦⬜🟦⬜⬜⬜⬜⬜⬜⬜⬜⬜⬜⬜⬜⬜⬜⬜🟦<br>🟦⬜🟦⬜🟦⬜🟦🟦🟦🟦🟦⬜🟦🟦🟦🟦🟦🟦🟦⬜🟦<br>🟦⬜🟦⬜⬜⬜🟦🔳🔳🔳🟦⬜🟦🔳🔳🔳🔳🔳🟦⬜🟦<br>🟦⬜🟦🟦🟦🟦🟦🔳🟦🔳🟦⬜🟦🔳🟦🟦🟦🔳🟦⬜🟦<br>🟦⬜⬜⬜🟦🔳🔳🔳🟦🔳🟦⬜🟦🔳🟦⬜🟦🔳🟦⬜🟦<br>🟦🟦🟦⬜🟦⬜🟦🟦🟦🔳🟦🟦🟦🔳🟦⬜🟦🔳🟦⬜🟦<br>🟦⬜🟦⬜🟦⬜⬜⬜🟦🔳🔳🔳🔳🔳🟦⬜🟦🔳🟦⬜🟦<br>🟦⬜🟦⬜🟦🟦🟦⬜🟦🟦🟦🟦🟦🟦🟦⬜🟦🔳🟦⬜🟦<br>🟦⬜⬜⬜⬜⬜⬜⬜🟦⬜⬜⬜⬜⬜⬜⬜⬜🔳🔳🟥🟦<br>🟦🟦🟦🟦🟦🟦🟦🟦🟦🟦🟦🟦🟦🟦🟦🟦🟦🟦🟦🟦🟦`;\n",
              "    </script>\n",
              "    "
            ],
            "text/plain": [
              "<IPython.core.display.HTML object>"
            ]
          },
          "metadata": {},
          "output_type": "display_data"
        },
        {
          "data": {
            "text/html": [
              "\n",
              "    <script>\n",
              "    document.getElementById('maze').innerHTML = `🟦🟦🟦🟦🟦🟦🟦🟦🟦🟦🟦🟦🟦🟦🟦🟦🟦🟦🟦🟦🟦<br>🟦🟩🟦⬜🟦⬜⬜⬜⬜⬜⬜⬜⬜⬜⬜⬜⬜⬜⬜⬜🟦<br>🟦⬜🟦⬜🟦⬜🟦🟦🟦🟦🟦⬜🟦🟦🟦🟦🟦🟦🟦⬜🟦<br>🟦⬜🟦⬜⬜⬜🟦🔳🔳🔳🟦⬜🟦🔳🔳🔳🔳🔳🟦⬜🟦<br>🟦⬜🟦🟦🟦🟦🟦🔳🟦🔳🟦⬜🟦🔳🟦🟦🟦🔳🟦⬜🟦<br>🟦⬜⬜⬜🟦🔳🔳🔳🟦🔳🟦⬜🟦🔳🟦⬜🟦🔳🟦⬜🟦<br>🟦🟦🟦⬜🟦🔳🟦🟦🟦🔳🟦🟦🟦🔳🟦⬜🟦🔳🟦⬜🟦<br>🟦⬜🟦⬜🟦⬜⬜⬜🟦🔳🔳🔳🔳🔳🟦⬜🟦🔳🟦⬜🟦<br>🟦⬜🟦⬜🟦🟦🟦⬜🟦🟦🟦🟦🟦🟦🟦⬜🟦🔳🟦⬜🟦<br>🟦⬜⬜⬜⬜⬜⬜⬜🟦⬜⬜⬜⬜⬜⬜⬜⬜🔳🔳🟥🟦<br>🟦🟦🟦🟦🟦🟦🟦🟦🟦🟦🟦🟦🟦🟦🟦🟦🟦🟦🟦🟦🟦`;\n",
              "    </script>\n",
              "    "
            ],
            "text/plain": [
              "<IPython.core.display.HTML object>"
            ]
          },
          "metadata": {},
          "output_type": "display_data"
        },
        {
          "data": {
            "text/html": [
              "\n",
              "    <script>\n",
              "    document.getElementById('maze').innerHTML = `🟦🟦🟦🟦🟦🟦🟦🟦🟦🟦🟦🟦🟦🟦🟦🟦🟦🟦🟦🟦🟦<br>🟦🟩🟦⬜🟦⬜⬜⬜⬜⬜⬜⬜⬜⬜⬜⬜⬜⬜⬜⬜🟦<br>🟦⬜🟦⬜🟦⬜🟦🟦🟦🟦🟦⬜🟦🟦🟦🟦🟦🟦🟦⬜🟦<br>🟦⬜🟦⬜⬜⬜🟦🔳🔳🔳🟦⬜🟦🔳🔳🔳🔳🔳🟦⬜🟦<br>🟦⬜🟦🟦🟦🟦🟦🔳🟦🔳🟦⬜🟦🔳🟦🟦🟦🔳🟦⬜🟦<br>🟦⬜⬜⬜🟦🔳🔳🔳🟦🔳🟦⬜🟦🔳🟦⬜🟦🔳🟦⬜🟦<br>🟦🟦🟦⬜🟦🔳🟦🟦🟦🔳🟦🟦🟦🔳🟦⬜🟦🔳🟦⬜🟦<br>🟦⬜🟦⬜🟦🔳⬜⬜🟦🔳🔳🔳🔳🔳🟦⬜🟦🔳🟦⬜🟦<br>🟦⬜🟦⬜🟦🟦🟦⬜🟦🟦🟦🟦🟦🟦🟦⬜🟦🔳🟦⬜🟦<br>🟦⬜⬜⬜⬜⬜⬜⬜🟦⬜⬜⬜⬜⬜⬜⬜⬜🔳🔳🟥🟦<br>🟦🟦🟦🟦🟦🟦🟦🟦🟦🟦🟦🟦🟦🟦🟦🟦🟦🟦🟦🟦🟦`;\n",
              "    </script>\n",
              "    "
            ],
            "text/plain": [
              "<IPython.core.display.HTML object>"
            ]
          },
          "metadata": {},
          "output_type": "display_data"
        },
        {
          "data": {
            "text/html": [
              "\n",
              "    <script>\n",
              "    document.getElementById('maze').innerHTML = `🟦🟦🟦🟦🟦🟦🟦🟦🟦🟦🟦🟦🟦🟦🟦🟦🟦🟦🟦🟦🟦<br>🟦🟩🟦⬜🟦⬜⬜⬜⬜⬜⬜⬜⬜⬜⬜⬜⬜⬜⬜⬜🟦<br>🟦⬜🟦⬜🟦⬜🟦🟦🟦🟦🟦⬜🟦🟦🟦🟦🟦🟦🟦⬜🟦<br>🟦⬜🟦⬜⬜⬜🟦🔳🔳🔳🟦⬜🟦🔳🔳🔳🔳🔳🟦⬜🟦<br>🟦⬜🟦🟦🟦🟦🟦🔳🟦🔳🟦⬜🟦🔳🟦🟦🟦🔳🟦⬜🟦<br>🟦⬜⬜⬜🟦🔳🔳🔳🟦🔳🟦⬜🟦🔳🟦⬜🟦🔳🟦⬜🟦<br>🟦🟦🟦⬜🟦🔳🟦🟦🟦🔳🟦🟦🟦🔳🟦⬜🟦🔳🟦⬜🟦<br>🟦⬜🟦⬜🟦🔳🔳⬜🟦🔳🔳🔳🔳🔳🟦⬜🟦🔳🟦⬜🟦<br>🟦⬜🟦⬜🟦🟦🟦⬜🟦🟦🟦🟦🟦🟦🟦⬜🟦🔳🟦⬜🟦<br>🟦⬜⬜⬜⬜⬜⬜⬜🟦⬜⬜⬜⬜⬜⬜⬜⬜🔳🔳🟥🟦<br>🟦🟦🟦🟦🟦🟦🟦🟦🟦🟦🟦🟦🟦🟦🟦🟦🟦🟦🟦🟦🟦`;\n",
              "    </script>\n",
              "    "
            ],
            "text/plain": [
              "<IPython.core.display.HTML object>"
            ]
          },
          "metadata": {},
          "output_type": "display_data"
        },
        {
          "data": {
            "text/html": [
              "\n",
              "    <script>\n",
              "    document.getElementById('maze').innerHTML = `🟦🟦🟦🟦🟦🟦🟦🟦🟦🟦🟦🟦🟦🟦🟦🟦🟦🟦🟦🟦🟦<br>🟦🟩🟦⬜🟦⬜⬜⬜⬜⬜⬜⬜⬜⬜⬜⬜⬜⬜⬜⬜🟦<br>🟦⬜🟦⬜🟦⬜🟦🟦🟦🟦🟦⬜🟦🟦🟦🟦🟦🟦🟦⬜🟦<br>🟦⬜🟦⬜⬜⬜🟦🔳🔳🔳🟦⬜🟦🔳🔳🔳🔳🔳🟦⬜🟦<br>🟦⬜🟦🟦🟦🟦🟦🔳🟦🔳🟦⬜🟦🔳🟦🟦🟦🔳🟦⬜🟦<br>🟦⬜⬜⬜🟦🔳🔳🔳🟦🔳🟦⬜🟦🔳🟦⬜🟦🔳🟦⬜🟦<br>🟦🟦🟦⬜🟦🔳🟦🟦🟦🔳🟦🟦🟦🔳🟦⬜🟦🔳🟦⬜🟦<br>🟦⬜🟦⬜🟦🔳🔳🔳🟦🔳🔳🔳🔳🔳🟦⬜🟦🔳🟦⬜🟦<br>🟦⬜🟦⬜🟦🟦🟦⬜🟦🟦🟦🟦🟦🟦🟦⬜🟦🔳🟦⬜🟦<br>🟦⬜⬜⬜⬜⬜⬜⬜🟦⬜⬜⬜⬜⬜⬜⬜⬜🔳🔳🟥🟦<br>🟦🟦🟦🟦🟦🟦🟦🟦🟦🟦🟦🟦🟦🟦🟦🟦🟦🟦🟦🟦🟦`;\n",
              "    </script>\n",
              "    "
            ],
            "text/plain": [
              "<IPython.core.display.HTML object>"
            ]
          },
          "metadata": {},
          "output_type": "display_data"
        },
        {
          "data": {
            "text/html": [
              "\n",
              "    <script>\n",
              "    document.getElementById('maze').innerHTML = `🟦🟦🟦🟦🟦🟦🟦🟦🟦🟦🟦🟦🟦🟦🟦🟦🟦🟦🟦🟦🟦<br>🟦🟩🟦⬜🟦⬜⬜⬜⬜⬜⬜⬜⬜⬜⬜⬜⬜⬜⬜⬜🟦<br>🟦⬜🟦⬜🟦⬜🟦🟦🟦🟦🟦⬜🟦🟦🟦🟦🟦🟦🟦⬜🟦<br>🟦⬜🟦⬜⬜⬜🟦🔳🔳🔳🟦⬜🟦🔳🔳🔳🔳🔳🟦⬜🟦<br>🟦⬜🟦🟦🟦🟦🟦🔳🟦🔳🟦⬜🟦🔳🟦🟦🟦🔳🟦⬜🟦<br>🟦⬜⬜⬜🟦🔳🔳🔳🟦🔳🟦⬜🟦🔳🟦⬜🟦🔳🟦⬜🟦<br>🟦🟦🟦⬜🟦🔳🟦🟦🟦🔳🟦🟦🟦🔳🟦⬜🟦🔳🟦⬜🟦<br>🟦⬜🟦⬜🟦🔳🔳🔳🟦🔳🔳🔳🔳🔳🟦⬜🟦🔳🟦⬜🟦<br>🟦⬜🟦⬜🟦🟦🟦🔳🟦🟦🟦🟦🟦🟦🟦⬜🟦🔳🟦⬜🟦<br>🟦⬜⬜⬜⬜⬜⬜⬜🟦⬜⬜⬜⬜⬜⬜⬜⬜🔳🔳🟥🟦<br>🟦🟦🟦🟦🟦🟦🟦🟦🟦🟦🟦🟦🟦🟦🟦🟦🟦🟦🟦🟦🟦`;\n",
              "    </script>\n",
              "    "
            ],
            "text/plain": [
              "<IPython.core.display.HTML object>"
            ]
          },
          "metadata": {},
          "output_type": "display_data"
        },
        {
          "data": {
            "text/html": [
              "\n",
              "    <script>\n",
              "    document.getElementById('maze').innerHTML = `🟦🟦🟦🟦🟦🟦🟦🟦🟦🟦🟦🟦🟦🟦🟦🟦🟦🟦🟦🟦🟦<br>🟦🟩🟦⬜🟦⬜⬜⬜⬜⬜⬜⬜⬜⬜⬜⬜⬜⬜⬜⬜🟦<br>🟦⬜🟦⬜🟦⬜🟦🟦🟦🟦🟦⬜🟦🟦🟦🟦🟦🟦🟦⬜🟦<br>🟦⬜🟦⬜⬜⬜🟦🔳🔳🔳🟦⬜🟦🔳🔳🔳🔳🔳🟦⬜🟦<br>🟦⬜🟦🟦🟦🟦🟦🔳🟦🔳🟦⬜🟦🔳🟦🟦🟦🔳🟦⬜🟦<br>🟦⬜⬜⬜🟦🔳🔳🔳🟦🔳🟦⬜🟦🔳🟦⬜🟦🔳🟦⬜🟦<br>🟦🟦🟦⬜🟦🔳🟦🟦🟦🔳🟦🟦🟦🔳🟦⬜🟦🔳🟦⬜🟦<br>🟦⬜🟦⬜🟦🔳🔳🔳🟦🔳🔳🔳🔳🔳🟦⬜🟦🔳🟦⬜🟦<br>🟦⬜🟦⬜🟦🟦🟦🔳🟦🟦🟦🟦🟦🟦🟦⬜🟦🔳🟦⬜🟦<br>🟦⬜⬜⬜⬜⬜⬜🔳🟦⬜⬜⬜⬜⬜⬜⬜⬜🔳🔳🟥🟦<br>🟦🟦🟦🟦🟦🟦🟦🟦🟦🟦🟦🟦🟦🟦🟦🟦🟦🟦🟦🟦🟦`;\n",
              "    </script>\n",
              "    "
            ],
            "text/plain": [
              "<IPython.core.display.HTML object>"
            ]
          },
          "metadata": {},
          "output_type": "display_data"
        },
        {
          "data": {
            "text/html": [
              "\n",
              "    <script>\n",
              "    document.getElementById('maze').innerHTML = `🟦🟦🟦🟦🟦🟦🟦🟦🟦🟦🟦🟦🟦🟦🟦🟦🟦🟦🟦🟦🟦<br>🟦🟩🟦⬜🟦⬜⬜⬜⬜⬜⬜⬜⬜⬜⬜⬜⬜⬜⬜⬜🟦<br>🟦⬜🟦⬜🟦⬜🟦🟦🟦🟦🟦⬜🟦🟦🟦🟦🟦🟦🟦⬜🟦<br>🟦⬜🟦⬜⬜⬜🟦🔳🔳🔳🟦⬜🟦🔳🔳🔳🔳🔳🟦⬜🟦<br>🟦⬜🟦🟦🟦🟦🟦🔳🟦🔳🟦⬜🟦🔳🟦🟦🟦🔳🟦⬜🟦<br>🟦⬜⬜⬜🟦🔳🔳🔳🟦🔳🟦⬜🟦🔳🟦⬜🟦🔳🟦⬜🟦<br>🟦🟦🟦⬜🟦🔳🟦🟦🟦🔳🟦🟦🟦🔳🟦⬜🟦🔳🟦⬜🟦<br>🟦⬜🟦⬜🟦🔳🔳🔳🟦🔳🔳🔳🔳🔳🟦⬜🟦🔳🟦⬜🟦<br>🟦⬜🟦⬜🟦🟦🟦🔳🟦🟦🟦🟦🟦🟦🟦⬜🟦🔳🟦⬜🟦<br>🟦⬜⬜⬜⬜⬜🔳🔳🟦⬜⬜⬜⬜⬜⬜⬜⬜🔳🔳🟥🟦<br>🟦🟦🟦🟦🟦🟦🟦🟦🟦🟦🟦🟦🟦🟦🟦🟦🟦🟦🟦🟦🟦`;\n",
              "    </script>\n",
              "    "
            ],
            "text/plain": [
              "<IPython.core.display.HTML object>"
            ]
          },
          "metadata": {},
          "output_type": "display_data"
        },
        {
          "data": {
            "text/html": [
              "\n",
              "    <script>\n",
              "    document.getElementById('maze').innerHTML = `🟦🟦🟦🟦🟦🟦🟦🟦🟦🟦🟦🟦🟦🟦🟦🟦🟦🟦🟦🟦🟦<br>🟦🟩🟦⬜🟦⬜⬜⬜⬜⬜⬜⬜⬜⬜⬜⬜⬜⬜⬜⬜🟦<br>🟦⬜🟦⬜🟦⬜🟦🟦🟦🟦🟦⬜🟦🟦🟦🟦🟦🟦🟦⬜🟦<br>🟦⬜🟦⬜⬜⬜🟦🔳🔳🔳🟦⬜🟦🔳🔳🔳🔳🔳🟦⬜🟦<br>🟦⬜🟦🟦🟦🟦🟦🔳🟦🔳🟦⬜🟦🔳🟦🟦🟦🔳🟦⬜🟦<br>🟦⬜⬜⬜🟦🔳🔳🔳🟦🔳🟦⬜🟦🔳🟦⬜🟦🔳🟦⬜🟦<br>🟦🟦🟦⬜🟦🔳🟦🟦🟦🔳🟦🟦🟦🔳🟦⬜🟦🔳🟦⬜🟦<br>🟦⬜🟦⬜🟦🔳🔳🔳🟦🔳🔳🔳🔳🔳🟦⬜🟦🔳🟦⬜🟦<br>🟦⬜🟦⬜🟦🟦🟦🔳🟦🟦🟦🟦🟦🟦🟦⬜🟦🔳🟦⬜🟦<br>🟦⬜⬜⬜⬜🔳🔳🔳🟦⬜⬜⬜⬜⬜⬜⬜⬜🔳🔳🟥🟦<br>🟦🟦🟦🟦🟦🟦🟦🟦🟦🟦🟦🟦🟦🟦🟦🟦🟦🟦🟦🟦🟦`;\n",
              "    </script>\n",
              "    "
            ],
            "text/plain": [
              "<IPython.core.display.HTML object>"
            ]
          },
          "metadata": {},
          "output_type": "display_data"
        },
        {
          "data": {
            "text/html": [
              "\n",
              "    <script>\n",
              "    document.getElementById('maze').innerHTML = `🟦🟦🟦🟦🟦🟦🟦🟦🟦🟦🟦🟦🟦🟦🟦🟦🟦🟦🟦🟦🟦<br>🟦🟩🟦⬜🟦⬜⬜⬜⬜⬜⬜⬜⬜⬜⬜⬜⬜⬜⬜⬜🟦<br>🟦⬜🟦⬜🟦⬜🟦🟦🟦🟦🟦⬜🟦🟦🟦🟦🟦🟦🟦⬜🟦<br>🟦⬜🟦⬜⬜⬜🟦🔳🔳🔳🟦⬜🟦🔳🔳🔳🔳🔳🟦⬜🟦<br>🟦⬜🟦🟦🟦🟦🟦🔳🟦🔳🟦⬜🟦🔳🟦🟦🟦🔳🟦⬜🟦<br>🟦⬜⬜⬜🟦🔳🔳🔳🟦🔳🟦⬜🟦🔳🟦⬜🟦🔳🟦⬜🟦<br>🟦🟦🟦⬜🟦🔳🟦🟦🟦🔳🟦🟦🟦🔳🟦⬜🟦🔳🟦⬜🟦<br>🟦⬜🟦⬜🟦🔳🔳🔳🟦🔳🔳🔳🔳🔳🟦⬜🟦🔳🟦⬜🟦<br>🟦⬜🟦⬜🟦🟦🟦🔳🟦🟦🟦🟦🟦🟦🟦⬜🟦🔳🟦⬜🟦<br>🟦⬜⬜⬜🔳🔳🔳🔳🟦⬜⬜⬜⬜⬜⬜⬜⬜🔳🔳🟥🟦<br>🟦🟦🟦🟦🟦🟦🟦🟦🟦🟦🟦🟦🟦🟦🟦🟦🟦🟦🟦🟦🟦`;\n",
              "    </script>\n",
              "    "
            ],
            "text/plain": [
              "<IPython.core.display.HTML object>"
            ]
          },
          "metadata": {},
          "output_type": "display_data"
        },
        {
          "data": {
            "text/html": [
              "\n",
              "    <script>\n",
              "    document.getElementById('maze').innerHTML = `🟦🟦🟦🟦🟦🟦🟦🟦🟦🟦🟦🟦🟦🟦🟦🟦🟦🟦🟦🟦🟦<br>🟦🟩🟦⬜🟦⬜⬜⬜⬜⬜⬜⬜⬜⬜⬜⬜⬜⬜⬜⬜🟦<br>🟦⬜🟦⬜🟦⬜🟦🟦🟦🟦🟦⬜🟦🟦🟦🟦🟦🟦🟦⬜🟦<br>🟦⬜🟦⬜⬜⬜🟦🔳🔳🔳🟦⬜🟦🔳🔳🔳🔳🔳🟦⬜🟦<br>🟦⬜🟦🟦🟦🟦🟦🔳🟦🔳🟦⬜🟦🔳🟦🟦🟦🔳🟦⬜🟦<br>🟦⬜⬜⬜🟦🔳🔳🔳🟦🔳🟦⬜🟦🔳🟦⬜🟦🔳🟦⬜🟦<br>🟦🟦🟦⬜🟦🔳🟦🟦🟦🔳🟦🟦🟦🔳🟦⬜🟦🔳🟦⬜🟦<br>🟦⬜🟦⬜🟦🔳🔳🔳🟦🔳🔳🔳🔳🔳🟦⬜🟦🔳🟦⬜🟦<br>🟦⬜🟦⬜🟦🟦🟦🔳🟦🟦🟦🟦🟦🟦🟦⬜🟦🔳🟦⬜🟦<br>🟦⬜⬜🔳🔳🔳🔳🔳🟦⬜⬜⬜⬜⬜⬜⬜⬜🔳🔳🟥🟦<br>🟦🟦🟦🟦🟦🟦🟦🟦🟦🟦🟦🟦🟦🟦🟦🟦🟦🟦🟦🟦🟦`;\n",
              "    </script>\n",
              "    "
            ],
            "text/plain": [
              "<IPython.core.display.HTML object>"
            ]
          },
          "metadata": {},
          "output_type": "display_data"
        },
        {
          "data": {
            "text/html": [
              "\n",
              "    <script>\n",
              "    document.getElementById('maze').innerHTML = `🟦🟦🟦🟦🟦🟦🟦🟦🟦🟦🟦🟦🟦🟦🟦🟦🟦🟦🟦🟦🟦<br>🟦🟩🟦⬜🟦⬜⬜⬜⬜⬜⬜⬜⬜⬜⬜⬜⬜⬜⬜⬜🟦<br>🟦⬜🟦⬜🟦⬜🟦🟦🟦🟦🟦⬜🟦🟦🟦🟦🟦🟦🟦⬜🟦<br>🟦⬜🟦⬜⬜⬜🟦🔳🔳🔳🟦⬜🟦🔳🔳🔳🔳🔳🟦⬜🟦<br>🟦⬜🟦🟦🟦🟦🟦🔳🟦🔳🟦⬜🟦🔳🟦🟦🟦🔳🟦⬜🟦<br>🟦⬜⬜⬜🟦🔳🔳🔳🟦🔳🟦⬜🟦🔳🟦⬜🟦🔳🟦⬜🟦<br>🟦🟦🟦⬜🟦🔳🟦🟦🟦🔳🟦🟦🟦🔳🟦⬜🟦🔳🟦⬜🟦<br>🟦⬜🟦⬜🟦🔳🔳🔳🟦🔳🔳🔳🔳🔳🟦⬜🟦🔳🟦⬜🟦<br>🟦⬜🟦🔳🟦🟦🟦🔳🟦🟦🟦🟦🟦🟦🟦⬜🟦🔳🟦⬜🟦<br>🟦⬜⬜🔳🔳🔳🔳🔳🟦⬜⬜⬜⬜⬜⬜⬜⬜🔳🔳🟥🟦<br>🟦🟦🟦🟦🟦🟦🟦🟦🟦🟦🟦🟦🟦🟦🟦🟦🟦🟦🟦🟦🟦`;\n",
              "    </script>\n",
              "    "
            ],
            "text/plain": [
              "<IPython.core.display.HTML object>"
            ]
          },
          "metadata": {},
          "output_type": "display_data"
        },
        {
          "data": {
            "text/html": [
              "\n",
              "    <script>\n",
              "    document.getElementById('maze').innerHTML = `🟦🟦🟦🟦🟦🟦🟦🟦🟦🟦🟦🟦🟦🟦🟦🟦🟦🟦🟦🟦🟦<br>🟦🟩🟦⬜🟦⬜⬜⬜⬜⬜⬜⬜⬜⬜⬜⬜⬜⬜⬜⬜🟦<br>🟦⬜🟦⬜🟦⬜🟦🟦🟦🟦🟦⬜🟦🟦🟦🟦🟦🟦🟦⬜🟦<br>🟦⬜🟦⬜⬜⬜🟦🔳🔳🔳🟦⬜🟦🔳🔳🔳🔳🔳🟦⬜🟦<br>🟦⬜🟦🟦🟦🟦🟦🔳🟦🔳🟦⬜🟦🔳🟦🟦🟦🔳🟦⬜🟦<br>🟦⬜⬜⬜🟦🔳🔳🔳🟦🔳🟦⬜🟦🔳🟦⬜🟦🔳🟦⬜🟦<br>🟦🟦🟦⬜🟦🔳🟦🟦🟦🔳🟦🟦🟦🔳🟦⬜🟦🔳🟦⬜🟦<br>🟦⬜🟦🔳🟦🔳🔳🔳🟦🔳🔳🔳🔳🔳🟦⬜🟦🔳🟦⬜🟦<br>🟦⬜🟦🔳🟦🟦🟦🔳🟦🟦🟦🟦🟦🟦🟦⬜🟦🔳🟦⬜🟦<br>🟦⬜⬜🔳🔳🔳🔳🔳🟦⬜⬜⬜⬜⬜⬜⬜⬜🔳🔳🟥🟦<br>🟦🟦🟦🟦🟦🟦🟦🟦🟦🟦🟦🟦🟦🟦🟦🟦🟦🟦🟦🟦🟦`;\n",
              "    </script>\n",
              "    "
            ],
            "text/plain": [
              "<IPython.core.display.HTML object>"
            ]
          },
          "metadata": {},
          "output_type": "display_data"
        },
        {
          "data": {
            "text/html": [
              "\n",
              "    <script>\n",
              "    document.getElementById('maze').innerHTML = `🟦🟦🟦🟦🟦🟦🟦🟦🟦🟦🟦🟦🟦🟦🟦🟦🟦🟦🟦🟦🟦<br>🟦🟩🟦⬜🟦⬜⬜⬜⬜⬜⬜⬜⬜⬜⬜⬜⬜⬜⬜⬜🟦<br>🟦⬜🟦⬜🟦⬜🟦🟦🟦🟦🟦⬜🟦🟦🟦🟦🟦🟦🟦⬜🟦<br>🟦⬜🟦⬜⬜⬜🟦🔳🔳🔳🟦⬜🟦🔳🔳🔳🔳🔳🟦⬜🟦<br>🟦⬜🟦🟦🟦🟦🟦🔳🟦🔳🟦⬜🟦🔳🟦🟦🟦🔳🟦⬜🟦<br>🟦⬜⬜⬜🟦🔳🔳🔳🟦🔳🟦⬜🟦🔳🟦⬜🟦🔳🟦⬜🟦<br>🟦🟦🟦🔳🟦🔳🟦🟦🟦🔳🟦🟦🟦🔳🟦⬜🟦🔳🟦⬜🟦<br>🟦⬜🟦🔳🟦🔳🔳🔳🟦🔳🔳🔳🔳🔳🟦⬜🟦🔳🟦⬜🟦<br>🟦⬜🟦🔳🟦🟦🟦🔳🟦🟦🟦🟦🟦🟦🟦⬜🟦🔳🟦⬜🟦<br>🟦⬜⬜🔳🔳🔳🔳🔳🟦⬜⬜⬜⬜⬜⬜⬜⬜🔳🔳🟥🟦<br>🟦🟦🟦🟦🟦🟦🟦🟦🟦🟦🟦🟦🟦🟦🟦🟦🟦🟦🟦🟦🟦`;\n",
              "    </script>\n",
              "    "
            ],
            "text/plain": [
              "<IPython.core.display.HTML object>"
            ]
          },
          "metadata": {},
          "output_type": "display_data"
        },
        {
          "data": {
            "text/html": [
              "\n",
              "    <script>\n",
              "    document.getElementById('maze').innerHTML = `🟦🟦🟦🟦🟦🟦🟦🟦🟦🟦🟦🟦🟦🟦🟦🟦🟦🟦🟦🟦🟦<br>🟦🟩🟦⬜🟦⬜⬜⬜⬜⬜⬜⬜⬜⬜⬜⬜⬜⬜⬜⬜🟦<br>🟦⬜🟦⬜🟦⬜🟦🟦🟦🟦🟦⬜🟦🟦🟦🟦🟦🟦🟦⬜🟦<br>🟦⬜🟦⬜⬜⬜🟦🔳🔳🔳🟦⬜🟦🔳🔳🔳🔳🔳🟦⬜🟦<br>🟦⬜🟦🟦🟦🟦🟦🔳🟦🔳🟦⬜🟦🔳🟦🟦🟦🔳🟦⬜🟦<br>🟦⬜⬜🔳🟦🔳🔳🔳🟦🔳🟦⬜🟦🔳🟦⬜🟦🔳🟦⬜🟦<br>🟦🟦🟦🔳🟦🔳🟦🟦🟦🔳🟦🟦🟦🔳🟦⬜🟦🔳🟦⬜🟦<br>🟦⬜🟦🔳🟦🔳🔳🔳🟦🔳🔳🔳🔳🔳🟦⬜🟦🔳🟦⬜🟦<br>🟦⬜🟦🔳🟦🟦🟦🔳🟦🟦🟦🟦🟦🟦🟦⬜🟦🔳🟦⬜🟦<br>🟦⬜⬜🔳🔳🔳🔳🔳🟦⬜⬜⬜⬜⬜⬜⬜⬜🔳🔳🟥🟦<br>🟦🟦🟦🟦🟦🟦🟦🟦🟦🟦🟦🟦🟦🟦🟦🟦🟦🟦🟦🟦🟦`;\n",
              "    </script>\n",
              "    "
            ],
            "text/plain": [
              "<IPython.core.display.HTML object>"
            ]
          },
          "metadata": {},
          "output_type": "display_data"
        },
        {
          "data": {
            "text/html": [
              "\n",
              "    <script>\n",
              "    document.getElementById('maze').innerHTML = `🟦🟦🟦🟦🟦🟦🟦🟦🟦🟦🟦🟦🟦🟦🟦🟦🟦🟦🟦🟦🟦<br>🟦🟩🟦⬜🟦⬜⬜⬜⬜⬜⬜⬜⬜⬜⬜⬜⬜⬜⬜⬜🟦<br>🟦⬜🟦⬜🟦⬜🟦🟦🟦🟦🟦⬜🟦🟦🟦🟦🟦🟦🟦⬜🟦<br>🟦⬜🟦⬜⬜⬜🟦🔳🔳🔳🟦⬜🟦🔳🔳🔳🔳🔳🟦⬜🟦<br>🟦⬜🟦🟦🟦🟦🟦🔳🟦🔳🟦⬜🟦🔳🟦🟦🟦🔳🟦⬜🟦<br>🟦⬜🔳🔳🟦🔳🔳🔳🟦🔳🟦⬜🟦🔳🟦⬜🟦🔳🟦⬜🟦<br>🟦🟦🟦🔳🟦🔳🟦🟦🟦🔳🟦🟦🟦🔳🟦⬜🟦🔳🟦⬜🟦<br>🟦⬜🟦🔳🟦🔳🔳🔳🟦🔳🔳🔳🔳🔳🟦⬜🟦🔳🟦⬜🟦<br>🟦⬜🟦🔳🟦🟦🟦🔳🟦🟦🟦🟦🟦🟦🟦⬜🟦🔳🟦⬜🟦<br>🟦⬜⬜🔳🔳🔳🔳🔳🟦⬜⬜⬜⬜⬜⬜⬜⬜🔳🔳🟥🟦<br>🟦🟦🟦🟦🟦🟦🟦🟦🟦🟦🟦🟦🟦🟦🟦🟦🟦🟦🟦🟦🟦`;\n",
              "    </script>\n",
              "    "
            ],
            "text/plain": [
              "<IPython.core.display.HTML object>"
            ]
          },
          "metadata": {},
          "output_type": "display_data"
        },
        {
          "data": {
            "text/html": [
              "\n",
              "    <script>\n",
              "    document.getElementById('maze').innerHTML = `🟦🟦🟦🟦🟦🟦🟦🟦🟦🟦🟦🟦🟦🟦🟦🟦🟦🟦🟦🟦🟦<br>🟦🟩🟦⬜🟦⬜⬜⬜⬜⬜⬜⬜⬜⬜⬜⬜⬜⬜⬜⬜🟦<br>🟦⬜🟦⬜🟦⬜🟦🟦🟦🟦🟦⬜🟦🟦🟦🟦🟦🟦🟦⬜🟦<br>🟦⬜🟦⬜⬜⬜🟦🔳🔳🔳🟦⬜🟦🔳🔳🔳🔳🔳🟦⬜🟦<br>🟦⬜🟦🟦🟦🟦🟦🔳🟦🔳🟦⬜🟦🔳🟦🟦🟦🔳🟦⬜🟦<br>🟦🔳🔳🔳🟦🔳🔳🔳🟦🔳🟦⬜🟦🔳🟦⬜🟦🔳🟦⬜🟦<br>🟦🟦🟦🔳🟦🔳🟦🟦🟦🔳🟦🟦🟦🔳🟦⬜🟦🔳🟦⬜🟦<br>🟦⬜🟦🔳🟦🔳🔳🔳🟦🔳🔳🔳🔳🔳🟦⬜🟦🔳🟦⬜🟦<br>🟦⬜🟦🔳🟦🟦🟦🔳🟦🟦🟦🟦🟦🟦🟦⬜🟦🔳🟦⬜🟦<br>🟦⬜⬜🔳🔳🔳🔳🔳🟦⬜⬜⬜⬜⬜⬜⬜⬜🔳🔳🟥🟦<br>🟦🟦🟦🟦🟦🟦🟦🟦🟦🟦🟦🟦🟦🟦🟦🟦🟦🟦🟦🟦🟦`;\n",
              "    </script>\n",
              "    "
            ],
            "text/plain": [
              "<IPython.core.display.HTML object>"
            ]
          },
          "metadata": {},
          "output_type": "display_data"
        },
        {
          "data": {
            "text/html": [
              "\n",
              "    <script>\n",
              "    document.getElementById('maze').innerHTML = `🟦🟦🟦🟦🟦🟦🟦🟦🟦🟦🟦🟦🟦🟦🟦🟦🟦🟦🟦🟦🟦<br>🟦🟩🟦⬜🟦⬜⬜⬜⬜⬜⬜⬜⬜⬜⬜⬜⬜⬜⬜⬜🟦<br>🟦⬜🟦⬜🟦⬜🟦🟦🟦🟦🟦⬜🟦🟦🟦🟦🟦🟦🟦⬜🟦<br>🟦⬜🟦⬜⬜⬜🟦🔳🔳🔳🟦⬜🟦🔳🔳🔳🔳🔳🟦⬜🟦<br>🟦🔳🟦🟦🟦🟦🟦🔳🟦🔳🟦⬜🟦🔳🟦🟦🟦🔳🟦⬜🟦<br>🟦🔳🔳🔳🟦🔳🔳🔳🟦🔳🟦⬜🟦🔳🟦⬜🟦🔳🟦⬜🟦<br>🟦🟦🟦🔳🟦🔳🟦🟦🟦🔳🟦🟦🟦🔳🟦⬜🟦🔳🟦⬜🟦<br>🟦⬜🟦🔳🟦🔳🔳🔳🟦🔳🔳🔳🔳🔳🟦⬜🟦🔳🟦⬜🟦<br>🟦⬜🟦🔳🟦🟦🟦🔳🟦🟦🟦🟦🟦🟦🟦⬜🟦🔳🟦⬜🟦<br>🟦⬜⬜🔳🔳🔳🔳🔳🟦⬜⬜⬜⬜⬜⬜⬜⬜🔳🔳🟥🟦<br>🟦🟦🟦🟦🟦🟦🟦🟦🟦🟦🟦🟦🟦🟦🟦🟦🟦🟦🟦🟦🟦`;\n",
              "    </script>\n",
              "    "
            ],
            "text/plain": [
              "<IPython.core.display.HTML object>"
            ]
          },
          "metadata": {},
          "output_type": "display_data"
        },
        {
          "data": {
            "text/html": [
              "\n",
              "    <script>\n",
              "    document.getElementById('maze').innerHTML = `🟦🟦🟦🟦🟦🟦🟦🟦🟦🟦🟦🟦🟦🟦🟦🟦🟦🟦🟦🟦🟦<br>🟦🟩🟦⬜🟦⬜⬜⬜⬜⬜⬜⬜⬜⬜⬜⬜⬜⬜⬜⬜🟦<br>🟦⬜🟦⬜🟦⬜🟦🟦🟦🟦🟦⬜🟦🟦🟦🟦🟦🟦🟦⬜🟦<br>🟦🔳🟦⬜⬜⬜🟦🔳🔳🔳🟦⬜🟦🔳🔳🔳🔳🔳🟦⬜🟦<br>🟦🔳🟦🟦🟦🟦🟦🔳🟦🔳🟦⬜🟦🔳🟦🟦🟦🔳🟦⬜🟦<br>🟦🔳🔳🔳🟦🔳🔳🔳🟦🔳🟦⬜🟦🔳🟦⬜🟦🔳🟦⬜🟦<br>🟦🟦🟦🔳🟦🔳🟦🟦🟦🔳🟦🟦🟦🔳🟦⬜🟦🔳🟦⬜🟦<br>🟦⬜🟦🔳🟦🔳🔳🔳🟦🔳🔳🔳🔳🔳🟦⬜🟦🔳🟦⬜🟦<br>🟦⬜🟦🔳🟦🟦🟦🔳🟦🟦🟦🟦🟦🟦🟦⬜🟦🔳🟦⬜🟦<br>🟦⬜⬜🔳🔳🔳🔳🔳🟦⬜⬜⬜⬜⬜⬜⬜⬜🔳🔳🟥🟦<br>🟦🟦🟦🟦🟦🟦🟦🟦🟦🟦🟦🟦🟦🟦🟦🟦🟦🟦🟦🟦🟦`;\n",
              "    </script>\n",
              "    "
            ],
            "text/plain": [
              "<IPython.core.display.HTML object>"
            ]
          },
          "metadata": {},
          "output_type": "display_data"
        },
        {
          "data": {
            "text/html": [
              "\n",
              "    <script>\n",
              "    document.getElementById('maze').innerHTML = `🟦🟦🟦🟦🟦🟦🟦🟦🟦🟦🟦🟦🟦🟦🟦🟦🟦🟦🟦🟦🟦<br>🟦🟩🟦⬜🟦⬜⬜⬜⬜⬜⬜⬜⬜⬜⬜⬜⬜⬜⬜⬜🟦<br>🟦🔳🟦⬜🟦⬜🟦🟦🟦🟦🟦⬜🟦🟦🟦🟦🟦🟦🟦⬜🟦<br>🟦🔳🟦⬜⬜⬜🟦🔳🔳🔳🟦⬜🟦🔳🔳🔳🔳🔳🟦⬜🟦<br>🟦🔳🟦🟦🟦🟦🟦🔳🟦🔳🟦⬜🟦🔳🟦🟦🟦🔳🟦⬜🟦<br>🟦🔳🔳🔳🟦🔳🔳🔳🟦🔳🟦⬜🟦🔳🟦⬜🟦🔳🟦⬜🟦<br>🟦🟦🟦🔳🟦🔳🟦🟦🟦🔳🟦🟦🟦🔳🟦⬜🟦🔳🟦⬜🟦<br>🟦⬜🟦🔳🟦🔳🔳🔳🟦🔳🔳🔳🔳🔳🟦⬜🟦🔳🟦⬜🟦<br>🟦⬜🟦🔳🟦🟦🟦🔳🟦🟦🟦🟦🟦🟦🟦⬜🟦🔳🟦⬜🟦<br>🟦⬜⬜🔳🔳🔳🔳🔳🟦⬜⬜⬜⬜⬜⬜⬜⬜🔳🔳🟥🟦<br>🟦🟦🟦🟦🟦🟦🟦🟦🟦🟦🟦🟦🟦🟦🟦🟦🟦🟦🟦🟦🟦`;\n",
              "    </script>\n",
              "    "
            ],
            "text/plain": [
              "<IPython.core.display.HTML object>"
            ]
          },
          "metadata": {},
          "output_type": "display_data"
        },
        {
          "data": {
            "text/html": [
              "\n",
              "    <script>\n",
              "    document.getElementById('maze').innerHTML = `🟦🟦🟦🟦🟦🟦🟦🟦🟦🟦🟦🟦🟦🟦🟦🟦🟦🟦🟦🟦🟦<br>🟦🔳🟦⬜🟦⬜⬜⬜⬜⬜⬜⬜⬜⬜⬜⬜⬜⬜⬜⬜🟦<br>🟦🔳🟦⬜🟦⬜🟦🟦🟦🟦🟦⬜🟦🟦🟦🟦🟦🟦🟦⬜🟦<br>🟦🔳🟦⬜⬜⬜🟦🔳🔳🔳🟦⬜🟦🔳🔳🔳🔳🔳🟦⬜🟦<br>🟦🔳🟦🟦🟦🟦🟦🔳🟦🔳🟦⬜🟦🔳🟦🟦🟦🔳🟦⬜🟦<br>🟦🔳🔳🔳🟦🔳🔳🔳🟦🔳🟦⬜🟦🔳🟦⬜🟦🔳🟦⬜🟦<br>🟦🟦🟦🔳🟦🔳🟦🟦🟦🔳🟦🟦🟦🔳🟦⬜🟦🔳🟦⬜🟦<br>🟦⬜🟦🔳🟦🔳🔳🔳🟦🔳🔳🔳🔳🔳🟦⬜🟦🔳🟦⬜🟦<br>🟦⬜🟦🔳🟦🟦🟦🔳🟦🟦🟦🟦🟦🟦🟦⬜🟦🔳🟦⬜🟦<br>🟦⬜⬜🔳🔳🔳🔳🔳🟦⬜⬜⬜⬜⬜⬜⬜⬜🔳🔳🟥🟦<br>🟦🟦🟦🟦🟦🟦🟦🟦🟦🟦🟦🟦🟦🟦🟦🟦🟦🟦🟦🟦🟦`;\n",
              "    </script>\n",
              "    "
            ],
            "text/plain": [
              "<IPython.core.display.HTML object>"
            ]
          },
          "metadata": {},
          "output_type": "display_data"
        }
      ],
      "source": [
        "# maze_string = '<br>'.join(''.join(row) for row in labyrinthe)\n",
        "# display(HTML(f'''\n",
        "#     <div id=\"maze\" style=\"font-family: monospace; white-space: pre; line-height: 1.2;\">\n",
        "#     {maze_string}\n",
        "#     </div>\n",
        "#     <script>\n",
        "#     document.getElementById('maze').innerHTML = `{maze_string}`;\n",
        "#     </script>\n",
        "#     '''))\n",
        "\n",
        "def rechercheLargeurDabord(labyrinthe):\n",
        "  # Liste des cases déjà visitées initialisé vide\n",
        "  cases_visitees = []\n",
        "  cases_precedentes = []\n",
        "\n",
        "  # Tant qu'on a des cases à visiter\n",
        "  while cases_a_visiter:\n",
        "    time.sleep(0.1)\n",
        "    # Retire la première case à visiter\n",
        "    # et l'ajoute dans les cases déjà visitées\n",
        "    case_courante = cases_a_visiter.pop(0)\n",
        "    cases_visitees.insert(0, case_courante[0])\n",
        "    cases_precedentes.insert(0, case_courante[1])\n",
        "\n",
        "    # Affiche la case courante dans le graph\n",
        "    y, x = case_courante[0][0], case_courante[0][1]\n",
        "    afficherLabyrinthe(labyrinthe.copy(), x, y, cases_visitees)\n",
        "\n",
        "    # Si on trouve la sortie on sort !\n",
        "    if labyrinthe[y, x] == FIN:\n",
        "      return True, cases_visitees, cases_precedentes\n",
        "\n",
        "    # Trouve des cases vide autour de la case courante\n",
        "    # et les ajoute à la liste de case à visiter\n",
        "\n",
        "    # NORD\n",
        "    # print(\"Y a t'il une case vide au nord ? \", labyrinthe[y-1, x] == VIDE)\n",
        "    if labyrinthe[y-1, x] in [VIDE, FIN] and not (y-1, x) in cases_visitees:\n",
        "      cases_a_visiter.append(((y-1, x), (y, x)))\n",
        "\n",
        "    # SUD\n",
        "    # print(\"Y a t'il une case vide au sud ? \", labyrinthe[y+1, x] == VIDE)\n",
        "    if labyrinthe[y+1, x] in [VIDE, FIN] and not (y+1, x) in cases_visitees:\n",
        "      cases_a_visiter.append(((y+1, x), (y, x)))\n",
        "\n",
        "    # EST\n",
        "    # print(\"Y a t'il une case vide à l'est ? \", labyrinthe[y, x+1] == VIDE)\n",
        "    if labyrinthe[y, x+1] in [VIDE, FIN] and not (y, x+1) in cases_visitees:\n",
        "      cases_a_visiter.append(((y, x+1), (y, x)))\n",
        "\n",
        "    # OUEST\n",
        "    # print(\"Y a t'il une case vide à l'ouest ? \", labyrinthe[y, x-1] == VIDE)\n",
        "    if labyrinthe[y, x-1] in [VIDE, FIN] and not (y, x-1) in cases_visitees:\n",
        "      cases_a_visiter.append(((y, x-1), (y, x)))\n",
        "\n",
        "    # Debug\n",
        "    # print('Marqueur ', case_courante)\n",
        "    # print(\"Cases visitées \", cases_visitees)\n",
        "    # print(\"Cases précédentes \", cases_precedentes)\n",
        "    # print(\"Cases à visiter \", cases_a_visiter)\n",
        "    # print(\"# - - - - - - - - - - - - - - - - - - - #\")\n",
        "\n",
        "  return False, cases_visitees, cases_precedentes\n",
        "\n",
        "# Contient la position de la case de départ ainsi que sont parent\n",
        "# Orde (y, x) pour numpy et None pour indiquer que c'est le départ\n",
        "cases_a_visiter = [((1, 1), None)]\n",
        "\n",
        "# La fonction rechercheLargeurDabord(labyrinthe) retourne un status si la sortie a été trouvée.\n",
        "status, cases_visitees, cases_precedentes = rechercheLargeurDabord(labyrinthe)\n",
        "\n",
        "# What's the path ?\n",
        "chemin = []\n",
        "case_precedente = cases_precedentes[0]\n",
        "while case_precedente != None:\n",
        "  chemin.append(case_precedente)\n",
        "  index_precedente = cases_visitees.index(case_precedente)\n",
        "  case_precedente = cases_precedentes[index_precedente]\n",
        "\n",
        "# afficher le chemin trouvé\n",
        "maze_copy = labyrinthe.copy()\n",
        "for (y, x) in chemin:\n",
        "  maze_copy[y, x] = CHEMIN\n",
        "  afficherLabyrinthe(maze_copy, 0, 0, [])\n"
      ]
    },
    {
      "cell_type": "markdown",
      "metadata": {},
      "source": [
        "# Depth first search"
      ]
    },
    {
      "cell_type": "code",
      "execution_count": null,
      "metadata": {
        "colab": {
          "base_uri": "https://localhost:8080/",
          "height": 202
        },
        "id": "ZVyXwDbHVqJG",
        "outputId": "2a04def6-51f8-4424-f76c-2bd08e1ffc9c"
      },
      "outputs": [],
      "source": [
        "maze_string = '<br>'.join(''.join(row) for row in labyrinthe)\n",
        "display(HTML(f'''\n",
        "    <div id=\"maze\" style=\"font-family: monospace; white-space: pre; line-height: 1.2;\">\n",
        "    {maze_string}\n",
        "    </div>\n",
        "    <script>\n",
        "    document.getElementById('maze').innerHTML = `{maze_string}`;\n",
        "    </script>\n",
        "    '''))\n",
        "\n",
        "def rechercheProfondeurDabord(labyrinthe):\n",
        "  # Liste des cases déjà visitées initialisé vide\n",
        "  cases_visitees = []\n",
        "  chemin = []\n",
        "\n",
        "  # Tant qu'on a des cases à visiter\n",
        "  while cases_a_visiter:\n",
        "    time.sleep(0.1)\n",
        "    # Retire la première case à visiter\n",
        "    # et l'ajoute dans les cases déjà visitées et le chemin trouvé\n",
        "    case_courante = cases_a_visiter.pop()\n",
        "    cases_visitees.insert(0, case_courante)\n",
        "    chemin.append(case_courante)\n",
        "\n",
        "    # Affiche la case courante dans le graph\n",
        "    y, x = case_courante[0], case_courante[1]\n",
        "    afficherLabyrinthe(labyrinthe.copy(), x, y, cases_visitees)\n",
        "\n",
        "    # Si on trouve la sortie on sort !\n",
        "    if labyrinthe[y, x] == FIN:\n",
        "      return True, chemin\n",
        "\n",
        "    # Trouve des cases vide autour de la case courante\n",
        "    # et les ajoute à la liste de case à visiter\n",
        "    est_un_cul_de_sac = True\n",
        "\n",
        "    # NORD\n",
        "    # print(\"Y a t'il une case vide au nord ? \", labyrinthe[y-1, x] == VIDE)\n",
        "    if labyrinthe[y-1, x] in [VIDE, FIN] and not (y-1, x) in cases_visitees:\n",
        "      cases_a_visiter.append((y-1, x))\n",
        "      est_un_cul_de_sac = False\n",
        "\n",
        "    # SUD\n",
        "    # print(\"Y a t'il une case vide au sud ? \", labyrinthe[y+1, x] == VIDE)\n",
        "    if labyrinthe[y+1, x] in [VIDE, FIN] and not (y+1, x) in cases_visitees:\n",
        "      cases_a_visiter.append((y+1, x))\n",
        "      est_un_cul_de_sac = False\n",
        "\n",
        "    # EST\n",
        "    # print(\"Y a t'il une case vide à l'est ? \", labyrinthe[y, x+1] == VIDE)\n",
        "    if labyrinthe[y, x+1] in [VIDE, FIN] and not (y, x+1) in cases_visitees:\n",
        "      cases_a_visiter.append((y, x+1))\n",
        "      est_un_cul_de_sac = False\n",
        "\n",
        "    # OUEST\n",
        "    # print(\"Y a t'il une case vide à l'ouest ? \", labyrinthe[y, x-1] == VIDE)\n",
        "    if labyrinthe[y, x-1] in [VIDE, FIN] and not (y, x-1) in cases_visitees:\n",
        "      cases_a_visiter.append((y, x-1))\n",
        "      est_un_cul_de_sac = False\n",
        "\n",
        "    # Si on était dans un cul de sac, on enlève toutes cases jusqu'à la case à visiter\n",
        "    while est_un_cul_de_sac:\n",
        "      case_courante = chemin.pop()\n",
        "      y, x = case_courante[0], case_courante[1]\n",
        "\n",
        "      # NORD\n",
        "      if (y-1, x) in cases_a_visiter:\n",
        "        est_un_cul_de_sac = False\n",
        "      # SUD\n",
        "      if (y+1, x) in cases_a_visiter:\n",
        "        est_un_cul_de_sac = False\n",
        "      # EST\n",
        "      if (y, x+1) in cases_a_visiter:\n",
        "        est_un_cul_de_sac = False\n",
        "      # OUEST\n",
        "      if (y, x-1) in cases_a_visiter:\n",
        "        est_un_cul_de_sac = False\n",
        "\n",
        "      # la case courante fait partie du chemin\n",
        "      if not est_un_cul_de_sac:\n",
        "        case_courante = chemin.append(case_courante)\n",
        "\n",
        "    # Debuggage\n",
        "    # print('Marqueur ', case_courante)\n",
        "    # print(\"Cases visitées \", cases_visitees)\n",
        "    # print(\"Cases à visiter \", cases_a_visiter)\n",
        "    # print(\"# - - - - - - - - - - - - - - - - - - - #\")\n",
        "\n",
        "  return False, chemin\n",
        "\n",
        "\n",
        "# (y, x) pour numpy\n",
        "cases_a_visiter = [(1, 1)]\n",
        "status, chemin = rechercheProfondeurDabord(labyrinthe)\n",
        "\n",
        "# afficher le chemin trouvé\n",
        "maze_copy = labyrinthe.copy()\n",
        "for (y, x) in chemin:\n",
        "  maze_copy[y, x] = CHEMIN\n",
        "  afficherLabyrinthe(maze_copy, 0, 0, [])\n"
      ]
    },
    {
      "cell_type": "markdown",
      "metadata": {
        "id": "R2f1SI-jy-It"
      },
      "source": [
        "# Recherche avec heuristique A* (A star) !"
      ]
    },
    {
      "cell_type": "code",
      "execution_count": null,
      "metadata": {
        "colab": {
          "base_uri": "https://localhost:8080/",
          "height": 202
        },
        "id": "f-RgXvkiy9G9",
        "outputId": "b34a1374-81fd-4747-f8a6-bd42e0ed0ebf"
      },
      "outputs": [],
      "source": [
        "maze_string = '<br>'.join(''.join(row) for row in labyrinthe)\n",
        "display(HTML(f'''\n",
        "    <div id=\"maze\" style=\"font-family: monospace; white-space: pre; line-height: 1.2;\">\n",
        "    {maze_string}\n",
        "    </div>\n",
        "    <script>\n",
        "    document.getElementById('maze').innerHTML = `{maze_string}`;\n",
        "    </script>\n",
        "    '''))\n",
        "\n",
        "\n",
        "# Fonction qui trouve le chemin entre\n",
        "# une case visitée et la case départ\n",
        "def trouverChemin(cases_visitees, cases_precedentes, case_actuelle):\n",
        "  chemin = []\n",
        "  # Tant qu'on n'est pas rendu à la case départ (None)\n",
        "  index_precedente = cases_visitees.index(case_actuelle)\n",
        "  case_precedente = cases_precedentes[index_precedente]\n",
        "  while case_precedente != None:\n",
        "    # On ajoute la case précédente à la liste qui forme le chemin\n",
        "    chemin.append(case_precedente)\n",
        "    # On trouve l'index de la case précédente dans la listes de cases visitées\n",
        "    index_precedente = cases_visitees.index(case_precedente)\n",
        "    # On trouve la nouvelle case précédente dans la liste de cases précédentes\n",
        "    case_precedente = cases_precedentes[index_precedente]\n",
        "\n",
        "  # On retourne la liste de cases qui forme le chemin\n",
        "  return chemin\n",
        "\n",
        "\n",
        "# Fonction qui estime le coût entre la position finale et la position courante\n",
        "# Ici on le fait à vol d'oiseau\n",
        "def heuristique(position, fin):\n",
        "  pos_y, pos_x = position\n",
        "  fin_y, fin_x = fin\n",
        "  # L'hypothénuse d'un triangle (c) est donnée par c² = a² + b²\n",
        "  a2 = abs(fin_y - pos_y)\n",
        "  b2 = abs(fin_x - pos_x)\n",
        "  c2 = a2 + b2\n",
        "  return np.sqrt(c2)\n",
        "\n",
        "# Fonction qui calcul le coût d'une case\n",
        "def fonctionDeCout(cout_actuel, cout_estime):\n",
        "  # La fonction de cout est le cout actuel + le cout estimé par heuristique\n",
        "  return cout_actuel + cout_estime\n",
        "\n",
        "def rechercheHeuristiqueAStar(labyrinthe, debut, fin):\n",
        "  # Initialisation des listes\n",
        "  cases_a_visiter = [(debut, None)]\n",
        "  cases_visitees = []\n",
        "  cases_precedentes = []\n",
        "\n",
        "  # Tant qu'on a des cases à visiter\n",
        "  while cases_a_visiter:\n",
        "    time.sleep(0.1)\n",
        "\n",
        "    # S'il faut choisir entre deux cases à visiter\n",
        "    if len(cases_a_visiter) > 1:\n",
        "      couts_de_deplacement = []\n",
        "      # Pour chaque case potentielle à visiter, on calcule le coût.\n",
        "      for case_potentielle in cases_a_visiter:\n",
        "        # Le cout actuel est le nombre de déplacement depuis la case départ.\n",
        "        # Bref la longueur du chemin parcouru entre la case actuel et la case départ.\n",
        "        chemin = trouverChemin(cases_visitees, cases_precedentes, case_potentielle[1])\n",
        "        cout_actuel = len(chemin) + 1 # comptant la case potentielle\n",
        "        cout_estime = heuristique(case_potentielle[0], (-2,-2))\n",
        "        couts_de_deplacement.append(fonctionDeCout(cout_actuel, cout_estime))\n",
        "\n",
        "      # Choisir le minimum dans la liste de couts de déplacement\n",
        "      index_cout_min = couts_de_deplacement.index(min(couts_de_deplacement))\n",
        "      case_courante = cases_a_visiter.pop(index_cout_min)\n",
        "\n",
        "    # Sinon il n'y a qu'une case à visiter\n",
        "    else:\n",
        "      case_courante = cases_a_visiter.pop()\n",
        "\n",
        "    # On ajoute la case courante aux listes des cases visitées et précédentes\n",
        "    cases_visitees.insert(0, case_courante[0])\n",
        "    cases_precedentes.insert(0, case_courante[1])\n",
        "\n",
        "    # Affiche la case courante dans le graph\n",
        "    y, x = case_courante[0][0], case_courante[0][1]\n",
        "    afficherLabyrinthe(labyrinthe.copy(), x, y, cases_visitees)\n",
        "\n",
        "    # Si on trouve la sortie on sort !\n",
        "    if labyrinthe[y, x] == FIN:\n",
        "      return True, trouverChemin(cases_visitees, cases_precedentes, (y, x))\n",
        "\n",
        "    # Trouve des cases vide autour de la case courante\n",
        "    # et les ajoute à la liste de case à visiter\n",
        "\n",
        "    # NORD\n",
        "    # print(\"Y a t'il une case vide au nord ? \", labyrinthe[y-1, x] == VIDE)\n",
        "    if labyrinthe[y-1, x] in [VIDE, FIN] and not (y-1, x) in cases_visitees:\n",
        "      cases_a_visiter.append(((y-1, x), (y, x)))\n",
        "\n",
        "    # SUD\n",
        "    # print(\"Y a t'il une case vide au sud ? \", labyrinthe[y+1, x] == VIDE)\n",
        "    if labyrinthe[y+1, x] in [VIDE, FIN] and not (y+1, x) in cases_visitees:\n",
        "      cases_a_visiter.append(((y+1, x), (y, x)))\n",
        "\n",
        "    # EST\n",
        "    # print(\"Y a t'il une case vide à l'est ? \", labyrinthe[y, x+1] == VIDE)\n",
        "    if labyrinthe[y, x+1] in [VIDE, FIN] and not (y, x+1) in cases_visitees:\n",
        "      cases_a_visiter.append(((y, x+1), (y, x)))\n",
        "\n",
        "    # OUEST\n",
        "    # print(\"Y a t'il une case vide à l'ouest ? \", labyrinthe[y, x-1] == VIDE)\n",
        "    if labyrinthe[y, x-1] in [VIDE, FIN] and not (y, x-1) in cases_visitees:\n",
        "      cases_a_visiter.append(((y, x-1), (y, x)))\n",
        "\n",
        "    # Debug\n",
        "    # print('Marqueur ', case_courante)\n",
        "    # print(\"Cases visitées \", cases_visitees)# afficher le chemin trouvé\n",
        "    # print(\"Cases précédentes \", cases_precedentes)\n",
        "    # print(\"Cases à visiter \", cases_a_visiter)\n",
        "    # print(\"# - - - - - - - - - - - - - - - - - - - #\")\n",
        "\n",
        "  return False, []\n",
        "\n",
        "# Orde (y, x) pour numpy et None pour indiquer que c'est le départ\n",
        "debut = (1, 1)\n",
        "fin = (TAILLE_Y - 2, TAILLE_X - 2)\n",
        "\n",
        "# La fonction rechercheHeuristiqueAStar(labyrinthe, debut, fin)\n",
        "# retourne un status si la sortie a été trouvé ainsi que la liste de case\n",
        "# qu'il faut prendre pour se rendre à sortie.\n",
        "status, chemin = rechercheHeuristiqueAStar(labyrinthe, debut, fin)\n",
        "\n",
        "# afficher le chemin trouvé\n",
        "maze_copy = labyrinthe.copy()\n",
        "for (y, x) in chemin:\n",
        "  maze_copy[y, x] = CHEMIN\n",
        "  afficherLabyrinthe(maze_copy, 0, 0, [])\n",
        "\n",
        "\n",
        "\n"
      ]
    }
  ],
  "metadata": {
    "colab": {
      "provenance": []
    },
    "kernelspec": {
      "display_name": ".venv",
      "language": "python",
      "name": "python3"
    },
    "language_info": {
      "codemirror_mode": {
        "name": "ipython",
        "version": 3
      },
      "file_extension": ".py",
      "mimetype": "text/x-python",
      "name": "python",
      "nbconvert_exporter": "python",
      "pygments_lexer": "ipython3",
      "version": "3.10.18"
    }
  },
  "nbformat": 4,
  "nbformat_minor": 0
}
