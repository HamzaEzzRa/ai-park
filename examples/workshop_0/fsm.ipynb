{
 "cells": [
  {
   "cell_type": "markdown",
   "id": "2edd16a9",
   "metadata": {},
   "source": [
    "# Qu'est-ce qu'une machine à états finis, MEF (Finite State Machine, FSM) ?"
   ]
  },
  {
   "cell_type": "markdown",
   "id": "497a1a65",
   "metadata": {},
   "source": [
    "C'est une façon de décrire un système ou un processus qui peut être dans un état (**state**) à la fois et change d'état quand un évènement (**input**) se produit. À chaque changement (**transition**), la machine peut produire une action (**output**)."
   ]
  },
  {
   "cell_type": "markdown",
   "id": "a328bdd1",
   "metadata": {},
   "source": [
    "Exemple de FSM: fantôme du jeu **Pacman**\n",
    "\n",
    "![fsm](./images/fsm_pacman.png)"
   ]
  },
  {
   "cell_type": "markdown",
   "id": "56ce1249",
   "metadata": {},
   "source": [
    "# Les ingrédients d’une FSM"
   ]
  },
  {
   "cell_type": "markdown",
   "id": "4233c900",
   "metadata": {},
   "source": [
    "<details>\n",
    "  <summary><b>États (States)</b></summary>\n",
    "  Les « modes » possibles du système (ex. CHASSE, MORT, FUITE).\n",
    "</details>\n",
    "\n",
    "<br/>\n",
    "\n",
    "<details>\n",
    "  <summary><b>Entrées (Inputs)</b></summary>\n",
    "  Ce qui arrive au système (ex. pièce insérée, bouton pressé).\n",
    "</details>\n",
    "\n",
    "<br/>\n",
    "\n",
    "<details>\n",
    "  <summary><b>Transitions</b></summary>\n",
    "  Règles qui gouvernent le passage entre états (ex. si on reçoit l'entrée X en état Y, aller à l’état Z).\n",
    "</details>\n",
    "\n",
    "<br/>\n",
    "\n",
    "<details>\n",
    "  <summary><b>Sorties (Outputs)</b></summary>\n",
    "  Ce que le système fait (ex. chasser Pacman, réapparaitre au centre de la carte).\n",
    "</details>\n",
    "\n",
    "<br/>\n",
    "\n",
    "<details>\n",
    "  <summary><b>Pour aller plus loin</b></summary>\n",
    "  Il existe 2 familles de MEF: <b>Moore</b> (sortie dépend de l’état) et <b>Mealy</b> (sortie dépend de l’état et de l’entrée).\n",
    "</details>"
   ]
  },
  {
   "cell_type": "markdown",
   "id": "975470ce",
   "metadata": {},
   "source": [
    "# Code ta première FSM"
   ]
  },
  {
   "cell_type": "code",
   "execution_count": null,
   "id": "6f404529",
   "metadata": {},
   "outputs": [],
   "source": [
    "from typing import Any, Dict\n",
    "\n",
    "\n",
    "def rouler_fsm(fsm: Dict[str, Dict[str, Any]], etat_initial: str) -> None:\n",
    "    \"\"\"\n",
    "    Cette fonction permet de faire rouler une machine à états finis,\n",
    "    à partir d'un état initial donné et d'entrées utilisateur.\n",
    "\n",
    "    Arguments:\n",
    "        fsm :   La machine à états finis, représentée comme un dictionnaire.\n",
    "                Chaque clé est un état et chaque valeur est un sous-dictionnaire\n",
    "                liant les entrées possibles aux états suivants.\n",
    "        etat_initial : L'état initial de la machine à états finis.\n",
    "    \"\"\"\n",
    "\n",
    "    if etat_initial not in fsm:\n",
    "        print(\"ERREUR: L'état initial n'existe pas dans la machine à états finis.\")\n",
    "        return\n",
    "\n",
    "    etat_actuel = etat_initial\n",
    "    print(f\"État actuel: {etat_actuel}\")\n",
    "    while True:\n",
    "        entree = input(\"Nouvelle entrée: \")\n",
    "        if entree == \"\":\n",
    "            break\n",
    "        else:\n",
    "            print(\"=\" * 40)\n",
    "            print(f\"Entrée reçue: {entree}\")\n",
    "            entree = entree.lower()\n",
    "            if entree in fsm[etat_actuel]:\n",
    "                # Point le plus important: la transition d'état\n",
    "                # On accède aux entrées possibles pour l'état actuel (fsm[etat_actuel])\n",
    "                # puis on utilise l'entrée de l'utilisateur pour passer à l'état suivant (fsm[etat_actuel][entree])\n",
    "                etat_actuel = fsm[etat_actuel][entree]\n",
    "                print(f\"État actuel: {etat_actuel}\")\n",
    "            else:\n",
    "                print(\"Transition invalide pour cet état/entrée. Veuillez réessayer.\")\n",
    "\n",
    "\n",
    "# Définition de la machine à états finis pour le comportement d'un fantôme dans Pacman\n",
    "# On code la fsm comme dictionnaire:\n",
    "    # Chaque état possible est une clé\n",
    "    # Chaque valeur est un sous-dictionnaire qui lie les entrées possibles aux états suivants\n",
    "    # Par exemple, dans l'état \"fuite\", si l'entrée est \"fin powerup\", on passe à l'état \"chasse\"\n",
    "    # mais si l'entrée est \"pacman attrape\", on passe à l'état \"mort\"\n",
    "fsm = {\n",
    "    \"chasse\": {\n",
    "        \"pacman powerup\": \"fuite\"\n",
    "    },\n",
    "    \"fuite\": {\n",
    "        \"fin powerup\": \"chasse\",\n",
    "        \"pacman attrape\": \"mort\"\n",
    "    },\n",
    "    \"mort\": {\n",
    "        \"respawn atteint\": \"chasse\"\n",
    "    }\n",
    "}\n",
    "\n",
    "rouler_fsm(fsm, etat_initial=\"chasse\")"
   ]
  },
  {
   "cell_type": "markdown",
   "id": "3adac705",
   "metadata": {},
   "source": [
    "# Et si on voulait arrêter et recommencer le jeu ?"
   ]
  },
  {
   "cell_type": "markdown",
   "id": "c1af656a",
   "metadata": {},
   "source": [
    "On ajoute un nouvel état « **en attente** » à notre machine! Les transitions vers cet état correspondent à l'entrée « **fin jeu** »."
   ]
  },
  {
   "cell_type": "code",
   "execution_count": null,
   "id": "c8af9ca5",
   "metadata": {},
   "outputs": [],
   "source": [
    "# Copie du fsm existant\n",
    "nouvelle_fsm = fsm.copy()\n",
    "\n",
    "# On rajoute des transitions pour y aller à partir de\n",
    "# tous les autres états (on peut arrêter à tout moment),\n",
    "# quand l'utilisateur entre \"fin jeu\"\n",
    "for etat in fsm.keys():\n",
    "    nouvelle_fsm[etat][\"fin jeu\"] = \"en attente\"\n",
    "\n",
    "# On rajoute l'état \"en attente\" et la transition pour en sortir\n",
    "# L'entrée \"jeu commence\" nous fait retourner à l'état \"chasse\"\n",
    "nouvelle_fsm[\"en attente\"] = {\n",
    "    \"jeu commence\": \"chasse\"\n",
    "}\n",
    "\n",
    "rouler_fsm(nouvelle_fsm, etat_initial=\"en attente\")"
   ]
  },
  {
   "cell_type": "markdown",
   "id": "d33cd748",
   "metadata": {},
   "source": [
    "# Pourquoi c'est utile une FSM ?"
   ]
  },
  {
   "cell_type": "markdown",
   "id": "2fbdd4b9",
   "metadata": {},
   "source": [
    "- On décrit un **système complexe** avec quelques **blocs simples** (états, entrées, transitions, sorties), même s’il y a des dizaines d’états et des centaines de transitions.\n",
    "\n",
    "- Chaque état a un **rôle clair** et chaque transition explique **quand** et **pourquoi on change**.\n",
    "\n",
    "- Pour chaque situation, la règle « **si… alors…** » est écrite: **moins d'erreurs**, **moins de cas oubliés**.\n",
    "\n",
    "- Facile à **tester** et à **faire évoluer** : on peut ajouter un **nouvel état** ou une **nouvelle règle** sans casser le reste."
   ]
  },
  {
   "cell_type": "markdown",
   "id": "ceeb803a",
   "metadata": {},
   "source": [
    "# Mauvaises et bonnes pratiques"
   ]
  },
  {
   "cell_type": "markdown",
   "id": "9c2e470b",
   "metadata": {},
   "source": [
    "### Qu'arrive t-il si une chaîne de caractères qui représente un état dans le dictionnaire est erronée ?"
   ]
  },
  {
   "cell_type": "code",
   "execution_count": null,
   "id": "d42083cf",
   "metadata": {},
   "outputs": [],
   "source": [
    "fsm_erronee = {\n",
    "    \"en attente\": {\n",
    "        \"jeu commence\": \"chase\"  # \"chase\" au lieu de \"chasse\"\n",
    "    },\n",
    "    \"chasse\": {\n",
    "        \"pacman powerup\": \"fuite\",\n",
    "        \"fin jeu\": \"en attente\"\n",
    "    },\n",
    "    \"fuite\": {\n",
    "        \"fin powerup\": \"chasse\",\n",
    "        \"pacman attrape\": \"mort\",\n",
    "        \"fin jeu\": \"en attente\"\n",
    "    },\n",
    "    \"mort\": {\n",
    "        \"respawn atteint\": \"chasse\",\n",
    "        \"fin jeu\": \"en attente\"\n",
    "    }\n",
    "}\n",
    "\n",
    "rouler_fsm(fsm_erronee, etat_initial=\"en attente\")"
   ]
  },
  {
   "cell_type": "markdown",
   "id": "7b32b803",
   "metadata": {},
   "source": [
    "### C'est bon de définir chaque état avec sa propre variable!"
   ]
  },
  {
   "cell_type": "code",
   "execution_count": null,
   "id": "5acc4e22",
   "metadata": {},
   "outputs": [],
   "source": [
    "en_attente = \"en attente\"\n",
    "chasse = \"chasse\"\n",
    "fuite = \"fuite\"\n",
    "mort = \"mort\"\n",
    "\n",
    "# et pourquoi pas les entrées aussi?\n",
    "jeu_commence = \"jeu commence\"\n",
    "pacman_powerup = \"pacman powerup\"\n",
    "fin_powerup = \"fin powerup\"\n",
    "pacman_attrape = \"pacman attrape\"\n",
    "respawn_atteint = \"respawn atteint\"\n",
    "fin_jeu = \"fin jeu\"\n",
    "\n",
    "\n",
    "fsm_bonne_pratique = {\n",
    "    en_attente: {\n",
    "        jeu_commence: chasse\n",
    "    },\n",
    "    chasse: {\n",
    "        pacman_powerup: fuite,\n",
    "        fin_jeu: en_attente\n",
    "    },\n",
    "    fuite: {\n",
    "        pacman_powerup: chasse,\n",
    "        fin_powerup: mort,\n",
    "        fin_jeu: en_attente\n",
    "    },\n",
    "    mort: {\n",
    "        respawn_atteint: chasse,\n",
    "        fin_jeu: en_attente\n",
    "    }\n",
    "}\n",
    "\n",
    "rouler_fsm(fsm_bonne_pratique, etat_initial=en_attente)"
   ]
  },
  {
   "cell_type": "markdown",
   "id": "f3f5ff3f",
   "metadata": {},
   "source": [
    "### C'est encore mieux de les définir comme énumération (**Enum**)"
   ]
  },
  {
   "cell_type": "markdown",
   "id": "33ab89ef",
   "metadata": {},
   "source": [
    "Les énumérations nous permettent d'associer à des noms des valeurs uniques. C'est plus facile à maintenir, à lire et ça réduit le risque d'erreurs."
   ]
  },
  {
   "cell_type": "code",
   "execution_count": null,
   "id": "5cea3856",
   "metadata": {},
   "outputs": [],
   "source": [
    "from enum import Enum\n",
    "\n",
    "# Ici nos états et entrées sont définis comme des énumérations.\n",
    "# Les valeurs sont des entiers uniques, qui nous permettent des évaluations/comparaisons rapides et efficaces.\n",
    "# (ex. comparaison entre deux entiers 1 et 3,\n",
    "# au lieu de comparer deux chaînes de caractères \"pacman powerup\" et \"pacman attrape\")\n",
    "class Etats(Enum):\n",
    "    EN_ATTENTE = 0\n",
    "    CHASSE = 1\n",
    "    FUITE = 2\n",
    "    MORT = 3\n",
    "\n",
    "class Entrees(Enum):\n",
    "    JEU_COMMENCE = 0\n",
    "    PACMAN_POWERUP = 1\n",
    "    FIN_POWERUP = 2\n",
    "    PACMAN_ATTRAPE = 3\n",
    "    RESPAWN_ATTEINT = 4\n",
    "    FIN_JEU = 5\n",
    "\n",
    "\n",
    "fsm_avec_enum = {\n",
    "    Etats.EN_ATTENTE: {\n",
    "        Entrees.JEU_COMMENCE: Etats.CHASSE\n",
    "    },\n",
    "    Etats.CHASSE: {\n",
    "        Entrees.PACMAN_POWERUP: Etats.FUITE,\n",
    "        Entrees.FIN_JEU: Etats.EN_ATTENTE\n",
    "    },\n",
    "    Etats.FUITE: {\n",
    "        Entrees.FIN_POWERUP: Etats.CHASSE,\n",
    "        Entrees.PACMAN_ATTRAPE: Etats.MORT,\n",
    "        Entrees.FIN_JEU: Etats.EN_ATTENTE\n",
    "    },\n",
    "    Etats.MORT: {\n",
    "        Entrees.RESPAWN_ATTEINT: Etats.CHASSE,\n",
    "        Entrees.FIN_JEU: Etats.EN_ATTENTE\n",
    "    }\n",
    "}"
   ]
  },
  {
   "cell_type": "markdown",
   "id": "c12e6f65",
   "metadata": {},
   "source": [
    "### Par contre, il faut redéfinir la fonction **rouler_fsm** pour que cette fois-ci elle supporte des enumérations!"
   ]
  },
  {
   "cell_type": "code",
   "execution_count": null,
   "id": "e4ea1735",
   "metadata": {},
   "outputs": [],
   "source": [
    "from typing import Dict\n",
    "\n",
    "def rouler_fsm_enum(fsm: Dict[Etats, Dict[Entrees, Etats]], etat_initial: Etats) -> None:\n",
    "    \"\"\"\n",
    "    Cette fonction permet de faire rouler une machine à états finis,\n",
    "    à partir d'un état initial donné et d'entrées utilisateur.\n",
    "\n",
    "    Arguments:\n",
    "        fsm :   La machine à états finis, représentée comme un dictionnaire.\n",
    "                Chaque clé est un état (Etats) et chaque valeur est un sous-dictionnaire\n",
    "                liant les entrées possibles (Entrees) aux états suivants (Etats).\n",
    "        etat_initial : L'état initial de la machine à états finis (Etats).\n",
    "    \"\"\"\n",
    "\n",
    "    if etat_initial not in fsm:\n",
    "        print(\"ERREUR: L'état initial n'existe pas dans la machine à états finis.\")\n",
    "        return\n",
    "\n",
    "    etat_actuel = etat_initial\n",
    "    print(f\"État actuel: {etat_actuel.name.lower().replace('_', ' ')}\")\n",
    "    while True:\n",
    "        entree_str = input(\"Nouvelle entrée: \")\n",
    "        if entree_str == \"\":\n",
    "            break\n",
    "        else:\n",
    "            print(\"=\" * 30)\n",
    "            print(f\"Entrée reçue: {entree_str}\")\n",
    "            try:\n",
    "                entree = Entrees[entree_str.upper().replace(\" \", \"_\")]\n",
    "            except KeyError:\n",
    "                print(\"Entrée invalide. Veuillez réessayer.\")\n",
    "                continue\n",
    "\n",
    "            if entree in fsm[etat_actuel]:\n",
    "                etat_actuel = fsm[etat_actuel][entree]\n",
    "                print(f\"État actuel: {etat_actuel.name.lower().replace('_', ' ')}\")\n",
    "            else:\n",
    "                print(\"Transition invalide pour cet état/entrée. Veuillez réessayer.\")\n",
    "\n",
    "rouler_fsm_enum(fsm_avec_enum, etat_initial=Etats.EN_ATTENTE)"
   ]
  },
  {
   "cell_type": "markdown",
   "id": "7228e57f",
   "metadata": {},
   "source": [
    "### Et si on avait des dizaines d'états et une centaine de transitions ?"
   ]
  },
  {
   "cell_type": "markdown",
   "id": "22e7fbf2",
   "metadata": {},
   "source": [
    "Le dictionnaire est toujours une bonne idée ? Est-ce que c'est facile à lire et à maintenir dans ce cas ?"
   ]
  },
  {
   "cell_type": "code",
   "execution_count": null,
   "id": "bb5129ca",
   "metadata": {},
   "outputs": [],
   "source": [
    "import os, sys\n",
    "sys.path.append(os.path.join(os.getcwd(), \"..\", \"..\"))\n",
    "from ai.fsm.core import Machine\n",
    "\n",
    "# Toute la logique derrière une FSM peut être cachée (encapsulée) derrière une classe.\n",
    "\n",
    "fantome_fsm = Machine(states=Etats, initial_state=Etats.EN_ATTENTE)\n",
    "\n",
    "# On ajoute les transitions une par une\n",
    "fantome_fsm.add_transition(sources=Etats.CHASSE, dest=Etats.FUITE, trigger=Entrees.PACMAN_POWERUP)\n",
    "fantome_fsm.add_transition(sources=Etats.FUITE, dest=Etats.CHASSE, trigger=Entrees.FIN_POWERUP)\n",
    "fantome_fsm.add_transition(sources=Etats.FUITE, dest=Etats.MORT, trigger=Entrees.PACMAN_ATTRAPE)\n",
    "fantome_fsm.add_transition(sources=Etats.MORT, dest=Etats.CHASSE, trigger=Entrees.RESPAWN_ATTEINT)\n",
    "\n",
    "# On ajoute les transitions pour arrêter et recommencer le jeu\n",
    "fantome_fsm.add_transition(\n",
    "    sources=[Etats.CHASSE, Etats.FUITE, Etats.MORT],\n",
    "    dest=Etats.EN_ATTENTE,\n",
    "    trigger=Entrees.FIN_JEU\n",
    ")\n",
    "fantome_fsm.add_transition(sources=Etats.EN_ATTENTE, dest=Etats.CHASSE, trigger=Entrees.JEU_COMMENCE)"
   ]
  },
  {
   "cell_type": "markdown",
   "id": "13e86fc3",
   "metadata": {},
   "source": [
    "La classe **Machine** nous permet d'appeler des **méthodes** qui passe l'entrée au FSM! Ces méthodes ont le même nom que les **entrées** (triggers) que nous avons définies."
   ]
  },
  {
   "cell_type": "code",
   "execution_count": null,
   "id": "6d235ee9",
   "metadata": {},
   "outputs": [],
   "source": [
    "def format_etat(nom: str) -> str:\n",
    "    return nom.lower().replace('_', ' ')\n",
    "\n",
    "fantome_fsm.reset()  # On remet la FSM à son état initial si c'est pas déjà fait\n",
    "print(f\"État initial: {format_etat(fantome_fsm.current_state.name)}\")\n",
    "\n",
    "fantome_fsm.jeu_commence()  # On appelle la méthode qui correspond à l'entrée \"jeu commence\"\n",
    "print(f\"\\nÉtat après 'jeu commence': {fantome_fsm.current_state.name}\")\n",
    "\n",
    "fantome_fsm.pacman_powerup()\n",
    "print(f\"\\nÉtat après 'pacman powerup': {fantome_fsm.current_state.name}\")\n",
    "\n",
    "fantome_fsm.pacman_attrape()\n",
    "print(f\"\\nÉtat après 'pacman attrape': {fantome_fsm.current_state.name}\")\n",
    "\n",
    "fantome_fsm.respawn_atteint()\n",
    "print(f\"\\nÉtat après 'respawn atteint': {fantome_fsm.current_state.name}\")\n",
    "\n",
    "fantome_fsm.fin_jeu()\n",
    "print(f\"\\nÉtat après 'fin jeu': {fantome_fsm.current_state.name}\")"
   ]
  },
  {
   "cell_type": "markdown",
   "id": "7699cd0f",
   "metadata": {},
   "source": [
    "La classe **Machine** nous permet aussi de visualiser notre FSM! L'**état actuel** est représenté par un **double cercle**."
   ]
  },
  {
   "cell_type": "code",
   "execution_count": null,
   "id": "59d249f8",
   "metadata": {},
   "outputs": [],
   "source": [
    "display(fantome_fsm.to_graphviz())"
   ]
  },
  {
   "cell_type": "markdown",
   "id": "768e6aac",
   "metadata": {},
   "source": [
    "Qu'est-ce qui se passe si on essaie de faire une transition non valide? Par exemple, passer de l'état **chasse** vers **mort** avec l'entrée **pacman_attrape**."
   ]
  },
  {
   "cell_type": "code",
   "execution_count": null,
   "id": "4858bb14",
   "metadata": {},
   "outputs": [],
   "source": [
    "fantome_fsm.reset()\n",
    "print(f\"État initial: {format_etat(fantome_fsm.current_state.name)}\")\n",
    "\n",
    "success = fantome_fsm.jeu_commence()\n",
    "print(f\"\\nÉtat après 'jeu commence': {fantome_fsm.current_state.name}\")\n",
    "print(f\"Transition réussie: {success}\")\n",
    "\n",
    "success = fantome_fsm.pacman_attrape()  # Transition invalide\n",
    "print(f\"\\nÉtat après 'pacman attrape': {fantome_fsm.current_state.name}\")\n",
    "print(f\"Transition réussie: {success}\")"
   ]
  },
  {
   "cell_type": "markdown",
   "id": "bd89af41",
   "metadata": {},
   "source": [
    "# Pourquoi pas se créer un petit jeu avec notre nouvelle classe **Machine** ?"
   ]
  },
  {
   "cell_type": "markdown",
   "id": "98bcdf61",
   "metadata": {},
   "source": [
    "<h1>🦆 cross the 🛣️</h1>\n",
    "\n",
    "![crossy_road](./images/crossy_road.gif)"
   ]
  },
  {
   "cell_type": "markdown",
   "id": "a0141af9",
   "metadata": {},
   "source": [
    "## Planifions d'abord notre machine à états finis!"
   ]
  },
  {
   "cell_type": "markdown",
   "id": "1426ca66",
   "metadata": {},
   "source": [
    "![duck_fsm](./images/fsm_duck.svg)"
   ]
  },
  {
   "cell_type": "markdown",
   "id": "6e6f7d49",
   "metadata": {},
   "source": [
    "## Est-ce qu'on est capable de coder les **états** et les **entrées** ?"
   ]
  },
  {
   "cell_type": "code",
   "execution_count": null,
   "id": "796b7737",
   "metadata": {},
   "outputs": [],
   "source": [
    "from enum import Enum\n",
    "\n",
    "# Combien d'états nous avons dans notre FSM au total ? Complétez l'énumération ci-dessous.\n",
    "class EtatsCanard(Enum):\n",
    "    EN_ATTENTE = 0\n",
    "    AVANCE = 1\n",
    "\n",
    "# Même chose pour les entrées!\n",
    "class EntreesCanard(Enum):\n",
    "    AUCUN_BOUTON = 0\n",
    "    FLECHE_HAUT = 1"
   ]
  },
  {
   "cell_type": "markdown",
   "id": "c1d96a90",
   "metadata": {},
   "source": [
    "## Est-ce qu'on est capable de **créer une FSM** avec la classe **Machine** ?"
   ]
  },
  {
   "cell_type": "code",
   "execution_count": null,
   "id": "f07eee55",
   "metadata": {},
   "outputs": [],
   "source": [
    "import os\n",
    "import sys\n",
    "\n",
    "sys.path.append(os.path.join(os.getcwd(), \"..\", \"..\"))\n",
    "from ai.fsm.core import Machine\n",
    "\n",
    "canard_fsm = ... # À remplacer"
   ]
  },
  {
   "cell_type": "markdown",
   "id": "2abf0a83",
   "metadata": {},
   "source": [
    "## Ajouter les transitions ?"
   ]
  },
  {
   "cell_type": "code",
   "execution_count": null,
   "id": "3e79eecb",
   "metadata": {},
   "outputs": [],
   "source": [
    "# Combien de transitions devons-nous ajouter ? Complétez ci-dessous.\n",
    "canard_fsm.add_transition(\n",
    "    sources=EtatsCanard.EN_ATTENTE,\n",
    "    dest=EtatsCanard.AVANCE,\n",
    "    trigger=EntreesCanard.FLECHE_HAUT\n",
    ")\n",
    "\n",
    "..."
   ]
  },
  {
   "cell_type": "markdown",
   "id": "24b08748",
   "metadata": {},
   "source": [
    "## Vérifions si la machine correspond à notre plan!"
   ]
  },
  {
   "cell_type": "code",
   "execution_count": null,
   "id": "d4714022",
   "metadata": {},
   "outputs": [],
   "source": [
    "display(canard_fsm.to_graphviz())"
   ]
  },
  {
   "cell_type": "markdown",
   "id": "01b47614",
   "metadata": {},
   "source": [
    "## Solution complète"
   ]
  },
  {
   "cell_type": "code",
   "execution_count": null,
   "id": "9f772200",
   "metadata": {
    "tags": [
     "hide-input"
    ]
   },
   "outputs": [],
   "source": [
    "import os\n",
    "import sys\n",
    "\n",
    "sys.path.append(os.path.join(os.getcwd(), \"..\", \"..\"))\n",
    "\n",
    "from enum import Enum\n",
    "\n",
    "from ai.fsm.core import Machine\n",
    "\n",
    "\n",
    "# On définit les états et entrées pour notre jeu de traversée de route\n",
    "class EtatsCanard(Enum):\n",
    "    EN_ATTENTE = 0\n",
    "    AVANCE = 1\n",
    "    TOURNE_GAUCHE = 2\n",
    "    TOURNE_DROITE = 3\n",
    "    MORT = 4\n",
    "\n",
    "class EntreesCanard(Enum):\n",
    "    AUCUN_BOUTON = 0\n",
    "    FLECHE_HAUT = 1\n",
    "    FLECHE_GAUCHE = 2\n",
    "    FLECHE_DROITE = 3\n",
    "    COLLISION = 4\n",
    "\n",
    "# On crée la machine à états finis pour le canard\n",
    "duck_fsm = Machine(states=EtatsCanard, initial_state=EtatsCanard.EN_ATTENTE)\n",
    "\n",
    "# À n'importe quel autre état, la canard peut passer à l'état MORT en cas de COLLISION\n",
    "duck_fsm.add_transition(\n",
    "    sources=[\n",
    "        EtatsCanard.EN_ATTENTE,\n",
    "        EtatsCanard.AVANCE,\n",
    "        EtatsCanard.TOURNE_GAUCHE,\n",
    "        EtatsCanard.TOURNE_DROITE\n",
    "    ],\n",
    "    dest=EtatsCanard.MORT,\n",
    "    trigger=EntreesCanard.COLLISION\n",
    ")\n",
    "\n",
    "# À partir de l'état EN_ATTENTE, le canard peut avancer ou tourner selon la flèche appuyée\n",
    "duck_fsm.add_transition(\n",
    "    sources=EtatsCanard.EN_ATTENTE,\n",
    "    dest=EtatsCanard.AVANCE,\n",
    "    trigger=EntreesCanard.FLECHE_HAUT\n",
    ")\n",
    "duck_fsm.add_transition(\n",
    "    sources=EtatsCanard.EN_ATTENTE,\n",
    "    dest=EtatsCanard.TOURNE_GAUCHE,\n",
    "    trigger=EntreesCanard.FLECHE_GAUCHE\n",
    ")\n",
    "duck_fsm.add_transition(\n",
    "    sources=EtatsCanard.EN_ATTENTE,\n",
    "    dest=EtatsCanard.TOURNE_DROITE,\n",
    "    trigger=EntreesCanard.FLECHE_DROITE\n",
    ")\n",
    "\n",
    "# Si aucun bouton n'est appuyé, le canard retourne à l'état EN_ATTENTE s'il était en mouvement\n",
    "duck_fsm.add_transition(\n",
    "    sources=[\n",
    "        EtatsCanard.AVANCE,\n",
    "        EtatsCanard.TOURNE_GAUCHE,\n",
    "        EtatsCanard.TOURNE_DROITE\n",
    "    ],\n",
    "    dest=EtatsCanard.EN_ATTENTE,\n",
    "    trigger=EntreesCanard.AUCUN_BOUTON\n",
    ")\n",
    "\n",
    "display(duck_fsm.to_graphviz())"
   ]
  },
  {
   "cell_type": "markdown",
   "id": "f5693edb",
   "metadata": {},
   "source": [
    "## Et maintenant on s'amuse!"
   ]
  },
  {
   "cell_type": "code",
   "execution_count": null,
   "id": "cec7c6f2",
   "metadata": {},
   "outputs": [],
   "source": [
    "try:\n",
    "    import google.colab\n",
    "    IN_COLAB = True\n",
    "except:\n",
    "    IN_COLAB = False"
   ]
  },
  {
   "cell_type": "code",
   "execution_count": null,
   "id": "a8c7b2fb",
   "metadata": {},
   "outputs": [],
   "source": [
    "from examples.workshop_0.src.duck_game import DuckGame\n",
    "\n",
    "duck_fsm.reset()\n",
    "game = DuckGame(\n",
    "    duck_fsm,\n",
    "    trigger_map={\n",
    "        \"ArrowUp\": \"fleche_haut\",\n",
    "        \"ArrowLeft\": \"fleche_gauche\",\n",
    "        \"ArrowRight\": \"fleche_droite\",\n",
    "    },\n",
    "    release_trigger=\"aucun_bouton\",\n",
    "    goal_trigger=\"arrive\",\n",
    "    hit_trigger=\"collision\",\n",
    "    starting_lane_count=4,\n",
    "    starting_max_obstacles_per_lane=3\n",
    ")\n",
    "if not IN_COLAB:\n",
    "    game.start()"
   ]
  },
  {
   "cell_type": "code",
   "execution_count": null,
   "id": "22658e51",
   "metadata": {},
   "outputs": [],
   "source": [
    "display(game.canvas)\n",
    "\n",
    "if IN_COLAB:\n",
    "    import ipywidgets as W\n",
    "\n",
    "    play = W.Play(interval=1, value=0, min=0, max=10**9, step=1)  # long “infinite” counter\n",
    "    slider = W.IntSlider(min=0, max=10**9, step=1)  # mirror for .observe\n",
    "    W.jslink((play, \"value\"), (slider, \"value\"))\n",
    "\n",
    "    def on_tick(change):\n",
    "        game._draw()\n",
    "\n",
    "    slider.observe(on_tick, names=\"value\")\n",
    "\n",
    "    display(W.HBox([play]))\n",
    "    on_tick({\"new\": 0})"
   ]
  }
 ],
 "metadata": {
  "kernelspec": {
   "display_name": "env",
   "language": "python",
   "name": "python3"
  },
  "language_info": {
   "codemirror_mode": {
    "name": "ipython",
    "version": 3
   },
   "file_extension": ".py",
   "mimetype": "text/x-python",
   "name": "python",
   "nbconvert_exporter": "python",
   "pygments_lexer": "ipython3",
   "version": "3.10.16"
  }
 },
 "nbformat": 4,
 "nbformat_minor": 5
}
