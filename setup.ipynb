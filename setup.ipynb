{
 "cells": [
  {
   "cell_type": "markdown",
   "id": "0dfd81ad",
   "metadata": {},
   "source": [
    "# Setup file for drive and colab \n",
    "Assuming you have a copy of the project's code zip in your drive"
   ]
  },
  {
   "cell_type": "code",
   "execution_count": null,
   "id": "52165574",
   "metadata": {},
   "outputs": [],
   "source": [
    "import os\n",
    "from google.colab import drive\n",
    "drive.mount('/content/drive')\n",
    "os.chdir('drive/MyDrive')\n",
    "!unzip  ai-park.zip"
   ]
  }
 ],
 "metadata": {
  "language_info": {
   "name": "python"
  }
 },
 "nbformat": 4,
 "nbformat_minor": 5
}
